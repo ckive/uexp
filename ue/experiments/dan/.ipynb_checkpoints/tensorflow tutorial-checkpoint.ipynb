{
 "cells": [
  {
   "cell_type": "code",
   "execution_count": 1,
   "id": "4c9d18fd",
   "metadata": {},
   "outputs": [],
   "source": [
    "import tensorflow as tf\n",
    "import pandas as pd\n",
    "import numpy as np"
   ]
  },
  {
   "cell_type": "code",
   "execution_count": 2,
   "id": "36ded14e",
   "metadata": {
    "scrolled": true
   },
   "outputs": [],
   "source": [
    "# from ue.uexp.dataprocessing.processor_binance import BinanceProcessor\n",
    "# ### get data (set config params)\n",
    "# ticker_list = [\"BTCUSDT\"]\n",
    "# start_date = \"2022-02-03\"\n",
    "# end_date = \"2022-02-04\"\n",
    "# time_interval = \"1s\"\n",
    "\n",
    "# p = BinanceProcessor(\"binance\")\n",
    "# df = p.download_data(ticker_list, start_date, end_date, time_interval)"
   ]
  },
  {
   "cell_type": "code",
   "execution_count": 3,
   "id": "b23da160",
   "metadata": {},
   "outputs": [],
   "source": [
    "def stationize(series):\n",
    "    return np.log(series / series.shift(1))"
   ]
  },
  {
   "cell_type": "code",
   "execution_count": 4,
   "id": "c635e8cd",
   "metadata": {},
   "outputs": [],
   "source": [
    "# df.drop('tic', axis=1, inplace=True)\n",
    "# df['log_ret'] = stationize(df['close'])\n",
    "# df.drop([\"open\",\"high\",\"low\", \"volume\"], axis=1, inplace=True)\n",
    "# df.head()"
   ]
  },
  {
   "cell_type": "code",
   "execution_count": 5,
   "id": "21c8a8ff",
   "metadata": {},
   "outputs": [],
   "source": [
    "# df.to_csv('always.csv')"
   ]
  },
  {
   "cell_type": "markdown",
   "id": "86e21e8f",
   "metadata": {},
   "source": [
    "### NOW WE JUST READ IN FROM CSV BRUH"
   ]
  },
  {
   "cell_type": "code",
   "execution_count": 6,
   "id": "79faf946",
   "metadata": {},
   "outputs": [],
   "source": [
    "df = pd.read_csv('always.csv', index_col=0)"
   ]
  },
  {
   "cell_type": "code",
   "execution_count": 7,
   "id": "d76ebf9d",
   "metadata": {},
   "outputs": [
    {
     "data": {
      "text/html": [
       "<div>\n",
       "<style scoped>\n",
       "    .dataframe tbody tr th:only-of-type {\n",
       "        vertical-align: middle;\n",
       "    }\n",
       "\n",
       "    .dataframe tbody tr th {\n",
       "        vertical-align: top;\n",
       "    }\n",
       "\n",
       "    .dataframe thead th {\n",
       "        text-align: right;\n",
       "    }\n",
       "</style>\n",
       "<table border=\"1\" class=\"dataframe\">\n",
       "  <thead>\n",
       "    <tr style=\"text-align: right;\">\n",
       "      <th></th>\n",
       "      <th>close</th>\n",
       "      <th>log_ret</th>\n",
       "    </tr>\n",
       "  </thead>\n",
       "  <tbody>\n",
       "    <tr>\n",
       "      <th>2022-02-03 00:00:00</th>\n",
       "      <td>36902.96</td>\n",
       "      <td>NaN</td>\n",
       "    </tr>\n",
       "    <tr>\n",
       "      <th>2022-02-03 00:00:01</th>\n",
       "      <td>36902.81</td>\n",
       "      <td>-0.000004</td>\n",
       "    </tr>\n",
       "    <tr>\n",
       "      <th>2022-02-03 00:00:02</th>\n",
       "      <td>36899.19</td>\n",
       "      <td>-0.000098</td>\n",
       "    </tr>\n",
       "    <tr>\n",
       "      <th>2022-02-03 00:00:03</th>\n",
       "      <td>36900.54</td>\n",
       "      <td>0.000037</td>\n",
       "    </tr>\n",
       "    <tr>\n",
       "      <th>2022-02-03 00:00:04</th>\n",
       "      <td>36895.62</td>\n",
       "      <td>-0.000133</td>\n",
       "    </tr>\n",
       "    <tr>\n",
       "      <th>...</th>\n",
       "      <td>...</td>\n",
       "      <td>...</td>\n",
       "    </tr>\n",
       "    <tr>\n",
       "      <th>2022-02-04 23:59:55</th>\n",
       "      <td>41545.77</td>\n",
       "      <td>-0.000261</td>\n",
       "    </tr>\n",
       "    <tr>\n",
       "      <th>2022-02-04 23:59:56</th>\n",
       "      <td>41549.21</td>\n",
       "      <td>0.000083</td>\n",
       "    </tr>\n",
       "    <tr>\n",
       "      <th>2022-02-04 23:59:57</th>\n",
       "      <td>41545.98</td>\n",
       "      <td>-0.000078</td>\n",
       "    </tr>\n",
       "    <tr>\n",
       "      <th>2022-02-04 23:59:58</th>\n",
       "      <td>41552.02</td>\n",
       "      <td>0.000145</td>\n",
       "    </tr>\n",
       "    <tr>\n",
       "      <th>2022-02-04 23:59:59</th>\n",
       "      <td>41574.25</td>\n",
       "      <td>0.000535</td>\n",
       "    </tr>\n",
       "  </tbody>\n",
       "</table>\n",
       "<p>172800 rows × 2 columns</p>\n",
       "</div>"
      ],
      "text/plain": [
       "                        close   log_ret\n",
       "2022-02-03 00:00:00  36902.96       NaN\n",
       "2022-02-03 00:00:01  36902.81 -0.000004\n",
       "2022-02-03 00:00:02  36899.19 -0.000098\n",
       "2022-02-03 00:00:03  36900.54  0.000037\n",
       "2022-02-03 00:00:04  36895.62 -0.000133\n",
       "...                       ...       ...\n",
       "2022-02-04 23:59:55  41545.77 -0.000261\n",
       "2022-02-04 23:59:56  41549.21  0.000083\n",
       "2022-02-04 23:59:57  41545.98 -0.000078\n",
       "2022-02-04 23:59:58  41552.02  0.000145\n",
       "2022-02-04 23:59:59  41574.25  0.000535\n",
       "\n",
       "[172800 rows x 2 columns]"
      ]
     },
     "execution_count": 7,
     "metadata": {},
     "output_type": "execute_result"
    }
   ],
   "source": [
    "df"
   ]
  },
  {
   "cell_type": "code",
   "execution_count": 8,
   "id": "4b3ef142",
   "metadata": {},
   "outputs": [],
   "source": [
    "from ue.uexp.models.util import WindowGenerator"
   ]
  },
  {
   "cell_type": "code",
   "execution_count": 9,
   "id": "a87ee886",
   "metadata": {},
   "outputs": [
    {
     "name": "stdout",
     "output_type": "stream",
     "text": [
      "Metal device set to: Apple M1 Pro\n"
     ]
    },
    {
     "name": "stderr",
     "output_type": "stream",
     "text": [
      "2022-02-08 21:44:18.212877: I tensorflow/core/common_runtime/pluggable_device/pluggable_device_factory.cc:305] Could not identify NUMA node of platform GPU ID 0, defaulting to 0. Your kernel may not have been built with NUMA support.\n",
      "2022-02-08 21:44:18.212989: I tensorflow/core/common_runtime/pluggable_device/pluggable_device_factory.cc:271] Created TensorFlow device (/job:localhost/replica:0/task:0/device:GPU:0 with 0 MB memory) -> physical PluggableDevice (device: 0, name: METAL, pci bus id: <undefined>)\n"
     ]
    }
   ],
   "source": [
    "a = WindowGenerator(df)"
   ]
  },
  {
   "cell_type": "code",
   "execution_count": 32,
   "id": "754c4a25",
   "metadata": {},
   "outputs": [],
   "source": [
    "b = next(iter(a.train_ds))"
   ]
  },
  {
   "cell_type": "code",
   "execution_count": 47,
   "id": "885fd247",
   "metadata": {},
   "outputs": [
    {
     "data": {
      "text/plain": [
       "<tf.Tensor: shape=(1, 2), dtype=float32, numpy=array([[37196.54,     0.  ]], dtype=float32)>"
      ]
     },
     "execution_count": 47,
     "metadata": {},
     "output_type": "execute_result"
    }
   ],
   "source": [
    "b[1][1]"
   ]
  },
  {
   "cell_type": "code",
   "execution_count": null,
   "id": "41f91797",
   "metadata": {},
   "outputs": [],
   "source": []
  },
  {
   "cell_type": "code",
   "execution_count": null,
   "id": "02278337",
   "metadata": {},
   "outputs": [],
   "source": []
  },
  {
   "cell_type": "code",
   "execution_count": 23,
   "id": "82f08dd4",
   "metadata": {},
   "outputs": [
    {
     "data": {
      "text/plain": [
       "Total window size: 2\n",
       "Input indices: [0]\n",
       "Label indices: [1]"
      ]
     },
     "execution_count": 23,
     "metadata": {},
     "output_type": "execute_result"
    }
   ],
   "source": [
    "single_step_window = WindowGenerator(df,\n",
    "    back_window=1, forward_window=1, forward_horizon=1,\n",
    "    label_columns=['log_ret'])\n",
    "single_step_window"
   ]
  },
  {
   "cell_type": "code",
   "execution_count": 11,
   "id": "54c4e5ac",
   "metadata": {},
   "outputs": [
    {
     "name": "stdout",
     "output_type": "stream",
     "text": [
      "Inputs shape (batch, time, features): (32, 1, 2)\n",
      "Labels shape (batch, time, features): (32, 1, 1)\n"
     ]
    },
    {
     "name": "stderr",
     "output_type": "stream",
     "text": [
      "2022-02-08 21:44:18.417301: W tensorflow/core/platform/profile_utils/cpu_utils.cc:128] Failed to get CPU frequency: 0 Hz\n"
     ]
    }
   ],
   "source": [
    "for example_inputs, example_labels in single_step_window.train_ds.take(1):\n",
    "  print(f'Inputs shape (batch, time, features): {example_inputs.shape}')\n",
    "  print(f'Labels shape (batch, time, features): {example_labels.shape}')"
   ]
  },
  {
   "cell_type": "markdown",
   "id": "2e269e0a",
   "metadata": {},
   "source": [
    "## MLP"
   ]
  },
  {
   "cell_type": "code",
   "execution_count": 12,
   "id": "e3970fea",
   "metadata": {},
   "outputs": [
    {
     "data": {
      "text/plain": [
       "Total window size: 31\n",
       "Input indices: [ 0  1  2  3  4  5  6  7  8  9 10 11 12 13 14 15 16 17 18 19 20 21 22 23\n",
       " 24 25 26 27 28 29]\n",
       "Label indices: [ 2  3  4  5  6  7  8  9 10 11 12 13 14 15 16 17 18 19 20 21 22 23 24 25\n",
       " 26 27 28 29 30]"
      ]
     },
     "execution_count": 12,
     "metadata": {},
     "output_type": "execute_result"
    }
   ],
   "source": [
    "PAST_VIEW_WINDOW = 30\n",
    "conv_window = WindowGenerator(df, \n",
    "    back_window=PAST_VIEW_WINDOW,\n",
    "    forward_window=60,\n",
    "    forward_horizon=1,\n",
    "    label_columns=['log_ret'])\n",
    "\n",
    "conv_window"
   ]
  },
  {
   "cell_type": "code",
   "execution_count": 13,
   "id": "a1da62f1",
   "metadata": {},
   "outputs": [
    {
     "ename": "AttributeError",
     "evalue": "'WindowGenerator' object has no attribute 'plot'",
     "output_type": "error",
     "traceback": [
      "\u001b[0;31m---------------------------------------------------------------------------\u001b[0m",
      "\u001b[0;31mAttributeError\u001b[0m                            Traceback (most recent call last)",
      "\u001b[0;32m/var/folders/nw/q8c9lcfd38qg_8hw2py9hw840000gn/T/ipykernel_22838/743436654.py\u001b[0m in \u001b[0;36m<module>\u001b[0;34m\u001b[0m\n\u001b[0;32m----> 1\u001b[0;31m \u001b[0mconv_window\u001b[0m\u001b[0;34m.\u001b[0m\u001b[0mplot\u001b[0m\u001b[0;34m(\u001b[0m\u001b[0;34m)\u001b[0m\u001b[0;34m\u001b[0m\u001b[0;34m\u001b[0m\u001b[0m\n\u001b[0m",
      "\u001b[0;31mAttributeError\u001b[0m: 'WindowGenerator' object has no attribute 'plot'"
     ]
    }
   ],
   "source": [
    "conv_window.plot()"
   ]
  },
  {
   "cell_type": "code",
   "execution_count": null,
   "id": "d1e639d5",
   "metadata": {},
   "outputs": [],
   "source": []
  },
  {
   "cell_type": "code",
   "execution_count": null,
   "id": "3b2ffa96",
   "metadata": {},
   "outputs": [],
   "source": []
  },
  {
   "cell_type": "code",
   "execution_count": null,
   "id": "d8d0a709",
   "metadata": {},
   "outputs": [],
   "source": [
    "class Baseline(tf.keras.Model):\n",
    "  def __init__(self, label_index=None):\n",
    "    super().__init__()\n",
    "    self.label_index = label_index\n",
    "\n",
    "  def call(self, inputs):\n",
    "    if self.label_index is None:\n",
    "      return inputs\n",
    "    result = inputs[:, :, self.label_index]\n",
    "    return result[:, :, tf.newaxis]"
   ]
  },
  {
   "cell_type": "code",
   "execution_count": null,
   "id": "34a63046",
   "metadata": {},
   "outputs": [],
   "source": [
    "baseline = Baseline(label_index=df['log_ret'])\n",
    "\n",
    "baseline.compile(loss=tf.losses.MeanSquaredError(),\n",
    "                 metrics=[tf.metrics.MeanAbsoluteError()])\n",
    "\n",
    "val_performance = {}\n",
    "performance = {}\n",
    "val_performance['Baseline'] = baseline.evaluate(single_step_window.val_ds)\n",
    "performance['Baseline'] = baseline.evaluate(single_step_window.test_ds, verbose=0)"
   ]
  },
  {
   "cell_type": "markdown",
   "id": "20d01547",
   "metadata": {},
   "source": [
    "The WindowGenerator has a plot method, but the plots won't be very interesting with only a single sample.\n",
    "\n",
    "So, create **a wider WindowGenerator that generates windows 24 hours of consecutive inputs and labels at a time**. The new wide_window variable doesn't change the way the model operates. The model still makes predictions one hour into the future based on a single input time step. Here, the time axis acts like the batch axis: each prediction is made independently with no interaction between time steps:"
   ]
  },
  {
   "cell_type": "code",
   "execution_count": null,
   "id": "de646659",
   "metadata": {},
   "outputs": [],
   "source": [
    "wide_window = WindowGenerator(df,\n",
    "    back_window=24, forward_window=24, forward_horizon=1,\n",
    "    label_columns=['log_ret'])\n",
    "\n",
    "wide_window"
   ]
  },
  {
   "cell_type": "code",
   "execution_count": null,
   "id": "f216442f",
   "metadata": {},
   "outputs": [],
   "source": [
    "wide_window.plot(baseline)"
   ]
  },
  {
   "cell_type": "code",
   "execution_count": null,
   "id": "2873b4dd",
   "metadata": {},
   "outputs": [],
   "source": []
  }
 ],
 "metadata": {
  "kernelspec": {
   "display_name": "Python 3 (ipykernel)",
   "language": "python",
   "name": "python3"
  },
  "language_info": {
   "codemirror_mode": {
    "name": "ipython",
    "version": 3
   },
   "file_extension": ".py",
   "mimetype": "text/x-python",
   "name": "python",
   "nbconvert_exporter": "python",
   "pygments_lexer": "ipython3",
   "version": "3.9.7"
  }
 },
 "nbformat": 4,
 "nbformat_minor": 5
}
