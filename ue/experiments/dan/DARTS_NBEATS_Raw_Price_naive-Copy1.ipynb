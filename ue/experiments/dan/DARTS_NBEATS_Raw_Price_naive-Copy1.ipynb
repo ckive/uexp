{
 "cells": [
  {
   "cell_type": "code",
   "execution_count": 1,
   "id": "e1d66bba",
   "metadata": {},
   "outputs": [],
   "source": [
    "#======Core============\n",
    "import pandas as pd\n",
    "import numpy as np\n",
    "import matplotlib.pyplot as plt\n",
    "import os\n",
    "# import pytorch_lightning as pl\n",
    "# from pytorch_lightning.callbacks import EarlyStopping\n",
    "import torch\n",
    "#======Darts===========\n",
    "from darts import TimeSeries\n",
    "from darts.dataprocessing.transformers import Scaler\n",
    "from darts.models import NBEATSModel\n",
    "from darts.dataprocessing import Pipeline\n",
    "#======UEXP============\n",
    "from ue.uexp.dataprocessing.processor_binance import BinanceProcessor\n",
    "from ue.uexp.dataprocessing.func import *\n",
    "#from ue.uexp.dataprocessing.ta import *\n",
    "#from ue.uexp.models.util import *\n",
    "#======TA==============\n",
    "from ta.momentum import *\n",
    "from ta.trend import *\n",
    "from ta.volatility import *\n",
    "from ta.wrapper import *\n",
    "import ta\n",
    "\n",
    "import warnings\n",
    "warnings.filterwarnings('ignore')"
   ]
  },
  {
   "cell_type": "markdown",
   "id": "de2973c6",
   "metadata": {},
   "source": [
    "# Data Processing"
   ]
  },
  {
   "cell_type": "code",
   "execution_count": 2,
   "id": "84738e6d",
   "metadata": {},
   "outputs": [],
   "source": [
    "# TODO"
   ]
  },
  {
   "cell_type": "code",
   "execution_count": 3,
   "id": "afb7e060",
   "metadata": {},
   "outputs": [],
   "source": [
    "def py_fc_prep_data(start_date, end_date, interval='1s', tickers=[\"BTCUSDT\"], version=\"full\"):\n",
    "    \"\"\"\n",
    "    using the processor gets data and saves to cache/{fname}.csv, used for forecasting models\n",
    "    \n",
    "    args:\n",
    "        - start_date: str\n",
    "        - end_date: str\n",
    "    \n",
    "    returns:\n",
    "        - dict: {\n",
    "        time_idx:\n",
    "        target\n",
    "        categorical_encoders\n",
    "        group_ids:\n",
    "        time_varying_unknown_reals\n",
    "        }\n",
    "    \"\"\"\n",
    "    data_path = \"{start}-{end}-of-{tics}-{version}-{interval}.csv\".format(\n",
    "        start=start_date,\n",
    "        end=end_date,\n",
    "        tics=\"_\".join(tickers),\n",
    "        version=version,\n",
    "        interval=interval,\n",
    "    )\n",
    "    #check if saved\n",
    "    if os.path.exists(os.path.join(\"cache\",data_path)):\n",
    "        return pd.read_csv(data_path)\n",
    "    \n",
    "    p = BinanceProcessor(\"binance\")\n",
    "    df = p.download_data(tickers, start_date, end_date, interval)\n",
    "    df.columns = [\"Open\",\"High\",\"Low\",\"Close\",\"Volume\", \"Tic\"]\n",
    "    \n",
    "    if version == \"full\":\n",
    "        # see doc for details of full\n",
    "        # https://docs.google.com/document/d/1oo-EgHCVQyvjKiC8cAocfwpZzRHSXDr3YCZJ-agoFv4/edit?usp=sharing\n",
    "        \n",
    "        # Relative Strength Index (RSI)\n",
    "        df[\"momentum_rsi\"] = RSIIndicator(\n",
    "            close=df[\"Close\"], window=14, fillna=True\n",
    "        ).rsi()/100 #scale 0-1\n",
    "        \n",
    "        # Stoch RSIs (StochRSI)\n",
    "        indicator_srsi = StochRSIIndicator(\n",
    "            close=df[\"Close\"], window=14, smooth1=3, smooth2=3, fillna=True\n",
    "        )\n",
    "        df[\"momentum_stoch_rsi\"] = indicator_srsi.stochrsi()\n",
    "        df[\"momentum_stoch_rsi_k\"] = indicator_srsi.stochrsi_k()\n",
    "        df[\"momentum_stoch_rsi_d\"] = indicator_srsi.stochrsi_d()\n",
    "        \n",
    "        # TSI Indicator\n",
    "        df[\"momentum_tsi\"] = TSIIndicator(\n",
    "            close=df[\"Close\"], window_slow=25, window_fast=13, fillna=True\n",
    "        ).tsi()/100 #scale 0-1\n",
    "\n",
    "        # Chaikin Money Flow\n",
    "        df[\"volume_cmf\"] = ChaikinMoneyFlowIndicator(\n",
    "            high=df[\"High\"], low=df[\"Low\"], close=df[\"Close\"], volume=df[\"Volume\"], fillna=True\n",
    "        ).chaikin_money_flow()\n",
    "\n",
    "        # Money Flow Index\n",
    "        df[\"volume_mfi\"] = MFIIndicator(\n",
    "                    high=df[\"High\"], low=df[\"Low\"], close=df[\"Close\"], volume=df[\"Volume\"], fillna=True\n",
    "                ).money_flow_index()/100 #norm to 0-1\n",
    "\n",
    "        # Force Index\n",
    "        df[\"volume_fi\"] = ForceIndexIndicator(\n",
    "            close=df[\"Close\"], volume=df[\"Volume\"], window=13, fillna=True\n",
    "        ).force_index()\n",
    "\n",
    "        # Volume Weighted Average Price\n",
    "        df[\"volume_vwap\"] = VolumeWeightedAveragePrice(\n",
    "            high=df[\"High\"], low=df[\"Low\"], close=df[\"Close\"], volume=df[\"Volume\"], fillna=True,\n",
    "            window=14,\n",
    "        ).volume_weighted_average_price()\n",
    "        \n",
    "        # MACD\n",
    "        indicator_macd = MACD(\n",
    "            close=df[\"Close\"], window_slow=26, window_fast=12, window_sign=9, fillna=True\n",
    "        )\n",
    "        df[\"trend_macd\"] = indicator_macd.macd()\n",
    "        df[\"trend_macd_signal\"] = indicator_macd.macd_signal()\n",
    "        df[\"trend_macd_diff\"] = indicator_macd.macd_diff()\n",
    "\n",
    "        # SMAs\n",
    "        df[\"trend_sma_fast\"] = SMAIndicator(\n",
    "            close=df[\"Close\"], window=12, fillna=True\n",
    "        ).sma_indicator()\n",
    "        df[\"trend_sma_slow\"] = SMAIndicator(\n",
    "            close=df[\"Close\"], window=26, fillna=True\n",
    "        ).sma_indicator()\n",
    "\n",
    "        # EMAs\n",
    "        df[\"trend_ema_fast\"] = EMAIndicator(\n",
    "            close=df[\"Close\"], window=12, fillna=True\n",
    "        ).ema_indicator()\n",
    "        df[\"trend_ema_slow\"] = EMAIndicator(\n",
    "            close=df[\"Close\"], window=26, fillna=True\n",
    "        ).ema_indicator()\n",
    "        \n",
    "        def stationize(series):\n",
    "            return np.log(series / series.shift(1))\n",
    "        \n",
    "        #Turn price into logrets \n",
    "        df['log_ret'] = stationize(df['Close'])\n",
    "        df['log_volume_vwap_ret'] = stationize(df['volume_vwap'])\n",
    "        df['log_trend_sma_slow_ret'] = stationize(df['trend_sma_slow'])\n",
    "        df['log_trend_sma_fast_ret'] = stationize(df['trend_sma_fast'])\n",
    "        df['log_trend_ema_slow_ret'] = stationize(df['trend_ema_slow'])\n",
    "        df['log_trend_ema_fast_ret'] = stationize(df['trend_ema_fast'])\n",
    "        \n",
    "        #Build time_idx, series for all series\n",
    "        df.reset_index(inplace=True)\n",
    "        df.rename(columns={'index':'time'}, inplace=True)\n",
    "        df['time_idx'] = df.index\n",
    "        \n",
    "        #df['series'] = np.NaN #... is this the best way to handle this...?\n",
    "        \n",
    "        #Save to csv\n",
    "        #df.to_csv(os.path.join(\"cache\",data_path))\n",
    "        return df\n",
    "    else:\n",
    "        #default to OHLCV\n",
    "        pass"
   ]
  },
  {
   "cell_type": "code",
   "execution_count": 4,
   "id": "b9c1023b",
   "metadata": {},
   "outputs": [
    {
     "name": "stdout",
     "output_type": "stream",
     "text": [
      "Found 1 symbols\n",
      "[1/1] - start download daily BTCUSDT aggTrades \n",
      "\n",
      "file already exists! ./cache/tick_raw/BTCUSDT-aggTrades-2021-12-29.csv\n",
      "\n",
      "file already exists! ./cache/tick_raw/BTCUSDT-aggTrades-2021-12-30.csv\n",
      "\n",
      "file already exists! ./cache/tick_raw/BTCUSDT-aggTrades-2021-12-31.csv\n"
     ]
    }
   ],
   "source": [
    "### get data (set config params)\n",
    "ticker_list = [\"BTCUSDT\"]\n",
    "start_date = \"2021-12-30\"\n",
    "end_date = \"2021-12-31\"\n",
    "time_interval = \"1s\"\n",
    "\n",
    "p = BinanceProcessor(\"binance\")\n",
    "df = p.download_data(ticker_list, start_date, end_date, time_interval)"
   ]
  },
  {
   "cell_type": "code",
   "execution_count": 5,
   "id": "5b089154",
   "metadata": {},
   "outputs": [],
   "source": [
    "# for non 1m data\n",
    "#df.drop([\"tic\", \"adj_close\"], axis=1, inplace=True)"
   ]
  },
  {
   "cell_type": "code",
   "execution_count": 6,
   "id": "f99e4f4b",
   "metadata": {},
   "outputs": [],
   "source": [
    "df.drop(\"tic\", axis=1, inplace=True)"
   ]
  },
  {
   "cell_type": "code",
   "execution_count": 7,
   "id": "c9330399",
   "metadata": {},
   "outputs": [],
   "source": [
    "df.columns = [\"Open\",\"High\",\"Low\",\"Close\",\"Volume\"]\n"
   ]
  },
  {
   "cell_type": "code",
   "execution_count": 8,
   "id": "4baee85c",
   "metadata": {},
   "outputs": [
    {
     "data": {
      "text/html": [
       "<div>\n",
       "<style scoped>\n",
       "    .dataframe tbody tr th:only-of-type {\n",
       "        vertical-align: middle;\n",
       "    }\n",
       "\n",
       "    .dataframe tbody tr th {\n",
       "        vertical-align: top;\n",
       "    }\n",
       "\n",
       "    .dataframe thead th {\n",
       "        text-align: right;\n",
       "    }\n",
       "</style>\n",
       "<table border=\"1\" class=\"dataframe\">\n",
       "  <thead>\n",
       "    <tr style=\"text-align: right;\">\n",
       "      <th></th>\n",
       "      <th>Open</th>\n",
       "      <th>High</th>\n",
       "      <th>Low</th>\n",
       "      <th>Close</th>\n",
       "      <th>Volume</th>\n",
       "    </tr>\n",
       "  </thead>\n",
       "  <tbody>\n",
       "    <tr>\n",
       "      <th>2021-12-30 00:00:00</th>\n",
       "      <td>46464.66</td>\n",
       "      <td>46467.73</td>\n",
       "      <td>46464.65</td>\n",
       "      <td>46467.73</td>\n",
       "      <td>0.39143</td>\n",
       "    </tr>\n",
       "    <tr>\n",
       "      <th>2021-12-30 00:00:01</th>\n",
       "      <td>46467.73</td>\n",
       "      <td>46471.83</td>\n",
       "      <td>46460.24</td>\n",
       "      <td>46464.33</td>\n",
       "      <td>4.92520</td>\n",
       "    </tr>\n",
       "    <tr>\n",
       "      <th>2021-12-30 00:00:02</th>\n",
       "      <td>46461.29</td>\n",
       "      <td>46461.29</td>\n",
       "      <td>46456.02</td>\n",
       "      <td>46456.03</td>\n",
       "      <td>1.05925</td>\n",
       "    </tr>\n",
       "    <tr>\n",
       "      <th>2021-12-30 00:00:03</th>\n",
       "      <td>46456.02</td>\n",
       "      <td>46456.03</td>\n",
       "      <td>46456.02</td>\n",
       "      <td>46456.03</td>\n",
       "      <td>0.03054</td>\n",
       "    </tr>\n",
       "    <tr>\n",
       "      <th>2021-12-30 00:00:04</th>\n",
       "      <td>46456.02</td>\n",
       "      <td>46456.03</td>\n",
       "      <td>46456.02</td>\n",
       "      <td>46456.02</td>\n",
       "      <td>0.50262</td>\n",
       "    </tr>\n",
       "  </tbody>\n",
       "</table>\n",
       "</div>"
      ],
      "text/plain": [
       "                         Open      High       Low     Close   Volume\n",
       "2021-12-30 00:00:00  46464.66  46467.73  46464.65  46467.73  0.39143\n",
       "2021-12-30 00:00:01  46467.73  46471.83  46460.24  46464.33  4.92520\n",
       "2021-12-30 00:00:02  46461.29  46461.29  46456.02  46456.03  1.05925\n",
       "2021-12-30 00:00:03  46456.02  46456.03  46456.02  46456.03  0.03054\n",
       "2021-12-30 00:00:04  46456.02  46456.03  46456.02  46456.02  0.50262"
      ]
     },
     "execution_count": 8,
     "metadata": {},
     "output_type": "execute_result"
    }
   ],
   "source": [
    "df.head()"
   ]
  },
  {
   "cell_type": "code",
   "execution_count": 9,
   "id": "1ddfec9f",
   "metadata": {},
   "outputs": [],
   "source": [
    "def stationize(series):\n",
    "    return np.log(series / series.shift(1))"
   ]
  },
  {
   "cell_type": "code",
   "execution_count": 10,
   "id": "a5c08be0",
   "metadata": {},
   "outputs": [],
   "source": [
    "# Log return\n",
    "df['log_ret'] = stationize(df['Close'])"
   ]
  },
  {
   "cell_type": "code",
   "execution_count": 11,
   "id": "35623637",
   "metadata": {},
   "outputs": [],
   "source": [
    "# Relative Strength Index (RSI)\n",
    "df[\"momentum_rsi\"] = RSIIndicator(\n",
    "close=df[\"Close\"], window=14, fillna=True\n",
    ").rsi()/100 #scale 0-1\n",
    "\n",
    "# Stoch RSIs (StochRSI)\n",
    "indicator_srsi = StochRSIIndicator(\n",
    "close=df[\"Close\"], window=14, smooth1=3, smooth2=3, fillna=True\n",
    ")\n",
    "df[\"momentum_stoch_rsi\"] = indicator_srsi.stochrsi()"
   ]
  },
  {
   "cell_type": "code",
   "execution_count": 12,
   "id": "264e9cf5",
   "metadata": {},
   "outputs": [],
   "source": [
    "# Money Flow Index\n",
    "df[\"volume_mfi\"] = MFIIndicator(\n",
    "            high=df[\"High\"], low=df[\"Low\"], close=df[\"Close\"], volume=df[\"Volume\"], fillna=True\n",
    "        ).money_flow_index()/100 #norm to 0-1"
   ]
  },
  {
   "cell_type": "code",
   "execution_count": 13,
   "id": "8f0e79d5",
   "metadata": {},
   "outputs": [],
   "source": [
    "# SMAs\n",
    "df[\"trend_sma_fast\"] = SMAIndicator(\n",
    "    close=df[\"Close\"], window=12, fillna=True\n",
    ").sma_indicator()\n",
    "# EMAs\n",
    "df[\"trend_ema_fast\"] = EMAIndicator(\n",
    "    close=df[\"Close\"], window=12, fillna=True\n",
    ").ema_indicator()"
   ]
  },
  {
   "cell_type": "code",
   "execution_count": 14,
   "id": "7116135a",
   "metadata": {},
   "outputs": [],
   "source": [
    "N = 30\n",
    "df.drop(index=df.index[:N], \n",
    "        axis=0, \n",
    "        inplace=True)\n",
    "df.dropna(inplace=True)"
   ]
  },
  {
   "cell_type": "code",
   "execution_count": 15,
   "id": "9be1d09d",
   "metadata": {},
   "outputs": [],
   "source": [
    "# # non 1s specific code\n",
    "# df['Time'] = pd.to_datetime(df['Time'])\n",
    "# df.set_index('Time', inplace=True)"
   ]
  },
  {
   "cell_type": "code",
   "execution_count": 16,
   "id": "f4a105f1",
   "metadata": {},
   "outputs": [],
   "source": [
    "# df.asfreq('min')"
   ]
  },
  {
   "cell_type": "code",
   "execution_count": 17,
   "id": "5a4c4f58",
   "metadata": {},
   "outputs": [
    {
     "data": {
      "text/html": [
       "<div>\n",
       "<style scoped>\n",
       "    .dataframe tbody tr th:only-of-type {\n",
       "        vertical-align: middle;\n",
       "    }\n",
       "\n",
       "    .dataframe tbody tr th {\n",
       "        vertical-align: top;\n",
       "    }\n",
       "\n",
       "    .dataframe thead th {\n",
       "        text-align: right;\n",
       "    }\n",
       "</style>\n",
       "<table border=\"1\" class=\"dataframe\">\n",
       "  <thead>\n",
       "    <tr style=\"text-align: right;\">\n",
       "      <th></th>\n",
       "      <th>Open</th>\n",
       "      <th>High</th>\n",
       "      <th>Low</th>\n",
       "      <th>Close</th>\n",
       "      <th>Volume</th>\n",
       "      <th>log_ret</th>\n",
       "      <th>momentum_rsi</th>\n",
       "      <th>momentum_stoch_rsi</th>\n",
       "      <th>volume_mfi</th>\n",
       "      <th>trend_sma_fast</th>\n",
       "      <th>trend_ema_fast</th>\n",
       "    </tr>\n",
       "  </thead>\n",
       "  <tbody>\n",
       "    <tr>\n",
       "      <th>2021-12-30 00:00:30</th>\n",
       "      <td>46489.34</td>\n",
       "      <td>46491.32</td>\n",
       "      <td>46489.33</td>\n",
       "      <td>46491.32</td>\n",
       "      <td>0.33023</td>\n",
       "      <td>4.258950e-05</td>\n",
       "      <td>0.720308</td>\n",
       "      <td>5.745188e-01</td>\n",
       "      <td>0.842264</td>\n",
       "      <td>46488.235000</td>\n",
       "      <td>46486.750796</td>\n",
       "    </tr>\n",
       "    <tr>\n",
       "      <th>2021-12-30 00:00:31</th>\n",
       "      <td>46491.32</td>\n",
       "      <td>46493.97</td>\n",
       "      <td>46491.31</td>\n",
       "      <td>46491.31</td>\n",
       "      <td>0.50273</td>\n",
       "      <td>-2.150939e-07</td>\n",
       "      <td>0.720075</td>\n",
       "      <td>5.738897e-01</td>\n",
       "      <td>0.848999</td>\n",
       "      <td>46490.484167</td>\n",
       "      <td>46487.452212</td>\n",
       "    </tr>\n",
       "    <tr>\n",
       "      <th>2021-12-30 00:00:32</th>\n",
       "      <td>46491.31</td>\n",
       "      <td>46491.32</td>\n",
       "      <td>46491.31</td>\n",
       "      <td>46491.32</td>\n",
       "      <td>0.16562</td>\n",
       "      <td>2.150939e-07</td>\n",
       "      <td>0.720172</td>\n",
       "      <td>4.113943e-01</td>\n",
       "      <td>0.836165</td>\n",
       "      <td>46491.430000</td>\n",
       "      <td>46488.047256</td>\n",
       "    </tr>\n",
       "    <tr>\n",
       "      <th>2021-12-30 00:00:33</th>\n",
       "      <td>46491.32</td>\n",
       "      <td>46493.96</td>\n",
       "      <td>46491.32</td>\n",
       "      <td>46491.41</td>\n",
       "      <td>0.16494</td>\n",
       "      <td>1.935843e-06</td>\n",
       "      <td>0.721114</td>\n",
       "      <td>1.055475e-01</td>\n",
       "      <td>0.830981</td>\n",
       "      <td>46492.383333</td>\n",
       "      <td>46488.564601</td>\n",
       "    </tr>\n",
       "    <tr>\n",
       "      <th>2021-12-30 00:00:34</th>\n",
       "      <td>46492.43</td>\n",
       "      <td>46492.47</td>\n",
       "      <td>46492.43</td>\n",
       "      <td>46492.47</td>\n",
       "      <td>0.29916</td>\n",
       "      <td>2.279965e-05</td>\n",
       "      <td>0.732532</td>\n",
       "      <td>1.706610e-01</td>\n",
       "      <td>0.656490</td>\n",
       "      <td>46493.424167</td>\n",
       "      <td>46489.165432</td>\n",
       "    </tr>\n",
       "    <tr>\n",
       "      <th>2021-12-30 00:00:35</th>\n",
       "      <td>46492.47</td>\n",
       "      <td>46500.00</td>\n",
       "      <td>46492.47</td>\n",
       "      <td>46494.24</td>\n",
       "      <td>1.41223</td>\n",
       "      <td>3.806996e-05</td>\n",
       "      <td>0.750872</td>\n",
       "      <td>2.752578e-01</td>\n",
       "      <td>0.725291</td>\n",
       "      <td>46493.250833</td>\n",
       "      <td>46489.946135</td>\n",
       "    </tr>\n",
       "    <tr>\n",
       "      <th>2021-12-30 00:00:36</th>\n",
       "      <td>46494.25</td>\n",
       "      <td>46497.97</td>\n",
       "      <td>46494.24</td>\n",
       "      <td>46497.97</td>\n",
       "      <td>0.10976</td>\n",
       "      <td>8.022177e-05</td>\n",
       "      <td>0.784421</td>\n",
       "      <td>4.665834e-01</td>\n",
       "      <td>0.728409</td>\n",
       "      <td>46493.387500</td>\n",
       "      <td>46491.180576</td>\n",
       "    </tr>\n",
       "    <tr>\n",
       "      <th>2021-12-30 00:00:37</th>\n",
       "      <td>46499.97</td>\n",
       "      <td>46500.00</td>\n",
       "      <td>46499.97</td>\n",
       "      <td>46499.99</td>\n",
       "      <td>0.07930</td>\n",
       "      <td>4.344181e-05</td>\n",
       "      <td>0.800119</td>\n",
       "      <td>5.561096e-01</td>\n",
       "      <td>0.713506</td>\n",
       "      <td>46493.693333</td>\n",
       "      <td>46492.535872</td>\n",
       "    </tr>\n",
       "    <tr>\n",
       "      <th>2021-12-30 00:00:38</th>\n",
       "      <td>46499.99</td>\n",
       "      <td>46499.99</td>\n",
       "      <td>46497.81</td>\n",
       "      <td>46497.82</td>\n",
       "      <td>0.36357</td>\n",
       "      <td>-4.666777e-05</td>\n",
       "      <td>0.737952</td>\n",
       "      <td>2.018492e-01</td>\n",
       "      <td>0.554178</td>\n",
       "      <td>46493.930000</td>\n",
       "      <td>46493.348814</td>\n",
       "    </tr>\n",
       "    <tr>\n",
       "      <th>2021-12-30 00:00:39</th>\n",
       "      <td>46497.82</td>\n",
       "      <td>46497.82</td>\n",
       "      <td>46497.81</td>\n",
       "      <td>46497.82</td>\n",
       "      <td>0.26512</td>\n",
       "      <td>0.000000e+00</td>\n",
       "      <td>0.737952</td>\n",
       "      <td>2.496731e-01</td>\n",
       "      <td>0.558277</td>\n",
       "      <td>46494.166667</td>\n",
       "      <td>46494.036689</td>\n",
       "    </tr>\n",
       "    <tr>\n",
       "      <th>2021-12-30 00:00:40</th>\n",
       "      <td>46497.82</td>\n",
       "      <td>46497.82</td>\n",
       "      <td>46495.04</td>\n",
       "      <td>46495.05</td>\n",
       "      <td>0.35948</td>\n",
       "      <td>-5.957446e-05</td>\n",
       "      <td>0.661824</td>\n",
       "      <td>0.000000e+00</td>\n",
       "      <td>0.573407</td>\n",
       "      <td>46494.171667</td>\n",
       "      <td>46494.192583</td>\n",
       "    </tr>\n",
       "    <tr>\n",
       "      <th>2021-12-30 00:00:41</th>\n",
       "      <td>46495.01</td>\n",
       "      <td>46495.01</td>\n",
       "      <td>46491.41</td>\n",
       "      <td>46491.41</td>\n",
       "      <td>0.59879</td>\n",
       "      <td>-7.829097e-05</td>\n",
       "      <td>0.577514</td>\n",
       "      <td>0.000000e+00</td>\n",
       "      <td>0.504087</td>\n",
       "      <td>46494.344167</td>\n",
       "      <td>46493.764493</td>\n",
       "    </tr>\n",
       "    <tr>\n",
       "      <th>2021-12-30 00:00:42</th>\n",
       "      <td>46491.42</td>\n",
       "      <td>46491.42</td>\n",
       "      <td>46491.41</td>\n",
       "      <td>46491.41</td>\n",
       "      <td>0.02651</td>\n",
       "      <td>0.000000e+00</td>\n",
       "      <td>0.577514</td>\n",
       "      <td>3.191943e-16</td>\n",
       "      <td>0.494861</td>\n",
       "      <td>46494.351667</td>\n",
       "      <td>46493.402264</td>\n",
       "    </tr>\n",
       "    <tr>\n",
       "      <th>2021-12-30 00:00:43</th>\n",
       "      <td>46491.42</td>\n",
       "      <td>46497.77</td>\n",
       "      <td>46491.41</td>\n",
       "      <td>46494.99</td>\n",
       "      <td>0.11803</td>\n",
       "      <td>7.700051e-05</td>\n",
       "      <td>0.631116</td>\n",
       "      <td>2.407934e-01</td>\n",
       "      <td>0.560144</td>\n",
       "      <td>46494.658333</td>\n",
       "      <td>46493.646531</td>\n",
       "    </tr>\n",
       "    <tr>\n",
       "      <th>2021-12-30 00:00:44</th>\n",
       "      <td>46495.00</td>\n",
       "      <td>46526.71</td>\n",
       "      <td>46495.00</td>\n",
       "      <td>46515.17</td>\n",
       "      <td>29.97944</td>\n",
       "      <td>4.339311e-04</td>\n",
       "      <td>0.791612</td>\n",
       "      <td>9.617824e-01</td>\n",
       "      <td>0.948366</td>\n",
       "      <td>46496.645833</td>\n",
       "      <td>46496.957834</td>\n",
       "    </tr>\n",
       "    <tr>\n",
       "      <th>2021-12-30 00:00:45</th>\n",
       "      <td>46515.16</td>\n",
       "      <td>46519.06</td>\n",
       "      <td>46515.16</td>\n",
       "      <td>46519.06</td>\n",
       "      <td>0.22061</td>\n",
       "      <td>8.362513e-05</td>\n",
       "      <td>0.808874</td>\n",
       "      <td>1.000000e+00</td>\n",
       "      <td>0.947940</td>\n",
       "      <td>46498.950000</td>\n",
       "      <td>46500.358167</td>\n",
       "    </tr>\n",
       "    <tr>\n",
       "      <th>2021-12-30 00:00:46</th>\n",
       "      <td>46519.06</td>\n",
       "      <td>46521.78</td>\n",
       "      <td>46519.06</td>\n",
       "      <td>46521.78</td>\n",
       "      <td>0.06816</td>\n",
       "      <td>5.846895e-05</td>\n",
       "      <td>0.820096</td>\n",
       "      <td>1.000000e+00</td>\n",
       "      <td>0.952651</td>\n",
       "      <td>46501.392500</td>\n",
       "      <td>46503.653834</td>\n",
       "    </tr>\n",
       "    <tr>\n",
       "      <th>2021-12-30 00:00:47</th>\n",
       "      <td>46521.78</td>\n",
       "      <td>46530.61</td>\n",
       "      <td>46521.78</td>\n",
       "      <td>46530.60</td>\n",
       "      <td>0.51172</td>\n",
       "      <td>1.895706e-04</td>\n",
       "      <td>0.850707</td>\n",
       "      <td>1.000000e+00</td>\n",
       "      <td>0.953128</td>\n",
       "      <td>46504.422500</td>\n",
       "      <td>46507.799398</td>\n",
       "    </tr>\n",
       "    <tr>\n",
       "      <th>2021-12-30 00:00:48</th>\n",
       "      <td>46530.75</td>\n",
       "      <td>46542.50</td>\n",
       "      <td>46530.75</td>\n",
       "      <td>46537.01</td>\n",
       "      <td>1.36431</td>\n",
       "      <td>1.377493e-04</td>\n",
       "      <td>0.868253</td>\n",
       "      <td>1.000000e+00</td>\n",
       "      <td>0.954537</td>\n",
       "      <td>46507.675833</td>\n",
       "      <td>46512.293337</td>\n",
       "    </tr>\n",
       "    <tr>\n",
       "      <th>2021-12-30 00:00:49</th>\n",
       "      <td>46535.23</td>\n",
       "      <td>46537.01</td>\n",
       "      <td>46527.98</td>\n",
       "      <td>46536.28</td>\n",
       "      <td>0.84225</td>\n",
       "      <td>-1.568656e-05</td>\n",
       "      <td>0.855916</td>\n",
       "      <td>9.575678e-01</td>\n",
       "      <td>0.929657</td>\n",
       "      <td>46510.700000</td>\n",
       "      <td>46515.983592</td>\n",
       "    </tr>\n",
       "    <tr>\n",
       "      <th>2021-12-30 00:00:50</th>\n",
       "      <td>46536.28</td>\n",
       "      <td>46536.28</td>\n",
       "      <td>46534.06</td>\n",
       "      <td>46534.06</td>\n",
       "      <td>0.46137</td>\n",
       "      <td>-4.770585e-05</td>\n",
       "      <td>0.817858</td>\n",
       "      <td>8.266671e-01</td>\n",
       "      <td>0.930359</td>\n",
       "      <td>46513.720000</td>\n",
       "      <td>46518.764578</td>\n",
       "    </tr>\n",
       "    <tr>\n",
       "      <th>2021-12-30 00:00:51</th>\n",
       "      <td>46534.07</td>\n",
       "      <td>46534.07</td>\n",
       "      <td>46529.49</td>\n",
       "      <td>46529.49</td>\n",
       "      <td>1.16079</td>\n",
       "      <td>-9.821246e-05</td>\n",
       "      <td>0.744472</td>\n",
       "      <td>5.742565e-01</td>\n",
       "      <td>0.900478</td>\n",
       "      <td>46516.359167</td>\n",
       "      <td>46520.414643</td>\n",
       "    </tr>\n",
       "    <tr>\n",
       "      <th>2021-12-30 00:00:52</th>\n",
       "      <td>46529.49</td>\n",
       "      <td>46542.50</td>\n",
       "      <td>46529.49</td>\n",
       "      <td>46541.54</td>\n",
       "      <td>1.20199</td>\n",
       "      <td>2.589420e-04</td>\n",
       "      <td>0.796359</td>\n",
       "      <td>7.527206e-01</td>\n",
       "      <td>0.912500</td>\n",
       "      <td>46520.233333</td>\n",
       "      <td>46523.664698</td>\n",
       "    </tr>\n",
       "    <tr>\n",
       "      <th>2021-12-30 00:00:53</th>\n",
       "      <td>46535.14</td>\n",
       "      <td>46535.14</td>\n",
       "      <td>46519.68</td>\n",
       "      <td>46520.83</td>\n",
       "      <td>0.54892</td>\n",
       "      <td>-4.450779e-04</td>\n",
       "      <td>0.578820</td>\n",
       "      <td>4.492147e-03</td>\n",
       "      <td>0.905582</td>\n",
       "      <td>46522.685000</td>\n",
       "      <td>46523.228591</td>\n",
       "    </tr>\n",
       "    <tr>\n",
       "      <th>2021-12-30 00:00:54</th>\n",
       "      <td>46520.82</td>\n",
       "      <td>46525.97</td>\n",
       "      <td>46520.01</td>\n",
       "      <td>46520.01</td>\n",
       "      <td>0.23377</td>\n",
       "      <td>-1.762667e-05</td>\n",
       "      <td>0.572155</td>\n",
       "      <td>0.000000e+00</td>\n",
       "      <td>0.908626</td>\n",
       "      <td>46525.068333</td>\n",
       "      <td>46522.733423</td>\n",
       "    </tr>\n",
       "    <tr>\n",
       "      <th>2021-12-30 00:00:55</th>\n",
       "      <td>46520.01</td>\n",
       "      <td>46534.08</td>\n",
       "      <td>46520.00</td>\n",
       "      <td>46527.04</td>\n",
       "      <td>0.19056</td>\n",
       "      <td>1.511063e-04</td>\n",
       "      <td>0.613266</td>\n",
       "      <td>1.388422e-01</td>\n",
       "      <td>0.923824</td>\n",
       "      <td>46527.739167</td>\n",
       "      <td>46523.395973</td>\n",
       "    </tr>\n",
       "    <tr>\n",
       "      <th>2021-12-30 00:00:56</th>\n",
       "      <td>46531.72</td>\n",
       "      <td>46531.73</td>\n",
       "      <td>46520.01</td>\n",
       "      <td>46520.01</td>\n",
       "      <td>0.44292</td>\n",
       "      <td>-1.511063e-04</td>\n",
       "      <td>0.555757</td>\n",
       "      <td>0.000000e+00</td>\n",
       "      <td>0.913521</td>\n",
       "      <td>46528.142500</td>\n",
       "      <td>46522.875054</td>\n",
       "    </tr>\n",
       "    <tr>\n",
       "      <th>2021-12-30 00:00:57</th>\n",
       "      <td>46520.00</td>\n",
       "      <td>46526.38</td>\n",
       "      <td>46520.00</td>\n",
       "      <td>46522.84</td>\n",
       "      <td>0.51000</td>\n",
       "      <td>6.083219e-05</td>\n",
       "      <td>0.573112</td>\n",
       "      <td>5.553618e-02</td>\n",
       "      <td>0.900903</td>\n",
       "      <td>46528.457500</td>\n",
       "      <td>46522.869661</td>\n",
       "    </tr>\n",
       "    <tr>\n",
       "      <th>2021-12-30 00:00:58</th>\n",
       "      <td>46522.84</td>\n",
       "      <td>46540.45</td>\n",
       "      <td>46522.84</td>\n",
       "      <td>46532.65</td>\n",
       "      <td>0.29384</td>\n",
       "      <td>2.108419e-04</td>\n",
       "      <td>0.627444</td>\n",
       "      <td>2.294020e-01</td>\n",
       "      <td>0.535671</td>\n",
       "      <td>46529.363333</td>\n",
       "      <td>46524.374329</td>\n",
       "    </tr>\n",
       "    <tr>\n",
       "      <th>2021-12-30 00:00:59</th>\n",
       "      <td>46532.65</td>\n",
       "      <td>46537.15</td>\n",
       "      <td>46529.71</td>\n",
       "      <td>46532.22</td>\n",
       "      <td>0.30009</td>\n",
       "      <td>-9.240866e-06</td>\n",
       "      <td>0.623697</td>\n",
       "      <td>2.174109e-01</td>\n",
       "      <td>0.540214</td>\n",
       "      <td>46529.498333</td>\n",
       "      <td>46525.581355</td>\n",
       "    </tr>\n",
       "    <tr>\n",
       "      <th>2021-12-30 00:01:00</th>\n",
       "      <td>46532.22</td>\n",
       "      <td>46536.77</td>\n",
       "      <td>46530.60</td>\n",
       "      <td>46531.85</td>\n",
       "      <td>1.67158</td>\n",
       "      <td>-7.951511e-06</td>\n",
       "      <td>0.620264</td>\n",
       "      <td>2.064265e-01</td>\n",
       "      <td>0.615953</td>\n",
       "      <td>46529.068333</td>\n",
       "      <td>46526.545762</td>\n",
       "    </tr>\n",
       "    <tr>\n",
       "      <th>2021-12-30 00:01:01</th>\n",
       "      <td>46531.83</td>\n",
       "      <td>46531.83</td>\n",
       "      <td>46527.44</td>\n",
       "      <td>46527.44</td>\n",
       "      <td>0.14050</td>\n",
       "      <td>-9.477829e-05</td>\n",
       "      <td>0.579338</td>\n",
       "      <td>7.546088e-02</td>\n",
       "      <td>0.585723</td>\n",
       "      <td>46528.331667</td>\n",
       "      <td>46526.683337</td>\n",
       "    </tr>\n",
       "    <tr>\n",
       "      <th>2021-12-30 00:01:02</th>\n",
       "      <td>46529.34</td>\n",
       "      <td>46529.34</td>\n",
       "      <td>46520.00</td>\n",
       "      <td>46520.77</td>\n",
       "      <td>3.32132</td>\n",
       "      <td>-1.433665e-04</td>\n",
       "      <td>0.523117</td>\n",
       "      <td>0.000000e+00</td>\n",
       "      <td>0.363952</td>\n",
       "      <td>46527.224167</td>\n",
       "      <td>46525.773593</td>\n",
       "    </tr>\n",
       "    <tr>\n",
       "      <th>2021-12-30 00:01:03</th>\n",
       "      <td>46520.78</td>\n",
       "      <td>46520.78</td>\n",
       "      <td>46510.42</td>\n",
       "      <td>46511.53</td>\n",
       "      <td>4.93460</td>\n",
       "      <td>-1.986407e-04</td>\n",
       "      <td>0.456961</td>\n",
       "      <td>0.000000e+00</td>\n",
       "      <td>0.267342</td>\n",
       "      <td>46525.727500</td>\n",
       "      <td>46523.582271</td>\n",
       "    </tr>\n",
       "    <tr>\n",
       "      <th>2021-12-30 00:01:04</th>\n",
       "      <td>46510.42</td>\n",
       "      <td>46531.63</td>\n",
       "      <td>46507.64</td>\n",
       "      <td>46526.91</td>\n",
       "      <td>3.27244</td>\n",
       "      <td>3.306160e-04</td>\n",
       "      <td>0.557315</td>\n",
       "      <td>2.956843e-01</td>\n",
       "      <td>0.380351</td>\n",
       "      <td>46524.508333</td>\n",
       "      <td>46524.094229</td>\n",
       "    </tr>\n",
       "    <tr>\n",
       "      <th>2021-12-30 00:01:05</th>\n",
       "      <td>46522.91</td>\n",
       "      <td>46522.91</td>\n",
       "      <td>46515.93</td>\n",
       "      <td>46519.04</td>\n",
       "      <td>0.54540</td>\n",
       "      <td>-1.691637e-04</td>\n",
       "      <td>0.505805</td>\n",
       "      <td>1.439152e-01</td>\n",
       "      <td>0.393649</td>\n",
       "      <td>46524.359167</td>\n",
       "      <td>46523.316656</td>\n",
       "    </tr>\n",
       "    <tr>\n",
       "      <th>2021-12-30 00:01:06</th>\n",
       "      <td>46519.04</td>\n",
       "      <td>46520.12</td>\n",
       "      <td>46514.80</td>\n",
       "      <td>46514.80</td>\n",
       "      <td>0.86663</td>\n",
       "      <td>-9.114963e-05</td>\n",
       "      <td>0.480062</td>\n",
       "      <td>1.355042e-01</td>\n",
       "      <td>0.331690</td>\n",
       "      <td>46523.925000</td>\n",
       "      <td>46522.006401</td>\n",
       "    </tr>\n",
       "    <tr>\n",
       "      <th>2021-12-30 00:01:07</th>\n",
       "      <td>46514.80</td>\n",
       "      <td>46522.95</td>\n",
       "      <td>46512.93</td>\n",
       "      <td>46512.93</td>\n",
       "      <td>1.33100</td>\n",
       "      <td>-4.020307e-05</td>\n",
       "      <td>0.468731</td>\n",
       "      <td>6.904054e-02</td>\n",
       "      <td>0.317325</td>\n",
       "      <td>46522.749167</td>\n",
       "      <td>46520.610031</td>\n",
       "    </tr>\n",
       "    <tr>\n",
       "      <th>2021-12-30 00:01:08</th>\n",
       "      <td>46512.23</td>\n",
       "      <td>46516.52</td>\n",
       "      <td>46512.23</td>\n",
       "      <td>46516.51</td>\n",
       "      <td>0.78601</td>\n",
       "      <td>7.696488e-05</td>\n",
       "      <td>0.493384</td>\n",
       "      <td>2.136483e-01</td>\n",
       "      <td>0.307909</td>\n",
       "      <td>46522.457500</td>\n",
       "      <td>46519.979257</td>\n",
       "    </tr>\n",
       "    <tr>\n",
       "      <th>2021-12-30 00:01:09</th>\n",
       "      <td>46516.51</td>\n",
       "      <td>46534.32</td>\n",
       "      <td>46516.51</td>\n",
       "      <td>46524.96</td>\n",
       "      <td>0.56503</td>\n",
       "      <td>1.816394e-04</td>\n",
       "      <td>0.546837</td>\n",
       "      <td>5.271861e-01</td>\n",
       "      <td>0.321564</td>\n",
       "      <td>46522.634167</td>\n",
       "      <td>46520.745525</td>\n",
       "    </tr>\n",
       "    <tr>\n",
       "      <th>2021-12-30 00:01:10</th>\n",
       "      <td>46524.96</td>\n",
       "      <td>46524.97</td>\n",
       "      <td>46520.37</td>\n",
       "      <td>46524.96</td>\n",
       "      <td>0.15700</td>\n",
       "      <td>0.000000e+00</td>\n",
       "      <td>0.546837</td>\n",
       "      <td>5.271861e-01</td>\n",
       "      <td>0.326482</td>\n",
       "      <td>46521.993333</td>\n",
       "      <td>46521.393906</td>\n",
       "    </tr>\n",
       "    <tr>\n",
       "      <th>2021-12-30 00:01:11</th>\n",
       "      <td>46524.96</td>\n",
       "      <td>46524.97</td>\n",
       "      <td>46516.52</td>\n",
       "      <td>46516.53</td>\n",
       "      <td>0.33715</td>\n",
       "      <td>-1.812095e-04</td>\n",
       "      <td>0.487344</td>\n",
       "      <td>1.782171e-01</td>\n",
       "      <td>0.329529</td>\n",
       "      <td>46520.685833</td>\n",
       "      <td>46520.645613</td>\n",
       "    </tr>\n",
       "    <tr>\n",
       "      <th>2021-12-30 00:01:12</th>\n",
       "      <td>46516.53</td>\n",
       "      <td>46523.68</td>\n",
       "      <td>46514.30</td>\n",
       "      <td>46514.31</td>\n",
       "      <td>0.15052</td>\n",
       "      <td>-4.772611e-05</td>\n",
       "      <td>0.472757</td>\n",
       "      <td>9.473821e-02</td>\n",
       "      <td>0.316109</td>\n",
       "      <td>46519.224167</td>\n",
       "      <td>46519.670903</td>\n",
       "    </tr>\n",
       "    <tr>\n",
       "      <th>2021-12-30 00:01:13</th>\n",
       "      <td>46514.31</td>\n",
       "      <td>46514.31</td>\n",
       "      <td>46514.30</td>\n",
       "      <td>46514.31</td>\n",
       "      <td>0.59232</td>\n",
       "      <td>0.000000e+00</td>\n",
       "      <td>0.472757</td>\n",
       "      <td>9.672958e-02</td>\n",
       "      <td>0.295088</td>\n",
       "      <td>46518.130000</td>\n",
       "      <td>46518.846149</td>\n",
       "    </tr>\n",
       "    <tr>\n",
       "      <th>2021-12-30 00:01:14</th>\n",
       "      <td>46514.31</td>\n",
       "      <td>46514.31</td>\n",
       "      <td>46514.30</td>\n",
       "      <td>46514.31</td>\n",
       "      <td>0.22772</td>\n",
       "      <td>0.000000e+00</td>\n",
       "      <td>0.472757</td>\n",
       "      <td>1.290785e-01</td>\n",
       "      <td>0.225753</td>\n",
       "      <td>46517.591667</td>\n",
       "      <td>46518.148280</td>\n",
       "    </tr>\n",
       "    <tr>\n",
       "      <th>2021-12-30 00:01:15</th>\n",
       "      <td>46514.31</td>\n",
       "      <td>46525.89</td>\n",
       "      <td>46514.31</td>\n",
       "      <td>46520.95</td>\n",
       "      <td>0.16112</td>\n",
       "      <td>1.427416e-04</td>\n",
       "      <td>0.525781</td>\n",
       "      <td>6.857689e-01</td>\n",
       "      <td>0.234947</td>\n",
       "      <td>46518.376667</td>\n",
       "      <td>46518.579314</td>\n",
       "    </tr>\n",
       "    <tr>\n",
       "      <th>2021-12-30 00:01:16</th>\n",
       "      <td>46520.96</td>\n",
       "      <td>46525.96</td>\n",
       "      <td>46520.94</td>\n",
       "      <td>46523.33</td>\n",
       "      <td>0.79624</td>\n",
       "      <td>5.115844e-05</td>\n",
       "      <td>0.543502</td>\n",
       "      <td>8.623545e-01</td>\n",
       "      <td>0.330815</td>\n",
       "      <td>46518.078333</td>\n",
       "      <td>46519.310189</td>\n",
       "    </tr>\n",
       "    <tr>\n",
       "      <th>2021-12-30 00:01:17</th>\n",
       "      <td>46525.97</td>\n",
       "      <td>46535.66</td>\n",
       "      <td>46525.96</td>\n",
       "      <td>46535.66</td>\n",
       "      <td>0.26625</td>\n",
       "      <td>2.649932e-04</td>\n",
       "      <td>0.622257</td>\n",
       "      <td>1.000000e+00</td>\n",
       "      <td>0.515046</td>\n",
       "      <td>46519.463333</td>\n",
       "      <td>46521.825544</td>\n",
       "    </tr>\n",
       "    <tr>\n",
       "      <th>2021-12-30 00:01:18</th>\n",
       "      <td>46535.67</td>\n",
       "      <td>46542.29</td>\n",
       "      <td>46530.95</td>\n",
       "      <td>46539.82</td>\n",
       "      <td>1.48382</td>\n",
       "      <td>8.938982e-05</td>\n",
       "      <td>0.644539</td>\n",
       "      <td>1.000000e+00</td>\n",
       "      <td>0.407172</td>\n",
       "      <td>46521.548333</td>\n",
       "      <td>46524.593922</td>\n",
       "    </tr>\n",
       "    <tr>\n",
       "      <th>2021-12-30 00:01:19</th>\n",
       "      <td>46535.98</td>\n",
       "      <td>46542.49</td>\n",
       "      <td>46535.98</td>\n",
       "      <td>46539.80</td>\n",
       "      <td>1.08943</td>\n",
       "      <td>-4.297396e-07</td>\n",
       "      <td>0.644342</td>\n",
       "      <td>9.988807e-01</td>\n",
       "      <td>0.508318</td>\n",
       "      <td>46523.787500</td>\n",
       "      <td>46526.933319</td>\n",
       "    </tr>\n",
       "  </tbody>\n",
       "</table>\n",
       "</div>"
      ],
      "text/plain": [
       "                         Open      High       Low     Close    Volume  \\\n",
       "2021-12-30 00:00:30  46489.34  46491.32  46489.33  46491.32   0.33023   \n",
       "2021-12-30 00:00:31  46491.32  46493.97  46491.31  46491.31   0.50273   \n",
       "2021-12-30 00:00:32  46491.31  46491.32  46491.31  46491.32   0.16562   \n",
       "2021-12-30 00:00:33  46491.32  46493.96  46491.32  46491.41   0.16494   \n",
       "2021-12-30 00:00:34  46492.43  46492.47  46492.43  46492.47   0.29916   \n",
       "2021-12-30 00:00:35  46492.47  46500.00  46492.47  46494.24   1.41223   \n",
       "2021-12-30 00:00:36  46494.25  46497.97  46494.24  46497.97   0.10976   \n",
       "2021-12-30 00:00:37  46499.97  46500.00  46499.97  46499.99   0.07930   \n",
       "2021-12-30 00:00:38  46499.99  46499.99  46497.81  46497.82   0.36357   \n",
       "2021-12-30 00:00:39  46497.82  46497.82  46497.81  46497.82   0.26512   \n",
       "2021-12-30 00:00:40  46497.82  46497.82  46495.04  46495.05   0.35948   \n",
       "2021-12-30 00:00:41  46495.01  46495.01  46491.41  46491.41   0.59879   \n",
       "2021-12-30 00:00:42  46491.42  46491.42  46491.41  46491.41   0.02651   \n",
       "2021-12-30 00:00:43  46491.42  46497.77  46491.41  46494.99   0.11803   \n",
       "2021-12-30 00:00:44  46495.00  46526.71  46495.00  46515.17  29.97944   \n",
       "2021-12-30 00:00:45  46515.16  46519.06  46515.16  46519.06   0.22061   \n",
       "2021-12-30 00:00:46  46519.06  46521.78  46519.06  46521.78   0.06816   \n",
       "2021-12-30 00:00:47  46521.78  46530.61  46521.78  46530.60   0.51172   \n",
       "2021-12-30 00:00:48  46530.75  46542.50  46530.75  46537.01   1.36431   \n",
       "2021-12-30 00:00:49  46535.23  46537.01  46527.98  46536.28   0.84225   \n",
       "2021-12-30 00:00:50  46536.28  46536.28  46534.06  46534.06   0.46137   \n",
       "2021-12-30 00:00:51  46534.07  46534.07  46529.49  46529.49   1.16079   \n",
       "2021-12-30 00:00:52  46529.49  46542.50  46529.49  46541.54   1.20199   \n",
       "2021-12-30 00:00:53  46535.14  46535.14  46519.68  46520.83   0.54892   \n",
       "2021-12-30 00:00:54  46520.82  46525.97  46520.01  46520.01   0.23377   \n",
       "2021-12-30 00:00:55  46520.01  46534.08  46520.00  46527.04   0.19056   \n",
       "2021-12-30 00:00:56  46531.72  46531.73  46520.01  46520.01   0.44292   \n",
       "2021-12-30 00:00:57  46520.00  46526.38  46520.00  46522.84   0.51000   \n",
       "2021-12-30 00:00:58  46522.84  46540.45  46522.84  46532.65   0.29384   \n",
       "2021-12-30 00:00:59  46532.65  46537.15  46529.71  46532.22   0.30009   \n",
       "2021-12-30 00:01:00  46532.22  46536.77  46530.60  46531.85   1.67158   \n",
       "2021-12-30 00:01:01  46531.83  46531.83  46527.44  46527.44   0.14050   \n",
       "2021-12-30 00:01:02  46529.34  46529.34  46520.00  46520.77   3.32132   \n",
       "2021-12-30 00:01:03  46520.78  46520.78  46510.42  46511.53   4.93460   \n",
       "2021-12-30 00:01:04  46510.42  46531.63  46507.64  46526.91   3.27244   \n",
       "2021-12-30 00:01:05  46522.91  46522.91  46515.93  46519.04   0.54540   \n",
       "2021-12-30 00:01:06  46519.04  46520.12  46514.80  46514.80   0.86663   \n",
       "2021-12-30 00:01:07  46514.80  46522.95  46512.93  46512.93   1.33100   \n",
       "2021-12-30 00:01:08  46512.23  46516.52  46512.23  46516.51   0.78601   \n",
       "2021-12-30 00:01:09  46516.51  46534.32  46516.51  46524.96   0.56503   \n",
       "2021-12-30 00:01:10  46524.96  46524.97  46520.37  46524.96   0.15700   \n",
       "2021-12-30 00:01:11  46524.96  46524.97  46516.52  46516.53   0.33715   \n",
       "2021-12-30 00:01:12  46516.53  46523.68  46514.30  46514.31   0.15052   \n",
       "2021-12-30 00:01:13  46514.31  46514.31  46514.30  46514.31   0.59232   \n",
       "2021-12-30 00:01:14  46514.31  46514.31  46514.30  46514.31   0.22772   \n",
       "2021-12-30 00:01:15  46514.31  46525.89  46514.31  46520.95   0.16112   \n",
       "2021-12-30 00:01:16  46520.96  46525.96  46520.94  46523.33   0.79624   \n",
       "2021-12-30 00:01:17  46525.97  46535.66  46525.96  46535.66   0.26625   \n",
       "2021-12-30 00:01:18  46535.67  46542.29  46530.95  46539.82   1.48382   \n",
       "2021-12-30 00:01:19  46535.98  46542.49  46535.98  46539.80   1.08943   \n",
       "\n",
       "                          log_ret  momentum_rsi  momentum_stoch_rsi  \\\n",
       "2021-12-30 00:00:30  4.258950e-05      0.720308        5.745188e-01   \n",
       "2021-12-30 00:00:31 -2.150939e-07      0.720075        5.738897e-01   \n",
       "2021-12-30 00:00:32  2.150939e-07      0.720172        4.113943e-01   \n",
       "2021-12-30 00:00:33  1.935843e-06      0.721114        1.055475e-01   \n",
       "2021-12-30 00:00:34  2.279965e-05      0.732532        1.706610e-01   \n",
       "2021-12-30 00:00:35  3.806996e-05      0.750872        2.752578e-01   \n",
       "2021-12-30 00:00:36  8.022177e-05      0.784421        4.665834e-01   \n",
       "2021-12-30 00:00:37  4.344181e-05      0.800119        5.561096e-01   \n",
       "2021-12-30 00:00:38 -4.666777e-05      0.737952        2.018492e-01   \n",
       "2021-12-30 00:00:39  0.000000e+00      0.737952        2.496731e-01   \n",
       "2021-12-30 00:00:40 -5.957446e-05      0.661824        0.000000e+00   \n",
       "2021-12-30 00:00:41 -7.829097e-05      0.577514        0.000000e+00   \n",
       "2021-12-30 00:00:42  0.000000e+00      0.577514        3.191943e-16   \n",
       "2021-12-30 00:00:43  7.700051e-05      0.631116        2.407934e-01   \n",
       "2021-12-30 00:00:44  4.339311e-04      0.791612        9.617824e-01   \n",
       "2021-12-30 00:00:45  8.362513e-05      0.808874        1.000000e+00   \n",
       "2021-12-30 00:00:46  5.846895e-05      0.820096        1.000000e+00   \n",
       "2021-12-30 00:00:47  1.895706e-04      0.850707        1.000000e+00   \n",
       "2021-12-30 00:00:48  1.377493e-04      0.868253        1.000000e+00   \n",
       "2021-12-30 00:00:49 -1.568656e-05      0.855916        9.575678e-01   \n",
       "2021-12-30 00:00:50 -4.770585e-05      0.817858        8.266671e-01   \n",
       "2021-12-30 00:00:51 -9.821246e-05      0.744472        5.742565e-01   \n",
       "2021-12-30 00:00:52  2.589420e-04      0.796359        7.527206e-01   \n",
       "2021-12-30 00:00:53 -4.450779e-04      0.578820        4.492147e-03   \n",
       "2021-12-30 00:00:54 -1.762667e-05      0.572155        0.000000e+00   \n",
       "2021-12-30 00:00:55  1.511063e-04      0.613266        1.388422e-01   \n",
       "2021-12-30 00:00:56 -1.511063e-04      0.555757        0.000000e+00   \n",
       "2021-12-30 00:00:57  6.083219e-05      0.573112        5.553618e-02   \n",
       "2021-12-30 00:00:58  2.108419e-04      0.627444        2.294020e-01   \n",
       "2021-12-30 00:00:59 -9.240866e-06      0.623697        2.174109e-01   \n",
       "2021-12-30 00:01:00 -7.951511e-06      0.620264        2.064265e-01   \n",
       "2021-12-30 00:01:01 -9.477829e-05      0.579338        7.546088e-02   \n",
       "2021-12-30 00:01:02 -1.433665e-04      0.523117        0.000000e+00   \n",
       "2021-12-30 00:01:03 -1.986407e-04      0.456961        0.000000e+00   \n",
       "2021-12-30 00:01:04  3.306160e-04      0.557315        2.956843e-01   \n",
       "2021-12-30 00:01:05 -1.691637e-04      0.505805        1.439152e-01   \n",
       "2021-12-30 00:01:06 -9.114963e-05      0.480062        1.355042e-01   \n",
       "2021-12-30 00:01:07 -4.020307e-05      0.468731        6.904054e-02   \n",
       "2021-12-30 00:01:08  7.696488e-05      0.493384        2.136483e-01   \n",
       "2021-12-30 00:01:09  1.816394e-04      0.546837        5.271861e-01   \n",
       "2021-12-30 00:01:10  0.000000e+00      0.546837        5.271861e-01   \n",
       "2021-12-30 00:01:11 -1.812095e-04      0.487344        1.782171e-01   \n",
       "2021-12-30 00:01:12 -4.772611e-05      0.472757        9.473821e-02   \n",
       "2021-12-30 00:01:13  0.000000e+00      0.472757        9.672958e-02   \n",
       "2021-12-30 00:01:14  0.000000e+00      0.472757        1.290785e-01   \n",
       "2021-12-30 00:01:15  1.427416e-04      0.525781        6.857689e-01   \n",
       "2021-12-30 00:01:16  5.115844e-05      0.543502        8.623545e-01   \n",
       "2021-12-30 00:01:17  2.649932e-04      0.622257        1.000000e+00   \n",
       "2021-12-30 00:01:18  8.938982e-05      0.644539        1.000000e+00   \n",
       "2021-12-30 00:01:19 -4.297396e-07      0.644342        9.988807e-01   \n",
       "\n",
       "                     volume_mfi  trend_sma_fast  trend_ema_fast  \n",
       "2021-12-30 00:00:30    0.842264    46488.235000    46486.750796  \n",
       "2021-12-30 00:00:31    0.848999    46490.484167    46487.452212  \n",
       "2021-12-30 00:00:32    0.836165    46491.430000    46488.047256  \n",
       "2021-12-30 00:00:33    0.830981    46492.383333    46488.564601  \n",
       "2021-12-30 00:00:34    0.656490    46493.424167    46489.165432  \n",
       "2021-12-30 00:00:35    0.725291    46493.250833    46489.946135  \n",
       "2021-12-30 00:00:36    0.728409    46493.387500    46491.180576  \n",
       "2021-12-30 00:00:37    0.713506    46493.693333    46492.535872  \n",
       "2021-12-30 00:00:38    0.554178    46493.930000    46493.348814  \n",
       "2021-12-30 00:00:39    0.558277    46494.166667    46494.036689  \n",
       "2021-12-30 00:00:40    0.573407    46494.171667    46494.192583  \n",
       "2021-12-30 00:00:41    0.504087    46494.344167    46493.764493  \n",
       "2021-12-30 00:00:42    0.494861    46494.351667    46493.402264  \n",
       "2021-12-30 00:00:43    0.560144    46494.658333    46493.646531  \n",
       "2021-12-30 00:00:44    0.948366    46496.645833    46496.957834  \n",
       "2021-12-30 00:00:45    0.947940    46498.950000    46500.358167  \n",
       "2021-12-30 00:00:46    0.952651    46501.392500    46503.653834  \n",
       "2021-12-30 00:00:47    0.953128    46504.422500    46507.799398  \n",
       "2021-12-30 00:00:48    0.954537    46507.675833    46512.293337  \n",
       "2021-12-30 00:00:49    0.929657    46510.700000    46515.983592  \n",
       "2021-12-30 00:00:50    0.930359    46513.720000    46518.764578  \n",
       "2021-12-30 00:00:51    0.900478    46516.359167    46520.414643  \n",
       "2021-12-30 00:00:52    0.912500    46520.233333    46523.664698  \n",
       "2021-12-30 00:00:53    0.905582    46522.685000    46523.228591  \n",
       "2021-12-30 00:00:54    0.908626    46525.068333    46522.733423  \n",
       "2021-12-30 00:00:55    0.923824    46527.739167    46523.395973  \n",
       "2021-12-30 00:00:56    0.913521    46528.142500    46522.875054  \n",
       "2021-12-30 00:00:57    0.900903    46528.457500    46522.869661  \n",
       "2021-12-30 00:00:58    0.535671    46529.363333    46524.374329  \n",
       "2021-12-30 00:00:59    0.540214    46529.498333    46525.581355  \n",
       "2021-12-30 00:01:00    0.615953    46529.068333    46526.545762  \n",
       "2021-12-30 00:01:01    0.585723    46528.331667    46526.683337  \n",
       "2021-12-30 00:01:02    0.363952    46527.224167    46525.773593  \n",
       "2021-12-30 00:01:03    0.267342    46525.727500    46523.582271  \n",
       "2021-12-30 00:01:04    0.380351    46524.508333    46524.094229  \n",
       "2021-12-30 00:01:05    0.393649    46524.359167    46523.316656  \n",
       "2021-12-30 00:01:06    0.331690    46523.925000    46522.006401  \n",
       "2021-12-30 00:01:07    0.317325    46522.749167    46520.610031  \n",
       "2021-12-30 00:01:08    0.307909    46522.457500    46519.979257  \n",
       "2021-12-30 00:01:09    0.321564    46522.634167    46520.745525  \n",
       "2021-12-30 00:01:10    0.326482    46521.993333    46521.393906  \n",
       "2021-12-30 00:01:11    0.329529    46520.685833    46520.645613  \n",
       "2021-12-30 00:01:12    0.316109    46519.224167    46519.670903  \n",
       "2021-12-30 00:01:13    0.295088    46518.130000    46518.846149  \n",
       "2021-12-30 00:01:14    0.225753    46517.591667    46518.148280  \n",
       "2021-12-30 00:01:15    0.234947    46518.376667    46518.579314  \n",
       "2021-12-30 00:01:16    0.330815    46518.078333    46519.310189  \n",
       "2021-12-30 00:01:17    0.515046    46519.463333    46521.825544  \n",
       "2021-12-30 00:01:18    0.407172    46521.548333    46524.593922  \n",
       "2021-12-30 00:01:19    0.508318    46523.787500    46526.933319  "
      ]
     },
     "execution_count": 17,
     "metadata": {},
     "output_type": "execute_result"
    }
   ],
   "source": [
    "df.head(50)"
   ]
  },
  {
   "cell_type": "code",
   "execution_count": 18,
   "id": "ed1460c9",
   "metadata": {},
   "outputs": [],
   "source": [
    "dfts = TimeSeries.from_dataframe(df)"
   ]
  },
  {
   "cell_type": "code",
   "execution_count": 19,
   "id": "d8068cf2",
   "metadata": {},
   "outputs": [
    {
     "name": "stderr",
     "output_type": "stream",
     "text": [
      "[2022-02-22 02:49:57,516] WARNING | darts.timeseries | Number of components is larger than 10 (11). Plotting only the first 10 components.\n"
     ]
    },
    {
     "data": {
      "image/png": "[encoded data removed]",
      "text/plain": [
       "<Figure size 432x288 with 1 Axes>"
      ]
     },
     "metadata": {
      "needs_background": "light"
     },
     "output_type": "display_data"
    }
   ],
   "source": [
    "dfts.plot()"
   ]
  },
  {
   "cell_type": "code",
   "execution_count": 20,
   "id": "cc8e4be5",
   "metadata": {},
   "outputs": [
    {
     "data": {
      "image/png": "[encoded data removed]",
      "text/plain": [
       "<Figure size 432x288 with 1 Axes>"
      ]
     },
     "metadata": {
      "needs_background": "light"
     },
     "output_type": "display_data"
    }
   ],
   "source": [
    "dfts['Close'].plot()"
   ]
  },
  {
   "cell_type": "code",
   "execution_count": 21,
   "id": "4712456e",
   "metadata": {},
   "outputs": [
    {
     "data": {
      "text/plain": [
       "Index(['Open', 'High', 'Low', 'Close', 'Volume', 'log_ret', 'momentum_rsi',\n",
       "       'momentum_stoch_rsi', 'volume_mfi', 'trend_sma_fast', 'trend_ema_fast'],\n",
       "      dtype='object', name='component')"
      ]
     },
     "execution_count": 21,
     "metadata": {},
     "output_type": "execute_result"
    }
   ],
   "source": [
    "dfts.columns"
   ]
  },
  {
   "cell_type": "markdown",
   "id": "13b96704",
   "metadata": {},
   "source": [
    "## Processing multiple TS"
   ]
  },
  {
   "cell_type": "code",
   "execution_count": 22,
   "id": "aa6adbfa",
   "metadata": {},
   "outputs": [],
   "source": [
    "# Train set\n",
    "train_df = dfts[:int(0.8*df.shape[0])]"
   ]
  },
  {
   "cell_type": "code",
   "execution_count": 23,
   "id": "735e1967",
   "metadata": {},
   "outputs": [],
   "source": [
    "scaler_target_tr = Scaler()\n",
    "# [0] because singular\n",
    "scaled_target = scaler_target_tr.fit_transform(train_df['Close'])"
   ]
  },
  {
   "cell_type": "code",
   "execution_count": 24,
   "id": "65e77ae8",
   "metadata": {},
   "outputs": [],
   "source": [
    "cov_ts = [train_df['Open'], train_df['High'], train_df['Volume'], \n",
    "               train_df['log_ret'], train_df['trend_sma_fast'], train_df['trend_ema_fast']]\n",
    "# the other indicators are already scaled"
   ]
  },
  {
   "cell_type": "code",
   "execution_count": 26,
   "id": "7bd7b3a4",
   "metadata": {},
   "outputs": [
    {
     "data": {
      "image/png": "[encoded data removed]",
      "text/plain": [
       "<Figure size 432x288 with 1 Axes>"
      ]
     },
     "metadata": {
      "needs_background": "light"
     },
     "output_type": "display_data"
    }
   ],
   "source": [
    "scaler_cov_tr = Scaler()\n",
    "pipeline_train = Pipeline([scaler_cov_tr])\n",
    "transformed_train = pipeline_train.fit_transform(cov_ts)\n",
    "\n",
    "for ts in transformed_train:\n",
    "    ts.plot()"
   ]
  },
  {
   "cell_type": "code",
   "execution_count": 27,
   "id": "679d8c85",
   "metadata": {},
   "outputs": [
    {
     "data": {
      "image/png": "[encoded data removed]",
      "text/plain": [
       "<Figure size 432x288 with 1 Axes>"
      ]
     },
     "metadata": {
      "needs_background": "light"
     },
     "output_type": "display_data"
    }
   ],
   "source": [
    "# back transform (sanity check)\n",
    "back_train = pipeline_train.inverse_transform(transformed_train, partial=True)\n",
    "for ts in back_train:\n",
    "    ts.plot()"
   ]
  },
  {
   "cell_type": "code",
   "execution_count": 28,
   "id": "f9046c66",
   "metadata": {},
   "outputs": [],
   "source": [
    "# Val set\n",
    "val_df = dfts[int(0.8*df.shape[0]):]"
   ]
  },
  {
   "cell_type": "code",
   "execution_count": 29,
   "id": "4f40b47d",
   "metadata": {},
   "outputs": [],
   "source": [
    "scaler_target_val = Scaler()\n",
    "scaled_val_target = scaler_target_val.fit_transform(val_df['Close'])"
   ]
  },
  {
   "cell_type": "code",
   "execution_count": 30,
   "id": "bb397ce5",
   "metadata": {},
   "outputs": [],
   "source": [
    "multiple_ts_val = [val_df['Open'], val_df['High'], val_df['Volume'], \n",
    "               val_df['log_ret'], val_df['trend_sma_fast'], val_df['trend_ema_fast']]\n",
    "# the other indicators are already scaled"
   ]
  },
  {
   "cell_type": "code",
   "execution_count": 32,
   "id": "b7525e1d",
   "metadata": {},
   "outputs": [
    {
     "data": {
      "image/png": "[encoded data removed]",
      "text/plain": [
       "<Figure size 432x288 with 1 Axes>"
      ]
     },
     "metadata": {
      "needs_background": "light"
     },
     "output_type": "display_data"
    }
   ],
   "source": [
    "scaler_cov_val = Scaler()\n",
    "pipeline_val = Pipeline([scaler_cov_val])\n",
    "transformed_val= pipeline_val.fit_transform(multiple_ts_val)\n",
    "\n",
    "for ts in transformed_val:\n",
    "    ts.plot()"
   ]
  },
  {
   "cell_type": "code",
   "execution_count": 33,
   "id": "ed43bbad",
   "metadata": {},
   "outputs": [
    {
     "data": {
      "image/png": "[encoded data removed]",
      "text/plain": [
       "<Figure size 432x288 with 1 Axes>"
      ]
     },
     "metadata": {
      "needs_background": "light"
     },
     "output_type": "display_data"
    }
   ],
   "source": [
    "# back transform (sanity check)\n",
    "back_val = pipeline_val.inverse_transform(transformed_val, partial=True)\n",
    "for ts in back_val:\n",
    "    ts.plot()"
   ]
  },
  {
   "cell_type": "markdown",
   "id": "5b83cf5b",
   "metadata": {},
   "source": [
    "## Model"
   ]
  },
  {
   "cell_type": "code",
   "execution_count": 34,
   "id": "5fcc8a70",
   "metadata": {},
   "outputs": [],
   "source": [
    "model = NBEATSModel(input_chunk_length=60, output_chunk_length=15, random_state=42)"
   ]
  },
  {
   "cell_type": "code",
   "execution_count": 51,
   "id": "67204518",
   "metadata": {},
   "outputs": [],
   "source": [
    "from darts import concatenate"
   ]
  },
  {
   "cell_type": "code",
   "execution_count": 54,
   "id": "b9c1961c",
   "metadata": {},
   "outputs": [],
   "source": [
    "tr_covs = concatenate(transformed_train, axis=\"component\")\n",
    "val_covs = concatenate(transformed_val, axis=\"component\")"
   ]
  },
  {
   "cell_type": "code",
   "execution_count": 55,
   "id": "d2524c74",
   "metadata": {},
   "outputs": [
    {
     "name": "stderr",
     "output_type": "stream",
     "text": [
      "[2022-02-22 02:55:41,046] INFO | darts.models.forecasting.torch_forecasting_model | Train dataset contains 138142 samples.\n",
      "[2022-02-22 02:55:41,046] INFO | darts.models.forecasting.torch_forecasting_model | Train dataset contains 138142 samples.\n",
      "[2022-02-22 02:55:41,105] INFO | darts.models.forecasting.torch_forecasting_model | Time series values are 64-bits; casting model to float64.\n",
      "[2022-02-22 02:55:41,105] INFO | darts.models.forecasting.torch_forecasting_model | Time series values are 64-bits; casting model to float64.\n",
      "[2022-02-22 02:55:41,106] WARNING | darts.models.forecasting.torch_forecasting_model | DeprecationWarning: kwarg `verbose` is deprecated and will be removed in a future Darts version. Instead, control verbosity with PyTorch Lightning Trainer parameters `enable_progress_bar`, `progress_bar_refresh_rate` and `enable_model_summary` in the `pl_trainer_kwargs` dict at model creation.\n",
      "[2022-02-22 02:55:41,106] WARNING | darts.models.forecasting.torch_forecasting_model | DeprecationWarning: kwarg `verbose` is deprecated and will be removed in a future Darts version. Instead, control verbosity with PyTorch Lightning Trainer parameters `enable_progress_bar`, `progress_bar_refresh_rate` and `enable_model_summary` in the `pl_trainer_kwargs` dict at model creation.\n",
      "GPU available: True, used: False\n",
      "TPU available: False, using: 0 TPU cores\n",
      "IPU available: False, using: 0 IPUs\n",
      "\n",
      "  | Name      | Type       | Params\n",
      "-----------------------------------------\n",
      "0 | criterion | MSELoss    | 0     \n",
      "1 | stacks    | ModuleList | 9.3 M \n",
      "-----------------------------------------\n",
      "9.3 M     Trainable params\n",
      "3.8 K     Non-trainable params\n",
      "9.3 M     Total params\n",
      "74.609    Total estimated model params size (MB)\n"
     ]
    },
    {
     "data": {
      "application/vnd.jupyter.widget-view+json": {
       "model_id": "",
       "version_major": 2,
       "version_minor": 0
      },
      "text/plain": [
       "Validation sanity check: 0it [00:00, ?it/s]"
      ]
     },
     "metadata": {},
     "output_type": "display_data"
    },
    {
     "data": {
      "application/vnd.jupyter.widget-view+json": {
       "model_id": "b3794486ef6140f1a212ce777351bc32",
       "version_major": 2,
       "version_minor": 0
      },
      "text/plain": [
       "Training: 0it [00:00, ?it/s]"
      ]
     },
     "metadata": {},
     "output_type": "display_data"
    },
    {
     "data": {
      "text/plain": [
       "<darts.models.forecasting.nbeats.NBEATSModel at 0x7fcc4313d5b0>"
      ]
     },
     "execution_count": 55,
     "metadata": {},
     "output_type": "execute_result"
    }
   ],
   "source": [
    "#series = \n",
    "model.fit(\n",
    "    series=scaled_target, \n",
    "    past_covariates=tr_covs,\n",
    "    val_series=scaled_val_target, \n",
    "    val_past_covariates=val_covs,\n",
    "    epochs=50, \n",
    "    verbose=True)"
   ]
  },
  {
   "cell_type": "code",
   "execution_count": 13,
   "id": "550de44b",
   "metadata": {},
   "outputs": [
    {
     "data": {
      "application/vnd.jupyter.widget-view+json": {
       "model_id": "5a071f5b2e3543e1b0bbffd8eca575e6",
       "version_major": 2,
       "version_minor": 0
      },
      "text/plain": [
       "Predicting: 4319it [00:00, ?it/s]"
      ]
     },
     "metadata": {},
     "output_type": "display_data"
    }
   ],
   "source": [
    "# training was for horizon=15, if predict here horizon>15 then need historic_future_covs\n",
    "pred_train = model.predict(series=scaled_target, n=15)"
   ]
  },
  {
   "cell_type": "code",
   "execution_count": 14,
   "id": "512edc3b",
   "metadata": {},
   "outputs": [],
   "source": [
    "# scale back:\n",
    "pred_train_scaled = scaler_target_tr.inverse_transform([pred_train])"
   ]
  },
  {
   "cell_type": "code",
   "execution_count": 19,
   "id": "eb01c2bb",
   "metadata": {},
   "outputs": [
    {
     "data": {
      "image/png": "[encoded data removed]",
      "text/plain": [
       "<Figure size 720x432 with 1 Axes>"
      ]
     },
     "metadata": {
      "needs_background": "light"
     },
     "output_type": "display_data"
    }
   ],
   "source": [
    "plt.figure(figsize=(10, 6))\n",
    "# prev train\n",
    "close_train[-100:].plot(label=\"past prices\")\n",
    "#actual\n",
    "close_val[:36].plot(label=\"actual prices\")\n",
    "# pred\n",
    "pred_train_close[0].plot(label=\"pred prices\")"
   ]
  },
  {
   "cell_type": "markdown",
   "id": "6ae715df",
   "metadata": {},
   "source": [
    "## Historical Forecast"
   ]
  },
  {
   "cell_type": "code",
   "execution_count": 16,
   "id": "f4afd63c",
   "metadata": {
    "scrolled": true
   },
   "outputs": [
    {
     "data": {
      "application/vnd.jupyter.widget-view+json": {
       "model_id": "d7ceaebf4985494baf4ac4a67d2e88f2",
       "version_major": 2,
       "version_minor": 0
      },
      "text/plain": [
       "  0%|          | 0/276 [00:00<?, ?it/s]"
      ]
     },
     "metadata": {},
     "output_type": "display_data"
    },
    {
     "data": {
      "application/vnd.jupyter.widget-view+json": {
       "model_id": "f35b2f56efe242a593bd434d5afe171e",
       "version_major": 2,
       "version_minor": 0
      },
      "text/plain": [
       "Predicting: 4319it [00:00, ?it/s]"
      ]
     },
     "metadata": {},
     "output_type": "display_data"
    },
    {
     "data": {
      "application/vnd.jupyter.widget-view+json": {
       "model_id": "afa906947f01413e85ddb452a97729f5",
       "version_major": 2,
       "version_minor": 0
      },
      "text/plain": [
       "Predicting: 4319it [00:00, ?it/s]"
      ]
     },
     "metadata": {},
     "output_type": "display_data"
    },
    {
     "data": {
      "application/vnd.jupyter.widget-view+json": {
       "model_id": "981bd0d28eeb43e9925e199464015cbb",
       "version_major": 2,
       "version_minor": 0
      },
      "text/plain": [
       "Predicting: 4319it [00:00, ?it/s]"
      ]
     },
     "metadata": {},
     "output_type": "display_data"
    },
    {
     "data": {
      "application/vnd.jupyter.widget-view+json": {
       "model_id": "f75783e603f048da9352648220efe08a",
       "version_major": 2,
       "version_minor": 0
      },
      "text/plain": [
       "Predicting: 4319it [00:00, ?it/s]"
      ]
     },
     "metadata": {},
     "output_type": "display_data"
    },
    {
     "data": {
      "application/vnd.jupyter.widget-view+json": {
       "model_id": "2cb626d1e4934e40b670f41726dab2f0",
       "version_major": 2,
       "version_minor": 0
      },
      "text/plain": [
       "Predicting: 4319it [00:00, ?it/s]"
      ]
     },
     "metadata": {},
     "output_type": "display_data"
    },
    {
     "data": {
      "application/vnd.jupyter.widget-view+json": {
       "model_id": "7513899fb13c47f0b95b1cc92708289a",
       "version_major": 2,
       "version_minor": 0
      },
      "text/plain": [
       "Predicting: 4319it [00:00, ?it/s]"
      ]
     },
     "metadata": {},
     "output_type": "display_data"
    },
    {
     "data": {
      "application/vnd.jupyter.widget-view+json": {
       "model_id": "530768e965cc486580e4b0bfc05315ef",
       "version_major": 2,
       "version_minor": 0
      },
      "text/plain": [
       "Predicting: 4319it [00:00, ?it/s]"
      ]
     },
     "metadata": {},
     "output_type": "display_data"
    },
    {
     "data": {
      "application/vnd.jupyter.widget-view+json": {
       "model_id": "13b17efc44024f04bf6a5da90b5dcc0d",
       "version_major": 2,
       "version_minor": 0
      },
      "text/plain": [
       "Predicting: 4319it [00:00, ?it/s]"
      ]
     },
     "metadata": {},
     "output_type": "display_data"
    },
    {
     "data": {
      "application/vnd.jupyter.widget-view+json": {
       "model_id": "1737b725c2bc46ce819f6e2492bcb671",
       "version_major": 2,
       "version_minor": 0
      },
      "text/plain": [
       "Predicting: 4319it [00:00, ?it/s]"
      ]
     },
     "metadata": {},
     "output_type": "display_data"
    },
    {
     "data": {
      "application/vnd.jupyter.widget-view+json": {
       "model_id": "753465ac1e8e44e9842b76026daae5bf",
       "version_major": 2,
       "version_minor": 0
      },
      "text/plain": [
       "Predicting: 4319it [00:00, ?it/s]"
      ]
     },
     "metadata": {},
     "output_type": "display_data"
    },
    {
     "data": {
      "application/vnd.jupyter.widget-view+json": {
       "model_id": "560a8ea466e94e9db2e6c903be97f1a8",
       "version_major": 2,
       "version_minor": 0
      },
      "text/plain": [
       "Predicting: 4319it [00:00, ?it/s]"
      ]
     },
     "metadata": {},
     "output_type": "display_data"
    },
    {
     "data": {
      "application/vnd.jupyter.widget-view+json": {
       "model_id": "4c9e365a377f4547a81a98ddb4636c6f",
       "version_major": 2,
       "version_minor": 0
      },
      "text/plain": [
       "Predicting: 4319it [00:00, ?it/s]"
      ]
     },
     "metadata": {},
     "output_type": "display_data"
    },
    {
     "data": {
      "application/vnd.jupyter.widget-view+json": {
       "model_id": "13dea4ee69d741cea4116207bc7fc313",
       "version_major": 2,
       "version_minor": 0
      },
      "text/plain": [
       "Predicting: 4319it [00:00, ?it/s]"
      ]
     },
     "metadata": {},
     "output_type": "display_data"
    },
    {
     "data": {
      "application/vnd.jupyter.widget-view+json": {
       "model_id": "c7a26c2a81fe4f27a652c6df49e7a01a",
       "version_major": 2,
       "version_minor": 0
      },
      "text/plain": [
       "Predicting: 4319it [00:00, ?it/s]"
      ]
     },
     "metadata": {},
     "output_type": "display_data"
    },
    {
     "data": {
      "application/vnd.jupyter.widget-view+json": {
       "model_id": "fb35ca4600ad49909e170a9e58f1b1ae",
       "version_major": 2,
       "version_minor": 0
      },
      "text/plain": [
       "Predicting: 4319it [00:00, ?it/s]"
      ]
     },
     "metadata": {},
     "output_type": "display_data"
    },
    {
     "data": {
      "application/vnd.jupyter.widget-view+json": {
       "model_id": "1ab99beab2154bf7b1bea27571821a99",
       "version_major": 2,
       "version_minor": 0
      },
      "text/plain": [
       "Predicting: 4319it [00:00, ?it/s]"
      ]
     },
     "metadata": {},
     "output_type": "display_data"
    },
    {
     "data": {
      "application/vnd.jupyter.widget-view+json": {
       "model_id": "d017fdda1e284213a7652efc9efb006a",
       "version_major": 2,
       "version_minor": 0
      },
      "text/plain": [
       "Predicting: 4319it [00:00, ?it/s]"
      ]
     },
     "metadata": {},
     "output_type": "display_data"
    },
    {
     "data": {
      "application/vnd.jupyter.widget-view+json": {
       "model_id": "ac6ed5059bce49b28f12f4c43cc811e6",
       "version_major": 2,
       "version_minor": 0
      },
      "text/plain": [
       "Predicting: 4319it [00:00, ?it/s]"
      ]
     },
     "metadata": {},
     "output_type": "display_data"
    },
    {
     "data": {
      "application/vnd.jupyter.widget-view+json": {
       "model_id": "1f99b2e9edd244a7a4c656e1e9ec567d",
       "version_major": 2,
       "version_minor": 0
      },
      "text/plain": [
       "Predicting: 4319it [00:00, ?it/s]"
      ]
     },
     "metadata": {},
     "output_type": "display_data"
    },
    {
     "data": {
      "application/vnd.jupyter.widget-view+json": {
       "model_id": "fe6586b623484636b12d9a79a5b40aa9",
       "version_major": 2,
       "version_minor": 0
      },
      "text/plain": [
       "Predicting: 4319it [00:00, ?it/s]"
      ]
     },
     "metadata": {},
     "output_type": "display_data"
    },
    {
     "data": {
      "application/vnd.jupyter.widget-view+json": {
       "model_id": "2c8fd74a751f47e79ee378427310d117",
       "version_major": 2,
       "version_minor": 0
      },
      "text/plain": [
       "Predicting: 4319it [00:00, ?it/s]"
      ]
     },
     "metadata": {},
     "output_type": "display_data"
    },
    {
     "data": {
      "application/vnd.jupyter.widget-view+json": {
       "model_id": "4844be9bf34e40fabca876455d2a4df8",
       "version_major": 2,
       "version_minor": 0
      },
      "text/plain": [
       "Predicting: 4319it [00:00, ?it/s]"
      ]
     },
     "metadata": {},
     "output_type": "display_data"
    },
    {
     "data": {
      "application/vnd.jupyter.widget-view+json": {
       "model_id": "395ec0e1128d4408b981a26eb691727a",
       "version_major": 2,
       "version_minor": 0
      },
      "text/plain": [
       "Predicting: 4319it [00:00, ?it/s]"
      ]
     },
     "metadata": {},
     "output_type": "display_data"
    },
    {
     "data": {
      "application/vnd.jupyter.widget-view+json": {
       "model_id": "039db6912283453bb02226e7fc965ef7",
       "version_major": 2,
       "version_minor": 0
      },
      "text/plain": [
       "Predicting: 4319it [00:00, ?it/s]"
      ]
     },
     "metadata": {},
     "output_type": "display_data"
    },
    {
     "data": {
      "application/vnd.jupyter.widget-view+json": {
       "model_id": "e0f5990738774cf9a5c4585bd51ed6c1",
       "version_major": 2,
       "version_minor": 0
      },
      "text/plain": [
       "Predicting: 4319it [00:00, ?it/s]"
      ]
     },
     "metadata": {},
     "output_type": "display_data"
    },
    {
     "data": {
      "application/vnd.jupyter.widget-view+json": {
       "model_id": "63b0e536137c43d8b63e823878e9b6bd",
       "version_major": 2,
       "version_minor": 0
      },
      "text/plain": [
       "Predicting: 4319it [00:00, ?it/s]"
      ]
     },
     "metadata": {},
     "output_type": "display_data"
    },
    {
     "data": {
      "application/vnd.jupyter.widget-view+json": {
       "model_id": "f85428c6511445eda791dbe33dad7795",
       "version_major": 2,
       "version_minor": 0
      },
      "text/plain": [
       "Predicting: 4319it [00:00, ?it/s]"
      ]
     },
     "metadata": {},
     "output_type": "display_data"
    },
    {
     "data": {
      "application/vnd.jupyter.widget-view+json": {
       "model_id": "b6e76500fea843f1bf8ca3ec8284ee2c",
       "version_major": 2,
       "version_minor": 0
      },
      "text/plain": [
       "Predicting: 4319it [00:00, ?it/s]"
      ]
     },
     "metadata": {},
     "output_type": "display_data"
    },
    {
     "data": {
      "application/vnd.jupyter.widget-view+json": {
       "model_id": "590ba49f7eaf4604862f97f87ab5c613",
       "version_major": 2,
       "version_minor": 0
      },
      "text/plain": [
       "Predicting: 4319it [00:00, ?it/s]"
      ]
     },
     "metadata": {},
     "output_type": "display_data"
    },
    {
     "data": {
      "application/vnd.jupyter.widget-view+json": {
       "model_id": "eb1261228d1d4b26a350f4636d973dab",
       "version_major": 2,
       "version_minor": 0
      },
      "text/plain": [
       "Predicting: 4319it [00:00, ?it/s]"
      ]
     },
     "metadata": {},
     "output_type": "display_data"
    },
    {
     "data": {
      "application/vnd.jupyter.widget-view+json": {
       "model_id": "cc214e4ff8c14d0dbd6372af5219e51c",
       "version_major": 2,
       "version_minor": 0
      },
      "text/plain": [
       "Predicting: 4319it [00:00, ?it/s]"
      ]
     },
     "metadata": {},
     "output_type": "display_data"
    },
    {
     "data": {
      "application/vnd.jupyter.widget-view+json": {
       "model_id": "7b9a98ed0086457a986830459d12397f",
       "version_major": 2,
       "version_minor": 0
      },
      "text/plain": [
       "Predicting: 4319it [00:00, ?it/s]"
      ]
     },
     "metadata": {},
     "output_type": "display_data"
    },
    {
     "data": {
      "application/vnd.jupyter.widget-view+json": {
       "model_id": "940762b80b834a8bb762875534aec396",
       "version_major": 2,
       "version_minor": 0
      },
      "text/plain": [
       "Predicting: 4319it [00:00, ?it/s]"
      ]
     },
     "metadata": {},
     "output_type": "display_data"
    },
    {
     "data": {
      "application/vnd.jupyter.widget-view+json": {
       "model_id": "85344b2ce3cc4a9d8b2c4560e12da985",
       "version_major": 2,
       "version_minor": 0
      },
      "text/plain": [
       "Predicting: 4319it [00:00, ?it/s]"
      ]
     },
     "metadata": {},
     "output_type": "display_data"
    },
    {
     "data": {
      "application/vnd.jupyter.widget-view+json": {
       "model_id": "f9b09503d62348be9e6c13edcde8da28",
       "version_major": 2,
       "version_minor": 0
      },
      "text/plain": [
       "Predicting: 4319it [00:00, ?it/s]"
      ]
     },
     "metadata": {},
     "output_type": "display_data"
    },
    {
     "data": {
      "application/vnd.jupyter.widget-view+json": {
       "model_id": "ed2146780907487b9b55365b2d43b4be",
       "version_major": 2,
       "version_minor": 0
      },
      "text/plain": [
       "Predicting: 4319it [00:00, ?it/s]"
      ]
     },
     "metadata": {},
     "output_type": "display_data"
    },
    {
     "data": {
      "application/vnd.jupyter.widget-view+json": {
       "model_id": "55a0ed16973e4c2a8800613ea3173731",
       "version_major": 2,
       "version_minor": 0
      },
      "text/plain": [
       "Predicting: 4319it [00:00, ?it/s]"
      ]
     },
     "metadata": {},
     "output_type": "display_data"
    },
    {
     "data": {
      "application/vnd.jupyter.widget-view+json": {
       "model_id": "312da99d6998400392a96dabe3f7ef68",
       "version_major": 2,
       "version_minor": 0
      },
      "text/plain": [
       "Predicting: 4319it [00:00, ?it/s]"
      ]
     },
     "metadata": {},
     "output_type": "display_data"
    },
    {
     "data": {
      "application/vnd.jupyter.widget-view+json": {
       "model_id": "954e210e6e884b7cb9961e0ee9f416b2",
       "version_major": 2,
       "version_minor": 0
      },
      "text/plain": [
       "Predicting: 4319it [00:00, ?it/s]"
      ]
     },
     "metadata": {},
     "output_type": "display_data"
    },
    {
     "data": {
      "application/vnd.jupyter.widget-view+json": {
       "model_id": "e8526a2976f04e86a847103d2a07689b",
       "version_major": 2,
       "version_minor": 0
      },
      "text/plain": [
       "Predicting: 4319it [00:00, ?it/s]"
      ]
     },
     "metadata": {},
     "output_type": "display_data"
    },
    {
     "data": {
      "application/vnd.jupyter.widget-view+json": {
       "model_id": "2c0f425a73124da59e5b24c7885eac16",
       "version_major": 2,
       "version_minor": 0
      },
      "text/plain": [
       "Predicting: 4319it [00:00, ?it/s]"
      ]
     },
     "metadata": {},
     "output_type": "display_data"
    },
    {
     "data": {
      "application/vnd.jupyter.widget-view+json": {
       "model_id": "aacf9dc073a34bfa8c9ddc4fb8ef3be9",
       "version_major": 2,
       "version_minor": 0
      },
      "text/plain": [
       "Predicting: 4319it [00:00, ?it/s]"
      ]
     },
     "metadata": {},
     "output_type": "display_data"
    },
    {
     "data": {
      "application/vnd.jupyter.widget-view+json": {
       "model_id": "edec1f9923724bd088eacb7008e92408",
       "version_major": 2,
       "version_minor": 0
      },
      "text/plain": [
       "Predicting: 4319it [00:00, ?it/s]"
      ]
     },
     "metadata": {},
     "output_type": "display_data"
    },
    {
     "data": {
      "application/vnd.jupyter.widget-view+json": {
       "model_id": "13f359d2637043558ce9b114bd5273ec",
       "version_major": 2,
       "version_minor": 0
      },
      "text/plain": [
       "Predicting: 4319it [00:00, ?it/s]"
      ]
     },
     "metadata": {},
     "output_type": "display_data"
    },
    {
     "data": {
      "application/vnd.jupyter.widget-view+json": {
       "model_id": "b3a80f0ceed145329a566c0db6246eac",
       "version_major": 2,
       "version_minor": 0
      },
      "text/plain": [
       "Predicting: 4319it [00:00, ?it/s]"
      ]
     },
     "metadata": {},
     "output_type": "display_data"
    },
    {
     "data": {
      "application/vnd.jupyter.widget-view+json": {
       "model_id": "8534b40813764779be376dc29318fa93",
       "version_major": 2,
       "version_minor": 0
      },
      "text/plain": [
       "Predicting: 4319it [00:00, ?it/s]"
      ]
     },
     "metadata": {},
     "output_type": "display_data"
    },
    {
     "data": {
      "application/vnd.jupyter.widget-view+json": {
       "model_id": "ea8e6483dd40404c93ed971d5c84382e",
       "version_major": 2,
       "version_minor": 0
      },
      "text/plain": [
       "Predicting: 4319it [00:00, ?it/s]"
      ]
     },
     "metadata": {},
     "output_type": "display_data"
    },
    {
     "data": {
      "application/vnd.jupyter.widget-view+json": {
       "model_id": "4358c0b773e4439aaa4eba5d842a7a0f",
       "version_major": 2,
       "version_minor": 0
      },
      "text/plain": [
       "Predicting: 4319it [00:00, ?it/s]"
      ]
     },
     "metadata": {},
     "output_type": "display_data"
    },
    {
     "data": {
      "application/vnd.jupyter.widget-view+json": {
       "model_id": "0b9bd48bc34e449ba0b1c96d32a3964f",
       "version_major": 2,
       "version_minor": 0
      },
      "text/plain": [
       "Predicting: 4319it [00:00, ?it/s]"
      ]
     },
     "metadata": {},
     "output_type": "display_data"
    },
    {
     "data": {
      "application/vnd.jupyter.widget-view+json": {
       "model_id": "3d8c02e30f8c40f780d6b61ecd4bac2b",
       "version_major": 2,
       "version_minor": 0
      },
      "text/plain": [
       "Predicting: 4319it [00:00, ?it/s]"
      ]
     },
     "metadata": {},
     "output_type": "display_data"
    },
    {
     "data": {
      "application/vnd.jupyter.widget-view+json": {
       "model_id": "3f349d4a4a6c4055b7c6ee2e9a4c09cf",
       "version_major": 2,
       "version_minor": 0
      },
      "text/plain": [
       "Predicting: 4319it [00:00, ?it/s]"
      ]
     },
     "metadata": {},
     "output_type": "display_data"
    },
    {
     "data": {
      "application/vnd.jupyter.widget-view+json": {
       "model_id": "1ea99bc0c02d44bbacbae5212b50b4ed",
       "version_major": 2,
       "version_minor": 0
      },
      "text/plain": [
       "Predicting: 4319it [00:00, ?it/s]"
      ]
     },
     "metadata": {},
     "output_type": "display_data"
    },
    {
     "data": {
      "application/vnd.jupyter.widget-view+json": {
       "model_id": "f9cf4cdc3011483ca13bb600a16e0b2d",
       "version_major": 2,
       "version_minor": 0
      },
      "text/plain": [
       "Predicting: 4319it [00:00, ?it/s]"
      ]
     },
     "metadata": {},
     "output_type": "display_data"
    },
    {
     "data": {
      "application/vnd.jupyter.widget-view+json": {
       "model_id": "8519dc2aec354180aaa5ad12830b507a",
       "version_major": 2,
       "version_minor": 0
      },
      "text/plain": [
       "Predicting: 4319it [00:00, ?it/s]"
      ]
     },
     "metadata": {},
     "output_type": "display_data"
    },
    {
     "data": {
      "application/vnd.jupyter.widget-view+json": {
       "model_id": "44054dd24c0047938093e248d14b34b0",
       "version_major": 2,
       "version_minor": 0
      },
      "text/plain": [
       "Predicting: 4319it [00:00, ?it/s]"
      ]
     },
     "metadata": {},
     "output_type": "display_data"
    },
    {
     "data": {
      "application/vnd.jupyter.widget-view+json": {
       "model_id": "7b1f8af229eb44d39537dcb13f183d9c",
       "version_major": 2,
       "version_minor": 0
      },
      "text/plain": [
       "Predicting: 4319it [00:00, ?it/s]"
      ]
     },
     "metadata": {},
     "output_type": "display_data"
    },
    {
     "data": {
      "application/vnd.jupyter.widget-view+json": {
       "model_id": "af9fd27acf2b48cd83cc074d5e32d584",
       "version_major": 2,
       "version_minor": 0
      },
      "text/plain": [
       "Predicting: 4319it [00:00, ?it/s]"
      ]
     },
     "metadata": {},
     "output_type": "display_data"
    },
    {
     "data": {
      "application/vnd.jupyter.widget-view+json": {
       "model_id": "91510d93316d4e6f8109485afaa6e8f4",
       "version_major": 2,
       "version_minor": 0
      },
      "text/plain": [
       "Predicting: 4319it [00:00, ?it/s]"
      ]
     },
     "metadata": {},
     "output_type": "display_data"
    },
    {
     "data": {
      "application/vnd.jupyter.widget-view+json": {
       "model_id": "d592ff94f7204a948580fd71703eddb3",
       "version_major": 2,
       "version_minor": 0
      },
      "text/plain": [
       "Predicting: 4319it [00:00, ?it/s]"
      ]
     },
     "metadata": {},
     "output_type": "display_data"
    },
    {
     "data": {
      "application/vnd.jupyter.widget-view+json": {
       "model_id": "262643f9b46b4723b40afcc3e0bf4df1",
       "version_major": 2,
       "version_minor": 0
      },
      "text/plain": [
       "Predicting: 4319it [00:00, ?it/s]"
      ]
     },
     "metadata": {},
     "output_type": "display_data"
    },
    {
     "data": {
      "application/vnd.jupyter.widget-view+json": {
       "model_id": "9d371552b45d4e368d11dae213f013ac",
       "version_major": 2,
       "version_minor": 0
      },
      "text/plain": [
       "Predicting: 4319it [00:00, ?it/s]"
      ]
     },
     "metadata": {},
     "output_type": "display_data"
    },
    {
     "data": {
      "application/vnd.jupyter.widget-view+json": {
       "model_id": "d5bc1e466e1f417db46e329a88235d6a",
       "version_major": 2,
       "version_minor": 0
      },
      "text/plain": [
       "Predicting: 4319it [00:00, ?it/s]"
      ]
     },
     "metadata": {},
     "output_type": "display_data"
    },
    {
     "data": {
      "application/vnd.jupyter.widget-view+json": {
       "model_id": "551384ac11d04c3aa587c457783b661f",
       "version_major": 2,
       "version_minor": 0
      },
      "text/plain": [
       "Predicting: 4319it [00:00, ?it/s]"
      ]
     },
     "metadata": {},
     "output_type": "display_data"
    },
    {
     "data": {
      "application/vnd.jupyter.widget-view+json": {
       "model_id": "70b371446c3746249732a7a5134a24cc",
       "version_major": 2,
       "version_minor": 0
      },
      "text/plain": [
       "Predicting: 4319it [00:00, ?it/s]"
      ]
     },
     "metadata": {},
     "output_type": "display_data"
    },
    {
     "data": {
      "application/vnd.jupyter.widget-view+json": {
       "model_id": "e6f27711fcd34456a07e696d0bfc7f7a",
       "version_major": 2,
       "version_minor": 0
      },
      "text/plain": [
       "Predicting: 4319it [00:00, ?it/s]"
      ]
     },
     "metadata": {},
     "output_type": "display_data"
    },
    {
     "data": {
      "application/vnd.jupyter.widget-view+json": {
       "model_id": "6bc3984ef04f4ba4ace5f2837352162e",
       "version_major": 2,
       "version_minor": 0
      },
      "text/plain": [
       "Predicting: 4319it [00:00, ?it/s]"
      ]
     },
     "metadata": {},
     "output_type": "display_data"
    },
    {
     "data": {
      "application/vnd.jupyter.widget-view+json": {
       "model_id": "52f2a91f7451486a9809303dc1cd2579",
       "version_major": 2,
       "version_minor": 0
      },
      "text/plain": [
       "Predicting: 4319it [00:00, ?it/s]"
      ]
     },
     "metadata": {},
     "output_type": "display_data"
    },
    {
     "data": {
      "application/vnd.jupyter.widget-view+json": {
       "model_id": "2e9387da77354a7d96ff3f3f398d567f",
       "version_major": 2,
       "version_minor": 0
      },
      "text/plain": [
       "Predicting: 4319it [00:00, ?it/s]"
      ]
     },
     "metadata": {},
     "output_type": "display_data"
    },
    {
     "data": {
      "application/vnd.jupyter.widget-view+json": {
       "model_id": "e09ca7b891914a088d732319190d44f8",
       "version_major": 2,
       "version_minor": 0
      },
      "text/plain": [
       "Predicting: 4319it [00:00, ?it/s]"
      ]
     },
     "metadata": {},
     "output_type": "display_data"
    },
    {
     "data": {
      "application/vnd.jupyter.widget-view+json": {
       "model_id": "b11c971146594025a40db146606fcb49",
       "version_major": 2,
       "version_minor": 0
      },
      "text/plain": [
       "Predicting: 4319it [00:00, ?it/s]"
      ]
     },
     "metadata": {},
     "output_type": "display_data"
    },
    {
     "data": {
      "application/vnd.jupyter.widget-view+json": {
       "model_id": "581a4b7727de4886911183d78d59da2c",
       "version_major": 2,
       "version_minor": 0
      },
      "text/plain": [
       "Predicting: 4319it [00:00, ?it/s]"
      ]
     },
     "metadata": {},
     "output_type": "display_data"
    },
    {
     "data": {
      "application/vnd.jupyter.widget-view+json": {
       "model_id": "b24ae9ad83a8430c813e286c6d3e788d",
       "version_major": 2,
       "version_minor": 0
      },
      "text/plain": [
       "Predicting: 4319it [00:00, ?it/s]"
      ]
     },
     "metadata": {},
     "output_type": "display_data"
    },
    {
     "data": {
      "application/vnd.jupyter.widget-view+json": {
       "model_id": "d4ad4b1974f742bfbac49ee36bf6afb8",
       "version_major": 2,
       "version_minor": 0
      },
      "text/plain": [
       "Predicting: 4319it [00:00, ?it/s]"
      ]
     },
     "metadata": {},
     "output_type": "display_data"
    },
    {
     "data": {
      "application/vnd.jupyter.widget-view+json": {
       "model_id": "70f0afc0a17c4b6996897bfa0deb5ef1",
       "version_major": 2,
       "version_minor": 0
      },
      "text/plain": [
       "Predicting: 4319it [00:00, ?it/s]"
      ]
     },
     "metadata": {},
     "output_type": "display_data"
    },
    {
     "data": {
      "application/vnd.jupyter.widget-view+json": {
       "model_id": "81960281a4d543c1808be835565a2808",
       "version_major": 2,
       "version_minor": 0
      },
      "text/plain": [
       "Predicting: 4319it [00:00, ?it/s]"
      ]
     },
     "metadata": {},
     "output_type": "display_data"
    },
    {
     "data": {
      "application/vnd.jupyter.widget-view+json": {
       "model_id": "ba79d78d262243a3b48e05021f160f10",
       "version_major": 2,
       "version_minor": 0
      },
      "text/plain": [
       "Predicting: 4319it [00:00, ?it/s]"
      ]
     },
     "metadata": {},
     "output_type": "display_data"
    },
    {
     "data": {
      "application/vnd.jupyter.widget-view+json": {
       "model_id": "084fa0b1272941e1bdb848cf86699629",
       "version_major": 2,
       "version_minor": 0
      },
      "text/plain": [
       "Predicting: 4319it [00:00, ?it/s]"
      ]
     },
     "metadata": {},
     "output_type": "display_data"
    },
    {
     "data": {
      "application/vnd.jupyter.widget-view+json": {
       "model_id": "a3df9d7424924af2978929311eb9ea07",
       "version_major": 2,
       "version_minor": 0
      },
      "text/plain": [
       "Predicting: 4319it [00:00, ?it/s]"
      ]
     },
     "metadata": {},
     "output_type": "display_data"
    },
    {
     "data": {
      "application/vnd.jupyter.widget-view+json": {
       "model_id": "043625c11b644b0486ec4cb1cd6e5190",
       "version_major": 2,
       "version_minor": 0
      },
      "text/plain": [
       "Predicting: 4319it [00:00, ?it/s]"
      ]
     },
     "metadata": {},
     "output_type": "display_data"
    },
    {
     "data": {
      "application/vnd.jupyter.widget-view+json": {
       "model_id": "67101c43b8164a41863beb2ae04b912d",
       "version_major": 2,
       "version_minor": 0
      },
      "text/plain": [
       "Predicting: 4319it [00:00, ?it/s]"
      ]
     },
     "metadata": {},
     "output_type": "display_data"
    },
    {
     "data": {
      "application/vnd.jupyter.widget-view+json": {
       "model_id": "65fb44aba6c5465faadd3fee850893d3",
       "version_major": 2,
       "version_minor": 0
      },
      "text/plain": [
       "Predicting: 4319it [00:00, ?it/s]"
      ]
     },
     "metadata": {},
     "output_type": "display_data"
    },
    {
     "data": {
      "application/vnd.jupyter.widget-view+json": {
       "model_id": "34950d2b5f5c4d80a87f97d2ddddafea",
       "version_major": 2,
       "version_minor": 0
      },
      "text/plain": [
       "Predicting: 4319it [00:00, ?it/s]"
      ]
     },
     "metadata": {},
     "output_type": "display_data"
    },
    {
     "data": {
      "application/vnd.jupyter.widget-view+json": {
       "model_id": "3b25185fe09d45f0bededc92adcec547",
       "version_major": 2,
       "version_minor": 0
      },
      "text/plain": [
       "Predicting: 4319it [00:00, ?it/s]"
      ]
     },
     "metadata": {},
     "output_type": "display_data"
    },
    {
     "data": {
      "application/vnd.jupyter.widget-view+json": {
       "model_id": "fc0c978fc3914d4cb63d874ea80a8367",
       "version_major": 2,
       "version_minor": 0
      },
      "text/plain": [
       "Predicting: 4319it [00:00, ?it/s]"
      ]
     },
     "metadata": {},
     "output_type": "display_data"
    },
    {
     "data": {
      "application/vnd.jupyter.widget-view+json": {
       "model_id": "c349cc30c25246b3ab68a32000388d3a",
       "version_major": 2,
       "version_minor": 0
      },
      "text/plain": [
       "Predicting: 4319it [00:00, ?it/s]"
      ]
     },
     "metadata": {},
     "output_type": "display_data"
    },
    {
     "data": {
      "application/vnd.jupyter.widget-view+json": {
       "model_id": "134d249947a847aa89203f28e2c479d7",
       "version_major": 2,
       "version_minor": 0
      },
      "text/plain": [
       "Predicting: 4319it [00:00, ?it/s]"
      ]
     },
     "metadata": {},
     "output_type": "display_data"
    },
    {
     "data": {
      "application/vnd.jupyter.widget-view+json": {
       "model_id": "63e0b2ac5261402993fbd1a9315c5e53",
       "version_major": 2,
       "version_minor": 0
      },
      "text/plain": [
       "Predicting: 4319it [00:00, ?it/s]"
      ]
     },
     "metadata": {},
     "output_type": "display_data"
    },
    {
     "data": {
      "application/vnd.jupyter.widget-view+json": {
       "model_id": "3dcbbe42f6624758ba03434ce060bf0f",
       "version_major": 2,
       "version_minor": 0
      },
      "text/plain": [
       "Predicting: 4319it [00:00, ?it/s]"
      ]
     },
     "metadata": {},
     "output_type": "display_data"
    },
    {
     "data": {
      "application/vnd.jupyter.widget-view+json": {
       "model_id": "c261281050a340c399e40147313dd0f6",
       "version_major": 2,
       "version_minor": 0
      },
      "text/plain": [
       "Predicting: 4319it [00:00, ?it/s]"
      ]
     },
     "metadata": {},
     "output_type": "display_data"
    },
    {
     "data": {
      "application/vnd.jupyter.widget-view+json": {
       "model_id": "1159656f40494b19899b7b5f54d38cbe",
       "version_major": 2,
       "version_minor": 0
      },
      "text/plain": [
       "Predicting: 4319it [00:00, ?it/s]"
      ]
     },
     "metadata": {},
     "output_type": "display_data"
    },
    {
     "data": {
      "application/vnd.jupyter.widget-view+json": {
       "model_id": "9a41c5f4f4bd4d108573759bf94ca861",
       "version_major": 2,
       "version_minor": 0
      },
      "text/plain": [
       "Predicting: 4319it [00:00, ?it/s]"
      ]
     },
     "metadata": {},
     "output_type": "display_data"
    },
    {
     "data": {
      "application/vnd.jupyter.widget-view+json": {
       "model_id": "c31a254f56024e36b02ecd798b8ba6f4",
       "version_major": 2,
       "version_minor": 0
      },
      "text/plain": [
       "Predicting: 4319it [00:00, ?it/s]"
      ]
     },
     "metadata": {},
     "output_type": "display_data"
    },
    {
     "data": {
      "application/vnd.jupyter.widget-view+json": {
       "model_id": "7705016a889b4667b786b6c08f4ab59b",
       "version_major": 2,
       "version_minor": 0
      },
      "text/plain": [
       "Predicting: 4319it [00:00, ?it/s]"
      ]
     },
     "metadata": {},
     "output_type": "display_data"
    },
    {
     "data": {
      "application/vnd.jupyter.widget-view+json": {
       "model_id": "ddea695e8b4449afa042831b7fbb72f8",
       "version_major": 2,
       "version_minor": 0
      },
      "text/plain": [
       "Predicting: 4319it [00:00, ?it/s]"
      ]
     },
     "metadata": {},
     "output_type": "display_data"
    },
    {
     "data": {
      "application/vnd.jupyter.widget-view+json": {
       "model_id": "7147bde33edb4b1aa833d1bea82c3acf",
       "version_major": 2,
       "version_minor": 0
      },
      "text/plain": [
       "Predicting: 4319it [00:00, ?it/s]"
      ]
     },
     "metadata": {},
     "output_type": "display_data"
    },
    {
     "data": {
      "application/vnd.jupyter.widget-view+json": {
       "model_id": "2580754b9ee249dca67a89decb8e388c",
       "version_major": 2,
       "version_minor": 0
      },
      "text/plain": [
       "Predicting: 4319it [00:00, ?it/s]"
      ]
     },
     "metadata": {},
     "output_type": "display_data"
    },
    {
     "data": {
      "application/vnd.jupyter.widget-view+json": {
       "model_id": "0646bf676c8b436b90338cbc99d17252",
       "version_major": 2,
       "version_minor": 0
      },
      "text/plain": [
       "Predicting: 4319it [00:00, ?it/s]"
      ]
     },
     "metadata": {},
     "output_type": "display_data"
    },
    {
     "data": {
      "application/vnd.jupyter.widget-view+json": {
       "model_id": "e27f2e2b2e4e4700bea1f194dc67a7a6",
       "version_major": 2,
       "version_minor": 0
      },
      "text/plain": [
       "Predicting: 4319it [00:00, ?it/s]"
      ]
     },
     "metadata": {},
     "output_type": "display_data"
    },
    {
     "data": {
      "application/vnd.jupyter.widget-view+json": {
       "model_id": "e0a05daf8e99404fbeedf1696611e578",
       "version_major": 2,
       "version_minor": 0
      },
      "text/plain": [
       "Predicting: 4319it [00:00, ?it/s]"
      ]
     },
     "metadata": {},
     "output_type": "display_data"
    },
    {
     "data": {
      "application/vnd.jupyter.widget-view+json": {
       "model_id": "7b6c0df98159424ca126a28596302323",
       "version_major": 2,
       "version_minor": 0
      },
      "text/plain": [
       "Predicting: 4319it [00:00, ?it/s]"
      ]
     },
     "metadata": {},
     "output_type": "display_data"
    },
    {
     "data": {
      "application/vnd.jupyter.widget-view+json": {
       "model_id": "0618cc3b01894ab18b14c15b9c1e45ba",
       "version_major": 2,
       "version_minor": 0
      },
      "text/plain": [
       "Predicting: 4319it [00:00, ?it/s]"
      ]
     },
     "metadata": {},
     "output_type": "display_data"
    },
    {
     "data": {
      "application/vnd.jupyter.widget-view+json": {
       "model_id": "a0a0ea486b7347819d790f8cead434df",
       "version_major": 2,
       "version_minor": 0
      },
      "text/plain": [
       "Predicting: 4319it [00:00, ?it/s]"
      ]
     },
     "metadata": {},
     "output_type": "display_data"
    },
    {
     "data": {
      "application/vnd.jupyter.widget-view+json": {
       "model_id": "1054a73b944d42848588f98b4fbfb812",
       "version_major": 2,
       "version_minor": 0
      },
      "text/plain": [
       "Predicting: 4319it [00:00, ?it/s]"
      ]
     },
     "metadata": {},
     "output_type": "display_data"
    },
    {
     "data": {
      "application/vnd.jupyter.widget-view+json": {
       "model_id": "a4830b42c7e24420b5442628c2d72f7e",
       "version_major": 2,
       "version_minor": 0
      },
      "text/plain": [
       "Predicting: 4319it [00:00, ?it/s]"
      ]
     },
     "metadata": {},
     "output_type": "display_data"
    },
    {
     "data": {
      "application/vnd.jupyter.widget-view+json": {
       "model_id": "9c5b2acedbc94f98b04ea04bdcb3191b",
       "version_major": 2,
       "version_minor": 0
      },
      "text/plain": [
       "Predicting: 4319it [00:00, ?it/s]"
      ]
     },
     "metadata": {},
     "output_type": "display_data"
    },
    {
     "data": {
      "application/vnd.jupyter.widget-view+json": {
       "model_id": "d40b333cdd0845e8a16cbc05c593851f",
       "version_major": 2,
       "version_minor": 0
      },
      "text/plain": [
       "Predicting: 4319it [00:00, ?it/s]"
      ]
     },
     "metadata": {},
     "output_type": "display_data"
    },
    {
     "data": {
      "application/vnd.jupyter.widget-view+json": {
       "model_id": "31927e66093044e9827b1b7108d17c09",
       "version_major": 2,
       "version_minor": 0
      },
      "text/plain": [
       "Predicting: 4319it [00:00, ?it/s]"
      ]
     },
     "metadata": {},
     "output_type": "display_data"
    },
    {
     "data": {
      "application/vnd.jupyter.widget-view+json": {
       "model_id": "86a91039ad3f453c913ef2623e755ed9",
       "version_major": 2,
       "version_minor": 0
      },
      "text/plain": [
       "Predicting: 4319it [00:00, ?it/s]"
      ]
     },
     "metadata": {},
     "output_type": "display_data"
    },
    {
     "data": {
      "application/vnd.jupyter.widget-view+json": {
       "model_id": "8a441ee6412449b7a5e893fbe90f1d98",
       "version_major": 2,
       "version_minor": 0
      },
      "text/plain": [
       "Predicting: 4319it [00:00, ?it/s]"
      ]
     },
     "metadata": {},
     "output_type": "display_data"
    },
    {
     "data": {
      "application/vnd.jupyter.widget-view+json": {
       "model_id": "ce0f6cd01dad4f90bcab03f70552b0b9",
       "version_major": 2,
       "version_minor": 0
      },
      "text/plain": [
       "Predicting: 4319it [00:00, ?it/s]"
      ]
     },
     "metadata": {},
     "output_type": "display_data"
    },
    {
     "data": {
      "application/vnd.jupyter.widget-view+json": {
       "model_id": "b66b057573be4d888c62db9ded110134",
       "version_major": 2,
       "version_minor": 0
      },
      "text/plain": [
       "Predicting: 4319it [00:00, ?it/s]"
      ]
     },
     "metadata": {},
     "output_type": "display_data"
    },
    {
     "data": {
      "application/vnd.jupyter.widget-view+json": {
       "model_id": "c15337f3146e4438a03865bc045243b8",
       "version_major": 2,
       "version_minor": 0
      },
      "text/plain": [
       "Predicting: 4319it [00:00, ?it/s]"
      ]
     },
     "metadata": {},
     "output_type": "display_data"
    },
    {
     "data": {
      "application/vnd.jupyter.widget-view+json": {
       "model_id": "ac39b562d9d84adfa172086e70b87cbc",
       "version_major": 2,
       "version_minor": 0
      },
      "text/plain": [
       "Predicting: 4319it [00:00, ?it/s]"
      ]
     },
     "metadata": {},
     "output_type": "display_data"
    },
    {
     "data": {
      "application/vnd.jupyter.widget-view+json": {
       "model_id": "b82dce50edde453e92bca546cca31208",
       "version_major": 2,
       "version_minor": 0
      },
      "text/plain": [
       "Predicting: 4319it [00:00, ?it/s]"
      ]
     },
     "metadata": {},
     "output_type": "display_data"
    },
    {
     "data": {
      "application/vnd.jupyter.widget-view+json": {
       "model_id": "9d3a461facbe484ca98c232636c717b9",
       "version_major": 2,
       "version_minor": 0
      },
      "text/plain": [
       "Predicting: 4319it [00:00, ?it/s]"
      ]
     },
     "metadata": {},
     "output_type": "display_data"
    },
    {
     "data": {
      "application/vnd.jupyter.widget-view+json": {
       "model_id": "7de12ac652154dc88ca63955e1e0f836",
       "version_major": 2,
       "version_minor": 0
      },
      "text/plain": [
       "Predicting: 4319it [00:00, ?it/s]"
      ]
     },
     "metadata": {},
     "output_type": "display_data"
    },
    {
     "data": {
      "application/vnd.jupyter.widget-view+json": {
       "model_id": "937e6a36bf564f16ae70e21c21f6f20e",
       "version_major": 2,
       "version_minor": 0
      },
      "text/plain": [
       "Predicting: 4319it [00:00, ?it/s]"
      ]
     },
     "metadata": {},
     "output_type": "display_data"
    },
    {
     "data": {
      "application/vnd.jupyter.widget-view+json": {
       "model_id": "835a12e68ac54be5aecbf1548963e660",
       "version_major": 2,
       "version_minor": 0
      },
      "text/plain": [
       "Predicting: 4319it [00:00, ?it/s]"
      ]
     },
     "metadata": {},
     "output_type": "display_data"
    },
    {
     "data": {
      "application/vnd.jupyter.widget-view+json": {
       "model_id": "6075f5ac9288485a9b17cb5c62b55d36",
       "version_major": 2,
       "version_minor": 0
      },
      "text/plain": [
       "Predicting: 4319it [00:00, ?it/s]"
      ]
     },
     "metadata": {},
     "output_type": "display_data"
    },
    {
     "data": {
      "application/vnd.jupyter.widget-view+json": {
       "model_id": "3bee2a55c89144589bb9edabe19044b4",
       "version_major": 2,
       "version_minor": 0
      },
      "text/plain": [
       "Predicting: 4319it [00:00, ?it/s]"
      ]
     },
     "metadata": {},
     "output_type": "display_data"
    },
    {
     "data": {
      "application/vnd.jupyter.widget-view+json": {
       "model_id": "902680547f1b477caee9d16906aef1af",
       "version_major": 2,
       "version_minor": 0
      },
      "text/plain": [
       "Predicting: 4319it [00:00, ?it/s]"
      ]
     },
     "metadata": {},
     "output_type": "display_data"
    },
    {
     "data": {
      "application/vnd.jupyter.widget-view+json": {
       "model_id": "9e8a1dc243634f7bbe0197e79d8aa66d",
       "version_major": 2,
       "version_minor": 0
      },
      "text/plain": [
       "Predicting: 4319it [00:00, ?it/s]"
      ]
     },
     "metadata": {},
     "output_type": "display_data"
    },
    {
     "data": {
      "application/vnd.jupyter.widget-view+json": {
       "model_id": "cd039601cb674163ab41e453def21cec",
       "version_major": 2,
       "version_minor": 0
      },
      "text/plain": [
       "Predicting: 4319it [00:00, ?it/s]"
      ]
     },
     "metadata": {},
     "output_type": "display_data"
    },
    {
     "data": {
      "application/vnd.jupyter.widget-view+json": {
       "model_id": "187fdaf9fd384076bb64aed42fa77107",
       "version_major": 2,
       "version_minor": 0
      },
      "text/plain": [
       "Predicting: 4319it [00:00, ?it/s]"
      ]
     },
     "metadata": {},
     "output_type": "display_data"
    },
    {
     "data": {
      "application/vnd.jupyter.widget-view+json": {
       "model_id": "2b45d92188b9458a9ae1913cd12870a9",
       "version_major": 2,
       "version_minor": 0
      },
      "text/plain": [
       "Predicting: 4319it [00:00, ?it/s]"
      ]
     },
     "metadata": {},
     "output_type": "display_data"
    },
    {
     "data": {
      "application/vnd.jupyter.widget-view+json": {
       "model_id": "d65ad56154c943beb1059f3275a996ec",
       "version_major": 2,
       "version_minor": 0
      },
      "text/plain": [
       "Predicting: 4319it [00:00, ?it/s]"
      ]
     },
     "metadata": {},
     "output_type": "display_data"
    },
    {
     "data": {
      "application/vnd.jupyter.widget-view+json": {
       "model_id": "cdb6430cf76c4142a893973229b263a1",
       "version_major": 2,
       "version_minor": 0
      },
      "text/plain": [
       "Predicting: 4319it [00:00, ?it/s]"
      ]
     },
     "metadata": {},
     "output_type": "display_data"
    },
    {
     "data": {
      "application/vnd.jupyter.widget-view+json": {
       "model_id": "89286693a9994cfc9e04d2e4540beabf",
       "version_major": 2,
       "version_minor": 0
      },
      "text/plain": [
       "Predicting: 4319it [00:00, ?it/s]"
      ]
     },
     "metadata": {},
     "output_type": "display_data"
    },
    {
     "data": {
      "application/vnd.jupyter.widget-view+json": {
       "model_id": "c57385b9091e4ee3845596db46dca470",
       "version_major": 2,
       "version_minor": 0
      },
      "text/plain": [
       "Predicting: 4319it [00:00, ?it/s]"
      ]
     },
     "metadata": {},
     "output_type": "display_data"
    },
    {
     "data": {
      "application/vnd.jupyter.widget-view+json": {
       "model_id": "a892d11eccc749de805439ad2f437f71",
       "version_major": 2,
       "version_minor": 0
      },
      "text/plain": [
       "Predicting: 4319it [00:00, ?it/s]"
      ]
     },
     "metadata": {},
     "output_type": "display_data"
    },
    {
     "data": {
      "application/vnd.jupyter.widget-view+json": {
       "model_id": "80480e15127f4d439be881edbff4d941",
       "version_major": 2,
       "version_minor": 0
      },
      "text/plain": [
       "Predicting: 4319it [00:00, ?it/s]"
      ]
     },
     "metadata": {},
     "output_type": "display_data"
    },
    {
     "data": {
      "application/vnd.jupyter.widget-view+json": {
       "model_id": "d9ef902ac6a946e49f810e35eaa3a17d",
       "version_major": 2,
       "version_minor": 0
      },
      "text/plain": [
       "Predicting: 4319it [00:00, ?it/s]"
      ]
     },
     "metadata": {},
     "output_type": "display_data"
    },
    {
     "data": {
      "application/vnd.jupyter.widget-view+json": {
       "model_id": "7de2b34f6ad24afd80a7341f3995c9f1",
       "version_major": 2,
       "version_minor": 0
      },
      "text/plain": [
       "Predicting: 4319it [00:00, ?it/s]"
      ]
     },
     "metadata": {},
     "output_type": "display_data"
    },
    {
     "data": {
      "application/vnd.jupyter.widget-view+json": {
       "model_id": "a0cfebda993e43b88b3201111abe7800",
       "version_major": 2,
       "version_minor": 0
      },
      "text/plain": [
       "Predicting: 4319it [00:00, ?it/s]"
      ]
     },
     "metadata": {},
     "output_type": "display_data"
    },
    {
     "data": {
      "application/vnd.jupyter.widget-view+json": {
       "model_id": "5ab62b11154e423e9d0ebca324bd7994",
       "version_major": 2,
       "version_minor": 0
      },
      "text/plain": [
       "Predicting: 4319it [00:00, ?it/s]"
      ]
     },
     "metadata": {},
     "output_type": "display_data"
    },
    {
     "data": {
      "application/vnd.jupyter.widget-view+json": {
       "model_id": "aecc66382aa94d259c8d154f27179ff6",
       "version_major": 2,
       "version_minor": 0
      },
      "text/plain": [
       "Predicting: 4319it [00:00, ?it/s]"
      ]
     },
     "metadata": {},
     "output_type": "display_data"
    },
    {
     "data": {
      "application/vnd.jupyter.widget-view+json": {
       "model_id": "5808f5d8a10140bd8499b6c223d271b6",
       "version_major": 2,
       "version_minor": 0
      },
      "text/plain": [
       "Predicting: 4319it [00:00, ?it/s]"
      ]
     },
     "metadata": {},
     "output_type": "display_data"
    },
    {
     "data": {
      "application/vnd.jupyter.widget-view+json": {
       "model_id": "7059c8a9ce9d4c88821162bad50dc822",
       "version_major": 2,
       "version_minor": 0
      },
      "text/plain": [
       "Predicting: 4319it [00:00, ?it/s]"
      ]
     },
     "metadata": {},
     "output_type": "display_data"
    },
    {
     "data": {
      "application/vnd.jupyter.widget-view+json": {
       "model_id": "9e1a24e015624fb188f6045a9294ffdc",
       "version_major": 2,
       "version_minor": 0
      },
      "text/plain": [
       "Predicting: 4319it [00:00, ?it/s]"
      ]
     },
     "metadata": {},
     "output_type": "display_data"
    },
    {
     "data": {
      "application/vnd.jupyter.widget-view+json": {
       "model_id": "0fa6d743f8c646fda44c8be164f31c41",
       "version_major": 2,
       "version_minor": 0
      },
      "text/plain": [
       "Predicting: 4319it [00:00, ?it/s]"
      ]
     },
     "metadata": {},
     "output_type": "display_data"
    },
    {
     "data": {
      "application/vnd.jupyter.widget-view+json": {
       "model_id": "2722b323019c49bca23110d4bf9dbce2",
       "version_major": 2,
       "version_minor": 0
      },
      "text/plain": [
       "Predicting: 4319it [00:00, ?it/s]"
      ]
     },
     "metadata": {},
     "output_type": "display_data"
    },
    {
     "data": {
      "application/vnd.jupyter.widget-view+json": {
       "model_id": "41ce8618174644869582b0a772905e6c",
       "version_major": 2,
       "version_minor": 0
      },
      "text/plain": [
       "Predicting: 4319it [00:00, ?it/s]"
      ]
     },
     "metadata": {},
     "output_type": "display_data"
    },
    {
     "data": {
      "application/vnd.jupyter.widget-view+json": {
       "model_id": "c356261e02f04b48908a238c915a7e9e",
       "version_major": 2,
       "version_minor": 0
      },
      "text/plain": [
       "Predicting: 4319it [00:00, ?it/s]"
      ]
     },
     "metadata": {},
     "output_type": "display_data"
    },
    {
     "data": {
      "application/vnd.jupyter.widget-view+json": {
       "model_id": "a0c66017a6ee43e9867522b98b8a484e",
       "version_major": 2,
       "version_minor": 0
      },
      "text/plain": [
       "Predicting: 4319it [00:00, ?it/s]"
      ]
     },
     "metadata": {},
     "output_type": "display_data"
    },
    {
     "data": {
      "application/vnd.jupyter.widget-view+json": {
       "model_id": "3aed41f945a0436e834325db393238df",
       "version_major": 2,
       "version_minor": 0
      },
      "text/plain": [
       "Predicting: 4319it [00:00, ?it/s]"
      ]
     },
     "metadata": {},
     "output_type": "display_data"
    },
    {
     "data": {
      "application/vnd.jupyter.widget-view+json": {
       "model_id": "d1c0e02abbb546898879da683b9216ff",
       "version_major": 2,
       "version_minor": 0
      },
      "text/plain": [
       "Predicting: 4319it [00:00, ?it/s]"
      ]
     },
     "metadata": {},
     "output_type": "display_data"
    },
    {
     "data": {
      "application/vnd.jupyter.widget-view+json": {
       "model_id": "b9aec44348434d3e9e40cf47bbbe6a92",
       "version_major": 2,
       "version_minor": 0
      },
      "text/plain": [
       "Predicting: 4319it [00:00, ?it/s]"
      ]
     },
     "metadata": {},
     "output_type": "display_data"
    },
    {
     "data": {
      "application/vnd.jupyter.widget-view+json": {
       "model_id": "c4c03be10d244e1884f632cf45276ad2",
       "version_major": 2,
       "version_minor": 0
      },
      "text/plain": [
       "Predicting: 4319it [00:00, ?it/s]"
      ]
     },
     "metadata": {},
     "output_type": "display_data"
    },
    {
     "data": {
      "application/vnd.jupyter.widget-view+json": {
       "model_id": "5265325637b5472683573eac444723f4",
       "version_major": 2,
       "version_minor": 0
      },
      "text/plain": [
       "Predicting: 4319it [00:00, ?it/s]"
      ]
     },
     "metadata": {},
     "output_type": "display_data"
    },
    {
     "data": {
      "application/vnd.jupyter.widget-view+json": {
       "model_id": "e2cba3d8178444aba1e9d08681dba1ac",
       "version_major": 2,
       "version_minor": 0
      },
      "text/plain": [
       "Predicting: 4319it [00:00, ?it/s]"
      ]
     },
     "metadata": {},
     "output_type": "display_data"
    },
    {
     "data": {
      "application/vnd.jupyter.widget-view+json": {
       "model_id": "46166372576c46a483530884b733cde4",
       "version_major": 2,
       "version_minor": 0
      },
      "text/plain": [
       "Predicting: 4319it [00:00, ?it/s]"
      ]
     },
     "metadata": {},
     "output_type": "display_data"
    },
    {
     "data": {
      "application/vnd.jupyter.widget-view+json": {
       "model_id": "f00b39cb2aaa4e4eb14b85c096e3a674",
       "version_major": 2,
       "version_minor": 0
      },
      "text/plain": [
       "Predicting: 4319it [00:00, ?it/s]"
      ]
     },
     "metadata": {},
     "output_type": "display_data"
    },
    {
     "data": {
      "application/vnd.jupyter.widget-view+json": {
       "model_id": "003b43374bb0438686d8be6dcd25eeb2",
       "version_major": 2,
       "version_minor": 0
      },
      "text/plain": [
       "Predicting: 4319it [00:00, ?it/s]"
      ]
     },
     "metadata": {},
     "output_type": "display_data"
    },
    {
     "data": {
      "application/vnd.jupyter.widget-view+json": {
       "model_id": "fee6488288d74cadb81aee75f6d59bdb",
       "version_major": 2,
       "version_minor": 0
      },
      "text/plain": [
       "Predicting: 4319it [00:00, ?it/s]"
      ]
     },
     "metadata": {},
     "output_type": "display_data"
    },
    {
     "data": {
      "application/vnd.jupyter.widget-view+json": {
       "model_id": "9009d89baf8f44d6993ad65b390bac6b",
       "version_major": 2,
       "version_minor": 0
      },
      "text/plain": [
       "Predicting: 4319it [00:00, ?it/s]"
      ]
     },
     "metadata": {},
     "output_type": "display_data"
    },
    {
     "data": {
      "application/vnd.jupyter.widget-view+json": {
       "model_id": "8adbe0cf60b64b199b1f590c63e73ab7",
       "version_major": 2,
       "version_minor": 0
      },
      "text/plain": [
       "Predicting: 4319it [00:00, ?it/s]"
      ]
     },
     "metadata": {},
     "output_type": "display_data"
    },
    {
     "data": {
      "application/vnd.jupyter.widget-view+json": {
       "model_id": "bf408ce211e246b1814069f94bdf1c7d",
       "version_major": 2,
       "version_minor": 0
      },
      "text/plain": [
       "Predicting: 4319it [00:00, ?it/s]"
      ]
     },
     "metadata": {},
     "output_type": "display_data"
    },
    {
     "data": {
      "application/vnd.jupyter.widget-view+json": {
       "model_id": "1ab0c04694f5414296f777767b13514f",
       "version_major": 2,
       "version_minor": 0
      },
      "text/plain": [
       "Predicting: 4319it [00:00, ?it/s]"
      ]
     },
     "metadata": {},
     "output_type": "display_data"
    },
    {
     "data": {
      "application/vnd.jupyter.widget-view+json": {
       "model_id": "ca0c05d0095d458eadcf7d09948b07dd",
       "version_major": 2,
       "version_minor": 0
      },
      "text/plain": [
       "Predicting: 4319it [00:00, ?it/s]"
      ]
     },
     "metadata": {},
     "output_type": "display_data"
    },
    {
     "data": {
      "application/vnd.jupyter.widget-view+json": {
       "model_id": "8ea6de858b294af98c2880fc43f7fdea",
       "version_major": 2,
       "version_minor": 0
      },
      "text/plain": [
       "Predicting: 4319it [00:00, ?it/s]"
      ]
     },
     "metadata": {},
     "output_type": "display_data"
    },
    {
     "data": {
      "application/vnd.jupyter.widget-view+json": {
       "model_id": "ecf9cfa715b54c9ab12ca8d953afe03d",
       "version_major": 2,
       "version_minor": 0
      },
      "text/plain": [
       "Predicting: 4319it [00:00, ?it/s]"
      ]
     },
     "metadata": {},
     "output_type": "display_data"
    },
    {
     "data": {
      "application/vnd.jupyter.widget-view+json": {
       "model_id": "bdd0fd7d58c84ca5a6e6d00a8351e39d",
       "version_major": 2,
       "version_minor": 0
      },
      "text/plain": [
       "Predicting: 4319it [00:00, ?it/s]"
      ]
     },
     "metadata": {},
     "output_type": "display_data"
    },
    {
     "data": {
      "application/vnd.jupyter.widget-view+json": {
       "model_id": "f9cf35d882034e34bf86be7fea59bfd4",
       "version_major": 2,
       "version_minor": 0
      },
      "text/plain": [
       "Predicting: 4319it [00:00, ?it/s]"
      ]
     },
     "metadata": {},
     "output_type": "display_data"
    },
    {
     "data": {
      "application/vnd.jupyter.widget-view+json": {
       "model_id": "df4f736ed95d4550ba37d4051a736093",
       "version_major": 2,
       "version_minor": 0
      },
      "text/plain": [
       "Predicting: 4319it [00:00, ?it/s]"
      ]
     },
     "metadata": {},
     "output_type": "display_data"
    },
    {
     "data": {
      "application/vnd.jupyter.widget-view+json": {
       "model_id": "3364c52cd1b441969fe79c35190c402a",
       "version_major": 2,
       "version_minor": 0
      },
      "text/plain": [
       "Predicting: 4319it [00:00, ?it/s]"
      ]
     },
     "metadata": {},
     "output_type": "display_data"
    },
    {
     "data": {
      "application/vnd.jupyter.widget-view+json": {
       "model_id": "753b3c9882c841fd96bfc06ab7219d52",
       "version_major": 2,
       "version_minor": 0
      },
      "text/plain": [
       "Predicting: 4319it [00:00, ?it/s]"
      ]
     },
     "metadata": {},
     "output_type": "display_data"
    },
    {
     "data": {
      "application/vnd.jupyter.widget-view+json": {
       "model_id": "04604d42a5b6459298e84d357f3051d9",
       "version_major": 2,
       "version_minor": 0
      },
      "text/plain": [
       "Predicting: 4319it [00:00, ?it/s]"
      ]
     },
     "metadata": {},
     "output_type": "display_data"
    },
    {
     "data": {
      "application/vnd.jupyter.widget-view+json": {
       "model_id": "813bc44eb9c84daebbc5378298b37c1a",
       "version_major": 2,
       "version_minor": 0
      },
      "text/plain": [
       "Predicting: 4319it [00:00, ?it/s]"
      ]
     },
     "metadata": {},
     "output_type": "display_data"
    },
    {
     "data": {
      "application/vnd.jupyter.widget-view+json": {
       "model_id": "729bcd25392a42c7a97287b3036bbfc2",
       "version_major": 2,
       "version_minor": 0
      },
      "text/plain": [
       "Predicting: 4319it [00:00, ?it/s]"
      ]
     },
     "metadata": {},
     "output_type": "display_data"
    },
    {
     "data": {
      "application/vnd.jupyter.widget-view+json": {
       "model_id": "7789cdd0eadd4ec3aaf253ae7faeaf43",
       "version_major": 2,
       "version_minor": 0
      },
      "text/plain": [
       "Predicting: 4319it [00:00, ?it/s]"
      ]
     },
     "metadata": {},
     "output_type": "display_data"
    },
    {
     "data": {
      "application/vnd.jupyter.widget-view+json": {
       "model_id": "7bd75fe9b24443f5a0aa42574d48e1cb",
       "version_major": 2,
       "version_minor": 0
      },
      "text/plain": [
       "Predicting: 4319it [00:00, ?it/s]"
      ]
     },
     "metadata": {},
     "output_type": "display_data"
    },
    {
     "data": {
      "application/vnd.jupyter.widget-view+json": {
       "model_id": "69d1ed1ad86a4bdca3eb47a62811a22a",
       "version_major": 2,
       "version_minor": 0
      },
      "text/plain": [
       "Predicting: 4319it [00:00, ?it/s]"
      ]
     },
     "metadata": {},
     "output_type": "display_data"
    },
    {
     "data": {
      "application/vnd.jupyter.widget-view+json": {
       "model_id": "e94c806dc9cd4359b9d93cf0e15117d2",
       "version_major": 2,
       "version_minor": 0
      },
      "text/plain": [
       "Predicting: 4319it [00:00, ?it/s]"
      ]
     },
     "metadata": {},
     "output_type": "display_data"
    },
    {
     "data": {
      "application/vnd.jupyter.widget-view+json": {
       "model_id": "91bc3527e9574e9fa8fc0a2571f8e085",
       "version_major": 2,
       "version_minor": 0
      },
      "text/plain": [
       "Predicting: 4319it [00:00, ?it/s]"
      ]
     },
     "metadata": {},
     "output_type": "display_data"
    },
    {
     "data": {
      "application/vnd.jupyter.widget-view+json": {
       "model_id": "28c7bc70a14d4ee998a24debd34bea56",
       "version_major": 2,
       "version_minor": 0
      },
      "text/plain": [
       "Predicting: 4319it [00:00, ?it/s]"
      ]
     },
     "metadata": {},
     "output_type": "display_data"
    },
    {
     "data": {
      "application/vnd.jupyter.widget-view+json": {
       "model_id": "0b9d5a5632bd477aa084c8db96b799e2",
       "version_major": 2,
       "version_minor": 0
      },
      "text/plain": [
       "Predicting: 4319it [00:00, ?it/s]"
      ]
     },
     "metadata": {},
     "output_type": "display_data"
    },
    {
     "data": {
      "application/vnd.jupyter.widget-view+json": {
       "model_id": "201b5a75b7784a81afbd89a0d3ccfafb",
       "version_major": 2,
       "version_minor": 0
      },
      "text/plain": [
       "Predicting: 4319it [00:00, ?it/s]"
      ]
     },
     "metadata": {},
     "output_type": "display_data"
    },
    {
     "data": {
      "application/vnd.jupyter.widget-view+json": {
       "model_id": "65f57724e05948eca710cff293a8eb71",
       "version_major": 2,
       "version_minor": 0
      },
      "text/plain": [
       "Predicting: 4319it [00:00, ?it/s]"
      ]
     },
     "metadata": {},
     "output_type": "display_data"
    },
    {
     "data": {
      "application/vnd.jupyter.widget-view+json": {
       "model_id": "6e889d04e67a46b4aca8f0b187da24ef",
       "version_major": 2,
       "version_minor": 0
      },
      "text/plain": [
       "Predicting: 4319it [00:00, ?it/s]"
      ]
     },
     "metadata": {},
     "output_type": "display_data"
    },
    {
     "data": {
      "application/vnd.jupyter.widget-view+json": {
       "model_id": "47ec8b8c16cd4acfa1f5334c782bb42d",
       "version_major": 2,
       "version_minor": 0
      },
      "text/plain": [
       "Predicting: 4319it [00:00, ?it/s]"
      ]
     },
     "metadata": {},
     "output_type": "display_data"
    },
    {
     "data": {
      "application/vnd.jupyter.widget-view+json": {
       "model_id": "117e5d42233244fa9f3a79a878b7fc1c",
       "version_major": 2,
       "version_minor": 0
      },
      "text/plain": [
       "Predicting: 4319it [00:00, ?it/s]"
      ]
     },
     "metadata": {},
     "output_type": "display_data"
    },
    {
     "data": {
      "application/vnd.jupyter.widget-view+json": {
       "model_id": "747f262795694ab2bb81837557f4b353",
       "version_major": 2,
       "version_minor": 0
      },
      "text/plain": [
       "Predicting: 4319it [00:00, ?it/s]"
      ]
     },
     "metadata": {},
     "output_type": "display_data"
    },
    {
     "data": {
      "application/vnd.jupyter.widget-view+json": {
       "model_id": "2844608d41df4f8a88d1785aad66365b",
       "version_major": 2,
       "version_minor": 0
      },
      "text/plain": [
       "Predicting: 4319it [00:00, ?it/s]"
      ]
     },
     "metadata": {},
     "output_type": "display_data"
    },
    {
     "data": {
      "application/vnd.jupyter.widget-view+json": {
       "model_id": "f86700ac8a7c4522a81655cf3261edbb",
       "version_major": 2,
       "version_minor": 0
      },
      "text/plain": [
       "Predicting: 4319it [00:00, ?it/s]"
      ]
     },
     "metadata": {},
     "output_type": "display_data"
    },
    {
     "data": {
      "application/vnd.jupyter.widget-view+json": {
       "model_id": "40cd0359b033449cb05720d037d3a977",
       "version_major": 2,
       "version_minor": 0
      },
      "text/plain": [
       "Predicting: 4319it [00:00, ?it/s]"
      ]
     },
     "metadata": {},
     "output_type": "display_data"
    },
    {
     "data": {
      "application/vnd.jupyter.widget-view+json": {
       "model_id": "7a6c3ab6fbbf435a85dffbedf05636bb",
       "version_major": 2,
       "version_minor": 0
      },
      "text/plain": [
       "Predicting: 4319it [00:00, ?it/s]"
      ]
     },
     "metadata": {},
     "output_type": "display_data"
    },
    {
     "data": {
      "application/vnd.jupyter.widget-view+json": {
       "model_id": "492cb0c92ebb4b9482cb0d868fd97be2",
       "version_major": 2,
       "version_minor": 0
      },
      "text/plain": [
       "Predicting: 4319it [00:00, ?it/s]"
      ]
     },
     "metadata": {},
     "output_type": "display_data"
    },
    {
     "data": {
      "application/vnd.jupyter.widget-view+json": {
       "model_id": "992c5801aa634a21afa14bf984c5de7f",
       "version_major": 2,
       "version_minor": 0
      },
      "text/plain": [
       "Predicting: 4319it [00:00, ?it/s]"
      ]
     },
     "metadata": {},
     "output_type": "display_data"
    },
    {
     "data": {
      "application/vnd.jupyter.widget-view+json": {
       "model_id": "d31a029c0b68443ab603c7a8a56a3568",
       "version_major": 2,
       "version_minor": 0
      },
      "text/plain": [
       "Predicting: 4319it [00:00, ?it/s]"
      ]
     },
     "metadata": {},
     "output_type": "display_data"
    },
    {
     "data": {
      "application/vnd.jupyter.widget-view+json": {
       "model_id": "98d8dc83df7d4c33a59b8dec69923c46",
       "version_major": 2,
       "version_minor": 0
      },
      "text/plain": [
       "Predicting: 4319it [00:00, ?it/s]"
      ]
     },
     "metadata": {},
     "output_type": "display_data"
    },
    {
     "data": {
      "application/vnd.jupyter.widget-view+json": {
       "model_id": "a8a12a0b62d343cdaeae29556bd3915a",
       "version_major": 2,
       "version_minor": 0
      },
      "text/plain": [
       "Predicting: 4319it [00:00, ?it/s]"
      ]
     },
     "metadata": {},
     "output_type": "display_data"
    },
    {
     "data": {
      "application/vnd.jupyter.widget-view+json": {
       "model_id": "325ccf52c64f4cee9eeb847147b132af",
       "version_major": 2,
       "version_minor": 0
      },
      "text/plain": [
       "Predicting: 4319it [00:00, ?it/s]"
      ]
     },
     "metadata": {},
     "output_type": "display_data"
    },
    {
     "data": {
      "application/vnd.jupyter.widget-view+json": {
       "model_id": "2568c4b380da49c9b6b148f9546ccdf6",
       "version_major": 2,
       "version_minor": 0
      },
      "text/plain": [
       "Predicting: 4319it [00:00, ?it/s]"
      ]
     },
     "metadata": {},
     "output_type": "display_data"
    },
    {
     "data": {
      "application/vnd.jupyter.widget-view+json": {
       "model_id": "6c953c296671437c9ffb2fd5442bc9f6",
       "version_major": 2,
       "version_minor": 0
      },
      "text/plain": [
       "Predicting: 4319it [00:00, ?it/s]"
      ]
     },
     "metadata": {},
     "output_type": "display_data"
    },
    {
     "data": {
      "application/vnd.jupyter.widget-view+json": {
       "model_id": "92749b3818d64017829ab2d9579ca94a",
       "version_major": 2,
       "version_minor": 0
      },
      "text/plain": [
       "Predicting: 4319it [00:00, ?it/s]"
      ]
     },
     "metadata": {},
     "output_type": "display_data"
    },
    {
     "data": {
      "application/vnd.jupyter.widget-view+json": {
       "model_id": "93d2e84786e8444d82b0388d1f58e335",
       "version_major": 2,
       "version_minor": 0
      },
      "text/plain": [
       "Predicting: 4319it [00:00, ?it/s]"
      ]
     },
     "metadata": {},
     "output_type": "display_data"
    },
    {
     "data": {
      "application/vnd.jupyter.widget-view+json": {
       "model_id": "c52db69010274d34ae5f6002dacb7e2a",
       "version_major": 2,
       "version_minor": 0
      },
      "text/plain": [
       "Predicting: 4319it [00:00, ?it/s]"
      ]
     },
     "metadata": {},
     "output_type": "display_data"
    },
    {
     "data": {
      "application/vnd.jupyter.widget-view+json": {
       "model_id": "6478ae2e8d0849669e10e60d21e5af3e",
       "version_major": 2,
       "version_minor": 0
      },
      "text/plain": [
       "Predicting: 4319it [00:00, ?it/s]"
      ]
     },
     "metadata": {},
     "output_type": "display_data"
    },
    {
     "data": {
      "application/vnd.jupyter.widget-view+json": {
       "model_id": "feb9224346b94d85994631c5349a3566",
       "version_major": 2,
       "version_minor": 0
      },
      "text/plain": [
       "Predicting: 4319it [00:00, ?it/s]"
      ]
     },
     "metadata": {},
     "output_type": "display_data"
    },
    {
     "data": {
      "application/vnd.jupyter.widget-view+json": {
       "model_id": "f9cf2065d1574cdc9b1838ed9153b559",
       "version_major": 2,
       "version_minor": 0
      },
      "text/plain": [
       "Predicting: 4319it [00:00, ?it/s]"
      ]
     },
     "metadata": {},
     "output_type": "display_data"
    },
    {
     "data": {
      "application/vnd.jupyter.widget-view+json": {
       "model_id": "ad42ebe2940649468e76465e57278d3d",
       "version_major": 2,
       "version_minor": 0
      },
      "text/plain": [
       "Predicting: 4319it [00:00, ?it/s]"
      ]
     },
     "metadata": {},
     "output_type": "display_data"
    },
    {
     "data": {
      "application/vnd.jupyter.widget-view+json": {
       "model_id": "70de6b5b55ca4860a90b2c211f2f0614",
       "version_major": 2,
       "version_minor": 0
      },
      "text/plain": [
       "Predicting: 4319it [00:00, ?it/s]"
      ]
     },
     "metadata": {},
     "output_type": "display_data"
    },
    {
     "data": {
      "application/vnd.jupyter.widget-view+json": {
       "model_id": "0d9c47a6bde6414c9dd6a7986eacc925",
       "version_major": 2,
       "version_minor": 0
      },
      "text/plain": [
       "Predicting: 4319it [00:00, ?it/s]"
      ]
     },
     "metadata": {},
     "output_type": "display_data"
    },
    {
     "data": {
      "application/vnd.jupyter.widget-view+json": {
       "model_id": "95b8f60a5ccc4e86aa84a1f2a6ee5328",
       "version_major": 2,
       "version_minor": 0
      },
      "text/plain": [
       "Predicting: 4319it [00:00, ?it/s]"
      ]
     },
     "metadata": {},
     "output_type": "display_data"
    },
    {
     "data": {
      "application/vnd.jupyter.widget-view+json": {
       "model_id": "38140fd51fa6458386a875403d5015ed",
       "version_major": 2,
       "version_minor": 0
      },
      "text/plain": [
       "Predicting: 4319it [00:00, ?it/s]"
      ]
     },
     "metadata": {},
     "output_type": "display_data"
    },
    {
     "data": {
      "application/vnd.jupyter.widget-view+json": {
       "model_id": "847b30147ee84b0f8167e3e7c3064f95",
       "version_major": 2,
       "version_minor": 0
      },
      "text/plain": [
       "Predicting: 4319it [00:00, ?it/s]"
      ]
     },
     "metadata": {},
     "output_type": "display_data"
    },
    {
     "data": {
      "application/vnd.jupyter.widget-view+json": {
       "model_id": "a47e00f021cc4d1d8ba59e095e053521",
       "version_major": 2,
       "version_minor": 0
      },
      "text/plain": [
       "Predicting: 4319it [00:00, ?it/s]"
      ]
     },
     "metadata": {},
     "output_type": "display_data"
    },
    {
     "data": {
      "application/vnd.jupyter.widget-view+json": {
       "model_id": "05df3c42facf45889f31bf02ea22deee",
       "version_major": 2,
       "version_minor": 0
      },
      "text/plain": [
       "Predicting: 4319it [00:00, ?it/s]"
      ]
     },
     "metadata": {},
     "output_type": "display_data"
    },
    {
     "data": {
      "application/vnd.jupyter.widget-view+json": {
       "model_id": "2ad5a0bb086742a794d4f7effa8f333a",
       "version_major": 2,
       "version_minor": 0
      },
      "text/plain": [
       "Predicting: 4319it [00:00, ?it/s]"
      ]
     },
     "metadata": {},
     "output_type": "display_data"
    },
    {
     "data": {
      "application/vnd.jupyter.widget-view+json": {
       "model_id": "c36c6f516e3f4e1397546a84d804f734",
       "version_major": 2,
       "version_minor": 0
      },
      "text/plain": [
       "Predicting: 4319it [00:00, ?it/s]"
      ]
     },
     "metadata": {},
     "output_type": "display_data"
    },
    {
     "data": {
      "application/vnd.jupyter.widget-view+json": {
       "model_id": "a2e03b44bf3d41558bc31d819c16465b",
       "version_major": 2,
       "version_minor": 0
      },
      "text/plain": [
       "Predicting: 4319it [00:00, ?it/s]"
      ]
     },
     "metadata": {},
     "output_type": "display_data"
    },
    {
     "data": {
      "application/vnd.jupyter.widget-view+json": {
       "model_id": "85a517a1be7a4175a4d645ea32bb68a6",
       "version_major": 2,
       "version_minor": 0
      },
      "text/plain": [
       "Predicting: 4319it [00:00, ?it/s]"
      ]
     },
     "metadata": {},
     "output_type": "display_data"
    },
    {
     "data": {
      "application/vnd.jupyter.widget-view+json": {
       "model_id": "674dae8f3bd34f68be47913ca295da68",
       "version_major": 2,
       "version_minor": 0
      },
      "text/plain": [
       "Predicting: 4319it [00:00, ?it/s]"
      ]
     },
     "metadata": {},
     "output_type": "display_data"
    },
    {
     "data": {
      "application/vnd.jupyter.widget-view+json": {
       "model_id": "5b7cd43b5fb94729aede588e717d2944",
       "version_major": 2,
       "version_minor": 0
      },
      "text/plain": [
       "Predicting: 4319it [00:00, ?it/s]"
      ]
     },
     "metadata": {},
     "output_type": "display_data"
    },
    {
     "data": {
      "application/vnd.jupyter.widget-view+json": {
       "model_id": "d122da90b1b64347ac53999a87b429a5",
       "version_major": 2,
       "version_minor": 0
      },
      "text/plain": [
       "Predicting: 4319it [00:00, ?it/s]"
      ]
     },
     "metadata": {},
     "output_type": "display_data"
    },
    {
     "data": {
      "application/vnd.jupyter.widget-view+json": {
       "model_id": "c294f94339614b868e091debeb84493e",
       "version_major": 2,
       "version_minor": 0
      },
      "text/plain": [
       "Predicting: 4319it [00:00, ?it/s]"
      ]
     },
     "metadata": {},
     "output_type": "display_data"
    },
    {
     "data": {
      "application/vnd.jupyter.widget-view+json": {
       "model_id": "8b24732b4e804bc0902b1de04d4e67f2",
       "version_major": 2,
       "version_minor": 0
      },
      "text/plain": [
       "Predicting: 4319it [00:00, ?it/s]"
      ]
     },
     "metadata": {},
     "output_type": "display_data"
    },
    {
     "data": {
      "application/vnd.jupyter.widget-view+json": {
       "model_id": "163d26631ab34a55af9c6da35d3b026b",
       "version_major": 2,
       "version_minor": 0
      },
      "text/plain": [
       "Predicting: 4319it [00:00, ?it/s]"
      ]
     },
     "metadata": {},
     "output_type": "display_data"
    },
    {
     "data": {
      "application/vnd.jupyter.widget-view+json": {
       "model_id": "4840d5d730cd4e9ab4ecb5dd10dc5a8a",
       "version_major": 2,
       "version_minor": 0
      },
      "text/plain": [
       "Predicting: 4319it [00:00, ?it/s]"
      ]
     },
     "metadata": {},
     "output_type": "display_data"
    },
    {
     "data": {
      "application/vnd.jupyter.widget-view+json": {
       "model_id": "3d03002c1cbb4be69938b021fc301108",
       "version_major": 2,
       "version_minor": 0
      },
      "text/plain": [
       "Predicting: 4319it [00:00, ?it/s]"
      ]
     },
     "metadata": {},
     "output_type": "display_data"
    },
    {
     "data": {
      "application/vnd.jupyter.widget-view+json": {
       "model_id": "eac05f0c8c574bb0981572439c5efb5b",
       "version_major": 2,
       "version_minor": 0
      },
      "text/plain": [
       "Predicting: 4319it [00:00, ?it/s]"
      ]
     },
     "metadata": {},
     "output_type": "display_data"
    },
    {
     "data": {
      "application/vnd.jupyter.widget-view+json": {
       "model_id": "ca3a610e7bb34605b82f5aa81710ad40",
       "version_major": 2,
       "version_minor": 0
      },
      "text/plain": [
       "Predicting: 4319it [00:00, ?it/s]"
      ]
     },
     "metadata": {},
     "output_type": "display_data"
    },
    {
     "data": {
      "application/vnd.jupyter.widget-view+json": {
       "model_id": "55b97c2792554a4b88e3e8f1272ebf9b",
       "version_major": 2,
       "version_minor": 0
      },
      "text/plain": [
       "Predicting: 4319it [00:00, ?it/s]"
      ]
     },
     "metadata": {},
     "output_type": "display_data"
    },
    {
     "data": {
      "application/vnd.jupyter.widget-view+json": {
       "model_id": "f6a3d814bdb54fed950dff42c87f5580",
       "version_major": 2,
       "version_minor": 0
      },
      "text/plain": [
       "Predicting: 4319it [00:00, ?it/s]"
      ]
     },
     "metadata": {},
     "output_type": "display_data"
    },
    {
     "data": {
      "application/vnd.jupyter.widget-view+json": {
       "model_id": "2a7b0b69eb994aa89ed145f12126ecd7",
       "version_major": 2,
       "version_minor": 0
      },
      "text/plain": [
       "Predicting: 4319it [00:00, ?it/s]"
      ]
     },
     "metadata": {},
     "output_type": "display_data"
    },
    {
     "data": {
      "application/vnd.jupyter.widget-view+json": {
       "model_id": "7cd329b8bc8647bba5dcaf8fdc3a90e6",
       "version_major": 2,
       "version_minor": 0
      },
      "text/plain": [
       "Predicting: 4319it [00:00, ?it/s]"
      ]
     },
     "metadata": {},
     "output_type": "display_data"
    },
    {
     "data": {
      "application/vnd.jupyter.widget-view+json": {
       "model_id": "0f98d68271a6412da66c2b89a3359a5c",
       "version_major": 2,
       "version_minor": 0
      },
      "text/plain": [
       "Predicting: 4319it [00:00, ?it/s]"
      ]
     },
     "metadata": {},
     "output_type": "display_data"
    },
    {
     "data": {
      "application/vnd.jupyter.widget-view+json": {
       "model_id": "227112b7eade44629a2d2e2fe794bb8f",
       "version_major": 2,
       "version_minor": 0
      },
      "text/plain": [
       "Predicting: 4319it [00:00, ?it/s]"
      ]
     },
     "metadata": {},
     "output_type": "display_data"
    },
    {
     "data": {
      "application/vnd.jupyter.widget-view+json": {
       "model_id": "3f12150b08e14cbb9a085a123f7d60a5",
       "version_major": 2,
       "version_minor": 0
      },
      "text/plain": [
       "Predicting: 4319it [00:00, ?it/s]"
      ]
     },
     "metadata": {},
     "output_type": "display_data"
    },
    {
     "data": {
      "application/vnd.jupyter.widget-view+json": {
       "model_id": "6163e8e844f34432ade8d3f37aaf8e58",
       "version_major": 2,
       "version_minor": 0
      },
      "text/plain": [
       "Predicting: 4319it [00:00, ?it/s]"
      ]
     },
     "metadata": {},
     "output_type": "display_data"
    },
    {
     "data": {
      "application/vnd.jupyter.widget-view+json": {
       "model_id": "946f7943bda94b8f94c5ece73357f9c0",
       "version_major": 2,
       "version_minor": 0
      },
      "text/plain": [
       "Predicting: 4319it [00:00, ?it/s]"
      ]
     },
     "metadata": {},
     "output_type": "display_data"
    },
    {
     "data": {
      "application/vnd.jupyter.widget-view+json": {
       "model_id": "81317325fa5744329240bf5fec9ee99c",
       "version_major": 2,
       "version_minor": 0
      },
      "text/plain": [
       "Predicting: 4319it [00:00, ?it/s]"
      ]
     },
     "metadata": {},
     "output_type": "display_data"
    },
    {
     "data": {
      "application/vnd.jupyter.widget-view+json": {
       "model_id": "56a10f24c07646dfaefdf049b041a33d",
       "version_major": 2,
       "version_minor": 0
      },
      "text/plain": [
       "Predicting: 4319it [00:00, ?it/s]"
      ]
     },
     "metadata": {},
     "output_type": "display_data"
    },
    {
     "data": {
      "application/vnd.jupyter.widget-view+json": {
       "model_id": "e795236dc7b34f17aa24169e4cc4f28c",
       "version_major": 2,
       "version_minor": 0
      },
      "text/plain": [
       "Predicting: 4319it [00:00, ?it/s]"
      ]
     },
     "metadata": {},
     "output_type": "display_data"
    },
    {
     "data": {
      "application/vnd.jupyter.widget-view+json": {
       "model_id": "b9e0f232d66f40fc99bb094fd8d8a79f",
       "version_major": 2,
       "version_minor": 0
      },
      "text/plain": [
       "Predicting: 4319it [00:00, ?it/s]"
      ]
     },
     "metadata": {},
     "output_type": "display_data"
    },
    {
     "data": {
      "application/vnd.jupyter.widget-view+json": {
       "model_id": "12ec50218ec44874a0f50c256595e7a7",
       "version_major": 2,
       "version_minor": 0
      },
      "text/plain": [
       "Predicting: 4319it [00:00, ?it/s]"
      ]
     },
     "metadata": {},
     "output_type": "display_data"
    },
    {
     "data": {
      "application/vnd.jupyter.widget-view+json": {
       "model_id": "6bdaec67d35d4864a3c85191e33d26a8",
       "version_major": 2,
       "version_minor": 0
      },
      "text/plain": [
       "Predicting: 4319it [00:00, ?it/s]"
      ]
     },
     "metadata": {},
     "output_type": "display_data"
    },
    {
     "data": {
      "application/vnd.jupyter.widget-view+json": {
       "model_id": "6054651cf2a244a0a2353b335005fa9e",
       "version_major": 2,
       "version_minor": 0
      },
      "text/plain": [
       "Predicting: 4319it [00:00, ?it/s]"
      ]
     },
     "metadata": {},
     "output_type": "display_data"
    },
    {
     "data": {
      "application/vnd.jupyter.widget-view+json": {
       "model_id": "5d5cb4cc8d2b472d81e0c40663cc06cc",
       "version_major": 2,
       "version_minor": 0
      },
      "text/plain": [
       "Predicting: 4319it [00:00, ?it/s]"
      ]
     },
     "metadata": {},
     "output_type": "display_data"
    },
    {
     "data": {
      "application/vnd.jupyter.widget-view+json": {
       "model_id": "91647e9aeb334bdb9f3076323dc00426",
       "version_major": 2,
       "version_minor": 0
      },
      "text/plain": [
       "Predicting: 4319it [00:00, ?it/s]"
      ]
     },
     "metadata": {},
     "output_type": "display_data"
    },
    {
     "data": {
      "application/vnd.jupyter.widget-view+json": {
       "model_id": "da81dfad748c46f3b2a761fc15ef152c",
       "version_major": 2,
       "version_minor": 0
      },
      "text/plain": [
       "Predicting: 4319it [00:00, ?it/s]"
      ]
     },
     "metadata": {},
     "output_type": "display_data"
    },
    {
     "data": {
      "application/vnd.jupyter.widget-view+json": {
       "model_id": "98d2ed61416442238353add96f22b2d0",
       "version_major": 2,
       "version_minor": 0
      },
      "text/plain": [
       "Predicting: 4319it [00:00, ?it/s]"
      ]
     },
     "metadata": {},
     "output_type": "display_data"
    },
    {
     "data": {
      "application/vnd.jupyter.widget-view+json": {
       "model_id": "e6897d28b0a3490fad2d99eb9cd391a4",
       "version_major": 2,
       "version_minor": 0
      },
      "text/plain": [
       "Predicting: 4319it [00:00, ?it/s]"
      ]
     },
     "metadata": {},
     "output_type": "display_data"
    },
    {
     "data": {
      "application/vnd.jupyter.widget-view+json": {
       "model_id": "b75a41739900467895b25ec70cbe1dde",
       "version_major": 2,
       "version_minor": 0
      },
      "text/plain": [
       "Predicting: 4319it [00:00, ?it/s]"
      ]
     },
     "metadata": {},
     "output_type": "display_data"
    },
    {
     "data": {
      "application/vnd.jupyter.widget-view+json": {
       "model_id": "95b2cf5b99ae4e72ba0f855413f7f77b",
       "version_major": 2,
       "version_minor": 0
      },
      "text/plain": [
       "Predicting: 4319it [00:00, ?it/s]"
      ]
     },
     "metadata": {},
     "output_type": "display_data"
    },
    {
     "data": {
      "application/vnd.jupyter.widget-view+json": {
       "model_id": "aa3eff47fc7d4df3b9d6222d9bcfd90a",
       "version_major": 2,
       "version_minor": 0
      },
      "text/plain": [
       "Predicting: 4319it [00:00, ?it/s]"
      ]
     },
     "metadata": {},
     "output_type": "display_data"
    },
    {
     "data": {
      "application/vnd.jupyter.widget-view+json": {
       "model_id": "76e0050e184f43838e9de1bee379c3a6",
       "version_major": 2,
       "version_minor": 0
      },
      "text/plain": [
       "Predicting: 4319it [00:00, ?it/s]"
      ]
     },
     "metadata": {},
     "output_type": "display_data"
    },
    {
     "data": {
      "application/vnd.jupyter.widget-view+json": {
       "model_id": "5aea0f76c9f843d389774f29aa8b083f",
       "version_major": 2,
       "version_minor": 0
      },
      "text/plain": [
       "Predicting: 4319it [00:00, ?it/s]"
      ]
     },
     "metadata": {},
     "output_type": "display_data"
    },
    {
     "data": {
      "application/vnd.jupyter.widget-view+json": {
       "model_id": "2edd227f299240acafe6d44f80d2ecb1",
       "version_major": 2,
       "version_minor": 0
      },
      "text/plain": [
       "Predicting: 4319it [00:00, ?it/s]"
      ]
     },
     "metadata": {},
     "output_type": "display_data"
    },
    {
     "data": {
      "application/vnd.jupyter.widget-view+json": {
       "model_id": "3c796863c78f4e0889b11e72025932c5",
       "version_major": 2,
       "version_minor": 0
      },
      "text/plain": [
       "Predicting: 4319it [00:00, ?it/s]"
      ]
     },
     "metadata": {},
     "output_type": "display_data"
    },
    {
     "data": {
      "application/vnd.jupyter.widget-view+json": {
       "model_id": "7e3a36213a8f48fbbfebeea1789de348",
       "version_major": 2,
       "version_minor": 0
      },
      "text/plain": [
       "Predicting: 4319it [00:00, ?it/s]"
      ]
     },
     "metadata": {},
     "output_type": "display_data"
    },
    {
     "data": {
      "application/vnd.jupyter.widget-view+json": {
       "model_id": "1f058bc5e9764e9eaeab55fbc13c7ebe",
       "version_major": 2,
       "version_minor": 0
      },
      "text/plain": [
       "Predicting: 4319it [00:00, ?it/s]"
      ]
     },
     "metadata": {},
     "output_type": "display_data"
    },
    {
     "data": {
      "application/vnd.jupyter.widget-view+json": {
       "model_id": "4be24cdea3fe4c03bdbea4f7fe40a89e",
       "version_major": 2,
       "version_minor": 0
      },
      "text/plain": [
       "Predicting: 4319it [00:00, ?it/s]"
      ]
     },
     "metadata": {},
     "output_type": "display_data"
    },
    {
     "data": {
      "application/vnd.jupyter.widget-view+json": {
       "model_id": "f1b0d6f7a69a46ba95e9d0de3aec3293",
       "version_major": 2,
       "version_minor": 0
      },
      "text/plain": [
       "Predicting: 4319it [00:00, ?it/s]"
      ]
     },
     "metadata": {},
     "output_type": "display_data"
    },
    {
     "data": {
      "application/vnd.jupyter.widget-view+json": {
       "model_id": "cb66341169df436c8fe5166c8eaf3be1",
       "version_major": 2,
       "version_minor": 0
      },
      "text/plain": [
       "Predicting: 4319it [00:00, ?it/s]"
      ]
     },
     "metadata": {},
     "output_type": "display_data"
    },
    {
     "data": {
      "application/vnd.jupyter.widget-view+json": {
       "model_id": "5d5f6afacb084a89a17e0c208e13a023",
       "version_major": 2,
       "version_minor": 0
      },
      "text/plain": [
       "Predicting: 4319it [00:00, ?it/s]"
      ]
     },
     "metadata": {},
     "output_type": "display_data"
    },
    {
     "data": {
      "application/vnd.jupyter.widget-view+json": {
       "model_id": "777976dc91a24cab8b64f25173424906",
       "version_major": 2,
       "version_minor": 0
      },
      "text/plain": [
       "Predicting: 4319it [00:00, ?it/s]"
      ]
     },
     "metadata": {},
     "output_type": "display_data"
    },
    {
     "data": {
      "application/vnd.jupyter.widget-view+json": {
       "model_id": "a7d04801ee90450e8ea75fe9af534d12",
       "version_major": 2,
       "version_minor": 0
      },
      "text/plain": [
       "Predicting: 4319it [00:00, ?it/s]"
      ]
     },
     "metadata": {},
     "output_type": "display_data"
    },
    {
     "data": {
      "application/vnd.jupyter.widget-view+json": {
       "model_id": "5469cc3f645c4b0ba0e17a4d5cca9f10",
       "version_major": 2,
       "version_minor": 0
      },
      "text/plain": [
       "Predicting: 4319it [00:00, ?it/s]"
      ]
     },
     "metadata": {},
     "output_type": "display_data"
    },
    {
     "data": {
      "application/vnd.jupyter.widget-view+json": {
       "model_id": "101cc836dd344a6dbfa6d2904971d48f",
       "version_major": 2,
       "version_minor": 0
      },
      "text/plain": [
       "Predicting: 4319it [00:00, ?it/s]"
      ]
     },
     "metadata": {},
     "output_type": "display_data"
    },
    {
     "data": {
      "application/vnd.jupyter.widget-view+json": {
       "model_id": "f9031a5db3554b9b83820593a72f1f94",
       "version_major": 2,
       "version_minor": 0
      },
      "text/plain": [
       "Predicting: 4319it [00:00, ?it/s]"
      ]
     },
     "metadata": {},
     "output_type": "display_data"
    },
    {
     "data": {
      "application/vnd.jupyter.widget-view+json": {
       "model_id": "2a4978d14c09463bb5c0099dbd580088",
       "version_major": 2,
       "version_minor": 0
      },
      "text/plain": [
       "Predicting: 4319it [00:00, ?it/s]"
      ]
     },
     "metadata": {},
     "output_type": "display_data"
    },
    {
     "data": {
      "application/vnd.jupyter.widget-view+json": {
       "model_id": "499ec932cdb94d93872785a013c562c7",
       "version_major": 2,
       "version_minor": 0
      },
      "text/plain": [
       "Predicting: 4319it [00:00, ?it/s]"
      ]
     },
     "metadata": {},
     "output_type": "display_data"
    },
    {
     "data": {
      "application/vnd.jupyter.widget-view+json": {
       "model_id": "79d8ad20c2614fd9b7cb77dc27d5164c",
       "version_major": 2,
       "version_minor": 0
      },
      "text/plain": [
       "Predicting: 4319it [00:00, ?it/s]"
      ]
     },
     "metadata": {},
     "output_type": "display_data"
    },
    {
     "data": {
      "application/vnd.jupyter.widget-view+json": {
       "model_id": "2ff6bebc015d4765a88bd149a5fc9525",
       "version_major": 2,
       "version_minor": 0
      },
      "text/plain": [
       "Predicting: 4319it [00:00, ?it/s]"
      ]
     },
     "metadata": {},
     "output_type": "display_data"
    },
    {
     "data": {
      "application/vnd.jupyter.widget-view+json": {
       "model_id": "48bc8e5794f64c699f56a83beb9764ce",
       "version_major": 2,
       "version_minor": 0
      },
      "text/plain": [
       "Predicting: 4319it [00:00, ?it/s]"
      ]
     },
     "metadata": {},
     "output_type": "display_data"
    },
    {
     "data": {
      "application/vnd.jupyter.widget-view+json": {
       "model_id": "50792df34b8a4781b2f998c745c7827f",
       "version_major": 2,
       "version_minor": 0
      },
      "text/plain": [
       "Predicting: 4319it [00:00, ?it/s]"
      ]
     },
     "metadata": {},
     "output_type": "display_data"
    },
    {
     "data": {
      "application/vnd.jupyter.widget-view+json": {
       "model_id": "3afd2cea0cff425fb03a8294c7f173ff",
       "version_major": 2,
       "version_minor": 0
      },
      "text/plain": [
       "Predicting: 4319it [00:00, ?it/s]"
      ]
     },
     "metadata": {},
     "output_type": "display_data"
    },
    {
     "data": {
      "application/vnd.jupyter.widget-view+json": {
       "model_id": "05343bf66f6345afa4753b87d57c9880",
       "version_major": 2,
       "version_minor": 0
      },
      "text/plain": [
       "Predicting: 4319it [00:00, ?it/s]"
      ]
     },
     "metadata": {},
     "output_type": "display_data"
    },
    {
     "data": {
      "application/vnd.jupyter.widget-view+json": {
       "model_id": "f605ca531aca48ab95802e9a0f2ce071",
       "version_major": 2,
       "version_minor": 0
      },
      "text/plain": [
       "Predicting: 4319it [00:00, ?it/s]"
      ]
     },
     "metadata": {},
     "output_type": "display_data"
    },
    {
     "data": {
      "application/vnd.jupyter.widget-view+json": {
       "model_id": "d547cdfa4e7647898cf556b0d9441c8b",
       "version_major": 2,
       "version_minor": 0
      },
      "text/plain": [
       "Predicting: 4319it [00:00, ?it/s]"
      ]
     },
     "metadata": {},
     "output_type": "display_data"
    },
    {
     "data": {
      "application/vnd.jupyter.widget-view+json": {
       "model_id": "7bd9adfd9b3046b6a42a14e37762f991",
       "version_major": 2,
       "version_minor": 0
      },
      "text/plain": [
       "Predicting: 4319it [00:00, ?it/s]"
      ]
     },
     "metadata": {},
     "output_type": "display_data"
    },
    {
     "data": {
      "application/vnd.jupyter.widget-view+json": {
       "model_id": "1ac5e76413bb44b7a17144a10fb32f80",
       "version_major": 2,
       "version_minor": 0
      },
      "text/plain": [
       "Predicting: 4319it [00:00, ?it/s]"
      ]
     },
     "metadata": {},
     "output_type": "display_data"
    },
    {
     "data": {
      "application/vnd.jupyter.widget-view+json": {
       "model_id": "d8b4baef5a614f5fb0417c77cbc91649",
       "version_major": 2,
       "version_minor": 0
      },
      "text/plain": [
       "Predicting: 4319it [00:00, ?it/s]"
      ]
     },
     "metadata": {},
     "output_type": "display_data"
    },
    {
     "data": {
      "application/vnd.jupyter.widget-view+json": {
       "model_id": "b8139fbe1d7544c8879a879349a20bbc",
       "version_major": 2,
       "version_minor": 0
      },
      "text/plain": [
       "Predicting: 4319it [00:00, ?it/s]"
      ]
     },
     "metadata": {},
     "output_type": "display_data"
    },
    {
     "data": {
      "application/vnd.jupyter.widget-view+json": {
       "model_id": "fa303e8842dd4183853fcd72149f090d",
       "version_major": 2,
       "version_minor": 0
      },
      "text/plain": [
       "Predicting: 4319it [00:00, ?it/s]"
      ]
     },
     "metadata": {},
     "output_type": "display_data"
    }
   ],
   "source": [
    "hist_for = model.historical_forecasts(\n",
    "    series=close_train_scaled,\n",
    "    start=0.99, #just the last 1 percent\n",
    "    forecast_horizon=7,\n",
    "    stride=5,\n",
    "    retrain=False,\n",
    "    verbose=True,\n",
    ")"
   ]
  },
  {
   "cell_type": "code",
   "execution_count": 17,
   "id": "16af0791",
   "metadata": {},
   "outputs": [],
   "source": [
    "# rescale\n",
    "# scale back:\n",
    "hist_for = scaler.inverse_transform(hist_for)"
   ]
  },
  {
   "cell_type": "code",
   "execution_count": 20,
   "id": "4fff5d57",
   "metadata": {},
   "outputs": [
    {
     "data": {
      "image/png": "[encoded data removed]",
      "text/plain": [
       "<Figure size 720x432 with 1 Axes>"
      ]
     },
     "metadata": {
      "needs_background": "light"
     },
     "output_type": "display_data"
    }
   ],
   "source": [
    "plt.figure(figsize=(10, 6))\n",
    "hist_for.plot(label=\"hist_forc last 1%\")\n",
    "close_train[-2760:].plot(label=\"actual\")"
   ]
  },
  {
   "cell_type": "code",
   "execution_count": null,
   "id": "3844dbab",
   "metadata": {},
   "outputs": [],
   "source": []
  }
 ],
 "metadata": {
  "kernelspec": {
   "display_name": "Python 3 (ipykernel)",
   "language": "python",
   "name": "python3"
  },
  "language_info": {
   "codemirror_mode": {
    "name": "ipython",
    "version": 3
   },
   "file_extension": ".py",
   "mimetype": "text/x-python",
   "name": "python",
   "nbconvert_exporter": "python",
   "pygments_lexer": "ipython3",
   "version": "3.8.12"
  }
 },
 "nbformat": 4,
 "nbformat_minor": 5
}
