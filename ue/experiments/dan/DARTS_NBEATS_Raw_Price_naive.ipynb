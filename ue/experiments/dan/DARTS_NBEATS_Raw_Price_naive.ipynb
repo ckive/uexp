{
 "cells": [
  {
   "cell_type": "code",
   "execution_count": 21,
   "id": "e1d66bba",
   "metadata": {},
   "outputs": [],
   "source": [
    "#======Core============\n",
    "import pandas as pd\n",
    "import numpy as np\n",
    "import matplotlib.pyplot as plt\n",
    "import os\n",
    "# import pytorch_lightning as pl\n",
    "# from pytorch_lightning.callbacks import EarlyStopping\n",
    "import torch\n",
    "#======Darts===========\n",
    "from darts import TimeSeries\n",
    "from darts.dataprocessing.transformers import Scaler\n",
    "from darts.models import NBEATSModel\n",
    "#======UEXP============\n",
    "from ue.uexp.dataprocessing.processor_binance import BinanceProcessor\n",
    "from ue.uexp.dataprocessing.func import *\n",
    "#from ue.uexp.dataprocessing.ta import *\n",
    "#from ue.uexp.models.util import *\n",
    "\n",
    "import warnings\n",
    "warnings.filterwarnings('ignore')"
   ]
  },
  {
   "cell_type": "code",
   "execution_count": 25,
   "id": "b9c1023b",
   "metadata": {},
   "outputs": [],
   "source": [
    "### get data (set config params)\n",
    "ticker_list = [\"BTCUSDT\"]\n",
    "start_date = \"2021-12-15\"\n",
    "end_date = \"2021-12-31\"\n",
    "time_interval = \"1m\"\n",
    "\n",
    "p = BinanceProcessor(\"binance\")\n",
    "df = p.download_data(ticker_list, start_date, end_date, time_interval)"
   ]
  },
  {
   "cell_type": "code",
   "execution_count": 26,
   "id": "c9330399",
   "metadata": {},
   "outputs": [],
   "source": [
    "df.drop(\"tic\", axis=1, inplace=True)"
   ]
  },
  {
   "cell_type": "code",
   "execution_count": 27,
   "id": "5a4c4f58",
   "metadata": {},
   "outputs": [
    {
     "data": {
      "text/html": [
       "<div>\n",
       "<style scoped>\n",
       "    .dataframe tbody tr th:only-of-type {\n",
       "        vertical-align: middle;\n",
       "    }\n",
       "\n",
       "    .dataframe tbody tr th {\n",
       "        vertical-align: top;\n",
       "    }\n",
       "\n",
       "    .dataframe thead th {\n",
       "        text-align: right;\n",
       "    }\n",
       "</style>\n",
       "<table border=\"1\" class=\"dataframe\">\n",
       "  <thead>\n",
       "    <tr style=\"text-align: right;\">\n",
       "      <th></th>\n",
       "      <th>time</th>\n",
       "      <th>open</th>\n",
       "      <th>high</th>\n",
       "      <th>low</th>\n",
       "      <th>close</th>\n",
       "      <th>volume</th>\n",
       "      <th>adj_close</th>\n",
       "    </tr>\n",
       "  </thead>\n",
       "  <tbody>\n",
       "    <tr>\n",
       "      <th>0</th>\n",
       "      <td>2021-12-15 00:00:00</td>\n",
       "      <td>48120.88</td>\n",
       "      <td>48157.41</td>\n",
       "      <td>48120.87</td>\n",
       "      <td>48136.00</td>\n",
       "      <td>14.51234</td>\n",
       "      <td>48136.00</td>\n",
       "    </tr>\n",
       "    <tr>\n",
       "      <th>1</th>\n",
       "      <td>2021-12-15 00:01:00</td>\n",
       "      <td>48136.00</td>\n",
       "      <td>48145.09</td>\n",
       "      <td>48112.28</td>\n",
       "      <td>48129.20</td>\n",
       "      <td>9.31538</td>\n",
       "      <td>48129.20</td>\n",
       "    </tr>\n",
       "    <tr>\n",
       "      <th>2</th>\n",
       "      <td>2021-12-15 00:02:00</td>\n",
       "      <td>48129.20</td>\n",
       "      <td>48185.21</td>\n",
       "      <td>48126.67</td>\n",
       "      <td>48184.64</td>\n",
       "      <td>12.80545</td>\n",
       "      <td>48184.64</td>\n",
       "    </tr>\n",
       "    <tr>\n",
       "      <th>3</th>\n",
       "      <td>2021-12-15 00:03:00</td>\n",
       "      <td>48184.64</td>\n",
       "      <td>48186.88</td>\n",
       "      <td>48173.02</td>\n",
       "      <td>48178.98</td>\n",
       "      <td>6.95185</td>\n",
       "      <td>48178.98</td>\n",
       "    </tr>\n",
       "    <tr>\n",
       "      <th>4</th>\n",
       "      <td>2021-12-15 00:04:00</td>\n",
       "      <td>48178.99</td>\n",
       "      <td>48189.66</td>\n",
       "      <td>48156.08</td>\n",
       "      <td>48187.29</td>\n",
       "      <td>17.31493</td>\n",
       "      <td>48187.29</td>\n",
       "    </tr>\n",
       "  </tbody>\n",
       "</table>\n",
       "</div>"
      ],
      "text/plain": [
       "                  time      open      high       low     close    volume  \\\n",
       "0  2021-12-15 00:00:00  48120.88  48157.41  48120.87  48136.00  14.51234   \n",
       "1  2021-12-15 00:01:00  48136.00  48145.09  48112.28  48129.20   9.31538   \n",
       "2  2021-12-15 00:02:00  48129.20  48185.21  48126.67  48184.64  12.80545   \n",
       "3  2021-12-15 00:03:00  48184.64  48186.88  48173.02  48178.98   6.95185   \n",
       "4  2021-12-15 00:04:00  48178.99  48189.66  48156.08  48187.29  17.31493   \n",
       "\n",
       "   adj_close  \n",
       "0   48136.00  \n",
       "1   48129.20  \n",
       "2   48184.64  \n",
       "3   48178.98  \n",
       "4   48187.29  "
      ]
     },
     "execution_count": 27,
     "metadata": {},
     "output_type": "execute_result"
    }
   ],
   "source": [
    "df.head()"
   ]
  },
  {
   "cell_type": "code",
   "execution_count": 5,
   "id": "ed1460c9",
   "metadata": {},
   "outputs": [],
   "source": [
    "dfts = TimeSeries.from_dataframe(df)"
   ]
  },
  {
   "cell_type": "code",
   "execution_count": 6,
   "id": "cc8e4be5",
   "metadata": {},
   "outputs": [
    {
     "data": {
      "image/png": "[encoded data removed]",
      "text/plain": [
       "<Figure size 432x288 with 1 Axes>"
      ]
     },
     "metadata": {
      "needs_background": "light"
     },
     "output_type": "display_data"
    }
   ],
   "source": [
    "dfts['close'].plot()"
   ]
  },
  {
   "cell_type": "code",
   "execution_count": 7,
   "id": "de7d3a85",
   "metadata": {},
   "outputs": [],
   "source": [
    "close_train = dfts['close'][:int(0.8*df.shape[0])]"
   ]
  },
  {
   "cell_type": "code",
   "execution_count": 8,
   "id": "f9046c66",
   "metadata": {},
   "outputs": [],
   "source": [
    "close_val = dfts['close'][int(0.8*df.shape[0]):]"
   ]
  },
  {
   "cell_type": "code",
   "execution_count": 9,
   "id": "c7c84416",
   "metadata": {},
   "outputs": [
    {
     "data": {
      "image/png": "[encoded data removed]",
      "text/plain": [
       "<Figure size 432x288 with 1 Axes>"
      ]
     },
     "metadata": {
      "needs_background": "light"
     },
     "output_type": "display_data"
    }
   ],
   "source": [
    "close_train.plot()\n",
    "close_val.plot()"
   ]
  },
  {
   "cell_type": "code",
   "execution_count": 10,
   "id": "9aee666b",
   "metadata": {},
   "outputs": [
    {
     "data": {
      "image/png": "[encoded data removed]",
      "text/plain": [
       "<Figure size 432x288 with 1 Axes>"
      ]
     },
     "metadata": {
      "needs_background": "light"
     },
     "output_type": "display_data"
    }
   ],
   "source": [
    "scaler = Scaler()\n",
    "# [0] because singular\n",
    "close_train_scaled = scaler.fit_transform([close_train])[0]\n",
    "\n",
    "close_train_scaled.plot()"
   ]
  },
  {
   "cell_type": "markdown",
   "id": "5b83cf5b",
   "metadata": {},
   "source": [
    "## Model"
   ]
  },
  {
   "cell_type": "code",
   "execution_count": 11,
   "id": "5fcc8a70",
   "metadata": {},
   "outputs": [],
   "source": [
    "model = NBEATSModel(input_chunk_length=24, output_chunk_length=12, random_state=42)"
   ]
  },
  {
   "cell_type": "code",
   "execution_count": 12,
   "id": "d2524c74",
   "metadata": {},
   "outputs": [
    {
     "name": "stderr",
     "output_type": "stream",
     "text": [
      "[2022-02-22 01:12:27,003] INFO | darts.models.forecasting.torch_forecasting_model | Train dataset contains 138205 samples.\n",
      "[2022-02-22 01:12:27,003] INFO | darts.models.forecasting.torch_forecasting_model | Train dataset contains 138205 samples.\n",
      "[2022-02-22 01:12:27,041] INFO | darts.models.forecasting.torch_forecasting_model | Time series values are 64-bits; casting model to float64.\n",
      "[2022-02-22 01:12:27,041] INFO | darts.models.forecasting.torch_forecasting_model | Time series values are 64-bits; casting model to float64.\n",
      "[2022-02-22 01:12:27,041] WARNING | darts.models.forecasting.torch_forecasting_model | DeprecationWarning: kwarg `verbose` is deprecated and will be removed in a future Darts version. Instead, control verbosity with PyTorch Lightning Trainer parameters `enable_progress_bar`, `progress_bar_refresh_rate` and `enable_model_summary` in the `pl_trainer_kwargs` dict at model creation.\n",
      "[2022-02-22 01:12:27,041] WARNING | darts.models.forecasting.torch_forecasting_model | DeprecationWarning: kwarg `verbose` is deprecated and will be removed in a future Darts version. Instead, control verbosity with PyTorch Lightning Trainer parameters `enable_progress_bar`, `progress_bar_refresh_rate` and `enable_model_summary` in the `pl_trainer_kwargs` dict at model creation.\n",
      "GPU available: True, used: False\n",
      "TPU available: False, using: 0 TPU cores\n",
      "IPU available: False, using: 0 IPUs\n",
      "\n",
      "  | Name      | Type       | Params\n",
      "-----------------------------------------\n",
      "0 | criterion | MSELoss    | 0     \n",
      "1 | stacks    | ModuleList | 6.2 M \n",
      "-----------------------------------------\n",
      "6.2 M     Trainable params\n",
      "1.4 K     Non-trainable params\n",
      "6.2 M     Total params\n",
      "49.575    Total estimated model params size (MB)\n"
     ]
    },
    {
     "data": {
      "application/vnd.jupyter.widget-view+json": {
       "model_id": "b985a467c54c4a1e8c4877a257089ad5",
       "version_major": 2,
       "version_minor": 0
      },
      "text/plain": [
       "Training: 0it [00:00, ?it/s]"
      ]
     },
     "metadata": {},
     "output_type": "display_data"
    },
    {
     "data": {
      "text/plain": [
       "<darts.models.forecasting.nbeats.NBEATSModel at 0x7f26f919deb0>"
      ]
     },
     "execution_count": 12,
     "metadata": {},
     "output_type": "execute_result"
    }
   ],
   "source": [
    "model.fit([close_train_scaled], epochs=5, verbose=True)"
   ]
  },
  {
   "cell_type": "code",
   "execution_count": 13,
   "id": "550de44b",
   "metadata": {},
   "outputs": [
    {
     "data": {
      "application/vnd.jupyter.widget-view+json": {
       "model_id": "5a071f5b2e3543e1b0bbffd8eca575e6",
       "version_major": 2,
       "version_minor": 0
      },
      "text/plain": [
       "Predicting: 4319it [00:00, ?it/s]"
      ]
     },
     "metadata": {},
     "output_type": "display_data"
    }
   ],
   "source": [
    "pred_train_close = model.predict(series=close_train_scaled, n=36)"
   ]
  },
  {
   "cell_type": "code",
   "execution_count": 14,
   "id": "512edc3b",
   "metadata": {},
   "outputs": [],
   "source": [
    "# scale back:\n",
    "pred_train_close = scaler.inverse_transform([pred_train_close])"
   ]
  },
  {
   "cell_type": "code",
   "execution_count": 19,
   "id": "eb01c2bb",
   "metadata": {},
   "outputs": [
    {
     "data": {
      "image/png": "[encoded data removed]",
      "text/plain": [
       "<Figure size 720x432 with 1 Axes>"
      ]
     },
     "metadata": {
      "needs_background": "light"
     },
     "output_type": "display_data"
    }
   ],
   "source": [
    "plt.figure(figsize=(10, 6))\n",
    "# prev train\n",
    "close_train[-100:].plot(label=\"past prices\")\n",
    "#actual\n",
    "close_val[:36].plot(label=\"actual prices\")\n",
    "# pred\n",
    "pred_train_close[0].plot(label=\"pred prices\")"
   ]
  },
  {
   "cell_type": "markdown",
   "id": "6ae715df",
   "metadata": {},
   "source": [
    "## Historical Forecast"
   ]
  },
  {
   "cell_type": "code",
   "execution_count": 16,
   "id": "f4afd63c",
   "metadata": {
    "scrolled": true
   },
   "outputs": [
    {
     "data": {
      "application/vnd.jupyter.widget-view+json": {
       "model_id": "d7ceaebf4985494baf4ac4a67d2e88f2",
       "version_major": 2,
       "version_minor": 0
      },
      "text/plain": [
       "  0%|          | 0/276 [00:00<?, ?it/s]"
      ]
     },
     "metadata": {},
     "output_type": "display_data"
    },
    {
     "data": {
      "application/vnd.jupyter.widget-view+json": {
       "model_id": "f35b2f56efe242a593bd434d5afe171e",
       "version_major": 2,
       "version_minor": 0
      },
      "text/plain": [
       "Predicting: 4319it [00:00, ?it/s]"
      ]
     },
     "metadata": {},
     "output_type": "display_data"
    },
    {
     "data": {
      "application/vnd.jupyter.widget-view+json": {
       "model_id": "afa906947f01413e85ddb452a97729f5",
       "version_major": 2,
       "version_minor": 0
      },
      "text/plain": [
       "Predicting: 4319it [00:00, ?it/s]"
      ]
     },
     "metadata": {},
     "output_type": "display_data"
    },
    {
     "data": {
      "application/vnd.jupyter.widget-view+json": {
       "model_id": "981bd0d28eeb43e9925e199464015cbb",
       "version_major": 2,
       "version_minor": 0
      },
      "text/plain": [
       "Predicting: 4319it [00:00, ?it/s]"
      ]
     },
     "metadata": {},
     "output_type": "display_data"
    },
    {
     "data": {
      "application/vnd.jupyter.widget-view+json": {
       "model_id": "f75783e603f048da9352648220efe08a",
       "version_major": 2,
       "version_minor": 0
      },
      "text/plain": [
       "Predicting: 4319it [00:00, ?it/s]"
      ]
     },
     "metadata": {},
     "output_type": "display_data"
    },
    {
     "data": {
      "application/vnd.jupyter.widget-view+json": {
       "model_id": "2cb626d1e4934e40b670f41726dab2f0",
       "version_major": 2,
       "version_minor": 0
      },
      "text/plain": [
       "Predicting: 4319it [00:00, ?it/s]"
      ]
     },
     "metadata": {},
     "output_type": "display_data"
    },
    {
     "data": {
      "application/vnd.jupyter.widget-view+json": {
       "model_id": "7513899fb13c47f0b95b1cc92708289a",
       "version_major": 2,
       "version_minor": 0
      },
      "text/plain": [
       "Predicting: 4319it [00:00, ?it/s]"
      ]
     },
     "metadata": {},
     "output_type": "display_data"
    },
    {
     "data": {
      "application/vnd.jupyter.widget-view+json": {
       "model_id": "530768e965cc486580e4b0bfc05315ef",
       "version_major": 2,
       "version_minor": 0
      },
      "text/plain": [
       "Predicting: 4319it [00:00, ?it/s]"
      ]
     },
     "metadata": {},
     "output_type": "display_data"
    },
    {
     "data": {
      "application/vnd.jupyter.widget-view+json": {
       "model_id": "13b17efc44024f04bf6a5da90b5dcc0d",
       "version_major": 2,
       "version_minor": 0
      },
      "text/plain": [
       "Predicting: 4319it [00:00, ?it/s]"
      ]
     },
     "metadata": {},
     "output_type": "display_data"
    },
    {
     "data": {
      "application/vnd.jupyter.widget-view+json": {
       "model_id": "1737b725c2bc46ce819f6e2492bcb671",
       "version_major": 2,
       "version_minor": 0
      },
      "text/plain": [
       "Predicting: 4319it [00:00, ?it/s]"
      ]
     },
     "metadata": {},
     "output_type": "display_data"
    },
    {
     "data": {
      "application/vnd.jupyter.widget-view+json": {
       "model_id": "753465ac1e8e44e9842b76026daae5bf",
       "version_major": 2,
       "version_minor": 0
      },
      "text/plain": [
       "Predicting: 4319it [00:00, ?it/s]"
      ]
     },
     "metadata": {},
     "output_type": "display_data"
    },
    {
     "data": {
      "application/vnd.jupyter.widget-view+json": {
       "model_id": "560a8ea466e94e9db2e6c903be97f1a8",
       "version_major": 2,
       "version_minor": 0
      },
      "text/plain": [
       "Predicting: 4319it [00:00, ?it/s]"
      ]
     },
     "metadata": {},
     "output_type": "display_data"
    },
    {
     "data": {
      "application/vnd.jupyter.widget-view+json": {
       "model_id": "4c9e365a377f4547a81a98ddb4636c6f",
       "version_major": 2,
       "version_minor": 0
      },
      "text/plain": [
       "Predicting: 4319it [00:00, ?it/s]"
      ]
     },
     "metadata": {},
     "output_type": "display_data"
    },
    {
     "data": {
      "application/vnd.jupyter.widget-view+json": {
       "model_id": "13dea4ee69d741cea4116207bc7fc313",
       "version_major": 2,
       "version_minor": 0
      },
      "text/plain": [
       "Predicting: 4319it [00:00, ?it/s]"
      ]
     },
     "metadata": {},
     "output_type": "display_data"
    },
    {
     "data": {
      "application/vnd.jupyter.widget-view+json": {
       "model_id": "c7a26c2a81fe4f27a652c6df49e7a01a",
       "version_major": 2,
       "version_minor": 0
      },
      "text/plain": [
       "Predicting: 4319it [00:00, ?it/s]"
      ]
     },
     "metadata": {},
     "output_type": "display_data"
    },
    {
     "data": {
      "application/vnd.jupyter.widget-view+json": {
       "model_id": "fb35ca4600ad49909e170a9e58f1b1ae",
       "version_major": 2,
       "version_minor": 0
      },
      "text/plain": [
       "Predicting: 4319it [00:00, ?it/s]"
      ]
     },
     "metadata": {},
     "output_type": "display_data"
    },
    {
     "data": {
      "application/vnd.jupyter.widget-view+json": {
       "model_id": "1ab99beab2154bf7b1bea27571821a99",
       "version_major": 2,
       "version_minor": 0
      },
      "text/plain": [
       "Predicting: 4319it [00:00, ?it/s]"
      ]
     },
     "metadata": {},
     "output_type": "display_data"
    },
    {
     "data": {
      "application/vnd.jupyter.widget-view+json": {
       "model_id": "d017fdda1e284213a7652efc9efb006a",
       "version_major": 2,
       "version_minor": 0
      },
      "text/plain": [
       "Predicting: 4319it [00:00, ?it/s]"
      ]
     },
     "metadata": {},
     "output_type": "display_data"
    },
    {
     "data": {
      "application/vnd.jupyter.widget-view+json": {
       "model_id": "ac6ed5059bce49b28f12f4c43cc811e6",
       "version_major": 2,
       "version_minor": 0
      },
      "text/plain": [
       "Predicting: 4319it [00:00, ?it/s]"
      ]
     },
     "metadata": {},
     "output_type": "display_data"
    },
    {
     "data": {
      "application/vnd.jupyter.widget-view+json": {
       "model_id": "1f99b2e9edd244a7a4c656e1e9ec567d",
       "version_major": 2,
       "version_minor": 0
      },
      "text/plain": [
       "Predicting: 4319it [00:00, ?it/s]"
      ]
     },
     "metadata": {},
     "output_type": "display_data"
    },
    {
     "data": {
      "application/vnd.jupyter.widget-view+json": {
       "model_id": "fe6586b623484636b12d9a79a5b40aa9",
       "version_major": 2,
       "version_minor": 0
      },
      "text/plain": [
       "Predicting: 4319it [00:00, ?it/s]"
      ]
     },
     "metadata": {},
     "output_type": "display_data"
    },
    {
     "data": {
      "application/vnd.jupyter.widget-view+json": {
       "model_id": "2c8fd74a751f47e79ee378427310d117",
       "version_major": 2,
       "version_minor": 0
      },
      "text/plain": [
       "Predicting: 4319it [00:00, ?it/s]"
      ]
     },
     "metadata": {},
     "output_type": "display_data"
    },
    {
     "data": {
      "application/vnd.jupyter.widget-view+json": {
       "model_id": "4844be9bf34e40fabca876455d2a4df8",
       "version_major": 2,
       "version_minor": 0
      },
      "text/plain": [
       "Predicting: 4319it [00:00, ?it/s]"
      ]
     },
     "metadata": {},
     "output_type": "display_data"
    },
    {
     "data": {
      "application/vnd.jupyter.widget-view+json": {
       "model_id": "395ec0e1128d4408b981a26eb691727a",
       "version_major": 2,
       "version_minor": 0
      },
      "text/plain": [
       "Predicting: 4319it [00:00, ?it/s]"
      ]
     },
     "metadata": {},
     "output_type": "display_data"
    },
    {
     "data": {
      "application/vnd.jupyter.widget-view+json": {
       "model_id": "039db6912283453bb02226e7fc965ef7",
       "version_major": 2,
       "version_minor": 0
      },
      "text/plain": [
       "Predicting: 4319it [00:00, ?it/s]"
      ]
     },
     "metadata": {},
     "output_type": "display_data"
    },
    {
     "data": {
      "application/vnd.jupyter.widget-view+json": {
       "model_id": "e0f5990738774cf9a5c4585bd51ed6c1",
       "version_major": 2,
       "version_minor": 0
      },
      "text/plain": [
       "Predicting: 4319it [00:00, ?it/s]"
      ]
     },
     "metadata": {},
     "output_type": "display_data"
    },
    {
     "data": {
      "application/vnd.jupyter.widget-view+json": {
       "model_id": "63b0e536137c43d8b63e823878e9b6bd",
       "version_major": 2,
       "version_minor": 0
      },
      "text/plain": [
       "Predicting: 4319it [00:00, ?it/s]"
      ]
     },
     "metadata": {},
     "output_type": "display_data"
    },
    {
     "data": {
      "application/vnd.jupyter.widget-view+json": {
       "model_id": "f85428c6511445eda791dbe33dad7795",
       "version_major": 2,
       "version_minor": 0
      },
      "text/plain": [
       "Predicting: 4319it [00:00, ?it/s]"
      ]
     },
     "metadata": {},
     "output_type": "display_data"
    },
    {
     "data": {
      "application/vnd.jupyter.widget-view+json": {
       "model_id": "b6e76500fea843f1bf8ca3ec8284ee2c",
       "version_major": 2,
       "version_minor": 0
      },
      "text/plain": [
       "Predicting: 4319it [00:00, ?it/s]"
      ]
     },
     "metadata": {},
     "output_type": "display_data"
    },
    {
     "data": {
      "application/vnd.jupyter.widget-view+json": {
       "model_id": "590ba49f7eaf4604862f97f87ab5c613",
       "version_major": 2,
       "version_minor": 0
      },
      "text/plain": [
       "Predicting: 4319it [00:00, ?it/s]"
      ]
     },
     "metadata": {},
     "output_type": "display_data"
    },
    {
     "data": {
      "application/vnd.jupyter.widget-view+json": {
       "model_id": "eb1261228d1d4b26a350f4636d973dab",
       "version_major": 2,
       "version_minor": 0
      },
      "text/plain": [
       "Predicting: 4319it [00:00, ?it/s]"
      ]
     },
     "metadata": {},
     "output_type": "display_data"
    },
    {
     "data": {
      "application/vnd.jupyter.widget-view+json": {
       "model_id": "cc214e4ff8c14d0dbd6372af5219e51c",
       "version_major": 2,
       "version_minor": 0
      },
      "text/plain": [
       "Predicting: 4319it [00:00, ?it/s]"
      ]
     },
     "metadata": {},
     "output_type": "display_data"
    },
    {
     "data": {
      "application/vnd.jupyter.widget-view+json": {
       "model_id": "7b9a98ed0086457a986830459d12397f",
       "version_major": 2,
       "version_minor": 0
      },
      "text/plain": [
       "Predicting: 4319it [00:00, ?it/s]"
      ]
     },
     "metadata": {},
     "output_type": "display_data"
    },
    {
     "data": {
      "application/vnd.jupyter.widget-view+json": {
       "model_id": "940762b80b834a8bb762875534aec396",
       "version_major": 2,
       "version_minor": 0
      },
      "text/plain": [
       "Predicting: 4319it [00:00, ?it/s]"
      ]
     },
     "metadata": {},
     "output_type": "display_data"
    },
    {
     "data": {
      "application/vnd.jupyter.widget-view+json": {
       "model_id": "85344b2ce3cc4a9d8b2c4560e12da985",
       "version_major": 2,
       "version_minor": 0
      },
      "text/plain": [
       "Predicting: 4319it [00:00, ?it/s]"
      ]
     },
     "metadata": {},
     "output_type": "display_data"
    },
    {
     "data": {
      "application/vnd.jupyter.widget-view+json": {
       "model_id": "f9b09503d62348be9e6c13edcde8da28",
       "version_major": 2,
       "version_minor": 0
      },
      "text/plain": [
       "Predicting: 4319it [00:00, ?it/s]"
      ]
     },
     "metadata": {},
     "output_type": "display_data"
    },
    {
     "data": {
      "application/vnd.jupyter.widget-view+json": {
       "model_id": "ed2146780907487b9b55365b2d43b4be",
       "version_major": 2,
       "version_minor": 0
      },
      "text/plain": [
       "Predicting: 4319it [00:00, ?it/s]"
      ]
     },
     "metadata": {},
     "output_type": "display_data"
    },
    {
     "data": {
      "application/vnd.jupyter.widget-view+json": {
       "model_id": "55a0ed16973e4c2a8800613ea3173731",
       "version_major": 2,
       "version_minor": 0
      },
      "text/plain": [
       "Predicting: 4319it [00:00, ?it/s]"
      ]
     },
     "metadata": {},
     "output_type": "display_data"
    },
    {
     "data": {
      "application/vnd.jupyter.widget-view+json": {
       "model_id": "312da99d6998400392a96dabe3f7ef68",
       "version_major": 2,
       "version_minor": 0
      },
      "text/plain": [
       "Predicting: 4319it [00:00, ?it/s]"
      ]
     },
     "metadata": {},
     "output_type": "display_data"
    },
    {
     "data": {
      "application/vnd.jupyter.widget-view+json": {
       "model_id": "954e210e6e884b7cb9961e0ee9f416b2",
       "version_major": 2,
       "version_minor": 0
      },
      "text/plain": [
       "Predicting: 4319it [00:00, ?it/s]"
      ]
     },
     "metadata": {},
     "output_type": "display_data"
    },
    {
     "data": {
      "application/vnd.jupyter.widget-view+json": {
       "model_id": "e8526a2976f04e86a847103d2a07689b",
       "version_major": 2,
       "version_minor": 0
      },
      "text/plain": [
       "Predicting: 4319it [00:00, ?it/s]"
      ]
     },
     "metadata": {},
     "output_type": "display_data"
    },
    {
     "data": {
      "application/vnd.jupyter.widget-view+json": {
       "model_id": "2c0f425a73124da59e5b24c7885eac16",
       "version_major": 2,
       "version_minor": 0
      },
      "text/plain": [
       "Predicting: 4319it [00:00, ?it/s]"
      ]
     },
     "metadata": {},
     "output_type": "display_data"
    },
    {
     "data": {
      "application/vnd.jupyter.widget-view+json": {
       "model_id": "aacf9dc073a34bfa8c9ddc4fb8ef3be9",
       "version_major": 2,
       "version_minor": 0
      },
      "text/plain": [
       "Predicting: 4319it [00:00, ?it/s]"
      ]
     },
     "metadata": {},
     "output_type": "display_data"
    },
    {
     "data": {
      "application/vnd.jupyter.widget-view+json": {
       "model_id": "edec1f9923724bd088eacb7008e92408",
       "version_major": 2,
       "version_minor": 0
      },
      "text/plain": [
       "Predicting: 4319it [00:00, ?it/s]"
      ]
     },
     "metadata": {},
     "output_type": "display_data"
    },
    {
     "data": {
      "application/vnd.jupyter.widget-view+json": {
       "model_id": "13f359d2637043558ce9b114bd5273ec",
       "version_major": 2,
       "version_minor": 0
      },
      "text/plain": [
       "Predicting: 4319it [00:00, ?it/s]"
      ]
     },
     "metadata": {},
     "output_type": "display_data"
    },
    {
     "data": {
      "application/vnd.jupyter.widget-view+json": {
       "model_id": "b3a80f0ceed145329a566c0db6246eac",
       "version_major": 2,
       "version_minor": 0
      },
      "text/plain": [
       "Predicting: 4319it [00:00, ?it/s]"
      ]
     },
     "metadata": {},
     "output_type": "display_data"
    },
    {
     "data": {
      "application/vnd.jupyter.widget-view+json": {
       "model_id": "8534b40813764779be376dc29318fa93",
       "version_major": 2,
       "version_minor": 0
      },
      "text/plain": [
       "Predicting: 4319it [00:00, ?it/s]"
      ]
     },
     "metadata": {},
     "output_type": "display_data"
    },
    {
     "data": {
      "application/vnd.jupyter.widget-view+json": {
       "model_id": "ea8e6483dd40404c93ed971d5c84382e",
       "version_major": 2,
       "version_minor": 0
      },
      "text/plain": [
       "Predicting: 4319it [00:00, ?it/s]"
      ]
     },
     "metadata": {},
     "output_type": "display_data"
    },
    {
     "data": {
      "application/vnd.jupyter.widget-view+json": {
       "model_id": "4358c0b773e4439aaa4eba5d842a7a0f",
       "version_major": 2,
       "version_minor": 0
      },
      "text/plain": [
       "Predicting: 4319it [00:00, ?it/s]"
      ]
     },
     "metadata": {},
     "output_type": "display_data"
    },
    {
     "data": {
      "application/vnd.jupyter.widget-view+json": {
       "model_id": "0b9bd48bc34e449ba0b1c96d32a3964f",
       "version_major": 2,
       "version_minor": 0
      },
      "text/plain": [
       "Predicting: 4319it [00:00, ?it/s]"
      ]
     },
     "metadata": {},
     "output_type": "display_data"
    },
    {
     "data": {
      "application/vnd.jupyter.widget-view+json": {
       "model_id": "3d8c02e30f8c40f780d6b61ecd4bac2b",
       "version_major": 2,
       "version_minor": 0
      },
      "text/plain": [
       "Predicting: 4319it [00:00, ?it/s]"
      ]
     },
     "metadata": {},
     "output_type": "display_data"
    },
    {
     "data": {
      "application/vnd.jupyter.widget-view+json": {
       "model_id": "3f349d4a4a6c4055b7c6ee2e9a4c09cf",
       "version_major": 2,
       "version_minor": 0
      },
      "text/plain": [
       "Predicting: 4319it [00:00, ?it/s]"
      ]
     },
     "metadata": {},
     "output_type": "display_data"
    },
    {
     "data": {
      "application/vnd.jupyter.widget-view+json": {
       "model_id": "1ea99bc0c02d44bbacbae5212b50b4ed",
       "version_major": 2,
       "version_minor": 0
      },
      "text/plain": [
       "Predicting: 4319it [00:00, ?it/s]"
      ]
     },
     "metadata": {},
     "output_type": "display_data"
    },
    {
     "data": {
      "application/vnd.jupyter.widget-view+json": {
       "model_id": "f9cf4cdc3011483ca13bb600a16e0b2d",
       "version_major": 2,
       "version_minor": 0
      },
      "text/plain": [
       "Predicting: 4319it [00:00, ?it/s]"
      ]
     },
     "metadata": {},
     "output_type": "display_data"
    },
    {
     "data": {
      "application/vnd.jupyter.widget-view+json": {
       "model_id": "8519dc2aec354180aaa5ad12830b507a",
       "version_major": 2,
       "version_minor": 0
      },
      "text/plain": [
       "Predicting: 4319it [00:00, ?it/s]"
      ]
     },
     "metadata": {},
     "output_type": "display_data"
    },
    {
     "data": {
      "application/vnd.jupyter.widget-view+json": {
       "model_id": "44054dd24c0047938093e248d14b34b0",
       "version_major": 2,
       "version_minor": 0
      },
      "text/plain": [
       "Predicting: 4319it [00:00, ?it/s]"
      ]
     },
     "metadata": {},
     "output_type": "display_data"
    },
    {
     "data": {
      "application/vnd.jupyter.widget-view+json": {
       "model_id": "7b1f8af229eb44d39537dcb13f183d9c",
       "version_major": 2,
       "version_minor": 0
      },
      "text/plain": [
       "Predicting: 4319it [00:00, ?it/s]"
      ]
     },
     "metadata": {},
     "output_type": "display_data"
    },
    {
     "data": {
      "application/vnd.jupyter.widget-view+json": {
       "model_id": "af9fd27acf2b48cd83cc074d5e32d584",
       "version_major": 2,
       "version_minor": 0
      },
      "text/plain": [
       "Predicting: 4319it [00:00, ?it/s]"
      ]
     },
     "metadata": {},
     "output_type": "display_data"
    },
    {
     "data": {
      "application/vnd.jupyter.widget-view+json": {
       "model_id": "91510d93316d4e6f8109485afaa6e8f4",
       "version_major": 2,
       "version_minor": 0
      },
      "text/plain": [
       "Predicting: 4319it [00:00, ?it/s]"
      ]
     },
     "metadata": {},
     "output_type": "display_data"
    },
    {
     "data": {
      "application/vnd.jupyter.widget-view+json": {
       "model_id": "d592ff94f7204a948580fd71703eddb3",
       "version_major": 2,
       "version_minor": 0
      },
      "text/plain": [
       "Predicting: 4319it [00:00, ?it/s]"
      ]
     },
     "metadata": {},
     "output_type": "display_data"
    },
    {
     "data": {
      "application/vnd.jupyter.widget-view+json": {
       "model_id": "262643f9b46b4723b40afcc3e0bf4df1",
       "version_major": 2,
       "version_minor": 0
      },
      "text/plain": [
       "Predicting: 4319it [00:00, ?it/s]"
      ]
     },
     "metadata": {},
     "output_type": "display_data"
    },
    {
     "data": {
      "application/vnd.jupyter.widget-view+json": {
       "model_id": "9d371552b45d4e368d11dae213f013ac",
       "version_major": 2,
       "version_minor": 0
      },
      "text/plain": [
       "Predicting: 4319it [00:00, ?it/s]"
      ]
     },
     "metadata": {},
     "output_type": "display_data"
    },
    {
     "data": {
      "application/vnd.jupyter.widget-view+json": {
       "model_id": "d5bc1e466e1f417db46e329a88235d6a",
       "version_major": 2,
       "version_minor": 0
      },
      "text/plain": [
       "Predicting: 4319it [00:00, ?it/s]"
      ]
     },
     "metadata": {},
     "output_type": "display_data"
    },
    {
     "data": {
      "application/vnd.jupyter.widget-view+json": {
       "model_id": "551384ac11d04c3aa587c457783b661f",
       "version_major": 2,
       "version_minor": 0
      },
      "text/plain": [
       "Predicting: 4319it [00:00, ?it/s]"
      ]
     },
     "metadata": {},
     "output_type": "display_data"
    },
    {
     "data": {
      "application/vnd.jupyter.widget-view+json": {
       "model_id": "70b371446c3746249732a7a5134a24cc",
       "version_major": 2,
       "version_minor": 0
      },
      "text/plain": [
       "Predicting: 4319it [00:00, ?it/s]"
      ]
     },
     "metadata": {},
     "output_type": "display_data"
    },
    {
     "data": {
      "application/vnd.jupyter.widget-view+json": {
       "model_id": "e6f27711fcd34456a07e696d0bfc7f7a",
       "version_major": 2,
       "version_minor": 0
      },
      "text/plain": [
       "Predicting: 4319it [00:00, ?it/s]"
      ]
     },
     "metadata": {},
     "output_type": "display_data"
    },
    {
     "data": {
      "application/vnd.jupyter.widget-view+json": {
       "model_id": "6bc3984ef04f4ba4ace5f2837352162e",
       "version_major": 2,
       "version_minor": 0
      },
      "text/plain": [
       "Predicting: 4319it [00:00, ?it/s]"
      ]
     },
     "metadata": {},
     "output_type": "display_data"
    },
    {
     "data": {
      "application/vnd.jupyter.widget-view+json": {
       "model_id": "52f2a91f7451486a9809303dc1cd2579",
       "version_major": 2,
       "version_minor": 0
      },
      "text/plain": [
       "Predicting: 4319it [00:00, ?it/s]"
      ]
     },
     "metadata": {},
     "output_type": "display_data"
    },
    {
     "data": {
      "application/vnd.jupyter.widget-view+json": {
       "model_id": "2e9387da77354a7d96ff3f3f398d567f",
       "version_major": 2,
       "version_minor": 0
      },
      "text/plain": [
       "Predicting: 4319it [00:00, ?it/s]"
      ]
     },
     "metadata": {},
     "output_type": "display_data"
    },
    {
     "data": {
      "application/vnd.jupyter.widget-view+json": {
       "model_id": "e09ca7b891914a088d732319190d44f8",
       "version_major": 2,
       "version_minor": 0
      },
      "text/plain": [
       "Predicting: 4319it [00:00, ?it/s]"
      ]
     },
     "metadata": {},
     "output_type": "display_data"
    },
    {
     "data": {
      "application/vnd.jupyter.widget-view+json": {
       "model_id": "b11c971146594025a40db146606fcb49",
       "version_major": 2,
       "version_minor": 0
      },
      "text/plain": [
       "Predicting: 4319it [00:00, ?it/s]"
      ]
     },
     "metadata": {},
     "output_type": "display_data"
    },
    {
     "data": {
      "application/vnd.jupyter.widget-view+json": {
       "model_id": "581a4b7727de4886911183d78d59da2c",
       "version_major": 2,
       "version_minor": 0
      },
      "text/plain": [
       "Predicting: 4319it [00:00, ?it/s]"
      ]
     },
     "metadata": {},
     "output_type": "display_data"
    },
    {
     "data": {
      "application/vnd.jupyter.widget-view+json": {
       "model_id": "b24ae9ad83a8430c813e286c6d3e788d",
       "version_major": 2,
       "version_minor": 0
      },
      "text/plain": [
       "Predicting: 4319it [00:00, ?it/s]"
      ]
     },
     "metadata": {},
     "output_type": "display_data"
    },
    {
     "data": {
      "application/vnd.jupyter.widget-view+json": {
       "model_id": "d4ad4b1974f742bfbac49ee36bf6afb8",
       "version_major": 2,
       "version_minor": 0
      },
      "text/plain": [
       "Predicting: 4319it [00:00, ?it/s]"
      ]
     },
     "metadata": {},
     "output_type": "display_data"
    },
    {
     "data": {
      "application/vnd.jupyter.widget-view+json": {
       "model_id": "70f0afc0a17c4b6996897bfa0deb5ef1",
       "version_major": 2,
       "version_minor": 0
      },
      "text/plain": [
       "Predicting: 4319it [00:00, ?it/s]"
      ]
     },
     "metadata": {},
     "output_type": "display_data"
    },
    {
     "data": {
      "application/vnd.jupyter.widget-view+json": {
       "model_id": "81960281a4d543c1808be835565a2808",
       "version_major": 2,
       "version_minor": 0
      },
      "text/plain": [
       "Predicting: 4319it [00:00, ?it/s]"
      ]
     },
     "metadata": {},
     "output_type": "display_data"
    },
    {
     "data": {
      "application/vnd.jupyter.widget-view+json": {
       "model_id": "ba79d78d262243a3b48e05021f160f10",
       "version_major": 2,
       "version_minor": 0
      },
      "text/plain": [
       "Predicting: 4319it [00:00, ?it/s]"
      ]
     },
     "metadata": {},
     "output_type": "display_data"
    },
    {
     "data": {
      "application/vnd.jupyter.widget-view+json": {
       "model_id": "084fa0b1272941e1bdb848cf86699629",
       "version_major": 2,
       "version_minor": 0
      },
      "text/plain": [
       "Predicting: 4319it [00:00, ?it/s]"
      ]
     },
     "metadata": {},
     "output_type": "display_data"
    },
    {
     "data": {
      "application/vnd.jupyter.widget-view+json": {
       "model_id": "a3df9d7424924af2978929311eb9ea07",
       "version_major": 2,
       "version_minor": 0
      },
      "text/plain": [
       "Predicting: 4319it [00:00, ?it/s]"
      ]
     },
     "metadata": {},
     "output_type": "display_data"
    },
    {
     "data": {
      "application/vnd.jupyter.widget-view+json": {
       "model_id": "043625c11b644b0486ec4cb1cd6e5190",
       "version_major": 2,
       "version_minor": 0
      },
      "text/plain": [
       "Predicting: 4319it [00:00, ?it/s]"
      ]
     },
     "metadata": {},
     "output_type": "display_data"
    },
    {
     "data": {
      "application/vnd.jupyter.widget-view+json": {
       "model_id": "67101c43b8164a41863beb2ae04b912d",
       "version_major": 2,
       "version_minor": 0
      },
      "text/plain": [
       "Predicting: 4319it [00:00, ?it/s]"
      ]
     },
     "metadata": {},
     "output_type": "display_data"
    },
    {
     "data": {
      "application/vnd.jupyter.widget-view+json": {
       "model_id": "65fb44aba6c5465faadd3fee850893d3",
       "version_major": 2,
       "version_minor": 0
      },
      "text/plain": [
       "Predicting: 4319it [00:00, ?it/s]"
      ]
     },
     "metadata": {},
     "output_type": "display_data"
    },
    {
     "data": {
      "application/vnd.jupyter.widget-view+json": {
       "model_id": "34950d2b5f5c4d80a87f97d2ddddafea",
       "version_major": 2,
       "version_minor": 0
      },
      "text/plain": [
       "Predicting: 4319it [00:00, ?it/s]"
      ]
     },
     "metadata": {},
     "output_type": "display_data"
    },
    {
     "data": {
      "application/vnd.jupyter.widget-view+json": {
       "model_id": "3b25185fe09d45f0bededc92adcec547",
       "version_major": 2,
       "version_minor": 0
      },
      "text/plain": [
       "Predicting: 4319it [00:00, ?it/s]"
      ]
     },
     "metadata": {},
     "output_type": "display_data"
    },
    {
     "data": {
      "application/vnd.jupyter.widget-view+json": {
       "model_id": "fc0c978fc3914d4cb63d874ea80a8367",
       "version_major": 2,
       "version_minor": 0
      },
      "text/plain": [
       "Predicting: 4319it [00:00, ?it/s]"
      ]
     },
     "metadata": {},
     "output_type": "display_data"
    },
    {
     "data": {
      "application/vnd.jupyter.widget-view+json": {
       "model_id": "c349cc30c25246b3ab68a32000388d3a",
       "version_major": 2,
       "version_minor": 0
      },
      "text/plain": [
       "Predicting: 4319it [00:00, ?it/s]"
      ]
     },
     "metadata": {},
     "output_type": "display_data"
    },
    {
     "data": {
      "application/vnd.jupyter.widget-view+json": {
       "model_id": "134d249947a847aa89203f28e2c479d7",
       "version_major": 2,
       "version_minor": 0
      },
      "text/plain": [
       "Predicting: 4319it [00:00, ?it/s]"
      ]
     },
     "metadata": {},
     "output_type": "display_data"
    },
    {
     "data": {
      "application/vnd.jupyter.widget-view+json": {
       "model_id": "63e0b2ac5261402993fbd1a9315c5e53",
       "version_major": 2,
       "version_minor": 0
      },
      "text/plain": [
       "Predicting: 4319it [00:00, ?it/s]"
      ]
     },
     "metadata": {},
     "output_type": "display_data"
    },
    {
     "data": {
      "application/vnd.jupyter.widget-view+json": {
       "model_id": "3dcbbe42f6624758ba03434ce060bf0f",
       "version_major": 2,
       "version_minor": 0
      },
      "text/plain": [
       "Predicting: 4319it [00:00, ?it/s]"
      ]
     },
     "metadata": {},
     "output_type": "display_data"
    },
    {
     "data": {
      "application/vnd.jupyter.widget-view+json": {
       "model_id": "c261281050a340c399e40147313dd0f6",
       "version_major": 2,
       "version_minor": 0
      },
      "text/plain": [
       "Predicting: 4319it [00:00, ?it/s]"
      ]
     },
     "metadata": {},
     "output_type": "display_data"
    },
    {
     "data": {
      "application/vnd.jupyter.widget-view+json": {
       "model_id": "1159656f40494b19899b7b5f54d38cbe",
       "version_major": 2,
       "version_minor": 0
      },
      "text/plain": [
       "Predicting: 4319it [00:00, ?it/s]"
      ]
     },
     "metadata": {},
     "output_type": "display_data"
    },
    {
     "data": {
      "application/vnd.jupyter.widget-view+json": {
       "model_id": "9a41c5f4f4bd4d108573759bf94ca861",
       "version_major": 2,
       "version_minor": 0
      },
      "text/plain": [
       "Predicting: 4319it [00:00, ?it/s]"
      ]
     },
     "metadata": {},
     "output_type": "display_data"
    },
    {
     "data": {
      "application/vnd.jupyter.widget-view+json": {
       "model_id": "c31a254f56024e36b02ecd798b8ba6f4",
       "version_major": 2,
       "version_minor": 0
      },
      "text/plain": [
       "Predicting: 4319it [00:00, ?it/s]"
      ]
     },
     "metadata": {},
     "output_type": "display_data"
    },
    {
     "data": {
      "application/vnd.jupyter.widget-view+json": {
       "model_id": "7705016a889b4667b786b6c08f4ab59b",
       "version_major": 2,
       "version_minor": 0
      },
      "text/plain": [
       "Predicting: 4319it [00:00, ?it/s]"
      ]
     },
     "metadata": {},
     "output_type": "display_data"
    },
    {
     "data": {
      "application/vnd.jupyter.widget-view+json": {
       "model_id": "ddea695e8b4449afa042831b7fbb72f8",
       "version_major": 2,
       "version_minor": 0
      },
      "text/plain": [
       "Predicting: 4319it [00:00, ?it/s]"
      ]
     },
     "metadata": {},
     "output_type": "display_data"
    },
    {
     "data": {
      "application/vnd.jupyter.widget-view+json": {
       "model_id": "7147bde33edb4b1aa833d1bea82c3acf",
       "version_major": 2,
       "version_minor": 0
      },
      "text/plain": [
       "Predicting: 4319it [00:00, ?it/s]"
      ]
     },
     "metadata": {},
     "output_type": "display_data"
    },
    {
     "data": {
      "application/vnd.jupyter.widget-view+json": {
       "model_id": "2580754b9ee249dca67a89decb8e388c",
       "version_major": 2,
       "version_minor": 0
      },
      "text/plain": [
       "Predicting: 4319it [00:00, ?it/s]"
      ]
     },
     "metadata": {},
     "output_type": "display_data"
    },
    {
     "data": {
      "application/vnd.jupyter.widget-view+json": {
       "model_id": "0646bf676c8b436b90338cbc99d17252",
       "version_major": 2,
       "version_minor": 0
      },
      "text/plain": [
       "Predicting: 4319it [00:00, ?it/s]"
      ]
     },
     "metadata": {},
     "output_type": "display_data"
    },
    {
     "data": {
      "application/vnd.jupyter.widget-view+json": {
       "model_id": "e27f2e2b2e4e4700bea1f194dc67a7a6",
       "version_major": 2,
       "version_minor": 0
      },
      "text/plain": [
       "Predicting: 4319it [00:00, ?it/s]"
      ]
     },
     "metadata": {},
     "output_type": "display_data"
    },
    {
     "data": {
      "application/vnd.jupyter.widget-view+json": {
       "model_id": "e0a05daf8e99404fbeedf1696611e578",
       "version_major": 2,
       "version_minor": 0
      },
      "text/plain": [
       "Predicting: 4319it [00:00, ?it/s]"
      ]
     },
     "metadata": {},
     "output_type": "display_data"
    },
    {
     "data": {
      "application/vnd.jupyter.widget-view+json": {
       "model_id": "7b6c0df98159424ca126a28596302323",
       "version_major": 2,
       "version_minor": 0
      },
      "text/plain": [
       "Predicting: 4319it [00:00, ?it/s]"
      ]
     },
     "metadata": {},
     "output_type": "display_data"
    },
    {
     "data": {
      "application/vnd.jupyter.widget-view+json": {
       "model_id": "0618cc3b01894ab18b14c15b9c1e45ba",
       "version_major": 2,
       "version_minor": 0
      },
      "text/plain": [
       "Predicting: 4319it [00:00, ?it/s]"
      ]
     },
     "metadata": {},
     "output_type": "display_data"
    },
    {
     "data": {
      "application/vnd.jupyter.widget-view+json": {
       "model_id": "a0a0ea486b7347819d790f8cead434df",
       "version_major": 2,
       "version_minor": 0
      },
      "text/plain": [
       "Predicting: 4319it [00:00, ?it/s]"
      ]
     },
     "metadata": {},
     "output_type": "display_data"
    },
    {
     "data": {
      "application/vnd.jupyter.widget-view+json": {
       "model_id": "1054a73b944d42848588f98b4fbfb812",
       "version_major": 2,
       "version_minor": 0
      },
      "text/plain": [
       "Predicting: 4319it [00:00, ?it/s]"
      ]
     },
     "metadata": {},
     "output_type": "display_data"
    },
    {
     "data": {
      "application/vnd.jupyter.widget-view+json": {
       "model_id": "a4830b42c7e24420b5442628c2d72f7e",
       "version_major": 2,
       "version_minor": 0
      },
      "text/plain": [
       "Predicting: 4319it [00:00, ?it/s]"
      ]
     },
     "metadata": {},
     "output_type": "display_data"
    },
    {
     "data": {
      "application/vnd.jupyter.widget-view+json": {
       "model_id": "9c5b2acedbc94f98b04ea04bdcb3191b",
       "version_major": 2,
       "version_minor": 0
      },
      "text/plain": [
       "Predicting: 4319it [00:00, ?it/s]"
      ]
     },
     "metadata": {},
     "output_type": "display_data"
    },
    {
     "data": {
      "application/vnd.jupyter.widget-view+json": {
       "model_id": "d40b333cdd0845e8a16cbc05c593851f",
       "version_major": 2,
       "version_minor": 0
      },
      "text/plain": [
       "Predicting: 4319it [00:00, ?it/s]"
      ]
     },
     "metadata": {},
     "output_type": "display_data"
    },
    {
     "data": {
      "application/vnd.jupyter.widget-view+json": {
       "model_id": "31927e66093044e9827b1b7108d17c09",
       "version_major": 2,
       "version_minor": 0
      },
      "text/plain": [
       "Predicting: 4319it [00:00, ?it/s]"
      ]
     },
     "metadata": {},
     "output_type": "display_data"
    },
    {
     "data": {
      "application/vnd.jupyter.widget-view+json": {
       "model_id": "86a91039ad3f453c913ef2623e755ed9",
       "version_major": 2,
       "version_minor": 0
      },
      "text/plain": [
       "Predicting: 4319it [00:00, ?it/s]"
      ]
     },
     "metadata": {},
     "output_type": "display_data"
    },
    {
     "data": {
      "application/vnd.jupyter.widget-view+json": {
       "model_id": "8a441ee6412449b7a5e893fbe90f1d98",
       "version_major": 2,
       "version_minor": 0
      },
      "text/plain": [
       "Predicting: 4319it [00:00, ?it/s]"
      ]
     },
     "metadata": {},
     "output_type": "display_data"
    },
    {
     "data": {
      "application/vnd.jupyter.widget-view+json": {
       "model_id": "ce0f6cd01dad4f90bcab03f70552b0b9",
       "version_major": 2,
       "version_minor": 0
      },
      "text/plain": [
       "Predicting: 4319it [00:00, ?it/s]"
      ]
     },
     "metadata": {},
     "output_type": "display_data"
    },
    {
     "data": {
      "application/vnd.jupyter.widget-view+json": {
       "model_id": "b66b057573be4d888c62db9ded110134",
       "version_major": 2,
       "version_minor": 0
      },
      "text/plain": [
       "Predicting: 4319it [00:00, ?it/s]"
      ]
     },
     "metadata": {},
     "output_type": "display_data"
    },
    {
     "data": {
      "application/vnd.jupyter.widget-view+json": {
       "model_id": "c15337f3146e4438a03865bc045243b8",
       "version_major": 2,
       "version_minor": 0
      },
      "text/plain": [
       "Predicting: 4319it [00:00, ?it/s]"
      ]
     },
     "metadata": {},
     "output_type": "display_data"
    },
    {
     "data": {
      "application/vnd.jupyter.widget-view+json": {
       "model_id": "ac39b562d9d84adfa172086e70b87cbc",
       "version_major": 2,
       "version_minor": 0
      },
      "text/plain": [
       "Predicting: 4319it [00:00, ?it/s]"
      ]
     },
     "metadata": {},
     "output_type": "display_data"
    },
    {
     "data": {
      "application/vnd.jupyter.widget-view+json": {
       "model_id": "b82dce50edde453e92bca546cca31208",
       "version_major": 2,
       "version_minor": 0
      },
      "text/plain": [
       "Predicting: 4319it [00:00, ?it/s]"
      ]
     },
     "metadata": {},
     "output_type": "display_data"
    },
    {
     "data": {
      "application/vnd.jupyter.widget-view+json": {
       "model_id": "9d3a461facbe484ca98c232636c717b9",
       "version_major": 2,
       "version_minor": 0
      },
      "text/plain": [
       "Predicting: 4319it [00:00, ?it/s]"
      ]
     },
     "metadata": {},
     "output_type": "display_data"
    },
    {
     "data": {
      "application/vnd.jupyter.widget-view+json": {
       "model_id": "7de12ac652154dc88ca63955e1e0f836",
       "version_major": 2,
       "version_minor": 0
      },
      "text/plain": [
       "Predicting: 4319it [00:00, ?it/s]"
      ]
     },
     "metadata": {},
     "output_type": "display_data"
    },
    {
     "data": {
      "application/vnd.jupyter.widget-view+json": {
       "model_id": "937e6a36bf564f16ae70e21c21f6f20e",
       "version_major": 2,
       "version_minor": 0
      },
      "text/plain": [
       "Predicting: 4319it [00:00, ?it/s]"
      ]
     },
     "metadata": {},
     "output_type": "display_data"
    },
    {
     "data": {
      "application/vnd.jupyter.widget-view+json": {
       "model_id": "835a12e68ac54be5aecbf1548963e660",
       "version_major": 2,
       "version_minor": 0
      },
      "text/plain": [
       "Predicting: 4319it [00:00, ?it/s]"
      ]
     },
     "metadata": {},
     "output_type": "display_data"
    },
    {
     "data": {
      "application/vnd.jupyter.widget-view+json": {
       "model_id": "6075f5ac9288485a9b17cb5c62b55d36",
       "version_major": 2,
       "version_minor": 0
      },
      "text/plain": [
       "Predicting: 4319it [00:00, ?it/s]"
      ]
     },
     "metadata": {},
     "output_type": "display_data"
    },
    {
     "data": {
      "application/vnd.jupyter.widget-view+json": {
       "model_id": "3bee2a55c89144589bb9edabe19044b4",
       "version_major": 2,
       "version_minor": 0
      },
      "text/plain": [
       "Predicting: 4319it [00:00, ?it/s]"
      ]
     },
     "metadata": {},
     "output_type": "display_data"
    },
    {
     "data": {
      "application/vnd.jupyter.widget-view+json": {
       "model_id": "902680547f1b477caee9d16906aef1af",
       "version_major": 2,
       "version_minor": 0
      },
      "text/plain": [
       "Predicting: 4319it [00:00, ?it/s]"
      ]
     },
     "metadata": {},
     "output_type": "display_data"
    },
    {
     "data": {
      "application/vnd.jupyter.widget-view+json": {
       "model_id": "9e8a1dc243634f7bbe0197e79d8aa66d",
       "version_major": 2,
       "version_minor": 0
      },
      "text/plain": [
       "Predicting: 4319it [00:00, ?it/s]"
      ]
     },
     "metadata": {},
     "output_type": "display_data"
    },
    {
     "data": {
      "application/vnd.jupyter.widget-view+json": {
       "model_id": "cd039601cb674163ab41e453def21cec",
       "version_major": 2,
       "version_minor": 0
      },
      "text/plain": [
       "Predicting: 4319it [00:00, ?it/s]"
      ]
     },
     "metadata": {},
     "output_type": "display_data"
    },
    {
     "data": {
      "application/vnd.jupyter.widget-view+json": {
       "model_id": "187fdaf9fd384076bb64aed42fa77107",
       "version_major": 2,
       "version_minor": 0
      },
      "text/plain": [
       "Predicting: 4319it [00:00, ?it/s]"
      ]
     },
     "metadata": {},
     "output_type": "display_data"
    },
    {
     "data": {
      "application/vnd.jupyter.widget-view+json": {
       "model_id": "2b45d92188b9458a9ae1913cd12870a9",
       "version_major": 2,
       "version_minor": 0
      },
      "text/plain": [
       "Predicting: 4319it [00:00, ?it/s]"
      ]
     },
     "metadata": {},
     "output_type": "display_data"
    },
    {
     "data": {
      "application/vnd.jupyter.widget-view+json": {
       "model_id": "d65ad56154c943beb1059f3275a996ec",
       "version_major": 2,
       "version_minor": 0
      },
      "text/plain": [
       "Predicting: 4319it [00:00, ?it/s]"
      ]
     },
     "metadata": {},
     "output_type": "display_data"
    },
    {
     "data": {
      "application/vnd.jupyter.widget-view+json": {
       "model_id": "cdb6430cf76c4142a893973229b263a1",
       "version_major": 2,
       "version_minor": 0
      },
      "text/plain": [
       "Predicting: 4319it [00:00, ?it/s]"
      ]
     },
     "metadata": {},
     "output_type": "display_data"
    },
    {
     "data": {
      "application/vnd.jupyter.widget-view+json": {
       "model_id": "89286693a9994cfc9e04d2e4540beabf",
       "version_major": 2,
       "version_minor": 0
      },
      "text/plain": [
       "Predicting: 4319it [00:00, ?it/s]"
      ]
     },
     "metadata": {},
     "output_type": "display_data"
    },
    {
     "data": {
      "application/vnd.jupyter.widget-view+json": {
       "model_id": "c57385b9091e4ee3845596db46dca470",
       "version_major": 2,
       "version_minor": 0
      },
      "text/plain": [
       "Predicting: 4319it [00:00, ?it/s]"
      ]
     },
     "metadata": {},
     "output_type": "display_data"
    },
    {
     "data": {
      "application/vnd.jupyter.widget-view+json": {
       "model_id": "a892d11eccc749de805439ad2f437f71",
       "version_major": 2,
       "version_minor": 0
      },
      "text/plain": [
       "Predicting: 4319it [00:00, ?it/s]"
      ]
     },
     "metadata": {},
     "output_type": "display_data"
    },
    {
     "data": {
      "application/vnd.jupyter.widget-view+json": {
       "model_id": "80480e15127f4d439be881edbff4d941",
       "version_major": 2,
       "version_minor": 0
      },
      "text/plain": [
       "Predicting: 4319it [00:00, ?it/s]"
      ]
     },
     "metadata": {},
     "output_type": "display_data"
    },
    {
     "data": {
      "application/vnd.jupyter.widget-view+json": {
       "model_id": "d9ef902ac6a946e49f810e35eaa3a17d",
       "version_major": 2,
       "version_minor": 0
      },
      "text/plain": [
       "Predicting: 4319it [00:00, ?it/s]"
      ]
     },
     "metadata": {},
     "output_type": "display_data"
    },
    {
     "data": {
      "application/vnd.jupyter.widget-view+json": {
       "model_id": "7de2b34f6ad24afd80a7341f3995c9f1",
       "version_major": 2,
       "version_minor": 0
      },
      "text/plain": [
       "Predicting: 4319it [00:00, ?it/s]"
      ]
     },
     "metadata": {},
     "output_type": "display_data"
    },
    {
     "data": {
      "application/vnd.jupyter.widget-view+json": {
       "model_id": "a0cfebda993e43b88b3201111abe7800",
       "version_major": 2,
       "version_minor": 0
      },
      "text/plain": [
       "Predicting: 4319it [00:00, ?it/s]"
      ]
     },
     "metadata": {},
     "output_type": "display_data"
    },
    {
     "data": {
      "application/vnd.jupyter.widget-view+json": {
       "model_id": "5ab62b11154e423e9d0ebca324bd7994",
       "version_major": 2,
       "version_minor": 0
      },
      "text/plain": [
       "Predicting: 4319it [00:00, ?it/s]"
      ]
     },
     "metadata": {},
     "output_type": "display_data"
    },
    {
     "data": {
      "application/vnd.jupyter.widget-view+json": {
       "model_id": "aecc66382aa94d259c8d154f27179ff6",
       "version_major": 2,
       "version_minor": 0
      },
      "text/plain": [
       "Predicting: 4319it [00:00, ?it/s]"
      ]
     },
     "metadata": {},
     "output_type": "display_data"
    },
    {
     "data": {
      "application/vnd.jupyter.widget-view+json": {
       "model_id": "5808f5d8a10140bd8499b6c223d271b6",
       "version_major": 2,
       "version_minor": 0
      },
      "text/plain": [
       "Predicting: 4319it [00:00, ?it/s]"
      ]
     },
     "metadata": {},
     "output_type": "display_data"
    },
    {
     "data": {
      "application/vnd.jupyter.widget-view+json": {
       "model_id": "7059c8a9ce9d4c88821162bad50dc822",
       "version_major": 2,
       "version_minor": 0
      },
      "text/plain": [
       "Predicting: 4319it [00:00, ?it/s]"
      ]
     },
     "metadata": {},
     "output_type": "display_data"
    },
    {
     "data": {
      "application/vnd.jupyter.widget-view+json": {
       "model_id": "9e1a24e015624fb188f6045a9294ffdc",
       "version_major": 2,
       "version_minor": 0
      },
      "text/plain": [
       "Predicting: 4319it [00:00, ?it/s]"
      ]
     },
     "metadata": {},
     "output_type": "display_data"
    },
    {
     "data": {
      "application/vnd.jupyter.widget-view+json": {
       "model_id": "0fa6d743f8c646fda44c8be164f31c41",
       "version_major": 2,
       "version_minor": 0
      },
      "text/plain": [
       "Predicting: 4319it [00:00, ?it/s]"
      ]
     },
     "metadata": {},
     "output_type": "display_data"
    },
    {
     "data": {
      "application/vnd.jupyter.widget-view+json": {
       "model_id": "2722b323019c49bca23110d4bf9dbce2",
       "version_major": 2,
       "version_minor": 0
      },
      "text/plain": [
       "Predicting: 4319it [00:00, ?it/s]"
      ]
     },
     "metadata": {},
     "output_type": "display_data"
    },
    {
     "data": {
      "application/vnd.jupyter.widget-view+json": {
       "model_id": "41ce8618174644869582b0a772905e6c",
       "version_major": 2,
       "version_minor": 0
      },
      "text/plain": [
       "Predicting: 4319it [00:00, ?it/s]"
      ]
     },
     "metadata": {},
     "output_type": "display_data"
    },
    {
     "data": {
      "application/vnd.jupyter.widget-view+json": {
       "model_id": "c356261e02f04b48908a238c915a7e9e",
       "version_major": 2,
       "version_minor": 0
      },
      "text/plain": [
       "Predicting: 4319it [00:00, ?it/s]"
      ]
     },
     "metadata": {},
     "output_type": "display_data"
    },
    {
     "data": {
      "application/vnd.jupyter.widget-view+json": {
       "model_id": "a0c66017a6ee43e9867522b98b8a484e",
       "version_major": 2,
       "version_minor": 0
      },
      "text/plain": [
       "Predicting: 4319it [00:00, ?it/s]"
      ]
     },
     "metadata": {},
     "output_type": "display_data"
    },
    {
     "data": {
      "application/vnd.jupyter.widget-view+json": {
       "model_id": "3aed41f945a0436e834325db393238df",
       "version_major": 2,
       "version_minor": 0
      },
      "text/plain": [
       "Predicting: 4319it [00:00, ?it/s]"
      ]
     },
     "metadata": {},
     "output_type": "display_data"
    },
    {
     "data": {
      "application/vnd.jupyter.widget-view+json": {
       "model_id": "d1c0e02abbb546898879da683b9216ff",
       "version_major": 2,
       "version_minor": 0
      },
      "text/plain": [
       "Predicting: 4319it [00:00, ?it/s]"
      ]
     },
     "metadata": {},
     "output_type": "display_data"
    },
    {
     "data": {
      "application/vnd.jupyter.widget-view+json": {
       "model_id": "b9aec44348434d3e9e40cf47bbbe6a92",
       "version_major": 2,
       "version_minor": 0
      },
      "text/plain": [
       "Predicting: 4319it [00:00, ?it/s]"
      ]
     },
     "metadata": {},
     "output_type": "display_data"
    },
    {
     "data": {
      "application/vnd.jupyter.widget-view+json": {
       "model_id": "c4c03be10d244e1884f632cf45276ad2",
       "version_major": 2,
       "version_minor": 0
      },
      "text/plain": [
       "Predicting: 4319it [00:00, ?it/s]"
      ]
     },
     "metadata": {},
     "output_type": "display_data"
    },
    {
     "data": {
      "application/vnd.jupyter.widget-view+json": {
       "model_id": "5265325637b5472683573eac444723f4",
       "version_major": 2,
       "version_minor": 0
      },
      "text/plain": [
       "Predicting: 4319it [00:00, ?it/s]"
      ]
     },
     "metadata": {},
     "output_type": "display_data"
    },
    {
     "data": {
      "application/vnd.jupyter.widget-view+json": {
       "model_id": "e2cba3d8178444aba1e9d08681dba1ac",
       "version_major": 2,
       "version_minor": 0
      },
      "text/plain": [
       "Predicting: 4319it [00:00, ?it/s]"
      ]
     },
     "metadata": {},
     "output_type": "display_data"
    },
    {
     "data": {
      "application/vnd.jupyter.widget-view+json": {
       "model_id": "46166372576c46a483530884b733cde4",
       "version_major": 2,
       "version_minor": 0
      },
      "text/plain": [
       "Predicting: 4319it [00:00, ?it/s]"
      ]
     },
     "metadata": {},
     "output_type": "display_data"
    },
    {
     "data": {
      "application/vnd.jupyter.widget-view+json": {
       "model_id": "f00b39cb2aaa4e4eb14b85c096e3a674",
       "version_major": 2,
       "version_minor": 0
      },
      "text/plain": [
       "Predicting: 4319it [00:00, ?it/s]"
      ]
     },
     "metadata": {},
     "output_type": "display_data"
    },
    {
     "data": {
      "application/vnd.jupyter.widget-view+json": {
       "model_id": "003b43374bb0438686d8be6dcd25eeb2",
       "version_major": 2,
       "version_minor": 0
      },
      "text/plain": [
       "Predicting: 4319it [00:00, ?it/s]"
      ]
     },
     "metadata": {},
     "output_type": "display_data"
    },
    {
     "data": {
      "application/vnd.jupyter.widget-view+json": {
       "model_id": "fee6488288d74cadb81aee75f6d59bdb",
       "version_major": 2,
       "version_minor": 0
      },
      "text/plain": [
       "Predicting: 4319it [00:00, ?it/s]"
      ]
     },
     "metadata": {},
     "output_type": "display_data"
    },
    {
     "data": {
      "application/vnd.jupyter.widget-view+json": {
       "model_id": "9009d89baf8f44d6993ad65b390bac6b",
       "version_major": 2,
       "version_minor": 0
      },
      "text/plain": [
       "Predicting: 4319it [00:00, ?it/s]"
      ]
     },
     "metadata": {},
     "output_type": "display_data"
    },
    {
     "data": {
      "application/vnd.jupyter.widget-view+json": {
       "model_id": "8adbe0cf60b64b199b1f590c63e73ab7",
       "version_major": 2,
       "version_minor": 0
      },
      "text/plain": [
       "Predicting: 4319it [00:00, ?it/s]"
      ]
     },
     "metadata": {},
     "output_type": "display_data"
    },
    {
     "data": {
      "application/vnd.jupyter.widget-view+json": {
       "model_id": "bf408ce211e246b1814069f94bdf1c7d",
       "version_major": 2,
       "version_minor": 0
      },
      "text/plain": [
       "Predicting: 4319it [00:00, ?it/s]"
      ]
     },
     "metadata": {},
     "output_type": "display_data"
    },
    {
     "data": {
      "application/vnd.jupyter.widget-view+json": {
       "model_id": "1ab0c04694f5414296f777767b13514f",
       "version_major": 2,
       "version_minor": 0
      },
      "text/plain": [
       "Predicting: 4319it [00:00, ?it/s]"
      ]
     },
     "metadata": {},
     "output_type": "display_data"
    },
    {
     "data": {
      "application/vnd.jupyter.widget-view+json": {
       "model_id": "ca0c05d0095d458eadcf7d09948b07dd",
       "version_major": 2,
       "version_minor": 0
      },
      "text/plain": [
       "Predicting: 4319it [00:00, ?it/s]"
      ]
     },
     "metadata": {},
     "output_type": "display_data"
    },
    {
     "data": {
      "application/vnd.jupyter.widget-view+json": {
       "model_id": "8ea6de858b294af98c2880fc43f7fdea",
       "version_major": 2,
       "version_minor": 0
      },
      "text/plain": [
       "Predicting: 4319it [00:00, ?it/s]"
      ]
     },
     "metadata": {},
     "output_type": "display_data"
    },
    {
     "data": {
      "application/vnd.jupyter.widget-view+json": {
       "model_id": "ecf9cfa715b54c9ab12ca8d953afe03d",
       "version_major": 2,
       "version_minor": 0
      },
      "text/plain": [
       "Predicting: 4319it [00:00, ?it/s]"
      ]
     },
     "metadata": {},
     "output_type": "display_data"
    },
    {
     "data": {
      "application/vnd.jupyter.widget-view+json": {
       "model_id": "bdd0fd7d58c84ca5a6e6d00a8351e39d",
       "version_major": 2,
       "version_minor": 0
      },
      "text/plain": [
       "Predicting: 4319it [00:00, ?it/s]"
      ]
     },
     "metadata": {},
     "output_type": "display_data"
    },
    {
     "data": {
      "application/vnd.jupyter.widget-view+json": {
       "model_id": "f9cf35d882034e34bf86be7fea59bfd4",
       "version_major": 2,
       "version_minor": 0
      },
      "text/plain": [
       "Predicting: 4319it [00:00, ?it/s]"
      ]
     },
     "metadata": {},
     "output_type": "display_data"
    },
    {
     "data": {
      "application/vnd.jupyter.widget-view+json": {
       "model_id": "df4f736ed95d4550ba37d4051a736093",
       "version_major": 2,
       "version_minor": 0
      },
      "text/plain": [
       "Predicting: 4319it [00:00, ?it/s]"
      ]
     },
     "metadata": {},
     "output_type": "display_data"
    },
    {
     "data": {
      "application/vnd.jupyter.widget-view+json": {
       "model_id": "3364c52cd1b441969fe79c35190c402a",
       "version_major": 2,
       "version_minor": 0
      },
      "text/plain": [
       "Predicting: 4319it [00:00, ?it/s]"
      ]
     },
     "metadata": {},
     "output_type": "display_data"
    },
    {
     "data": {
      "application/vnd.jupyter.widget-view+json": {
       "model_id": "753b3c9882c841fd96bfc06ab7219d52",
       "version_major": 2,
       "version_minor": 0
      },
      "text/plain": [
       "Predicting: 4319it [00:00, ?it/s]"
      ]
     },
     "metadata": {},
     "output_type": "display_data"
    },
    {
     "data": {
      "application/vnd.jupyter.widget-view+json": {
       "model_id": "04604d42a5b6459298e84d357f3051d9",
       "version_major": 2,
       "version_minor": 0
      },
      "text/plain": [
       "Predicting: 4319it [00:00, ?it/s]"
      ]
     },
     "metadata": {},
     "output_type": "display_data"
    },
    {
     "data": {
      "application/vnd.jupyter.widget-view+json": {
       "model_id": "813bc44eb9c84daebbc5378298b37c1a",
       "version_major": 2,
       "version_minor": 0
      },
      "text/plain": [
       "Predicting: 4319it [00:00, ?it/s]"
      ]
     },
     "metadata": {},
     "output_type": "display_data"
    },
    {
     "data": {
      "application/vnd.jupyter.widget-view+json": {
       "model_id": "729bcd25392a42c7a97287b3036bbfc2",
       "version_major": 2,
       "version_minor": 0
      },
      "text/plain": [
       "Predicting: 4319it [00:00, ?it/s]"
      ]
     },
     "metadata": {},
     "output_type": "display_data"
    },
    {
     "data": {
      "application/vnd.jupyter.widget-view+json": {
       "model_id": "7789cdd0eadd4ec3aaf253ae7faeaf43",
       "version_major": 2,
       "version_minor": 0
      },
      "text/plain": [
       "Predicting: 4319it [00:00, ?it/s]"
      ]
     },
     "metadata": {},
     "output_type": "display_data"
    },
    {
     "data": {
      "application/vnd.jupyter.widget-view+json": {
       "model_id": "7bd75fe9b24443f5a0aa42574d48e1cb",
       "version_major": 2,
       "version_minor": 0
      },
      "text/plain": [
       "Predicting: 4319it [00:00, ?it/s]"
      ]
     },
     "metadata": {},
     "output_type": "display_data"
    },
    {
     "data": {
      "application/vnd.jupyter.widget-view+json": {
       "model_id": "69d1ed1ad86a4bdca3eb47a62811a22a",
       "version_major": 2,
       "version_minor": 0
      },
      "text/plain": [
       "Predicting: 4319it [00:00, ?it/s]"
      ]
     },
     "metadata": {},
     "output_type": "display_data"
    },
    {
     "data": {
      "application/vnd.jupyter.widget-view+json": {
       "model_id": "e94c806dc9cd4359b9d93cf0e15117d2",
       "version_major": 2,
       "version_minor": 0
      },
      "text/plain": [
       "Predicting: 4319it [00:00, ?it/s]"
      ]
     },
     "metadata": {},
     "output_type": "display_data"
    },
    {
     "data": {
      "application/vnd.jupyter.widget-view+json": {
       "model_id": "91bc3527e9574e9fa8fc0a2571f8e085",
       "version_major": 2,
       "version_minor": 0
      },
      "text/plain": [
       "Predicting: 4319it [00:00, ?it/s]"
      ]
     },
     "metadata": {},
     "output_type": "display_data"
    },
    {
     "data": {
      "application/vnd.jupyter.widget-view+json": {
       "model_id": "28c7bc70a14d4ee998a24debd34bea56",
       "version_major": 2,
       "version_minor": 0
      },
      "text/plain": [
       "Predicting: 4319it [00:00, ?it/s]"
      ]
     },
     "metadata": {},
     "output_type": "display_data"
    },
    {
     "data": {
      "application/vnd.jupyter.widget-view+json": {
       "model_id": "0b9d5a5632bd477aa084c8db96b799e2",
       "version_major": 2,
       "version_minor": 0
      },
      "text/plain": [
       "Predicting: 4319it [00:00, ?it/s]"
      ]
     },
     "metadata": {},
     "output_type": "display_data"
    },
    {
     "data": {
      "application/vnd.jupyter.widget-view+json": {
       "model_id": "201b5a75b7784a81afbd89a0d3ccfafb",
       "version_major": 2,
       "version_minor": 0
      },
      "text/plain": [
       "Predicting: 4319it [00:00, ?it/s]"
      ]
     },
     "metadata": {},
     "output_type": "display_data"
    },
    {
     "data": {
      "application/vnd.jupyter.widget-view+json": {
       "model_id": "65f57724e05948eca710cff293a8eb71",
       "version_major": 2,
       "version_minor": 0
      },
      "text/plain": [
       "Predicting: 4319it [00:00, ?it/s]"
      ]
     },
     "metadata": {},
     "output_type": "display_data"
    },
    {
     "data": {
      "application/vnd.jupyter.widget-view+json": {
       "model_id": "6e889d04e67a46b4aca8f0b187da24ef",
       "version_major": 2,
       "version_minor": 0
      },
      "text/plain": [
       "Predicting: 4319it [00:00, ?it/s]"
      ]
     },
     "metadata": {},
     "output_type": "display_data"
    },
    {
     "data": {
      "application/vnd.jupyter.widget-view+json": {
       "model_id": "47ec8b8c16cd4acfa1f5334c782bb42d",
       "version_major": 2,
       "version_minor": 0
      },
      "text/plain": [
       "Predicting: 4319it [00:00, ?it/s]"
      ]
     },
     "metadata": {},
     "output_type": "display_data"
    },
    {
     "data": {
      "application/vnd.jupyter.widget-view+json": {
       "model_id": "117e5d42233244fa9f3a79a878b7fc1c",
       "version_major": 2,
       "version_minor": 0
      },
      "text/plain": [
       "Predicting: 4319it [00:00, ?it/s]"
      ]
     },
     "metadata": {},
     "output_type": "display_data"
    },
    {
     "data": {
      "application/vnd.jupyter.widget-view+json": {
       "model_id": "747f262795694ab2bb81837557f4b353",
       "version_major": 2,
       "version_minor": 0
      },
      "text/plain": [
       "Predicting: 4319it [00:00, ?it/s]"
      ]
     },
     "metadata": {},
     "output_type": "display_data"
    },
    {
     "data": {
      "application/vnd.jupyter.widget-view+json": {
       "model_id": "2844608d41df4f8a88d1785aad66365b",
       "version_major": 2,
       "version_minor": 0
      },
      "text/plain": [
       "Predicting: 4319it [00:00, ?it/s]"
      ]
     },
     "metadata": {},
     "output_type": "display_data"
    },
    {
     "data": {
      "application/vnd.jupyter.widget-view+json": {
       "model_id": "f86700ac8a7c4522a81655cf3261edbb",
       "version_major": 2,
       "version_minor": 0
      },
      "text/plain": [
       "Predicting: 4319it [00:00, ?it/s]"
      ]
     },
     "metadata": {},
     "output_type": "display_data"
    },
    {
     "data": {
      "application/vnd.jupyter.widget-view+json": {
       "model_id": "40cd0359b033449cb05720d037d3a977",
       "version_major": 2,
       "version_minor": 0
      },
      "text/plain": [
       "Predicting: 4319it [00:00, ?it/s]"
      ]
     },
     "metadata": {},
     "output_type": "display_data"
    },
    {
     "data": {
      "application/vnd.jupyter.widget-view+json": {
       "model_id": "7a6c3ab6fbbf435a85dffbedf05636bb",
       "version_major": 2,
       "version_minor": 0
      },
      "text/plain": [
       "Predicting: 4319it [00:00, ?it/s]"
      ]
     },
     "metadata": {},
     "output_type": "display_data"
    },
    {
     "data": {
      "application/vnd.jupyter.widget-view+json": {
       "model_id": "492cb0c92ebb4b9482cb0d868fd97be2",
       "version_major": 2,
       "version_minor": 0
      },
      "text/plain": [
       "Predicting: 4319it [00:00, ?it/s]"
      ]
     },
     "metadata": {},
     "output_type": "display_data"
    },
    {
     "data": {
      "application/vnd.jupyter.widget-view+json": {
       "model_id": "992c5801aa634a21afa14bf984c5de7f",
       "version_major": 2,
       "version_minor": 0
      },
      "text/plain": [
       "Predicting: 4319it [00:00, ?it/s]"
      ]
     },
     "metadata": {},
     "output_type": "display_data"
    },
    {
     "data": {
      "application/vnd.jupyter.widget-view+json": {
       "model_id": "d31a029c0b68443ab603c7a8a56a3568",
       "version_major": 2,
       "version_minor": 0
      },
      "text/plain": [
       "Predicting: 4319it [00:00, ?it/s]"
      ]
     },
     "metadata": {},
     "output_type": "display_data"
    },
    {
     "data": {
      "application/vnd.jupyter.widget-view+json": {
       "model_id": "98d8dc83df7d4c33a59b8dec69923c46",
       "version_major": 2,
       "version_minor": 0
      },
      "text/plain": [
       "Predicting: 4319it [00:00, ?it/s]"
      ]
     },
     "metadata": {},
     "output_type": "display_data"
    },
    {
     "data": {
      "application/vnd.jupyter.widget-view+json": {
       "model_id": "a8a12a0b62d343cdaeae29556bd3915a",
       "version_major": 2,
       "version_minor": 0
      },
      "text/plain": [
       "Predicting: 4319it [00:00, ?it/s]"
      ]
     },
     "metadata": {},
     "output_type": "display_data"
    },
    {
     "data": {
      "application/vnd.jupyter.widget-view+json": {
       "model_id": "325ccf52c64f4cee9eeb847147b132af",
       "version_major": 2,
       "version_minor": 0
      },
      "text/plain": [
       "Predicting: 4319it [00:00, ?it/s]"
      ]
     },
     "metadata": {},
     "output_type": "display_data"
    },
    {
     "data": {
      "application/vnd.jupyter.widget-view+json": {
       "model_id": "2568c4b380da49c9b6b148f9546ccdf6",
       "version_major": 2,
       "version_minor": 0
      },
      "text/plain": [
       "Predicting: 4319it [00:00, ?it/s]"
      ]
     },
     "metadata": {},
     "output_type": "display_data"
    },
    {
     "data": {
      "application/vnd.jupyter.widget-view+json": {
       "model_id": "6c953c296671437c9ffb2fd5442bc9f6",
       "version_major": 2,
       "version_minor": 0
      },
      "text/plain": [
       "Predicting: 4319it [00:00, ?it/s]"
      ]
     },
     "metadata": {},
     "output_type": "display_data"
    },
    {
     "data": {
      "application/vnd.jupyter.widget-view+json": {
       "model_id": "92749b3818d64017829ab2d9579ca94a",
       "version_major": 2,
       "version_minor": 0
      },
      "text/plain": [
       "Predicting: 4319it [00:00, ?it/s]"
      ]
     },
     "metadata": {},
     "output_type": "display_data"
    },
    {
     "data": {
      "application/vnd.jupyter.widget-view+json": {
       "model_id": "93d2e84786e8444d82b0388d1f58e335",
       "version_major": 2,
       "version_minor": 0
      },
      "text/plain": [
       "Predicting: 4319it [00:00, ?it/s]"
      ]
     },
     "metadata": {},
     "output_type": "display_data"
    },
    {
     "data": {
      "application/vnd.jupyter.widget-view+json": {
       "model_id": "c52db69010274d34ae5f6002dacb7e2a",
       "version_major": 2,
       "version_minor": 0
      },
      "text/plain": [
       "Predicting: 4319it [00:00, ?it/s]"
      ]
     },
     "metadata": {},
     "output_type": "display_data"
    },
    {
     "data": {
      "application/vnd.jupyter.widget-view+json": {
       "model_id": "6478ae2e8d0849669e10e60d21e5af3e",
       "version_major": 2,
       "version_minor": 0
      },
      "text/plain": [
       "Predicting: 4319it [00:00, ?it/s]"
      ]
     },
     "metadata": {},
     "output_type": "display_data"
    },
    {
     "data": {
      "application/vnd.jupyter.widget-view+json": {
       "model_id": "feb9224346b94d85994631c5349a3566",
       "version_major": 2,
       "version_minor": 0
      },
      "text/plain": [
       "Predicting: 4319it [00:00, ?it/s]"
      ]
     },
     "metadata": {},
     "output_type": "display_data"
    },
    {
     "data": {
      "application/vnd.jupyter.widget-view+json": {
       "model_id": "f9cf2065d1574cdc9b1838ed9153b559",
       "version_major": 2,
       "version_minor": 0
      },
      "text/plain": [
       "Predicting: 4319it [00:00, ?it/s]"
      ]
     },
     "metadata": {},
     "output_type": "display_data"
    },
    {
     "data": {
      "application/vnd.jupyter.widget-view+json": {
       "model_id": "ad42ebe2940649468e76465e57278d3d",
       "version_major": 2,
       "version_minor": 0
      },
      "text/plain": [
       "Predicting: 4319it [00:00, ?it/s]"
      ]
     },
     "metadata": {},
     "output_type": "display_data"
    },
    {
     "data": {
      "application/vnd.jupyter.widget-view+json": {
       "model_id": "70de6b5b55ca4860a90b2c211f2f0614",
       "version_major": 2,
       "version_minor": 0
      },
      "text/plain": [
       "Predicting: 4319it [00:00, ?it/s]"
      ]
     },
     "metadata": {},
     "output_type": "display_data"
    },
    {
     "data": {
      "application/vnd.jupyter.widget-view+json": {
       "model_id": "0d9c47a6bde6414c9dd6a7986eacc925",
       "version_major": 2,
       "version_minor": 0
      },
      "text/plain": [
       "Predicting: 4319it [00:00, ?it/s]"
      ]
     },
     "metadata": {},
     "output_type": "display_data"
    },
    {
     "data": {
      "application/vnd.jupyter.widget-view+json": {
       "model_id": "95b8f60a5ccc4e86aa84a1f2a6ee5328",
       "version_major": 2,
       "version_minor": 0
      },
      "text/plain": [
       "Predicting: 4319it [00:00, ?it/s]"
      ]
     },
     "metadata": {},
     "output_type": "display_data"
    },
    {
     "data": {
      "application/vnd.jupyter.widget-view+json": {
       "model_id": "38140fd51fa6458386a875403d5015ed",
       "version_major": 2,
       "version_minor": 0
      },
      "text/plain": [
       "Predicting: 4319it [00:00, ?it/s]"
      ]
     },
     "metadata": {},
     "output_type": "display_data"
    },
    {
     "data": {
      "application/vnd.jupyter.widget-view+json": {
       "model_id": "847b30147ee84b0f8167e3e7c3064f95",
       "version_major": 2,
       "version_minor": 0
      },
      "text/plain": [
       "Predicting: 4319it [00:00, ?it/s]"
      ]
     },
     "metadata": {},
     "output_type": "display_data"
    },
    {
     "data": {
      "application/vnd.jupyter.widget-view+json": {
       "model_id": "a47e00f021cc4d1d8ba59e095e053521",
       "version_major": 2,
       "version_minor": 0
      },
      "text/plain": [
       "Predicting: 4319it [00:00, ?it/s]"
      ]
     },
     "metadata": {},
     "output_type": "display_data"
    },
    {
     "data": {
      "application/vnd.jupyter.widget-view+json": {
       "model_id": "05df3c42facf45889f31bf02ea22deee",
       "version_major": 2,
       "version_minor": 0
      },
      "text/plain": [
       "Predicting: 4319it [00:00, ?it/s]"
      ]
     },
     "metadata": {},
     "output_type": "display_data"
    },
    {
     "data": {
      "application/vnd.jupyter.widget-view+json": {
       "model_id": "2ad5a0bb086742a794d4f7effa8f333a",
       "version_major": 2,
       "version_minor": 0
      },
      "text/plain": [
       "Predicting: 4319it [00:00, ?it/s]"
      ]
     },
     "metadata": {},
     "output_type": "display_data"
    },
    {
     "data": {
      "application/vnd.jupyter.widget-view+json": {
       "model_id": "c36c6f516e3f4e1397546a84d804f734",
       "version_major": 2,
       "version_minor": 0
      },
      "text/plain": [
       "Predicting: 4319it [00:00, ?it/s]"
      ]
     },
     "metadata": {},
     "output_type": "display_data"
    },
    {
     "data": {
      "application/vnd.jupyter.widget-view+json": {
       "model_id": "a2e03b44bf3d41558bc31d819c16465b",
       "version_major": 2,
       "version_minor": 0
      },
      "text/plain": [
       "Predicting: 4319it [00:00, ?it/s]"
      ]
     },
     "metadata": {},
     "output_type": "display_data"
    },
    {
     "data": {
      "application/vnd.jupyter.widget-view+json": {
       "model_id": "85a517a1be7a4175a4d645ea32bb68a6",
       "version_major": 2,
       "version_minor": 0
      },
      "text/plain": [
       "Predicting: 4319it [00:00, ?it/s]"
      ]
     },
     "metadata": {},
     "output_type": "display_data"
    },
    {
     "data": {
      "application/vnd.jupyter.widget-view+json": {
       "model_id": "674dae8f3bd34f68be47913ca295da68",
       "version_major": 2,
       "version_minor": 0
      },
      "text/plain": [
       "Predicting: 4319it [00:00, ?it/s]"
      ]
     },
     "metadata": {},
     "output_type": "display_data"
    },
    {
     "data": {
      "application/vnd.jupyter.widget-view+json": {
       "model_id": "5b7cd43b5fb94729aede588e717d2944",
       "version_major": 2,
       "version_minor": 0
      },
      "text/plain": [
       "Predicting: 4319it [00:00, ?it/s]"
      ]
     },
     "metadata": {},
     "output_type": "display_data"
    },
    {
     "data": {
      "application/vnd.jupyter.widget-view+json": {
       "model_id": "d122da90b1b64347ac53999a87b429a5",
       "version_major": 2,
       "version_minor": 0
      },
      "text/plain": [
       "Predicting: 4319it [00:00, ?it/s]"
      ]
     },
     "metadata": {},
     "output_type": "display_data"
    },
    {
     "data": {
      "application/vnd.jupyter.widget-view+json": {
       "model_id": "c294f94339614b868e091debeb84493e",
       "version_major": 2,
       "version_minor": 0
      },
      "text/plain": [
       "Predicting: 4319it [00:00, ?it/s]"
      ]
     },
     "metadata": {},
     "output_type": "display_data"
    },
    {
     "data": {
      "application/vnd.jupyter.widget-view+json": {
       "model_id": "8b24732b4e804bc0902b1de04d4e67f2",
       "version_major": 2,
       "version_minor": 0
      },
      "text/plain": [
       "Predicting: 4319it [00:00, ?it/s]"
      ]
     },
     "metadata": {},
     "output_type": "display_data"
    },
    {
     "data": {
      "application/vnd.jupyter.widget-view+json": {
       "model_id": "163d26631ab34a55af9c6da35d3b026b",
       "version_major": 2,
       "version_minor": 0
      },
      "text/plain": [
       "Predicting: 4319it [00:00, ?it/s]"
      ]
     },
     "metadata": {},
     "output_type": "display_data"
    },
    {
     "data": {
      "application/vnd.jupyter.widget-view+json": {
       "model_id": "4840d5d730cd4e9ab4ecb5dd10dc5a8a",
       "version_major": 2,
       "version_minor": 0
      },
      "text/plain": [
       "Predicting: 4319it [00:00, ?it/s]"
      ]
     },
     "metadata": {},
     "output_type": "display_data"
    },
    {
     "data": {
      "application/vnd.jupyter.widget-view+json": {
       "model_id": "3d03002c1cbb4be69938b021fc301108",
       "version_major": 2,
       "version_minor": 0
      },
      "text/plain": [
       "Predicting: 4319it [00:00, ?it/s]"
      ]
     },
     "metadata": {},
     "output_type": "display_data"
    },
    {
     "data": {
      "application/vnd.jupyter.widget-view+json": {
       "model_id": "eac05f0c8c574bb0981572439c5efb5b",
       "version_major": 2,
       "version_minor": 0
      },
      "text/plain": [
       "Predicting: 4319it [00:00, ?it/s]"
      ]
     },
     "metadata": {},
     "output_type": "display_data"
    },
    {
     "data": {
      "application/vnd.jupyter.widget-view+json": {
       "model_id": "ca3a610e7bb34605b82f5aa81710ad40",
       "version_major": 2,
       "version_minor": 0
      },
      "text/plain": [
       "Predicting: 4319it [00:00, ?it/s]"
      ]
     },
     "metadata": {},
     "output_type": "display_data"
    },
    {
     "data": {
      "application/vnd.jupyter.widget-view+json": {
       "model_id": "55b97c2792554a4b88e3e8f1272ebf9b",
       "version_major": 2,
       "version_minor": 0
      },
      "text/plain": [
       "Predicting: 4319it [00:00, ?it/s]"
      ]
     },
     "metadata": {},
     "output_type": "display_data"
    },
    {
     "data": {
      "application/vnd.jupyter.widget-view+json": {
       "model_id": "f6a3d814bdb54fed950dff42c87f5580",
       "version_major": 2,
       "version_minor": 0
      },
      "text/plain": [
       "Predicting: 4319it [00:00, ?it/s]"
      ]
     },
     "metadata": {},
     "output_type": "display_data"
    },
    {
     "data": {
      "application/vnd.jupyter.widget-view+json": {
       "model_id": "2a7b0b69eb994aa89ed145f12126ecd7",
       "version_major": 2,
       "version_minor": 0
      },
      "text/plain": [
       "Predicting: 4319it [00:00, ?it/s]"
      ]
     },
     "metadata": {},
     "output_type": "display_data"
    },
    {
     "data": {
      "application/vnd.jupyter.widget-view+json": {
       "model_id": "7cd329b8bc8647bba5dcaf8fdc3a90e6",
       "version_major": 2,
       "version_minor": 0
      },
      "text/plain": [
       "Predicting: 4319it [00:00, ?it/s]"
      ]
     },
     "metadata": {},
     "output_type": "display_data"
    },
    {
     "data": {
      "application/vnd.jupyter.widget-view+json": {
       "model_id": "0f98d68271a6412da66c2b89a3359a5c",
       "version_major": 2,
       "version_minor": 0
      },
      "text/plain": [
       "Predicting: 4319it [00:00, ?it/s]"
      ]
     },
     "metadata": {},
     "output_type": "display_data"
    },
    {
     "data": {
      "application/vnd.jupyter.widget-view+json": {
       "model_id": "227112b7eade44629a2d2e2fe794bb8f",
       "version_major": 2,
       "version_minor": 0
      },
      "text/plain": [
       "Predicting: 4319it [00:00, ?it/s]"
      ]
     },
     "metadata": {},
     "output_type": "display_data"
    },
    {
     "data": {
      "application/vnd.jupyter.widget-view+json": {
       "model_id": "3f12150b08e14cbb9a085a123f7d60a5",
       "version_major": 2,
       "version_minor": 0
      },
      "text/plain": [
       "Predicting: 4319it [00:00, ?it/s]"
      ]
     },
     "metadata": {},
     "output_type": "display_data"
    },
    {
     "data": {
      "application/vnd.jupyter.widget-view+json": {
       "model_id": "6163e8e844f34432ade8d3f37aaf8e58",
       "version_major": 2,
       "version_minor": 0
      },
      "text/plain": [
       "Predicting: 4319it [00:00, ?it/s]"
      ]
     },
     "metadata": {},
     "output_type": "display_data"
    },
    {
     "data": {
      "application/vnd.jupyter.widget-view+json": {
       "model_id": "946f7943bda94b8f94c5ece73357f9c0",
       "version_major": 2,
       "version_minor": 0
      },
      "text/plain": [
       "Predicting: 4319it [00:00, ?it/s]"
      ]
     },
     "metadata": {},
     "output_type": "display_data"
    },
    {
     "data": {
      "application/vnd.jupyter.widget-view+json": {
       "model_id": "81317325fa5744329240bf5fec9ee99c",
       "version_major": 2,
       "version_minor": 0
      },
      "text/plain": [
       "Predicting: 4319it [00:00, ?it/s]"
      ]
     },
     "metadata": {},
     "output_type": "display_data"
    },
    {
     "data": {
      "application/vnd.jupyter.widget-view+json": {
       "model_id": "56a10f24c07646dfaefdf049b041a33d",
       "version_major": 2,
       "version_minor": 0
      },
      "text/plain": [
       "Predicting: 4319it [00:00, ?it/s]"
      ]
     },
     "metadata": {},
     "output_type": "display_data"
    },
    {
     "data": {
      "application/vnd.jupyter.widget-view+json": {
       "model_id": "e795236dc7b34f17aa24169e4cc4f28c",
       "version_major": 2,
       "version_minor": 0
      },
      "text/plain": [
       "Predicting: 4319it [00:00, ?it/s]"
      ]
     },
     "metadata": {},
     "output_type": "display_data"
    },
    {
     "data": {
      "application/vnd.jupyter.widget-view+json": {
       "model_id": "b9e0f232d66f40fc99bb094fd8d8a79f",
       "version_major": 2,
       "version_minor": 0
      },
      "text/plain": [
       "Predicting: 4319it [00:00, ?it/s]"
      ]
     },
     "metadata": {},
     "output_type": "display_data"
    },
    {
     "data": {
      "application/vnd.jupyter.widget-view+json": {
       "model_id": "12ec50218ec44874a0f50c256595e7a7",
       "version_major": 2,
       "version_minor": 0
      },
      "text/plain": [
       "Predicting: 4319it [00:00, ?it/s]"
      ]
     },
     "metadata": {},
     "output_type": "display_data"
    },
    {
     "data": {
      "application/vnd.jupyter.widget-view+json": {
       "model_id": "6bdaec67d35d4864a3c85191e33d26a8",
       "version_major": 2,
       "version_minor": 0
      },
      "text/plain": [
       "Predicting: 4319it [00:00, ?it/s]"
      ]
     },
     "metadata": {},
     "output_type": "display_data"
    },
    {
     "data": {
      "application/vnd.jupyter.widget-view+json": {
       "model_id": "6054651cf2a244a0a2353b335005fa9e",
       "version_major": 2,
       "version_minor": 0
      },
      "text/plain": [
       "Predicting: 4319it [00:00, ?it/s]"
      ]
     },
     "metadata": {},
     "output_type": "display_data"
    },
    {
     "data": {
      "application/vnd.jupyter.widget-view+json": {
       "model_id": "5d5cb4cc8d2b472d81e0c40663cc06cc",
       "version_major": 2,
       "version_minor": 0
      },
      "text/plain": [
       "Predicting: 4319it [00:00, ?it/s]"
      ]
     },
     "metadata": {},
     "output_type": "display_data"
    },
    {
     "data": {
      "application/vnd.jupyter.widget-view+json": {
       "model_id": "91647e9aeb334bdb9f3076323dc00426",
       "version_major": 2,
       "version_minor": 0
      },
      "text/plain": [
       "Predicting: 4319it [00:00, ?it/s]"
      ]
     },
     "metadata": {},
     "output_type": "display_data"
    },
    {
     "data": {
      "application/vnd.jupyter.widget-view+json": {
       "model_id": "da81dfad748c46f3b2a761fc15ef152c",
       "version_major": 2,
       "version_minor": 0
      },
      "text/plain": [
       "Predicting: 4319it [00:00, ?it/s]"
      ]
     },
     "metadata": {},
     "output_type": "display_data"
    },
    {
     "data": {
      "application/vnd.jupyter.widget-view+json": {
       "model_id": "98d2ed61416442238353add96f22b2d0",
       "version_major": 2,
       "version_minor": 0
      },
      "text/plain": [
       "Predicting: 4319it [00:00, ?it/s]"
      ]
     },
     "metadata": {},
     "output_type": "display_data"
    },
    {
     "data": {
      "application/vnd.jupyter.widget-view+json": {
       "model_id": "e6897d28b0a3490fad2d99eb9cd391a4",
       "version_major": 2,
       "version_minor": 0
      },
      "text/plain": [
       "Predicting: 4319it [00:00, ?it/s]"
      ]
     },
     "metadata": {},
     "output_type": "display_data"
    },
    {
     "data": {
      "application/vnd.jupyter.widget-view+json": {
       "model_id": "b75a41739900467895b25ec70cbe1dde",
       "version_major": 2,
       "version_minor": 0
      },
      "text/plain": [
       "Predicting: 4319it [00:00, ?it/s]"
      ]
     },
     "metadata": {},
     "output_type": "display_data"
    },
    {
     "data": {
      "application/vnd.jupyter.widget-view+json": {
       "model_id": "95b2cf5b99ae4e72ba0f855413f7f77b",
       "version_major": 2,
       "version_minor": 0
      },
      "text/plain": [
       "Predicting: 4319it [00:00, ?it/s]"
      ]
     },
     "metadata": {},
     "output_type": "display_data"
    },
    {
     "data": {
      "application/vnd.jupyter.widget-view+json": {
       "model_id": "aa3eff47fc7d4df3b9d6222d9bcfd90a",
       "version_major": 2,
       "version_minor": 0
      },
      "text/plain": [
       "Predicting: 4319it [00:00, ?it/s]"
      ]
     },
     "metadata": {},
     "output_type": "display_data"
    },
    {
     "data": {
      "application/vnd.jupyter.widget-view+json": {
       "model_id": "76e0050e184f43838e9de1bee379c3a6",
       "version_major": 2,
       "version_minor": 0
      },
      "text/plain": [
       "Predicting: 4319it [00:00, ?it/s]"
      ]
     },
     "metadata": {},
     "output_type": "display_data"
    },
    {
     "data": {
      "application/vnd.jupyter.widget-view+json": {
       "model_id": "5aea0f76c9f843d389774f29aa8b083f",
       "version_major": 2,
       "version_minor": 0
      },
      "text/plain": [
       "Predicting: 4319it [00:00, ?it/s]"
      ]
     },
     "metadata": {},
     "output_type": "display_data"
    },
    {
     "data": {
      "application/vnd.jupyter.widget-view+json": {
       "model_id": "2edd227f299240acafe6d44f80d2ecb1",
       "version_major": 2,
       "version_minor": 0
      },
      "text/plain": [
       "Predicting: 4319it [00:00, ?it/s]"
      ]
     },
     "metadata": {},
     "output_type": "display_data"
    },
    {
     "data": {
      "application/vnd.jupyter.widget-view+json": {
       "model_id": "3c796863c78f4e0889b11e72025932c5",
       "version_major": 2,
       "version_minor": 0
      },
      "text/plain": [
       "Predicting: 4319it [00:00, ?it/s]"
      ]
     },
     "metadata": {},
     "output_type": "display_data"
    },
    {
     "data": {
      "application/vnd.jupyter.widget-view+json": {
       "model_id": "7e3a36213a8f48fbbfebeea1789de348",
       "version_major": 2,
       "version_minor": 0
      },
      "text/plain": [
       "Predicting: 4319it [00:00, ?it/s]"
      ]
     },
     "metadata": {},
     "output_type": "display_data"
    },
    {
     "data": {
      "application/vnd.jupyter.widget-view+json": {
       "model_id": "1f058bc5e9764e9eaeab55fbc13c7ebe",
       "version_major": 2,
       "version_minor": 0
      },
      "text/plain": [
       "Predicting: 4319it [00:00, ?it/s]"
      ]
     },
     "metadata": {},
     "output_type": "display_data"
    },
    {
     "data": {
      "application/vnd.jupyter.widget-view+json": {
       "model_id": "4be24cdea3fe4c03bdbea4f7fe40a89e",
       "version_major": 2,
       "version_minor": 0
      },
      "text/plain": [
       "Predicting: 4319it [00:00, ?it/s]"
      ]
     },
     "metadata": {},
     "output_type": "display_data"
    },
    {
     "data": {
      "application/vnd.jupyter.widget-view+json": {
       "model_id": "f1b0d6f7a69a46ba95e9d0de3aec3293",
       "version_major": 2,
       "version_minor": 0
      },
      "text/plain": [
       "Predicting: 4319it [00:00, ?it/s]"
      ]
     },
     "metadata": {},
     "output_type": "display_data"
    },
    {
     "data": {
      "application/vnd.jupyter.widget-view+json": {
       "model_id": "cb66341169df436c8fe5166c8eaf3be1",
       "version_major": 2,
       "version_minor": 0
      },
      "text/plain": [
       "Predicting: 4319it [00:00, ?it/s]"
      ]
     },
     "metadata": {},
     "output_type": "display_data"
    },
    {
     "data": {
      "application/vnd.jupyter.widget-view+json": {
       "model_id": "5d5f6afacb084a89a17e0c208e13a023",
       "version_major": 2,
       "version_minor": 0
      },
      "text/plain": [
       "Predicting: 4319it [00:00, ?it/s]"
      ]
     },
     "metadata": {},
     "output_type": "display_data"
    },
    {
     "data": {
      "application/vnd.jupyter.widget-view+json": {
       "model_id": "777976dc91a24cab8b64f25173424906",
       "version_major": 2,
       "version_minor": 0
      },
      "text/plain": [
       "Predicting: 4319it [00:00, ?it/s]"
      ]
     },
     "metadata": {},
     "output_type": "display_data"
    },
    {
     "data": {
      "application/vnd.jupyter.widget-view+json": {
       "model_id": "a7d04801ee90450e8ea75fe9af534d12",
       "version_major": 2,
       "version_minor": 0
      },
      "text/plain": [
       "Predicting: 4319it [00:00, ?it/s]"
      ]
     },
     "metadata": {},
     "output_type": "display_data"
    },
    {
     "data": {
      "application/vnd.jupyter.widget-view+json": {
       "model_id": "5469cc3f645c4b0ba0e17a4d5cca9f10",
       "version_major": 2,
       "version_minor": 0
      },
      "text/plain": [
       "Predicting: 4319it [00:00, ?it/s]"
      ]
     },
     "metadata": {},
     "output_type": "display_data"
    },
    {
     "data": {
      "application/vnd.jupyter.widget-view+json": {
       "model_id": "101cc836dd344a6dbfa6d2904971d48f",
       "version_major": 2,
       "version_minor": 0
      },
      "text/plain": [
       "Predicting: 4319it [00:00, ?it/s]"
      ]
     },
     "metadata": {},
     "output_type": "display_data"
    },
    {
     "data": {
      "application/vnd.jupyter.widget-view+json": {
       "model_id": "f9031a5db3554b9b83820593a72f1f94",
       "version_major": 2,
       "version_minor": 0
      },
      "text/plain": [
       "Predicting: 4319it [00:00, ?it/s]"
      ]
     },
     "metadata": {},
     "output_type": "display_data"
    },
    {
     "data": {
      "application/vnd.jupyter.widget-view+json": {
       "model_id": "2a4978d14c09463bb5c0099dbd580088",
       "version_major": 2,
       "version_minor": 0
      },
      "text/plain": [
       "Predicting: 4319it [00:00, ?it/s]"
      ]
     },
     "metadata": {},
     "output_type": "display_data"
    },
    {
     "data": {
      "application/vnd.jupyter.widget-view+json": {
       "model_id": "499ec932cdb94d93872785a013c562c7",
       "version_major": 2,
       "version_minor": 0
      },
      "text/plain": [
       "Predicting: 4319it [00:00, ?it/s]"
      ]
     },
     "metadata": {},
     "output_type": "display_data"
    },
    {
     "data": {
      "application/vnd.jupyter.widget-view+json": {
       "model_id": "79d8ad20c2614fd9b7cb77dc27d5164c",
       "version_major": 2,
       "version_minor": 0
      },
      "text/plain": [
       "Predicting: 4319it [00:00, ?it/s]"
      ]
     },
     "metadata": {},
     "output_type": "display_data"
    },
    {
     "data": {
      "application/vnd.jupyter.widget-view+json": {
       "model_id": "2ff6bebc015d4765a88bd149a5fc9525",
       "version_major": 2,
       "version_minor": 0
      },
      "text/plain": [
       "Predicting: 4319it [00:00, ?it/s]"
      ]
     },
     "metadata": {},
     "output_type": "display_data"
    },
    {
     "data": {
      "application/vnd.jupyter.widget-view+json": {
       "model_id": "48bc8e5794f64c699f56a83beb9764ce",
       "version_major": 2,
       "version_minor": 0
      },
      "text/plain": [
       "Predicting: 4319it [00:00, ?it/s]"
      ]
     },
     "metadata": {},
     "output_type": "display_data"
    },
    {
     "data": {
      "application/vnd.jupyter.widget-view+json": {
       "model_id": "50792df34b8a4781b2f998c745c7827f",
       "version_major": 2,
       "version_minor": 0
      },
      "text/plain": [
       "Predicting: 4319it [00:00, ?it/s]"
      ]
     },
     "metadata": {},
     "output_type": "display_data"
    },
    {
     "data": {
      "application/vnd.jupyter.widget-view+json": {
       "model_id": "3afd2cea0cff425fb03a8294c7f173ff",
       "version_major": 2,
       "version_minor": 0
      },
      "text/plain": [
       "Predicting: 4319it [00:00, ?it/s]"
      ]
     },
     "metadata": {},
     "output_type": "display_data"
    },
    {
     "data": {
      "application/vnd.jupyter.widget-view+json": {
       "model_id": "05343bf66f6345afa4753b87d57c9880",
       "version_major": 2,
       "version_minor": 0
      },
      "text/plain": [
       "Predicting: 4319it [00:00, ?it/s]"
      ]
     },
     "metadata": {},
     "output_type": "display_data"
    },
    {
     "data": {
      "application/vnd.jupyter.widget-view+json": {
       "model_id": "f605ca531aca48ab95802e9a0f2ce071",
       "version_major": 2,
       "version_minor": 0
      },
      "text/plain": [
       "Predicting: 4319it [00:00, ?it/s]"
      ]
     },
     "metadata": {},
     "output_type": "display_data"
    },
    {
     "data": {
      "application/vnd.jupyter.widget-view+json": {
       "model_id": "d547cdfa4e7647898cf556b0d9441c8b",
       "version_major": 2,
       "version_minor": 0
      },
      "text/plain": [
       "Predicting: 4319it [00:00, ?it/s]"
      ]
     },
     "metadata": {},
     "output_type": "display_data"
    },
    {
     "data": {
      "application/vnd.jupyter.widget-view+json": {
       "model_id": "7bd9adfd9b3046b6a42a14e37762f991",
       "version_major": 2,
       "version_minor": 0
      },
      "text/plain": [
       "Predicting: 4319it [00:00, ?it/s]"
      ]
     },
     "metadata": {},
     "output_type": "display_data"
    },
    {
     "data": {
      "application/vnd.jupyter.widget-view+json": {
       "model_id": "1ac5e76413bb44b7a17144a10fb32f80",
       "version_major": 2,
       "version_minor": 0
      },
      "text/plain": [
       "Predicting: 4319it [00:00, ?it/s]"
      ]
     },
     "metadata": {},
     "output_type": "display_data"
    },
    {
     "data": {
      "application/vnd.jupyter.widget-view+json": {
       "model_id": "d8b4baef5a614f5fb0417c77cbc91649",
       "version_major": 2,
       "version_minor": 0
      },
      "text/plain": [
       "Predicting: 4319it [00:00, ?it/s]"
      ]
     },
     "metadata": {},
     "output_type": "display_data"
    },
    {
     "data": {
      "application/vnd.jupyter.widget-view+json": {
       "model_id": "b8139fbe1d7544c8879a879349a20bbc",
       "version_major": 2,
       "version_minor": 0
      },
      "text/plain": [
       "Predicting: 4319it [00:00, ?it/s]"
      ]
     },
     "metadata": {},
     "output_type": "display_data"
    },
    {
     "data": {
      "application/vnd.jupyter.widget-view+json": {
       "model_id": "fa303e8842dd4183853fcd72149f090d",
       "version_major": 2,
       "version_minor": 0
      },
      "text/plain": [
       "Predicting: 4319it [00:00, ?it/s]"
      ]
     },
     "metadata": {},
     "output_type": "display_data"
    }
   ],
   "source": [
    "hist_for = model.historical_forecasts(\n",
    "    series=close_train_scaled,\n",
    "    start=0.99, #just the last 1 percent\n",
    "    forecast_horizon=7,\n",
    "    stride=5,\n",
    "    retrain=False,\n",
    "    verbose=True,\n",
    ")"
   ]
  },
  {
   "cell_type": "code",
   "execution_count": 17,
   "id": "16af0791",
   "metadata": {},
   "outputs": [],
   "source": [
    "# rescale\n",
    "# scale back:\n",
    "hist_for = scaler.inverse_transform(hist_for)"
   ]
  },
  {
   "cell_type": "code",
   "execution_count": 20,
   "id": "4fff5d57",
   "metadata": {},
   "outputs": [
    {
     "data": {
      "image/png": "[encoded data removed]",
      "text/plain": [
       "<Figure size 720x432 with 1 Axes>"
      ]
     },
     "metadata": {
      "needs_background": "light"
     },
     "output_type": "display_data"
    }
   ],
   "source": [
    "plt.figure(figsize=(10, 6))\n",
    "hist_for.plot(label=\"hist_forc last 1%\")\n",
    "close_train[-2760:].plot(label=\"actual\")"
   ]
  },
  {
   "cell_type": "code",
   "execution_count": null,
   "id": "3844dbab",
   "metadata": {},
   "outputs": [],
   "source": []
  }
 ],
 "metadata": {
  "kernelspec": {
   "display_name": "Python 3 (ipykernel)",
   "language": "python",
   "name": "python3"
  },
  "language_info": {
   "codemirror_mode": {
    "name": "ipython",
    "version": 3
   },
   "file_extension": ".py",
   "mimetype": "text/x-python",
   "name": "python",
   "nbconvert_exporter": "python",
   "pygments_lexer": "ipython3",
   "version": "3.8.12"
  }
 },
 "nbformat": 4,
 "nbformat_minor": 5
}
