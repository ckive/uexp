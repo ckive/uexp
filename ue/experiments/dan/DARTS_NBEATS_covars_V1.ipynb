{
 "cells": [
  {
   "cell_type": "code",
   "execution_count": 1,
   "id": "e1d66bba",
   "metadata": {},
   "outputs": [],
   "source": [
    "#======Core============\n",
    "import pandas as pd\n",
    "import numpy as np\n",
    "import matplotlib.pyplot as plt\n",
    "import os\n",
    "# import pytorch_lightning as pl\n",
    "# from pytorch_lightning.callbacks import EarlyStopping\n",
    "import torch\n",
    "#======Darts===========\n",
    "from darts import TimeSeries\n",
    "from darts.dataprocessing.transformers import Scaler\n",
    "from darts.models import NBEATSModel\n",
    "from darts.dataprocessing import Pipeline\n",
    "#======UEXP============\n",
    "from ue.uexp.dataprocessing.processor_binance import BinanceProcessor\n",
    "from ue.uexp.dataprocessing.func import *\n",
    "#from ue.uexp.dataprocessing.ta import *\n",
    "#from ue.uexp.models.util import *\n",
    "#======TA==============\n",
    "from ta.momentum import *\n",
    "from ta.trend import *\n",
    "from ta.volatility import *\n",
    "from ta.wrapper import *\n",
    "import ta\n",
    "\n",
    "import warnings\n",
    "warnings.filterwarnings('ignore')"
   ]
  },
  {
   "cell_type": "markdown",
   "id": "de2973c6",
   "metadata": {},
   "source": [
    "# Data Processing"
   ]
  },
  {
   "cell_type": "code",
   "execution_count": 2,
   "id": "84738e6d",
   "metadata": {},
   "outputs": [],
   "source": [
    "# TODO"
   ]
  },
  {
   "cell_type": "code",
   "execution_count": 3,
   "id": "afb7e060",
   "metadata": {},
   "outputs": [],
   "source": [
    "def py_fc_prep_data(start_date, end_date, interval='1s', tickers=[\"BTCUSDT\"], version=\"full\"):\n",
    "    \"\"\"\n",
    "    using the processor gets data and saves to cache/{fname}.csv, used for forecasting models\n",
    "    \n",
    "    args:\n",
    "        - start_date: str\n",
    "        - end_date: str\n",
    "    \n",
    "    returns:\n",
    "        - dict: {\n",
    "        time_idx:\n",
    "        target\n",
    "        categorical_encoders\n",
    "        group_ids:\n",
    "        time_varying_unknown_reals\n",
    "        }\n",
    "    \"\"\"\n",
    "    data_path = \"{start}-{end}-of-{tics}-{version}-{interval}.csv\".format(\n",
    "        start=start_date,\n",
    "        end=end_date,\n",
    "        tics=\"_\".join(tickers),\n",
    "        version=version,\n",
    "        interval=interval,\n",
    "    )\n",
    "    #check if saved\n",
    "    if os.path.exists(os.path.join(\"cache\",data_path)):\n",
    "        return pd.read_csv(data_path)\n",
    "    \n",
    "    p = BinanceProcessor(\"binance\")\n",
    "    df = p.download_data(tickers, start_date, end_date, interval)\n",
    "    df.columns = [\"Open\",\"High\",\"Low\",\"Close\",\"Volume\", \"Tic\"]\n",
    "    \n",
    "    if version == \"full\":\n",
    "        # see doc for details of full\n",
    "        # https://docs.google.com/document/d/1oo-EgHCVQyvjKiC8cAocfwpZzRHSXDr3YCZJ-agoFv4/edit?usp=sharing\n",
    "        \n",
    "        # Relative Strength Index (RSI)\n",
    "        df[\"momentum_rsi\"] = RSIIndicator(\n",
    "            close=df[\"Close\"], window=14, fillna=True\n",
    "        ).rsi()/100 #scale 0-1\n",
    "        \n",
    "        # Stoch RSIs (StochRSI)\n",
    "        indicator_srsi = StochRSIIndicator(\n",
    "            close=df[\"Close\"], window=14, smooth1=3, smooth2=3, fillna=True\n",
    "        )\n",
    "        df[\"momentum_stoch_rsi\"] = indicator_srsi.stochrsi()\n",
    "        df[\"momentum_stoch_rsi_k\"] = indicator_srsi.stochrsi_k()\n",
    "        df[\"momentum_stoch_rsi_d\"] = indicator_srsi.stochrsi_d()\n",
    "        \n",
    "        # TSI Indicator\n",
    "        df[\"momentum_tsi\"] = TSIIndicator(\n",
    "            close=df[\"Close\"], window_slow=25, window_fast=13, fillna=True\n",
    "        ).tsi()/100 #scale 0-1\n",
    "\n",
    "        # Chaikin Money Flow\n",
    "        df[\"volume_cmf\"] = ChaikinMoneyFlowIndicator(\n",
    "            high=df[\"High\"], low=df[\"Low\"], close=df[\"Close\"], volume=df[\"Volume\"], fillna=True\n",
    "        ).chaikin_money_flow()\n",
    "\n",
    "        # Money Flow Index\n",
    "        df[\"volume_mfi\"] = MFIIndicator(\n",
    "                    high=df[\"High\"], low=df[\"Low\"], close=df[\"Close\"], volume=df[\"Volume\"], fillna=True\n",
    "                ).money_flow_index()/100 #norm to 0-1\n",
    "\n",
    "        # Force Index\n",
    "        df[\"volume_fi\"] = ForceIndexIndicator(\n",
    "            close=df[\"Close\"], volume=df[\"Volume\"], window=13, fillna=True\n",
    "        ).force_index()\n",
    "\n",
    "        # Volume Weighted Average Price\n",
    "        df[\"volume_vwap\"] = VolumeWeightedAveragePrice(\n",
    "            high=df[\"High\"], low=df[\"Low\"], close=df[\"Close\"], volume=df[\"Volume\"], fillna=True,\n",
    "            window=14,\n",
    "        ).volume_weighted_average_price()\n",
    "        \n",
    "        # MACD\n",
    "        indicator_macd = MACD(\n",
    "            close=df[\"Close\"], window_slow=26, window_fast=12, window_sign=9, fillna=True\n",
    "        )\n",
    "        df[\"trend_macd\"] = indicator_macd.macd()\n",
    "        df[\"trend_macd_signal\"] = indicator_macd.macd_signal()\n",
    "        df[\"trend_macd_diff\"] = indicator_macd.macd_diff()\n",
    "\n",
    "        # SMAs\n",
    "        df[\"trend_sma_fast\"] = SMAIndicator(\n",
    "            close=df[\"Close\"], window=12, fillna=True\n",
    "        ).sma_indicator()\n",
    "        df[\"trend_sma_slow\"] = SMAIndicator(\n",
    "            close=df[\"Close\"], window=26, fillna=True\n",
    "        ).sma_indicator()\n",
    "\n",
    "        # EMAs\n",
    "        df[\"trend_ema_fast\"] = EMAIndicator(\n",
    "            close=df[\"Close\"], window=12, fillna=True\n",
    "        ).ema_indicator()\n",
    "        df[\"trend_ema_slow\"] = EMAIndicator(\n",
    "            close=df[\"Close\"], window=26, fillna=True\n",
    "        ).ema_indicator()\n",
    "        \n",
    "        def stationize(series):\n",
    "            return np.log(series / series.shift(1))\n",
    "        \n",
    "        #Turn price into logrets \n",
    "        df['log_ret'] = stationize(df['Close'])\n",
    "        df['log_volume_vwap_ret'] = stationize(df['volume_vwap'])\n",
    "        df['log_trend_sma_slow_ret'] = stationize(df['trend_sma_slow'])\n",
    "        df['log_trend_sma_fast_ret'] = stationize(df['trend_sma_fast'])\n",
    "        df['log_trend_ema_slow_ret'] = stationize(df['trend_ema_slow'])\n",
    "        df['log_trend_ema_fast_ret'] = stationize(df['trend_ema_fast'])\n",
    "        \n",
    "        #Build time_idx, series for all series\n",
    "        df.reset_index(inplace=True)\n",
    "        df.rename(columns={'index':'time'}, inplace=True)\n",
    "        df['time_idx'] = df.index\n",
    "        \n",
    "        #df['series'] = np.NaN #... is this the best way to handle this...?\n",
    "        \n",
    "        #Save to csv\n",
    "        #df.to_csv(os.path.join(\"cache\",data_path))\n",
    "        return df\n",
    "    else:\n",
    "        #default to OHLCV\n",
    "        pass"
   ]
  },
  {
   "cell_type": "code",
   "execution_count": 4,
   "id": "b9c1023b",
   "metadata": {},
   "outputs": [
    {
     "name": "stdout",
     "output_type": "stream",
     "text": [
      "Found 1 symbols\n",
      "[1/1] - start download daily BTCUSDT aggTrades \n",
      "\n",
      "file already exists! ./cache/tick_raw/BTCUSDT-aggTrades-2021-12-29.csv\n",
      "\n",
      "file already exists! ./cache/tick_raw/BTCUSDT-aggTrades-2021-12-30.csv\n",
      "\n",
      "file already exists! ./cache/tick_raw/BTCUSDT-aggTrades-2021-12-31.csv\n"
     ]
    }
   ],
   "source": [
    "### get data (set config params)\n",
    "ticker_list = [\"BTCUSDT\"]\n",
    "start_date = \"2021-12-30\"\n",
    "end_date = \"2021-12-31\"\n",
    "time_interval = \"1s\"\n",
    "\n",
    "p = BinanceProcessor(\"binance\")\n",
    "df = p.download_data(ticker_list, start_date, end_date, time_interval)"
   ]
  },
  {
   "cell_type": "code",
   "execution_count": 5,
   "id": "5b089154",
   "metadata": {},
   "outputs": [],
   "source": [
    "# for non 1m data\n",
    "#df.drop([\"tic\", \"adj_close\"], axis=1, inplace=True)"
   ]
  },
  {
   "cell_type": "code",
   "execution_count": 6,
   "id": "f99e4f4b",
   "metadata": {},
   "outputs": [],
   "source": [
    "df.drop(\"tic\", axis=1, inplace=True)"
   ]
  },
  {
   "cell_type": "code",
   "execution_count": 7,
   "id": "c9330399",
   "metadata": {},
   "outputs": [],
   "source": [
    "df.columns = [\"Open\",\"High\",\"Low\",\"Close\",\"Volume\"]\n"
   ]
  },
  {
   "cell_type": "code",
   "execution_count": 8,
   "id": "4baee85c",
   "metadata": {},
   "outputs": [
    {
     "data": {
      "text/html": [
       "<div>\n",
       "<style scoped>\n",
       "    .dataframe tbody tr th:only-of-type {\n",
       "        vertical-align: middle;\n",
       "    }\n",
       "\n",
       "    .dataframe tbody tr th {\n",
       "        vertical-align: top;\n",
       "    }\n",
       "\n",
       "    .dataframe thead th {\n",
       "        text-align: right;\n",
       "    }\n",
       "</style>\n",
       "<table border=\"1\" class=\"dataframe\">\n",
       "  <thead>\n",
       "    <tr style=\"text-align: right;\">\n",
       "      <th></th>\n",
       "      <th>Open</th>\n",
       "      <th>High</th>\n",
       "      <th>Low</th>\n",
       "      <th>Close</th>\n",
       "      <th>Volume</th>\n",
       "    </tr>\n",
       "  </thead>\n",
       "  <tbody>\n",
       "    <tr>\n",
       "      <th>2021-12-30 00:00:00</th>\n",
       "      <td>46464.66</td>\n",
       "      <td>46467.73</td>\n",
       "      <td>46464.65</td>\n",
       "      <td>46467.73</td>\n",
       "      <td>0.39143</td>\n",
       "    </tr>\n",
       "    <tr>\n",
       "      <th>2021-12-30 00:00:01</th>\n",
       "      <td>46467.73</td>\n",
       "      <td>46471.83</td>\n",
       "      <td>46460.24</td>\n",
       "      <td>46464.33</td>\n",
       "      <td>4.92520</td>\n",
       "    </tr>\n",
       "    <tr>\n",
       "      <th>2021-12-30 00:00:02</th>\n",
       "      <td>46461.29</td>\n",
       "      <td>46461.29</td>\n",
       "      <td>46456.02</td>\n",
       "      <td>46456.03</td>\n",
       "      <td>1.05925</td>\n",
       "    </tr>\n",
       "    <tr>\n",
       "      <th>2021-12-30 00:00:03</th>\n",
       "      <td>46456.02</td>\n",
       "      <td>46456.03</td>\n",
       "      <td>46456.02</td>\n",
       "      <td>46456.03</td>\n",
       "      <td>0.03054</td>\n",
       "    </tr>\n",
       "    <tr>\n",
       "      <th>2021-12-30 00:00:04</th>\n",
       "      <td>46456.02</td>\n",
       "      <td>46456.03</td>\n",
       "      <td>46456.02</td>\n",
       "      <td>46456.02</td>\n",
       "      <td>0.50262</td>\n",
       "    </tr>\n",
       "  </tbody>\n",
       "</table>\n",
       "</div>"
      ],
      "text/plain": [
       "                         Open      High       Low     Close   Volume\n",
       "2021-12-30 00:00:00  46464.66  46467.73  46464.65  46467.73  0.39143\n",
       "2021-12-30 00:00:01  46467.73  46471.83  46460.24  46464.33  4.92520\n",
       "2021-12-30 00:00:02  46461.29  46461.29  46456.02  46456.03  1.05925\n",
       "2021-12-30 00:00:03  46456.02  46456.03  46456.02  46456.03  0.03054\n",
       "2021-12-30 00:00:04  46456.02  46456.03  46456.02  46456.02  0.50262"
      ]
     },
     "execution_count": 8,
     "metadata": {},
     "output_type": "execute_result"
    }
   ],
   "source": [
    "df.head()"
   ]
  },
  {
   "cell_type": "code",
   "execution_count": 9,
   "id": "1ddfec9f",
   "metadata": {},
   "outputs": [],
   "source": [
    "def stationize(series):\n",
    "    return np.log(series / series.shift(1))"
   ]
  },
  {
   "cell_type": "code",
   "execution_count": 10,
   "id": "a5c08be0",
   "metadata": {},
   "outputs": [],
   "source": [
    "# Log return\n",
    "df['log_ret'] = stationize(df['Close'])"
   ]
  },
  {
   "cell_type": "code",
   "execution_count": 11,
   "id": "35623637",
   "metadata": {},
   "outputs": [],
   "source": [
    "# Relative Strength Index (RSI)\n",
    "df[\"momentum_rsi\"] = RSIIndicator(\n",
    "close=df[\"Close\"], window=14, fillna=True\n",
    ").rsi()/100 #scale 0-1\n",
    "\n",
    "# Stoch RSIs (StochRSI)\n",
    "indicator_srsi = StochRSIIndicator(\n",
    "close=df[\"Close\"], window=14, smooth1=3, smooth2=3, fillna=True\n",
    ")\n",
    "df[\"momentum_stoch_rsi\"] = indicator_srsi.stochrsi()"
   ]
  },
  {
   "cell_type": "code",
   "execution_count": 12,
   "id": "264e9cf5",
   "metadata": {},
   "outputs": [],
   "source": [
    "# Money Flow Index\n",
    "df[\"volume_mfi\"] = MFIIndicator(\n",
    "            high=df[\"High\"], low=df[\"Low\"], close=df[\"Close\"], volume=df[\"Volume\"], fillna=True\n",
    "        ).money_flow_index()/100 #norm to 0-1"
   ]
  },
  {
   "cell_type": "code",
   "execution_count": 13,
   "id": "8f0e79d5",
   "metadata": {},
   "outputs": [],
   "source": [
    "# SMAs\n",
    "df[\"trend_sma_fast\"] = SMAIndicator(\n",
    "    close=df[\"Close\"], window=12, fillna=True\n",
    ").sma_indicator()\n",
    "# EMAs\n",
    "df[\"trend_ema_fast\"] = EMAIndicator(\n",
    "    close=df[\"Close\"], window=12, fillna=True\n",
    ").ema_indicator()"
   ]
  },
  {
   "cell_type": "code",
   "execution_count": 14,
   "id": "7116135a",
   "metadata": {},
   "outputs": [],
   "source": [
    "N = 30\n",
    "df.drop(index=df.index[:N], \n",
    "        axis=0, \n",
    "        inplace=True)\n",
    "df.dropna(inplace=True)"
   ]
  },
  {
   "cell_type": "code",
   "execution_count": 15,
   "id": "9be1d09d",
   "metadata": {},
   "outputs": [],
   "source": [
    "# # non 1s specific code\n",
    "# df['Time'] = pd.to_datetime(df['Time'])\n",
    "# df.set_index('Time', inplace=True)"
   ]
  },
  {
   "cell_type": "code",
   "execution_count": 16,
   "id": "f4a105f1",
   "metadata": {},
   "outputs": [],
   "source": [
    "# df.asfreq('min')"
   ]
  },
  {
   "cell_type": "code",
   "execution_count": 17,
   "id": "5a4c4f58",
   "metadata": {},
   "outputs": [
    {
     "data": {
      "text/html": [
       "<div>\n",
       "<style scoped>\n",
       "    .dataframe tbody tr th:only-of-type {\n",
       "        vertical-align: middle;\n",
       "    }\n",
       "\n",
       "    .dataframe tbody tr th {\n",
       "        vertical-align: top;\n",
       "    }\n",
       "\n",
       "    .dataframe thead th {\n",
       "        text-align: right;\n",
       "    }\n",
       "</style>\n",
       "<table border=\"1\" class=\"dataframe\">\n",
       "  <thead>\n",
       "    <tr style=\"text-align: right;\">\n",
       "      <th></th>\n",
       "      <th>Open</th>\n",
       "      <th>High</th>\n",
       "      <th>Low</th>\n",
       "      <th>Close</th>\n",
       "      <th>Volume</th>\n",
       "      <th>log_ret</th>\n",
       "      <th>momentum_rsi</th>\n",
       "      <th>momentum_stoch_rsi</th>\n",
       "      <th>volume_mfi</th>\n",
       "      <th>trend_sma_fast</th>\n",
       "      <th>trend_ema_fast</th>\n",
       "    </tr>\n",
       "  </thead>\n",
       "  <tbody>\n",
       "    <tr>\n",
       "      <th>2021-12-30 00:00:30</th>\n",
       "      <td>46489.34</td>\n",
       "      <td>46491.32</td>\n",
       "      <td>46489.33</td>\n",
       "      <td>46491.32</td>\n",
       "      <td>0.33023</td>\n",
       "      <td>4.258950e-05</td>\n",
       "      <td>0.720308</td>\n",
       "      <td>5.745188e-01</td>\n",
       "      <td>0.842264</td>\n",
       "      <td>46488.235000</td>\n",
       "      <td>46486.750796</td>\n",
       "    </tr>\n",
       "    <tr>\n",
       "      <th>2021-12-30 00:00:31</th>\n",
       "      <td>46491.32</td>\n",
       "      <td>46493.97</td>\n",
       "      <td>46491.31</td>\n",
       "      <td>46491.31</td>\n",
       "      <td>0.50273</td>\n",
       "      <td>-2.150939e-07</td>\n",
       "      <td>0.720075</td>\n",
       "      <td>5.738897e-01</td>\n",
       "      <td>0.848999</td>\n",
       "      <td>46490.484167</td>\n",
       "      <td>46487.452212</td>\n",
       "    </tr>\n",
       "    <tr>\n",
       "      <th>2021-12-30 00:00:32</th>\n",
       "      <td>46491.31</td>\n",
       "      <td>46491.32</td>\n",
       "      <td>46491.31</td>\n",
       "      <td>46491.32</td>\n",
       "      <td>0.16562</td>\n",
       "      <td>2.150939e-07</td>\n",
       "      <td>0.720172</td>\n",
       "      <td>4.113943e-01</td>\n",
       "      <td>0.836165</td>\n",
       "      <td>46491.430000</td>\n",
       "      <td>46488.047256</td>\n",
       "    </tr>\n",
       "    <tr>\n",
       "      <th>2021-12-30 00:00:33</th>\n",
       "      <td>46491.32</td>\n",
       "      <td>46493.96</td>\n",
       "      <td>46491.32</td>\n",
       "      <td>46491.41</td>\n",
       "      <td>0.16494</td>\n",
       "      <td>1.935843e-06</td>\n",
       "      <td>0.721114</td>\n",
       "      <td>1.055475e-01</td>\n",
       "      <td>0.830981</td>\n",
       "      <td>46492.383333</td>\n",
       "      <td>46488.564601</td>\n",
       "    </tr>\n",
       "    <tr>\n",
       "      <th>2021-12-30 00:00:34</th>\n",
       "      <td>46492.43</td>\n",
       "      <td>46492.47</td>\n",
       "      <td>46492.43</td>\n",
       "      <td>46492.47</td>\n",
       "      <td>0.29916</td>\n",
       "      <td>2.279965e-05</td>\n",
       "      <td>0.732532</td>\n",
       "      <td>1.706610e-01</td>\n",
       "      <td>0.656490</td>\n",
       "      <td>46493.424167</td>\n",
       "      <td>46489.165432</td>\n",
       "    </tr>\n",
       "    <tr>\n",
       "      <th>2021-12-30 00:00:35</th>\n",
       "      <td>46492.47</td>\n",
       "      <td>46500.00</td>\n",
       "      <td>46492.47</td>\n",
       "      <td>46494.24</td>\n",
       "      <td>1.41223</td>\n",
       "      <td>3.806996e-05</td>\n",
       "      <td>0.750872</td>\n",
       "      <td>2.752578e-01</td>\n",
       "      <td>0.725291</td>\n",
       "      <td>46493.250833</td>\n",
       "      <td>46489.946135</td>\n",
       "    </tr>\n",
       "    <tr>\n",
       "      <th>2021-12-30 00:00:36</th>\n",
       "      <td>46494.25</td>\n",
       "      <td>46497.97</td>\n",
       "      <td>46494.24</td>\n",
       "      <td>46497.97</td>\n",
       "      <td>0.10976</td>\n",
       "      <td>8.022177e-05</td>\n",
       "      <td>0.784421</td>\n",
       "      <td>4.665834e-01</td>\n",
       "      <td>0.728409</td>\n",
       "      <td>46493.387500</td>\n",
       "      <td>46491.180576</td>\n",
       "    </tr>\n",
       "    <tr>\n",
       "      <th>2021-12-30 00:00:37</th>\n",
       "      <td>46499.97</td>\n",
       "      <td>46500.00</td>\n",
       "      <td>46499.97</td>\n",
       "      <td>46499.99</td>\n",
       "      <td>0.07930</td>\n",
       "      <td>4.344181e-05</td>\n",
       "      <td>0.800119</td>\n",
       "      <td>5.561096e-01</td>\n",
       "      <td>0.713506</td>\n",
       "      <td>46493.693333</td>\n",
       "      <td>46492.535872</td>\n",
       "    </tr>\n",
       "    <tr>\n",
       "      <th>2021-12-30 00:00:38</th>\n",
       "      <td>46499.99</td>\n",
       "      <td>46499.99</td>\n",
       "      <td>46497.81</td>\n",
       "      <td>46497.82</td>\n",
       "      <td>0.36357</td>\n",
       "      <td>-4.666777e-05</td>\n",
       "      <td>0.737952</td>\n",
       "      <td>2.018492e-01</td>\n",
       "      <td>0.554178</td>\n",
       "      <td>46493.930000</td>\n",
       "      <td>46493.348814</td>\n",
       "    </tr>\n",
       "    <tr>\n",
       "      <th>2021-12-30 00:00:39</th>\n",
       "      <td>46497.82</td>\n",
       "      <td>46497.82</td>\n",
       "      <td>46497.81</td>\n",
       "      <td>46497.82</td>\n",
       "      <td>0.26512</td>\n",
       "      <td>0.000000e+00</td>\n",
       "      <td>0.737952</td>\n",
       "      <td>2.496731e-01</td>\n",
       "      <td>0.558277</td>\n",
       "      <td>46494.166667</td>\n",
       "      <td>46494.036689</td>\n",
       "    </tr>\n",
       "    <tr>\n",
       "      <th>2021-12-30 00:00:40</th>\n",
       "      <td>46497.82</td>\n",
       "      <td>46497.82</td>\n",
       "      <td>46495.04</td>\n",
       "      <td>46495.05</td>\n",
       "      <td>0.35948</td>\n",
       "      <td>-5.957446e-05</td>\n",
       "      <td>0.661824</td>\n",
       "      <td>0.000000e+00</td>\n",
       "      <td>0.573407</td>\n",
       "      <td>46494.171667</td>\n",
       "      <td>46494.192583</td>\n",
       "    </tr>\n",
       "    <tr>\n",
       "      <th>2021-12-30 00:00:41</th>\n",
       "      <td>46495.01</td>\n",
       "      <td>46495.01</td>\n",
       "      <td>46491.41</td>\n",
       "      <td>46491.41</td>\n",
       "      <td>0.59879</td>\n",
       "      <td>-7.829097e-05</td>\n",
       "      <td>0.577514</td>\n",
       "      <td>0.000000e+00</td>\n",
       "      <td>0.504087</td>\n",
       "      <td>46494.344167</td>\n",
       "      <td>46493.764493</td>\n",
       "    </tr>\n",
       "    <tr>\n",
       "      <th>2021-12-30 00:00:42</th>\n",
       "      <td>46491.42</td>\n",
       "      <td>46491.42</td>\n",
       "      <td>46491.41</td>\n",
       "      <td>46491.41</td>\n",
       "      <td>0.02651</td>\n",
       "      <td>0.000000e+00</td>\n",
       "      <td>0.577514</td>\n",
       "      <td>3.191943e-16</td>\n",
       "      <td>0.494861</td>\n",
       "      <td>46494.351667</td>\n",
       "      <td>46493.402264</td>\n",
       "    </tr>\n",
       "    <tr>\n",
       "      <th>2021-12-30 00:00:43</th>\n",
       "      <td>46491.42</td>\n",
       "      <td>46497.77</td>\n",
       "      <td>46491.41</td>\n",
       "      <td>46494.99</td>\n",
       "      <td>0.11803</td>\n",
       "      <td>7.700051e-05</td>\n",
       "      <td>0.631116</td>\n",
       "      <td>2.407934e-01</td>\n",
       "      <td>0.560144</td>\n",
       "      <td>46494.658333</td>\n",
       "      <td>46493.646531</td>\n",
       "    </tr>\n",
       "    <tr>\n",
       "      <th>2021-12-30 00:00:44</th>\n",
       "      <td>46495.00</td>\n",
       "      <td>46526.71</td>\n",
       "      <td>46495.00</td>\n",
       "      <td>46515.17</td>\n",
       "      <td>29.97944</td>\n",
       "      <td>4.339311e-04</td>\n",
       "      <td>0.791612</td>\n",
       "      <td>9.617824e-01</td>\n",
       "      <td>0.948366</td>\n",
       "      <td>46496.645833</td>\n",
       "      <td>46496.957834</td>\n",
       "    </tr>\n",
       "    <tr>\n",
       "      <th>2021-12-30 00:00:45</th>\n",
       "      <td>46515.16</td>\n",
       "      <td>46519.06</td>\n",
       "      <td>46515.16</td>\n",
       "      <td>46519.06</td>\n",
       "      <td>0.22061</td>\n",
       "      <td>8.362513e-05</td>\n",
       "      <td>0.808874</td>\n",
       "      <td>1.000000e+00</td>\n",
       "      <td>0.947940</td>\n",
       "      <td>46498.950000</td>\n",
       "      <td>46500.358167</td>\n",
       "    </tr>\n",
       "    <tr>\n",
       "      <th>2021-12-30 00:00:46</th>\n",
       "      <td>46519.06</td>\n",
       "      <td>46521.78</td>\n",
       "      <td>46519.06</td>\n",
       "      <td>46521.78</td>\n",
       "      <td>0.06816</td>\n",
       "      <td>5.846895e-05</td>\n",
       "      <td>0.820096</td>\n",
       "      <td>1.000000e+00</td>\n",
       "      <td>0.952651</td>\n",
       "      <td>46501.392500</td>\n",
       "      <td>46503.653834</td>\n",
       "    </tr>\n",
       "    <tr>\n",
       "      <th>2021-12-30 00:00:47</th>\n",
       "      <td>46521.78</td>\n",
       "      <td>46530.61</td>\n",
       "      <td>46521.78</td>\n",
       "      <td>46530.60</td>\n",
       "      <td>0.51172</td>\n",
       "      <td>1.895706e-04</td>\n",
       "      <td>0.850707</td>\n",
       "      <td>1.000000e+00</td>\n",
       "      <td>0.953128</td>\n",
       "      <td>46504.422500</td>\n",
       "      <td>46507.799398</td>\n",
       "    </tr>\n",
       "    <tr>\n",
       "      <th>2021-12-30 00:00:48</th>\n",
       "      <td>46530.75</td>\n",
       "      <td>46542.50</td>\n",
       "      <td>46530.75</td>\n",
       "      <td>46537.01</td>\n",
       "      <td>1.36431</td>\n",
       "      <td>1.377493e-04</td>\n",
       "      <td>0.868253</td>\n",
       "      <td>1.000000e+00</td>\n",
       "      <td>0.954537</td>\n",
       "      <td>46507.675833</td>\n",
       "      <td>46512.293337</td>\n",
       "    </tr>\n",
       "    <tr>\n",
       "      <th>2021-12-30 00:00:49</th>\n",
       "      <td>46535.23</td>\n",
       "      <td>46537.01</td>\n",
       "      <td>46527.98</td>\n",
       "      <td>46536.28</td>\n",
       "      <td>0.84225</td>\n",
       "      <td>-1.568656e-05</td>\n",
       "      <td>0.855916</td>\n",
       "      <td>9.575678e-01</td>\n",
       "      <td>0.929657</td>\n",
       "      <td>46510.700000</td>\n",
       "      <td>46515.983592</td>\n",
       "    </tr>\n",
       "    <tr>\n",
       "      <th>2021-12-30 00:00:50</th>\n",
       "      <td>46536.28</td>\n",
       "      <td>46536.28</td>\n",
       "      <td>46534.06</td>\n",
       "      <td>46534.06</td>\n",
       "      <td>0.46137</td>\n",
       "      <td>-4.770585e-05</td>\n",
       "      <td>0.817858</td>\n",
       "      <td>8.266671e-01</td>\n",
       "      <td>0.930359</td>\n",
       "      <td>46513.720000</td>\n",
       "      <td>46518.764578</td>\n",
       "    </tr>\n",
       "    <tr>\n",
       "      <th>2021-12-30 00:00:51</th>\n",
       "      <td>46534.07</td>\n",
       "      <td>46534.07</td>\n",
       "      <td>46529.49</td>\n",
       "      <td>46529.49</td>\n",
       "      <td>1.16079</td>\n",
       "      <td>-9.821246e-05</td>\n",
       "      <td>0.744472</td>\n",
       "      <td>5.742565e-01</td>\n",
       "      <td>0.900478</td>\n",
       "      <td>46516.359167</td>\n",
       "      <td>46520.414643</td>\n",
       "    </tr>\n",
       "    <tr>\n",
       "      <th>2021-12-30 00:00:52</th>\n",
       "      <td>46529.49</td>\n",
       "      <td>46542.50</td>\n",
       "      <td>46529.49</td>\n",
       "      <td>46541.54</td>\n",
       "      <td>1.20199</td>\n",
       "      <td>2.589420e-04</td>\n",
       "      <td>0.796359</td>\n",
       "      <td>7.527206e-01</td>\n",
       "      <td>0.912500</td>\n",
       "      <td>46520.233333</td>\n",
       "      <td>46523.664698</td>\n",
       "    </tr>\n",
       "    <tr>\n",
       "      <th>2021-12-30 00:00:53</th>\n",
       "      <td>46535.14</td>\n",
       "      <td>46535.14</td>\n",
       "      <td>46519.68</td>\n",
       "      <td>46520.83</td>\n",
       "      <td>0.54892</td>\n",
       "      <td>-4.450779e-04</td>\n",
       "      <td>0.578820</td>\n",
       "      <td>4.492147e-03</td>\n",
       "      <td>0.905582</td>\n",
       "      <td>46522.685000</td>\n",
       "      <td>46523.228591</td>\n",
       "    </tr>\n",
       "    <tr>\n",
       "      <th>2021-12-30 00:00:54</th>\n",
       "      <td>46520.82</td>\n",
       "      <td>46525.97</td>\n",
       "      <td>46520.01</td>\n",
       "      <td>46520.01</td>\n",
       "      <td>0.23377</td>\n",
       "      <td>-1.762667e-05</td>\n",
       "      <td>0.572155</td>\n",
       "      <td>0.000000e+00</td>\n",
       "      <td>0.908626</td>\n",
       "      <td>46525.068333</td>\n",
       "      <td>46522.733423</td>\n",
       "    </tr>\n",
       "    <tr>\n",
       "      <th>2021-12-30 00:00:55</th>\n",
       "      <td>46520.01</td>\n",
       "      <td>46534.08</td>\n",
       "      <td>46520.00</td>\n",
       "      <td>46527.04</td>\n",
       "      <td>0.19056</td>\n",
       "      <td>1.511063e-04</td>\n",
       "      <td>0.613266</td>\n",
       "      <td>1.388422e-01</td>\n",
       "      <td>0.923824</td>\n",
       "      <td>46527.739167</td>\n",
       "      <td>46523.395973</td>\n",
       "    </tr>\n",
       "    <tr>\n",
       "      <th>2021-12-30 00:00:56</th>\n",
       "      <td>46531.72</td>\n",
       "      <td>46531.73</td>\n",
       "      <td>46520.01</td>\n",
       "      <td>46520.01</td>\n",
       "      <td>0.44292</td>\n",
       "      <td>-1.511063e-04</td>\n",
       "      <td>0.555757</td>\n",
       "      <td>0.000000e+00</td>\n",
       "      <td>0.913521</td>\n",
       "      <td>46528.142500</td>\n",
       "      <td>46522.875054</td>\n",
       "    </tr>\n",
       "    <tr>\n",
       "      <th>2021-12-30 00:00:57</th>\n",
       "      <td>46520.00</td>\n",
       "      <td>46526.38</td>\n",
       "      <td>46520.00</td>\n",
       "      <td>46522.84</td>\n",
       "      <td>0.51000</td>\n",
       "      <td>6.083219e-05</td>\n",
       "      <td>0.573112</td>\n",
       "      <td>5.553618e-02</td>\n",
       "      <td>0.900903</td>\n",
       "      <td>46528.457500</td>\n",
       "      <td>46522.869661</td>\n",
       "    </tr>\n",
       "    <tr>\n",
       "      <th>2021-12-30 00:00:58</th>\n",
       "      <td>46522.84</td>\n",
       "      <td>46540.45</td>\n",
       "      <td>46522.84</td>\n",
       "      <td>46532.65</td>\n",
       "      <td>0.29384</td>\n",
       "      <td>2.108419e-04</td>\n",
       "      <td>0.627444</td>\n",
       "      <td>2.294020e-01</td>\n",
       "      <td>0.535671</td>\n",
       "      <td>46529.363333</td>\n",
       "      <td>46524.374329</td>\n",
       "    </tr>\n",
       "    <tr>\n",
       "      <th>2021-12-30 00:00:59</th>\n",
       "      <td>46532.65</td>\n",
       "      <td>46537.15</td>\n",
       "      <td>46529.71</td>\n",
       "      <td>46532.22</td>\n",
       "      <td>0.30009</td>\n",
       "      <td>-9.240866e-06</td>\n",
       "      <td>0.623697</td>\n",
       "      <td>2.174109e-01</td>\n",
       "      <td>0.540214</td>\n",
       "      <td>46529.498333</td>\n",
       "      <td>46525.581355</td>\n",
       "    </tr>\n",
       "    <tr>\n",
       "      <th>2021-12-30 00:01:00</th>\n",
       "      <td>46532.22</td>\n",
       "      <td>46536.77</td>\n",
       "      <td>46530.60</td>\n",
       "      <td>46531.85</td>\n",
       "      <td>1.67158</td>\n",
       "      <td>-7.951511e-06</td>\n",
       "      <td>0.620264</td>\n",
       "      <td>2.064265e-01</td>\n",
       "      <td>0.615953</td>\n",
       "      <td>46529.068333</td>\n",
       "      <td>46526.545762</td>\n",
       "    </tr>\n",
       "    <tr>\n",
       "      <th>2021-12-30 00:01:01</th>\n",
       "      <td>46531.83</td>\n",
       "      <td>46531.83</td>\n",
       "      <td>46527.44</td>\n",
       "      <td>46527.44</td>\n",
       "      <td>0.14050</td>\n",
       "      <td>-9.477829e-05</td>\n",
       "      <td>0.579338</td>\n",
       "      <td>7.546088e-02</td>\n",
       "      <td>0.585723</td>\n",
       "      <td>46528.331667</td>\n",
       "      <td>46526.683337</td>\n",
       "    </tr>\n",
       "    <tr>\n",
       "      <th>2021-12-30 00:01:02</th>\n",
       "      <td>46529.34</td>\n",
       "      <td>46529.34</td>\n",
       "      <td>46520.00</td>\n",
       "      <td>46520.77</td>\n",
       "      <td>3.32132</td>\n",
       "      <td>-1.433665e-04</td>\n",
       "      <td>0.523117</td>\n",
       "      <td>0.000000e+00</td>\n",
       "      <td>0.363952</td>\n",
       "      <td>46527.224167</td>\n",
       "      <td>46525.773593</td>\n",
       "    </tr>\n",
       "    <tr>\n",
       "      <th>2021-12-30 00:01:03</th>\n",
       "      <td>46520.78</td>\n",
       "      <td>46520.78</td>\n",
       "      <td>46510.42</td>\n",
       "      <td>46511.53</td>\n",
       "      <td>4.93460</td>\n",
       "      <td>-1.986407e-04</td>\n",
       "      <td>0.456961</td>\n",
       "      <td>0.000000e+00</td>\n",
       "      <td>0.267342</td>\n",
       "      <td>46525.727500</td>\n",
       "      <td>46523.582271</td>\n",
       "    </tr>\n",
       "    <tr>\n",
       "      <th>2021-12-30 00:01:04</th>\n",
       "      <td>46510.42</td>\n",
       "      <td>46531.63</td>\n",
       "      <td>46507.64</td>\n",
       "      <td>46526.91</td>\n",
       "      <td>3.27244</td>\n",
       "      <td>3.306160e-04</td>\n",
       "      <td>0.557315</td>\n",
       "      <td>2.956843e-01</td>\n",
       "      <td>0.380351</td>\n",
       "      <td>46524.508333</td>\n",
       "      <td>46524.094229</td>\n",
       "    </tr>\n",
       "    <tr>\n",
       "      <th>2021-12-30 00:01:05</th>\n",
       "      <td>46522.91</td>\n",
       "      <td>46522.91</td>\n",
       "      <td>46515.93</td>\n",
       "      <td>46519.04</td>\n",
       "      <td>0.54540</td>\n",
       "      <td>-1.691637e-04</td>\n",
       "      <td>0.505805</td>\n",
       "      <td>1.439152e-01</td>\n",
       "      <td>0.393649</td>\n",
       "      <td>46524.359167</td>\n",
       "      <td>46523.316656</td>\n",
       "    </tr>\n",
       "    <tr>\n",
       "      <th>2021-12-30 00:01:06</th>\n",
       "      <td>46519.04</td>\n",
       "      <td>46520.12</td>\n",
       "      <td>46514.80</td>\n",
       "      <td>46514.80</td>\n",
       "      <td>0.86663</td>\n",
       "      <td>-9.114963e-05</td>\n",
       "      <td>0.480062</td>\n",
       "      <td>1.355042e-01</td>\n",
       "      <td>0.331690</td>\n",
       "      <td>46523.925000</td>\n",
       "      <td>46522.006401</td>\n",
       "    </tr>\n",
       "    <tr>\n",
       "      <th>2021-12-30 00:01:07</th>\n",
       "      <td>46514.80</td>\n",
       "      <td>46522.95</td>\n",
       "      <td>46512.93</td>\n",
       "      <td>46512.93</td>\n",
       "      <td>1.33100</td>\n",
       "      <td>-4.020307e-05</td>\n",
       "      <td>0.468731</td>\n",
       "      <td>6.904054e-02</td>\n",
       "      <td>0.317325</td>\n",
       "      <td>46522.749167</td>\n",
       "      <td>46520.610031</td>\n",
       "    </tr>\n",
       "    <tr>\n",
       "      <th>2021-12-30 00:01:08</th>\n",
       "      <td>46512.23</td>\n",
       "      <td>46516.52</td>\n",
       "      <td>46512.23</td>\n",
       "      <td>46516.51</td>\n",
       "      <td>0.78601</td>\n",
       "      <td>7.696488e-05</td>\n",
       "      <td>0.493384</td>\n",
       "      <td>2.136483e-01</td>\n",
       "      <td>0.307909</td>\n",
       "      <td>46522.457500</td>\n",
       "      <td>46519.979257</td>\n",
       "    </tr>\n",
       "    <tr>\n",
       "      <th>2021-12-30 00:01:09</th>\n",
       "      <td>46516.51</td>\n",
       "      <td>46534.32</td>\n",
       "      <td>46516.51</td>\n",
       "      <td>46524.96</td>\n",
       "      <td>0.56503</td>\n",
       "      <td>1.816394e-04</td>\n",
       "      <td>0.546837</td>\n",
       "      <td>5.271861e-01</td>\n",
       "      <td>0.321564</td>\n",
       "      <td>46522.634167</td>\n",
       "      <td>46520.745525</td>\n",
       "    </tr>\n",
       "    <tr>\n",
       "      <th>2021-12-30 00:01:10</th>\n",
       "      <td>46524.96</td>\n",
       "      <td>46524.97</td>\n",
       "      <td>46520.37</td>\n",
       "      <td>46524.96</td>\n",
       "      <td>0.15700</td>\n",
       "      <td>0.000000e+00</td>\n",
       "      <td>0.546837</td>\n",
       "      <td>5.271861e-01</td>\n",
       "      <td>0.326482</td>\n",
       "      <td>46521.993333</td>\n",
       "      <td>46521.393906</td>\n",
       "    </tr>\n",
       "    <tr>\n",
       "      <th>2021-12-30 00:01:11</th>\n",
       "      <td>46524.96</td>\n",
       "      <td>46524.97</td>\n",
       "      <td>46516.52</td>\n",
       "      <td>46516.53</td>\n",
       "      <td>0.33715</td>\n",
       "      <td>-1.812095e-04</td>\n",
       "      <td>0.487344</td>\n",
       "      <td>1.782171e-01</td>\n",
       "      <td>0.329529</td>\n",
       "      <td>46520.685833</td>\n",
       "      <td>46520.645613</td>\n",
       "    </tr>\n",
       "    <tr>\n",
       "      <th>2021-12-30 00:01:12</th>\n",
       "      <td>46516.53</td>\n",
       "      <td>46523.68</td>\n",
       "      <td>46514.30</td>\n",
       "      <td>46514.31</td>\n",
       "      <td>0.15052</td>\n",
       "      <td>-4.772611e-05</td>\n",
       "      <td>0.472757</td>\n",
       "      <td>9.473821e-02</td>\n",
       "      <td>0.316109</td>\n",
       "      <td>46519.224167</td>\n",
       "      <td>46519.670903</td>\n",
       "    </tr>\n",
       "    <tr>\n",
       "      <th>2021-12-30 00:01:13</th>\n",
       "      <td>46514.31</td>\n",
       "      <td>46514.31</td>\n",
       "      <td>46514.30</td>\n",
       "      <td>46514.31</td>\n",
       "      <td>0.59232</td>\n",
       "      <td>0.000000e+00</td>\n",
       "      <td>0.472757</td>\n",
       "      <td>9.672958e-02</td>\n",
       "      <td>0.295088</td>\n",
       "      <td>46518.130000</td>\n",
       "      <td>46518.846149</td>\n",
       "    </tr>\n",
       "    <tr>\n",
       "      <th>2021-12-30 00:01:14</th>\n",
       "      <td>46514.31</td>\n",
       "      <td>46514.31</td>\n",
       "      <td>46514.30</td>\n",
       "      <td>46514.31</td>\n",
       "      <td>0.22772</td>\n",
       "      <td>0.000000e+00</td>\n",
       "      <td>0.472757</td>\n",
       "      <td>1.290785e-01</td>\n",
       "      <td>0.225753</td>\n",
       "      <td>46517.591667</td>\n",
       "      <td>46518.148280</td>\n",
       "    </tr>\n",
       "    <tr>\n",
       "      <th>2021-12-30 00:01:15</th>\n",
       "      <td>46514.31</td>\n",
       "      <td>46525.89</td>\n",
       "      <td>46514.31</td>\n",
       "      <td>46520.95</td>\n",
       "      <td>0.16112</td>\n",
       "      <td>1.427416e-04</td>\n",
       "      <td>0.525781</td>\n",
       "      <td>6.857689e-01</td>\n",
       "      <td>0.234947</td>\n",
       "      <td>46518.376667</td>\n",
       "      <td>46518.579314</td>\n",
       "    </tr>\n",
       "    <tr>\n",
       "      <th>2021-12-30 00:01:16</th>\n",
       "      <td>46520.96</td>\n",
       "      <td>46525.96</td>\n",
       "      <td>46520.94</td>\n",
       "      <td>46523.33</td>\n",
       "      <td>0.79624</td>\n",
       "      <td>5.115844e-05</td>\n",
       "      <td>0.543502</td>\n",
       "      <td>8.623545e-01</td>\n",
       "      <td>0.330815</td>\n",
       "      <td>46518.078333</td>\n",
       "      <td>46519.310189</td>\n",
       "    </tr>\n",
       "    <tr>\n",
       "      <th>2021-12-30 00:01:17</th>\n",
       "      <td>46525.97</td>\n",
       "      <td>46535.66</td>\n",
       "      <td>46525.96</td>\n",
       "      <td>46535.66</td>\n",
       "      <td>0.26625</td>\n",
       "      <td>2.649932e-04</td>\n",
       "      <td>0.622257</td>\n",
       "      <td>1.000000e+00</td>\n",
       "      <td>0.515046</td>\n",
       "      <td>46519.463333</td>\n",
       "      <td>46521.825544</td>\n",
       "    </tr>\n",
       "    <tr>\n",
       "      <th>2021-12-30 00:01:18</th>\n",
       "      <td>46535.67</td>\n",
       "      <td>46542.29</td>\n",
       "      <td>46530.95</td>\n",
       "      <td>46539.82</td>\n",
       "      <td>1.48382</td>\n",
       "      <td>8.938982e-05</td>\n",
       "      <td>0.644539</td>\n",
       "      <td>1.000000e+00</td>\n",
       "      <td>0.407172</td>\n",
       "      <td>46521.548333</td>\n",
       "      <td>46524.593922</td>\n",
       "    </tr>\n",
       "    <tr>\n",
       "      <th>2021-12-30 00:01:19</th>\n",
       "      <td>46535.98</td>\n",
       "      <td>46542.49</td>\n",
       "      <td>46535.98</td>\n",
       "      <td>46539.80</td>\n",
       "      <td>1.08943</td>\n",
       "      <td>-4.297396e-07</td>\n",
       "      <td>0.644342</td>\n",
       "      <td>9.988807e-01</td>\n",
       "      <td>0.508318</td>\n",
       "      <td>46523.787500</td>\n",
       "      <td>46526.933319</td>\n",
       "    </tr>\n",
       "  </tbody>\n",
       "</table>\n",
       "</div>"
      ],
      "text/plain": [
       "                         Open      High       Low     Close    Volume  \\\n",
       "2021-12-30 00:00:30  46489.34  46491.32  46489.33  46491.32   0.33023   \n",
       "2021-12-30 00:00:31  46491.32  46493.97  46491.31  46491.31   0.50273   \n",
       "2021-12-30 00:00:32  46491.31  46491.32  46491.31  46491.32   0.16562   \n",
       "2021-12-30 00:00:33  46491.32  46493.96  46491.32  46491.41   0.16494   \n",
       "2021-12-30 00:00:34  46492.43  46492.47  46492.43  46492.47   0.29916   \n",
       "2021-12-30 00:00:35  46492.47  46500.00  46492.47  46494.24   1.41223   \n",
       "2021-12-30 00:00:36  46494.25  46497.97  46494.24  46497.97   0.10976   \n",
       "2021-12-30 00:00:37  46499.97  46500.00  46499.97  46499.99   0.07930   \n",
       "2021-12-30 00:00:38  46499.99  46499.99  46497.81  46497.82   0.36357   \n",
       "2021-12-30 00:00:39  46497.82  46497.82  46497.81  46497.82   0.26512   \n",
       "2021-12-30 00:00:40  46497.82  46497.82  46495.04  46495.05   0.35948   \n",
       "2021-12-30 00:00:41  46495.01  46495.01  46491.41  46491.41   0.59879   \n",
       "2021-12-30 00:00:42  46491.42  46491.42  46491.41  46491.41   0.02651   \n",
       "2021-12-30 00:00:43  46491.42  46497.77  46491.41  46494.99   0.11803   \n",
       "2021-12-30 00:00:44  46495.00  46526.71  46495.00  46515.17  29.97944   \n",
       "2021-12-30 00:00:45  46515.16  46519.06  46515.16  46519.06   0.22061   \n",
       "2021-12-30 00:00:46  46519.06  46521.78  46519.06  46521.78   0.06816   \n",
       "2021-12-30 00:00:47  46521.78  46530.61  46521.78  46530.60   0.51172   \n",
       "2021-12-30 00:00:48  46530.75  46542.50  46530.75  46537.01   1.36431   \n",
       "2021-12-30 00:00:49  46535.23  46537.01  46527.98  46536.28   0.84225   \n",
       "2021-12-30 00:00:50  46536.28  46536.28  46534.06  46534.06   0.46137   \n",
       "2021-12-30 00:00:51  46534.07  46534.07  46529.49  46529.49   1.16079   \n",
       "2021-12-30 00:00:52  46529.49  46542.50  46529.49  46541.54   1.20199   \n",
       "2021-12-30 00:00:53  46535.14  46535.14  46519.68  46520.83   0.54892   \n",
       "2021-12-30 00:00:54  46520.82  46525.97  46520.01  46520.01   0.23377   \n",
       "2021-12-30 00:00:55  46520.01  46534.08  46520.00  46527.04   0.19056   \n",
       "2021-12-30 00:00:56  46531.72  46531.73  46520.01  46520.01   0.44292   \n",
       "2021-12-30 00:00:57  46520.00  46526.38  46520.00  46522.84   0.51000   \n",
       "2021-12-30 00:00:58  46522.84  46540.45  46522.84  46532.65   0.29384   \n",
       "2021-12-30 00:00:59  46532.65  46537.15  46529.71  46532.22   0.30009   \n",
       "2021-12-30 00:01:00  46532.22  46536.77  46530.60  46531.85   1.67158   \n",
       "2021-12-30 00:01:01  46531.83  46531.83  46527.44  46527.44   0.14050   \n",
       "2021-12-30 00:01:02  46529.34  46529.34  46520.00  46520.77   3.32132   \n",
       "2021-12-30 00:01:03  46520.78  46520.78  46510.42  46511.53   4.93460   \n",
       "2021-12-30 00:01:04  46510.42  46531.63  46507.64  46526.91   3.27244   \n",
       "2021-12-30 00:01:05  46522.91  46522.91  46515.93  46519.04   0.54540   \n",
       "2021-12-30 00:01:06  46519.04  46520.12  46514.80  46514.80   0.86663   \n",
       "2021-12-30 00:01:07  46514.80  46522.95  46512.93  46512.93   1.33100   \n",
       "2021-12-30 00:01:08  46512.23  46516.52  46512.23  46516.51   0.78601   \n",
       "2021-12-30 00:01:09  46516.51  46534.32  46516.51  46524.96   0.56503   \n",
       "2021-12-30 00:01:10  46524.96  46524.97  46520.37  46524.96   0.15700   \n",
       "2021-12-30 00:01:11  46524.96  46524.97  46516.52  46516.53   0.33715   \n",
       "2021-12-30 00:01:12  46516.53  46523.68  46514.30  46514.31   0.15052   \n",
       "2021-12-30 00:01:13  46514.31  46514.31  46514.30  46514.31   0.59232   \n",
       "2021-12-30 00:01:14  46514.31  46514.31  46514.30  46514.31   0.22772   \n",
       "2021-12-30 00:01:15  46514.31  46525.89  46514.31  46520.95   0.16112   \n",
       "2021-12-30 00:01:16  46520.96  46525.96  46520.94  46523.33   0.79624   \n",
       "2021-12-30 00:01:17  46525.97  46535.66  46525.96  46535.66   0.26625   \n",
       "2021-12-30 00:01:18  46535.67  46542.29  46530.95  46539.82   1.48382   \n",
       "2021-12-30 00:01:19  46535.98  46542.49  46535.98  46539.80   1.08943   \n",
       "\n",
       "                          log_ret  momentum_rsi  momentum_stoch_rsi  \\\n",
       "2021-12-30 00:00:30  4.258950e-05      0.720308        5.745188e-01   \n",
       "2021-12-30 00:00:31 -2.150939e-07      0.720075        5.738897e-01   \n",
       "2021-12-30 00:00:32  2.150939e-07      0.720172        4.113943e-01   \n",
       "2021-12-30 00:00:33  1.935843e-06      0.721114        1.055475e-01   \n",
       "2021-12-30 00:00:34  2.279965e-05      0.732532        1.706610e-01   \n",
       "2021-12-30 00:00:35  3.806996e-05      0.750872        2.752578e-01   \n",
       "2021-12-30 00:00:36  8.022177e-05      0.784421        4.665834e-01   \n",
       "2021-12-30 00:00:37  4.344181e-05      0.800119        5.561096e-01   \n",
       "2021-12-30 00:00:38 -4.666777e-05      0.737952        2.018492e-01   \n",
       "2021-12-30 00:00:39  0.000000e+00      0.737952        2.496731e-01   \n",
       "2021-12-30 00:00:40 -5.957446e-05      0.661824        0.000000e+00   \n",
       "2021-12-30 00:00:41 -7.829097e-05      0.577514        0.000000e+00   \n",
       "2021-12-30 00:00:42  0.000000e+00      0.577514        3.191943e-16   \n",
       "2021-12-30 00:00:43  7.700051e-05      0.631116        2.407934e-01   \n",
       "2021-12-30 00:00:44  4.339311e-04      0.791612        9.617824e-01   \n",
       "2021-12-30 00:00:45  8.362513e-05      0.808874        1.000000e+00   \n",
       "2021-12-30 00:00:46  5.846895e-05      0.820096        1.000000e+00   \n",
       "2021-12-30 00:00:47  1.895706e-04      0.850707        1.000000e+00   \n",
       "2021-12-30 00:00:48  1.377493e-04      0.868253        1.000000e+00   \n",
       "2021-12-30 00:00:49 -1.568656e-05      0.855916        9.575678e-01   \n",
       "2021-12-30 00:00:50 -4.770585e-05      0.817858        8.266671e-01   \n",
       "2021-12-30 00:00:51 -9.821246e-05      0.744472        5.742565e-01   \n",
       "2021-12-30 00:00:52  2.589420e-04      0.796359        7.527206e-01   \n",
       "2021-12-30 00:00:53 -4.450779e-04      0.578820        4.492147e-03   \n",
       "2021-12-30 00:00:54 -1.762667e-05      0.572155        0.000000e+00   \n",
       "2021-12-30 00:00:55  1.511063e-04      0.613266        1.388422e-01   \n",
       "2021-12-30 00:00:56 -1.511063e-04      0.555757        0.000000e+00   \n",
       "2021-12-30 00:00:57  6.083219e-05      0.573112        5.553618e-02   \n",
       "2021-12-30 00:00:58  2.108419e-04      0.627444        2.294020e-01   \n",
       "2021-12-30 00:00:59 -9.240866e-06      0.623697        2.174109e-01   \n",
       "2021-12-30 00:01:00 -7.951511e-06      0.620264        2.064265e-01   \n",
       "2021-12-30 00:01:01 -9.477829e-05      0.579338        7.546088e-02   \n",
       "2021-12-30 00:01:02 -1.433665e-04      0.523117        0.000000e+00   \n",
       "2021-12-30 00:01:03 -1.986407e-04      0.456961        0.000000e+00   \n",
       "2021-12-30 00:01:04  3.306160e-04      0.557315        2.956843e-01   \n",
       "2021-12-30 00:01:05 -1.691637e-04      0.505805        1.439152e-01   \n",
       "2021-12-30 00:01:06 -9.114963e-05      0.480062        1.355042e-01   \n",
       "2021-12-30 00:01:07 -4.020307e-05      0.468731        6.904054e-02   \n",
       "2021-12-30 00:01:08  7.696488e-05      0.493384        2.136483e-01   \n",
       "2021-12-30 00:01:09  1.816394e-04      0.546837        5.271861e-01   \n",
       "2021-12-30 00:01:10  0.000000e+00      0.546837        5.271861e-01   \n",
       "2021-12-30 00:01:11 -1.812095e-04      0.487344        1.782171e-01   \n",
       "2021-12-30 00:01:12 -4.772611e-05      0.472757        9.473821e-02   \n",
       "2021-12-30 00:01:13  0.000000e+00      0.472757        9.672958e-02   \n",
       "2021-12-30 00:01:14  0.000000e+00      0.472757        1.290785e-01   \n",
       "2021-12-30 00:01:15  1.427416e-04      0.525781        6.857689e-01   \n",
       "2021-12-30 00:01:16  5.115844e-05      0.543502        8.623545e-01   \n",
       "2021-12-30 00:01:17  2.649932e-04      0.622257        1.000000e+00   \n",
       "2021-12-30 00:01:18  8.938982e-05      0.644539        1.000000e+00   \n",
       "2021-12-30 00:01:19 -4.297396e-07      0.644342        9.988807e-01   \n",
       "\n",
       "                     volume_mfi  trend_sma_fast  trend_ema_fast  \n",
       "2021-12-30 00:00:30    0.842264    46488.235000    46486.750796  \n",
       "2021-12-30 00:00:31    0.848999    46490.484167    46487.452212  \n",
       "2021-12-30 00:00:32    0.836165    46491.430000    46488.047256  \n",
       "2021-12-30 00:00:33    0.830981    46492.383333    46488.564601  \n",
       "2021-12-30 00:00:34    0.656490    46493.424167    46489.165432  \n",
       "2021-12-30 00:00:35    0.725291    46493.250833    46489.946135  \n",
       "2021-12-30 00:00:36    0.728409    46493.387500    46491.180576  \n",
       "2021-12-30 00:00:37    0.713506    46493.693333    46492.535872  \n",
       "2021-12-30 00:00:38    0.554178    46493.930000    46493.348814  \n",
       "2021-12-30 00:00:39    0.558277    46494.166667    46494.036689  \n",
       "2021-12-30 00:00:40    0.573407    46494.171667    46494.192583  \n",
       "2021-12-30 00:00:41    0.504087    46494.344167    46493.764493  \n",
       "2021-12-30 00:00:42    0.494861    46494.351667    46493.402264  \n",
       "2021-12-30 00:00:43    0.560144    46494.658333    46493.646531  \n",
       "2021-12-30 00:00:44    0.948366    46496.645833    46496.957834  \n",
       "2021-12-30 00:00:45    0.947940    46498.950000    46500.358167  \n",
       "2021-12-30 00:00:46    0.952651    46501.392500    46503.653834  \n",
       "2021-12-30 00:00:47    0.953128    46504.422500    46507.799398  \n",
       "2021-12-30 00:00:48    0.954537    46507.675833    46512.293337  \n",
       "2021-12-30 00:00:49    0.929657    46510.700000    46515.983592  \n",
       "2021-12-30 00:00:50    0.930359    46513.720000    46518.764578  \n",
       "2021-12-30 00:00:51    0.900478    46516.359167    46520.414643  \n",
       "2021-12-30 00:00:52    0.912500    46520.233333    46523.664698  \n",
       "2021-12-30 00:00:53    0.905582    46522.685000    46523.228591  \n",
       "2021-12-30 00:00:54    0.908626    46525.068333    46522.733423  \n",
       "2021-12-30 00:00:55    0.923824    46527.739167    46523.395973  \n",
       "2021-12-30 00:00:56    0.913521    46528.142500    46522.875054  \n",
       "2021-12-30 00:00:57    0.900903    46528.457500    46522.869661  \n",
       "2021-12-30 00:00:58    0.535671    46529.363333    46524.374329  \n",
       "2021-12-30 00:00:59    0.540214    46529.498333    46525.581355  \n",
       "2021-12-30 00:01:00    0.615953    46529.068333    46526.545762  \n",
       "2021-12-30 00:01:01    0.585723    46528.331667    46526.683337  \n",
       "2021-12-30 00:01:02    0.363952    46527.224167    46525.773593  \n",
       "2021-12-30 00:01:03    0.267342    46525.727500    46523.582271  \n",
       "2021-12-30 00:01:04    0.380351    46524.508333    46524.094229  \n",
       "2021-12-30 00:01:05    0.393649    46524.359167    46523.316656  \n",
       "2021-12-30 00:01:06    0.331690    46523.925000    46522.006401  \n",
       "2021-12-30 00:01:07    0.317325    46522.749167    46520.610031  \n",
       "2021-12-30 00:01:08    0.307909    46522.457500    46519.979257  \n",
       "2021-12-30 00:01:09    0.321564    46522.634167    46520.745525  \n",
       "2021-12-30 00:01:10    0.326482    46521.993333    46521.393906  \n",
       "2021-12-30 00:01:11    0.329529    46520.685833    46520.645613  \n",
       "2021-12-30 00:01:12    0.316109    46519.224167    46519.670903  \n",
       "2021-12-30 00:01:13    0.295088    46518.130000    46518.846149  \n",
       "2021-12-30 00:01:14    0.225753    46517.591667    46518.148280  \n",
       "2021-12-30 00:01:15    0.234947    46518.376667    46518.579314  \n",
       "2021-12-30 00:01:16    0.330815    46518.078333    46519.310189  \n",
       "2021-12-30 00:01:17    0.515046    46519.463333    46521.825544  \n",
       "2021-12-30 00:01:18    0.407172    46521.548333    46524.593922  \n",
       "2021-12-30 00:01:19    0.508318    46523.787500    46526.933319  "
      ]
     },
     "execution_count": 17,
     "metadata": {},
     "output_type": "execute_result"
    }
   ],
   "source": [
    "df.head(50)"
   ]
  },
  {
   "cell_type": "code",
   "execution_count": 18,
   "id": "ed1460c9",
   "metadata": {},
   "outputs": [],
   "source": [
    "dfts = TimeSeries.from_dataframe(df)"
   ]
  },
  {
   "cell_type": "code",
   "execution_count": 19,
   "id": "d8068cf2",
   "metadata": {},
   "outputs": [
    {
     "name": "stderr",
     "output_type": "stream",
     "text": [
      "[2022-02-22 03:30:27,140] WARNING | darts.timeseries | Number of components is larger than 10 (11). Plotting only the first 10 components.\n"
     ]
    },
    {
     "data": {
      "image/png": "[encoded data removed]",
      "text/plain": [
       "<Figure size 432x288 with 1 Axes>"
      ]
     },
     "metadata": {
      "needs_background": "light"
     },
     "output_type": "display_data"
    }
   ],
   "source": [
    "dfts.plot()"
   ]
  },
  {
   "cell_type": "code",
   "execution_count": 20,
   "id": "cc8e4be5",
   "metadata": {},
   "outputs": [
    {
     "data": {
      "image/png": "[encoded data removed]",
      "text/plain": [
       "<Figure size 432x288 with 1 Axes>"
      ]
     },
     "metadata": {
      "needs_background": "light"
     },
     "output_type": "display_data"
    }
   ],
   "source": [
    "dfts['Close'].plot()"
   ]
  },
  {
   "cell_type": "code",
   "execution_count": 21,
   "id": "4712456e",
   "metadata": {},
   "outputs": [
    {
     "data": {
      "text/plain": [
       "Index(['Open', 'High', 'Low', 'Close', 'Volume', 'log_ret', 'momentum_rsi',\n",
       "       'momentum_stoch_rsi', 'volume_mfi', 'trend_sma_fast', 'trend_ema_fast'],\n",
       "      dtype='object', name='component')"
      ]
     },
     "execution_count": 21,
     "metadata": {},
     "output_type": "execute_result"
    }
   ],
   "source": [
    "dfts.columns"
   ]
  },
  {
   "cell_type": "markdown",
   "id": "13b96704",
   "metadata": {},
   "source": [
    "## Processing multiple TS"
   ]
  },
  {
   "cell_type": "code",
   "execution_count": 22,
   "id": "aa6adbfa",
   "metadata": {},
   "outputs": [],
   "source": [
    "# Train set\n",
    "train_df = dfts[:int(0.8*df.shape[0])]"
   ]
  },
  {
   "cell_type": "code",
   "execution_count": 23,
   "id": "735e1967",
   "metadata": {},
   "outputs": [],
   "source": [
    "scaler_target_tr = Scaler()\n",
    "# [0] because singular\n",
    "scaled_target = scaler_target_tr.fit_transform(train_df['Close'])"
   ]
  },
  {
   "cell_type": "code",
   "execution_count": 24,
   "id": "65e77ae8",
   "metadata": {},
   "outputs": [],
   "source": [
    "cov_ts = [train_df['Open'], train_df['High'], train_df['Volume'], \n",
    "               train_df['log_ret'], train_df['trend_sma_fast'], train_df['trend_ema_fast']]\n",
    "# the other indicators are already scaled"
   ]
  },
  {
   "cell_type": "code",
   "execution_count": 25,
   "id": "7bd7b3a4",
   "metadata": {},
   "outputs": [
    {
     "data": {
      "image/png": "[encoded data removed]",
      "text/plain": [
       "<Figure size 432x288 with 1 Axes>"
      ]
     },
     "metadata": {
      "needs_background": "light"
     },
     "output_type": "display_data"
    }
   ],
   "source": [
    "scaler_cov_tr = Scaler()\n",
    "pipeline_train = Pipeline([scaler_cov_tr])\n",
    "transformed_train = pipeline_train.fit_transform(cov_ts)\n",
    "\n",
    "for ts in transformed_train:\n",
    "    ts.plot()"
   ]
  },
  {
   "cell_type": "code",
   "execution_count": 26,
   "id": "679d8c85",
   "metadata": {},
   "outputs": [
    {
     "data": {
      "image/png": "[encoded data removed]",
      "text/plain": [
       "<Figure size 432x288 with 1 Axes>"
      ]
     },
     "metadata": {
      "needs_background": "light"
     },
     "output_type": "display_data"
    }
   ],
   "source": [
    "# back transform (sanity check)\n",
    "back_train = pipeline_train.inverse_transform(transformed_train, partial=True)\n",
    "for ts in back_train:\n",
    "    ts.plot()"
   ]
  },
  {
   "cell_type": "code",
   "execution_count": 27,
   "id": "f9046c66",
   "metadata": {},
   "outputs": [],
   "source": [
    "# Val set\n",
    "val_df = dfts[int(0.8*df.shape[0]):]"
   ]
  },
  {
   "cell_type": "code",
   "execution_count": 28,
   "id": "4f40b47d",
   "metadata": {},
   "outputs": [],
   "source": [
    "scaler_target_val = Scaler()\n",
    "scaled_val_target = scaler_target_val.fit_transform(val_df['Close'])"
   ]
  },
  {
   "cell_type": "code",
   "execution_count": 29,
   "id": "bb397ce5",
   "metadata": {},
   "outputs": [],
   "source": [
    "multiple_ts_val = [val_df['Open'], val_df['High'], val_df['Volume'], \n",
    "               val_df['log_ret'], val_df['trend_sma_fast'], val_df['trend_ema_fast']]\n",
    "# the other indicators are already scaled"
   ]
  },
  {
   "cell_type": "code",
   "execution_count": 30,
   "id": "b7525e1d",
   "metadata": {},
   "outputs": [
    {
     "data": {
      "image/png": "[encoded data removed]",
      "text/plain": [
       "<Figure size 432x288 with 1 Axes>"
      ]
     },
     "metadata": {
      "needs_background": "light"
     },
     "output_type": "display_data"
    }
   ],
   "source": [
    "scaler_cov_val = Scaler()\n",
    "pipeline_val = Pipeline([scaler_cov_val])\n",
    "transformed_val= pipeline_val.fit_transform(multiple_ts_val)\n",
    "\n",
    "for ts in transformed_val:\n",
    "    ts.plot()"
   ]
  },
  {
   "cell_type": "code",
   "execution_count": 31,
   "id": "ed43bbad",
   "metadata": {},
   "outputs": [
    {
     "data": {
      "image/png": "[encoded data removed]",
      "text/plain": [
       "<Figure size 432x288 with 1 Axes>"
      ]
     },
     "metadata": {
      "needs_background": "light"
     },
     "output_type": "display_data"
    }
   ],
   "source": [
    "# back transform (sanity check)\n",
    "back_val = pipeline_val.inverse_transform(transformed_val, partial=True)\n",
    "for ts in back_val:\n",
    "    ts.plot()"
   ]
  },
  {
   "cell_type": "markdown",
   "id": "5b83cf5b",
   "metadata": {},
   "source": [
    "## Model"
   ]
  },
  {
   "cell_type": "code",
   "execution_count": 32,
   "id": "5fcc8a70",
   "metadata": {},
   "outputs": [],
   "source": [
    "model = NBEATSModel(input_chunk_length=60, output_chunk_length=15, random_state=42)"
   ]
  },
  {
   "cell_type": "code",
   "execution_count": 33,
   "id": "67204518",
   "metadata": {},
   "outputs": [],
   "source": [
    "from darts import concatenate"
   ]
  },
  {
   "cell_type": "code",
   "execution_count": 34,
   "id": "b9c1961c",
   "metadata": {},
   "outputs": [],
   "source": [
    "tr_covs = concatenate(transformed_train, axis=\"component\")\n",
    "val_covs = concatenate(transformed_val, axis=\"component\")"
   ]
  },
  {
   "cell_type": "code",
   "execution_count": 35,
   "id": "d2524c74",
   "metadata": {},
   "outputs": [
    {
     "name": "stderr",
     "output_type": "stream",
     "text": [
      "[2022-02-22 03:30:33,240] INFO | darts.models.forecasting.torch_forecasting_model | Train dataset contains 138142 samples.\n",
      "[2022-02-22 03:30:33,240] INFO | darts.models.forecasting.torch_forecasting_model | Train dataset contains 138142 samples.\n",
      "[2022-02-22 03:30:33,299] INFO | darts.models.forecasting.torch_forecasting_model | Time series values are 64-bits; casting model to float64.\n",
      "[2022-02-22 03:30:33,299] INFO | darts.models.forecasting.torch_forecasting_model | Time series values are 64-bits; casting model to float64.\n",
      "[2022-02-22 03:30:33,300] WARNING | darts.models.forecasting.torch_forecasting_model | DeprecationWarning: kwarg `verbose` is deprecated and will be removed in a future Darts version. Instead, control verbosity with PyTorch Lightning Trainer parameters `enable_progress_bar`, `progress_bar_refresh_rate` and `enable_model_summary` in the `pl_trainer_kwargs` dict at model creation.\n",
      "[2022-02-22 03:30:33,300] WARNING | darts.models.forecasting.torch_forecasting_model | DeprecationWarning: kwarg `verbose` is deprecated and will be removed in a future Darts version. Instead, control verbosity with PyTorch Lightning Trainer parameters `enable_progress_bar`, `progress_bar_refresh_rate` and `enable_model_summary` in the `pl_trainer_kwargs` dict at model creation.\n",
      "GPU available: True, used: False\n",
      "TPU available: False, using: 0 TPU cores\n",
      "IPU available: False, using: 0 IPUs\n",
      "\n",
      "  | Name      | Type       | Params\n",
      "-----------------------------------------\n",
      "0 | criterion | MSELoss    | 0     \n",
      "1 | stacks    | ModuleList | 9.3 M \n",
      "-----------------------------------------\n",
      "9.3 M     Trainable params\n",
      "3.8 K     Non-trainable params\n",
      "9.3 M     Total params\n",
      "74.609    Total estimated model params size (MB)\n"
     ]
    },
    {
     "data": {
      "application/vnd.jupyter.widget-view+json": {
       "model_id": "",
       "version_major": 2,
       "version_minor": 0
      },
      "text/plain": [
       "Validation sanity check: 0it [00:00, ?it/s]"
      ]
     },
     "metadata": {},
     "output_type": "display_data"
    },
    {
     "data": {
      "application/vnd.jupyter.widget-view+json": {
       "model_id": "98d58b9dc56d422eabff8c1171823019",
       "version_major": 2,
       "version_minor": 0
      },
      "text/plain": [
       "Training: 0it [00:00, ?it/s]"
      ]
     },
     "metadata": {},
     "output_type": "display_data"
    },
    {
     "data": {
      "application/vnd.jupyter.widget-view+json": {
       "model_id": "",
       "version_major": 2,
       "version_minor": 0
      },
      "text/plain": [
       "Validating: 0it [00:00, ?it/s]"
      ]
     },
     "metadata": {},
     "output_type": "display_data"
    },
    {
     "data": {
      "application/vnd.jupyter.widget-view+json": {
       "model_id": "",
       "version_major": 2,
       "version_minor": 0
      },
      "text/plain": [
       "Validating: 0it [00:00, ?it/s]"
      ]
     },
     "metadata": {},
     "output_type": "display_data"
    },
    {
     "data": {
      "application/vnd.jupyter.widget-view+json": {
       "model_id": "",
       "version_major": 2,
       "version_minor": 0
      },
      "text/plain": [
       "Validating: 0it [00:00, ?it/s]"
      ]
     },
     "metadata": {},
     "output_type": "display_data"
    },
    {
     "data": {
      "application/vnd.jupyter.widget-view+json": {
       "model_id": "",
       "version_major": 2,
       "version_minor": 0
      },
      "text/plain": [
       "Validating: 0it [00:00, ?it/s]"
      ]
     },
     "metadata": {},
     "output_type": "display_data"
    },
    {
     "data": {
      "application/vnd.jupyter.widget-view+json": {
       "model_id": "",
       "version_major": 2,
       "version_minor": 0
      },
      "text/plain": [
       "Validating: 0it [00:00, ?it/s]"
      ]
     },
     "metadata": {},
     "output_type": "display_data"
    },
    {
     "data": {
      "text/plain": [
       "<darts.models.forecasting.nbeats.NBEATSModel at 0x7f72eb4455b0>"
      ]
     },
     "execution_count": 35,
     "metadata": {},
     "output_type": "execute_result"
    }
   ],
   "source": [
    "#series = \n",
    "model.fit(\n",
    "    series=scaled_target, \n",
    "    past_covariates=tr_covs,\n",
    "    val_series=scaled_val_target, \n",
    "    val_past_covariates=val_covs,\n",
    "    epochs=50, \n",
    "    verbose=True)"
   ]
  },
  {
   "cell_type": "code",
   "execution_count": 36,
   "id": "550de44b",
   "metadata": {},
   "outputs": [
    {
     "data": {
      "application/vnd.jupyter.widget-view+json": {
       "model_id": "1e13cbcc619f4b2f85921ab0ecbbe1b2",
       "version_major": 2,
       "version_minor": 0
      },
      "text/plain": [
       "Predicting: 4317it [00:00, ?it/s]"
      ]
     },
     "metadata": {},
     "output_type": "display_data"
    }
   ],
   "source": [
    "# training was for horizon=15, if predict here horizon>15 then need historic_future_covs\n",
    "pred_train = model.predict(series=scaled_target, n=15)"
   ]
  },
  {
   "cell_type": "code",
   "execution_count": 37,
   "id": "512edc3b",
   "metadata": {},
   "outputs": [],
   "source": [
    "# scale back:\n",
    "pred_train_scaled = scaler_target_tr.inverse_transform([pred_train])"
   ]
  },
  {
   "cell_type": "code",
   "execution_count": 41,
   "id": "eb01c2bb",
   "metadata": {},
   "outputs": [
    {
     "data": {
      "image/png": "[encoded data removed]",
      "text/plain": [
       "<Figure size 720x432 with 1 Axes>"
      ]
     },
     "metadata": {
      "needs_background": "light"
     },
     "output_type": "display_data"
    }
   ],
   "source": [
    "plt.figure(figsize=(10, 6))\n",
    "# prev train\n",
    "train_df['Close'][-100:].plot(label=\"past prices\")\n",
    "#actual\n",
    "val_df['Close'][:15].plot(label=\"actual prices\")\n",
    "# pred\n",
    "pred_train_scaled[0].plot(label=\"pred prices\")"
   ]
  },
  {
   "cell_type": "code",
   "execution_count": 46,
   "id": "b37dda04",
   "metadata": {},
   "outputs": [
    {
     "data": {
      "text/plain": [
       "['__abstractmethods__',\n",
       " '__class__',\n",
       " '__delattr__',\n",
       " '__dict__',\n",
       " '__dir__',\n",
       " '__doc__',\n",
       " '__eq__',\n",
       " '__format__',\n",
       " '__ge__',\n",
       " '__getattribute__',\n",
       " '__gt__',\n",
       " '__hash__',\n",
       " '__init__',\n",
       " '__init_subclass__',\n",
       " '__le__',\n",
       " '__lt__',\n",
       " '__module__',\n",
       " '__ne__',\n",
       " '__new__',\n",
       " '__reduce__',\n",
       " '__reduce_ex__',\n",
       " '__repr__',\n",
       " '__setattr__',\n",
       " '__sizeof__',\n",
       " '__slots__',\n",
       " '__str__',\n",
       " '__subclasshook__',\n",
       " '__weakref__',\n",
       " '_abc_impl',\n",
       " '_batch_collate_fn',\n",
       " '_build_forecast_series',\n",
       " '_build_inference_dataset',\n",
       " '_build_train_dataset',\n",
       " '_create_model',\n",
       " '_create_save_dirs',\n",
       " '_expect_future_covariates',\n",
       " '_expect_past_covariates',\n",
       " '_extract_model_creation_params',\n",
       " '_extract_pl_module_params',\n",
       " '_extract_torch_devices',\n",
       " '_extract_torch_model_params',\n",
       " '_fit_called',\n",
       " '_fit_wrapper',\n",
       " '_generate_new_dates',\n",
       " '_get_last_prediction_time',\n",
       " '_historical_forecasts_sanity_checks',\n",
       " '_init_model',\n",
       " '_init_trainer',\n",
       " '_is_probabilistic',\n",
       " '_model_encoder_settings',\n",
       " '_model_params',\n",
       " '_predict_wrapper',\n",
       " '_random_instance',\n",
       " '_remove_save_dirs',\n",
       " '_sample_params',\n",
       " '_setup_trainer',\n",
       " '_supports_non_retrainable_historical_forecasts',\n",
       " '_supports_range_index',\n",
       " '_train',\n",
       " '_validate_model_params',\n",
       " '_verify_inference_dataset_type',\n",
       " '_verify_past_future_covariates',\n",
       " '_verify_predict_sample',\n",
       " '_verify_train_dataset_type',\n",
       " 'add_encoders',\n",
       " 'backtest',\n",
       " 'batch_size',\n",
       " 'encoders',\n",
       " 'epochs_trained',\n",
       " 'expansion_coefficient_dim',\n",
       " 'first_prediction_index',\n",
       " 'fit',\n",
       " 'fit_from_dataset',\n",
       " 'future_covariate_series',\n",
       " 'generic_architecture',\n",
       " 'gridsearch',\n",
       " 'historical_forecasts',\n",
       " 'initialize_encoders',\n",
       " 'input_chunk_length',\n",
       " 'layer_widths',\n",
       " 'likelihood',\n",
       " 'load_ckpt_path',\n",
       " 'load_from_checkpoint',\n",
       " 'load_model',\n",
       " 'min_train_series_length',\n",
       " 'model',\n",
       " 'model_created',\n",
       " 'model_name',\n",
       " 'model_params',\n",
       " 'n_epochs',\n",
       " 'num_blocks',\n",
       " 'num_layers',\n",
       " 'num_stacks',\n",
       " 'output_chunk_length',\n",
       " 'output_dim',\n",
       " 'past_covariate_series',\n",
       " 'pl_module_params',\n",
       " 'predict',\n",
       " 'predict_from_dataset',\n",
       " 'reset_model',\n",
       " 'residuals',\n",
       " 'save_checkpoints',\n",
       " 'save_model',\n",
       " 'train_sample',\n",
       " 'trainer',\n",
       " 'trainer_params',\n",
       " 'training_series',\n",
       " 'trend_polynomial_degree',\n",
       " 'untrained_model',\n",
       " 'uses_future_covariates',\n",
       " 'uses_past_covariates',\n",
       " 'work_dir']"
      ]
     },
     "execution_count": 46,
     "metadata": {},
     "output_type": "execute_result"
    }
   ],
   "source": [
    "dir(model)"
   ]
  },
  {
   "cell_type": "code",
   "execution_count": 49,
   "id": "668d7e35",
   "metadata": {},
   "outputs": [],
   "source": [
    "model.save_model(\"overnight.pth.tar\")"
   ]
  },
  {
   "cell_type": "markdown",
   "id": "6ae715df",
   "metadata": {},
   "source": [
    "## Historical Forecast"
   ]
  },
  {
   "cell_type": "code",
   "execution_count": 42,
   "id": "f4afd63c",
   "metadata": {
    "scrolled": true
   },
   "outputs": [
    {
     "data": {
      "application/vnd.jupyter.widget-view+json": {
       "model_id": "4673b86a46834b15ab83978e9cb65835",
       "version_major": 2,
       "version_minor": 0
      },
      "text/plain": [
       "  0%|          | 0/1382 [00:00<?, ?it/s]"
      ]
     },
     "metadata": {},
     "output_type": "display_data"
    },
    {
     "data": {
      "application/vnd.jupyter.widget-view+json": {
       "model_id": "c782d67a3d87465ea56bc98786b59619",
       "version_major": 2,
       "version_minor": 0
      },
      "text/plain": [
       "Predicting: 4317it [00:00, ?it/s]"
      ]
     },
     "metadata": {},
     "output_type": "display_data"
    },
    {
     "data": {
      "application/vnd.jupyter.widget-view+json": {
       "model_id": "8a719a756b174c6b8b1663b1418d7c85",
       "version_major": 2,
       "version_minor": 0
      },
      "text/plain": [
       "Predicting: 4317it [00:00, ?it/s]"
      ]
     },
     "metadata": {},
     "output_type": "display_data"
    },
    {
     "data": {
      "application/vnd.jupyter.widget-view+json": {
       "model_id": "ac3802c233ab488e8e7150e90ea711e3",
       "version_major": 2,
       "version_minor": 0
      },
      "text/plain": [
       "Predicting: 4317it [00:00, ?it/s]"
      ]
     },
     "metadata": {},
     "output_type": "display_data"
    },
    {
     "data": {
      "application/vnd.jupyter.widget-view+json": {
       "model_id": "2b3b6aa090964c7a994552be09fe3bfb",
       "version_major": 2,
       "version_minor": 0
      },
      "text/plain": [
       "Predicting: 4317it [00:00, ?it/s]"
      ]
     },
     "metadata": {},
     "output_type": "display_data"
    },
    {
     "data": {
      "application/vnd.jupyter.widget-view+json": {
       "model_id": "6be1f90ce8964bdfb5ce37663cf74412",
       "version_major": 2,
       "version_minor": 0
      },
      "text/plain": [
       "Predicting: 4317it [00:00, ?it/s]"
      ]
     },
     "metadata": {},
     "output_type": "display_data"
    },
    {
     "data": {
      "application/vnd.jupyter.widget-view+json": {
       "model_id": "8441272cda364f51b8fb1b880dae63ab",
       "version_major": 2,
       "version_minor": 0
      },
      "text/plain": [
       "Predicting: 4317it [00:00, ?it/s]"
      ]
     },
     "metadata": {},
     "output_type": "display_data"
    },
    {
     "data": {
      "application/vnd.jupyter.widget-view+json": {
       "model_id": "2ed36e7dc07445fbbd88f7b0f9857a38",
       "version_major": 2,
       "version_minor": 0
      },
      "text/plain": [
       "Predicting: 4317it [00:00, ?it/s]"
      ]
     },
     "metadata": {},
     "output_type": "display_data"
    },
    {
     "data": {
      "application/vnd.jupyter.widget-view+json": {
       "model_id": "78b5ac7bfa394275892dbf0f543cd6bd",
       "version_major": 2,
       "version_minor": 0
      },
      "text/plain": [
       "Predicting: 4317it [00:00, ?it/s]"
      ]
     },
     "metadata": {},
     "output_type": "display_data"
    },
    {
     "data": {
      "application/vnd.jupyter.widget-view+json": {
       "model_id": "afc8b0a7fb4c400c945628fc713088f4",
       "version_major": 2,
       "version_minor": 0
      },
      "text/plain": [
       "Predicting: 4317it [00:00, ?it/s]"
      ]
     },
     "metadata": {},
     "output_type": "display_data"
    },
    {
     "data": {
      "application/vnd.jupyter.widget-view+json": {
       "model_id": "52aa937ddb18429796a2988f4e9fe48b",
       "version_major": 2,
       "version_minor": 0
      },
      "text/plain": [
       "Predicting: 4317it [00:00, ?it/s]"
      ]
     },
     "metadata": {},
     "output_type": "display_data"
    },
    {
     "data": {
      "application/vnd.jupyter.widget-view+json": {
       "model_id": "87f397f3f6bc43c08a44335f644ef007",
       "version_major": 2,
       "version_minor": 0
      },
      "text/plain": [
       "Predicting: 4317it [00:00, ?it/s]"
      ]
     },
     "metadata": {},
     "output_type": "display_data"
    },
    {
     "data": {
      "application/vnd.jupyter.widget-view+json": {
       "model_id": "6489634eb2f24aa290509b7a05fd9901",
       "version_major": 2,
       "version_minor": 0
      },
      "text/plain": [
       "Predicting: 4317it [00:00, ?it/s]"
      ]
     },
     "metadata": {},
     "output_type": "display_data"
    },
    {
     "data": {
      "application/vnd.jupyter.widget-view+json": {
       "model_id": "316b2aa4756e4e148b4a332df34f7e75",
       "version_major": 2,
       "version_minor": 0
      },
      "text/plain": [
       "Predicting: 4317it [00:00, ?it/s]"
      ]
     },
     "metadata": {},
     "output_type": "display_data"
    },
    {
     "data": {
      "application/vnd.jupyter.widget-view+json": {
       "model_id": "1b9b177a749b44459c0321810d10c2eb",
       "version_major": 2,
       "version_minor": 0
      },
      "text/plain": [
       "Predicting: 4317it [00:00, ?it/s]"
      ]
     },
     "metadata": {},
     "output_type": "display_data"
    },
    {
     "data": {
      "application/vnd.jupyter.widget-view+json": {
       "model_id": "9fec40db8a924a9987a4cb3b80d8941e",
       "version_major": 2,
       "version_minor": 0
      },
      "text/plain": [
       "Predicting: 4317it [00:00, ?it/s]"
      ]
     },
     "metadata": {},
     "output_type": "display_data"
    },
    {
     "data": {
      "application/vnd.jupyter.widget-view+json": {
       "model_id": "9cf1a220238c4f5eb06e3e019caa06a2",
       "version_major": 2,
       "version_minor": 0
      },
      "text/plain": [
       "Predicting: 4317it [00:00, ?it/s]"
      ]
     },
     "metadata": {},
     "output_type": "display_data"
    },
    {
     "data": {
      "application/vnd.jupyter.widget-view+json": {
       "model_id": "c82c8bfecc4247f089648a8ba5c05bad",
       "version_major": 2,
       "version_minor": 0
      },
      "text/plain": [
       "Predicting: 4317it [00:00, ?it/s]"
      ]
     },
     "metadata": {},
     "output_type": "display_data"
    },
    {
     "data": {
      "application/vnd.jupyter.widget-view+json": {
       "model_id": "851fb7eda1784223bbc4ed7859bb8674",
       "version_major": 2,
       "version_minor": 0
      },
      "text/plain": [
       "Predicting: 4317it [00:00, ?it/s]"
      ]
     },
     "metadata": {},
     "output_type": "display_data"
    },
    {
     "data": {
      "application/vnd.jupyter.widget-view+json": {
       "model_id": "5764ec9a3d1a434d8f94e91737fc338c",
       "version_major": 2,
       "version_minor": 0
      },
      "text/plain": [
       "Predicting: 4317it [00:00, ?it/s]"
      ]
     },
     "metadata": {},
     "output_type": "display_data"
    },
    {
     "data": {
      "application/vnd.jupyter.widget-view+json": {
       "model_id": "d62653a9d1eb4a399f6c3eda3c2e2005",
       "version_major": 2,
       "version_minor": 0
      },
      "text/plain": [
       "Predicting: 4317it [00:00, ?it/s]"
      ]
     },
     "metadata": {},
     "output_type": "display_data"
    },
    {
     "data": {
      "application/vnd.jupyter.widget-view+json": {
       "model_id": "4a19ba889b824730a54338399619fb49",
       "version_major": 2,
       "version_minor": 0
      },
      "text/plain": [
       "Predicting: 4317it [00:00, ?it/s]"
      ]
     },
     "metadata": {},
     "output_type": "display_data"
    },
    {
     "data": {
      "application/vnd.jupyter.widget-view+json": {
       "model_id": "63e2a25b43a04a9597a7cdbc1e0cd467",
       "version_major": 2,
       "version_minor": 0
      },
      "text/plain": [
       "Predicting: 4317it [00:00, ?it/s]"
      ]
     },
     "metadata": {},
     "output_type": "display_data"
    },
    {
     "data": {
      "application/vnd.jupyter.widget-view+json": {
       "model_id": "1d48bd4e0d46422ab19f9584a968d86a",
       "version_major": 2,
       "version_minor": 0
      },
      "text/plain": [
       "Predicting: 4317it [00:00, ?it/s]"
      ]
     },
     "metadata": {},
     "output_type": "display_data"
    },
    {
     "data": {
      "application/vnd.jupyter.widget-view+json": {
       "model_id": "099baeac825e42aba8fa22b6fad8f4cc",
       "version_major": 2,
       "version_minor": 0
      },
      "text/plain": [
       "Predicting: 4317it [00:00, ?it/s]"
      ]
     },
     "metadata": {},
     "output_type": "display_data"
    },
    {
     "data": {
      "application/vnd.jupyter.widget-view+json": {
       "model_id": "82fbd1526d31435a9a3553191f4e48d1",
       "version_major": 2,
       "version_minor": 0
      },
      "text/plain": [
       "Predicting: 4317it [00:00, ?it/s]"
      ]
     },
     "metadata": {},
     "output_type": "display_data"
    },
    {
     "data": {
      "application/vnd.jupyter.widget-view+json": {
       "model_id": "9802fc6f90c34d049a4f301ec0bcda1d",
       "version_major": 2,
       "version_minor": 0
      },
      "text/plain": [
       "Predicting: 4317it [00:00, ?it/s]"
      ]
     },
     "metadata": {},
     "output_type": "display_data"
    },
    {
     "data": {
      "application/vnd.jupyter.widget-view+json": {
       "model_id": "e120691903244f3a9a1f95069a8e92e2",
       "version_major": 2,
       "version_minor": 0
      },
      "text/plain": [
       "Predicting: 4317it [00:00, ?it/s]"
      ]
     },
     "metadata": {},
     "output_type": "display_data"
    },
    {
     "data": {
      "application/vnd.jupyter.widget-view+json": {
       "model_id": "51adf07102864c319bb8fc6d3b4e4ab4",
       "version_major": 2,
       "version_minor": 0
      },
      "text/plain": [
       "Predicting: 4317it [00:00, ?it/s]"
      ]
     },
     "metadata": {},
     "output_type": "display_data"
    },
    {
     "data": {
      "application/vnd.jupyter.widget-view+json": {
       "model_id": "8c34b5287f684bd58cc87ba20ffad128",
       "version_major": 2,
       "version_minor": 0
      },
      "text/plain": [
       "Predicting: 4317it [00:00, ?it/s]"
      ]
     },
     "metadata": {},
     "output_type": "display_data"
    },
    {
     "data": {
      "application/vnd.jupyter.widget-view+json": {
       "model_id": "3727daec5661429fb893c3a62d666c2a",
       "version_major": 2,
       "version_minor": 0
      },
      "text/plain": [
       "Predicting: 4317it [00:00, ?it/s]"
      ]
     },
     "metadata": {},
     "output_type": "display_data"
    },
    {
     "data": {
      "application/vnd.jupyter.widget-view+json": {
       "model_id": "6abf3141b40443aaa118364790f71379",
       "version_major": 2,
       "version_minor": 0
      },
      "text/plain": [
       "Predicting: 4317it [00:00, ?it/s]"
      ]
     },
     "metadata": {},
     "output_type": "display_data"
    },
    {
     "data": {
      "application/vnd.jupyter.widget-view+json": {
       "model_id": "b25466f32a65444fa9789ab19b058b56",
       "version_major": 2,
       "version_minor": 0
      },
      "text/plain": [
       "Predicting: 4317it [00:00, ?it/s]"
      ]
     },
     "metadata": {},
     "output_type": "display_data"
    },
    {
     "data": {
      "application/vnd.jupyter.widget-view+json": {
       "model_id": "8e9c2a7a58ec41f49adabd27f83cc2a0",
       "version_major": 2,
       "version_minor": 0
      },
      "text/plain": [
       "Predicting: 4317it [00:00, ?it/s]"
      ]
     },
     "metadata": {},
     "output_type": "display_data"
    },
    {
     "data": {
      "application/vnd.jupyter.widget-view+json": {
       "model_id": "84a6e6f836e94cddb29900ed5f1e79e3",
       "version_major": 2,
       "version_minor": 0
      },
      "text/plain": [
       "Predicting: 4317it [00:00, ?it/s]"
      ]
     },
     "metadata": {},
     "output_type": "display_data"
    },
    {
     "data": {
      "application/vnd.jupyter.widget-view+json": {
       "model_id": "961fdfc1629b4150be6060ba9a249ea9",
       "version_major": 2,
       "version_minor": 0
      },
      "text/plain": [
       "Predicting: 4317it [00:00, ?it/s]"
      ]
     },
     "metadata": {},
     "output_type": "display_data"
    },
    {
     "data": {
      "application/vnd.jupyter.widget-view+json": {
       "model_id": "4e9d8156da094bc88ea8d1ff27b6f5bd",
       "version_major": 2,
       "version_minor": 0
      },
      "text/plain": [
       "Predicting: 4317it [00:00, ?it/s]"
      ]
     },
     "metadata": {},
     "output_type": "display_data"
    },
    {
     "data": {
      "application/vnd.jupyter.widget-view+json": {
       "model_id": "140de980af3a402f9242bda4489d89f0",
       "version_major": 2,
       "version_minor": 0
      },
      "text/plain": [
       "Predicting: 4317it [00:00, ?it/s]"
      ]
     },
     "metadata": {},
     "output_type": "display_data"
    },
    {
     "data": {
      "application/vnd.jupyter.widget-view+json": {
       "model_id": "cd08d82df79a4d548f6d070135bb48e5",
       "version_major": 2,
       "version_minor": 0
      },
      "text/plain": [
       "Predicting: 4317it [00:00, ?it/s]"
      ]
     },
     "metadata": {},
     "output_type": "display_data"
    },
    {
     "data": {
      "application/vnd.jupyter.widget-view+json": {
       "model_id": "b0c9ef7977c84c44b43756f860cd3b04",
       "version_major": 2,
       "version_minor": 0
      },
      "text/plain": [
       "Predicting: 4317it [00:00, ?it/s]"
      ]
     },
     "metadata": {},
     "output_type": "display_data"
    },
    {
     "data": {
      "application/vnd.jupyter.widget-view+json": {
       "model_id": "6a7e4a1e146a4a20b40bb4ea2f7f3bf7",
       "version_major": 2,
       "version_minor": 0
      },
      "text/plain": [
       "Predicting: 4317it [00:00, ?it/s]"
      ]
     },
     "metadata": {},
     "output_type": "display_data"
    },
    {
     "data": {
      "application/vnd.jupyter.widget-view+json": {
       "model_id": "d922e503e3ba482baf72bacddb2e8cbc",
       "version_major": 2,
       "version_minor": 0
      },
      "text/plain": [
       "Predicting: 4317it [00:00, ?it/s]"
      ]
     },
     "metadata": {},
     "output_type": "display_data"
    },
    {
     "data": {
      "application/vnd.jupyter.widget-view+json": {
       "model_id": "def33b05c6ab438283e66ff7f784be47",
       "version_major": 2,
       "version_minor": 0
      },
      "text/plain": [
       "Predicting: 4317it [00:00, ?it/s]"
      ]
     },
     "metadata": {},
     "output_type": "display_data"
    },
    {
     "data": {
      "application/vnd.jupyter.widget-view+json": {
       "model_id": "130daa3b346e45f0bb0632a69c6ea225",
       "version_major": 2,
       "version_minor": 0
      },
      "text/plain": [
       "Predicting: 4317it [00:00, ?it/s]"
      ]
     },
     "metadata": {},
     "output_type": "display_data"
    },
    {
     "data": {
      "application/vnd.jupyter.widget-view+json": {
       "model_id": "407d905718a246668f3dd37940f6d1d3",
       "version_major": 2,
       "version_minor": 0
      },
      "text/plain": [
       "Predicting: 4317it [00:00, ?it/s]"
      ]
     },
     "metadata": {},
     "output_type": "display_data"
    },
    {
     "data": {
      "application/vnd.jupyter.widget-view+json": {
       "model_id": "23bb439d4ffe45c99671550dc53bac10",
       "version_major": 2,
       "version_minor": 0
      },
      "text/plain": [
       "Predicting: 4317it [00:00, ?it/s]"
      ]
     },
     "metadata": {},
     "output_type": "display_data"
    },
    {
     "data": {
      "application/vnd.jupyter.widget-view+json": {
       "model_id": "1df92581dc7f4935a6f3b8d9e6049fc8",
       "version_major": 2,
       "version_minor": 0
      },
      "text/plain": [
       "Predicting: 4317it [00:00, ?it/s]"
      ]
     },
     "metadata": {},
     "output_type": "display_data"
    },
    {
     "data": {
      "application/vnd.jupyter.widget-view+json": {
       "model_id": "2d395f34de0b453fb2047f72a62e1343",
       "version_major": 2,
       "version_minor": 0
      },
      "text/plain": [
       "Predicting: 4317it [00:00, ?it/s]"
      ]
     },
     "metadata": {},
     "output_type": "display_data"
    },
    {
     "data": {
      "application/vnd.jupyter.widget-view+json": {
       "model_id": "a546b79a42fb449c85a51a2ebc339937",
       "version_major": 2,
       "version_minor": 0
      },
      "text/plain": [
       "Predicting: 4317it [00:00, ?it/s]"
      ]
     },
     "metadata": {},
     "output_type": "display_data"
    },
    {
     "data": {
      "application/vnd.jupyter.widget-view+json": {
       "model_id": "27e9eaf579c94b59b0428afbe575f639",
       "version_major": 2,
       "version_minor": 0
      },
      "text/plain": [
       "Predicting: 4317it [00:00, ?it/s]"
      ]
     },
     "metadata": {},
     "output_type": "display_data"
    },
    {
     "data": {
      "application/vnd.jupyter.widget-view+json": {
       "model_id": "70c8fdcda04b4d378c506e6b2fa156e4",
       "version_major": 2,
       "version_minor": 0
      },
      "text/plain": [
       "Predicting: 4317it [00:00, ?it/s]"
      ]
     },
     "metadata": {},
     "output_type": "display_data"
    },
    {
     "data": {
      "application/vnd.jupyter.widget-view+json": {
       "model_id": "e18e9e8cb6034f44b5a8c74c2791f476",
       "version_major": 2,
       "version_minor": 0
      },
      "text/plain": [
       "Predicting: 4317it [00:00, ?it/s]"
      ]
     },
     "metadata": {},
     "output_type": "display_data"
    },
    {
     "data": {
      "application/vnd.jupyter.widget-view+json": {
       "model_id": "d15f4abdcc18489ebd60d9815530c7e4",
       "version_major": 2,
       "version_minor": 0
      },
      "text/plain": [
       "Predicting: 4317it [00:00, ?it/s]"
      ]
     },
     "metadata": {},
     "output_type": "display_data"
    },
    {
     "data": {
      "application/vnd.jupyter.widget-view+json": {
       "model_id": "7a2c024b1b2a41e098f4b3972a443066",
       "version_major": 2,
       "version_minor": 0
      },
      "text/plain": [
       "Predicting: 4317it [00:00, ?it/s]"
      ]
     },
     "metadata": {},
     "output_type": "display_data"
    },
    {
     "data": {
      "application/vnd.jupyter.widget-view+json": {
       "model_id": "41a85aa0aa3d490f952ec8367cff5001",
       "version_major": 2,
       "version_minor": 0
      },
      "text/plain": [
       "Predicting: 4317it [00:00, ?it/s]"
      ]
     },
     "metadata": {},
     "output_type": "display_data"
    },
    {
     "data": {
      "application/vnd.jupyter.widget-view+json": {
       "model_id": "4abb19feb9904abbb3d3430c2f90cfb0",
       "version_major": 2,
       "version_minor": 0
      },
      "text/plain": [
       "Predicting: 4317it [00:00, ?it/s]"
      ]
     },
     "metadata": {},
     "output_type": "display_data"
    },
    {
     "data": {
      "application/vnd.jupyter.widget-view+json": {
       "model_id": "4e322c80f2494be09a93413494f28614",
       "version_major": 2,
       "version_minor": 0
      },
      "text/plain": [
       "Predicting: 4317it [00:00, ?it/s]"
      ]
     },
     "metadata": {},
     "output_type": "display_data"
    },
    {
     "data": {
      "application/vnd.jupyter.widget-view+json": {
       "model_id": "6d0c17a6dcd341088ace146ace8a3777",
       "version_major": 2,
       "version_minor": 0
      },
      "text/plain": [
       "Predicting: 4317it [00:00, ?it/s]"
      ]
     },
     "metadata": {},
     "output_type": "display_data"
    },
    {
     "data": {
      "application/vnd.jupyter.widget-view+json": {
       "model_id": "9bf21069818d4821a1ca31c15415c98a",
       "version_major": 2,
       "version_minor": 0
      },
      "text/plain": [
       "Predicting: 4317it [00:00, ?it/s]"
      ]
     },
     "metadata": {},
     "output_type": "display_data"
    },
    {
     "data": {
      "application/vnd.jupyter.widget-view+json": {
       "model_id": "d36defc1e30a49fe95a8b58e9066ed86",
       "version_major": 2,
       "version_minor": 0
      },
      "text/plain": [
       "Predicting: 4317it [00:00, ?it/s]"
      ]
     },
     "metadata": {},
     "output_type": "display_data"
    },
    {
     "data": {
      "application/vnd.jupyter.widget-view+json": {
       "model_id": "52f314123d024fc69d92729d127374c9",
       "version_major": 2,
       "version_minor": 0
      },
      "text/plain": [
       "Predicting: 4317it [00:00, ?it/s]"
      ]
     },
     "metadata": {},
     "output_type": "display_data"
    },
    {
     "data": {
      "application/vnd.jupyter.widget-view+json": {
       "model_id": "2226b1cffb0c4750a5f2c32fa47a906d",
       "version_major": 2,
       "version_minor": 0
      },
      "text/plain": [
       "Predicting: 4317it [00:00, ?it/s]"
      ]
     },
     "metadata": {},
     "output_type": "display_data"
    },
    {
     "data": {
      "application/vnd.jupyter.widget-view+json": {
       "model_id": "cfc095d16f764ad38fc69a8a52de28f9",
       "version_major": 2,
       "version_minor": 0
      },
      "text/plain": [
       "Predicting: 4317it [00:00, ?it/s]"
      ]
     },
     "metadata": {},
     "output_type": "display_data"
    },
    {
     "data": {
      "application/vnd.jupyter.widget-view+json": {
       "model_id": "3da3d034aca0404fad9cc92c0b2946d3",
       "version_major": 2,
       "version_minor": 0
      },
      "text/plain": [
       "Predicting: 4317it [00:00, ?it/s]"
      ]
     },
     "metadata": {},
     "output_type": "display_data"
    },
    {
     "data": {
      "application/vnd.jupyter.widget-view+json": {
       "model_id": "9d240e2ae336445c9c8d2bdeecd2ca41",
       "version_major": 2,
       "version_minor": 0
      },
      "text/plain": [
       "Predicting: 4317it [00:00, ?it/s]"
      ]
     },
     "metadata": {},
     "output_type": "display_data"
    },
    {
     "data": {
      "application/vnd.jupyter.widget-view+json": {
       "model_id": "373b043fc719494f9efba8d5212b0007",
       "version_major": 2,
       "version_minor": 0
      },
      "text/plain": [
       "Predicting: 4317it [00:00, ?it/s]"
      ]
     },
     "metadata": {},
     "output_type": "display_data"
    },
    {
     "data": {
      "application/vnd.jupyter.widget-view+json": {
       "model_id": "fc58b9e5b5764d2382cee9624be03ea5",
       "version_major": 2,
       "version_minor": 0
      },
      "text/plain": [
       "Predicting: 4317it [00:00, ?it/s]"
      ]
     },
     "metadata": {},
     "output_type": "display_data"
    },
    {
     "data": {
      "application/vnd.jupyter.widget-view+json": {
       "model_id": "1bf4abebc5604dae9219a69d6ec7872d",
       "version_major": 2,
       "version_minor": 0
      },
      "text/plain": [
       "Predicting: 4317it [00:00, ?it/s]"
      ]
     },
     "metadata": {},
     "output_type": "display_data"
    },
    {
     "data": {
      "application/vnd.jupyter.widget-view+json": {
       "model_id": "75dd5a03ff674aa4af60f94f7fe2f7a4",
       "version_major": 2,
       "version_minor": 0
      },
      "text/plain": [
       "Predicting: 4317it [00:00, ?it/s]"
      ]
     },
     "metadata": {},
     "output_type": "display_data"
    },
    {
     "data": {
      "application/vnd.jupyter.widget-view+json": {
       "model_id": "6ba4b0a9f99b4c8ba946f0fdfe199b1b",
       "version_major": 2,
       "version_minor": 0
      },
      "text/plain": [
       "Predicting: 4317it [00:00, ?it/s]"
      ]
     },
     "metadata": {},
     "output_type": "display_data"
    },
    {
     "data": {
      "application/vnd.jupyter.widget-view+json": {
       "model_id": "17d64124e2ae4375afe17db994eabfda",
       "version_major": 2,
       "version_minor": 0
      },
      "text/plain": [
       "Predicting: 4317it [00:00, ?it/s]"
      ]
     },
     "metadata": {},
     "output_type": "display_data"
    },
    {
     "data": {
      "application/vnd.jupyter.widget-view+json": {
       "model_id": "6f86b3282c5749f39f3f57600c61a0ed",
       "version_major": 2,
       "version_minor": 0
      },
      "text/plain": [
       "Predicting: 4317it [00:00, ?it/s]"
      ]
     },
     "metadata": {},
     "output_type": "display_data"
    },
    {
     "data": {
      "application/vnd.jupyter.widget-view+json": {
       "model_id": "71fa0620960043169f2a1579fbc05479",
       "version_major": 2,
       "version_minor": 0
      },
      "text/plain": [
       "Predicting: 4317it [00:00, ?it/s]"
      ]
     },
     "metadata": {},
     "output_type": "display_data"
    },
    {
     "data": {
      "application/vnd.jupyter.widget-view+json": {
       "model_id": "7d50fb2038fe4b6d80b18c09e7d8f204",
       "version_major": 2,
       "version_minor": 0
      },
      "text/plain": [
       "Predicting: 4317it [00:00, ?it/s]"
      ]
     },
     "metadata": {},
     "output_type": "display_data"
    },
    {
     "data": {
      "application/vnd.jupyter.widget-view+json": {
       "model_id": "e1a093eae0d944be8dca99e83b6774db",
       "version_major": 2,
       "version_minor": 0
      },
      "text/plain": [
       "Predicting: 4317it [00:00, ?it/s]"
      ]
     },
     "metadata": {},
     "output_type": "display_data"
    },
    {
     "data": {
      "application/vnd.jupyter.widget-view+json": {
       "model_id": "f9a9910378784182a2444ee3dc777a54",
       "version_major": 2,
       "version_minor": 0
      },
      "text/plain": [
       "Predicting: 4317it [00:00, ?it/s]"
      ]
     },
     "metadata": {},
     "output_type": "display_data"
    },
    {
     "data": {
      "application/vnd.jupyter.widget-view+json": {
       "model_id": "44346132ad2c412ebd63cceaf02948fa",
       "version_major": 2,
       "version_minor": 0
      },
      "text/plain": [
       "Predicting: 4317it [00:00, ?it/s]"
      ]
     },
     "metadata": {},
     "output_type": "display_data"
    },
    {
     "data": {
      "application/vnd.jupyter.widget-view+json": {
       "model_id": "51bde2fb07df497fbc8c30c3eb74b714",
       "version_major": 2,
       "version_minor": 0
      },
      "text/plain": [
       "Predicting: 4317it [00:00, ?it/s]"
      ]
     },
     "metadata": {},
     "output_type": "display_data"
    },
    {
     "data": {
      "application/vnd.jupyter.widget-view+json": {
       "model_id": "6dc2dba80861489f9ea9b4a8218d621a",
       "version_major": 2,
       "version_minor": 0
      },
      "text/plain": [
       "Predicting: 4317it [00:00, ?it/s]"
      ]
     },
     "metadata": {},
     "output_type": "display_data"
    },
    {
     "data": {
      "application/vnd.jupyter.widget-view+json": {
       "model_id": "88c063dffb7d463e8b0eb161e60fad10",
       "version_major": 2,
       "version_minor": 0
      },
      "text/plain": [
       "Predicting: 4317it [00:00, ?it/s]"
      ]
     },
     "metadata": {},
     "output_type": "display_data"
    },
    {
     "data": {
      "application/vnd.jupyter.widget-view+json": {
       "model_id": "a65609215bf14bd0a390816d5bf1b532",
       "version_major": 2,
       "version_minor": 0
      },
      "text/plain": [
       "Predicting: 4317it [00:00, ?it/s]"
      ]
     },
     "metadata": {},
     "output_type": "display_data"
    },
    {
     "data": {
      "application/vnd.jupyter.widget-view+json": {
       "model_id": "5735f66e9dab475c96f8a7c44b04f58a",
       "version_major": 2,
       "version_minor": 0
      },
      "text/plain": [
       "Predicting: 4317it [00:00, ?it/s]"
      ]
     },
     "metadata": {},
     "output_type": "display_data"
    },
    {
     "data": {
      "application/vnd.jupyter.widget-view+json": {
       "model_id": "b893c94668a743d4a882c0db24a3dce7",
       "version_major": 2,
       "version_minor": 0
      },
      "text/plain": [
       "Predicting: 4317it [00:00, ?it/s]"
      ]
     },
     "metadata": {},
     "output_type": "display_data"
    },
    {
     "data": {
      "application/vnd.jupyter.widget-view+json": {
       "model_id": "23b9224b989e4f32b56b2829b9fe2b3c",
       "version_major": 2,
       "version_minor": 0
      },
      "text/plain": [
       "Predicting: 4317it [00:00, ?it/s]"
      ]
     },
     "metadata": {},
     "output_type": "display_data"
    },
    {
     "data": {
      "application/vnd.jupyter.widget-view+json": {
       "model_id": "ff8bfc84f3974679a461b2b072db7681",
       "version_major": 2,
       "version_minor": 0
      },
      "text/plain": [
       "Predicting: 4317it [00:00, ?it/s]"
      ]
     },
     "metadata": {},
     "output_type": "display_data"
    },
    {
     "data": {
      "application/vnd.jupyter.widget-view+json": {
       "model_id": "74dccd9215ad45cbba763e3daa3a307e",
       "version_major": 2,
       "version_minor": 0
      },
      "text/plain": [
       "Predicting: 4317it [00:00, ?it/s]"
      ]
     },
     "metadata": {},
     "output_type": "display_data"
    },
    {
     "data": {
      "application/vnd.jupyter.widget-view+json": {
       "model_id": "d56024e86dc946358299b4917fb4c0f2",
       "version_major": 2,
       "version_minor": 0
      },
      "text/plain": [
       "Predicting: 4317it [00:00, ?it/s]"
      ]
     },
     "metadata": {},
     "output_type": "display_data"
    },
    {
     "data": {
      "application/vnd.jupyter.widget-view+json": {
       "model_id": "15bd2bc27fc74df3bed4d0187a8b4a18",
       "version_major": 2,
       "version_minor": 0
      },
      "text/plain": [
       "Predicting: 4317it [00:00, ?it/s]"
      ]
     },
     "metadata": {},
     "output_type": "display_data"
    },
    {
     "data": {
      "application/vnd.jupyter.widget-view+json": {
       "model_id": "9c4f4e3b26c3413c92d99b2227dc9084",
       "version_major": 2,
       "version_minor": 0
      },
      "text/plain": [
       "Predicting: 4317it [00:00, ?it/s]"
      ]
     },
     "metadata": {},
     "output_type": "display_data"
    },
    {
     "data": {
      "application/vnd.jupyter.widget-view+json": {
       "model_id": "ddc2433b53944bc39bbd89916c9b2a5d",
       "version_major": 2,
       "version_minor": 0
      },
      "text/plain": [
       "Predicting: 4317it [00:00, ?it/s]"
      ]
     },
     "metadata": {},
     "output_type": "display_data"
    },
    {
     "data": {
      "application/vnd.jupyter.widget-view+json": {
       "model_id": "14a1b8955066499492d250b7362d16fa",
       "version_major": 2,
       "version_minor": 0
      },
      "text/plain": [
       "Predicting: 4317it [00:00, ?it/s]"
      ]
     },
     "metadata": {},
     "output_type": "display_data"
    },
    {
     "data": {
      "application/vnd.jupyter.widget-view+json": {
       "model_id": "0cf9c0d836ec47458a9a8c3d648a24b7",
       "version_major": 2,
       "version_minor": 0
      },
      "text/plain": [
       "Predicting: 4317it [00:00, ?it/s]"
      ]
     },
     "metadata": {},
     "output_type": "display_data"
    },
    {
     "data": {
      "application/vnd.jupyter.widget-view+json": {
       "model_id": "74bf27ba777640b08ccaced3ebb9e0db",
       "version_major": 2,
       "version_minor": 0
      },
      "text/plain": [
       "Predicting: 4317it [00:00, ?it/s]"
      ]
     },
     "metadata": {},
     "output_type": "display_data"
    },
    {
     "data": {
      "application/vnd.jupyter.widget-view+json": {
       "model_id": "bd9cb1745bce4c4a9dd7ec97141381c0",
       "version_major": 2,
       "version_minor": 0
      },
      "text/plain": [
       "Predicting: 4317it [00:00, ?it/s]"
      ]
     },
     "metadata": {},
     "output_type": "display_data"
    },
    {
     "data": {
      "application/vnd.jupyter.widget-view+json": {
       "model_id": "9daf28cd79a74726af8b415ecffa8020",
       "version_major": 2,
       "version_minor": 0
      },
      "text/plain": [
       "Predicting: 4317it [00:00, ?it/s]"
      ]
     },
     "metadata": {},
     "output_type": "display_data"
    },
    {
     "data": {
      "application/vnd.jupyter.widget-view+json": {
       "model_id": "bd644be39dbd4d8dba688773d650d02a",
       "version_major": 2,
       "version_minor": 0
      },
      "text/plain": [
       "Predicting: 4317it [00:00, ?it/s]"
      ]
     },
     "metadata": {},
     "output_type": "display_data"
    },
    {
     "data": {
      "application/vnd.jupyter.widget-view+json": {
       "model_id": "5f8d561d30444004a9d589af56e884e6",
       "version_major": 2,
       "version_minor": 0
      },
      "text/plain": [
       "Predicting: 4317it [00:00, ?it/s]"
      ]
     },
     "metadata": {},
     "output_type": "display_data"
    },
    {
     "data": {
      "application/vnd.jupyter.widget-view+json": {
       "model_id": "8a0ed8a85450484bb75675f4aec533c2",
       "version_major": 2,
       "version_minor": 0
      },
      "text/plain": [
       "Predicting: 4317it [00:00, ?it/s]"
      ]
     },
     "metadata": {},
     "output_type": "display_data"
    },
    {
     "data": {
      "application/vnd.jupyter.widget-view+json": {
       "model_id": "ff3125b1157a4a34a9b13eef253d1ce9",
       "version_major": 2,
       "version_minor": 0
      },
      "text/plain": [
       "Predicting: 4317it [00:00, ?it/s]"
      ]
     },
     "metadata": {},
     "output_type": "display_data"
    },
    {
     "data": {
      "application/vnd.jupyter.widget-view+json": {
       "model_id": "92250ea0253743f3b5104137ebb089c2",
       "version_major": 2,
       "version_minor": 0
      },
      "text/plain": [
       "Predicting: 4317it [00:00, ?it/s]"
      ]
     },
     "metadata": {},
     "output_type": "display_data"
    },
    {
     "data": {
      "application/vnd.jupyter.widget-view+json": {
       "model_id": "382f5026bef743029681b37ef21453d5",
       "version_major": 2,
       "version_minor": 0
      },
      "text/plain": [
       "Predicting: 4317it [00:00, ?it/s]"
      ]
     },
     "metadata": {},
     "output_type": "display_data"
    },
    {
     "data": {
      "application/vnd.jupyter.widget-view+json": {
       "model_id": "7e786dc75aed4ce9b86fd5ac50093719",
       "version_major": 2,
       "version_minor": 0
      },
      "text/plain": [
       "Predicting: 4317it [00:00, ?it/s]"
      ]
     },
     "metadata": {},
     "output_type": "display_data"
    },
    {
     "data": {
      "application/vnd.jupyter.widget-view+json": {
       "model_id": "355cc70e08c3466b9611b8e3ab4fb268",
       "version_major": 2,
       "version_minor": 0
      },
      "text/plain": [
       "Predicting: 4317it [00:00, ?it/s]"
      ]
     },
     "metadata": {},
     "output_type": "display_data"
    },
    {
     "data": {
      "application/vnd.jupyter.widget-view+json": {
       "model_id": "ba4edb3c508842729ab92bb06d078a1b",
       "version_major": 2,
       "version_minor": 0
      },
      "text/plain": [
       "Predicting: 4317it [00:00, ?it/s]"
      ]
     },
     "metadata": {},
     "output_type": "display_data"
    },
    {
     "data": {
      "application/vnd.jupyter.widget-view+json": {
       "model_id": "269e0444262f447fbd7a00c3cd73a666",
       "version_major": 2,
       "version_minor": 0
      },
      "text/plain": [
       "Predicting: 4317it [00:00, ?it/s]"
      ]
     },
     "metadata": {},
     "output_type": "display_data"
    },
    {
     "data": {
      "application/vnd.jupyter.widget-view+json": {
       "model_id": "f869e1608d544670bc9c8ad5c1d5adfd",
       "version_major": 2,
       "version_minor": 0
      },
      "text/plain": [
       "Predicting: 4317it [00:00, ?it/s]"
      ]
     },
     "metadata": {},
     "output_type": "display_data"
    },
    {
     "data": {
      "application/vnd.jupyter.widget-view+json": {
       "model_id": "eb2a540a01b54e59b090fd41927604cf",
       "version_major": 2,
       "version_minor": 0
      },
      "text/plain": [
       "Predicting: 4317it [00:00, ?it/s]"
      ]
     },
     "metadata": {},
     "output_type": "display_data"
    },
    {
     "data": {
      "application/vnd.jupyter.widget-view+json": {
       "model_id": "dcfbe0def41144b6a041a530eb67934f",
       "version_major": 2,
       "version_minor": 0
      },
      "text/plain": [
       "Predicting: 4317it [00:00, ?it/s]"
      ]
     },
     "metadata": {},
     "output_type": "display_data"
    },
    {
     "data": {
      "application/vnd.jupyter.widget-view+json": {
       "model_id": "53ac3dccd0604c2dad8e57715749802b",
       "version_major": 2,
       "version_minor": 0
      },
      "text/plain": [
       "Predicting: 4317it [00:00, ?it/s]"
      ]
     },
     "metadata": {},
     "output_type": "display_data"
    },
    {
     "data": {
      "application/vnd.jupyter.widget-view+json": {
       "model_id": "657f39a2e54642e2a46cbe19ebfb4005",
       "version_major": 2,
       "version_minor": 0
      },
      "text/plain": [
       "Predicting: 4317it [00:00, ?it/s]"
      ]
     },
     "metadata": {},
     "output_type": "display_data"
    },
    {
     "data": {
      "application/vnd.jupyter.widget-view+json": {
       "model_id": "5947c94ec0294645a093f63a70a21acf",
       "version_major": 2,
       "version_minor": 0
      },
      "text/plain": [
       "Predicting: 4317it [00:00, ?it/s]"
      ]
     },
     "metadata": {},
     "output_type": "display_data"
    },
    {
     "data": {
      "application/vnd.jupyter.widget-view+json": {
       "model_id": "eb62168961384222b93c207b975521d7",
       "version_major": 2,
       "version_minor": 0
      },
      "text/plain": [
       "Predicting: 4317it [00:00, ?it/s]"
      ]
     },
     "metadata": {},
     "output_type": "display_data"
    },
    {
     "data": {
      "application/vnd.jupyter.widget-view+json": {
       "model_id": "b38c57ff914e4ada989b1fca25e3b5de",
       "version_major": 2,
       "version_minor": 0
      },
      "text/plain": [
       "Predicting: 4317it [00:00, ?it/s]"
      ]
     },
     "metadata": {},
     "output_type": "display_data"
    },
    {
     "data": {
      "application/vnd.jupyter.widget-view+json": {
       "model_id": "f9d10ac40fb644cf9138c314bd64c6d7",
       "version_major": 2,
       "version_minor": 0
      },
      "text/plain": [
       "Predicting: 4317it [00:00, ?it/s]"
      ]
     },
     "metadata": {},
     "output_type": "display_data"
    },
    {
     "data": {
      "application/vnd.jupyter.widget-view+json": {
       "model_id": "6475d007fa1546b4b83245e37144c66f",
       "version_major": 2,
       "version_minor": 0
      },
      "text/plain": [
       "Predicting: 4317it [00:00, ?it/s]"
      ]
     },
     "metadata": {},
     "output_type": "display_data"
    },
    {
     "data": {
      "application/vnd.jupyter.widget-view+json": {
       "model_id": "1b60ab812ef54673bbda0dbe82bb480f",
       "version_major": 2,
       "version_minor": 0
      },
      "text/plain": [
       "Predicting: 4317it [00:00, ?it/s]"
      ]
     },
     "metadata": {},
     "output_type": "display_data"
    },
    {
     "data": {
      "application/vnd.jupyter.widget-view+json": {
       "model_id": "91bc5e0dc6eb4f8082ef18233d0f7c46",
       "version_major": 2,
       "version_minor": 0
      },
      "text/plain": [
       "Predicting: 4317it [00:00, ?it/s]"
      ]
     },
     "metadata": {},
     "output_type": "display_data"
    },
    {
     "data": {
      "application/vnd.jupyter.widget-view+json": {
       "model_id": "322195052ee24d6ea0bac4afd5d237fd",
       "version_major": 2,
       "version_minor": 0
      },
      "text/plain": [
       "Predicting: 4317it [00:00, ?it/s]"
      ]
     },
     "metadata": {},
     "output_type": "display_data"
    },
    {
     "data": {
      "application/vnd.jupyter.widget-view+json": {
       "model_id": "9372f869f4ac42f2863043ff86f23d2d",
       "version_major": 2,
       "version_minor": 0
      },
      "text/plain": [
       "Predicting: 4317it [00:00, ?it/s]"
      ]
     },
     "metadata": {},
     "output_type": "display_data"
    },
    {
     "data": {
      "application/vnd.jupyter.widget-view+json": {
       "model_id": "a2ed74eb534a4b54b7d97d22c68767d3",
       "version_major": 2,
       "version_minor": 0
      },
      "text/plain": [
       "Predicting: 4317it [00:00, ?it/s]"
      ]
     },
     "metadata": {},
     "output_type": "display_data"
    },
    {
     "data": {
      "application/vnd.jupyter.widget-view+json": {
       "model_id": "6ea1aa288f254a4694d3500686b18194",
       "version_major": 2,
       "version_minor": 0
      },
      "text/plain": [
       "Predicting: 4317it [00:00, ?it/s]"
      ]
     },
     "metadata": {},
     "output_type": "display_data"
    },
    {
     "data": {
      "application/vnd.jupyter.widget-view+json": {
       "model_id": "9c163d5e132f4239bb98e848f0bafce3",
       "version_major": 2,
       "version_minor": 0
      },
      "text/plain": [
       "Predicting: 4317it [00:00, ?it/s]"
      ]
     },
     "metadata": {},
     "output_type": "display_data"
    },
    {
     "data": {
      "application/vnd.jupyter.widget-view+json": {
       "model_id": "daa390390cc54cbfb27bfc9b8f99b664",
       "version_major": 2,
       "version_minor": 0
      },
      "text/plain": [
       "Predicting: 4317it [00:00, ?it/s]"
      ]
     },
     "metadata": {},
     "output_type": "display_data"
    },
    {
     "data": {
      "application/vnd.jupyter.widget-view+json": {
       "model_id": "b29428d0fc2b4824a199d7afac443c88",
       "version_major": 2,
       "version_minor": 0
      },
      "text/plain": [
       "Predicting: 4317it [00:00, ?it/s]"
      ]
     },
     "metadata": {},
     "output_type": "display_data"
    },
    {
     "data": {
      "application/vnd.jupyter.widget-view+json": {
       "model_id": "2b4504a6f64c4d008c3d5ab1574d85da",
       "version_major": 2,
       "version_minor": 0
      },
      "text/plain": [
       "Predicting: 4317it [00:00, ?it/s]"
      ]
     },
     "metadata": {},
     "output_type": "display_data"
    },
    {
     "data": {
      "application/vnd.jupyter.widget-view+json": {
       "model_id": "efb83c84b60941788245e99580ea522f",
       "version_major": 2,
       "version_minor": 0
      },
      "text/plain": [
       "Predicting: 4317it [00:00, ?it/s]"
      ]
     },
     "metadata": {},
     "output_type": "display_data"
    },
    {
     "data": {
      "application/vnd.jupyter.widget-view+json": {
       "model_id": "31afe582cd0f403ea278ef5d23396062",
       "version_major": 2,
       "version_minor": 0
      },
      "text/plain": [
       "Predicting: 4317it [00:00, ?it/s]"
      ]
     },
     "metadata": {},
     "output_type": "display_data"
    },
    {
     "data": {
      "application/vnd.jupyter.widget-view+json": {
       "model_id": "d06a3fd6658d4417b52a1712304ac32b",
       "version_major": 2,
       "version_minor": 0
      },
      "text/plain": [
       "Predicting: 4317it [00:00, ?it/s]"
      ]
     },
     "metadata": {},
     "output_type": "display_data"
    },
    {
     "data": {
      "application/vnd.jupyter.widget-view+json": {
       "model_id": "aa7d0e6a03af4c358b2ae3554681872f",
       "version_major": 2,
       "version_minor": 0
      },
      "text/plain": [
       "Predicting: 4317it [00:00, ?it/s]"
      ]
     },
     "metadata": {},
     "output_type": "display_data"
    },
    {
     "data": {
      "application/vnd.jupyter.widget-view+json": {
       "model_id": "f9636e130cb34f7c9c5ea1c27e207b96",
       "version_major": 2,
       "version_minor": 0
      },
      "text/plain": [
       "Predicting: 4317it [00:00, ?it/s]"
      ]
     },
     "metadata": {},
     "output_type": "display_data"
    },
    {
     "data": {
      "application/vnd.jupyter.widget-view+json": {
       "model_id": "5f66f7ce3c344425b928bc5cb2d7c2d0",
       "version_major": 2,
       "version_minor": 0
      },
      "text/plain": [
       "Predicting: 4317it [00:00, ?it/s]"
      ]
     },
     "metadata": {},
     "output_type": "display_data"
    },
    {
     "data": {
      "application/vnd.jupyter.widget-view+json": {
       "model_id": "dd98388daa8f4147924627db5baf0dd1",
       "version_major": 2,
       "version_minor": 0
      },
      "text/plain": [
       "Predicting: 4317it [00:00, ?it/s]"
      ]
     },
     "metadata": {},
     "output_type": "display_data"
    },
    {
     "data": {
      "application/vnd.jupyter.widget-view+json": {
       "model_id": "6a90d7da237a41879cccc5c2680f223a",
       "version_major": 2,
       "version_minor": 0
      },
      "text/plain": [
       "Predicting: 4317it [00:00, ?it/s]"
      ]
     },
     "metadata": {},
     "output_type": "display_data"
    },
    {
     "data": {
      "application/vnd.jupyter.widget-view+json": {
       "model_id": "bfb191b663554eeab9368d19943dec2c",
       "version_major": 2,
       "version_minor": 0
      },
      "text/plain": [
       "Predicting: 4317it [00:00, ?it/s]"
      ]
     },
     "metadata": {},
     "output_type": "display_data"
    },
    {
     "data": {
      "application/vnd.jupyter.widget-view+json": {
       "model_id": "67d1229065814ac6a26c7151ae4f829f",
       "version_major": 2,
       "version_minor": 0
      },
      "text/plain": [
       "Predicting: 4317it [00:00, ?it/s]"
      ]
     },
     "metadata": {},
     "output_type": "display_data"
    },
    {
     "data": {
      "application/vnd.jupyter.widget-view+json": {
       "model_id": "3fa5b333fae34501b82fd1bdf17d205a",
       "version_major": 2,
       "version_minor": 0
      },
      "text/plain": [
       "Predicting: 4317it [00:00, ?it/s]"
      ]
     },
     "metadata": {},
     "output_type": "display_data"
    },
    {
     "data": {
      "application/vnd.jupyter.widget-view+json": {
       "model_id": "d04ff55f05634c3ebdf21389fec66597",
       "version_major": 2,
       "version_minor": 0
      },
      "text/plain": [
       "Predicting: 4317it [00:00, ?it/s]"
      ]
     },
     "metadata": {},
     "output_type": "display_data"
    },
    {
     "data": {
      "application/vnd.jupyter.widget-view+json": {
       "model_id": "09bf2cbf56ae441eb60a25895c57720b",
       "version_major": 2,
       "version_minor": 0
      },
      "text/plain": [
       "Predicting: 4317it [00:00, ?it/s]"
      ]
     },
     "metadata": {},
     "output_type": "display_data"
    },
    {
     "data": {
      "application/vnd.jupyter.widget-view+json": {
       "model_id": "a11adcfe042646c9a579a52806ed963c",
       "version_major": 2,
       "version_minor": 0
      },
      "text/plain": [
       "Predicting: 4317it [00:00, ?it/s]"
      ]
     },
     "metadata": {},
     "output_type": "display_data"
    },
    {
     "data": {
      "application/vnd.jupyter.widget-view+json": {
       "model_id": "a6248b7fb91c472c9aeff79ff38b6b14",
       "version_major": 2,
       "version_minor": 0
      },
      "text/plain": [
       "Predicting: 4317it [00:00, ?it/s]"
      ]
     },
     "metadata": {},
     "output_type": "display_data"
    },
    {
     "data": {
      "application/vnd.jupyter.widget-view+json": {
       "model_id": "22a64be266214b03a3ae171f24686a06",
       "version_major": 2,
       "version_minor": 0
      },
      "text/plain": [
       "Predicting: 4317it [00:00, ?it/s]"
      ]
     },
     "metadata": {},
     "output_type": "display_data"
    },
    {
     "data": {
      "application/vnd.jupyter.widget-view+json": {
       "model_id": "21d6442dc971416a93af167b98f520a9",
       "version_major": 2,
       "version_minor": 0
      },
      "text/plain": [
       "Predicting: 4317it [00:00, ?it/s]"
      ]
     },
     "metadata": {},
     "output_type": "display_data"
    },
    {
     "data": {
      "application/vnd.jupyter.widget-view+json": {
       "model_id": "493d38d743ea452baf25ba453c7904d4",
       "version_major": 2,
       "version_minor": 0
      },
      "text/plain": [
       "Predicting: 4317it [00:00, ?it/s]"
      ]
     },
     "metadata": {},
     "output_type": "display_data"
    },
    {
     "data": {
      "application/vnd.jupyter.widget-view+json": {
       "model_id": "d137121ab5b54a89b68def05edf8ec22",
       "version_major": 2,
       "version_minor": 0
      },
      "text/plain": [
       "Predicting: 4317it [00:00, ?it/s]"
      ]
     },
     "metadata": {},
     "output_type": "display_data"
    },
    {
     "data": {
      "application/vnd.jupyter.widget-view+json": {
       "model_id": "dcf737d09b464f9590d01284e2184b18",
       "version_major": 2,
       "version_minor": 0
      },
      "text/plain": [
       "Predicting: 4317it [00:00, ?it/s]"
      ]
     },
     "metadata": {},
     "output_type": "display_data"
    },
    {
     "data": {
      "application/vnd.jupyter.widget-view+json": {
       "model_id": "acde26cd921e4374b63d6ccbe57de60e",
       "version_major": 2,
       "version_minor": 0
      },
      "text/plain": [
       "Predicting: 4317it [00:00, ?it/s]"
      ]
     },
     "metadata": {},
     "output_type": "display_data"
    },
    {
     "data": {
      "application/vnd.jupyter.widget-view+json": {
       "model_id": "cf6c4545c36f4784bda65dd818324544",
       "version_major": 2,
       "version_minor": 0
      },
      "text/plain": [
       "Predicting: 4317it [00:00, ?it/s]"
      ]
     },
     "metadata": {},
     "output_type": "display_data"
    },
    {
     "data": {
      "application/vnd.jupyter.widget-view+json": {
       "model_id": "d43a9b90c704427791eba24668e78e68",
       "version_major": 2,
       "version_minor": 0
      },
      "text/plain": [
       "Predicting: 4317it [00:00, ?it/s]"
      ]
     },
     "metadata": {},
     "output_type": "display_data"
    },
    {
     "data": {
      "application/vnd.jupyter.widget-view+json": {
       "model_id": "c268f677265a4eab9efbac0ef79c6b1a",
       "version_major": 2,
       "version_minor": 0
      },
      "text/plain": [
       "Predicting: 4317it [00:00, ?it/s]"
      ]
     },
     "metadata": {},
     "output_type": "display_data"
    },
    {
     "data": {
      "application/vnd.jupyter.widget-view+json": {
       "model_id": "1ed8b000fb094d36b6d211f37d046c60",
       "version_major": 2,
       "version_minor": 0
      },
      "text/plain": [
       "Predicting: 4317it [00:00, ?it/s]"
      ]
     },
     "metadata": {},
     "output_type": "display_data"
    },
    {
     "data": {
      "application/vnd.jupyter.widget-view+json": {
       "model_id": "094f6e9cd5f74a5f88eff814da36c00d",
       "version_major": 2,
       "version_minor": 0
      },
      "text/plain": [
       "Predicting: 4317it [00:00, ?it/s]"
      ]
     },
     "metadata": {},
     "output_type": "display_data"
    },
    {
     "data": {
      "application/vnd.jupyter.widget-view+json": {
       "model_id": "acd37c7abaeb47779f82ceb5c59c4fc5",
       "version_major": 2,
       "version_minor": 0
      },
      "text/plain": [
       "Predicting: 4317it [00:00, ?it/s]"
      ]
     },
     "metadata": {},
     "output_type": "display_data"
    },
    {
     "data": {
      "application/vnd.jupyter.widget-view+json": {
       "model_id": "287b09d6fd174fcd82c852b13f383784",
       "version_major": 2,
       "version_minor": 0
      },
      "text/plain": [
       "Predicting: 4317it [00:00, ?it/s]"
      ]
     },
     "metadata": {},
     "output_type": "display_data"
    },
    {
     "data": {
      "application/vnd.jupyter.widget-view+json": {
       "model_id": "0e1754663a264a779a4b950a90ab5a97",
       "version_major": 2,
       "version_minor": 0
      },
      "text/plain": [
       "Predicting: 4317it [00:00, ?it/s]"
      ]
     },
     "metadata": {},
     "output_type": "display_data"
    },
    {
     "data": {
      "application/vnd.jupyter.widget-view+json": {
       "model_id": "e311b10a2da843128e25c14a5e28145a",
       "version_major": 2,
       "version_minor": 0
      },
      "text/plain": [
       "Predicting: 4317it [00:00, ?it/s]"
      ]
     },
     "metadata": {},
     "output_type": "display_data"
    },
    {
     "data": {
      "application/vnd.jupyter.widget-view+json": {
       "model_id": "b90fc23e49444a629d9a82ff7bc12f11",
       "version_major": 2,
       "version_minor": 0
      },
      "text/plain": [
       "Predicting: 4317it [00:00, ?it/s]"
      ]
     },
     "metadata": {},
     "output_type": "display_data"
    },
    {
     "data": {
      "application/vnd.jupyter.widget-view+json": {
       "model_id": "5dce2c3c99b9417c884a2d8dea2c150c",
       "version_major": 2,
       "version_minor": 0
      },
      "text/plain": [
       "Predicting: 4317it [00:00, ?it/s]"
      ]
     },
     "metadata": {},
     "output_type": "display_data"
    },
    {
     "data": {
      "application/vnd.jupyter.widget-view+json": {
       "model_id": "867c7c9c059748df8fbee0c856ba4bd3",
       "version_major": 2,
       "version_minor": 0
      },
      "text/plain": [
       "Predicting: 4317it [00:00, ?it/s]"
      ]
     },
     "metadata": {},
     "output_type": "display_data"
    },
    {
     "data": {
      "application/vnd.jupyter.widget-view+json": {
       "model_id": "a3b8889c3fba42b4b71edd04882af324",
       "version_major": 2,
       "version_minor": 0
      },
      "text/plain": [
       "Predicting: 4317it [00:00, ?it/s]"
      ]
     },
     "metadata": {},
     "output_type": "display_data"
    },
    {
     "data": {
      "application/vnd.jupyter.widget-view+json": {
       "model_id": "d5bc0424c8ec4707a9ed821eb430d0a9",
       "version_major": 2,
       "version_minor": 0
      },
      "text/plain": [
       "Predicting: 4317it [00:00, ?it/s]"
      ]
     },
     "metadata": {},
     "output_type": "display_data"
    },
    {
     "data": {
      "application/vnd.jupyter.widget-view+json": {
       "model_id": "3e910a6754484426818ba41a7e83818f",
       "version_major": 2,
       "version_minor": 0
      },
      "text/plain": [
       "Predicting: 4317it [00:00, ?it/s]"
      ]
     },
     "metadata": {},
     "output_type": "display_data"
    },
    {
     "data": {
      "application/vnd.jupyter.widget-view+json": {
       "model_id": "dfc125a2df6d4c5da1d74a327587ed90",
       "version_major": 2,
       "version_minor": 0
      },
      "text/plain": [
       "Predicting: 4317it [00:00, ?it/s]"
      ]
     },
     "metadata": {},
     "output_type": "display_data"
    },
    {
     "data": {
      "application/vnd.jupyter.widget-view+json": {
       "model_id": "b18a94b9f9ad46d9b05654a9fa958029",
       "version_major": 2,
       "version_minor": 0
      },
      "text/plain": [
       "Predicting: 4317it [00:00, ?it/s]"
      ]
     },
     "metadata": {},
     "output_type": "display_data"
    },
    {
     "data": {
      "application/vnd.jupyter.widget-view+json": {
       "model_id": "b58fcf7d185746fba4602feaa0298452",
       "version_major": 2,
       "version_minor": 0
      },
      "text/plain": [
       "Predicting: 4317it [00:00, ?it/s]"
      ]
     },
     "metadata": {},
     "output_type": "display_data"
    },
    {
     "data": {
      "application/vnd.jupyter.widget-view+json": {
       "model_id": "23e27fdea2584b7b99b92d65324775e7",
       "version_major": 2,
       "version_minor": 0
      },
      "text/plain": [
       "Predicting: 4317it [00:00, ?it/s]"
      ]
     },
     "metadata": {},
     "output_type": "display_data"
    },
    {
     "data": {
      "application/vnd.jupyter.widget-view+json": {
       "model_id": "fb136a63ee2a4c11b38655e0fe62d481",
       "version_major": 2,
       "version_minor": 0
      },
      "text/plain": [
       "Predicting: 4317it [00:00, ?it/s]"
      ]
     },
     "metadata": {},
     "output_type": "display_data"
    },
    {
     "data": {
      "application/vnd.jupyter.widget-view+json": {
       "model_id": "a6ccb16c704343329b5fec27edf7a83d",
       "version_major": 2,
       "version_minor": 0
      },
      "text/plain": [
       "Predicting: 4317it [00:00, ?it/s]"
      ]
     },
     "metadata": {},
     "output_type": "display_data"
    },
    {
     "data": {
      "application/vnd.jupyter.widget-view+json": {
       "model_id": "fab2178ebe774b86ac28dc4913d6d4d4",
       "version_major": 2,
       "version_minor": 0
      },
      "text/plain": [
       "Predicting: 4317it [00:00, ?it/s]"
      ]
     },
     "metadata": {},
     "output_type": "display_data"
    },
    {
     "data": {
      "application/vnd.jupyter.widget-view+json": {
       "model_id": "088c018ed9cf42be85ea5f19805107a8",
       "version_major": 2,
       "version_minor": 0
      },
      "text/plain": [
       "Predicting: 4317it [00:00, ?it/s]"
      ]
     },
     "metadata": {},
     "output_type": "display_data"
    },
    {
     "data": {
      "application/vnd.jupyter.widget-view+json": {
       "model_id": "3ebbbb131af64b1fa24851a188de7a13",
       "version_major": 2,
       "version_minor": 0
      },
      "text/plain": [
       "Predicting: 4317it [00:00, ?it/s]"
      ]
     },
     "metadata": {},
     "output_type": "display_data"
    },
    {
     "data": {
      "application/vnd.jupyter.widget-view+json": {
       "model_id": "0ffefe3d34924599bf1e5c8f9efa5374",
       "version_major": 2,
       "version_minor": 0
      },
      "text/plain": [
       "Predicting: 4317it [00:00, ?it/s]"
      ]
     },
     "metadata": {},
     "output_type": "display_data"
    },
    {
     "data": {
      "application/vnd.jupyter.widget-view+json": {
       "model_id": "f7e3943a12ad4d99afa60c4fffbe2245",
       "version_major": 2,
       "version_minor": 0
      },
      "text/plain": [
       "Predicting: 4317it [00:00, ?it/s]"
      ]
     },
     "metadata": {},
     "output_type": "display_data"
    },
    {
     "data": {
      "application/vnd.jupyter.widget-view+json": {
       "model_id": "ce970685ef664c7db822df64d019438c",
       "version_major": 2,
       "version_minor": 0
      },
      "text/plain": [
       "Predicting: 4317it [00:00, ?it/s]"
      ]
     },
     "metadata": {},
     "output_type": "display_data"
    },
    {
     "data": {
      "application/vnd.jupyter.widget-view+json": {
       "model_id": "4d1da83794de4b87a156447129f818c1",
       "version_major": 2,
       "version_minor": 0
      },
      "text/plain": [
       "Predicting: 4317it [00:00, ?it/s]"
      ]
     },
     "metadata": {},
     "output_type": "display_data"
    },
    {
     "data": {
      "application/vnd.jupyter.widget-view+json": {
       "model_id": "e285f15036e34375962b5658422d67c1",
       "version_major": 2,
       "version_minor": 0
      },
      "text/plain": [
       "Predicting: 4317it [00:00, ?it/s]"
      ]
     },
     "metadata": {},
     "output_type": "display_data"
    },
    {
     "data": {
      "application/vnd.jupyter.widget-view+json": {
       "model_id": "c5b36cadd04648b1a78a2af9b93657f2",
       "version_major": 2,
       "version_minor": 0
      },
      "text/plain": [
       "Predicting: 4317it [00:00, ?it/s]"
      ]
     },
     "metadata": {},
     "output_type": "display_data"
    },
    {
     "data": {
      "application/vnd.jupyter.widget-view+json": {
       "model_id": "a168ceb2cfdf4aa7a566b5cb7053f783",
       "version_major": 2,
       "version_minor": 0
      },
      "text/plain": [
       "Predicting: 4317it [00:00, ?it/s]"
      ]
     },
     "metadata": {},
     "output_type": "display_data"
    },
    {
     "data": {
      "application/vnd.jupyter.widget-view+json": {
       "model_id": "8bd91fcc29794b7289cf7122f463f13a",
       "version_major": 2,
       "version_minor": 0
      },
      "text/plain": [
       "Predicting: 4317it [00:00, ?it/s]"
      ]
     },
     "metadata": {},
     "output_type": "display_data"
    },
    {
     "data": {
      "application/vnd.jupyter.widget-view+json": {
       "model_id": "c483edf5addb41e6bf2f4ddd22334223",
       "version_major": 2,
       "version_minor": 0
      },
      "text/plain": [
       "Predicting: 4317it [00:00, ?it/s]"
      ]
     },
     "metadata": {},
     "output_type": "display_data"
    },
    {
     "data": {
      "application/vnd.jupyter.widget-view+json": {
       "model_id": "b354d2a2a0de4e2995632a1ccd20e3ee",
       "version_major": 2,
       "version_minor": 0
      },
      "text/plain": [
       "Predicting: 4317it [00:00, ?it/s]"
      ]
     },
     "metadata": {},
     "output_type": "display_data"
    },
    {
     "data": {
      "application/vnd.jupyter.widget-view+json": {
       "model_id": "f7b1d37abcfc4f5abf354272b165f089",
       "version_major": 2,
       "version_minor": 0
      },
      "text/plain": [
       "Predicting: 4317it [00:00, ?it/s]"
      ]
     },
     "metadata": {},
     "output_type": "display_data"
    },
    {
     "data": {
      "application/vnd.jupyter.widget-view+json": {
       "model_id": "c9450600142844ae983da08ac673fda6",
       "version_major": 2,
       "version_minor": 0
      },
      "text/plain": [
       "Predicting: 4317it [00:00, ?it/s]"
      ]
     },
     "metadata": {},
     "output_type": "display_data"
    },
    {
     "data": {
      "application/vnd.jupyter.widget-view+json": {
       "model_id": "cced84e7e1f7409dba281b7e64132cf0",
       "version_major": 2,
       "version_minor": 0
      },
      "text/plain": [
       "Predicting: 4317it [00:00, ?it/s]"
      ]
     },
     "metadata": {},
     "output_type": "display_data"
    },
    {
     "data": {
      "application/vnd.jupyter.widget-view+json": {
       "model_id": "0cf9e8d9fc1d43069f6e7129561eb77c",
       "version_major": 2,
       "version_minor": 0
      },
      "text/plain": [
       "Predicting: 4317it [00:00, ?it/s]"
      ]
     },
     "metadata": {},
     "output_type": "display_data"
    },
    {
     "data": {
      "application/vnd.jupyter.widget-view+json": {
       "model_id": "f7af3424482c4af590255660af1e4aca",
       "version_major": 2,
       "version_minor": 0
      },
      "text/plain": [
       "Predicting: 4317it [00:00, ?it/s]"
      ]
     },
     "metadata": {},
     "output_type": "display_data"
    },
    {
     "data": {
      "application/vnd.jupyter.widget-view+json": {
       "model_id": "7ae3f1f4707d4edf90e621fa791bfdc1",
       "version_major": 2,
       "version_minor": 0
      },
      "text/plain": [
       "Predicting: 4317it [00:00, ?it/s]"
      ]
     },
     "metadata": {},
     "output_type": "display_data"
    },
    {
     "data": {
      "application/vnd.jupyter.widget-view+json": {
       "model_id": "7f94febb7d9d43a5b1133c195fdd2189",
       "version_major": 2,
       "version_minor": 0
      },
      "text/plain": [
       "Predicting: 4317it [00:00, ?it/s]"
      ]
     },
     "metadata": {},
     "output_type": "display_data"
    },
    {
     "data": {
      "application/vnd.jupyter.widget-view+json": {
       "model_id": "da867f1ae7c54908a4e82ff2aa0a05ea",
       "version_major": 2,
       "version_minor": 0
      },
      "text/plain": [
       "Predicting: 4317it [00:00, ?it/s]"
      ]
     },
     "metadata": {},
     "output_type": "display_data"
    },
    {
     "data": {
      "application/vnd.jupyter.widget-view+json": {
       "model_id": "7afafbfe487d431897a15057d3ca94bb",
       "version_major": 2,
       "version_minor": 0
      },
      "text/plain": [
       "Predicting: 4317it [00:00, ?it/s]"
      ]
     },
     "metadata": {},
     "output_type": "display_data"
    },
    {
     "data": {
      "application/vnd.jupyter.widget-view+json": {
       "model_id": "0f48d6e2c80d4a78820b7db584bc8be1",
       "version_major": 2,
       "version_minor": 0
      },
      "text/plain": [
       "Predicting: 4317it [00:00, ?it/s]"
      ]
     },
     "metadata": {},
     "output_type": "display_data"
    },
    {
     "data": {
      "application/vnd.jupyter.widget-view+json": {
       "model_id": "83789a913c2b4abfbca3e5fa442d0cea",
       "version_major": 2,
       "version_minor": 0
      },
      "text/plain": [
       "Predicting: 4317it [00:00, ?it/s]"
      ]
     },
     "metadata": {},
     "output_type": "display_data"
    },
    {
     "data": {
      "application/vnd.jupyter.widget-view+json": {
       "model_id": "881a01e9f69746bc9fa64c2c76d0525c",
       "version_major": 2,
       "version_minor": 0
      },
      "text/plain": [
       "Predicting: 4317it [00:00, ?it/s]"
      ]
     },
     "metadata": {},
     "output_type": "display_data"
    },
    {
     "data": {
      "application/vnd.jupyter.widget-view+json": {
       "model_id": "7fb850d95cf34ea3a4f586eb234938a1",
       "version_major": 2,
       "version_minor": 0
      },
      "text/plain": [
       "Predicting: 4317it [00:00, ?it/s]"
      ]
     },
     "metadata": {},
     "output_type": "display_data"
    },
    {
     "data": {
      "application/vnd.jupyter.widget-view+json": {
       "model_id": "6a7f62fbb65b4948b74c8f1d74bd2abc",
       "version_major": 2,
       "version_minor": 0
      },
      "text/plain": [
       "Predicting: 4317it [00:00, ?it/s]"
      ]
     },
     "metadata": {},
     "output_type": "display_data"
    },
    {
     "data": {
      "application/vnd.jupyter.widget-view+json": {
       "model_id": "427cc656aeb8480fac6d4802834f49fe",
       "version_major": 2,
       "version_minor": 0
      },
      "text/plain": [
       "Predicting: 4317it [00:00, ?it/s]"
      ]
     },
     "metadata": {},
     "output_type": "display_data"
    },
    {
     "data": {
      "application/vnd.jupyter.widget-view+json": {
       "model_id": "bb4ea1014f4a46ad9013d4a62d443048",
       "version_major": 2,
       "version_minor": 0
      },
      "text/plain": [
       "Predicting: 4317it [00:00, ?it/s]"
      ]
     },
     "metadata": {},
     "output_type": "display_data"
    },
    {
     "data": {
      "application/vnd.jupyter.widget-view+json": {
       "model_id": "26012682606746fe92ffde474e74c7d2",
       "version_major": 2,
       "version_minor": 0
      },
      "text/plain": [
       "Predicting: 4317it [00:00, ?it/s]"
      ]
     },
     "metadata": {},
     "output_type": "display_data"
    },
    {
     "data": {
      "application/vnd.jupyter.widget-view+json": {
       "model_id": "11e31737685a4148b5ea7abc51240ae4",
       "version_major": 2,
       "version_minor": 0
      },
      "text/plain": [
       "Predicting: 4317it [00:00, ?it/s]"
      ]
     },
     "metadata": {},
     "output_type": "display_data"
    },
    {
     "data": {
      "application/vnd.jupyter.widget-view+json": {
       "model_id": "1f2b7e7a4f434080ab2f732f406a7387",
       "version_major": 2,
       "version_minor": 0
      },
      "text/plain": [
       "Predicting: 4317it [00:00, ?it/s]"
      ]
     },
     "metadata": {},
     "output_type": "display_data"
    },
    {
     "data": {
      "application/vnd.jupyter.widget-view+json": {
       "model_id": "142547b0a5c14750b8e73fe4046a50f1",
       "version_major": 2,
       "version_minor": 0
      },
      "text/plain": [
       "Predicting: 4317it [00:00, ?it/s]"
      ]
     },
     "metadata": {},
     "output_type": "display_data"
    },
    {
     "data": {
      "application/vnd.jupyter.widget-view+json": {
       "model_id": "12baa0a3a65b462eae06969919be7ddd",
       "version_major": 2,
       "version_minor": 0
      },
      "text/plain": [
       "Predicting: 4317it [00:00, ?it/s]"
      ]
     },
     "metadata": {},
     "output_type": "display_data"
    },
    {
     "data": {
      "application/vnd.jupyter.widget-view+json": {
       "model_id": "b0b1262bacd24347ba08a9e3aa3821e4",
       "version_major": 2,
       "version_minor": 0
      },
      "text/plain": [
       "Predicting: 4317it [00:00, ?it/s]"
      ]
     },
     "metadata": {},
     "output_type": "display_data"
    },
    {
     "data": {
      "application/vnd.jupyter.widget-view+json": {
       "model_id": "e65cbf942f95444e92936eac8244e67d",
       "version_major": 2,
       "version_minor": 0
      },
      "text/plain": [
       "Predicting: 4317it [00:00, ?it/s]"
      ]
     },
     "metadata": {},
     "output_type": "display_data"
    },
    {
     "data": {
      "application/vnd.jupyter.widget-view+json": {
       "model_id": "4a4856b0fdec455285aae6c6bb3c13f0",
       "version_major": 2,
       "version_minor": 0
      },
      "text/plain": [
       "Predicting: 4317it [00:00, ?it/s]"
      ]
     },
     "metadata": {},
     "output_type": "display_data"
    },
    {
     "data": {
      "application/vnd.jupyter.widget-view+json": {
       "model_id": "98fc3bc8622a4dc19eef4d624ec788aa",
       "version_major": 2,
       "version_minor": 0
      },
      "text/plain": [
       "Predicting: 4317it [00:00, ?it/s]"
      ]
     },
     "metadata": {},
     "output_type": "display_data"
    },
    {
     "data": {
      "application/vnd.jupyter.widget-view+json": {
       "model_id": "ad616ffcd6574d18ac763d254f03622e",
       "version_major": 2,
       "version_minor": 0
      },
      "text/plain": [
       "Predicting: 4317it [00:00, ?it/s]"
      ]
     },
     "metadata": {},
     "output_type": "display_data"
    },
    {
     "data": {
      "application/vnd.jupyter.widget-view+json": {
       "model_id": "388012a5917440bbb2100c7394f096af",
       "version_major": 2,
       "version_minor": 0
      },
      "text/plain": [
       "Predicting: 4317it [00:00, ?it/s]"
      ]
     },
     "metadata": {},
     "output_type": "display_data"
    },
    {
     "data": {
      "application/vnd.jupyter.widget-view+json": {
       "model_id": "86ac38f2fa23413fbb18f53f1b260857",
       "version_major": 2,
       "version_minor": 0
      },
      "text/plain": [
       "Predicting: 4317it [00:00, ?it/s]"
      ]
     },
     "metadata": {},
     "output_type": "display_data"
    },
    {
     "data": {
      "application/vnd.jupyter.widget-view+json": {
       "model_id": "7ed9f58a06c14d368df2a3fdc7f068c9",
       "version_major": 2,
       "version_minor": 0
      },
      "text/plain": [
       "Predicting: 4317it [00:00, ?it/s]"
      ]
     },
     "metadata": {},
     "output_type": "display_data"
    },
    {
     "data": {
      "application/vnd.jupyter.widget-view+json": {
       "model_id": "2bd54694bc5842e2a8a1852c7793eb74",
       "version_major": 2,
       "version_minor": 0
      },
      "text/plain": [
       "Predicting: 4317it [00:00, ?it/s]"
      ]
     },
     "metadata": {},
     "output_type": "display_data"
    },
    {
     "data": {
      "application/vnd.jupyter.widget-view+json": {
       "model_id": "be9e2d23424c42acabfef5beb41c1910",
       "version_major": 2,
       "version_minor": 0
      },
      "text/plain": [
       "Predicting: 4317it [00:00, ?it/s]"
      ]
     },
     "metadata": {},
     "output_type": "display_data"
    },
    {
     "data": {
      "application/vnd.jupyter.widget-view+json": {
       "model_id": "25081ff90d3047e696ec8d6e1156d1f9",
       "version_major": 2,
       "version_minor": 0
      },
      "text/plain": [
       "Predicting: 4317it [00:00, ?it/s]"
      ]
     },
     "metadata": {},
     "output_type": "display_data"
    },
    {
     "data": {
      "application/vnd.jupyter.widget-view+json": {
       "model_id": "3929ca15130f4aaa87318d6f47c330f5",
       "version_major": 2,
       "version_minor": 0
      },
      "text/plain": [
       "Predicting: 4317it [00:00, ?it/s]"
      ]
     },
     "metadata": {},
     "output_type": "display_data"
    },
    {
     "data": {
      "application/vnd.jupyter.widget-view+json": {
       "model_id": "92921c5143de49418b8af25c90f6e902",
       "version_major": 2,
       "version_minor": 0
      },
      "text/plain": [
       "Predicting: 4317it [00:00, ?it/s]"
      ]
     },
     "metadata": {},
     "output_type": "display_data"
    },
    {
     "data": {
      "application/vnd.jupyter.widget-view+json": {
       "model_id": "e4d0a6b1bb274483a5abb3a8b55a4fe1",
       "version_major": 2,
       "version_minor": 0
      },
      "text/plain": [
       "Predicting: 4317it [00:00, ?it/s]"
      ]
     },
     "metadata": {},
     "output_type": "display_data"
    },
    {
     "data": {
      "application/vnd.jupyter.widget-view+json": {
       "model_id": "ee0cfa593faa416d918b35181e504775",
       "version_major": 2,
       "version_minor": 0
      },
      "text/plain": [
       "Predicting: 4317it [00:00, ?it/s]"
      ]
     },
     "metadata": {},
     "output_type": "display_data"
    },
    {
     "data": {
      "application/vnd.jupyter.widget-view+json": {
       "model_id": "efda450050ed46bf9e75fcc9f9e7edd3",
       "version_major": 2,
       "version_minor": 0
      },
      "text/plain": [
       "Predicting: 4317it [00:00, ?it/s]"
      ]
     },
     "metadata": {},
     "output_type": "display_data"
    },
    {
     "data": {
      "application/vnd.jupyter.widget-view+json": {
       "model_id": "f3c452f280c94720b3d19f8afdb49594",
       "version_major": 2,
       "version_minor": 0
      },
      "text/plain": [
       "Predicting: 4317it [00:00, ?it/s]"
      ]
     },
     "metadata": {},
     "output_type": "display_data"
    },
    {
     "data": {
      "application/vnd.jupyter.widget-view+json": {
       "model_id": "ee7909a3fa884a5baf45967d5e647343",
       "version_major": 2,
       "version_minor": 0
      },
      "text/plain": [
       "Predicting: 4317it [00:00, ?it/s]"
      ]
     },
     "metadata": {},
     "output_type": "display_data"
    },
    {
     "data": {
      "application/vnd.jupyter.widget-view+json": {
       "model_id": "c4ec8cbecbe04efdb8529fb1bf1244cd",
       "version_major": 2,
       "version_minor": 0
      },
      "text/plain": [
       "Predicting: 4317it [00:00, ?it/s]"
      ]
     },
     "metadata": {},
     "output_type": "display_data"
    },
    {
     "data": {
      "application/vnd.jupyter.widget-view+json": {
       "model_id": "7029787a2da44820a0452bc25cd814c2",
       "version_major": 2,
       "version_minor": 0
      },
      "text/plain": [
       "Predicting: 4317it [00:00, ?it/s]"
      ]
     },
     "metadata": {},
     "output_type": "display_data"
    },
    {
     "data": {
      "application/vnd.jupyter.widget-view+json": {
       "model_id": "68151422f0624734bc5e57153f547e2c",
       "version_major": 2,
       "version_minor": 0
      },
      "text/plain": [
       "Predicting: 4317it [00:00, ?it/s]"
      ]
     },
     "metadata": {},
     "output_type": "display_data"
    },
    {
     "data": {
      "application/vnd.jupyter.widget-view+json": {
       "model_id": "2cbcdc569c6a4adb8e69d643e0a5c5ef",
       "version_major": 2,
       "version_minor": 0
      },
      "text/plain": [
       "Predicting: 4317it [00:00, ?it/s]"
      ]
     },
     "metadata": {},
     "output_type": "display_data"
    },
    {
     "data": {
      "application/vnd.jupyter.widget-view+json": {
       "model_id": "1bbd9154f1354348b6fd1595bd96e4c9",
       "version_major": 2,
       "version_minor": 0
      },
      "text/plain": [
       "Predicting: 4317it [00:00, ?it/s]"
      ]
     },
     "metadata": {},
     "output_type": "display_data"
    },
    {
     "data": {
      "application/vnd.jupyter.widget-view+json": {
       "model_id": "dd8510c438334d59892e964283d64dfe",
       "version_major": 2,
       "version_minor": 0
      },
      "text/plain": [
       "Predicting: 4317it [00:00, ?it/s]"
      ]
     },
     "metadata": {},
     "output_type": "display_data"
    },
    {
     "data": {
      "application/vnd.jupyter.widget-view+json": {
       "model_id": "5bf4bd83000a43b3a58f333d7c16f450",
       "version_major": 2,
       "version_minor": 0
      },
      "text/plain": [
       "Predicting: 4317it [00:00, ?it/s]"
      ]
     },
     "metadata": {},
     "output_type": "display_data"
    },
    {
     "data": {
      "application/vnd.jupyter.widget-view+json": {
       "model_id": "3a260389160c4319bb9d810bb6add8a7",
       "version_major": 2,
       "version_minor": 0
      },
      "text/plain": [
       "Predicting: 4317it [00:00, ?it/s]"
      ]
     },
     "metadata": {},
     "output_type": "display_data"
    },
    {
     "data": {
      "application/vnd.jupyter.widget-view+json": {
       "model_id": "15963b064db544a99689c3c7b153f632",
       "version_major": 2,
       "version_minor": 0
      },
      "text/plain": [
       "Predicting: 4317it [00:00, ?it/s]"
      ]
     },
     "metadata": {},
     "output_type": "display_data"
    },
    {
     "data": {
      "application/vnd.jupyter.widget-view+json": {
       "model_id": "025648df970b4b23b0cfd25623ab2bb1",
       "version_major": 2,
       "version_minor": 0
      },
      "text/plain": [
       "Predicting: 4317it [00:00, ?it/s]"
      ]
     },
     "metadata": {},
     "output_type": "display_data"
    },
    {
     "data": {
      "application/vnd.jupyter.widget-view+json": {
       "model_id": "30ddc2bb7c5d446e80efe3f898768bd8",
       "version_major": 2,
       "version_minor": 0
      },
      "text/plain": [
       "Predicting: 4317it [00:00, ?it/s]"
      ]
     },
     "metadata": {},
     "output_type": "display_data"
    },
    {
     "data": {
      "application/vnd.jupyter.widget-view+json": {
       "model_id": "e6adbeebc2a14574907c8199a722a030",
       "version_major": 2,
       "version_minor": 0
      },
      "text/plain": [
       "Predicting: 4317it [00:00, ?it/s]"
      ]
     },
     "metadata": {},
     "output_type": "display_data"
    },
    {
     "data": {
      "application/vnd.jupyter.widget-view+json": {
       "model_id": "2c38393e99b34cad869cdb5b21c9f283",
       "version_major": 2,
       "version_minor": 0
      },
      "text/plain": [
       "Predicting: 4317it [00:00, ?it/s]"
      ]
     },
     "metadata": {},
     "output_type": "display_data"
    },
    {
     "data": {
      "application/vnd.jupyter.widget-view+json": {
       "model_id": "751e7a74914043c2a6cb7a11a8800514",
       "version_major": 2,
       "version_minor": 0
      },
      "text/plain": [
       "Predicting: 4317it [00:00, ?it/s]"
      ]
     },
     "metadata": {},
     "output_type": "display_data"
    },
    {
     "data": {
      "application/vnd.jupyter.widget-view+json": {
       "model_id": "70a4e3b4478d4875ad8dd22e92774dbb",
       "version_major": 2,
       "version_minor": 0
      },
      "text/plain": [
       "Predicting: 4317it [00:00, ?it/s]"
      ]
     },
     "metadata": {},
     "output_type": "display_data"
    },
    {
     "data": {
      "application/vnd.jupyter.widget-view+json": {
       "model_id": "369885d215f140ba8f4d9f735771602a",
       "version_major": 2,
       "version_minor": 0
      },
      "text/plain": [
       "Predicting: 4317it [00:00, ?it/s]"
      ]
     },
     "metadata": {},
     "output_type": "display_data"
    },
    {
     "data": {
      "application/vnd.jupyter.widget-view+json": {
       "model_id": "e0fa644ca5764f31a3793618e4d9883a",
       "version_major": 2,
       "version_minor": 0
      },
      "text/plain": [
       "Predicting: 4317it [00:00, ?it/s]"
      ]
     },
     "metadata": {},
     "output_type": "display_data"
    },
    {
     "data": {
      "application/vnd.jupyter.widget-view+json": {
       "model_id": "5f8e3e8ea1a6479d943afa3f0e95da2f",
       "version_major": 2,
       "version_minor": 0
      },
      "text/plain": [
       "Predicting: 4317it [00:00, ?it/s]"
      ]
     },
     "metadata": {},
     "output_type": "display_data"
    },
    {
     "data": {
      "application/vnd.jupyter.widget-view+json": {
       "model_id": "a9d641e173ea4412bcec8ae770825ab4",
       "version_major": 2,
       "version_minor": 0
      },
      "text/plain": [
       "Predicting: 4317it [00:00, ?it/s]"
      ]
     },
     "metadata": {},
     "output_type": "display_data"
    },
    {
     "data": {
      "application/vnd.jupyter.widget-view+json": {
       "model_id": "b1f43f11a1b84638be6d5200d7a79222",
       "version_major": 2,
       "version_minor": 0
      },
      "text/plain": [
       "Predicting: 4317it [00:00, ?it/s]"
      ]
     },
     "metadata": {},
     "output_type": "display_data"
    },
    {
     "data": {
      "application/vnd.jupyter.widget-view+json": {
       "model_id": "df00c2ceeb564f12b47ea45518b6d116",
       "version_major": 2,
       "version_minor": 0
      },
      "text/plain": [
       "Predicting: 4317it [00:00, ?it/s]"
      ]
     },
     "metadata": {},
     "output_type": "display_data"
    },
    {
     "data": {
      "application/vnd.jupyter.widget-view+json": {
       "model_id": "765f1d24c172418bbf2fdb902ba383fc",
       "version_major": 2,
       "version_minor": 0
      },
      "text/plain": [
       "Predicting: 4317it [00:00, ?it/s]"
      ]
     },
     "metadata": {},
     "output_type": "display_data"
    },
    {
     "data": {
      "application/vnd.jupyter.widget-view+json": {
       "model_id": "fddce5fc23a246098e028b7bd84cf603",
       "version_major": 2,
       "version_minor": 0
      },
      "text/plain": [
       "Predicting: 4317it [00:00, ?it/s]"
      ]
     },
     "metadata": {},
     "output_type": "display_data"
    },
    {
     "data": {
      "application/vnd.jupyter.widget-view+json": {
       "model_id": "ca95113d75604afe9d5369c06ee021cb",
       "version_major": 2,
       "version_minor": 0
      },
      "text/plain": [
       "Predicting: 4317it [00:00, ?it/s]"
      ]
     },
     "metadata": {},
     "output_type": "display_data"
    },
    {
     "data": {
      "application/vnd.jupyter.widget-view+json": {
       "model_id": "92ba6b7e9a764b6ab1a3f3bda4b3736f",
       "version_major": 2,
       "version_minor": 0
      },
      "text/plain": [
       "Predicting: 4317it [00:00, ?it/s]"
      ]
     },
     "metadata": {},
     "output_type": "display_data"
    },
    {
     "data": {
      "application/vnd.jupyter.widget-view+json": {
       "model_id": "881a8c124d6c4e79a770cf093fbb8625",
       "version_major": 2,
       "version_minor": 0
      },
      "text/plain": [
       "Predicting: 4317it [00:00, ?it/s]"
      ]
     },
     "metadata": {},
     "output_type": "display_data"
    },
    {
     "data": {
      "application/vnd.jupyter.widget-view+json": {
       "model_id": "70048bf5e14540f68169e4144b9d46ea",
       "version_major": 2,
       "version_minor": 0
      },
      "text/plain": [
       "Predicting: 4317it [00:00, ?it/s]"
      ]
     },
     "metadata": {},
     "output_type": "display_data"
    },
    {
     "data": {
      "application/vnd.jupyter.widget-view+json": {
       "model_id": "7c230f37c26244b1b23f2a4b421c6d76",
       "version_major": 2,
       "version_minor": 0
      },
      "text/plain": [
       "Predicting: 4317it [00:00, ?it/s]"
      ]
     },
     "metadata": {},
     "output_type": "display_data"
    },
    {
     "data": {
      "application/vnd.jupyter.widget-view+json": {
       "model_id": "d6d84e05f02f4e54af7b76dc900e43d8",
       "version_major": 2,
       "version_minor": 0
      },
      "text/plain": [
       "Predicting: 4317it [00:00, ?it/s]"
      ]
     },
     "metadata": {},
     "output_type": "display_data"
    },
    {
     "data": {
      "application/vnd.jupyter.widget-view+json": {
       "model_id": "b69513ceee4d4ad7b88db844a14d22a9",
       "version_major": 2,
       "version_minor": 0
      },
      "text/plain": [
       "Predicting: 4317it [00:00, ?it/s]"
      ]
     },
     "metadata": {},
     "output_type": "display_data"
    },
    {
     "data": {
      "application/vnd.jupyter.widget-view+json": {
       "model_id": "cd98a4e64b7b41dab7346952a4ba4885",
       "version_major": 2,
       "version_minor": 0
      },
      "text/plain": [
       "Predicting: 4317it [00:00, ?it/s]"
      ]
     },
     "metadata": {},
     "output_type": "display_data"
    },
    {
     "data": {
      "application/vnd.jupyter.widget-view+json": {
       "model_id": "664be0a7eb3849b6b05f0a145dd8ec0e",
       "version_major": 2,
       "version_minor": 0
      },
      "text/plain": [
       "Predicting: 4317it [00:00, ?it/s]"
      ]
     },
     "metadata": {},
     "output_type": "display_data"
    },
    {
     "data": {
      "application/vnd.jupyter.widget-view+json": {
       "model_id": "fc27baf88734459d97f4fdaf52c56d6b",
       "version_major": 2,
       "version_minor": 0
      },
      "text/plain": [
       "Predicting: 4317it [00:00, ?it/s]"
      ]
     },
     "metadata": {},
     "output_type": "display_data"
    },
    {
     "data": {
      "application/vnd.jupyter.widget-view+json": {
       "model_id": "20bf79ce4b0246b090966397ae9d3c49",
       "version_major": 2,
       "version_minor": 0
      },
      "text/plain": [
       "Predicting: 4317it [00:00, ?it/s]"
      ]
     },
     "metadata": {},
     "output_type": "display_data"
    },
    {
     "data": {
      "application/vnd.jupyter.widget-view+json": {
       "model_id": "b9f0565d6ce74d799a065e28202dbdd1",
       "version_major": 2,
       "version_minor": 0
      },
      "text/plain": [
       "Predicting: 4317it [00:00, ?it/s]"
      ]
     },
     "metadata": {},
     "output_type": "display_data"
    },
    {
     "data": {
      "application/vnd.jupyter.widget-view+json": {
       "model_id": "fc339c871f0344fdb518c22c2c21909d",
       "version_major": 2,
       "version_minor": 0
      },
      "text/plain": [
       "Predicting: 4317it [00:00, ?it/s]"
      ]
     },
     "metadata": {},
     "output_type": "display_data"
    },
    {
     "data": {
      "application/vnd.jupyter.widget-view+json": {
       "model_id": "9bc81914a6564f019a05c5806b369616",
       "version_major": 2,
       "version_minor": 0
      },
      "text/plain": [
       "Predicting: 4317it [00:00, ?it/s]"
      ]
     },
     "metadata": {},
     "output_type": "display_data"
    },
    {
     "data": {
      "application/vnd.jupyter.widget-view+json": {
       "model_id": "09911eda6f4a42f482a55470b84e6c82",
       "version_major": 2,
       "version_minor": 0
      },
      "text/plain": [
       "Predicting: 4317it [00:00, ?it/s]"
      ]
     },
     "metadata": {},
     "output_type": "display_data"
    },
    {
     "data": {
      "application/vnd.jupyter.widget-view+json": {
       "model_id": "a97a19bf76c840b6a20d9cbf66004f88",
       "version_major": 2,
       "version_minor": 0
      },
      "text/plain": [
       "Predicting: 4317it [00:00, ?it/s]"
      ]
     },
     "metadata": {},
     "output_type": "display_data"
    },
    {
     "data": {
      "application/vnd.jupyter.widget-view+json": {
       "model_id": "6e3858f917364283819ab83f81170935",
       "version_major": 2,
       "version_minor": 0
      },
      "text/plain": [
       "Predicting: 4317it [00:00, ?it/s]"
      ]
     },
     "metadata": {},
     "output_type": "display_data"
    },
    {
     "data": {
      "application/vnd.jupyter.widget-view+json": {
       "model_id": "a8efa047a0f9414892e0e2cfbc99ad83",
       "version_major": 2,
       "version_minor": 0
      },
      "text/plain": [
       "Predicting: 4317it [00:00, ?it/s]"
      ]
     },
     "metadata": {},
     "output_type": "display_data"
    },
    {
     "data": {
      "application/vnd.jupyter.widget-view+json": {
       "model_id": "233c8a045c964a31ad2cde18fd2b9eb3",
       "version_major": 2,
       "version_minor": 0
      },
      "text/plain": [
       "Predicting: 4317it [00:00, ?it/s]"
      ]
     },
     "metadata": {},
     "output_type": "display_data"
    },
    {
     "data": {
      "application/vnd.jupyter.widget-view+json": {
       "model_id": "018ef7d125ca4a14b836946cf5149eae",
       "version_major": 2,
       "version_minor": 0
      },
      "text/plain": [
       "Predicting: 4317it [00:00, ?it/s]"
      ]
     },
     "metadata": {},
     "output_type": "display_data"
    },
    {
     "data": {
      "application/vnd.jupyter.widget-view+json": {
       "model_id": "9ceeec8b9f80497ea2e8c4120db91f00",
       "version_major": 2,
       "version_minor": 0
      },
      "text/plain": [
       "Predicting: 4317it [00:00, ?it/s]"
      ]
     },
     "metadata": {},
     "output_type": "display_data"
    },
    {
     "data": {
      "application/vnd.jupyter.widget-view+json": {
       "model_id": "07980dabb24a4910b98d82c1d968ea47",
       "version_major": 2,
       "version_minor": 0
      },
      "text/plain": [
       "Predicting: 4317it [00:00, ?it/s]"
      ]
     },
     "metadata": {},
     "output_type": "display_data"
    },
    {
     "data": {
      "application/vnd.jupyter.widget-view+json": {
       "model_id": "e22977640dc5407a9e8f20d286a24b3a",
       "version_major": 2,
       "version_minor": 0
      },
      "text/plain": [
       "Predicting: 4317it [00:00, ?it/s]"
      ]
     },
     "metadata": {},
     "output_type": "display_data"
    },
    {
     "data": {
      "application/vnd.jupyter.widget-view+json": {
       "model_id": "0518e71a60f54dd2b478c3e687d09fa0",
       "version_major": 2,
       "version_minor": 0
      },
      "text/plain": [
       "Predicting: 4317it [00:00, ?it/s]"
      ]
     },
     "metadata": {},
     "output_type": "display_data"
    },
    {
     "data": {
      "application/vnd.jupyter.widget-view+json": {
       "model_id": "9acb75d0b2f945ff89938a90864b5bca",
       "version_major": 2,
       "version_minor": 0
      },
      "text/plain": [
       "Predicting: 4317it [00:00, ?it/s]"
      ]
     },
     "metadata": {},
     "output_type": "display_data"
    },
    {
     "data": {
      "application/vnd.jupyter.widget-view+json": {
       "model_id": "795ecb3df8c54a3f9cd135942a3a8d88",
       "version_major": 2,
       "version_minor": 0
      },
      "text/plain": [
       "Predicting: 4317it [00:00, ?it/s]"
      ]
     },
     "metadata": {},
     "output_type": "display_data"
    },
    {
     "data": {
      "application/vnd.jupyter.widget-view+json": {
       "model_id": "29fb5c2ff4e14913aa7a452e96fb668a",
       "version_major": 2,
       "version_minor": 0
      },
      "text/plain": [
       "Predicting: 4317it [00:00, ?it/s]"
      ]
     },
     "metadata": {},
     "output_type": "display_data"
    },
    {
     "data": {
      "application/vnd.jupyter.widget-view+json": {
       "model_id": "fcc2f6d7e489443ab995c6b69576af49",
       "version_major": 2,
       "version_minor": 0
      },
      "text/plain": [
       "Predicting: 4317it [00:00, ?it/s]"
      ]
     },
     "metadata": {},
     "output_type": "display_data"
    },
    {
     "data": {
      "application/vnd.jupyter.widget-view+json": {
       "model_id": "d056d678e8d042d594fef0485d86191a",
       "version_major": 2,
       "version_minor": 0
      },
      "text/plain": [
       "Predicting: 4317it [00:00, ?it/s]"
      ]
     },
     "metadata": {},
     "output_type": "display_data"
    },
    {
     "data": {
      "application/vnd.jupyter.widget-view+json": {
       "model_id": "28b90df0ae274f0095e097b9cbc952c9",
       "version_major": 2,
       "version_minor": 0
      },
      "text/plain": [
       "Predicting: 4317it [00:00, ?it/s]"
      ]
     },
     "metadata": {},
     "output_type": "display_data"
    },
    {
     "data": {
      "application/vnd.jupyter.widget-view+json": {
       "model_id": "2a0413d0602543b8af8cbefc0117de3b",
       "version_major": 2,
       "version_minor": 0
      },
      "text/plain": [
       "Predicting: 4317it [00:00, ?it/s]"
      ]
     },
     "metadata": {},
     "output_type": "display_data"
    },
    {
     "data": {
      "application/vnd.jupyter.widget-view+json": {
       "model_id": "4785b9925fcd45678da8000ce0f0ddd9",
       "version_major": 2,
       "version_minor": 0
      },
      "text/plain": [
       "Predicting: 4317it [00:00, ?it/s]"
      ]
     },
     "metadata": {},
     "output_type": "display_data"
    },
    {
     "data": {
      "application/vnd.jupyter.widget-view+json": {
       "model_id": "deae8c127cf84a2094be388d1e580208",
       "version_major": 2,
       "version_minor": 0
      },
      "text/plain": [
       "Predicting: 4317it [00:00, ?it/s]"
      ]
     },
     "metadata": {},
     "output_type": "display_data"
    },
    {
     "data": {
      "application/vnd.jupyter.widget-view+json": {
       "model_id": "62c5a4bdebec4a3a8f082dc23ae53d22",
       "version_major": 2,
       "version_minor": 0
      },
      "text/plain": [
       "Predicting: 4317it [00:00, ?it/s]"
      ]
     },
     "metadata": {},
     "output_type": "display_data"
    },
    {
     "data": {
      "application/vnd.jupyter.widget-view+json": {
       "model_id": "28c440ab5d914ce8a1122e465ea65e71",
       "version_major": 2,
       "version_minor": 0
      },
      "text/plain": [
       "Predicting: 4317it [00:00, ?it/s]"
      ]
     },
     "metadata": {},
     "output_type": "display_data"
    },
    {
     "data": {
      "application/vnd.jupyter.widget-view+json": {
       "model_id": "73058e02f5404da2b2cc41fc844094a2",
       "version_major": 2,
       "version_minor": 0
      },
      "text/plain": [
       "Predicting: 4317it [00:00, ?it/s]"
      ]
     },
     "metadata": {},
     "output_type": "display_data"
    },
    {
     "data": {
      "application/vnd.jupyter.widget-view+json": {
       "model_id": "859d507228924559ae602633aa6b3dd2",
       "version_major": 2,
       "version_minor": 0
      },
      "text/plain": [
       "Predicting: 4317it [00:00, ?it/s]"
      ]
     },
     "metadata": {},
     "output_type": "display_data"
    },
    {
     "data": {
      "application/vnd.jupyter.widget-view+json": {
       "model_id": "193415ce24fd4086b406a60dc29ac5fc",
       "version_major": 2,
       "version_minor": 0
      },
      "text/plain": [
       "Predicting: 4317it [00:00, ?it/s]"
      ]
     },
     "metadata": {},
     "output_type": "display_data"
    },
    {
     "data": {
      "application/vnd.jupyter.widget-view+json": {
       "model_id": "adbdd3041cdd4eb6b6acae1e55c84267",
       "version_major": 2,
       "version_minor": 0
      },
      "text/plain": [
       "Predicting: 4317it [00:00, ?it/s]"
      ]
     },
     "metadata": {},
     "output_type": "display_data"
    },
    {
     "data": {
      "application/vnd.jupyter.widget-view+json": {
       "model_id": "40d34741f4e84c8885c17b8593fcc2c0",
       "version_major": 2,
       "version_minor": 0
      },
      "text/plain": [
       "Predicting: 4317it [00:00, ?it/s]"
      ]
     },
     "metadata": {},
     "output_type": "display_data"
    },
    {
     "data": {
      "application/vnd.jupyter.widget-view+json": {
       "model_id": "1edc463963344eadbb1c78b5d0692b61",
       "version_major": 2,
       "version_minor": 0
      },
      "text/plain": [
       "Predicting: 4317it [00:00, ?it/s]"
      ]
     },
     "metadata": {},
     "output_type": "display_data"
    },
    {
     "data": {
      "application/vnd.jupyter.widget-view+json": {
       "model_id": "0b534f9eae8448e992d130730d1f0596",
       "version_major": 2,
       "version_minor": 0
      },
      "text/plain": [
       "Predicting: 4317it [00:00, ?it/s]"
      ]
     },
     "metadata": {},
     "output_type": "display_data"
    },
    {
     "data": {
      "application/vnd.jupyter.widget-view+json": {
       "model_id": "68706b938df04f0381b1d697a91fba22",
       "version_major": 2,
       "version_minor": 0
      },
      "text/plain": [
       "Predicting: 4317it [00:00, ?it/s]"
      ]
     },
     "metadata": {},
     "output_type": "display_data"
    },
    {
     "data": {
      "application/vnd.jupyter.widget-view+json": {
       "model_id": "00c07301aee54cd5a413a60f4e4ab688",
       "version_major": 2,
       "version_minor": 0
      },
      "text/plain": [
       "Predicting: 4317it [00:00, ?it/s]"
      ]
     },
     "metadata": {},
     "output_type": "display_data"
    },
    {
     "data": {
      "application/vnd.jupyter.widget-view+json": {
       "model_id": "1bd24e0aee25473a8db41989268e31a3",
       "version_major": 2,
       "version_minor": 0
      },
      "text/plain": [
       "Predicting: 4317it [00:00, ?it/s]"
      ]
     },
     "metadata": {},
     "output_type": "display_data"
    },
    {
     "data": {
      "application/vnd.jupyter.widget-view+json": {
       "model_id": "e6b2c6ce963a4087abc2321f58b60b2e",
       "version_major": 2,
       "version_minor": 0
      },
      "text/plain": [
       "Predicting: 4317it [00:00, ?it/s]"
      ]
     },
     "metadata": {},
     "output_type": "display_data"
    },
    {
     "data": {
      "application/vnd.jupyter.widget-view+json": {
       "model_id": "7579156191b841f8a771002c0f5a3800",
       "version_major": 2,
       "version_minor": 0
      },
      "text/plain": [
       "Predicting: 4317it [00:00, ?it/s]"
      ]
     },
     "metadata": {},
     "output_type": "display_data"
    },
    {
     "data": {
      "application/vnd.jupyter.widget-view+json": {
       "model_id": "062a022de879422da9360f348ab5e049",
       "version_major": 2,
       "version_minor": 0
      },
      "text/plain": [
       "Predicting: 4317it [00:00, ?it/s]"
      ]
     },
     "metadata": {},
     "output_type": "display_data"
    },
    {
     "data": {
      "application/vnd.jupyter.widget-view+json": {
       "model_id": "cbcbda7ba00846f1bf0e81cda2dca266",
       "version_major": 2,
       "version_minor": 0
      },
      "text/plain": [
       "Predicting: 4317it [00:00, ?it/s]"
      ]
     },
     "metadata": {},
     "output_type": "display_data"
    },
    {
     "data": {
      "application/vnd.jupyter.widget-view+json": {
       "model_id": "d3590e0340244273a6c8e25b92247e70",
       "version_major": 2,
       "version_minor": 0
      },
      "text/plain": [
       "Predicting: 4317it [00:00, ?it/s]"
      ]
     },
     "metadata": {},
     "output_type": "display_data"
    },
    {
     "data": {
      "application/vnd.jupyter.widget-view+json": {
       "model_id": "e32ea695ba6b4d178227a54760729410",
       "version_major": 2,
       "version_minor": 0
      },
      "text/plain": [
       "Predicting: 4317it [00:00, ?it/s]"
      ]
     },
     "metadata": {},
     "output_type": "display_data"
    },
    {
     "data": {
      "application/vnd.jupyter.widget-view+json": {
       "model_id": "65f9aaeab0bd43d6a97c661769b0cb6a",
       "version_major": 2,
       "version_minor": 0
      },
      "text/plain": [
       "Predicting: 4317it [00:00, ?it/s]"
      ]
     },
     "metadata": {},
     "output_type": "display_data"
    },
    {
     "data": {
      "application/vnd.jupyter.widget-view+json": {
       "model_id": "a1a3bcfe80f54000a1f70ed23f4bb0f2",
       "version_major": 2,
       "version_minor": 0
      },
      "text/plain": [
       "Predicting: 4317it [00:00, ?it/s]"
      ]
     },
     "metadata": {},
     "output_type": "display_data"
    },
    {
     "data": {
      "application/vnd.jupyter.widget-view+json": {
       "model_id": "0cdad51868224405a6740f9cebded96a",
       "version_major": 2,
       "version_minor": 0
      },
      "text/plain": [
       "Predicting: 4317it [00:00, ?it/s]"
      ]
     },
     "metadata": {},
     "output_type": "display_data"
    },
    {
     "data": {
      "application/vnd.jupyter.widget-view+json": {
       "model_id": "4e5fc0eee5824232ae11e7ffd6d57a73",
       "version_major": 2,
       "version_minor": 0
      },
      "text/plain": [
       "Predicting: 4317it [00:00, ?it/s]"
      ]
     },
     "metadata": {},
     "output_type": "display_data"
    },
    {
     "data": {
      "application/vnd.jupyter.widget-view+json": {
       "model_id": "8a0cac0704c5476ebefb183a3b75fddf",
       "version_major": 2,
       "version_minor": 0
      },
      "text/plain": [
       "Predicting: 4317it [00:00, ?it/s]"
      ]
     },
     "metadata": {},
     "output_type": "display_data"
    },
    {
     "data": {
      "application/vnd.jupyter.widget-view+json": {
       "model_id": "75757eac2546493e889c59d50162b624",
       "version_major": 2,
       "version_minor": 0
      },
      "text/plain": [
       "Predicting: 4317it [00:00, ?it/s]"
      ]
     },
     "metadata": {},
     "output_type": "display_data"
    },
    {
     "data": {
      "application/vnd.jupyter.widget-view+json": {
       "model_id": "a92fca0e07ff4562bbea2ff39445f168",
       "version_major": 2,
       "version_minor": 0
      },
      "text/plain": [
       "Predicting: 4317it [00:00, ?it/s]"
      ]
     },
     "metadata": {},
     "output_type": "display_data"
    },
    {
     "data": {
      "application/vnd.jupyter.widget-view+json": {
       "model_id": "0801b803441a436598b82228f095f2d9",
       "version_major": 2,
       "version_minor": 0
      },
      "text/plain": [
       "Predicting: 4317it [00:00, ?it/s]"
      ]
     },
     "metadata": {},
     "output_type": "display_data"
    },
    {
     "data": {
      "application/vnd.jupyter.widget-view+json": {
       "model_id": "789dcbcad15a4c278acd14418ad8e1b6",
       "version_major": 2,
       "version_minor": 0
      },
      "text/plain": [
       "Predicting: 4317it [00:00, ?it/s]"
      ]
     },
     "metadata": {},
     "output_type": "display_data"
    },
    {
     "data": {
      "application/vnd.jupyter.widget-view+json": {
       "model_id": "63744dcd6bcd47a09181c631e7726e1a",
       "version_major": 2,
       "version_minor": 0
      },
      "text/plain": [
       "Predicting: 4317it [00:00, ?it/s]"
      ]
     },
     "metadata": {},
     "output_type": "display_data"
    },
    {
     "data": {
      "application/vnd.jupyter.widget-view+json": {
       "model_id": "b2812d786d64453a85d23169ef06b94c",
       "version_major": 2,
       "version_minor": 0
      },
      "text/plain": [
       "Predicting: 4317it [00:00, ?it/s]"
      ]
     },
     "metadata": {},
     "output_type": "display_data"
    },
    {
     "data": {
      "application/vnd.jupyter.widget-view+json": {
       "model_id": "2de651864b3d48038ddd59eaac8a4be9",
       "version_major": 2,
       "version_minor": 0
      },
      "text/plain": [
       "Predicting: 4317it [00:00, ?it/s]"
      ]
     },
     "metadata": {},
     "output_type": "display_data"
    },
    {
     "data": {
      "application/vnd.jupyter.widget-view+json": {
       "model_id": "fc781725d6de4f2094d9f9f3c4c1883a",
       "version_major": 2,
       "version_minor": 0
      },
      "text/plain": [
       "Predicting: 4317it [00:00, ?it/s]"
      ]
     },
     "metadata": {},
     "output_type": "display_data"
    },
    {
     "data": {
      "application/vnd.jupyter.widget-view+json": {
       "model_id": "95a5439720394bb4b29d9f895e7cad16",
       "version_major": 2,
       "version_minor": 0
      },
      "text/plain": [
       "Predicting: 4317it [00:00, ?it/s]"
      ]
     },
     "metadata": {},
     "output_type": "display_data"
    },
    {
     "data": {
      "application/vnd.jupyter.widget-view+json": {
       "model_id": "03d009fcc7674a08888a79e9c301f562",
       "version_major": 2,
       "version_minor": 0
      },
      "text/plain": [
       "Predicting: 4317it [00:00, ?it/s]"
      ]
     },
     "metadata": {},
     "output_type": "display_data"
    },
    {
     "data": {
      "application/vnd.jupyter.widget-view+json": {
       "model_id": "c809183bf38740bd813cbb37cb9d24b1",
       "version_major": 2,
       "version_minor": 0
      },
      "text/plain": [
       "Predicting: 4317it [00:00, ?it/s]"
      ]
     },
     "metadata": {},
     "output_type": "display_data"
    },
    {
     "data": {
      "application/vnd.jupyter.widget-view+json": {
       "model_id": "dc0b7f6ab7324120b61955c76615aa6a",
       "version_major": 2,
       "version_minor": 0
      },
      "text/plain": [
       "Predicting: 4317it [00:00, ?it/s]"
      ]
     },
     "metadata": {},
     "output_type": "display_data"
    },
    {
     "data": {
      "application/vnd.jupyter.widget-view+json": {
       "model_id": "94249f7d415b462d8a6faf145295b27c",
       "version_major": 2,
       "version_minor": 0
      },
      "text/plain": [
       "Predicting: 4317it [00:00, ?it/s]"
      ]
     },
     "metadata": {},
     "output_type": "display_data"
    },
    {
     "data": {
      "application/vnd.jupyter.widget-view+json": {
       "model_id": "aaa8ab4a88f0450eaca96ed1c7f78e1f",
       "version_major": 2,
       "version_minor": 0
      },
      "text/plain": [
       "Predicting: 4317it [00:00, ?it/s]"
      ]
     },
     "metadata": {},
     "output_type": "display_data"
    },
    {
     "data": {
      "application/vnd.jupyter.widget-view+json": {
       "model_id": "6cc2db820b7845c7ae77c12f3179ec8e",
       "version_major": 2,
       "version_minor": 0
      },
      "text/plain": [
       "Predicting: 4317it [00:00, ?it/s]"
      ]
     },
     "metadata": {},
     "output_type": "display_data"
    },
    {
     "data": {
      "application/vnd.jupyter.widget-view+json": {
       "model_id": "41ede68122bd4325b8fa0448f5e07b73",
       "version_major": 2,
       "version_minor": 0
      },
      "text/plain": [
       "Predicting: 4317it [00:00, ?it/s]"
      ]
     },
     "metadata": {},
     "output_type": "display_data"
    },
    {
     "data": {
      "application/vnd.jupyter.widget-view+json": {
       "model_id": "9e890796b181456982faf13432cba891",
       "version_major": 2,
       "version_minor": 0
      },
      "text/plain": [
       "Predicting: 4317it [00:00, ?it/s]"
      ]
     },
     "metadata": {},
     "output_type": "display_data"
    },
    {
     "data": {
      "application/vnd.jupyter.widget-view+json": {
       "model_id": "c946545316d046c39bee2f7868aa6173",
       "version_major": 2,
       "version_minor": 0
      },
      "text/plain": [
       "Predicting: 4317it [00:00, ?it/s]"
      ]
     },
     "metadata": {},
     "output_type": "display_data"
    },
    {
     "data": {
      "application/vnd.jupyter.widget-view+json": {
       "model_id": "d29d9476b006480c963160eca38225cf",
       "version_major": 2,
       "version_minor": 0
      },
      "text/plain": [
       "Predicting: 4317it [00:00, ?it/s]"
      ]
     },
     "metadata": {},
     "output_type": "display_data"
    },
    {
     "data": {
      "application/vnd.jupyter.widget-view+json": {
       "model_id": "dd177418eb9e457aadbd76e7d72006dd",
       "version_major": 2,
       "version_minor": 0
      },
      "text/plain": [
       "Predicting: 4317it [00:00, ?it/s]"
      ]
     },
     "metadata": {},
     "output_type": "display_data"
    },
    {
     "data": {
      "application/vnd.jupyter.widget-view+json": {
       "model_id": "8e5c368c07fc4862bc417baf0b67f578",
       "version_major": 2,
       "version_minor": 0
      },
      "text/plain": [
       "Predicting: 4317it [00:00, ?it/s]"
      ]
     },
     "metadata": {},
     "output_type": "display_data"
    },
    {
     "data": {
      "application/vnd.jupyter.widget-view+json": {
       "model_id": "4a1136ed85464505b41072e29bd03219",
       "version_major": 2,
       "version_minor": 0
      },
      "text/plain": [
       "Predicting: 4317it [00:00, ?it/s]"
      ]
     },
     "metadata": {},
     "output_type": "display_data"
    },
    {
     "data": {
      "application/vnd.jupyter.widget-view+json": {
       "model_id": "e1824a0b32074db1afdb747a90657170",
       "version_major": 2,
       "version_minor": 0
      },
      "text/plain": [
       "Predicting: 4317it [00:00, ?it/s]"
      ]
     },
     "metadata": {},
     "output_type": "display_data"
    },
    {
     "data": {
      "application/vnd.jupyter.widget-view+json": {
       "model_id": "ce104fb06a404e4dbdbaeef0e3ebba03",
       "version_major": 2,
       "version_minor": 0
      },
      "text/plain": [
       "Predicting: 4317it [00:00, ?it/s]"
      ]
     },
     "metadata": {},
     "output_type": "display_data"
    },
    {
     "data": {
      "application/vnd.jupyter.widget-view+json": {
       "model_id": "3f184e3ffd2e45468672f6ee58d00dfb",
       "version_major": 2,
       "version_minor": 0
      },
      "text/plain": [
       "Predicting: 4317it [00:00, ?it/s]"
      ]
     },
     "metadata": {},
     "output_type": "display_data"
    },
    {
     "data": {
      "application/vnd.jupyter.widget-view+json": {
       "model_id": "fbf256bcaa274abaaafc4858f170e008",
       "version_major": 2,
       "version_minor": 0
      },
      "text/plain": [
       "Predicting: 4317it [00:00, ?it/s]"
      ]
     },
     "metadata": {},
     "output_type": "display_data"
    },
    {
     "data": {
      "application/vnd.jupyter.widget-view+json": {
       "model_id": "fa02e252e15a4a00a5e1ae52f1ad0ad0",
       "version_major": 2,
       "version_minor": 0
      },
      "text/plain": [
       "Predicting: 4317it [00:00, ?it/s]"
      ]
     },
     "metadata": {},
     "output_type": "display_data"
    },
    {
     "data": {
      "application/vnd.jupyter.widget-view+json": {
       "model_id": "a19540d7c4414b6ab01af79f3aa9676f",
       "version_major": 2,
       "version_minor": 0
      },
      "text/plain": [
       "Predicting: 4317it [00:00, ?it/s]"
      ]
     },
     "metadata": {},
     "output_type": "display_data"
    },
    {
     "data": {
      "application/vnd.jupyter.widget-view+json": {
       "model_id": "b6cf49a2c5da4c44b6de0d97a818c231",
       "version_major": 2,
       "version_minor": 0
      },
      "text/plain": [
       "Predicting: 4317it [00:00, ?it/s]"
      ]
     },
     "metadata": {},
     "output_type": "display_data"
    },
    {
     "data": {
      "application/vnd.jupyter.widget-view+json": {
       "model_id": "c8bb2e0b1db444ac9dfeff8005b94c45",
       "version_major": 2,
       "version_minor": 0
      },
      "text/plain": [
       "Predicting: 4317it [00:00, ?it/s]"
      ]
     },
     "metadata": {},
     "output_type": "display_data"
    },
    {
     "data": {
      "application/vnd.jupyter.widget-view+json": {
       "model_id": "f828562de6364618a1ac5e60ecf558a0",
       "version_major": 2,
       "version_minor": 0
      },
      "text/plain": [
       "Predicting: 4317it [00:00, ?it/s]"
      ]
     },
     "metadata": {},
     "output_type": "display_data"
    },
    {
     "data": {
      "application/vnd.jupyter.widget-view+json": {
       "model_id": "fe12f5702fa04f78b3ffb48ee969d00b",
       "version_major": 2,
       "version_minor": 0
      },
      "text/plain": [
       "Predicting: 4317it [00:00, ?it/s]"
      ]
     },
     "metadata": {},
     "output_type": "display_data"
    },
    {
     "data": {
      "application/vnd.jupyter.widget-view+json": {
       "model_id": "690c08cdc3204dd79020142aaaaca60b",
       "version_major": 2,
       "version_minor": 0
      },
      "text/plain": [
       "Predicting: 4317it [00:00, ?it/s]"
      ]
     },
     "metadata": {},
     "output_type": "display_data"
    },
    {
     "data": {
      "application/vnd.jupyter.widget-view+json": {
       "model_id": "63c8857028ca4d578479617974d71da7",
       "version_major": 2,
       "version_minor": 0
      },
      "text/plain": [
       "Predicting: 4317it [00:00, ?it/s]"
      ]
     },
     "metadata": {},
     "output_type": "display_data"
    },
    {
     "data": {
      "application/vnd.jupyter.widget-view+json": {
       "model_id": "a01a9df3076441d7b7ec911af2551aa4",
       "version_major": 2,
       "version_minor": 0
      },
      "text/plain": [
       "Predicting: 4317it [00:00, ?it/s]"
      ]
     },
     "metadata": {},
     "output_type": "display_data"
    },
    {
     "data": {
      "application/vnd.jupyter.widget-view+json": {
       "model_id": "2202acee81a5446aae0d2eec3621be45",
       "version_major": 2,
       "version_minor": 0
      },
      "text/plain": [
       "Predicting: 4317it [00:00, ?it/s]"
      ]
     },
     "metadata": {},
     "output_type": "display_data"
    },
    {
     "data": {
      "application/vnd.jupyter.widget-view+json": {
       "model_id": "67006599b1184ba9a6927d95a7ef32d7",
       "version_major": 2,
       "version_minor": 0
      },
      "text/plain": [
       "Predicting: 4317it [00:00, ?it/s]"
      ]
     },
     "metadata": {},
     "output_type": "display_data"
    },
    {
     "data": {
      "application/vnd.jupyter.widget-view+json": {
       "model_id": "fe4c7967c3f949a9b4ecd811a32076be",
       "version_major": 2,
       "version_minor": 0
      },
      "text/plain": [
       "Predicting: 4317it [00:00, ?it/s]"
      ]
     },
     "metadata": {},
     "output_type": "display_data"
    },
    {
     "data": {
      "application/vnd.jupyter.widget-view+json": {
       "model_id": "5eacb40872904f4eae43f0741430faa5",
       "version_major": 2,
       "version_minor": 0
      },
      "text/plain": [
       "Predicting: 4317it [00:00, ?it/s]"
      ]
     },
     "metadata": {},
     "output_type": "display_data"
    },
    {
     "data": {
      "application/vnd.jupyter.widget-view+json": {
       "model_id": "983082c466dc451b8c24b0ad68d461c5",
       "version_major": 2,
       "version_minor": 0
      },
      "text/plain": [
       "Predicting: 4317it [00:00, ?it/s]"
      ]
     },
     "metadata": {},
     "output_type": "display_data"
    },
    {
     "data": {
      "application/vnd.jupyter.widget-view+json": {
       "model_id": "d15c8c61c2574361badf01357af50684",
       "version_major": 2,
       "version_minor": 0
      },
      "text/plain": [
       "Predicting: 4317it [00:00, ?it/s]"
      ]
     },
     "metadata": {},
     "output_type": "display_data"
    },
    {
     "data": {
      "application/vnd.jupyter.widget-view+json": {
       "model_id": "c4b8e1852fe948bb9d40d760f678fcbd",
       "version_major": 2,
       "version_minor": 0
      },
      "text/plain": [
       "Predicting: 4317it [00:00, ?it/s]"
      ]
     },
     "metadata": {},
     "output_type": "display_data"
    },
    {
     "data": {
      "application/vnd.jupyter.widget-view+json": {
       "model_id": "8da06a68996b48b49c25da334d895382",
       "version_major": 2,
       "version_minor": 0
      },
      "text/plain": [
       "Predicting: 4317it [00:00, ?it/s]"
      ]
     },
     "metadata": {},
     "output_type": "display_data"
    },
    {
     "data": {
      "application/vnd.jupyter.widget-view+json": {
       "model_id": "62c9cb4706404cd98868958b060879b1",
       "version_major": 2,
       "version_minor": 0
      },
      "text/plain": [
       "Predicting: 4317it [00:00, ?it/s]"
      ]
     },
     "metadata": {},
     "output_type": "display_data"
    },
    {
     "data": {
      "application/vnd.jupyter.widget-view+json": {
       "model_id": "fad2dd8c95ef4eed84bdb4791e8d7973",
       "version_major": 2,
       "version_minor": 0
      },
      "text/plain": [
       "Predicting: 4317it [00:00, ?it/s]"
      ]
     },
     "metadata": {},
     "output_type": "display_data"
    },
    {
     "data": {
      "application/vnd.jupyter.widget-view+json": {
       "model_id": "4d1f8c70838b4148b1abb7796ddfb216",
       "version_major": 2,
       "version_minor": 0
      },
      "text/plain": [
       "Predicting: 4317it [00:00, ?it/s]"
      ]
     },
     "metadata": {},
     "output_type": "display_data"
    },
    {
     "data": {
      "application/vnd.jupyter.widget-view+json": {
       "model_id": "2383c21ddedf48af8e9b48e4baf70048",
       "version_major": 2,
       "version_minor": 0
      },
      "text/plain": [
       "Predicting: 4317it [00:00, ?it/s]"
      ]
     },
     "metadata": {},
     "output_type": "display_data"
    },
    {
     "data": {
      "application/vnd.jupyter.widget-view+json": {
       "model_id": "4ed995b22eb74ea890fbd6bbff36231b",
       "version_major": 2,
       "version_minor": 0
      },
      "text/plain": [
       "Predicting: 4317it [00:00, ?it/s]"
      ]
     },
     "metadata": {},
     "output_type": "display_data"
    },
    {
     "data": {
      "application/vnd.jupyter.widget-view+json": {
       "model_id": "575c067d0a364401ae6dd403859d1929",
       "version_major": 2,
       "version_minor": 0
      },
      "text/plain": [
       "Predicting: 4317it [00:00, ?it/s]"
      ]
     },
     "metadata": {},
     "output_type": "display_data"
    },
    {
     "data": {
      "application/vnd.jupyter.widget-view+json": {
       "model_id": "ec3dede0b8ee420695cde61b11fd9751",
       "version_major": 2,
       "version_minor": 0
      },
      "text/plain": [
       "Predicting: 4317it [00:00, ?it/s]"
      ]
     },
     "metadata": {},
     "output_type": "display_data"
    },
    {
     "data": {
      "application/vnd.jupyter.widget-view+json": {
       "model_id": "df0ffee0398e469e81c24cc691ab75bb",
       "version_major": 2,
       "version_minor": 0
      },
      "text/plain": [
       "Predicting: 4317it [00:00, ?it/s]"
      ]
     },
     "metadata": {},
     "output_type": "display_data"
    },
    {
     "data": {
      "application/vnd.jupyter.widget-view+json": {
       "model_id": "0085ac0678b84942834c7a7f16529644",
       "version_major": 2,
       "version_minor": 0
      },
      "text/plain": [
       "Predicting: 4317it [00:00, ?it/s]"
      ]
     },
     "metadata": {},
     "output_type": "display_data"
    },
    {
     "data": {
      "application/vnd.jupyter.widget-view+json": {
       "model_id": "1acb49688a9a4e55ad6b4588d01165d0",
       "version_major": 2,
       "version_minor": 0
      },
      "text/plain": [
       "Predicting: 4317it [00:00, ?it/s]"
      ]
     },
     "metadata": {},
     "output_type": "display_data"
    },
    {
     "data": {
      "application/vnd.jupyter.widget-view+json": {
       "model_id": "841d558db77849d9ae096ff24cdbf4a9",
       "version_major": 2,
       "version_minor": 0
      },
      "text/plain": [
       "Predicting: 4317it [00:00, ?it/s]"
      ]
     },
     "metadata": {},
     "output_type": "display_data"
    },
    {
     "data": {
      "application/vnd.jupyter.widget-view+json": {
       "model_id": "256a675c7542412fbf463a4ab50361f5",
       "version_major": 2,
       "version_minor": 0
      },
      "text/plain": [
       "Predicting: 4317it [00:00, ?it/s]"
      ]
     },
     "metadata": {},
     "output_type": "display_data"
    },
    {
     "data": {
      "application/vnd.jupyter.widget-view+json": {
       "model_id": "6a1dddcbe9f94f799338394cea2aa406",
       "version_major": 2,
       "version_minor": 0
      },
      "text/plain": [
       "Predicting: 4317it [00:00, ?it/s]"
      ]
     },
     "metadata": {},
     "output_type": "display_data"
    },
    {
     "data": {
      "application/vnd.jupyter.widget-view+json": {
       "model_id": "a98502a2bd6940718e1ae60793eab8ce",
       "version_major": 2,
       "version_minor": 0
      },
      "text/plain": [
       "Predicting: 4317it [00:00, ?it/s]"
      ]
     },
     "metadata": {},
     "output_type": "display_data"
    },
    {
     "data": {
      "application/vnd.jupyter.widget-view+json": {
       "model_id": "20b3ee5e9fc340ba9d6ecce2ba10142c",
       "version_major": 2,
       "version_minor": 0
      },
      "text/plain": [
       "Predicting: 4317it [00:00, ?it/s]"
      ]
     },
     "metadata": {},
     "output_type": "display_data"
    },
    {
     "data": {
      "application/vnd.jupyter.widget-view+json": {
       "model_id": "5286e6963d49454db7a0edbd591df184",
       "version_major": 2,
       "version_minor": 0
      },
      "text/plain": [
       "Predicting: 4317it [00:00, ?it/s]"
      ]
     },
     "metadata": {},
     "output_type": "display_data"
    },
    {
     "data": {
      "application/vnd.jupyter.widget-view+json": {
       "model_id": "853b06ee89244c299d97b51476c24c40",
       "version_major": 2,
       "version_minor": 0
      },
      "text/plain": [
       "Predicting: 4317it [00:00, ?it/s]"
      ]
     },
     "metadata": {},
     "output_type": "display_data"
    },
    {
     "data": {
      "application/vnd.jupyter.widget-view+json": {
       "model_id": "18f4a93d404644a8b81fa63abe0beacf",
       "version_major": 2,
       "version_minor": 0
      },
      "text/plain": [
       "Predicting: 4317it [00:00, ?it/s]"
      ]
     },
     "metadata": {},
     "output_type": "display_data"
    },
    {
     "data": {
      "application/vnd.jupyter.widget-view+json": {
       "model_id": "74db3ebe03544e519cb4b00865580f1c",
       "version_major": 2,
       "version_minor": 0
      },
      "text/plain": [
       "Predicting: 4317it [00:00, ?it/s]"
      ]
     },
     "metadata": {},
     "output_type": "display_data"
    },
    {
     "data": {
      "application/vnd.jupyter.widget-view+json": {
       "model_id": "2dc7c520302e41968cd68262a1325f07",
       "version_major": 2,
       "version_minor": 0
      },
      "text/plain": [
       "Predicting: 4317it [00:00, ?it/s]"
      ]
     },
     "metadata": {},
     "output_type": "display_data"
    },
    {
     "data": {
      "application/vnd.jupyter.widget-view+json": {
       "model_id": "1d7b175fa7424fa886f3bc5910cdc91c",
       "version_major": 2,
       "version_minor": 0
      },
      "text/plain": [
       "Predicting: 4317it [00:00, ?it/s]"
      ]
     },
     "metadata": {},
     "output_type": "display_data"
    },
    {
     "data": {
      "application/vnd.jupyter.widget-view+json": {
       "model_id": "967bbfaee0fc4ea9b43869b4f0c62467",
       "version_major": 2,
       "version_minor": 0
      },
      "text/plain": [
       "Predicting: 4317it [00:00, ?it/s]"
      ]
     },
     "metadata": {},
     "output_type": "display_data"
    },
    {
     "data": {
      "application/vnd.jupyter.widget-view+json": {
       "model_id": "274a21bccf0349198ef77211beaf7c5b",
       "version_major": 2,
       "version_minor": 0
      },
      "text/plain": [
       "Predicting: 4317it [00:00, ?it/s]"
      ]
     },
     "metadata": {},
     "output_type": "display_data"
    },
    {
     "data": {
      "application/vnd.jupyter.widget-view+json": {
       "model_id": "fa222980e43d47c2a80369e2bffc7e09",
       "version_major": 2,
       "version_minor": 0
      },
      "text/plain": [
       "Predicting: 4317it [00:00, ?it/s]"
      ]
     },
     "metadata": {},
     "output_type": "display_data"
    },
    {
     "data": {
      "application/vnd.jupyter.widget-view+json": {
       "model_id": "2b1cb857beb74baeb49d6bd8d12445f1",
       "version_major": 2,
       "version_minor": 0
      },
      "text/plain": [
       "Predicting: 4317it [00:00, ?it/s]"
      ]
     },
     "metadata": {},
     "output_type": "display_data"
    },
    {
     "data": {
      "application/vnd.jupyter.widget-view+json": {
       "model_id": "17777bda476448ca9e0130ae9b02d0f2",
       "version_major": 2,
       "version_minor": 0
      },
      "text/plain": [
       "Predicting: 4317it [00:00, ?it/s]"
      ]
     },
     "metadata": {},
     "output_type": "display_data"
    },
    {
     "data": {
      "application/vnd.jupyter.widget-view+json": {
       "model_id": "2cd2d50ad8d34e2692f113305205e44d",
       "version_major": 2,
       "version_minor": 0
      },
      "text/plain": [
       "Predicting: 4317it [00:00, ?it/s]"
      ]
     },
     "metadata": {},
     "output_type": "display_data"
    },
    {
     "data": {
      "application/vnd.jupyter.widget-view+json": {
       "model_id": "cfbf045d4fb04a39927433ede3bba269",
       "version_major": 2,
       "version_minor": 0
      },
      "text/plain": [
       "Predicting: 4317it [00:00, ?it/s]"
      ]
     },
     "metadata": {},
     "output_type": "display_data"
    },
    {
     "data": {
      "application/vnd.jupyter.widget-view+json": {
       "model_id": "6dd40350f2124c27bb214ce249801932",
       "version_major": 2,
       "version_minor": 0
      },
      "text/plain": [
       "Predicting: 4317it [00:00, ?it/s]"
      ]
     },
     "metadata": {},
     "output_type": "display_data"
    },
    {
     "data": {
      "application/vnd.jupyter.widget-view+json": {
       "model_id": "7b860ca3fc924b5cba47c22895a7a4af",
       "version_major": 2,
       "version_minor": 0
      },
      "text/plain": [
       "Predicting: 4317it [00:00, ?it/s]"
      ]
     },
     "metadata": {},
     "output_type": "display_data"
    },
    {
     "data": {
      "application/vnd.jupyter.widget-view+json": {
       "model_id": "4d5b47835c904e33bfb55ebb4360672c",
       "version_major": 2,
       "version_minor": 0
      },
      "text/plain": [
       "Predicting: 4317it [00:00, ?it/s]"
      ]
     },
     "metadata": {},
     "output_type": "display_data"
    },
    {
     "data": {
      "application/vnd.jupyter.widget-view+json": {
       "model_id": "8fb94d2cefeb43a9a9881327ad66638f",
       "version_major": 2,
       "version_minor": 0
      },
      "text/plain": [
       "Predicting: 4317it [00:00, ?it/s]"
      ]
     },
     "metadata": {},
     "output_type": "display_data"
    },
    {
     "data": {
      "application/vnd.jupyter.widget-view+json": {
       "model_id": "113c1b63322c4e9b9571e63bc24f3c92",
       "version_major": 2,
       "version_minor": 0
      },
      "text/plain": [
       "Predicting: 4317it [00:00, ?it/s]"
      ]
     },
     "metadata": {},
     "output_type": "display_data"
    },
    {
     "data": {
      "application/vnd.jupyter.widget-view+json": {
       "model_id": "af573ad477ec4eb6abe01789bfc16dd0",
       "version_major": 2,
       "version_minor": 0
      },
      "text/plain": [
       "Predicting: 4317it [00:00, ?it/s]"
      ]
     },
     "metadata": {},
     "output_type": "display_data"
    },
    {
     "data": {
      "application/vnd.jupyter.widget-view+json": {
       "model_id": "0d353cde39724eeba8572436932d64e6",
       "version_major": 2,
       "version_minor": 0
      },
      "text/plain": [
       "Predicting: 4317it [00:00, ?it/s]"
      ]
     },
     "metadata": {},
     "output_type": "display_data"
    },
    {
     "data": {
      "application/vnd.jupyter.widget-view+json": {
       "model_id": "1578faef35614a88bcf1c87189ac9364",
       "version_major": 2,
       "version_minor": 0
      },
      "text/plain": [
       "Predicting: 4317it [00:00, ?it/s]"
      ]
     },
     "metadata": {},
     "output_type": "display_data"
    },
    {
     "data": {
      "application/vnd.jupyter.widget-view+json": {
       "model_id": "29c61c910915415092511ddd98e4b3f7",
       "version_major": 2,
       "version_minor": 0
      },
      "text/plain": [
       "Predicting: 4317it [00:00, ?it/s]"
      ]
     },
     "metadata": {},
     "output_type": "display_data"
    },
    {
     "data": {
      "application/vnd.jupyter.widget-view+json": {
       "model_id": "ab1493ab9c4446c9901226299af05c41",
       "version_major": 2,
       "version_minor": 0
      },
      "text/plain": [
       "Predicting: 4317it [00:00, ?it/s]"
      ]
     },
     "metadata": {},
     "output_type": "display_data"
    },
    {
     "data": {
      "application/vnd.jupyter.widget-view+json": {
       "model_id": "d60f578cf45640989f81877309309148",
       "version_major": 2,
       "version_minor": 0
      },
      "text/plain": [
       "Predicting: 4317it [00:00, ?it/s]"
      ]
     },
     "metadata": {},
     "output_type": "display_data"
    },
    {
     "data": {
      "application/vnd.jupyter.widget-view+json": {
       "model_id": "5ca7177d236d44b1a0cd0cbddf67c362",
       "version_major": 2,
       "version_minor": 0
      },
      "text/plain": [
       "Predicting: 4317it [00:00, ?it/s]"
      ]
     },
     "metadata": {},
     "output_type": "display_data"
    },
    {
     "data": {
      "application/vnd.jupyter.widget-view+json": {
       "model_id": "26dc508ee0ee4a7089333e8d31206d03",
       "version_major": 2,
       "version_minor": 0
      },
      "text/plain": [
       "Predicting: 4317it [00:00, ?it/s]"
      ]
     },
     "metadata": {},
     "output_type": "display_data"
    },
    {
     "data": {
      "application/vnd.jupyter.widget-view+json": {
       "model_id": "96158cd198064b8da35be070fab176a2",
       "version_major": 2,
       "version_minor": 0
      },
      "text/plain": [
       "Predicting: 4317it [00:00, ?it/s]"
      ]
     },
     "metadata": {},
     "output_type": "display_data"
    },
    {
     "data": {
      "application/vnd.jupyter.widget-view+json": {
       "model_id": "00d6f64de35047df95485eee027d229a",
       "version_major": 2,
       "version_minor": 0
      },
      "text/plain": [
       "Predicting: 4317it [00:00, ?it/s]"
      ]
     },
     "metadata": {},
     "output_type": "display_data"
    },
    {
     "data": {
      "application/vnd.jupyter.widget-view+json": {
       "model_id": "7051551412c14b4d8d35c79f8d38aec3",
       "version_major": 2,
       "version_minor": 0
      },
      "text/plain": [
       "Predicting: 4317it [00:00, ?it/s]"
      ]
     },
     "metadata": {},
     "output_type": "display_data"
    },
    {
     "data": {
      "application/vnd.jupyter.widget-view+json": {
       "model_id": "030573530d6441b7b9c642442d083bc1",
       "version_major": 2,
       "version_minor": 0
      },
      "text/plain": [
       "Predicting: 4317it [00:00, ?it/s]"
      ]
     },
     "metadata": {},
     "output_type": "display_data"
    },
    {
     "data": {
      "application/vnd.jupyter.widget-view+json": {
       "model_id": "3fa00965e4ef4048a9147d533a921d1b",
       "version_major": 2,
       "version_minor": 0
      },
      "text/plain": [
       "Predicting: 4317it [00:00, ?it/s]"
      ]
     },
     "metadata": {},
     "output_type": "display_data"
    },
    {
     "data": {
      "application/vnd.jupyter.widget-view+json": {
       "model_id": "acb3fd0125ec494194762446897903ce",
       "version_major": 2,
       "version_minor": 0
      },
      "text/plain": [
       "Predicting: 4317it [00:00, ?it/s]"
      ]
     },
     "metadata": {},
     "output_type": "display_data"
    },
    {
     "data": {
      "application/vnd.jupyter.widget-view+json": {
       "model_id": "a4868087445f4bb0ac22543a5c3fc73e",
       "version_major": 2,
       "version_minor": 0
      },
      "text/plain": [
       "Predicting: 4317it [00:00, ?it/s]"
      ]
     },
     "metadata": {},
     "output_type": "display_data"
    },
    {
     "data": {
      "application/vnd.jupyter.widget-view+json": {
       "model_id": "830717fa0be14f7b9f00e891b9fec61d",
       "version_major": 2,
       "version_minor": 0
      },
      "text/plain": [
       "Predicting: 4317it [00:00, ?it/s]"
      ]
     },
     "metadata": {},
     "output_type": "display_data"
    },
    {
     "data": {
      "application/vnd.jupyter.widget-view+json": {
       "model_id": "c55182933e64498cbd05d74b23e3ee1a",
       "version_major": 2,
       "version_minor": 0
      },
      "text/plain": [
       "Predicting: 4317it [00:00, ?it/s]"
      ]
     },
     "metadata": {},
     "output_type": "display_data"
    },
    {
     "data": {
      "application/vnd.jupyter.widget-view+json": {
       "model_id": "22bb8637789d44228546588e7d118ef7",
       "version_major": 2,
       "version_minor": 0
      },
      "text/plain": [
       "Predicting: 4317it [00:00, ?it/s]"
      ]
     },
     "metadata": {},
     "output_type": "display_data"
    },
    {
     "data": {
      "application/vnd.jupyter.widget-view+json": {
       "model_id": "1345e9c6904845a6b9e80bf7c9f02ef6",
       "version_major": 2,
       "version_minor": 0
      },
      "text/plain": [
       "Predicting: 4317it [00:00, ?it/s]"
      ]
     },
     "metadata": {},
     "output_type": "display_data"
    },
    {
     "data": {
      "application/vnd.jupyter.widget-view+json": {
       "model_id": "b629aebc039140338761373029af671b",
       "version_major": 2,
       "version_minor": 0
      },
      "text/plain": [
       "Predicting: 4317it [00:00, ?it/s]"
      ]
     },
     "metadata": {},
     "output_type": "display_data"
    },
    {
     "data": {
      "application/vnd.jupyter.widget-view+json": {
       "model_id": "68b902d4a0c54140a19a3d2d30e03774",
       "version_major": 2,
       "version_minor": 0
      },
      "text/plain": [
       "Predicting: 4317it [00:00, ?it/s]"
      ]
     },
     "metadata": {},
     "output_type": "display_data"
    },
    {
     "data": {
      "application/vnd.jupyter.widget-view+json": {
       "model_id": "fbda4a75ec1941d0a22a874a148af41f",
       "version_major": 2,
       "version_minor": 0
      },
      "text/plain": [
       "Predicting: 4317it [00:00, ?it/s]"
      ]
     },
     "metadata": {},
     "output_type": "display_data"
    },
    {
     "data": {
      "application/vnd.jupyter.widget-view+json": {
       "model_id": "73c8dd8493bf41b1a49fde73d9ec79cb",
       "version_major": 2,
       "version_minor": 0
      },
      "text/plain": [
       "Predicting: 4317it [00:00, ?it/s]"
      ]
     },
     "metadata": {},
     "output_type": "display_data"
    },
    {
     "data": {
      "application/vnd.jupyter.widget-view+json": {
       "model_id": "20f65dab8e7d46cd8eccac9afe00d708",
       "version_major": 2,
       "version_minor": 0
      },
      "text/plain": [
       "Predicting: 4317it [00:00, ?it/s]"
      ]
     },
     "metadata": {},
     "output_type": "display_data"
    },
    {
     "data": {
      "application/vnd.jupyter.widget-view+json": {
       "model_id": "979940434414420fbc0d5b8fa132c78c",
       "version_major": 2,
       "version_minor": 0
      },
      "text/plain": [
       "Predicting: 4317it [00:00, ?it/s]"
      ]
     },
     "metadata": {},
     "output_type": "display_data"
    },
    {
     "data": {
      "application/vnd.jupyter.widget-view+json": {
       "model_id": "de609a51aada46b489e4d685d1d480c5",
       "version_major": 2,
       "version_minor": 0
      },
      "text/plain": [
       "Predicting: 4317it [00:00, ?it/s]"
      ]
     },
     "metadata": {},
     "output_type": "display_data"
    },
    {
     "data": {
      "application/vnd.jupyter.widget-view+json": {
       "model_id": "1caf56d4e02e485c81949e2d045ddbc2",
       "version_major": 2,
       "version_minor": 0
      },
      "text/plain": [
       "Predicting: 4317it [00:00, ?it/s]"
      ]
     },
     "metadata": {},
     "output_type": "display_data"
    },
    {
     "data": {
      "application/vnd.jupyter.widget-view+json": {
       "model_id": "ec35d4bd54b9454e90efd8d3d249e579",
       "version_major": 2,
       "version_minor": 0
      },
      "text/plain": [
       "Predicting: 4317it [00:00, ?it/s]"
      ]
     },
     "metadata": {},
     "output_type": "display_data"
    },
    {
     "data": {
      "application/vnd.jupyter.widget-view+json": {
       "model_id": "57ea7c518e72478bac024083ad2d25a4",
       "version_major": 2,
       "version_minor": 0
      },
      "text/plain": [
       "Predicting: 4317it [00:00, ?it/s]"
      ]
     },
     "metadata": {},
     "output_type": "display_data"
    },
    {
     "data": {
      "application/vnd.jupyter.widget-view+json": {
       "model_id": "607300e5c90c49bab016bc7eed9f0c88",
       "version_major": 2,
       "version_minor": 0
      },
      "text/plain": [
       "Predicting: 4317it [00:00, ?it/s]"
      ]
     },
     "metadata": {},
     "output_type": "display_data"
    },
    {
     "data": {
      "application/vnd.jupyter.widget-view+json": {
       "model_id": "f04847971d6f4a30b9a21d1da8539652",
       "version_major": 2,
       "version_minor": 0
      },
      "text/plain": [
       "Predicting: 4317it [00:00, ?it/s]"
      ]
     },
     "metadata": {},
     "output_type": "display_data"
    },
    {
     "data": {
      "application/vnd.jupyter.widget-view+json": {
       "model_id": "3cf799c0bec449b4a30b4215d6c0ef7d",
       "version_major": 2,
       "version_minor": 0
      },
      "text/plain": [
       "Predicting: 4317it [00:00, ?it/s]"
      ]
     },
     "metadata": {},
     "output_type": "display_data"
    },
    {
     "data": {
      "application/vnd.jupyter.widget-view+json": {
       "model_id": "91d45ddeda284cad853ea5f426338707",
       "version_major": 2,
       "version_minor": 0
      },
      "text/plain": [
       "Predicting: 4317it [00:00, ?it/s]"
      ]
     },
     "metadata": {},
     "output_type": "display_data"
    },
    {
     "data": {
      "application/vnd.jupyter.widget-view+json": {
       "model_id": "ca7a215fe31946eda6cd9b1c99b55e9b",
       "version_major": 2,
       "version_minor": 0
      },
      "text/plain": [
       "Predicting: 4317it [00:00, ?it/s]"
      ]
     },
     "metadata": {},
     "output_type": "display_data"
    },
    {
     "data": {
      "application/vnd.jupyter.widget-view+json": {
       "model_id": "5a5a390a63434c4abd5ea5c0dd21ea5d",
       "version_major": 2,
       "version_minor": 0
      },
      "text/plain": [
       "Predicting: 4317it [00:00, ?it/s]"
      ]
     },
     "metadata": {},
     "output_type": "display_data"
    },
    {
     "data": {
      "application/vnd.jupyter.widget-view+json": {
       "model_id": "f88765b3f9ca4828a38f847e12f1c61e",
       "version_major": 2,
       "version_minor": 0
      },
      "text/plain": [
       "Predicting: 4317it [00:00, ?it/s]"
      ]
     },
     "metadata": {},
     "output_type": "display_data"
    },
    {
     "data": {
      "application/vnd.jupyter.widget-view+json": {
       "model_id": "25e7fe423f754b5ca5b08e130c56a4ab",
       "version_major": 2,
       "version_minor": 0
      },
      "text/plain": [
       "Predicting: 4317it [00:00, ?it/s]"
      ]
     },
     "metadata": {},
     "output_type": "display_data"
    },
    {
     "data": {
      "application/vnd.jupyter.widget-view+json": {
       "model_id": "969a2b53e32e42138543a98712f35529",
       "version_major": 2,
       "version_minor": 0
      },
      "text/plain": [
       "Predicting: 4317it [00:00, ?it/s]"
      ]
     },
     "metadata": {},
     "output_type": "display_data"
    },
    {
     "data": {
      "application/vnd.jupyter.widget-view+json": {
       "model_id": "5e46ad1d1a6340e7a20517d7ee0cc53f",
       "version_major": 2,
       "version_minor": 0
      },
      "text/plain": [
       "Predicting: 4317it [00:00, ?it/s]"
      ]
     },
     "metadata": {},
     "output_type": "display_data"
    },
    {
     "data": {
      "application/vnd.jupyter.widget-view+json": {
       "model_id": "641aea7608ac4050a37d79aee4de571c",
       "version_major": 2,
       "version_minor": 0
      },
      "text/plain": [
       "Predicting: 4317it [00:00, ?it/s]"
      ]
     },
     "metadata": {},
     "output_type": "display_data"
    },
    {
     "data": {
      "application/vnd.jupyter.widget-view+json": {
       "model_id": "cbdd38b195f34805b270ab15f77b12f4",
       "version_major": 2,
       "version_minor": 0
      },
      "text/plain": [
       "Predicting: 4317it [00:00, ?it/s]"
      ]
     },
     "metadata": {},
     "output_type": "display_data"
    },
    {
     "data": {
      "application/vnd.jupyter.widget-view+json": {
       "model_id": "8942b4e22b4d4e3cb8660a16f3c0f9c2",
       "version_major": 2,
       "version_minor": 0
      },
      "text/plain": [
       "Predicting: 4317it [00:00, ?it/s]"
      ]
     },
     "metadata": {},
     "output_type": "display_data"
    },
    {
     "data": {
      "application/vnd.jupyter.widget-view+json": {
       "model_id": "7fe2d1abcf50409db32380a950d457a3",
       "version_major": 2,
       "version_minor": 0
      },
      "text/plain": [
       "Predicting: 4317it [00:00, ?it/s]"
      ]
     },
     "metadata": {},
     "output_type": "display_data"
    },
    {
     "data": {
      "application/vnd.jupyter.widget-view+json": {
       "model_id": "7025688e4f114522ad10399b8e003838",
       "version_major": 2,
       "version_minor": 0
      },
      "text/plain": [
       "Predicting: 4317it [00:00, ?it/s]"
      ]
     },
     "metadata": {},
     "output_type": "display_data"
    },
    {
     "data": {
      "application/vnd.jupyter.widget-view+json": {
       "model_id": "fe34ff18aa0d4278bf2676e1405e76ff",
       "version_major": 2,
       "version_minor": 0
      },
      "text/plain": [
       "Predicting: 4317it [00:00, ?it/s]"
      ]
     },
     "metadata": {},
     "output_type": "display_data"
    },
    {
     "data": {
      "application/vnd.jupyter.widget-view+json": {
       "model_id": "c2e4c7f49d42474aa2d79251855cb761",
       "version_major": 2,
       "version_minor": 0
      },
      "text/plain": [
       "Predicting: 4317it [00:00, ?it/s]"
      ]
     },
     "metadata": {},
     "output_type": "display_data"
    },
    {
     "data": {
      "application/vnd.jupyter.widget-view+json": {
       "model_id": "16a13210b685473986db45cfff04119b",
       "version_major": 2,
       "version_minor": 0
      },
      "text/plain": [
       "Predicting: 4317it [00:00, ?it/s]"
      ]
     },
     "metadata": {},
     "output_type": "display_data"
    },
    {
     "data": {
      "application/vnd.jupyter.widget-view+json": {
       "model_id": "ef24e4eb6abd45838e9e8e246608636b",
       "version_major": 2,
       "version_minor": 0
      },
      "text/plain": [
       "Predicting: 4317it [00:00, ?it/s]"
      ]
     },
     "metadata": {},
     "output_type": "display_data"
    },
    {
     "data": {
      "application/vnd.jupyter.widget-view+json": {
       "model_id": "7e22fb3fff214d0ea86c9ddfa39b6895",
       "version_major": 2,
       "version_minor": 0
      },
      "text/plain": [
       "Predicting: 4317it [00:00, ?it/s]"
      ]
     },
     "metadata": {},
     "output_type": "display_data"
    },
    {
     "data": {
      "application/vnd.jupyter.widget-view+json": {
       "model_id": "a81f00b1b548415fb4137af0b4128abc",
       "version_major": 2,
       "version_minor": 0
      },
      "text/plain": [
       "Predicting: 4317it [00:00, ?it/s]"
      ]
     },
     "metadata": {},
     "output_type": "display_data"
    },
    {
     "data": {
      "application/vnd.jupyter.widget-view+json": {
       "model_id": "1198cf6fd3cf424c9aed6915efd8a65d",
       "version_major": 2,
       "version_minor": 0
      },
      "text/plain": [
       "Predicting: 4317it [00:00, ?it/s]"
      ]
     },
     "metadata": {},
     "output_type": "display_data"
    },
    {
     "data": {
      "application/vnd.jupyter.widget-view+json": {
       "model_id": "91d40cb8da224d81acadf7559820fbab",
       "version_major": 2,
       "version_minor": 0
      },
      "text/plain": [
       "Predicting: 4317it [00:00, ?it/s]"
      ]
     },
     "metadata": {},
     "output_type": "display_data"
    },
    {
     "data": {
      "application/vnd.jupyter.widget-view+json": {
       "model_id": "6b608bbd48d9460a86149a5fe740b9c8",
       "version_major": 2,
       "version_minor": 0
      },
      "text/plain": [
       "Predicting: 4317it [00:00, ?it/s]"
      ]
     },
     "metadata": {},
     "output_type": "display_data"
    },
    {
     "data": {
      "application/vnd.jupyter.widget-view+json": {
       "model_id": "b1d5a9bca2a9440db95d6004f1d0811f",
       "version_major": 2,
       "version_minor": 0
      },
      "text/plain": [
       "Predicting: 4317it [00:00, ?it/s]"
      ]
     },
     "metadata": {},
     "output_type": "display_data"
    },
    {
     "data": {
      "application/vnd.jupyter.widget-view+json": {
       "model_id": "d237276245dd41e5bc80a49289f289c9",
       "version_major": 2,
       "version_minor": 0
      },
      "text/plain": [
       "Predicting: 4317it [00:00, ?it/s]"
      ]
     },
     "metadata": {},
     "output_type": "display_data"
    },
    {
     "data": {
      "application/vnd.jupyter.widget-view+json": {
       "model_id": "62401f43f76747aab5e9dc24a4d34d20",
       "version_major": 2,
       "version_minor": 0
      },
      "text/plain": [
       "Predicting: 4317it [00:00, ?it/s]"
      ]
     },
     "metadata": {},
     "output_type": "display_data"
    },
    {
     "data": {
      "application/vnd.jupyter.widget-view+json": {
       "model_id": "9062d9464772400284b301566081cbab",
       "version_major": 2,
       "version_minor": 0
      },
      "text/plain": [
       "Predicting: 4317it [00:00, ?it/s]"
      ]
     },
     "metadata": {},
     "output_type": "display_data"
    },
    {
     "data": {
      "application/vnd.jupyter.widget-view+json": {
       "model_id": "c555860e630f4ea8b2cd9aadf1273e0b",
       "version_major": 2,
       "version_minor": 0
      },
      "text/plain": [
       "Predicting: 4317it [00:00, ?it/s]"
      ]
     },
     "metadata": {},
     "output_type": "display_data"
    },
    {
     "data": {
      "application/vnd.jupyter.widget-view+json": {
       "model_id": "d106c8b14a2249c2aef455a4198b0709",
       "version_major": 2,
       "version_minor": 0
      },
      "text/plain": [
       "Predicting: 4317it [00:00, ?it/s]"
      ]
     },
     "metadata": {},
     "output_type": "display_data"
    },
    {
     "data": {
      "application/vnd.jupyter.widget-view+json": {
       "model_id": "8cc2166f29094b9abf100544e368a767",
       "version_major": 2,
       "version_minor": 0
      },
      "text/plain": [
       "Predicting: 4317it [00:00, ?it/s]"
      ]
     },
     "metadata": {},
     "output_type": "display_data"
    },
    {
     "data": {
      "application/vnd.jupyter.widget-view+json": {
       "model_id": "b63e2fe90ad24b6e93e9bd601ec2587b",
       "version_major": 2,
       "version_minor": 0
      },
      "text/plain": [
       "Predicting: 4317it [00:00, ?it/s]"
      ]
     },
     "metadata": {},
     "output_type": "display_data"
    },
    {
     "data": {
      "application/vnd.jupyter.widget-view+json": {
       "model_id": "78ba3d47cb88432ca7ae46758a7e30a7",
       "version_major": 2,
       "version_minor": 0
      },
      "text/plain": [
       "Predicting: 4317it [00:00, ?it/s]"
      ]
     },
     "metadata": {},
     "output_type": "display_data"
    },
    {
     "data": {
      "application/vnd.jupyter.widget-view+json": {
       "model_id": "451f6d79bb9d48888c9e3f554c867b34",
       "version_major": 2,
       "version_minor": 0
      },
      "text/plain": [
       "Predicting: 4317it [00:00, ?it/s]"
      ]
     },
     "metadata": {},
     "output_type": "display_data"
    },
    {
     "data": {
      "application/vnd.jupyter.widget-view+json": {
       "model_id": "62b5ece6844f4cf694393993eafdf4ce",
       "version_major": 2,
       "version_minor": 0
      },
      "text/plain": [
       "Predicting: 4317it [00:00, ?it/s]"
      ]
     },
     "metadata": {},
     "output_type": "display_data"
    },
    {
     "data": {
      "application/vnd.jupyter.widget-view+json": {
       "model_id": "9812284cd6404067bd843a57ea206418",
       "version_major": 2,
       "version_minor": 0
      },
      "text/plain": [
       "Predicting: 4317it [00:00, ?it/s]"
      ]
     },
     "metadata": {},
     "output_type": "display_data"
    },
    {
     "data": {
      "application/vnd.jupyter.widget-view+json": {
       "model_id": "15e7e63775c3401f8495aa2024e5f151",
       "version_major": 2,
       "version_minor": 0
      },
      "text/plain": [
       "Predicting: 4317it [00:00, ?it/s]"
      ]
     },
     "metadata": {},
     "output_type": "display_data"
    },
    {
     "data": {
      "application/vnd.jupyter.widget-view+json": {
       "model_id": "84c1a786a9304002861c1d8aa03253fe",
       "version_major": 2,
       "version_minor": 0
      },
      "text/plain": [
       "Predicting: 4317it [00:00, ?it/s]"
      ]
     },
     "metadata": {},
     "output_type": "display_data"
    },
    {
     "data": {
      "application/vnd.jupyter.widget-view+json": {
       "model_id": "76374800a2f14ebb9679e6aee7d96c01",
       "version_major": 2,
       "version_minor": 0
      },
      "text/plain": [
       "Predicting: 4317it [00:00, ?it/s]"
      ]
     },
     "metadata": {},
     "output_type": "display_data"
    },
    {
     "data": {
      "application/vnd.jupyter.widget-view+json": {
       "model_id": "89849ae40f1046d2beab25cf57120065",
       "version_major": 2,
       "version_minor": 0
      },
      "text/plain": [
       "Predicting: 4317it [00:00, ?it/s]"
      ]
     },
     "metadata": {},
     "output_type": "display_data"
    },
    {
     "data": {
      "application/vnd.jupyter.widget-view+json": {
       "model_id": "e0d9cd94b38441ffa291f5d4489fd661",
       "version_major": 2,
       "version_minor": 0
      },
      "text/plain": [
       "Predicting: 4317it [00:00, ?it/s]"
      ]
     },
     "metadata": {},
     "output_type": "display_data"
    },
    {
     "data": {
      "application/vnd.jupyter.widget-view+json": {
       "model_id": "5408d77a31fe475dab67bc61847bfbf8",
       "version_major": 2,
       "version_minor": 0
      },
      "text/plain": [
       "Predicting: 4317it [00:00, ?it/s]"
      ]
     },
     "metadata": {},
     "output_type": "display_data"
    },
    {
     "data": {
      "application/vnd.jupyter.widget-view+json": {
       "model_id": "8ba52b93111348b4b8360dbcb77269c9",
       "version_major": 2,
       "version_minor": 0
      },
      "text/plain": [
       "Predicting: 4317it [00:00, ?it/s]"
      ]
     },
     "metadata": {},
     "output_type": "display_data"
    },
    {
     "data": {
      "application/vnd.jupyter.widget-view+json": {
       "model_id": "b67729bfd03c4469afa3651e94a41eea",
       "version_major": 2,
       "version_minor": 0
      },
      "text/plain": [
       "Predicting: 4317it [00:00, ?it/s]"
      ]
     },
     "metadata": {},
     "output_type": "display_data"
    },
    {
     "data": {
      "application/vnd.jupyter.widget-view+json": {
       "model_id": "bba0d17e4c174761aedbc6d8e9abe7e1",
       "version_major": 2,
       "version_minor": 0
      },
      "text/plain": [
       "Predicting: 4317it [00:00, ?it/s]"
      ]
     },
     "metadata": {},
     "output_type": "display_data"
    },
    {
     "data": {
      "application/vnd.jupyter.widget-view+json": {
       "model_id": "4dc3c9923d2943c8aac6df689af48145",
       "version_major": 2,
       "version_minor": 0
      },
      "text/plain": [
       "Predicting: 4317it [00:00, ?it/s]"
      ]
     },
     "metadata": {},
     "output_type": "display_data"
    },
    {
     "data": {
      "application/vnd.jupyter.widget-view+json": {
       "model_id": "83649978d3ee420db077d90ac277398d",
       "version_major": 2,
       "version_minor": 0
      },
      "text/plain": [
       "Predicting: 4317it [00:00, ?it/s]"
      ]
     },
     "metadata": {},
     "output_type": "display_data"
    },
    {
     "data": {
      "application/vnd.jupyter.widget-view+json": {
       "model_id": "c58c643d2e3c4f488663746671053dfb",
       "version_major": 2,
       "version_minor": 0
      },
      "text/plain": [
       "Predicting: 4317it [00:00, ?it/s]"
      ]
     },
     "metadata": {},
     "output_type": "display_data"
    },
    {
     "data": {
      "application/vnd.jupyter.widget-view+json": {
       "model_id": "4da02940384a4e0e86c9fdf741f8734b",
       "version_major": 2,
       "version_minor": 0
      },
      "text/plain": [
       "Predicting: 4317it [00:00, ?it/s]"
      ]
     },
     "metadata": {},
     "output_type": "display_data"
    },
    {
     "data": {
      "application/vnd.jupyter.widget-view+json": {
       "model_id": "2632c206a1af45b1bf3a0bdb1380dcf8",
       "version_major": 2,
       "version_minor": 0
      },
      "text/plain": [
       "Predicting: 4317it [00:00, ?it/s]"
      ]
     },
     "metadata": {},
     "output_type": "display_data"
    },
    {
     "data": {
      "application/vnd.jupyter.widget-view+json": {
       "model_id": "5fa2cefcb89f4c97a599ce5c8084b06b",
       "version_major": 2,
       "version_minor": 0
      },
      "text/plain": [
       "Predicting: 4317it [00:00, ?it/s]"
      ]
     },
     "metadata": {},
     "output_type": "display_data"
    },
    {
     "data": {
      "application/vnd.jupyter.widget-view+json": {
       "model_id": "2c0aa427fb004c189bde3101d2f39550",
       "version_major": 2,
       "version_minor": 0
      },
      "text/plain": [
       "Predicting: 4317it [00:00, ?it/s]"
      ]
     },
     "metadata": {},
     "output_type": "display_data"
    },
    {
     "data": {
      "application/vnd.jupyter.widget-view+json": {
       "model_id": "6d70d867cf4a49e2953945c88d856879",
       "version_major": 2,
       "version_minor": 0
      },
      "text/plain": [
       "Predicting: 4317it [00:00, ?it/s]"
      ]
     },
     "metadata": {},
     "output_type": "display_data"
    },
    {
     "data": {
      "application/vnd.jupyter.widget-view+json": {
       "model_id": "4b9b111c5c104248b2c845714f845716",
       "version_major": 2,
       "version_minor": 0
      },
      "text/plain": [
       "Predicting: 4317it [00:00, ?it/s]"
      ]
     },
     "metadata": {},
     "output_type": "display_data"
    },
    {
     "data": {
      "application/vnd.jupyter.widget-view+json": {
       "model_id": "3c722cdfddaa4c59aabea66a5c7ffb03",
       "version_major": 2,
       "version_minor": 0
      },
      "text/plain": [
       "Predicting: 4317it [00:00, ?it/s]"
      ]
     },
     "metadata": {},
     "output_type": "display_data"
    },
    {
     "data": {
      "application/vnd.jupyter.widget-view+json": {
       "model_id": "23a605e604404c87a44ba9899905732e",
       "version_major": 2,
       "version_minor": 0
      },
      "text/plain": [
       "Predicting: 4317it [00:00, ?it/s]"
      ]
     },
     "metadata": {},
     "output_type": "display_data"
    },
    {
     "data": {
      "application/vnd.jupyter.widget-view+json": {
       "model_id": "53f0cfa3ec9e41f8a853af258a84c7c4",
       "version_major": 2,
       "version_minor": 0
      },
      "text/plain": [
       "Predicting: 4317it [00:00, ?it/s]"
      ]
     },
     "metadata": {},
     "output_type": "display_data"
    },
    {
     "data": {
      "application/vnd.jupyter.widget-view+json": {
       "model_id": "a4a2778c9d5b462782822ab87a867100",
       "version_major": 2,
       "version_minor": 0
      },
      "text/plain": [
       "Predicting: 4317it [00:00, ?it/s]"
      ]
     },
     "metadata": {},
     "output_type": "display_data"
    },
    {
     "data": {
      "application/vnd.jupyter.widget-view+json": {
       "model_id": "ec217d1c9d894333a9c38657afa8648f",
       "version_major": 2,
       "version_minor": 0
      },
      "text/plain": [
       "Predicting: 4317it [00:00, ?it/s]"
      ]
     },
     "metadata": {},
     "output_type": "display_data"
    },
    {
     "data": {
      "application/vnd.jupyter.widget-view+json": {
       "model_id": "cf59dad4b8a94873bfd62541bab3cd3c",
       "version_major": 2,
       "version_minor": 0
      },
      "text/plain": [
       "Predicting: 4317it [00:00, ?it/s]"
      ]
     },
     "metadata": {},
     "output_type": "display_data"
    },
    {
     "data": {
      "application/vnd.jupyter.widget-view+json": {
       "model_id": "3201e8ac634f4c7a9ad13b44abeff0c7",
       "version_major": 2,
       "version_minor": 0
      },
      "text/plain": [
       "Predicting: 4317it [00:00, ?it/s]"
      ]
     },
     "metadata": {},
     "output_type": "display_data"
    },
    {
     "data": {
      "application/vnd.jupyter.widget-view+json": {
       "model_id": "47b1b1b8aa8144ddaf495abe58ab9bf6",
       "version_major": 2,
       "version_minor": 0
      },
      "text/plain": [
       "Predicting: 4317it [00:00, ?it/s]"
      ]
     },
     "metadata": {},
     "output_type": "display_data"
    },
    {
     "data": {
      "application/vnd.jupyter.widget-view+json": {
       "model_id": "d16b6e47988242ca961413c91fd3d925",
       "version_major": 2,
       "version_minor": 0
      },
      "text/plain": [
       "Predicting: 4317it [00:00, ?it/s]"
      ]
     },
     "metadata": {},
     "output_type": "display_data"
    },
    {
     "data": {
      "application/vnd.jupyter.widget-view+json": {
       "model_id": "d7df74ee70fb4a4b84e08823362bc87d",
       "version_major": 2,
       "version_minor": 0
      },
      "text/plain": [
       "Predicting: 4317it [00:00, ?it/s]"
      ]
     },
     "metadata": {},
     "output_type": "display_data"
    },
    {
     "data": {
      "application/vnd.jupyter.widget-view+json": {
       "model_id": "12e84a147e984ec29492eeaa11878a3f",
       "version_major": 2,
       "version_minor": 0
      },
      "text/plain": [
       "Predicting: 4317it [00:00, ?it/s]"
      ]
     },
     "metadata": {},
     "output_type": "display_data"
    },
    {
     "data": {
      "application/vnd.jupyter.widget-view+json": {
       "model_id": "f39c128dcf4a411ca9a3388c325253f9",
       "version_major": 2,
       "version_minor": 0
      },
      "text/plain": [
       "Predicting: 4317it [00:00, ?it/s]"
      ]
     },
     "metadata": {},
     "output_type": "display_data"
    },
    {
     "data": {
      "application/vnd.jupyter.widget-view+json": {
       "model_id": "a4ac30f265c54ae391b3c44719605ea7",
       "version_major": 2,
       "version_minor": 0
      },
      "text/plain": [
       "Predicting: 4317it [00:00, ?it/s]"
      ]
     },
     "metadata": {},
     "output_type": "display_data"
    },
    {
     "data": {
      "application/vnd.jupyter.widget-view+json": {
       "model_id": "b15b6ef276fd4cceb367b86d89d6dfe8",
       "version_major": 2,
       "version_minor": 0
      },
      "text/plain": [
       "Predicting: 4317it [00:00, ?it/s]"
      ]
     },
     "metadata": {},
     "output_type": "display_data"
    },
    {
     "data": {
      "application/vnd.jupyter.widget-view+json": {
       "model_id": "1ae96d0c1d204f239678c1c1f2746723",
       "version_major": 2,
       "version_minor": 0
      },
      "text/plain": [
       "Predicting: 4317it [00:00, ?it/s]"
      ]
     },
     "metadata": {},
     "output_type": "display_data"
    },
    {
     "data": {
      "application/vnd.jupyter.widget-view+json": {
       "model_id": "71f6447ed67e4644a6236ed0ebf37045",
       "version_major": 2,
       "version_minor": 0
      },
      "text/plain": [
       "Predicting: 4317it [00:00, ?it/s]"
      ]
     },
     "metadata": {},
     "output_type": "display_data"
    },
    {
     "data": {
      "application/vnd.jupyter.widget-view+json": {
       "model_id": "6370da852f3445eab157f9a1a6aacbf0",
       "version_major": 2,
       "version_minor": 0
      },
      "text/plain": [
       "Predicting: 4317it [00:00, ?it/s]"
      ]
     },
     "metadata": {},
     "output_type": "display_data"
    },
    {
     "data": {
      "application/vnd.jupyter.widget-view+json": {
       "model_id": "28e958e18e4446e99ac491a622ac3464",
       "version_major": 2,
       "version_minor": 0
      },
      "text/plain": [
       "Predicting: 4317it [00:00, ?it/s]"
      ]
     },
     "metadata": {},
     "output_type": "display_data"
    },
    {
     "data": {
      "application/vnd.jupyter.widget-view+json": {
       "model_id": "b885beea43b344efa3e661f0e5a621bd",
       "version_major": 2,
       "version_minor": 0
      },
      "text/plain": [
       "Predicting: 4317it [00:00, ?it/s]"
      ]
     },
     "metadata": {},
     "output_type": "display_data"
    },
    {
     "data": {
      "application/vnd.jupyter.widget-view+json": {
       "model_id": "eafb12f36c4c410d8096b1e615e2e454",
       "version_major": 2,
       "version_minor": 0
      },
      "text/plain": [
       "Predicting: 4317it [00:00, ?it/s]"
      ]
     },
     "metadata": {},
     "output_type": "display_data"
    },
    {
     "data": {
      "application/vnd.jupyter.widget-view+json": {
       "model_id": "73d5bc6af1134f1cb1562add05d224b1",
       "version_major": 2,
       "version_minor": 0
      },
      "text/plain": [
       "Predicting: 4317it [00:00, ?it/s]"
      ]
     },
     "metadata": {},
     "output_type": "display_data"
    },
    {
     "data": {
      "application/vnd.jupyter.widget-view+json": {
       "model_id": "d9fd821fb8944cc7bdda60972ac5cbd7",
       "version_major": 2,
       "version_minor": 0
      },
      "text/plain": [
       "Predicting: 4317it [00:00, ?it/s]"
      ]
     },
     "metadata": {},
     "output_type": "display_data"
    },
    {
     "data": {
      "application/vnd.jupyter.widget-view+json": {
       "model_id": "b57f0408bc14411898eab8d8185545d6",
       "version_major": 2,
       "version_minor": 0
      },
      "text/plain": [
       "Predicting: 4317it [00:00, ?it/s]"
      ]
     },
     "metadata": {},
     "output_type": "display_data"
    },
    {
     "data": {
      "application/vnd.jupyter.widget-view+json": {
       "model_id": "d4be48716fd44b77857e93254682404b",
       "version_major": 2,
       "version_minor": 0
      },
      "text/plain": [
       "Predicting: 4317it [00:00, ?it/s]"
      ]
     },
     "metadata": {},
     "output_type": "display_data"
    },
    {
     "data": {
      "application/vnd.jupyter.widget-view+json": {
       "model_id": "3f7619946cba41e3bfbb9065a1ad8eba",
       "version_major": 2,
       "version_minor": 0
      },
      "text/plain": [
       "Predicting: 4317it [00:00, ?it/s]"
      ]
     },
     "metadata": {},
     "output_type": "display_data"
    },
    {
     "data": {
      "application/vnd.jupyter.widget-view+json": {
       "model_id": "ecf46467dffa472eb5470c5698483742",
       "version_major": 2,
       "version_minor": 0
      },
      "text/plain": [
       "Predicting: 4317it [00:00, ?it/s]"
      ]
     },
     "metadata": {},
     "output_type": "display_data"
    },
    {
     "data": {
      "application/vnd.jupyter.widget-view+json": {
       "model_id": "d4b23b54ab054320b25d5dfcfb691c50",
       "version_major": 2,
       "version_minor": 0
      },
      "text/plain": [
       "Predicting: 4317it [00:00, ?it/s]"
      ]
     },
     "metadata": {},
     "output_type": "display_data"
    },
    {
     "data": {
      "application/vnd.jupyter.widget-view+json": {
       "model_id": "d124b528f9a34d6086b9e1ca92959497",
       "version_major": 2,
       "version_minor": 0
      },
      "text/plain": [
       "Predicting: 4317it [00:00, ?it/s]"
      ]
     },
     "metadata": {},
     "output_type": "display_data"
    },
    {
     "data": {
      "application/vnd.jupyter.widget-view+json": {
       "model_id": "1b7b2431e7a545099e25215de284c498",
       "version_major": 2,
       "version_minor": 0
      },
      "text/plain": [
       "Predicting: 4317it [00:00, ?it/s]"
      ]
     },
     "metadata": {},
     "output_type": "display_data"
    },
    {
     "data": {
      "application/vnd.jupyter.widget-view+json": {
       "model_id": "7cadb42d1b914bf389cc2a48c05caa85",
       "version_major": 2,
       "version_minor": 0
      },
      "text/plain": [
       "Predicting: 4317it [00:00, ?it/s]"
      ]
     },
     "metadata": {},
     "output_type": "display_data"
    },
    {
     "data": {
      "application/vnd.jupyter.widget-view+json": {
       "model_id": "aded80b0d36a4716b122c306290a3a4d",
       "version_major": 2,
       "version_minor": 0
      },
      "text/plain": [
       "Predicting: 4317it [00:00, ?it/s]"
      ]
     },
     "metadata": {},
     "output_type": "display_data"
    },
    {
     "data": {
      "application/vnd.jupyter.widget-view+json": {
       "model_id": "2b52e9d1125d40bb9bf3469709d67189",
       "version_major": 2,
       "version_minor": 0
      },
      "text/plain": [
       "Predicting: 4317it [00:00, ?it/s]"
      ]
     },
     "metadata": {},
     "output_type": "display_data"
    },
    {
     "data": {
      "application/vnd.jupyter.widget-view+json": {
       "model_id": "9d30844ca8724e65ad1a44b1007dc524",
       "version_major": 2,
       "version_minor": 0
      },
      "text/plain": [
       "Predicting: 4317it [00:00, ?it/s]"
      ]
     },
     "metadata": {},
     "output_type": "display_data"
    },
    {
     "data": {
      "application/vnd.jupyter.widget-view+json": {
       "model_id": "c6ab8af0ca3d4ac79c20dbb40d0a9f3d",
       "version_major": 2,
       "version_minor": 0
      },
      "text/plain": [
       "Predicting: 4317it [00:00, ?it/s]"
      ]
     },
     "metadata": {},
     "output_type": "display_data"
    },
    {
     "data": {
      "application/vnd.jupyter.widget-view+json": {
       "model_id": "e3fbc4c01e9a4dd6a44b097ba9e2aaed",
       "version_major": 2,
       "version_minor": 0
      },
      "text/plain": [
       "Predicting: 4317it [00:00, ?it/s]"
      ]
     },
     "metadata": {},
     "output_type": "display_data"
    },
    {
     "data": {
      "application/vnd.jupyter.widget-view+json": {
       "model_id": "d697010929354d16913ab8b7f9e2f813",
       "version_major": 2,
       "version_minor": 0
      },
      "text/plain": [
       "Predicting: 4317it [00:00, ?it/s]"
      ]
     },
     "metadata": {},
     "output_type": "display_data"
    },
    {
     "data": {
      "application/vnd.jupyter.widget-view+json": {
       "model_id": "1831fe7d773d4aa2b39f57ac3fa4a70a",
       "version_major": 2,
       "version_minor": 0
      },
      "text/plain": [
       "Predicting: 4317it [00:00, ?it/s]"
      ]
     },
     "metadata": {},
     "output_type": "display_data"
    },
    {
     "data": {
      "application/vnd.jupyter.widget-view+json": {
       "model_id": "1ab79d0cfe5c42d2b2c9371f6c7f6f7a",
       "version_major": 2,
       "version_minor": 0
      },
      "text/plain": [
       "Predicting: 4317it [00:00, ?it/s]"
      ]
     },
     "metadata": {},
     "output_type": "display_data"
    },
    {
     "data": {
      "application/vnd.jupyter.widget-view+json": {
       "model_id": "e46c0ad0a335458498b420e493bb6f10",
       "version_major": 2,
       "version_minor": 0
      },
      "text/plain": [
       "Predicting: 4317it [00:00, ?it/s]"
      ]
     },
     "metadata": {},
     "output_type": "display_data"
    },
    {
     "data": {
      "application/vnd.jupyter.widget-view+json": {
       "model_id": "11e4d164acc84f58846f788f6ac01b4a",
       "version_major": 2,
       "version_minor": 0
      },
      "text/plain": [
       "Predicting: 4317it [00:00, ?it/s]"
      ]
     },
     "metadata": {},
     "output_type": "display_data"
    },
    {
     "data": {
      "application/vnd.jupyter.widget-view+json": {
       "model_id": "02e8bf50da1a42d5af0a17f1f7c94712",
       "version_major": 2,
       "version_minor": 0
      },
      "text/plain": [
       "Predicting: 4317it [00:00, ?it/s]"
      ]
     },
     "metadata": {},
     "output_type": "display_data"
    },
    {
     "data": {
      "application/vnd.jupyter.widget-view+json": {
       "model_id": "d55d628dcb0942bc8323147511e864b0",
       "version_major": 2,
       "version_minor": 0
      },
      "text/plain": [
       "Predicting: 4317it [00:00, ?it/s]"
      ]
     },
     "metadata": {},
     "output_type": "display_data"
    },
    {
     "data": {
      "application/vnd.jupyter.widget-view+json": {
       "model_id": "f3713de27e7d4a90ae2136e38afea7a0",
       "version_major": 2,
       "version_minor": 0
      },
      "text/plain": [
       "Predicting: 4317it [00:00, ?it/s]"
      ]
     },
     "metadata": {},
     "output_type": "display_data"
    },
    {
     "data": {
      "application/vnd.jupyter.widget-view+json": {
       "model_id": "1be2d1ca59cd4e699d95cca59bbc23ee",
       "version_major": 2,
       "version_minor": 0
      },
      "text/plain": [
       "Predicting: 4317it [00:00, ?it/s]"
      ]
     },
     "metadata": {},
     "output_type": "display_data"
    },
    {
     "data": {
      "application/vnd.jupyter.widget-view+json": {
       "model_id": "2af5405b8aed44b4be4f1ae33a51d539",
       "version_major": 2,
       "version_minor": 0
      },
      "text/plain": [
       "Predicting: 4317it [00:00, ?it/s]"
      ]
     },
     "metadata": {},
     "output_type": "display_data"
    },
    {
     "data": {
      "application/vnd.jupyter.widget-view+json": {
       "model_id": "7b4dfc0737044eddbb324d2e5e7b4b37",
       "version_major": 2,
       "version_minor": 0
      },
      "text/plain": [
       "Predicting: 4317it [00:00, ?it/s]"
      ]
     },
     "metadata": {},
     "output_type": "display_data"
    },
    {
     "data": {
      "application/vnd.jupyter.widget-view+json": {
       "model_id": "c1b2cb3a0fb2435db929bb1aa5be2c4e",
       "version_major": 2,
       "version_minor": 0
      },
      "text/plain": [
       "Predicting: 4317it [00:00, ?it/s]"
      ]
     },
     "metadata": {},
     "output_type": "display_data"
    },
    {
     "data": {
      "application/vnd.jupyter.widget-view+json": {
       "model_id": "ec0ee4fa8b3e4d57a803156673f169a0",
       "version_major": 2,
       "version_minor": 0
      },
      "text/plain": [
       "Predicting: 4317it [00:00, ?it/s]"
      ]
     },
     "metadata": {},
     "output_type": "display_data"
    },
    {
     "data": {
      "application/vnd.jupyter.widget-view+json": {
       "model_id": "1ac84cf139bd401cbe8fce76301cafcf",
       "version_major": 2,
       "version_minor": 0
      },
      "text/plain": [
       "Predicting: 4317it [00:00, ?it/s]"
      ]
     },
     "metadata": {},
     "output_type": "display_data"
    },
    {
     "data": {
      "application/vnd.jupyter.widget-view+json": {
       "model_id": "7895c6ca2db1414bacc303c8104a437b",
       "version_major": 2,
       "version_minor": 0
      },
      "text/plain": [
       "Predicting: 4317it [00:00, ?it/s]"
      ]
     },
     "metadata": {},
     "output_type": "display_data"
    },
    {
     "data": {
      "application/vnd.jupyter.widget-view+json": {
       "model_id": "58142bb975fc435abb2b87fa9e4f11e6",
       "version_major": 2,
       "version_minor": 0
      },
      "text/plain": [
       "Predicting: 4317it [00:00, ?it/s]"
      ]
     },
     "metadata": {},
     "output_type": "display_data"
    },
    {
     "data": {
      "application/vnd.jupyter.widget-view+json": {
       "model_id": "335ee20635124cd9bb1e03bc3c3d6b82",
       "version_major": 2,
       "version_minor": 0
      },
      "text/plain": [
       "Predicting: 4317it [00:00, ?it/s]"
      ]
     },
     "metadata": {},
     "output_type": "display_data"
    },
    {
     "data": {
      "application/vnd.jupyter.widget-view+json": {
       "model_id": "0751814032434a1699882ef0c8549c57",
       "version_major": 2,
       "version_minor": 0
      },
      "text/plain": [
       "Predicting: 4317it [00:00, ?it/s]"
      ]
     },
     "metadata": {},
     "output_type": "display_data"
    },
    {
     "data": {
      "application/vnd.jupyter.widget-view+json": {
       "model_id": "5b0df443b30c4fff9c69e189b888a4c4",
       "version_major": 2,
       "version_minor": 0
      },
      "text/plain": [
       "Predicting: 4317it [00:00, ?it/s]"
      ]
     },
     "metadata": {},
     "output_type": "display_data"
    },
    {
     "data": {
      "application/vnd.jupyter.widget-view+json": {
       "model_id": "1a14c0e99da046539cee39c6ec44ebab",
       "version_major": 2,
       "version_minor": 0
      },
      "text/plain": [
       "Predicting: 4317it [00:00, ?it/s]"
      ]
     },
     "metadata": {},
     "output_type": "display_data"
    },
    {
     "data": {
      "application/vnd.jupyter.widget-view+json": {
       "model_id": "b928c916eb8a475ebc860e8fe80532d7",
       "version_major": 2,
       "version_minor": 0
      },
      "text/plain": [
       "Predicting: 4317it [00:00, ?it/s]"
      ]
     },
     "metadata": {},
     "output_type": "display_data"
    },
    {
     "data": {
      "application/vnd.jupyter.widget-view+json": {
       "model_id": "f431a22bfc23474787eed0ea7d221542",
       "version_major": 2,
       "version_minor": 0
      },
      "text/plain": [
       "Predicting: 4317it [00:00, ?it/s]"
      ]
     },
     "metadata": {},
     "output_type": "display_data"
    },
    {
     "data": {
      "application/vnd.jupyter.widget-view+json": {
       "model_id": "e18084921f3041c3ad898207a2d5ec3b",
       "version_major": 2,
       "version_minor": 0
      },
      "text/plain": [
       "Predicting: 4317it [00:00, ?it/s]"
      ]
     },
     "metadata": {},
     "output_type": "display_data"
    },
    {
     "data": {
      "application/vnd.jupyter.widget-view+json": {
       "model_id": "14e7cf965acc403bba58b111fb70c845",
       "version_major": 2,
       "version_minor": 0
      },
      "text/plain": [
       "Predicting: 4317it [00:00, ?it/s]"
      ]
     },
     "metadata": {},
     "output_type": "display_data"
    },
    {
     "data": {
      "application/vnd.jupyter.widget-view+json": {
       "model_id": "45ff08afe24740c58e599140ae7e4d3a",
       "version_major": 2,
       "version_minor": 0
      },
      "text/plain": [
       "Predicting: 4317it [00:00, ?it/s]"
      ]
     },
     "metadata": {},
     "output_type": "display_data"
    },
    {
     "data": {
      "application/vnd.jupyter.widget-view+json": {
       "model_id": "6e1b91ecdfdf4e37ae9c10f71a29947b",
       "version_major": 2,
       "version_minor": 0
      },
      "text/plain": [
       "Predicting: 4317it [00:00, ?it/s]"
      ]
     },
     "metadata": {},
     "output_type": "display_data"
    },
    {
     "data": {
      "application/vnd.jupyter.widget-view+json": {
       "model_id": "528f0c6e25054d71a36f32fa57014838",
       "version_major": 2,
       "version_minor": 0
      },
      "text/plain": [
       "Predicting: 4317it [00:00, ?it/s]"
      ]
     },
     "metadata": {},
     "output_type": "display_data"
    },
    {
     "data": {
      "application/vnd.jupyter.widget-view+json": {
       "model_id": "66152dce25e1435eb7e26c40d414b3e2",
       "version_major": 2,
       "version_minor": 0
      },
      "text/plain": [
       "Predicting: 4317it [00:00, ?it/s]"
      ]
     },
     "metadata": {},
     "output_type": "display_data"
    },
    {
     "data": {
      "application/vnd.jupyter.widget-view+json": {
       "model_id": "e15fe83b45434c889b37875fac8c51de",
       "version_major": 2,
       "version_minor": 0
      },
      "text/plain": [
       "Predicting: 4317it [00:00, ?it/s]"
      ]
     },
     "metadata": {},
     "output_type": "display_data"
    },
    {
     "data": {
      "application/vnd.jupyter.widget-view+json": {
       "model_id": "61d9de02351143139e4e00524f82748e",
       "version_major": 2,
       "version_minor": 0
      },
      "text/plain": [
       "Predicting: 4317it [00:00, ?it/s]"
      ]
     },
     "metadata": {},
     "output_type": "display_data"
    },
    {
     "data": {
      "application/vnd.jupyter.widget-view+json": {
       "model_id": "ee9d94ea632742f5b04f836c461641e3",
       "version_major": 2,
       "version_minor": 0
      },
      "text/plain": [
       "Predicting: 4317it [00:00, ?it/s]"
      ]
     },
     "metadata": {},
     "output_type": "display_data"
    },
    {
     "data": {
      "application/vnd.jupyter.widget-view+json": {
       "model_id": "6a9dd5d4df79403697cf4ec3f9d4edc0",
       "version_major": 2,
       "version_minor": 0
      },
      "text/plain": [
       "Predicting: 4317it [00:00, ?it/s]"
      ]
     },
     "metadata": {},
     "output_type": "display_data"
    },
    {
     "data": {
      "application/vnd.jupyter.widget-view+json": {
       "model_id": "5c0f2885773f4ad08c12c1b28e9d8790",
       "version_major": 2,
       "version_minor": 0
      },
      "text/plain": [
       "Predicting: 4317it [00:00, ?it/s]"
      ]
     },
     "metadata": {},
     "output_type": "display_data"
    },
    {
     "data": {
      "application/vnd.jupyter.widget-view+json": {
       "model_id": "ede214a9872b4f2d84e5c44a99648fbd",
       "version_major": 2,
       "version_minor": 0
      },
      "text/plain": [
       "Predicting: 4317it [00:00, ?it/s]"
      ]
     },
     "metadata": {},
     "output_type": "display_data"
    },
    {
     "data": {
      "application/vnd.jupyter.widget-view+json": {
       "model_id": "c129ddc21e8046898897f647fe608b6e",
       "version_major": 2,
       "version_minor": 0
      },
      "text/plain": [
       "Predicting: 4317it [00:00, ?it/s]"
      ]
     },
     "metadata": {},
     "output_type": "display_data"
    },
    {
     "data": {
      "application/vnd.jupyter.widget-view+json": {
       "model_id": "66d6eb49f83b471694087aeeab7d003d",
       "version_major": 2,
       "version_minor": 0
      },
      "text/plain": [
       "Predicting: 4317it [00:00, ?it/s]"
      ]
     },
     "metadata": {},
     "output_type": "display_data"
    },
    {
     "data": {
      "application/vnd.jupyter.widget-view+json": {
       "model_id": "46e58321b6f442368578296672ea553c",
       "version_major": 2,
       "version_minor": 0
      },
      "text/plain": [
       "Predicting: 4317it [00:00, ?it/s]"
      ]
     },
     "metadata": {},
     "output_type": "display_data"
    },
    {
     "data": {
      "application/vnd.jupyter.widget-view+json": {
       "model_id": "0bc63b15c5f144c485f89418b7db2b81",
       "version_major": 2,
       "version_minor": 0
      },
      "text/plain": [
       "Predicting: 4317it [00:00, ?it/s]"
      ]
     },
     "metadata": {},
     "output_type": "display_data"
    },
    {
     "data": {
      "application/vnd.jupyter.widget-view+json": {
       "model_id": "202ade66e0c74efd996a6bff0593d7d5",
       "version_major": 2,
       "version_minor": 0
      },
      "text/plain": [
       "Predicting: 4317it [00:00, ?it/s]"
      ]
     },
     "metadata": {},
     "output_type": "display_data"
    },
    {
     "data": {
      "application/vnd.jupyter.widget-view+json": {
       "model_id": "4adace7d3c274143977e7c0490341ccd",
       "version_major": 2,
       "version_minor": 0
      },
      "text/plain": [
       "Predicting: 4317it [00:00, ?it/s]"
      ]
     },
     "metadata": {},
     "output_type": "display_data"
    },
    {
     "data": {
      "application/vnd.jupyter.widget-view+json": {
       "model_id": "25a3541a40314bed8ea11953ca1e30dd",
       "version_major": 2,
       "version_minor": 0
      },
      "text/plain": [
       "Predicting: 4317it [00:00, ?it/s]"
      ]
     },
     "metadata": {},
     "output_type": "display_data"
    },
    {
     "data": {
      "application/vnd.jupyter.widget-view+json": {
       "model_id": "a76dceee7c1045adb2e309fcd9bda177",
       "version_major": 2,
       "version_minor": 0
      },
      "text/plain": [
       "Predicting: 4317it [00:00, ?it/s]"
      ]
     },
     "metadata": {},
     "output_type": "display_data"
    },
    {
     "data": {
      "application/vnd.jupyter.widget-view+json": {
       "model_id": "670890472e6b46768ae9987cb697e947",
       "version_major": 2,
       "version_minor": 0
      },
      "text/plain": [
       "Predicting: 4317it [00:00, ?it/s]"
      ]
     },
     "metadata": {},
     "output_type": "display_data"
    },
    {
     "data": {
      "application/vnd.jupyter.widget-view+json": {
       "model_id": "7cfa51047b044079b282ccfca97d3974",
       "version_major": 2,
       "version_minor": 0
      },
      "text/plain": [
       "Predicting: 4317it [00:00, ?it/s]"
      ]
     },
     "metadata": {},
     "output_type": "display_data"
    },
    {
     "data": {
      "application/vnd.jupyter.widget-view+json": {
       "model_id": "521b8ce95e224166827598ea13a8f9de",
       "version_major": 2,
       "version_minor": 0
      },
      "text/plain": [
       "Predicting: 4317it [00:00, ?it/s]"
      ]
     },
     "metadata": {},
     "output_type": "display_data"
    },
    {
     "data": {
      "application/vnd.jupyter.widget-view+json": {
       "model_id": "1c8b6913499849069dae17dba2bb229e",
       "version_major": 2,
       "version_minor": 0
      },
      "text/plain": [
       "Predicting: 4317it [00:00, ?it/s]"
      ]
     },
     "metadata": {},
     "output_type": "display_data"
    },
    {
     "data": {
      "application/vnd.jupyter.widget-view+json": {
       "model_id": "1417ff4eea0a41f4932ac909601b57c0",
       "version_major": 2,
       "version_minor": 0
      },
      "text/plain": [
       "Predicting: 4317it [00:00, ?it/s]"
      ]
     },
     "metadata": {},
     "output_type": "display_data"
    },
    {
     "data": {
      "application/vnd.jupyter.widget-view+json": {
       "model_id": "55e6a66956e44917be50138d7d3586ac",
       "version_major": 2,
       "version_minor": 0
      },
      "text/plain": [
       "Predicting: 4317it [00:00, ?it/s]"
      ]
     },
     "metadata": {},
     "output_type": "display_data"
    },
    {
     "data": {
      "application/vnd.jupyter.widget-view+json": {
       "model_id": "999d1a8080bb497ab4edff2924d3af0a",
       "version_major": 2,
       "version_minor": 0
      },
      "text/plain": [
       "Predicting: 4317it [00:00, ?it/s]"
      ]
     },
     "metadata": {},
     "output_type": "display_data"
    },
    {
     "data": {
      "application/vnd.jupyter.widget-view+json": {
       "model_id": "3d556b91ef3f4de1bec26992d84894a4",
       "version_major": 2,
       "version_minor": 0
      },
      "text/plain": [
       "Predicting: 4317it [00:00, ?it/s]"
      ]
     },
     "metadata": {},
     "output_type": "display_data"
    },
    {
     "data": {
      "application/vnd.jupyter.widget-view+json": {
       "model_id": "cc7b44d718714fe09513171a0b0aec1a",
       "version_major": 2,
       "version_minor": 0
      },
      "text/plain": [
       "Predicting: 4317it [00:00, ?it/s]"
      ]
     },
     "metadata": {},
     "output_type": "display_data"
    },
    {
     "data": {
      "application/vnd.jupyter.widget-view+json": {
       "model_id": "4b740c08afcc4b09a673f8d836e4ba56",
       "version_major": 2,
       "version_minor": 0
      },
      "text/plain": [
       "Predicting: 4317it [00:00, ?it/s]"
      ]
     },
     "metadata": {},
     "output_type": "display_data"
    },
    {
     "data": {
      "application/vnd.jupyter.widget-view+json": {
       "model_id": "f2086bb204824c0fa641cc983c85c45f",
       "version_major": 2,
       "version_minor": 0
      },
      "text/plain": [
       "Predicting: 4317it [00:00, ?it/s]"
      ]
     },
     "metadata": {},
     "output_type": "display_data"
    },
    {
     "data": {
      "application/vnd.jupyter.widget-view+json": {
       "model_id": "3939bd2a0a654df2b3c7fa226f3bd90e",
       "version_major": 2,
       "version_minor": 0
      },
      "text/plain": [
       "Predicting: 4317it [00:00, ?it/s]"
      ]
     },
     "metadata": {},
     "output_type": "display_data"
    },
    {
     "data": {
      "application/vnd.jupyter.widget-view+json": {
       "model_id": "1f02b4d56592481aa18f4ae7cfb7f69f",
       "version_major": 2,
       "version_minor": 0
      },
      "text/plain": [
       "Predicting: 4317it [00:00, ?it/s]"
      ]
     },
     "metadata": {},
     "output_type": "display_data"
    },
    {
     "data": {
      "application/vnd.jupyter.widget-view+json": {
       "model_id": "6a6ad758a1e143608a93f379044d621d",
       "version_major": 2,
       "version_minor": 0
      },
      "text/plain": [
       "Predicting: 4317it [00:00, ?it/s]"
      ]
     },
     "metadata": {},
     "output_type": "display_data"
    },
    {
     "data": {
      "application/vnd.jupyter.widget-view+json": {
       "model_id": "e5c51fe24bf6471eb3f09740e198ac60",
       "version_major": 2,
       "version_minor": 0
      },
      "text/plain": [
       "Predicting: 4317it [00:00, ?it/s]"
      ]
     },
     "metadata": {},
     "output_type": "display_data"
    },
    {
     "data": {
      "application/vnd.jupyter.widget-view+json": {
       "model_id": "dd10af200b494456ac6c23f4303d4d6d",
       "version_major": 2,
       "version_minor": 0
      },
      "text/plain": [
       "Predicting: 4317it [00:00, ?it/s]"
      ]
     },
     "metadata": {},
     "output_type": "display_data"
    },
    {
     "data": {
      "application/vnd.jupyter.widget-view+json": {
       "model_id": "b63ee4b2aae346c89c76ff91a1bd39a6",
       "version_major": 2,
       "version_minor": 0
      },
      "text/plain": [
       "Predicting: 4317it [00:00, ?it/s]"
      ]
     },
     "metadata": {},
     "output_type": "display_data"
    },
    {
     "data": {
      "application/vnd.jupyter.widget-view+json": {
       "model_id": "60fda9669b584276b9e284665d970c6f",
       "version_major": 2,
       "version_minor": 0
      },
      "text/plain": [
       "Predicting: 4317it [00:00, ?it/s]"
      ]
     },
     "metadata": {},
     "output_type": "display_data"
    },
    {
     "data": {
      "application/vnd.jupyter.widget-view+json": {
       "model_id": "5564d51c70704b098c86a3463b8c19e8",
       "version_major": 2,
       "version_minor": 0
      },
      "text/plain": [
       "Predicting: 4317it [00:00, ?it/s]"
      ]
     },
     "metadata": {},
     "output_type": "display_data"
    },
    {
     "data": {
      "application/vnd.jupyter.widget-view+json": {
       "model_id": "7d30a3a247c24764b7c860589bb2b396",
       "version_major": 2,
       "version_minor": 0
      },
      "text/plain": [
       "Predicting: 4317it [00:00, ?it/s]"
      ]
     },
     "metadata": {},
     "output_type": "display_data"
    },
    {
     "data": {
      "application/vnd.jupyter.widget-view+json": {
       "model_id": "038fb514dfd9497d9a7fff61401ef29d",
       "version_major": 2,
       "version_minor": 0
      },
      "text/plain": [
       "Predicting: 4317it [00:00, ?it/s]"
      ]
     },
     "metadata": {},
     "output_type": "display_data"
    },
    {
     "data": {
      "application/vnd.jupyter.widget-view+json": {
       "model_id": "5f207f154269438fac01162ef0410cc0",
       "version_major": 2,
       "version_minor": 0
      },
      "text/plain": [
       "Predicting: 4317it [00:00, ?it/s]"
      ]
     },
     "metadata": {},
     "output_type": "display_data"
    },
    {
     "data": {
      "application/vnd.jupyter.widget-view+json": {
       "model_id": "6bbf05293d724ae0ae069df17241ab4a",
       "version_major": 2,
       "version_minor": 0
      },
      "text/plain": [
       "Predicting: 4317it [00:00, ?it/s]"
      ]
     },
     "metadata": {},
     "output_type": "display_data"
    },
    {
     "data": {
      "application/vnd.jupyter.widget-view+json": {
       "model_id": "97b96910ff5d42ceb25bc293e22488ea",
       "version_major": 2,
       "version_minor": 0
      },
      "text/plain": [
       "Predicting: 4317it [00:00, ?it/s]"
      ]
     },
     "metadata": {},
     "output_type": "display_data"
    },
    {
     "data": {
      "application/vnd.jupyter.widget-view+json": {
       "model_id": "e4a87664a31a4158a37bd60323273c37",
       "version_major": 2,
       "version_minor": 0
      },
      "text/plain": [
       "Predicting: 4317it [00:00, ?it/s]"
      ]
     },
     "metadata": {},
     "output_type": "display_data"
    },
    {
     "data": {
      "application/vnd.jupyter.widget-view+json": {
       "model_id": "04784dd12df94681a2ba63aaeea329d8",
       "version_major": 2,
       "version_minor": 0
      },
      "text/plain": [
       "Predicting: 4317it [00:00, ?it/s]"
      ]
     },
     "metadata": {},
     "output_type": "display_data"
    },
    {
     "data": {
      "application/vnd.jupyter.widget-view+json": {
       "model_id": "40e29df030f84301b33cfb94f9ac7fe6",
       "version_major": 2,
       "version_minor": 0
      },
      "text/plain": [
       "Predicting: 4317it [00:00, ?it/s]"
      ]
     },
     "metadata": {},
     "output_type": "display_data"
    },
    {
     "data": {
      "application/vnd.jupyter.widget-view+json": {
       "model_id": "86fd52b231824484846a96ad32e42835",
       "version_major": 2,
       "version_minor": 0
      },
      "text/plain": [
       "Predicting: 4317it [00:00, ?it/s]"
      ]
     },
     "metadata": {},
     "output_type": "display_data"
    },
    {
     "data": {
      "application/vnd.jupyter.widget-view+json": {
       "model_id": "f1e6f51596c74a2ca86821370199a9f8",
       "version_major": 2,
       "version_minor": 0
      },
      "text/plain": [
       "Predicting: 4317it [00:00, ?it/s]"
      ]
     },
     "metadata": {},
     "output_type": "display_data"
    },
    {
     "data": {
      "application/vnd.jupyter.widget-view+json": {
       "model_id": "83f34725bd454e89ab6302c535b6ae00",
       "version_major": 2,
       "version_minor": 0
      },
      "text/plain": [
       "Predicting: 4317it [00:00, ?it/s]"
      ]
     },
     "metadata": {},
     "output_type": "display_data"
    },
    {
     "data": {
      "application/vnd.jupyter.widget-view+json": {
       "model_id": "4ef6d36524b449d597156ea68eaea260",
       "version_major": 2,
       "version_minor": 0
      },
      "text/plain": [
       "Predicting: 4317it [00:00, ?it/s]"
      ]
     },
     "metadata": {},
     "output_type": "display_data"
    },
    {
     "data": {
      "application/vnd.jupyter.widget-view+json": {
       "model_id": "845782c7140543dfb08181dbb6bf249f",
       "version_major": 2,
       "version_minor": 0
      },
      "text/plain": [
       "Predicting: 4317it [00:00, ?it/s]"
      ]
     },
     "metadata": {},
     "output_type": "display_data"
    },
    {
     "data": {
      "application/vnd.jupyter.widget-view+json": {
       "model_id": "d798d7275d884620aa3e100318d0e30c",
       "version_major": 2,
       "version_minor": 0
      },
      "text/plain": [
       "Predicting: 4317it [00:00, ?it/s]"
      ]
     },
     "metadata": {},
     "output_type": "display_data"
    },
    {
     "data": {
      "application/vnd.jupyter.widget-view+json": {
       "model_id": "0b32e9a32b4c4fbca590878e04d82cf1",
       "version_major": 2,
       "version_minor": 0
      },
      "text/plain": [
       "Predicting: 4317it [00:00, ?it/s]"
      ]
     },
     "metadata": {},
     "output_type": "display_data"
    },
    {
     "data": {
      "application/vnd.jupyter.widget-view+json": {
       "model_id": "7f6358d126cc4cb4a93d1317136b2f80",
       "version_major": 2,
       "version_minor": 0
      },
      "text/plain": [
       "Predicting: 4317it [00:00, ?it/s]"
      ]
     },
     "metadata": {},
     "output_type": "display_data"
    },
    {
     "data": {
      "application/vnd.jupyter.widget-view+json": {
       "model_id": "1427de8e89b04527a633a83f63f65fa2",
       "version_major": 2,
       "version_minor": 0
      },
      "text/plain": [
       "Predicting: 4317it [00:00, ?it/s]"
      ]
     },
     "metadata": {},
     "output_type": "display_data"
    },
    {
     "data": {
      "application/vnd.jupyter.widget-view+json": {
       "model_id": "d5b585ff5a6c4c0ea328c0682d1a1371",
       "version_major": 2,
       "version_minor": 0
      },
      "text/plain": [
       "Predicting: 4317it [00:00, ?it/s]"
      ]
     },
     "metadata": {},
     "output_type": "display_data"
    },
    {
     "data": {
      "application/vnd.jupyter.widget-view+json": {
       "model_id": "a34b481bb4db45d483109f8ecaabb849",
       "version_major": 2,
       "version_minor": 0
      },
      "text/plain": [
       "Predicting: 4317it [00:00, ?it/s]"
      ]
     },
     "metadata": {},
     "output_type": "display_data"
    },
    {
     "data": {
      "application/vnd.jupyter.widget-view+json": {
       "model_id": "a8e513930fd8482e82a4624dcdbaf486",
       "version_major": 2,
       "version_minor": 0
      },
      "text/plain": [
       "Predicting: 4317it [00:00, ?it/s]"
      ]
     },
     "metadata": {},
     "output_type": "display_data"
    },
    {
     "data": {
      "application/vnd.jupyter.widget-view+json": {
       "model_id": "95427ea913484401989b156e06f701ce",
       "version_major": 2,
       "version_minor": 0
      },
      "text/plain": [
       "Predicting: 4317it [00:00, ?it/s]"
      ]
     },
     "metadata": {},
     "output_type": "display_data"
    },
    {
     "data": {
      "application/vnd.jupyter.widget-view+json": {
       "model_id": "2ea4e22cd8244ff8819731e54c2c59c5",
       "version_major": 2,
       "version_minor": 0
      },
      "text/plain": [
       "Predicting: 4317it [00:00, ?it/s]"
      ]
     },
     "metadata": {},
     "output_type": "display_data"
    },
    {
     "data": {
      "application/vnd.jupyter.widget-view+json": {
       "model_id": "838c43e92f194d468e9cb72e59842d3f",
       "version_major": 2,
       "version_minor": 0
      },
      "text/plain": [
       "Predicting: 4317it [00:00, ?it/s]"
      ]
     },
     "metadata": {},
     "output_type": "display_data"
    },
    {
     "data": {
      "application/vnd.jupyter.widget-view+json": {
       "model_id": "13e41a765a384392bc8d7c445e6350c9",
       "version_major": 2,
       "version_minor": 0
      },
      "text/plain": [
       "Predicting: 4317it [00:00, ?it/s]"
      ]
     },
     "metadata": {},
     "output_type": "display_data"
    },
    {
     "data": {
      "application/vnd.jupyter.widget-view+json": {
       "model_id": "17f4790018704f99a824702591c3be09",
       "version_major": 2,
       "version_minor": 0
      },
      "text/plain": [
       "Predicting: 4317it [00:00, ?it/s]"
      ]
     },
     "metadata": {},
     "output_type": "display_data"
    },
    {
     "data": {
      "application/vnd.jupyter.widget-view+json": {
       "model_id": "2a0fe8940a7a4b1d90f0dc5004e5d40f",
       "version_major": 2,
       "version_minor": 0
      },
      "text/plain": [
       "Predicting: 4317it [00:00, ?it/s]"
      ]
     },
     "metadata": {},
     "output_type": "display_data"
    },
    {
     "data": {
      "application/vnd.jupyter.widget-view+json": {
       "model_id": "390fada71cfc4ed5bb226d383ad61a40",
       "version_major": 2,
       "version_minor": 0
      },
      "text/plain": [
       "Predicting: 4317it [00:00, ?it/s]"
      ]
     },
     "metadata": {},
     "output_type": "display_data"
    },
    {
     "data": {
      "application/vnd.jupyter.widget-view+json": {
       "model_id": "829882a982a74076b12cb6da08915373",
       "version_major": 2,
       "version_minor": 0
      },
      "text/plain": [
       "Predicting: 4317it [00:00, ?it/s]"
      ]
     },
     "metadata": {},
     "output_type": "display_data"
    },
    {
     "data": {
      "application/vnd.jupyter.widget-view+json": {
       "model_id": "282d45d5cecc4d89900cb030a19fa3cc",
       "version_major": 2,
       "version_minor": 0
      },
      "text/plain": [
       "Predicting: 4317it [00:00, ?it/s]"
      ]
     },
     "metadata": {},
     "output_type": "display_data"
    },
    {
     "data": {
      "application/vnd.jupyter.widget-view+json": {
       "model_id": "8db2f897c93a4c3e83b1dee81b4def05",
       "version_major": 2,
       "version_minor": 0
      },
      "text/plain": [
       "Predicting: 4317it [00:00, ?it/s]"
      ]
     },
     "metadata": {},
     "output_type": "display_data"
    },
    {
     "data": {
      "application/vnd.jupyter.widget-view+json": {
       "model_id": "950a8b8cccf94d1282f6d2f8a2611e11",
       "version_major": 2,
       "version_minor": 0
      },
      "text/plain": [
       "Predicting: 4317it [00:00, ?it/s]"
      ]
     },
     "metadata": {},
     "output_type": "display_data"
    },
    {
     "data": {
      "application/vnd.jupyter.widget-view+json": {
       "model_id": "82a3b7ca13c543e5a38e8e98f28012c9",
       "version_major": 2,
       "version_minor": 0
      },
      "text/plain": [
       "Predicting: 4317it [00:00, ?it/s]"
      ]
     },
     "metadata": {},
     "output_type": "display_data"
    },
    {
     "data": {
      "application/vnd.jupyter.widget-view+json": {
       "model_id": "6fbb64d9a60044f1bf2d8f27f5dd2e5c",
       "version_major": 2,
       "version_minor": 0
      },
      "text/plain": [
       "Predicting: 4317it [00:00, ?it/s]"
      ]
     },
     "metadata": {},
     "output_type": "display_data"
    },
    {
     "data": {
      "application/vnd.jupyter.widget-view+json": {
       "model_id": "cf34473312c24b1997e5a8a8dc5748f8",
       "version_major": 2,
       "version_minor": 0
      },
      "text/plain": [
       "Predicting: 4317it [00:00, ?it/s]"
      ]
     },
     "metadata": {},
     "output_type": "display_data"
    },
    {
     "data": {
      "application/vnd.jupyter.widget-view+json": {
       "model_id": "7bee2e1ea158403babfdeaf889035767",
       "version_major": 2,
       "version_minor": 0
      },
      "text/plain": [
       "Predicting: 4317it [00:00, ?it/s]"
      ]
     },
     "metadata": {},
     "output_type": "display_data"
    },
    {
     "data": {
      "application/vnd.jupyter.widget-view+json": {
       "model_id": "17e9a4f0d07c4206a0f9c73aa47ae9cb",
       "version_major": 2,
       "version_minor": 0
      },
      "text/plain": [
       "Predicting: 4317it [00:00, ?it/s]"
      ]
     },
     "metadata": {},
     "output_type": "display_data"
    },
    {
     "data": {
      "application/vnd.jupyter.widget-view+json": {
       "model_id": "442801f5c0c843a387a5d406bd082a70",
       "version_major": 2,
       "version_minor": 0
      },
      "text/plain": [
       "Predicting: 4317it [00:00, ?it/s]"
      ]
     },
     "metadata": {},
     "output_type": "display_data"
    },
    {
     "data": {
      "application/vnd.jupyter.widget-view+json": {
       "model_id": "90dcf66e49cb417b8a23de1948edf25d",
       "version_major": 2,
       "version_minor": 0
      },
      "text/plain": [
       "Predicting: 4317it [00:00, ?it/s]"
      ]
     },
     "metadata": {},
     "output_type": "display_data"
    },
    {
     "data": {
      "application/vnd.jupyter.widget-view+json": {
       "model_id": "e19c77342fba4f99a31f778eeb608ac7",
       "version_major": 2,
       "version_minor": 0
      },
      "text/plain": [
       "Predicting: 4317it [00:00, ?it/s]"
      ]
     },
     "metadata": {},
     "output_type": "display_data"
    },
    {
     "data": {
      "application/vnd.jupyter.widget-view+json": {
       "model_id": "dbb78fa942274e98965acc07701620e0",
       "version_major": 2,
       "version_minor": 0
      },
      "text/plain": [
       "Predicting: 4317it [00:00, ?it/s]"
      ]
     },
     "metadata": {},
     "output_type": "display_data"
    },
    {
     "data": {
      "application/vnd.jupyter.widget-view+json": {
       "model_id": "f13356506ccd443194db93745d582f85",
       "version_major": 2,
       "version_minor": 0
      },
      "text/plain": [
       "Predicting: 4317it [00:00, ?it/s]"
      ]
     },
     "metadata": {},
     "output_type": "display_data"
    },
    {
     "data": {
      "application/vnd.jupyter.widget-view+json": {
       "model_id": "67982a8655da42d782c123d3112d00b7",
       "version_major": 2,
       "version_minor": 0
      },
      "text/plain": [
       "Predicting: 4317it [00:00, ?it/s]"
      ]
     },
     "metadata": {},
     "output_type": "display_data"
    },
    {
     "data": {
      "application/vnd.jupyter.widget-view+json": {
       "model_id": "1ccb10bbae1e4c2f9cb667704ad40fe5",
       "version_major": 2,
       "version_minor": 0
      },
      "text/plain": [
       "Predicting: 4317it [00:00, ?it/s]"
      ]
     },
     "metadata": {},
     "output_type": "display_data"
    },
    {
     "data": {
      "application/vnd.jupyter.widget-view+json": {
       "model_id": "a228ed35fefe49649a61e7b5e567827d",
       "version_major": 2,
       "version_minor": 0
      },
      "text/plain": [
       "Predicting: 4317it [00:00, ?it/s]"
      ]
     },
     "metadata": {},
     "output_type": "display_data"
    },
    {
     "data": {
      "application/vnd.jupyter.widget-view+json": {
       "model_id": "70cc6242969a42f1abb9f47a552a20c3",
       "version_major": 2,
       "version_minor": 0
      },
      "text/plain": [
       "Predicting: 4317it [00:00, ?it/s]"
      ]
     },
     "metadata": {},
     "output_type": "display_data"
    },
    {
     "data": {
      "application/vnd.jupyter.widget-view+json": {
       "model_id": "e8082cac60484e8ea8579d84dcab725e",
       "version_major": 2,
       "version_minor": 0
      },
      "text/plain": [
       "Predicting: 4317it [00:00, ?it/s]"
      ]
     },
     "metadata": {},
     "output_type": "display_data"
    },
    {
     "data": {
      "application/vnd.jupyter.widget-view+json": {
       "model_id": "cb082f2062f14d23958d7092be3ca074",
       "version_major": 2,
       "version_minor": 0
      },
      "text/plain": [
       "Predicting: 4317it [00:00, ?it/s]"
      ]
     },
     "metadata": {},
     "output_type": "display_data"
    },
    {
     "data": {
      "application/vnd.jupyter.widget-view+json": {
       "model_id": "adf59b18e8d4461a9e5294857a72d416",
       "version_major": 2,
       "version_minor": 0
      },
      "text/plain": [
       "Predicting: 4317it [00:00, ?it/s]"
      ]
     },
     "metadata": {},
     "output_type": "display_data"
    },
    {
     "data": {
      "application/vnd.jupyter.widget-view+json": {
       "model_id": "8e451321476b4a8e900336a06a5f4090",
       "version_major": 2,
       "version_minor": 0
      },
      "text/plain": [
       "Predicting: 4317it [00:00, ?it/s]"
      ]
     },
     "metadata": {},
     "output_type": "display_data"
    },
    {
     "data": {
      "application/vnd.jupyter.widget-view+json": {
       "model_id": "113de26810c34446b00ce3834e0e8a3c",
       "version_major": 2,
       "version_minor": 0
      },
      "text/plain": [
       "Predicting: 4317it [00:00, ?it/s]"
      ]
     },
     "metadata": {},
     "output_type": "display_data"
    },
    {
     "data": {
      "application/vnd.jupyter.widget-view+json": {
       "model_id": "0aa3041ab7e3486fa8bebd927ecf48d7",
       "version_major": 2,
       "version_minor": 0
      },
      "text/plain": [
       "Predicting: 4317it [00:00, ?it/s]"
      ]
     },
     "metadata": {},
     "output_type": "display_data"
    },
    {
     "data": {
      "application/vnd.jupyter.widget-view+json": {
       "model_id": "34ec464890b7425c91aea67a2be30624",
       "version_major": 2,
       "version_minor": 0
      },
      "text/plain": [
       "Predicting: 4317it [00:00, ?it/s]"
      ]
     },
     "metadata": {},
     "output_type": "display_data"
    },
    {
     "data": {
      "application/vnd.jupyter.widget-view+json": {
       "model_id": "38f5477699f54f3ab83872f706b6ce4e",
       "version_major": 2,
       "version_minor": 0
      },
      "text/plain": [
       "Predicting: 4317it [00:00, ?it/s]"
      ]
     },
     "metadata": {},
     "output_type": "display_data"
    },
    {
     "data": {
      "application/vnd.jupyter.widget-view+json": {
       "model_id": "0c816d32f0414ca3b4ba7cb0f010e666",
       "version_major": 2,
       "version_minor": 0
      },
      "text/plain": [
       "Predicting: 4317it [00:00, ?it/s]"
      ]
     },
     "metadata": {},
     "output_type": "display_data"
    },
    {
     "data": {
      "application/vnd.jupyter.widget-view+json": {
       "model_id": "d1675ac4f48645c0ab9a231ea56cdc9c",
       "version_major": 2,
       "version_minor": 0
      },
      "text/plain": [
       "Predicting: 4317it [00:00, ?it/s]"
      ]
     },
     "metadata": {},
     "output_type": "display_data"
    },
    {
     "data": {
      "application/vnd.jupyter.widget-view+json": {
       "model_id": "2f3a3d4d85a94af281864dd61a478603",
       "version_major": 2,
       "version_minor": 0
      },
      "text/plain": [
       "Predicting: 4317it [00:00, ?it/s]"
      ]
     },
     "metadata": {},
     "output_type": "display_data"
    },
    {
     "data": {
      "application/vnd.jupyter.widget-view+json": {
       "model_id": "f59e87d2ba47419c8bc716d710038a04",
       "version_major": 2,
       "version_minor": 0
      },
      "text/plain": [
       "Predicting: 4317it [00:00, ?it/s]"
      ]
     },
     "metadata": {},
     "output_type": "display_data"
    },
    {
     "data": {
      "application/vnd.jupyter.widget-view+json": {
       "model_id": "03fac4d9f3f144c3b5c960b7d6e5dea3",
       "version_major": 2,
       "version_minor": 0
      },
      "text/plain": [
       "Predicting: 4317it [00:00, ?it/s]"
      ]
     },
     "metadata": {},
     "output_type": "display_data"
    },
    {
     "data": {
      "application/vnd.jupyter.widget-view+json": {
       "model_id": "8a4fffc730924bd1a58c183dd34a90a5",
       "version_major": 2,
       "version_minor": 0
      },
      "text/plain": [
       "Predicting: 4317it [00:00, ?it/s]"
      ]
     },
     "metadata": {},
     "output_type": "display_data"
    },
    {
     "data": {
      "application/vnd.jupyter.widget-view+json": {
       "model_id": "5a45814287204e4f84a54f0fded8041a",
       "version_major": 2,
       "version_minor": 0
      },
      "text/plain": [
       "Predicting: 4317it [00:00, ?it/s]"
      ]
     },
     "metadata": {},
     "output_type": "display_data"
    },
    {
     "data": {
      "application/vnd.jupyter.widget-view+json": {
       "model_id": "c3356f0a01bc4ac1addcffd3026fede9",
       "version_major": 2,
       "version_minor": 0
      },
      "text/plain": [
       "Predicting: 4317it [00:00, ?it/s]"
      ]
     },
     "metadata": {},
     "output_type": "display_data"
    },
    {
     "data": {
      "application/vnd.jupyter.widget-view+json": {
       "model_id": "7b03f6223f914b54a2985a2bcbde381b",
       "version_major": 2,
       "version_minor": 0
      },
      "text/plain": [
       "Predicting: 4317it [00:00, ?it/s]"
      ]
     },
     "metadata": {},
     "output_type": "display_data"
    },
    {
     "data": {
      "application/vnd.jupyter.widget-view+json": {
       "model_id": "c3ae047b69ef4512b380e545db623c2f",
       "version_major": 2,
       "version_minor": 0
      },
      "text/plain": [
       "Predicting: 4317it [00:00, ?it/s]"
      ]
     },
     "metadata": {},
     "output_type": "display_data"
    },
    {
     "data": {
      "application/vnd.jupyter.widget-view+json": {
       "model_id": "d39af0f0b721477b97911af3da465afe",
       "version_major": 2,
       "version_minor": 0
      },
      "text/plain": [
       "Predicting: 4317it [00:00, ?it/s]"
      ]
     },
     "metadata": {},
     "output_type": "display_data"
    },
    {
     "data": {
      "application/vnd.jupyter.widget-view+json": {
       "model_id": "567b5064382245d4a937034eed3bcd5b",
       "version_major": 2,
       "version_minor": 0
      },
      "text/plain": [
       "Predicting: 4317it [00:00, ?it/s]"
      ]
     },
     "metadata": {},
     "output_type": "display_data"
    },
    {
     "data": {
      "application/vnd.jupyter.widget-view+json": {
       "model_id": "68b281d64b0848e197cb4cadb47cc6ee",
       "version_major": 2,
       "version_minor": 0
      },
      "text/plain": [
       "Predicting: 4317it [00:00, ?it/s]"
      ]
     },
     "metadata": {},
     "output_type": "display_data"
    },
    {
     "data": {
      "application/vnd.jupyter.widget-view+json": {
       "model_id": "f95a34b570ba4db7bbe56f68a8d6da8e",
       "version_major": 2,
       "version_minor": 0
      },
      "text/plain": [
       "Predicting: 4317it [00:00, ?it/s]"
      ]
     },
     "metadata": {},
     "output_type": "display_data"
    },
    {
     "data": {
      "application/vnd.jupyter.widget-view+json": {
       "model_id": "42a48f79c2c24c549fd775366c8069f1",
       "version_major": 2,
       "version_minor": 0
      },
      "text/plain": [
       "Predicting: 4317it [00:00, ?it/s]"
      ]
     },
     "metadata": {},
     "output_type": "display_data"
    },
    {
     "data": {
      "application/vnd.jupyter.widget-view+json": {
       "model_id": "d4f9a399ec1a47eba584e96a15eb813c",
       "version_major": 2,
       "version_minor": 0
      },
      "text/plain": [
       "Predicting: 4317it [00:00, ?it/s]"
      ]
     },
     "metadata": {},
     "output_type": "display_data"
    },
    {
     "data": {
      "application/vnd.jupyter.widget-view+json": {
       "model_id": "3bdda4e6834a4e1d98cd5728a1da0647",
       "version_major": 2,
       "version_minor": 0
      },
      "text/plain": [
       "Predicting: 4317it [00:00, ?it/s]"
      ]
     },
     "metadata": {},
     "output_type": "display_data"
    },
    {
     "data": {
      "application/vnd.jupyter.widget-view+json": {
       "model_id": "6d3b3b9d5d6240019f2d738a40c07c25",
       "version_major": 2,
       "version_minor": 0
      },
      "text/plain": [
       "Predicting: 4317it [00:00, ?it/s]"
      ]
     },
     "metadata": {},
     "output_type": "display_data"
    },
    {
     "data": {
      "application/vnd.jupyter.widget-view+json": {
       "model_id": "30e6dcc123764f26a2262fa966e5f57f",
       "version_major": 2,
       "version_minor": 0
      },
      "text/plain": [
       "Predicting: 4317it [00:00, ?it/s]"
      ]
     },
     "metadata": {},
     "output_type": "display_data"
    },
    {
     "data": {
      "application/vnd.jupyter.widget-view+json": {
       "model_id": "7f97b16a840145a88e5e556a4d7addf5",
       "version_major": 2,
       "version_minor": 0
      },
      "text/plain": [
       "Predicting: 4317it [00:00, ?it/s]"
      ]
     },
     "metadata": {},
     "output_type": "display_data"
    },
    {
     "data": {
      "application/vnd.jupyter.widget-view+json": {
       "model_id": "f02902f5dfd74f7387ed6e10a318041a",
       "version_major": 2,
       "version_minor": 0
      },
      "text/plain": [
       "Predicting: 4317it [00:00, ?it/s]"
      ]
     },
     "metadata": {},
     "output_type": "display_data"
    },
    {
     "data": {
      "application/vnd.jupyter.widget-view+json": {
       "model_id": "abef20926d204b6fa4394e93be2421f5",
       "version_major": 2,
       "version_minor": 0
      },
      "text/plain": [
       "Predicting: 4317it [00:00, ?it/s]"
      ]
     },
     "metadata": {},
     "output_type": "display_data"
    },
    {
     "data": {
      "application/vnd.jupyter.widget-view+json": {
       "model_id": "430f8aaf29c34db99e00ac35953f31ca",
       "version_major": 2,
       "version_minor": 0
      },
      "text/plain": [
       "Predicting: 4317it [00:00, ?it/s]"
      ]
     },
     "metadata": {},
     "output_type": "display_data"
    },
    {
     "data": {
      "application/vnd.jupyter.widget-view+json": {
       "model_id": "d48a5cd94d4e4f139bbd6ab2e5601617",
       "version_major": 2,
       "version_minor": 0
      },
      "text/plain": [
       "Predicting: 4317it [00:00, ?it/s]"
      ]
     },
     "metadata": {},
     "output_type": "display_data"
    },
    {
     "data": {
      "application/vnd.jupyter.widget-view+json": {
       "model_id": "2918b996639b4e4c961b30ec0cc02395",
       "version_major": 2,
       "version_minor": 0
      },
      "text/plain": [
       "Predicting: 4317it [00:00, ?it/s]"
      ]
     },
     "metadata": {},
     "output_type": "display_data"
    },
    {
     "data": {
      "application/vnd.jupyter.widget-view+json": {
       "model_id": "cc655d783fff4ab49186ff8b36064a26",
       "version_major": 2,
       "version_minor": 0
      },
      "text/plain": [
       "Predicting: 4317it [00:00, ?it/s]"
      ]
     },
     "metadata": {},
     "output_type": "display_data"
    },
    {
     "data": {
      "application/vnd.jupyter.widget-view+json": {
       "model_id": "881b993e71eb4273aecc590f8ac1be6c",
       "version_major": 2,
       "version_minor": 0
      },
      "text/plain": [
       "Predicting: 4317it [00:00, ?it/s]"
      ]
     },
     "metadata": {},
     "output_type": "display_data"
    },
    {
     "data": {
      "application/vnd.jupyter.widget-view+json": {
       "model_id": "f5b20dd32d754144b63e4192e1db12d7",
       "version_major": 2,
       "version_minor": 0
      },
      "text/plain": [
       "Predicting: 4317it [00:00, ?it/s]"
      ]
     },
     "metadata": {},
     "output_type": "display_data"
    },
    {
     "data": {
      "application/vnd.jupyter.widget-view+json": {
       "model_id": "775570e42f264825933a24497be3e985",
       "version_major": 2,
       "version_minor": 0
      },
      "text/plain": [
       "Predicting: 4317it [00:00, ?it/s]"
      ]
     },
     "metadata": {},
     "output_type": "display_data"
    },
    {
     "data": {
      "application/vnd.jupyter.widget-view+json": {
       "model_id": "df9df151a2884a858d2dea99e36dce5f",
       "version_major": 2,
       "version_minor": 0
      },
      "text/plain": [
       "Predicting: 4317it [00:00, ?it/s]"
      ]
     },
     "metadata": {},
     "output_type": "display_data"
    },
    {
     "data": {
      "application/vnd.jupyter.widget-view+json": {
       "model_id": "557ebc7e52b442b3a7e6eb7d3705b3c9",
       "version_major": 2,
       "version_minor": 0
      },
      "text/plain": [
       "Predicting: 4317it [00:00, ?it/s]"
      ]
     },
     "metadata": {},
     "output_type": "display_data"
    },
    {
     "data": {
      "application/vnd.jupyter.widget-view+json": {
       "model_id": "7f737a32e44645ad9d8a7919b6aac3bc",
       "version_major": 2,
       "version_minor": 0
      },
      "text/plain": [
       "Predicting: 4317it [00:00, ?it/s]"
      ]
     },
     "metadata": {},
     "output_type": "display_data"
    },
    {
     "data": {
      "application/vnd.jupyter.widget-view+json": {
       "model_id": "64a596e63e584307b7c7267376fdde19",
       "version_major": 2,
       "version_minor": 0
      },
      "text/plain": [
       "Predicting: 4317it [00:00, ?it/s]"
      ]
     },
     "metadata": {},
     "output_type": "display_data"
    },
    {
     "data": {
      "application/vnd.jupyter.widget-view+json": {
       "model_id": "242cb0864b284d0fa03e334cfb9a1b7f",
       "version_major": 2,
       "version_minor": 0
      },
      "text/plain": [
       "Predicting: 4317it [00:00, ?it/s]"
      ]
     },
     "metadata": {},
     "output_type": "display_data"
    },
    {
     "data": {
      "application/vnd.jupyter.widget-view+json": {
       "model_id": "edf6bba749e64af9b22856b8510cd451",
       "version_major": 2,
       "version_minor": 0
      },
      "text/plain": [
       "Predicting: 4317it [00:00, ?it/s]"
      ]
     },
     "metadata": {},
     "output_type": "display_data"
    },
    {
     "data": {
      "application/vnd.jupyter.widget-view+json": {
       "model_id": "53af83258bf740eaa6b7dfbdd58b0f57",
       "version_major": 2,
       "version_minor": 0
      },
      "text/plain": [
       "Predicting: 4317it [00:00, ?it/s]"
      ]
     },
     "metadata": {},
     "output_type": "display_data"
    },
    {
     "data": {
      "application/vnd.jupyter.widget-view+json": {
       "model_id": "3ae860d083184487a3613ef154607f5f",
       "version_major": 2,
       "version_minor": 0
      },
      "text/plain": [
       "Predicting: 4317it [00:00, ?it/s]"
      ]
     },
     "metadata": {},
     "output_type": "display_data"
    },
    {
     "data": {
      "application/vnd.jupyter.widget-view+json": {
       "model_id": "16baeb95513942f183ecf8761400c383",
       "version_major": 2,
       "version_minor": 0
      },
      "text/plain": [
       "Predicting: 4317it [00:00, ?it/s]"
      ]
     },
     "metadata": {},
     "output_type": "display_data"
    },
    {
     "data": {
      "application/vnd.jupyter.widget-view+json": {
       "model_id": "dc051c9aba424b1092b7e96d461a571e",
       "version_major": 2,
       "version_minor": 0
      },
      "text/plain": [
       "Predicting: 4317it [00:00, ?it/s]"
      ]
     },
     "metadata": {},
     "output_type": "display_data"
    },
    {
     "data": {
      "application/vnd.jupyter.widget-view+json": {
       "model_id": "67e72c5bcf0b456d81eb6a50e8b80761",
       "version_major": 2,
       "version_minor": 0
      },
      "text/plain": [
       "Predicting: 4317it [00:00, ?it/s]"
      ]
     },
     "metadata": {},
     "output_type": "display_data"
    },
    {
     "data": {
      "application/vnd.jupyter.widget-view+json": {
       "model_id": "8298ea081b614c48b6e7871ba66ffeb6",
       "version_major": 2,
       "version_minor": 0
      },
      "text/plain": [
       "Predicting: 4317it [00:00, ?it/s]"
      ]
     },
     "metadata": {},
     "output_type": "display_data"
    },
    {
     "data": {
      "application/vnd.jupyter.widget-view+json": {
       "model_id": "5639c56ce4d142ea8337e250f4f8e006",
       "version_major": 2,
       "version_minor": 0
      },
      "text/plain": [
       "Predicting: 4317it [00:00, ?it/s]"
      ]
     },
     "metadata": {},
     "output_type": "display_data"
    },
    {
     "data": {
      "application/vnd.jupyter.widget-view+json": {
       "model_id": "78da748d60e14343ab85f832106dca58",
       "version_major": 2,
       "version_minor": 0
      },
      "text/plain": [
       "Predicting: 4317it [00:00, ?it/s]"
      ]
     },
     "metadata": {},
     "output_type": "display_data"
    },
    {
     "data": {
      "application/vnd.jupyter.widget-view+json": {
       "model_id": "21dec8e4bbe64dd2af948813b66f201a",
       "version_major": 2,
       "version_minor": 0
      },
      "text/plain": [
       "Predicting: 4317it [00:00, ?it/s]"
      ]
     },
     "metadata": {},
     "output_type": "display_data"
    },
    {
     "data": {
      "application/vnd.jupyter.widget-view+json": {
       "model_id": "00ce486d50244879be9f0633dba3ddd3",
       "version_major": 2,
       "version_minor": 0
      },
      "text/plain": [
       "Predicting: 4317it [00:00, ?it/s]"
      ]
     },
     "metadata": {},
     "output_type": "display_data"
    },
    {
     "data": {
      "application/vnd.jupyter.widget-view+json": {
       "model_id": "4e439055d54d442b892d86772c94cd72",
       "version_major": 2,
       "version_minor": 0
      },
      "text/plain": [
       "Predicting: 4317it [00:00, ?it/s]"
      ]
     },
     "metadata": {},
     "output_type": "display_data"
    },
    {
     "data": {
      "application/vnd.jupyter.widget-view+json": {
       "model_id": "f4e2e3239bec4230919778480f1733a9",
       "version_major": 2,
       "version_minor": 0
      },
      "text/plain": [
       "Predicting: 4317it [00:00, ?it/s]"
      ]
     },
     "metadata": {},
     "output_type": "display_data"
    },
    {
     "data": {
      "application/vnd.jupyter.widget-view+json": {
       "model_id": "e7ef81032b3e47e6ae0ce9066568bde6",
       "version_major": 2,
       "version_minor": 0
      },
      "text/plain": [
       "Predicting: 4317it [00:00, ?it/s]"
      ]
     },
     "metadata": {},
     "output_type": "display_data"
    },
    {
     "data": {
      "application/vnd.jupyter.widget-view+json": {
       "model_id": "d05d302d0a0f42a19e542d999131f16b",
       "version_major": 2,
       "version_minor": 0
      },
      "text/plain": [
       "Predicting: 4317it [00:00, ?it/s]"
      ]
     },
     "metadata": {},
     "output_type": "display_data"
    },
    {
     "data": {
      "application/vnd.jupyter.widget-view+json": {
       "model_id": "8af6db891d654ab0a607c721e845fe7c",
       "version_major": 2,
       "version_minor": 0
      },
      "text/plain": [
       "Predicting: 4317it [00:00, ?it/s]"
      ]
     },
     "metadata": {},
     "output_type": "display_data"
    },
    {
     "data": {
      "application/vnd.jupyter.widget-view+json": {
       "model_id": "35e21575c32b4fa394d2ebf49fedf840",
       "version_major": 2,
       "version_minor": 0
      },
      "text/plain": [
       "Predicting: 4317it [00:00, ?it/s]"
      ]
     },
     "metadata": {},
     "output_type": "display_data"
    },
    {
     "data": {
      "application/vnd.jupyter.widget-view+json": {
       "model_id": "d7f1713fc2f841ebb4b38a3fdf2324e1",
       "version_major": 2,
       "version_minor": 0
      },
      "text/plain": [
       "Predicting: 4317it [00:00, ?it/s]"
      ]
     },
     "metadata": {},
     "output_type": "display_data"
    },
    {
     "data": {
      "application/vnd.jupyter.widget-view+json": {
       "model_id": "cc01043a93ce486f82b582dc9e13dc08",
       "version_major": 2,
       "version_minor": 0
      },
      "text/plain": [
       "Predicting: 4317it [00:00, ?it/s]"
      ]
     },
     "metadata": {},
     "output_type": "display_data"
    },
    {
     "data": {
      "application/vnd.jupyter.widget-view+json": {
       "model_id": "c9b9dec6a51c47e3b2252324f5faccf4",
       "version_major": 2,
       "version_minor": 0
      },
      "text/plain": [
       "Predicting: 4317it [00:00, ?it/s]"
      ]
     },
     "metadata": {},
     "output_type": "display_data"
    },
    {
     "data": {
      "application/vnd.jupyter.widget-view+json": {
       "model_id": "009fce17161846b3b71020b8f62287be",
       "version_major": 2,
       "version_minor": 0
      },
      "text/plain": [
       "Predicting: 4317it [00:00, ?it/s]"
      ]
     },
     "metadata": {},
     "output_type": "display_data"
    },
    {
     "data": {
      "application/vnd.jupyter.widget-view+json": {
       "model_id": "9baec9532ed54cc4a17495a1ce6933a7",
       "version_major": 2,
       "version_minor": 0
      },
      "text/plain": [
       "Predicting: 4317it [00:00, ?it/s]"
      ]
     },
     "metadata": {},
     "output_type": "display_data"
    },
    {
     "data": {
      "application/vnd.jupyter.widget-view+json": {
       "model_id": "0b99b7dbbba34c1bb2d5fee12a478534",
       "version_major": 2,
       "version_minor": 0
      },
      "text/plain": [
       "Predicting: 4317it [00:00, ?it/s]"
      ]
     },
     "metadata": {},
     "output_type": "display_data"
    },
    {
     "data": {
      "application/vnd.jupyter.widget-view+json": {
       "model_id": "097d8d55fb6d472088fcc4e5b0accf29",
       "version_major": 2,
       "version_minor": 0
      },
      "text/plain": [
       "Predicting: 4317it [00:00, ?it/s]"
      ]
     },
     "metadata": {},
     "output_type": "display_data"
    },
    {
     "data": {
      "application/vnd.jupyter.widget-view+json": {
       "model_id": "79a9aebc43024f78a8d8080d1a665e9c",
       "version_major": 2,
       "version_minor": 0
      },
      "text/plain": [
       "Predicting: 4317it [00:00, ?it/s]"
      ]
     },
     "metadata": {},
     "output_type": "display_data"
    },
    {
     "data": {
      "application/vnd.jupyter.widget-view+json": {
       "model_id": "7a6a950eae7b43f5a07b00b2d582e519",
       "version_major": 2,
       "version_minor": 0
      },
      "text/plain": [
       "Predicting: 4317it [00:00, ?it/s]"
      ]
     },
     "metadata": {},
     "output_type": "display_data"
    },
    {
     "data": {
      "application/vnd.jupyter.widget-view+json": {
       "model_id": "9f826c9224244ec0a12de36385efcffd",
       "version_major": 2,
       "version_minor": 0
      },
      "text/plain": [
       "Predicting: 4317it [00:00, ?it/s]"
      ]
     },
     "metadata": {},
     "output_type": "display_data"
    },
    {
     "data": {
      "application/vnd.jupyter.widget-view+json": {
       "model_id": "2ed42a38bd8748adbeb0dc9a1fd3e937",
       "version_major": 2,
       "version_minor": 0
      },
      "text/plain": [
       "Predicting: 4317it [00:00, ?it/s]"
      ]
     },
     "metadata": {},
     "output_type": "display_data"
    },
    {
     "data": {
      "application/vnd.jupyter.widget-view+json": {
       "model_id": "b49f62d2f30b4959b2425dcc37ee547c",
       "version_major": 2,
       "version_minor": 0
      },
      "text/plain": [
       "Predicting: 4317it [00:00, ?it/s]"
      ]
     },
     "metadata": {},
     "output_type": "display_data"
    },
    {
     "data": {
      "application/vnd.jupyter.widget-view+json": {
       "model_id": "07620dbc9e7b4c0886c9dd6aaf81b00c",
       "version_major": 2,
       "version_minor": 0
      },
      "text/plain": [
       "Predicting: 4317it [00:00, ?it/s]"
      ]
     },
     "metadata": {},
     "output_type": "display_data"
    },
    {
     "data": {
      "application/vnd.jupyter.widget-view+json": {
       "model_id": "e92bba7cacf14770811299e9444d7098",
       "version_major": 2,
       "version_minor": 0
      },
      "text/plain": [
       "Predicting: 4317it [00:00, ?it/s]"
      ]
     },
     "metadata": {},
     "output_type": "display_data"
    },
    {
     "data": {
      "application/vnd.jupyter.widget-view+json": {
       "model_id": "5fad440e899e4a8daa7d3a27320ebc1c",
       "version_major": 2,
       "version_minor": 0
      },
      "text/plain": [
       "Predicting: 4317it [00:00, ?it/s]"
      ]
     },
     "metadata": {},
     "output_type": "display_data"
    },
    {
     "data": {
      "application/vnd.jupyter.widget-view+json": {
       "model_id": "44cd104366b34f2d9807a0cc3adb774a",
       "version_major": 2,
       "version_minor": 0
      },
      "text/plain": [
       "Predicting: 4317it [00:00, ?it/s]"
      ]
     },
     "metadata": {},
     "output_type": "display_data"
    },
    {
     "data": {
      "application/vnd.jupyter.widget-view+json": {
       "model_id": "154a64139c6a47978d3b1998f9dc82f1",
       "version_major": 2,
       "version_minor": 0
      },
      "text/plain": [
       "Predicting: 4317it [00:00, ?it/s]"
      ]
     },
     "metadata": {},
     "output_type": "display_data"
    },
    {
     "data": {
      "application/vnd.jupyter.widget-view+json": {
       "model_id": "d8d5b5b850b5417a86dd5e8acee7e023",
       "version_major": 2,
       "version_minor": 0
      },
      "text/plain": [
       "Predicting: 4317it [00:00, ?it/s]"
      ]
     },
     "metadata": {},
     "output_type": "display_data"
    },
    {
     "data": {
      "application/vnd.jupyter.widget-view+json": {
       "model_id": "3261210c3e31414aa753f67bd2317b3b",
       "version_major": 2,
       "version_minor": 0
      },
      "text/plain": [
       "Predicting: 4317it [00:00, ?it/s]"
      ]
     },
     "metadata": {},
     "output_type": "display_data"
    },
    {
     "data": {
      "application/vnd.jupyter.widget-view+json": {
       "model_id": "eb80dbd90c9142ef9b68629bbc4be9c2",
       "version_major": 2,
       "version_minor": 0
      },
      "text/plain": [
       "Predicting: 4317it [00:00, ?it/s]"
      ]
     },
     "metadata": {},
     "output_type": "display_data"
    },
    {
     "data": {
      "application/vnd.jupyter.widget-view+json": {
       "model_id": "19a3485afe694269b494b69a71e89baa",
       "version_major": 2,
       "version_minor": 0
      },
      "text/plain": [
       "Predicting: 4317it [00:00, ?it/s]"
      ]
     },
     "metadata": {},
     "output_type": "display_data"
    },
    {
     "data": {
      "application/vnd.jupyter.widget-view+json": {
       "model_id": "72b44bee996145bab208480e585f699b",
       "version_major": 2,
       "version_minor": 0
      },
      "text/plain": [
       "Predicting: 4317it [00:00, ?it/s]"
      ]
     },
     "metadata": {},
     "output_type": "display_data"
    },
    {
     "data": {
      "application/vnd.jupyter.widget-view+json": {
       "model_id": "e32a5c3c29d24497b0eedb2e1bb04adf",
       "version_major": 2,
       "version_minor": 0
      },
      "text/plain": [
       "Predicting: 4317it [00:00, ?it/s]"
      ]
     },
     "metadata": {},
     "output_type": "display_data"
    },
    {
     "data": {
      "application/vnd.jupyter.widget-view+json": {
       "model_id": "4079ccc0752a4453878b2e61c019cd4c",
       "version_major": 2,
       "version_minor": 0
      },
      "text/plain": [
       "Predicting: 4317it [00:00, ?it/s]"
      ]
     },
     "metadata": {},
     "output_type": "display_data"
    },
    {
     "data": {
      "application/vnd.jupyter.widget-view+json": {
       "model_id": "376d6ffdfbe84cdfb9ffd5d1a4b5531a",
       "version_major": 2,
       "version_minor": 0
      },
      "text/plain": [
       "Predicting: 4317it [00:00, ?it/s]"
      ]
     },
     "metadata": {},
     "output_type": "display_data"
    },
    {
     "data": {
      "application/vnd.jupyter.widget-view+json": {
       "model_id": "602e5afcbd8846deaa14f58729de21b6",
       "version_major": 2,
       "version_minor": 0
      },
      "text/plain": [
       "Predicting: 4317it [00:00, ?it/s]"
      ]
     },
     "metadata": {},
     "output_type": "display_data"
    },
    {
     "data": {
      "application/vnd.jupyter.widget-view+json": {
       "model_id": "931e8fb9ce05411f81dc0583a2cbe10b",
       "version_major": 2,
       "version_minor": 0
      },
      "text/plain": [
       "Predicting: 4317it [00:00, ?it/s]"
      ]
     },
     "metadata": {},
     "output_type": "display_data"
    },
    {
     "data": {
      "application/vnd.jupyter.widget-view+json": {
       "model_id": "daef9ec329ce4423b6a09afb71eb7f14",
       "version_major": 2,
       "version_minor": 0
      },
      "text/plain": [
       "Predicting: 4317it [00:00, ?it/s]"
      ]
     },
     "metadata": {},
     "output_type": "display_data"
    },
    {
     "data": {
      "application/vnd.jupyter.widget-view+json": {
       "model_id": "2063ed47dc434f0aaf5290d73f5b87ee",
       "version_major": 2,
       "version_minor": 0
      },
      "text/plain": [
       "Predicting: 4317it [00:00, ?it/s]"
      ]
     },
     "metadata": {},
     "output_type": "display_data"
    },
    {
     "data": {
      "application/vnd.jupyter.widget-view+json": {
       "model_id": "fa030b27603a4a859e076f5d34381725",
       "version_major": 2,
       "version_minor": 0
      },
      "text/plain": [
       "Predicting: 4317it [00:00, ?it/s]"
      ]
     },
     "metadata": {},
     "output_type": "display_data"
    },
    {
     "data": {
      "application/vnd.jupyter.widget-view+json": {
       "model_id": "76b94e22b1d64f84bd2a18417b1d7606",
       "version_major": 2,
       "version_minor": 0
      },
      "text/plain": [
       "Predicting: 4317it [00:00, ?it/s]"
      ]
     },
     "metadata": {},
     "output_type": "display_data"
    },
    {
     "data": {
      "application/vnd.jupyter.widget-view+json": {
       "model_id": "9c1170ae32e641a6a11285e3f4f7aa1b",
       "version_major": 2,
       "version_minor": 0
      },
      "text/plain": [
       "Predicting: 4317it [00:00, ?it/s]"
      ]
     },
     "metadata": {},
     "output_type": "display_data"
    },
    {
     "data": {
      "application/vnd.jupyter.widget-view+json": {
       "model_id": "d225f5da6b6a4615ad7964d5545b3a4f",
       "version_major": 2,
       "version_minor": 0
      },
      "text/plain": [
       "Predicting: 4317it [00:00, ?it/s]"
      ]
     },
     "metadata": {},
     "output_type": "display_data"
    },
    {
     "data": {
      "application/vnd.jupyter.widget-view+json": {
       "model_id": "34e847c7cc044d9da5aff0996ded071c",
       "version_major": 2,
       "version_minor": 0
      },
      "text/plain": [
       "Predicting: 4317it [00:00, ?it/s]"
      ]
     },
     "metadata": {},
     "output_type": "display_data"
    },
    {
     "data": {
      "application/vnd.jupyter.widget-view+json": {
       "model_id": "89f3f2e0b6d24963b54143401356c79f",
       "version_major": 2,
       "version_minor": 0
      },
      "text/plain": [
       "Predicting: 4317it [00:00, ?it/s]"
      ]
     },
     "metadata": {},
     "output_type": "display_data"
    },
    {
     "data": {
      "application/vnd.jupyter.widget-view+json": {
       "model_id": "519a118724624fb8a1226187f6687823",
       "version_major": 2,
       "version_minor": 0
      },
      "text/plain": [
       "Predicting: 4317it [00:00, ?it/s]"
      ]
     },
     "metadata": {},
     "output_type": "display_data"
    },
    {
     "data": {
      "application/vnd.jupyter.widget-view+json": {
       "model_id": "e755153008a646ef8b309f06bc44d82c",
       "version_major": 2,
       "version_minor": 0
      },
      "text/plain": [
       "Predicting: 4317it [00:00, ?it/s]"
      ]
     },
     "metadata": {},
     "output_type": "display_data"
    },
    {
     "data": {
      "application/vnd.jupyter.widget-view+json": {
       "model_id": "dcac3310cd144d41a4ddb8aaae22c6e9",
       "version_major": 2,
       "version_minor": 0
      },
      "text/plain": [
       "Predicting: 4317it [00:00, ?it/s]"
      ]
     },
     "metadata": {},
     "output_type": "display_data"
    },
    {
     "data": {
      "application/vnd.jupyter.widget-view+json": {
       "model_id": "6d1ce703f3d843a5ab57df058b633f7e",
       "version_major": 2,
       "version_minor": 0
      },
      "text/plain": [
       "Predicting: 4317it [00:00, ?it/s]"
      ]
     },
     "metadata": {},
     "output_type": "display_data"
    },
    {
     "data": {
      "application/vnd.jupyter.widget-view+json": {
       "model_id": "e8c1f02a4f4c4920a3f8dfed48ac6500",
       "version_major": 2,
       "version_minor": 0
      },
      "text/plain": [
       "Predicting: 4317it [00:00, ?it/s]"
      ]
     },
     "metadata": {},
     "output_type": "display_data"
    },
    {
     "data": {
      "application/vnd.jupyter.widget-view+json": {
       "model_id": "74946b65b09840f38bf8115fc8c70c25",
       "version_major": 2,
       "version_minor": 0
      },
      "text/plain": [
       "Predicting: 4317it [00:00, ?it/s]"
      ]
     },
     "metadata": {},
     "output_type": "display_data"
    },
    {
     "data": {
      "application/vnd.jupyter.widget-view+json": {
       "model_id": "27528e50da5940ca81ab948bd1543917",
       "version_major": 2,
       "version_minor": 0
      },
      "text/plain": [
       "Predicting: 4317it [00:00, ?it/s]"
      ]
     },
     "metadata": {},
     "output_type": "display_data"
    },
    {
     "data": {
      "application/vnd.jupyter.widget-view+json": {
       "model_id": "ebcfadebae3d4e76bd2cd7850e0811ac",
       "version_major": 2,
       "version_minor": 0
      },
      "text/plain": [
       "Predicting: 4317it [00:00, ?it/s]"
      ]
     },
     "metadata": {},
     "output_type": "display_data"
    },
    {
     "data": {
      "application/vnd.jupyter.widget-view+json": {
       "model_id": "2e3e7ffcae664362aeba867d7f96d62f",
       "version_major": 2,
       "version_minor": 0
      },
      "text/plain": [
       "Predicting: 4317it [00:00, ?it/s]"
      ]
     },
     "metadata": {},
     "output_type": "display_data"
    },
    {
     "data": {
      "application/vnd.jupyter.widget-view+json": {
       "model_id": "c37291f805b54655a6f8dce7a80e5d40",
       "version_major": 2,
       "version_minor": 0
      },
      "text/plain": [
       "Predicting: 4317it [00:00, ?it/s]"
      ]
     },
     "metadata": {},
     "output_type": "display_data"
    },
    {
     "data": {
      "application/vnd.jupyter.widget-view+json": {
       "model_id": "14ffcdd50e08436eb851bb5e4dd0d5e5",
       "version_major": 2,
       "version_minor": 0
      },
      "text/plain": [
       "Predicting: 4317it [00:00, ?it/s]"
      ]
     },
     "metadata": {},
     "output_type": "display_data"
    },
    {
     "data": {
      "application/vnd.jupyter.widget-view+json": {
       "model_id": "76f5f9b1e4db4912b294ba67c30b6c0f",
       "version_major": 2,
       "version_minor": 0
      },
      "text/plain": [
       "Predicting: 4317it [00:00, ?it/s]"
      ]
     },
     "metadata": {},
     "output_type": "display_data"
    },
    {
     "data": {
      "application/vnd.jupyter.widget-view+json": {
       "model_id": "210d9d93e4504832bb0b3b7ca5679e55",
       "version_major": 2,
       "version_minor": 0
      },
      "text/plain": [
       "Predicting: 4317it [00:00, ?it/s]"
      ]
     },
     "metadata": {},
     "output_type": "display_data"
    },
    {
     "data": {
      "application/vnd.jupyter.widget-view+json": {
       "model_id": "b123a3c791be44118282c6d6f7d698a8",
       "version_major": 2,
       "version_minor": 0
      },
      "text/plain": [
       "Predicting: 4317it [00:00, ?it/s]"
      ]
     },
     "metadata": {},
     "output_type": "display_data"
    },
    {
     "data": {
      "application/vnd.jupyter.widget-view+json": {
       "model_id": "fde6d6b286b648d68b6247e0496b3b2b",
       "version_major": 2,
       "version_minor": 0
      },
      "text/plain": [
       "Predicting: 4317it [00:00, ?it/s]"
      ]
     },
     "metadata": {},
     "output_type": "display_data"
    },
    {
     "data": {
      "application/vnd.jupyter.widget-view+json": {
       "model_id": "0d66a50407624e1b94827d2beaf1cff3",
       "version_major": 2,
       "version_minor": 0
      },
      "text/plain": [
       "Predicting: 4317it [00:00, ?it/s]"
      ]
     },
     "metadata": {},
     "output_type": "display_data"
    },
    {
     "data": {
      "application/vnd.jupyter.widget-view+json": {
       "model_id": "ddedf3f24a7844db86212334d5339901",
       "version_major": 2,
       "version_minor": 0
      },
      "text/plain": [
       "Predicting: 4317it [00:00, ?it/s]"
      ]
     },
     "metadata": {},
     "output_type": "display_data"
    },
    {
     "data": {
      "application/vnd.jupyter.widget-view+json": {
       "model_id": "49723620d89d45528483b963ff3d5073",
       "version_major": 2,
       "version_minor": 0
      },
      "text/plain": [
       "Predicting: 4317it [00:00, ?it/s]"
      ]
     },
     "metadata": {},
     "output_type": "display_data"
    },
    {
     "data": {
      "application/vnd.jupyter.widget-view+json": {
       "model_id": "3d3a002f15444cf2af78ac3eddc7ca1f",
       "version_major": 2,
       "version_minor": 0
      },
      "text/plain": [
       "Predicting: 4317it [00:00, ?it/s]"
      ]
     },
     "metadata": {},
     "output_type": "display_data"
    },
    {
     "data": {
      "application/vnd.jupyter.widget-view+json": {
       "model_id": "2423268d30774cc4bcc5e5a99ef6b991",
       "version_major": 2,
       "version_minor": 0
      },
      "text/plain": [
       "Predicting: 4317it [00:00, ?it/s]"
      ]
     },
     "metadata": {},
     "output_type": "display_data"
    },
    {
     "data": {
      "application/vnd.jupyter.widget-view+json": {
       "model_id": "e8eb965986fe4cd1bc44cab3cb24922e",
       "version_major": 2,
       "version_minor": 0
      },
      "text/plain": [
       "Predicting: 4317it [00:00, ?it/s]"
      ]
     },
     "metadata": {},
     "output_type": "display_data"
    },
    {
     "data": {
      "application/vnd.jupyter.widget-view+json": {
       "model_id": "43511371559442da811183e6225a6ebd",
       "version_major": 2,
       "version_minor": 0
      },
      "text/plain": [
       "Predicting: 4317it [00:00, ?it/s]"
      ]
     },
     "metadata": {},
     "output_type": "display_data"
    },
    {
     "data": {
      "application/vnd.jupyter.widget-view+json": {
       "model_id": "3649a49e58254d18b333a046da87d828",
       "version_major": 2,
       "version_minor": 0
      },
      "text/plain": [
       "Predicting: 4317it [00:00, ?it/s]"
      ]
     },
     "metadata": {},
     "output_type": "display_data"
    },
    {
     "data": {
      "application/vnd.jupyter.widget-view+json": {
       "model_id": "6c12394c031a4b64be01079d058e0acf",
       "version_major": 2,
       "version_minor": 0
      },
      "text/plain": [
       "Predicting: 4317it [00:00, ?it/s]"
      ]
     },
     "metadata": {},
     "output_type": "display_data"
    },
    {
     "data": {
      "application/vnd.jupyter.widget-view+json": {
       "model_id": "d181d19d9fd245dd8fb97e48e1a261b1",
       "version_major": 2,
       "version_minor": 0
      },
      "text/plain": [
       "Predicting: 4317it [00:00, ?it/s]"
      ]
     },
     "metadata": {},
     "output_type": "display_data"
    },
    {
     "data": {
      "application/vnd.jupyter.widget-view+json": {
       "model_id": "05003cabda014834965f4654b051c414",
       "version_major": 2,
       "version_minor": 0
      },
      "text/plain": [
       "Predicting: 4317it [00:00, ?it/s]"
      ]
     },
     "metadata": {},
     "output_type": "display_data"
    },
    {
     "data": {
      "application/vnd.jupyter.widget-view+json": {
       "model_id": "375eb2c5f1424eb086923a55fe08f4d8",
       "version_major": 2,
       "version_minor": 0
      },
      "text/plain": [
       "Predicting: 4317it [00:00, ?it/s]"
      ]
     },
     "metadata": {},
     "output_type": "display_data"
    },
    {
     "data": {
      "application/vnd.jupyter.widget-view+json": {
       "model_id": "aa62c13a56ad4cf8add101b87e02da6d",
       "version_major": 2,
       "version_minor": 0
      },
      "text/plain": [
       "Predicting: 4317it [00:00, ?it/s]"
      ]
     },
     "metadata": {},
     "output_type": "display_data"
    },
    {
     "data": {
      "application/vnd.jupyter.widget-view+json": {
       "model_id": "3b4dac1f21fe4761ab4c8853afdcf723",
       "version_major": 2,
       "version_minor": 0
      },
      "text/plain": [
       "Predicting: 4317it [00:00, ?it/s]"
      ]
     },
     "metadata": {},
     "output_type": "display_data"
    },
    {
     "data": {
      "application/vnd.jupyter.widget-view+json": {
       "model_id": "8989d997b5b84d9fb7bf56b3c0bf0d4d",
       "version_major": 2,
       "version_minor": 0
      },
      "text/plain": [
       "Predicting: 4317it [00:00, ?it/s]"
      ]
     },
     "metadata": {},
     "output_type": "display_data"
    },
    {
     "data": {
      "application/vnd.jupyter.widget-view+json": {
       "model_id": "966bba3c4a0e42fc870e1526252a3b06",
       "version_major": 2,
       "version_minor": 0
      },
      "text/plain": [
       "Predicting: 4317it [00:00, ?it/s]"
      ]
     },
     "metadata": {},
     "output_type": "display_data"
    },
    {
     "data": {
      "application/vnd.jupyter.widget-view+json": {
       "model_id": "aa442b52b6dc4c0a94be0018e43e98b3",
       "version_major": 2,
       "version_minor": 0
      },
      "text/plain": [
       "Predicting: 4317it [00:00, ?it/s]"
      ]
     },
     "metadata": {},
     "output_type": "display_data"
    },
    {
     "data": {
      "application/vnd.jupyter.widget-view+json": {
       "model_id": "e906343e5f654154bc698b986e0dea7f",
       "version_major": 2,
       "version_minor": 0
      },
      "text/plain": [
       "Predicting: 4317it [00:00, ?it/s]"
      ]
     },
     "metadata": {},
     "output_type": "display_data"
    },
    {
     "data": {
      "application/vnd.jupyter.widget-view+json": {
       "model_id": "55c5206d60574b4698cbe951f5dc245e",
       "version_major": 2,
       "version_minor": 0
      },
      "text/plain": [
       "Predicting: 4317it [00:00, ?it/s]"
      ]
     },
     "metadata": {},
     "output_type": "display_data"
    },
    {
     "data": {
      "application/vnd.jupyter.widget-view+json": {
       "model_id": "40f52bb84a004f75b44ac4519ba4305b",
       "version_major": 2,
       "version_minor": 0
      },
      "text/plain": [
       "Predicting: 4317it [00:00, ?it/s]"
      ]
     },
     "metadata": {},
     "output_type": "display_data"
    },
    {
     "data": {
      "application/vnd.jupyter.widget-view+json": {
       "model_id": "b44aceee5c01425b87203b7699662b84",
       "version_major": 2,
       "version_minor": 0
      },
      "text/plain": [
       "Predicting: 4317it [00:00, ?it/s]"
      ]
     },
     "metadata": {},
     "output_type": "display_data"
    },
    {
     "data": {
      "application/vnd.jupyter.widget-view+json": {
       "model_id": "7ce7eea823184ccead66a93b30d49f25",
       "version_major": 2,
       "version_minor": 0
      },
      "text/plain": [
       "Predicting: 4317it [00:00, ?it/s]"
      ]
     },
     "metadata": {},
     "output_type": "display_data"
    },
    {
     "data": {
      "application/vnd.jupyter.widget-view+json": {
       "model_id": "9b4597340d2f48af9a7f604cbc348cf5",
       "version_major": 2,
       "version_minor": 0
      },
      "text/plain": [
       "Predicting: 4317it [00:00, ?it/s]"
      ]
     },
     "metadata": {},
     "output_type": "display_data"
    },
    {
     "data": {
      "application/vnd.jupyter.widget-view+json": {
       "model_id": "228fb91f45884df79616d322582a9489",
       "version_major": 2,
       "version_minor": 0
      },
      "text/plain": [
       "Predicting: 4317it [00:00, ?it/s]"
      ]
     },
     "metadata": {},
     "output_type": "display_data"
    },
    {
     "data": {
      "application/vnd.jupyter.widget-view+json": {
       "model_id": "e7037ab71ba34ea8a18dcb6435440766",
       "version_major": 2,
       "version_minor": 0
      },
      "text/plain": [
       "Predicting: 4317it [00:00, ?it/s]"
      ]
     },
     "metadata": {},
     "output_type": "display_data"
    },
    {
     "data": {
      "application/vnd.jupyter.widget-view+json": {
       "model_id": "7534f212381e46a282aa6da17dae51b7",
       "version_major": 2,
       "version_minor": 0
      },
      "text/plain": [
       "Predicting: 4317it [00:00, ?it/s]"
      ]
     },
     "metadata": {},
     "output_type": "display_data"
    },
    {
     "data": {
      "application/vnd.jupyter.widget-view+json": {
       "model_id": "497417ac407f4ad8aeadad5c8588da61",
       "version_major": 2,
       "version_minor": 0
      },
      "text/plain": [
       "Predicting: 4317it [00:00, ?it/s]"
      ]
     },
     "metadata": {},
     "output_type": "display_data"
    },
    {
     "data": {
      "application/vnd.jupyter.widget-view+json": {
       "model_id": "79e4ed2df8144abf891c6c83c23c9db9",
       "version_major": 2,
       "version_minor": 0
      },
      "text/plain": [
       "Predicting: 4317it [00:00, ?it/s]"
      ]
     },
     "metadata": {},
     "output_type": "display_data"
    },
    {
     "data": {
      "application/vnd.jupyter.widget-view+json": {
       "model_id": "b1acebf01f7541488d687ec6ef1c7402",
       "version_major": 2,
       "version_minor": 0
      },
      "text/plain": [
       "Predicting: 4317it [00:00, ?it/s]"
      ]
     },
     "metadata": {},
     "output_type": "display_data"
    },
    {
     "data": {
      "application/vnd.jupyter.widget-view+json": {
       "model_id": "535c14abfcb0466fbe3fb867b1980499",
       "version_major": 2,
       "version_minor": 0
      },
      "text/plain": [
       "Predicting: 4317it [00:00, ?it/s]"
      ]
     },
     "metadata": {},
     "output_type": "display_data"
    },
    {
     "data": {
      "application/vnd.jupyter.widget-view+json": {
       "model_id": "e97d4ce20b3a48af8f5a086639a59cc8",
       "version_major": 2,
       "version_minor": 0
      },
      "text/plain": [
       "Predicting: 4317it [00:00, ?it/s]"
      ]
     },
     "metadata": {},
     "output_type": "display_data"
    },
    {
     "data": {
      "application/vnd.jupyter.widget-view+json": {
       "model_id": "44ff613cd0764ab1a92195d488795aa7",
       "version_major": 2,
       "version_minor": 0
      },
      "text/plain": [
       "Predicting: 4317it [00:00, ?it/s]"
      ]
     },
     "metadata": {},
     "output_type": "display_data"
    },
    {
     "data": {
      "application/vnd.jupyter.widget-view+json": {
       "model_id": "55cdca8ff2b7462482352dbd52646a1d",
       "version_major": 2,
       "version_minor": 0
      },
      "text/plain": [
       "Predicting: 4317it [00:00, ?it/s]"
      ]
     },
     "metadata": {},
     "output_type": "display_data"
    },
    {
     "data": {
      "application/vnd.jupyter.widget-view+json": {
       "model_id": "f1e0f2fd1b524f69bf580ad4a9c35bf5",
       "version_major": 2,
       "version_minor": 0
      },
      "text/plain": [
       "Predicting: 4317it [00:00, ?it/s]"
      ]
     },
     "metadata": {},
     "output_type": "display_data"
    },
    {
     "data": {
      "application/vnd.jupyter.widget-view+json": {
       "model_id": "28fcebd238784371883fbccf59072104",
       "version_major": 2,
       "version_minor": 0
      },
      "text/plain": [
       "Predicting: 4317it [00:00, ?it/s]"
      ]
     },
     "metadata": {},
     "output_type": "display_data"
    },
    {
     "data": {
      "application/vnd.jupyter.widget-view+json": {
       "model_id": "f5d577cda5d14a3baa35de27bea74c39",
       "version_major": 2,
       "version_minor": 0
      },
      "text/plain": [
       "Predicting: 4317it [00:00, ?it/s]"
      ]
     },
     "metadata": {},
     "output_type": "display_data"
    },
    {
     "data": {
      "application/vnd.jupyter.widget-view+json": {
       "model_id": "efd51a9945414551ab6e704d68ee5f8a",
       "version_major": 2,
       "version_minor": 0
      },
      "text/plain": [
       "Predicting: 4317it [00:00, ?it/s]"
      ]
     },
     "metadata": {},
     "output_type": "display_data"
    },
    {
     "data": {
      "application/vnd.jupyter.widget-view+json": {
       "model_id": "424216f8e88347069ea9910ecb4c30cc",
       "version_major": 2,
       "version_minor": 0
      },
      "text/plain": [
       "Predicting: 4317it [00:00, ?it/s]"
      ]
     },
     "metadata": {},
     "output_type": "display_data"
    },
    {
     "data": {
      "application/vnd.jupyter.widget-view+json": {
       "model_id": "9a316a47d1fb4cd5a5cb76fd5a7627a7",
       "version_major": 2,
       "version_minor": 0
      },
      "text/plain": [
       "Predicting: 4317it [00:00, ?it/s]"
      ]
     },
     "metadata": {},
     "output_type": "display_data"
    },
    {
     "data": {
      "application/vnd.jupyter.widget-view+json": {
       "model_id": "fcf457833b0448b289a9059053e00aa1",
       "version_major": 2,
       "version_minor": 0
      },
      "text/plain": [
       "Predicting: 4317it [00:00, ?it/s]"
      ]
     },
     "metadata": {},
     "output_type": "display_data"
    },
    {
     "data": {
      "application/vnd.jupyter.widget-view+json": {
       "model_id": "fe8b2425da9f42508ad2b6884f0532da",
       "version_major": 2,
       "version_minor": 0
      },
      "text/plain": [
       "Predicting: 4317it [00:00, ?it/s]"
      ]
     },
     "metadata": {},
     "output_type": "display_data"
    },
    {
     "data": {
      "application/vnd.jupyter.widget-view+json": {
       "model_id": "cb683d3b89644aae997748100a8851ed",
       "version_major": 2,
       "version_minor": 0
      },
      "text/plain": [
       "Predicting: 4317it [00:00, ?it/s]"
      ]
     },
     "metadata": {},
     "output_type": "display_data"
    },
    {
     "data": {
      "application/vnd.jupyter.widget-view+json": {
       "model_id": "9cd166fb890f4edc9776bd763f2ce5d9",
       "version_major": 2,
       "version_minor": 0
      },
      "text/plain": [
       "Predicting: 4317it [00:00, ?it/s]"
      ]
     },
     "metadata": {},
     "output_type": "display_data"
    },
    {
     "data": {
      "application/vnd.jupyter.widget-view+json": {
       "model_id": "c61603b0fb4b4d39b7f5c76541ced690",
       "version_major": 2,
       "version_minor": 0
      },
      "text/plain": [
       "Predicting: 4317it [00:00, ?it/s]"
      ]
     },
     "metadata": {},
     "output_type": "display_data"
    },
    {
     "data": {
      "application/vnd.jupyter.widget-view+json": {
       "model_id": "40bcf52aeeec4989818ad7115a2f1730",
       "version_major": 2,
       "version_minor": 0
      },
      "text/plain": [
       "Predicting: 4317it [00:00, ?it/s]"
      ]
     },
     "metadata": {},
     "output_type": "display_data"
    },
    {
     "data": {
      "application/vnd.jupyter.widget-view+json": {
       "model_id": "4421293dee9143a78038f81e2b12edfd",
       "version_major": 2,
       "version_minor": 0
      },
      "text/plain": [
       "Predicting: 4317it [00:00, ?it/s]"
      ]
     },
     "metadata": {},
     "output_type": "display_data"
    },
    {
     "data": {
      "application/vnd.jupyter.widget-view+json": {
       "model_id": "7b08dcf5709b4800aca4966de1791c73",
       "version_major": 2,
       "version_minor": 0
      },
      "text/plain": [
       "Predicting: 4317it [00:00, ?it/s]"
      ]
     },
     "metadata": {},
     "output_type": "display_data"
    },
    {
     "data": {
      "application/vnd.jupyter.widget-view+json": {
       "model_id": "5afb54d2ec4f449c8ddf6cecd083942f",
       "version_major": 2,
       "version_minor": 0
      },
      "text/plain": [
       "Predicting: 4317it [00:00, ?it/s]"
      ]
     },
     "metadata": {},
     "output_type": "display_data"
    },
    {
     "data": {
      "application/vnd.jupyter.widget-view+json": {
       "model_id": "7d8ee6c766814c97b2fd4d7718d70dbd",
       "version_major": 2,
       "version_minor": 0
      },
      "text/plain": [
       "Predicting: 4317it [00:00, ?it/s]"
      ]
     },
     "metadata": {},
     "output_type": "display_data"
    },
    {
     "data": {
      "application/vnd.jupyter.widget-view+json": {
       "model_id": "1008ab2ebdd243ed8017cbb0489c624a",
       "version_major": 2,
       "version_minor": 0
      },
      "text/plain": [
       "Predicting: 4317it [00:00, ?it/s]"
      ]
     },
     "metadata": {},
     "output_type": "display_data"
    },
    {
     "data": {
      "application/vnd.jupyter.widget-view+json": {
       "model_id": "e3c9a18d11474d50ac7f77fa8db37688",
       "version_major": 2,
       "version_minor": 0
      },
      "text/plain": [
       "Predicting: 4317it [00:00, ?it/s]"
      ]
     },
     "metadata": {},
     "output_type": "display_data"
    },
    {
     "data": {
      "application/vnd.jupyter.widget-view+json": {
       "model_id": "1fcc560977ae4411bb2659d2fff836cd",
       "version_major": 2,
       "version_minor": 0
      },
      "text/plain": [
       "Predicting: 4317it [00:00, ?it/s]"
      ]
     },
     "metadata": {},
     "output_type": "display_data"
    },
    {
     "data": {
      "application/vnd.jupyter.widget-view+json": {
       "model_id": "b1f9fcf4398d462ba362929ddcff31a7",
       "version_major": 2,
       "version_minor": 0
      },
      "text/plain": [
       "Predicting: 4317it [00:00, ?it/s]"
      ]
     },
     "metadata": {},
     "output_type": "display_data"
    },
    {
     "data": {
      "application/vnd.jupyter.widget-view+json": {
       "model_id": "dae872fee9034f80804319192167d792",
       "version_major": 2,
       "version_minor": 0
      },
      "text/plain": [
       "Predicting: 4317it [00:00, ?it/s]"
      ]
     },
     "metadata": {},
     "output_type": "display_data"
    },
    {
     "data": {
      "application/vnd.jupyter.widget-view+json": {
       "model_id": "3dfc38c38fac4f0e8b71b989cb8286ed",
       "version_major": 2,
       "version_minor": 0
      },
      "text/plain": [
       "Predicting: 4317it [00:00, ?it/s]"
      ]
     },
     "metadata": {},
     "output_type": "display_data"
    },
    {
     "data": {
      "application/vnd.jupyter.widget-view+json": {
       "model_id": "3d41dac123a44e088e799ba482793d42",
       "version_major": 2,
       "version_minor": 0
      },
      "text/plain": [
       "Predicting: 4317it [00:00, ?it/s]"
      ]
     },
     "metadata": {},
     "output_type": "display_data"
    },
    {
     "data": {
      "application/vnd.jupyter.widget-view+json": {
       "model_id": "d56df69086ba41a198c702b4349f9034",
       "version_major": 2,
       "version_minor": 0
      },
      "text/plain": [
       "Predicting: 4317it [00:00, ?it/s]"
      ]
     },
     "metadata": {},
     "output_type": "display_data"
    },
    {
     "data": {
      "application/vnd.jupyter.widget-view+json": {
       "model_id": "cbff6d5b4ea74967ba80cd37b313fe79",
       "version_major": 2,
       "version_minor": 0
      },
      "text/plain": [
       "Predicting: 4317it [00:00, ?it/s]"
      ]
     },
     "metadata": {},
     "output_type": "display_data"
    },
    {
     "data": {
      "application/vnd.jupyter.widget-view+json": {
       "model_id": "33cb87c9176b48f4b6e7ea16344625d7",
       "version_major": 2,
       "version_minor": 0
      },
      "text/plain": [
       "Predicting: 4317it [00:00, ?it/s]"
      ]
     },
     "metadata": {},
     "output_type": "display_data"
    },
    {
     "data": {
      "application/vnd.jupyter.widget-view+json": {
       "model_id": "f5e9fd083344406784a9c6933e4a4f6e",
       "version_major": 2,
       "version_minor": 0
      },
      "text/plain": [
       "Predicting: 4317it [00:00, ?it/s]"
      ]
     },
     "metadata": {},
     "output_type": "display_data"
    },
    {
     "data": {
      "application/vnd.jupyter.widget-view+json": {
       "model_id": "ed09649cdd694307ac71eb9038fcb33a",
       "version_major": 2,
       "version_minor": 0
      },
      "text/plain": [
       "Predicting: 4317it [00:00, ?it/s]"
      ]
     },
     "metadata": {},
     "output_type": "display_data"
    },
    {
     "data": {
      "application/vnd.jupyter.widget-view+json": {
       "model_id": "08298c1451c24569a17ef5fc03e86af4",
       "version_major": 2,
       "version_minor": 0
      },
      "text/plain": [
       "Predicting: 4317it [00:00, ?it/s]"
      ]
     },
     "metadata": {},
     "output_type": "display_data"
    },
    {
     "data": {
      "application/vnd.jupyter.widget-view+json": {
       "model_id": "7aa1405904074031817fe54d58690661",
       "version_major": 2,
       "version_minor": 0
      },
      "text/plain": [
       "Predicting: 4317it [00:00, ?it/s]"
      ]
     },
     "metadata": {},
     "output_type": "display_data"
    },
    {
     "data": {
      "application/vnd.jupyter.widget-view+json": {
       "model_id": "ba5b240a6de44caa8f2e020988d73b40",
       "version_major": 2,
       "version_minor": 0
      },
      "text/plain": [
       "Predicting: 4317it [00:00, ?it/s]"
      ]
     },
     "metadata": {},
     "output_type": "display_data"
    },
    {
     "data": {
      "application/vnd.jupyter.widget-view+json": {
       "model_id": "845d24b1948e42a7889fcfa331036e14",
       "version_major": 2,
       "version_minor": 0
      },
      "text/plain": [
       "Predicting: 4317it [00:00, ?it/s]"
      ]
     },
     "metadata": {},
     "output_type": "display_data"
    },
    {
     "data": {
      "application/vnd.jupyter.widget-view+json": {
       "model_id": "161cee3f32574f5a86faf0b23d5bec0f",
       "version_major": 2,
       "version_minor": 0
      },
      "text/plain": [
       "Predicting: 4317it [00:00, ?it/s]"
      ]
     },
     "metadata": {},
     "output_type": "display_data"
    },
    {
     "data": {
      "application/vnd.jupyter.widget-view+json": {
       "model_id": "545e8517afa24977b044be95775bbaad",
       "version_major": 2,
       "version_minor": 0
      },
      "text/plain": [
       "Predicting: 4317it [00:00, ?it/s]"
      ]
     },
     "metadata": {},
     "output_type": "display_data"
    },
    {
     "data": {
      "application/vnd.jupyter.widget-view+json": {
       "model_id": "745bde2597774c708c5c10963bdd7ebf",
       "version_major": 2,
       "version_minor": 0
      },
      "text/plain": [
       "Predicting: 4317it [00:00, ?it/s]"
      ]
     },
     "metadata": {},
     "output_type": "display_data"
    },
    {
     "data": {
      "application/vnd.jupyter.widget-view+json": {
       "model_id": "0cd9975592bf4b9cae2a14f5dea12170",
       "version_major": 2,
       "version_minor": 0
      },
      "text/plain": [
       "Predicting: 4317it [00:00, ?it/s]"
      ]
     },
     "metadata": {},
     "output_type": "display_data"
    },
    {
     "data": {
      "application/vnd.jupyter.widget-view+json": {
       "model_id": "c696da7c4fcd464fa2acac31c792da01",
       "version_major": 2,
       "version_minor": 0
      },
      "text/plain": [
       "Predicting: 4317it [00:00, ?it/s]"
      ]
     },
     "metadata": {},
     "output_type": "display_data"
    },
    {
     "data": {
      "application/vnd.jupyter.widget-view+json": {
       "model_id": "00c7181c372a4072a325a518ac425ec6",
       "version_major": 2,
       "version_minor": 0
      },
      "text/plain": [
       "Predicting: 4317it [00:00, ?it/s]"
      ]
     },
     "metadata": {},
     "output_type": "display_data"
    },
    {
     "data": {
      "application/vnd.jupyter.widget-view+json": {
       "model_id": "ea7ec69b695e45439201989976fdbef0",
       "version_major": 2,
       "version_minor": 0
      },
      "text/plain": [
       "Predicting: 4317it [00:00, ?it/s]"
      ]
     },
     "metadata": {},
     "output_type": "display_data"
    },
    {
     "data": {
      "application/vnd.jupyter.widget-view+json": {
       "model_id": "7db3d46ee2494fe9aa2abbd107ae7606",
       "version_major": 2,
       "version_minor": 0
      },
      "text/plain": [
       "Predicting: 4317it [00:00, ?it/s]"
      ]
     },
     "metadata": {},
     "output_type": "display_data"
    },
    {
     "data": {
      "application/vnd.jupyter.widget-view+json": {
       "model_id": "dcb3d821161b45c3b806c42a974e4b36",
       "version_major": 2,
       "version_minor": 0
      },
      "text/plain": [
       "Predicting: 4317it [00:00, ?it/s]"
      ]
     },
     "metadata": {},
     "output_type": "display_data"
    },
    {
     "data": {
      "application/vnd.jupyter.widget-view+json": {
       "model_id": "3fee416bfd7c4ab4933cea632b089709",
       "version_major": 2,
       "version_minor": 0
      },
      "text/plain": [
       "Predicting: 4317it [00:00, ?it/s]"
      ]
     },
     "metadata": {},
     "output_type": "display_data"
    },
    {
     "data": {
      "application/vnd.jupyter.widget-view+json": {
       "model_id": "1410e52ea91c461b985dbb9a5ba6b80e",
       "version_major": 2,
       "version_minor": 0
      },
      "text/plain": [
       "Predicting: 4317it [00:00, ?it/s]"
      ]
     },
     "metadata": {},
     "output_type": "display_data"
    },
    {
     "data": {
      "application/vnd.jupyter.widget-view+json": {
       "model_id": "8245d6f50b1d4a819f7e386b53be3ca0",
       "version_major": 2,
       "version_minor": 0
      },
      "text/plain": [
       "Predicting: 4317it [00:00, ?it/s]"
      ]
     },
     "metadata": {},
     "output_type": "display_data"
    },
    {
     "data": {
      "application/vnd.jupyter.widget-view+json": {
       "model_id": "f35952d451e64874a487208fc56eea73",
       "version_major": 2,
       "version_minor": 0
      },
      "text/plain": [
       "Predicting: 4317it [00:00, ?it/s]"
      ]
     },
     "metadata": {},
     "output_type": "display_data"
    },
    {
     "data": {
      "application/vnd.jupyter.widget-view+json": {
       "model_id": "a5c6f97b96b24d22b0fab0a89cea9074",
       "version_major": 2,
       "version_minor": 0
      },
      "text/plain": [
       "Predicting: 4317it [00:00, ?it/s]"
      ]
     },
     "metadata": {},
     "output_type": "display_data"
    },
    {
     "data": {
      "application/vnd.jupyter.widget-view+json": {
       "model_id": "4638f351f9c946a4abc4302cec5b12e9",
       "version_major": 2,
       "version_minor": 0
      },
      "text/plain": [
       "Predicting: 4317it [00:00, ?it/s]"
      ]
     },
     "metadata": {},
     "output_type": "display_data"
    },
    {
     "data": {
      "application/vnd.jupyter.widget-view+json": {
       "model_id": "0e542a7dee1e4fdaaef67103fb6a40ca",
       "version_major": 2,
       "version_minor": 0
      },
      "text/plain": [
       "Predicting: 4317it [00:00, ?it/s]"
      ]
     },
     "metadata": {},
     "output_type": "display_data"
    },
    {
     "data": {
      "application/vnd.jupyter.widget-view+json": {
       "model_id": "bcc40d71769b47e6aa2eec7bc4803206",
       "version_major": 2,
       "version_minor": 0
      },
      "text/plain": [
       "Predicting: 4317it [00:00, ?it/s]"
      ]
     },
     "metadata": {},
     "output_type": "display_data"
    },
    {
     "data": {
      "application/vnd.jupyter.widget-view+json": {
       "model_id": "aa12c8185e8040eb8fda97c6af57e316",
       "version_major": 2,
       "version_minor": 0
      },
      "text/plain": [
       "Predicting: 4317it [00:00, ?it/s]"
      ]
     },
     "metadata": {},
     "output_type": "display_data"
    },
    {
     "data": {
      "application/vnd.jupyter.widget-view+json": {
       "model_id": "760c1849c8864f98a3d4fd33d9e12837",
       "version_major": 2,
       "version_minor": 0
      },
      "text/plain": [
       "Predicting: 4317it [00:00, ?it/s]"
      ]
     },
     "metadata": {},
     "output_type": "display_data"
    },
    {
     "data": {
      "application/vnd.jupyter.widget-view+json": {
       "model_id": "1368b68f799e4f1f81167bf7d7082bbd",
       "version_major": 2,
       "version_minor": 0
      },
      "text/plain": [
       "Predicting: 4317it [00:00, ?it/s]"
      ]
     },
     "metadata": {},
     "output_type": "display_data"
    },
    {
     "data": {
      "application/vnd.jupyter.widget-view+json": {
       "model_id": "c3672352606d454483059a53b5e85e9c",
       "version_major": 2,
       "version_minor": 0
      },
      "text/plain": [
       "Predicting: 4317it [00:00, ?it/s]"
      ]
     },
     "metadata": {},
     "output_type": "display_data"
    },
    {
     "data": {
      "application/vnd.jupyter.widget-view+json": {
       "model_id": "0a08eb06640c45a1a4d0436ed6a45c81",
       "version_major": 2,
       "version_minor": 0
      },
      "text/plain": [
       "Predicting: 4317it [00:00, ?it/s]"
      ]
     },
     "metadata": {},
     "output_type": "display_data"
    },
    {
     "data": {
      "application/vnd.jupyter.widget-view+json": {
       "model_id": "a7ae041baa0c4c05a5318731935d57b4",
       "version_major": 2,
       "version_minor": 0
      },
      "text/plain": [
       "Predicting: 4317it [00:00, ?it/s]"
      ]
     },
     "metadata": {},
     "output_type": "display_data"
    },
    {
     "data": {
      "application/vnd.jupyter.widget-view+json": {
       "model_id": "4524f9d5b8af4d7f8c5a3f9d53fd8449",
       "version_major": 2,
       "version_minor": 0
      },
      "text/plain": [
       "Predicting: 4317it [00:00, ?it/s]"
      ]
     },
     "metadata": {},
     "output_type": "display_data"
    },
    {
     "data": {
      "application/vnd.jupyter.widget-view+json": {
       "model_id": "210f9c4b7af64fc8a4e443967fe4c76a",
       "version_major": 2,
       "version_minor": 0
      },
      "text/plain": [
       "Predicting: 4317it [00:00, ?it/s]"
      ]
     },
     "metadata": {},
     "output_type": "display_data"
    },
    {
     "data": {
      "application/vnd.jupyter.widget-view+json": {
       "model_id": "90572b761f474475916ae551a3af0892",
       "version_major": 2,
       "version_minor": 0
      },
      "text/plain": [
       "Predicting: 4317it [00:00, ?it/s]"
      ]
     },
     "metadata": {},
     "output_type": "display_data"
    },
    {
     "data": {
      "application/vnd.jupyter.widget-view+json": {
       "model_id": "bac3ebd2889547a8b57ea9764237de16",
       "version_major": 2,
       "version_minor": 0
      },
      "text/plain": [
       "Predicting: 4317it [00:00, ?it/s]"
      ]
     },
     "metadata": {},
     "output_type": "display_data"
    },
    {
     "data": {
      "application/vnd.jupyter.widget-view+json": {
       "model_id": "4d58e323ac244d3599a5854a4455a272",
       "version_major": 2,
       "version_minor": 0
      },
      "text/plain": [
       "Predicting: 4317it [00:00, ?it/s]"
      ]
     },
     "metadata": {},
     "output_type": "display_data"
    },
    {
     "data": {
      "application/vnd.jupyter.widget-view+json": {
       "model_id": "451431c6c860475d96c4b7dee55f1a5b",
       "version_major": 2,
       "version_minor": 0
      },
      "text/plain": [
       "Predicting: 4317it [00:00, ?it/s]"
      ]
     },
     "metadata": {},
     "output_type": "display_data"
    },
    {
     "data": {
      "application/vnd.jupyter.widget-view+json": {
       "model_id": "ac2ec86cad1042568b399ebfcc0f96a5",
       "version_major": 2,
       "version_minor": 0
      },
      "text/plain": [
       "Predicting: 4317it [00:00, ?it/s]"
      ]
     },
     "metadata": {},
     "output_type": "display_data"
    },
    {
     "data": {
      "application/vnd.jupyter.widget-view+json": {
       "model_id": "5a2933ef2d2442bf934ef0d9350b0bb8",
       "version_major": 2,
       "version_minor": 0
      },
      "text/plain": [
       "Predicting: 4317it [00:00, ?it/s]"
      ]
     },
     "metadata": {},
     "output_type": "display_data"
    },
    {
     "data": {
      "application/vnd.jupyter.widget-view+json": {
       "model_id": "180a24af515e4254a08c5d684642d11e",
       "version_major": 2,
       "version_minor": 0
      },
      "text/plain": [
       "Predicting: 4317it [00:00, ?it/s]"
      ]
     },
     "metadata": {},
     "output_type": "display_data"
    },
    {
     "data": {
      "application/vnd.jupyter.widget-view+json": {
       "model_id": "6cf755d5c87c4becae07d7f9bae0f88f",
       "version_major": 2,
       "version_minor": 0
      },
      "text/plain": [
       "Predicting: 4317it [00:00, ?it/s]"
      ]
     },
     "metadata": {},
     "output_type": "display_data"
    },
    {
     "data": {
      "application/vnd.jupyter.widget-view+json": {
       "model_id": "535192c4a4ec473186f813c0e4604aad",
       "version_major": 2,
       "version_minor": 0
      },
      "text/plain": [
       "Predicting: 4317it [00:00, ?it/s]"
      ]
     },
     "metadata": {},
     "output_type": "display_data"
    },
    {
     "data": {
      "application/vnd.jupyter.widget-view+json": {
       "model_id": "d48db60a8afc4dbc81d0cc5f84404cde",
       "version_major": 2,
       "version_minor": 0
      },
      "text/plain": [
       "Predicting: 4317it [00:00, ?it/s]"
      ]
     },
     "metadata": {},
     "output_type": "display_data"
    },
    {
     "data": {
      "application/vnd.jupyter.widget-view+json": {
       "model_id": "68934679407a4bb69df1c644b4285dee",
       "version_major": 2,
       "version_minor": 0
      },
      "text/plain": [
       "Predicting: 4317it [00:00, ?it/s]"
      ]
     },
     "metadata": {},
     "output_type": "display_data"
    },
    {
     "data": {
      "application/vnd.jupyter.widget-view+json": {
       "model_id": "bce75462a8524d72837d62b383151439",
       "version_major": 2,
       "version_minor": 0
      },
      "text/plain": [
       "Predicting: 4317it [00:00, ?it/s]"
      ]
     },
     "metadata": {},
     "output_type": "display_data"
    },
    {
     "data": {
      "application/vnd.jupyter.widget-view+json": {
       "model_id": "4c69be6c4d354fe7a7f28e523ef3a723",
       "version_major": 2,
       "version_minor": 0
      },
      "text/plain": [
       "Predicting: 4317it [00:00, ?it/s]"
      ]
     },
     "metadata": {},
     "output_type": "display_data"
    },
    {
     "data": {
      "application/vnd.jupyter.widget-view+json": {
       "model_id": "9039ecce2700447e8ed119be896c49db",
       "version_major": 2,
       "version_minor": 0
      },
      "text/plain": [
       "Predicting: 4317it [00:00, ?it/s]"
      ]
     },
     "metadata": {},
     "output_type": "display_data"
    },
    {
     "data": {
      "application/vnd.jupyter.widget-view+json": {
       "model_id": "d8b498480b9d4a49912f9d9fabcec22f",
       "version_major": 2,
       "version_minor": 0
      },
      "text/plain": [
       "Predicting: 4317it [00:00, ?it/s]"
      ]
     },
     "metadata": {},
     "output_type": "display_data"
    },
    {
     "data": {
      "application/vnd.jupyter.widget-view+json": {
       "model_id": "c3c97f59c5484da5b4504660c4172751",
       "version_major": 2,
       "version_minor": 0
      },
      "text/plain": [
       "Predicting: 4317it [00:00, ?it/s]"
      ]
     },
     "metadata": {},
     "output_type": "display_data"
    },
    {
     "data": {
      "application/vnd.jupyter.widget-view+json": {
       "model_id": "b957dcfb3676427c9ceee229efd7b8b3",
       "version_major": 2,
       "version_minor": 0
      },
      "text/plain": [
       "Predicting: 4317it [00:00, ?it/s]"
      ]
     },
     "metadata": {},
     "output_type": "display_data"
    },
    {
     "data": {
      "application/vnd.jupyter.widget-view+json": {
       "model_id": "1d2b3797d3c9459092dd94b0e3b7485e",
       "version_major": 2,
       "version_minor": 0
      },
      "text/plain": [
       "Predicting: 4317it [00:00, ?it/s]"
      ]
     },
     "metadata": {},
     "output_type": "display_data"
    },
    {
     "data": {
      "application/vnd.jupyter.widget-view+json": {
       "model_id": "3851096fa53c4b05a80f81c6da04687d",
       "version_major": 2,
       "version_minor": 0
      },
      "text/plain": [
       "Predicting: 4317it [00:00, ?it/s]"
      ]
     },
     "metadata": {},
     "output_type": "display_data"
    },
    {
     "data": {
      "application/vnd.jupyter.widget-view+json": {
       "model_id": "61d213eadedf4b329fdd1c716792a51c",
       "version_major": 2,
       "version_minor": 0
      },
      "text/plain": [
       "Predicting: 4317it [00:00, ?it/s]"
      ]
     },
     "metadata": {},
     "output_type": "display_data"
    },
    {
     "data": {
      "application/vnd.jupyter.widget-view+json": {
       "model_id": "4f98d6e973a94435840c09d00407aaf9",
       "version_major": 2,
       "version_minor": 0
      },
      "text/plain": [
       "Predicting: 4317it [00:00, ?it/s]"
      ]
     },
     "metadata": {},
     "output_type": "display_data"
    },
    {
     "data": {
      "application/vnd.jupyter.widget-view+json": {
       "model_id": "79cc897ca4a349b5ad22e4c8fc0cfa2c",
       "version_major": 2,
       "version_minor": 0
      },
      "text/plain": [
       "Predicting: 4317it [00:00, ?it/s]"
      ]
     },
     "metadata": {},
     "output_type": "display_data"
    },
    {
     "data": {
      "application/vnd.jupyter.widget-view+json": {
       "model_id": "feee90220eba4c81ab172f7089bc2446",
       "version_major": 2,
       "version_minor": 0
      },
      "text/plain": [
       "Predicting: 4317it [00:00, ?it/s]"
      ]
     },
     "metadata": {},
     "output_type": "display_data"
    },
    {
     "data": {
      "application/vnd.jupyter.widget-view+json": {
       "model_id": "03a3143801584fc398cb1c260fbef6ea",
       "version_major": 2,
       "version_minor": 0
      },
      "text/plain": [
       "Predicting: 4317it [00:00, ?it/s]"
      ]
     },
     "metadata": {},
     "output_type": "display_data"
    },
    {
     "data": {
      "application/vnd.jupyter.widget-view+json": {
       "model_id": "29ada2f6651c47e0b19b3268fd1ce2fe",
       "version_major": 2,
       "version_minor": 0
      },
      "text/plain": [
       "Predicting: 4317it [00:00, ?it/s]"
      ]
     },
     "metadata": {},
     "output_type": "display_data"
    },
    {
     "data": {
      "application/vnd.jupyter.widget-view+json": {
       "model_id": "a8f1294ffaa84df39adcf50b24221d9c",
       "version_major": 2,
       "version_minor": 0
      },
      "text/plain": [
       "Predicting: 4317it [00:00, ?it/s]"
      ]
     },
     "metadata": {},
     "output_type": "display_data"
    },
    {
     "data": {
      "application/vnd.jupyter.widget-view+json": {
       "model_id": "c1c1300b841a483483f2ce40ca2efab7",
       "version_major": 2,
       "version_minor": 0
      },
      "text/plain": [
       "Predicting: 4317it [00:00, ?it/s]"
      ]
     },
     "metadata": {},
     "output_type": "display_data"
    },
    {
     "data": {
      "application/vnd.jupyter.widget-view+json": {
       "model_id": "19bf267d907943e0a7c8aafdbba76f6f",
       "version_major": 2,
       "version_minor": 0
      },
      "text/plain": [
       "Predicting: 4317it [00:00, ?it/s]"
      ]
     },
     "metadata": {},
     "output_type": "display_data"
    },
    {
     "data": {
      "application/vnd.jupyter.widget-view+json": {
       "model_id": "07943bf00ca748d8bff4b4686fc05706",
       "version_major": 2,
       "version_minor": 0
      },
      "text/plain": [
       "Predicting: 4317it [00:00, ?it/s]"
      ]
     },
     "metadata": {},
     "output_type": "display_data"
    },
    {
     "data": {
      "application/vnd.jupyter.widget-view+json": {
       "model_id": "74954b3aa5754f3294730f57806e0225",
       "version_major": 2,
       "version_minor": 0
      },
      "text/plain": [
       "Predicting: 4317it [00:00, ?it/s]"
      ]
     },
     "metadata": {},
     "output_type": "display_data"
    },
    {
     "data": {
      "application/vnd.jupyter.widget-view+json": {
       "model_id": "d983db7f966f4a1383698fd6836276e4",
       "version_major": 2,
       "version_minor": 0
      },
      "text/plain": [
       "Predicting: 4317it [00:00, ?it/s]"
      ]
     },
     "metadata": {},
     "output_type": "display_data"
    },
    {
     "data": {
      "application/vnd.jupyter.widget-view+json": {
       "model_id": "81b952b9fe0343598a4899c9ea73b947",
       "version_major": 2,
       "version_minor": 0
      },
      "text/plain": [
       "Predicting: 4317it [00:00, ?it/s]"
      ]
     },
     "metadata": {},
     "output_type": "display_data"
    },
    {
     "data": {
      "application/vnd.jupyter.widget-view+json": {
       "model_id": "3d243ffb2d7b4e82a1d320922436807b",
       "version_major": 2,
       "version_minor": 0
      },
      "text/plain": [
       "Predicting: 4317it [00:00, ?it/s]"
      ]
     },
     "metadata": {},
     "output_type": "display_data"
    },
    {
     "data": {
      "application/vnd.jupyter.widget-view+json": {
       "model_id": "6aa0b1055eca4f87bec7aef6b3cf264c",
       "version_major": 2,
       "version_minor": 0
      },
      "text/plain": [
       "Predicting: 4317it [00:00, ?it/s]"
      ]
     },
     "metadata": {},
     "output_type": "display_data"
    },
    {
     "data": {
      "application/vnd.jupyter.widget-view+json": {
       "model_id": "ee54667c2bb5436a82e85b278a4a1e89",
       "version_major": 2,
       "version_minor": 0
      },
      "text/plain": [
       "Predicting: 4317it [00:00, ?it/s]"
      ]
     },
     "metadata": {},
     "output_type": "display_data"
    },
    {
     "data": {
      "application/vnd.jupyter.widget-view+json": {
       "model_id": "027ff7ecae0e4f50b8a681b6b7620275",
       "version_major": 2,
       "version_minor": 0
      },
      "text/plain": [
       "Predicting: 4317it [00:00, ?it/s]"
      ]
     },
     "metadata": {},
     "output_type": "display_data"
    },
    {
     "data": {
      "application/vnd.jupyter.widget-view+json": {
       "model_id": "82b9e6976b8b44bd88a6034fb2a91834",
       "version_major": 2,
       "version_minor": 0
      },
      "text/plain": [
       "Predicting: 4317it [00:00, ?it/s]"
      ]
     },
     "metadata": {},
     "output_type": "display_data"
    },
    {
     "data": {
      "application/vnd.jupyter.widget-view+json": {
       "model_id": "283b8a536e66430e9ed282a55dca680a",
       "version_major": 2,
       "version_minor": 0
      },
      "text/plain": [
       "Predicting: 4317it [00:00, ?it/s]"
      ]
     },
     "metadata": {},
     "output_type": "display_data"
    },
    {
     "data": {
      "application/vnd.jupyter.widget-view+json": {
       "model_id": "5943e5aa2cf64d6684c997034f2f192c",
       "version_major": 2,
       "version_minor": 0
      },
      "text/plain": [
       "Predicting: 4317it [00:00, ?it/s]"
      ]
     },
     "metadata": {},
     "output_type": "display_data"
    },
    {
     "data": {
      "application/vnd.jupyter.widget-view+json": {
       "model_id": "b072ee9cb29741efaa7d394802e35e9e",
       "version_major": 2,
       "version_minor": 0
      },
      "text/plain": [
       "Predicting: 4317it [00:00, ?it/s]"
      ]
     },
     "metadata": {},
     "output_type": "display_data"
    },
    {
     "data": {
      "application/vnd.jupyter.widget-view+json": {
       "model_id": "5b22d6e5703a4f21818afb649a8170d9",
       "version_major": 2,
       "version_minor": 0
      },
      "text/plain": [
       "Predicting: 4317it [00:00, ?it/s]"
      ]
     },
     "metadata": {},
     "output_type": "display_data"
    },
    {
     "data": {
      "application/vnd.jupyter.widget-view+json": {
       "model_id": "7adc1bd0b65249398e7e23435e793ff1",
       "version_major": 2,
       "version_minor": 0
      },
      "text/plain": [
       "Predicting: 4317it [00:00, ?it/s]"
      ]
     },
     "metadata": {},
     "output_type": "display_data"
    },
    {
     "data": {
      "application/vnd.jupyter.widget-view+json": {
       "model_id": "0bdd910896b54c5f93ee1fddd5895b7d",
       "version_major": 2,
       "version_minor": 0
      },
      "text/plain": [
       "Predicting: 4317it [00:00, ?it/s]"
      ]
     },
     "metadata": {},
     "output_type": "display_data"
    },
    {
     "data": {
      "application/vnd.jupyter.widget-view+json": {
       "model_id": "8d4657a143534ba18b1ca5920470281b",
       "version_major": 2,
       "version_minor": 0
      },
      "text/plain": [
       "Predicting: 4317it [00:00, ?it/s]"
      ]
     },
     "metadata": {},
     "output_type": "display_data"
    },
    {
     "data": {
      "application/vnd.jupyter.widget-view+json": {
       "model_id": "49179672980d41c5980931ab49c3704e",
       "version_major": 2,
       "version_minor": 0
      },
      "text/plain": [
       "Predicting: 4317it [00:00, ?it/s]"
      ]
     },
     "metadata": {},
     "output_type": "display_data"
    },
    {
     "data": {
      "application/vnd.jupyter.widget-view+json": {
       "model_id": "a9e7876752c74c9da466751bf7507c16",
       "version_major": 2,
       "version_minor": 0
      },
      "text/plain": [
       "Predicting: 4317it [00:00, ?it/s]"
      ]
     },
     "metadata": {},
     "output_type": "display_data"
    },
    {
     "data": {
      "application/vnd.jupyter.widget-view+json": {
       "model_id": "060b24a9543446ada5d0862aa3bf93ce",
       "version_major": 2,
       "version_minor": 0
      },
      "text/plain": [
       "Predicting: 4317it [00:00, ?it/s]"
      ]
     },
     "metadata": {},
     "output_type": "display_data"
    },
    {
     "data": {
      "application/vnd.jupyter.widget-view+json": {
       "model_id": "07240d3c42f340ccb07d13f8b833d73d",
       "version_major": 2,
       "version_minor": 0
      },
      "text/plain": [
       "Predicting: 4317it [00:00, ?it/s]"
      ]
     },
     "metadata": {},
     "output_type": "display_data"
    },
    {
     "data": {
      "application/vnd.jupyter.widget-view+json": {
       "model_id": "c900daf428ba46ef9e73089dc9aeec8c",
       "version_major": 2,
       "version_minor": 0
      },
      "text/plain": [
       "Predicting: 4317it [00:00, ?it/s]"
      ]
     },
     "metadata": {},
     "output_type": "display_data"
    },
    {
     "data": {
      "application/vnd.jupyter.widget-view+json": {
       "model_id": "599dbaba43c949719251c4929623b312",
       "version_major": 2,
       "version_minor": 0
      },
      "text/plain": [
       "Predicting: 4317it [00:00, ?it/s]"
      ]
     },
     "metadata": {},
     "output_type": "display_data"
    },
    {
     "data": {
      "application/vnd.jupyter.widget-view+json": {
       "model_id": "c1f5bedf6ef046bdaabb878fba85dc61",
       "version_major": 2,
       "version_minor": 0
      },
      "text/plain": [
       "Predicting: 4317it [00:00, ?it/s]"
      ]
     },
     "metadata": {},
     "output_type": "display_data"
    },
    {
     "data": {
      "application/vnd.jupyter.widget-view+json": {
       "model_id": "ed35ba53c32142f0a04e8e231e91636e",
       "version_major": 2,
       "version_minor": 0
      },
      "text/plain": [
       "Predicting: 4317it [00:00, ?it/s]"
      ]
     },
     "metadata": {},
     "output_type": "display_data"
    },
    {
     "data": {
      "application/vnd.jupyter.widget-view+json": {
       "model_id": "7c3d9bbce4214c18b0c5b5ea99e87ac1",
       "version_major": 2,
       "version_minor": 0
      },
      "text/plain": [
       "Predicting: 4317it [00:00, ?it/s]"
      ]
     },
     "metadata": {},
     "output_type": "display_data"
    },
    {
     "data": {
      "application/vnd.jupyter.widget-view+json": {
       "model_id": "67496f433b6c44069da843408ebe5178",
       "version_major": 2,
       "version_minor": 0
      },
      "text/plain": [
       "Predicting: 4317it [00:00, ?it/s]"
      ]
     },
     "metadata": {},
     "output_type": "display_data"
    },
    {
     "data": {
      "application/vnd.jupyter.widget-view+json": {
       "model_id": "9054c543065b449a9091b32d78edb584",
       "version_major": 2,
       "version_minor": 0
      },
      "text/plain": [
       "Predicting: 4317it [00:00, ?it/s]"
      ]
     },
     "metadata": {},
     "output_type": "display_data"
    },
    {
     "data": {
      "application/vnd.jupyter.widget-view+json": {
       "model_id": "062ac725d4bb4b7f80ab5d32f939786f",
       "version_major": 2,
       "version_minor": 0
      },
      "text/plain": [
       "Predicting: 4317it [00:00, ?it/s]"
      ]
     },
     "metadata": {},
     "output_type": "display_data"
    },
    {
     "data": {
      "application/vnd.jupyter.widget-view+json": {
       "model_id": "a51dc2e085014aa79f36b4524e6087f6",
       "version_major": 2,
       "version_minor": 0
      },
      "text/plain": [
       "Predicting: 4317it [00:00, ?it/s]"
      ]
     },
     "metadata": {},
     "output_type": "display_data"
    },
    {
     "data": {
      "application/vnd.jupyter.widget-view+json": {
       "model_id": "43fc902fad124d34a9284d8bf8363292",
       "version_major": 2,
       "version_minor": 0
      },
      "text/plain": [
       "Predicting: 4317it [00:00, ?it/s]"
      ]
     },
     "metadata": {},
     "output_type": "display_data"
    },
    {
     "data": {
      "application/vnd.jupyter.widget-view+json": {
       "model_id": "b22b87f6ed1b4251847377b68b67c80b",
       "version_major": 2,
       "version_minor": 0
      },
      "text/plain": [
       "Predicting: 4317it [00:00, ?it/s]"
      ]
     },
     "metadata": {},
     "output_type": "display_data"
    },
    {
     "data": {
      "application/vnd.jupyter.widget-view+json": {
       "model_id": "7ea80feaebd545138f2c54858b39d0e6",
       "version_major": 2,
       "version_minor": 0
      },
      "text/plain": [
       "Predicting: 4317it [00:00, ?it/s]"
      ]
     },
     "metadata": {},
     "output_type": "display_data"
    },
    {
     "data": {
      "application/vnd.jupyter.widget-view+json": {
       "model_id": "e70322ba664545c794c5bd3bc5e5d49a",
       "version_major": 2,
       "version_minor": 0
      },
      "text/plain": [
       "Predicting: 4317it [00:00, ?it/s]"
      ]
     },
     "metadata": {},
     "output_type": "display_data"
    },
    {
     "data": {
      "application/vnd.jupyter.widget-view+json": {
       "model_id": "3d6c093196574b56932cce6d8eb59f80",
       "version_major": 2,
       "version_minor": 0
      },
      "text/plain": [
       "Predicting: 4317it [00:00, ?it/s]"
      ]
     },
     "metadata": {},
     "output_type": "display_data"
    },
    {
     "data": {
      "application/vnd.jupyter.widget-view+json": {
       "model_id": "72156d3aa3c8433d97647beb313ce4f3",
       "version_major": 2,
       "version_minor": 0
      },
      "text/plain": [
       "Predicting: 4317it [00:00, ?it/s]"
      ]
     },
     "metadata": {},
     "output_type": "display_data"
    },
    {
     "data": {
      "application/vnd.jupyter.widget-view+json": {
       "model_id": "6037502e084647c0a141706a3f01eb85",
       "version_major": 2,
       "version_minor": 0
      },
      "text/plain": [
       "Predicting: 4317it [00:00, ?it/s]"
      ]
     },
     "metadata": {},
     "output_type": "display_data"
    },
    {
     "data": {
      "application/vnd.jupyter.widget-view+json": {
       "model_id": "a6b76e4b61f24932b92aeb8d8bada6d2",
       "version_major": 2,
       "version_minor": 0
      },
      "text/plain": [
       "Predicting: 4317it [00:00, ?it/s]"
      ]
     },
     "metadata": {},
     "output_type": "display_data"
    },
    {
     "data": {
      "application/vnd.jupyter.widget-view+json": {
       "model_id": "59e46b5e37414d97977d1ead03e59d6a",
       "version_major": 2,
       "version_minor": 0
      },
      "text/plain": [
       "Predicting: 4317it [00:00, ?it/s]"
      ]
     },
     "metadata": {},
     "output_type": "display_data"
    },
    {
     "data": {
      "application/vnd.jupyter.widget-view+json": {
       "model_id": "ffa32d1b6cb04821a1c437f096de95cf",
       "version_major": 2,
       "version_minor": 0
      },
      "text/plain": [
       "Predicting: 4317it [00:00, ?it/s]"
      ]
     },
     "metadata": {},
     "output_type": "display_data"
    },
    {
     "data": {
      "application/vnd.jupyter.widget-view+json": {
       "model_id": "fdf46d44a87740f19445608f8382f07c",
       "version_major": 2,
       "version_minor": 0
      },
      "text/plain": [
       "Predicting: 4317it [00:00, ?it/s]"
      ]
     },
     "metadata": {},
     "output_type": "display_data"
    },
    {
     "data": {
      "application/vnd.jupyter.widget-view+json": {
       "model_id": "2965e8f1d7624cb7b6aad0ab5710f665",
       "version_major": 2,
       "version_minor": 0
      },
      "text/plain": [
       "Predicting: 4317it [00:00, ?it/s]"
      ]
     },
     "metadata": {},
     "output_type": "display_data"
    },
    {
     "data": {
      "application/vnd.jupyter.widget-view+json": {
       "model_id": "684312c9733a417599993a082ad5e141",
       "version_major": 2,
       "version_minor": 0
      },
      "text/plain": [
       "Predicting: 4317it [00:00, ?it/s]"
      ]
     },
     "metadata": {},
     "output_type": "display_data"
    },
    {
     "data": {
      "application/vnd.jupyter.widget-view+json": {
       "model_id": "e77b1e4b1eb74b7aac75f340eca411d4",
       "version_major": 2,
       "version_minor": 0
      },
      "text/plain": [
       "Predicting: 4317it [00:00, ?it/s]"
      ]
     },
     "metadata": {},
     "output_type": "display_data"
    },
    {
     "data": {
      "application/vnd.jupyter.widget-view+json": {
       "model_id": "3749d91e78414c8a91000b241f0e9d9d",
       "version_major": 2,
       "version_minor": 0
      },
      "text/plain": [
       "Predicting: 4317it [00:00, ?it/s]"
      ]
     },
     "metadata": {},
     "output_type": "display_data"
    },
    {
     "data": {
      "application/vnd.jupyter.widget-view+json": {
       "model_id": "e69fb682d3c04217a1f0fe9dacda826d",
       "version_major": 2,
       "version_minor": 0
      },
      "text/plain": [
       "Predicting: 4317it [00:00, ?it/s]"
      ]
     },
     "metadata": {},
     "output_type": "display_data"
    },
    {
     "data": {
      "application/vnd.jupyter.widget-view+json": {
       "model_id": "db321bca755a4771b50fa4639f2661b6",
       "version_major": 2,
       "version_minor": 0
      },
      "text/plain": [
       "Predicting: 4317it [00:00, ?it/s]"
      ]
     },
     "metadata": {},
     "output_type": "display_data"
    },
    {
     "data": {
      "application/vnd.jupyter.widget-view+json": {
       "model_id": "9b6848b9860f4305a795efffe5fae9d6",
       "version_major": 2,
       "version_minor": 0
      },
      "text/plain": [
       "Predicting: 4317it [00:00, ?it/s]"
      ]
     },
     "metadata": {},
     "output_type": "display_data"
    },
    {
     "data": {
      "application/vnd.jupyter.widget-view+json": {
       "model_id": "b86e9813cab7478395d194b58c5b4f6c",
       "version_major": 2,
       "version_minor": 0
      },
      "text/plain": [
       "Predicting: 4317it [00:00, ?it/s]"
      ]
     },
     "metadata": {},
     "output_type": "display_data"
    },
    {
     "data": {
      "application/vnd.jupyter.widget-view+json": {
       "model_id": "286942c644114fd98ab64ac667477fcf",
       "version_major": 2,
       "version_minor": 0
      },
      "text/plain": [
       "Predicting: 4317it [00:00, ?it/s]"
      ]
     },
     "metadata": {},
     "output_type": "display_data"
    },
    {
     "data": {
      "application/vnd.jupyter.widget-view+json": {
       "model_id": "fe96c68424ad46e580bacda6870ed651",
       "version_major": 2,
       "version_minor": 0
      },
      "text/plain": [
       "Predicting: 4317it [00:00, ?it/s]"
      ]
     },
     "metadata": {},
     "output_type": "display_data"
    },
    {
     "data": {
      "application/vnd.jupyter.widget-view+json": {
       "model_id": "6d5b2b0673d24e7faf48c75c0165258e",
       "version_major": 2,
       "version_minor": 0
      },
      "text/plain": [
       "Predicting: 4317it [00:00, ?it/s]"
      ]
     },
     "metadata": {},
     "output_type": "display_data"
    },
    {
     "data": {
      "application/vnd.jupyter.widget-view+json": {
       "model_id": "77f2e599cd5842c5bb25515f08a3560e",
       "version_major": 2,
       "version_minor": 0
      },
      "text/plain": [
       "Predicting: 4317it [00:00, ?it/s]"
      ]
     },
     "metadata": {},
     "output_type": "display_data"
    },
    {
     "data": {
      "application/vnd.jupyter.widget-view+json": {
       "model_id": "3992e5454dbc4808aea9dc4e83deb20f",
       "version_major": 2,
       "version_minor": 0
      },
      "text/plain": [
       "Predicting: 4317it [00:00, ?it/s]"
      ]
     },
     "metadata": {},
     "output_type": "display_data"
    },
    {
     "data": {
      "application/vnd.jupyter.widget-view+json": {
       "model_id": "128e5b8843844bd9af5c5e4c07d9a49e",
       "version_major": 2,
       "version_minor": 0
      },
      "text/plain": [
       "Predicting: 4317it [00:00, ?it/s]"
      ]
     },
     "metadata": {},
     "output_type": "display_data"
    },
    {
     "data": {
      "application/vnd.jupyter.widget-view+json": {
       "model_id": "9b5b1ff3e1bd4ebc921fa226e43b1d90",
       "version_major": 2,
       "version_minor": 0
      },
      "text/plain": [
       "Predicting: 4317it [00:00, ?it/s]"
      ]
     },
     "metadata": {},
     "output_type": "display_data"
    },
    {
     "data": {
      "application/vnd.jupyter.widget-view+json": {
       "model_id": "6c7539231bb24d4ca557aa2a13827356",
       "version_major": 2,
       "version_minor": 0
      },
      "text/plain": [
       "Predicting: 4317it [00:00, ?it/s]"
      ]
     },
     "metadata": {},
     "output_type": "display_data"
    },
    {
     "data": {
      "application/vnd.jupyter.widget-view+json": {
       "model_id": "26f7ff042dcf4231a76e0a4a21ee869d",
       "version_major": 2,
       "version_minor": 0
      },
      "text/plain": [
       "Predicting: 4317it [00:00, ?it/s]"
      ]
     },
     "metadata": {},
     "output_type": "display_data"
    },
    {
     "data": {
      "application/vnd.jupyter.widget-view+json": {
       "model_id": "9364dff78b7545e48cda02140411c645",
       "version_major": 2,
       "version_minor": 0
      },
      "text/plain": [
       "Predicting: 4317it [00:00, ?it/s]"
      ]
     },
     "metadata": {},
     "output_type": "display_data"
    },
    {
     "data": {
      "application/vnd.jupyter.widget-view+json": {
       "model_id": "11eff6e4e6f342b6895a4bdfa60a3c7e",
       "version_major": 2,
       "version_minor": 0
      },
      "text/plain": [
       "Predicting: 4317it [00:00, ?it/s]"
      ]
     },
     "metadata": {},
     "output_type": "display_data"
    },
    {
     "data": {
      "application/vnd.jupyter.widget-view+json": {
       "model_id": "8d4e2321aa94493db9946a78aa7203d3",
       "version_major": 2,
       "version_minor": 0
      },
      "text/plain": [
       "Predicting: 4317it [00:00, ?it/s]"
      ]
     },
     "metadata": {},
     "output_type": "display_data"
    },
    {
     "data": {
      "application/vnd.jupyter.widget-view+json": {
       "model_id": "6b93119fbefb459b80a3403210f5c08d",
       "version_major": 2,
       "version_minor": 0
      },
      "text/plain": [
       "Predicting: 4317it [00:00, ?it/s]"
      ]
     },
     "metadata": {},
     "output_type": "display_data"
    },
    {
     "data": {
      "application/vnd.jupyter.widget-view+json": {
       "model_id": "5e048ed647da4adfafe26f7d9aad0d62",
       "version_major": 2,
       "version_minor": 0
      },
      "text/plain": [
       "Predicting: 4317it [00:00, ?it/s]"
      ]
     },
     "metadata": {},
     "output_type": "display_data"
    },
    {
     "data": {
      "application/vnd.jupyter.widget-view+json": {
       "model_id": "fdf71792b62e49ccb8f7f4c6f5ae7a50",
       "version_major": 2,
       "version_minor": 0
      },
      "text/plain": [
       "Predicting: 4317it [00:00, ?it/s]"
      ]
     },
     "metadata": {},
     "output_type": "display_data"
    },
    {
     "data": {
      "application/vnd.jupyter.widget-view+json": {
       "model_id": "f9ceeafb428e4d4cb884c85c1a6a379d",
       "version_major": 2,
       "version_minor": 0
      },
      "text/plain": [
       "Predicting: 4317it [00:00, ?it/s]"
      ]
     },
     "metadata": {},
     "output_type": "display_data"
    },
    {
     "data": {
      "application/vnd.jupyter.widget-view+json": {
       "model_id": "f5d752b0342041b1afd3829097fa7b33",
       "version_major": 2,
       "version_minor": 0
      },
      "text/plain": [
       "Predicting: 4317it [00:00, ?it/s]"
      ]
     },
     "metadata": {},
     "output_type": "display_data"
    },
    {
     "data": {
      "application/vnd.jupyter.widget-view+json": {
       "model_id": "8a34666cbffc48969e990917a5e4bb83",
       "version_major": 2,
       "version_minor": 0
      },
      "text/plain": [
       "Predicting: 4317it [00:00, ?it/s]"
      ]
     },
     "metadata": {},
     "output_type": "display_data"
    },
    {
     "data": {
      "application/vnd.jupyter.widget-view+json": {
       "model_id": "9312ec4b372448c8a865c1def8f4198d",
       "version_major": 2,
       "version_minor": 0
      },
      "text/plain": [
       "Predicting: 4317it [00:00, ?it/s]"
      ]
     },
     "metadata": {},
     "output_type": "display_data"
    },
    {
     "data": {
      "application/vnd.jupyter.widget-view+json": {
       "model_id": "5561d36a0a894a3e85680671da260f04",
       "version_major": 2,
       "version_minor": 0
      },
      "text/plain": [
       "Predicting: 4317it [00:00, ?it/s]"
      ]
     },
     "metadata": {},
     "output_type": "display_data"
    },
    {
     "data": {
      "application/vnd.jupyter.widget-view+json": {
       "model_id": "3709c99bbbcc4471917ce85910fcbee7",
       "version_major": 2,
       "version_minor": 0
      },
      "text/plain": [
       "Predicting: 4317it [00:00, ?it/s]"
      ]
     },
     "metadata": {},
     "output_type": "display_data"
    },
    {
     "data": {
      "application/vnd.jupyter.widget-view+json": {
       "model_id": "ade9752b28904ec0b87af26fd419ef9f",
       "version_major": 2,
       "version_minor": 0
      },
      "text/plain": [
       "Predicting: 4317it [00:00, ?it/s]"
      ]
     },
     "metadata": {},
     "output_type": "display_data"
    },
    {
     "data": {
      "application/vnd.jupyter.widget-view+json": {
       "model_id": "67f4fd7e100a4392b08209c97026d13c",
       "version_major": 2,
       "version_minor": 0
      },
      "text/plain": [
       "Predicting: 4317it [00:00, ?it/s]"
      ]
     },
     "metadata": {},
     "output_type": "display_data"
    },
    {
     "data": {
      "application/vnd.jupyter.widget-view+json": {
       "model_id": "1d451c95e6044c498b0ce258687c929e",
       "version_major": 2,
       "version_minor": 0
      },
      "text/plain": [
       "Predicting: 4317it [00:00, ?it/s]"
      ]
     },
     "metadata": {},
     "output_type": "display_data"
    },
    {
     "data": {
      "application/vnd.jupyter.widget-view+json": {
       "model_id": "189a62a8dd9a4e06aad70fb5d47160c5",
       "version_major": 2,
       "version_minor": 0
      },
      "text/plain": [
       "Predicting: 4317it [00:00, ?it/s]"
      ]
     },
     "metadata": {},
     "output_type": "display_data"
    },
    {
     "data": {
      "application/vnd.jupyter.widget-view+json": {
       "model_id": "26567ff227ba4b97bbe4c3ede8674cf0",
       "version_major": 2,
       "version_minor": 0
      },
      "text/plain": [
       "Predicting: 4317it [00:00, ?it/s]"
      ]
     },
     "metadata": {},
     "output_type": "display_data"
    },
    {
     "data": {
      "application/vnd.jupyter.widget-view+json": {
       "model_id": "e7ea6c3eb87a429485112e22c232119f",
       "version_major": 2,
       "version_minor": 0
      },
      "text/plain": [
       "Predicting: 4317it [00:00, ?it/s]"
      ]
     },
     "metadata": {},
     "output_type": "display_data"
    },
    {
     "data": {
      "application/vnd.jupyter.widget-view+json": {
       "model_id": "e551b2e579db4893b7ffe98e0a63a734",
       "version_major": 2,
       "version_minor": 0
      },
      "text/plain": [
       "Predicting: 4317it [00:00, ?it/s]"
      ]
     },
     "metadata": {},
     "output_type": "display_data"
    },
    {
     "data": {
      "application/vnd.jupyter.widget-view+json": {
       "model_id": "1485d14fa84c44c3908a00b67b49cbe3",
       "version_major": 2,
       "version_minor": 0
      },
      "text/plain": [
       "Predicting: 4317it [00:00, ?it/s]"
      ]
     },
     "metadata": {},
     "output_type": "display_data"
    },
    {
     "data": {
      "application/vnd.jupyter.widget-view+json": {
       "model_id": "43588878026b48c3a287283630e61f11",
       "version_major": 2,
       "version_minor": 0
      },
      "text/plain": [
       "Predicting: 4317it [00:00, ?it/s]"
      ]
     },
     "metadata": {},
     "output_type": "display_data"
    },
    {
     "data": {
      "application/vnd.jupyter.widget-view+json": {
       "model_id": "e825ee0151ac4827bcca046e9ebbc1b0",
       "version_major": 2,
       "version_minor": 0
      },
      "text/plain": [
       "Predicting: 4317it [00:00, ?it/s]"
      ]
     },
     "metadata": {},
     "output_type": "display_data"
    },
    {
     "data": {
      "application/vnd.jupyter.widget-view+json": {
       "model_id": "0bf03afd8dcd4f6da3b4856d1c3e9cee",
       "version_major": 2,
       "version_minor": 0
      },
      "text/plain": [
       "Predicting: 4317it [00:00, ?it/s]"
      ]
     },
     "metadata": {},
     "output_type": "display_data"
    },
    {
     "data": {
      "application/vnd.jupyter.widget-view+json": {
       "model_id": "3e01cbfea8ca4e17a76348059ec247f6",
       "version_major": 2,
       "version_minor": 0
      },
      "text/plain": [
       "Predicting: 4317it [00:00, ?it/s]"
      ]
     },
     "metadata": {},
     "output_type": "display_data"
    },
    {
     "data": {
      "application/vnd.jupyter.widget-view+json": {
       "model_id": "49ad2eb9ac934621bf44e3e2f16fa48c",
       "version_major": 2,
       "version_minor": 0
      },
      "text/plain": [
       "Predicting: 4317it [00:00, ?it/s]"
      ]
     },
     "metadata": {},
     "output_type": "display_data"
    },
    {
     "data": {
      "application/vnd.jupyter.widget-view+json": {
       "model_id": "d10d14bd25cb48639d25a4ddafb03403",
       "version_major": 2,
       "version_minor": 0
      },
      "text/plain": [
       "Predicting: 4317it [00:00, ?it/s]"
      ]
     },
     "metadata": {},
     "output_type": "display_data"
    },
    {
     "data": {
      "application/vnd.jupyter.widget-view+json": {
       "model_id": "80a2b807081a4bb79f50c0428537d0bd",
       "version_major": 2,
       "version_minor": 0
      },
      "text/plain": [
       "Predicting: 4317it [00:00, ?it/s]"
      ]
     },
     "metadata": {},
     "output_type": "display_data"
    },
    {
     "data": {
      "application/vnd.jupyter.widget-view+json": {
       "model_id": "bb68b12e7c244c10bfaac2a2d9e1daff",
       "version_major": 2,
       "version_minor": 0
      },
      "text/plain": [
       "Predicting: 4317it [00:00, ?it/s]"
      ]
     },
     "metadata": {},
     "output_type": "display_data"
    },
    {
     "data": {
      "application/vnd.jupyter.widget-view+json": {
       "model_id": "d1d75ce55adf4363bfb1cb221679a63c",
       "version_major": 2,
       "version_minor": 0
      },
      "text/plain": [
       "Predicting: 4317it [00:00, ?it/s]"
      ]
     },
     "metadata": {},
     "output_type": "display_data"
    },
    {
     "data": {
      "application/vnd.jupyter.widget-view+json": {
       "model_id": "7ad01329406d4595ba147b952bb9ff9c",
       "version_major": 2,
       "version_minor": 0
      },
      "text/plain": [
       "Predicting: 4317it [00:00, ?it/s]"
      ]
     },
     "metadata": {},
     "output_type": "display_data"
    },
    {
     "data": {
      "application/vnd.jupyter.widget-view+json": {
       "model_id": "3ca24d9597d7471ab3ed0d8e3e4d7273",
       "version_major": 2,
       "version_minor": 0
      },
      "text/plain": [
       "Predicting: 4317it [00:00, ?it/s]"
      ]
     },
     "metadata": {},
     "output_type": "display_data"
    },
    {
     "data": {
      "application/vnd.jupyter.widget-view+json": {
       "model_id": "0e880ea0145b441482b96ea6383576c1",
       "version_major": 2,
       "version_minor": 0
      },
      "text/plain": [
       "Predicting: 4317it [00:00, ?it/s]"
      ]
     },
     "metadata": {},
     "output_type": "display_data"
    },
    {
     "data": {
      "application/vnd.jupyter.widget-view+json": {
       "model_id": "f5dd779e249e4a3ab146fb882bd6fe10",
       "version_major": 2,
       "version_minor": 0
      },
      "text/plain": [
       "Predicting: 4317it [00:00, ?it/s]"
      ]
     },
     "metadata": {},
     "output_type": "display_data"
    },
    {
     "data": {
      "application/vnd.jupyter.widget-view+json": {
       "model_id": "2354b0a81bfc4c1f81424008b8e15f6e",
       "version_major": 2,
       "version_minor": 0
      },
      "text/plain": [
       "Predicting: 4317it [00:00, ?it/s]"
      ]
     },
     "metadata": {},
     "output_type": "display_data"
    },
    {
     "data": {
      "application/vnd.jupyter.widget-view+json": {
       "model_id": "1fbb4ab56a694c25a2e1d6f8c8e859db",
       "version_major": 2,
       "version_minor": 0
      },
      "text/plain": [
       "Predicting: 4317it [00:00, ?it/s]"
      ]
     },
     "metadata": {},
     "output_type": "display_data"
    },
    {
     "data": {
      "application/vnd.jupyter.widget-view+json": {
       "model_id": "ec94be64beec482e994d5577740c9d04",
       "version_major": 2,
       "version_minor": 0
      },
      "text/plain": [
       "Predicting: 4317it [00:00, ?it/s]"
      ]
     },
     "metadata": {},
     "output_type": "display_data"
    },
    {
     "data": {
      "application/vnd.jupyter.widget-view+json": {
       "model_id": "c18605e1bbc44f70844fd821bda764e7",
       "version_major": 2,
       "version_minor": 0
      },
      "text/plain": [
       "Predicting: 4317it [00:00, ?it/s]"
      ]
     },
     "metadata": {},
     "output_type": "display_data"
    },
    {
     "data": {
      "application/vnd.jupyter.widget-view+json": {
       "model_id": "6d98b02b72ab431ca542109a35a7e79d",
       "version_major": 2,
       "version_minor": 0
      },
      "text/plain": [
       "Predicting: 4317it [00:00, ?it/s]"
      ]
     },
     "metadata": {},
     "output_type": "display_data"
    },
    {
     "data": {
      "application/vnd.jupyter.widget-view+json": {
       "model_id": "3c0f09a4554246e9b4cef73bb4e31c75",
       "version_major": 2,
       "version_minor": 0
      },
      "text/plain": [
       "Predicting: 4317it [00:00, ?it/s]"
      ]
     },
     "metadata": {},
     "output_type": "display_data"
    },
    {
     "data": {
      "application/vnd.jupyter.widget-view+json": {
       "model_id": "3a1e505e812d4a67bafebd2c7628e1b5",
       "version_major": 2,
       "version_minor": 0
      },
      "text/plain": [
       "Predicting: 4317it [00:00, ?it/s]"
      ]
     },
     "metadata": {},
     "output_type": "display_data"
    },
    {
     "data": {
      "application/vnd.jupyter.widget-view+json": {
       "model_id": "80375649555f43d1b3af99437e1b01c5",
       "version_major": 2,
       "version_minor": 0
      },
      "text/plain": [
       "Predicting: 4317it [00:00, ?it/s]"
      ]
     },
     "metadata": {},
     "output_type": "display_data"
    },
    {
     "data": {
      "application/vnd.jupyter.widget-view+json": {
       "model_id": "09651945e73e443fa9defc49da461ba4",
       "version_major": 2,
       "version_minor": 0
      },
      "text/plain": [
       "Predicting: 4317it [00:00, ?it/s]"
      ]
     },
     "metadata": {},
     "output_type": "display_data"
    },
    {
     "data": {
      "application/vnd.jupyter.widget-view+json": {
       "model_id": "45876a7eebdd48cfbbe96cf7c7bd37d7",
       "version_major": 2,
       "version_minor": 0
      },
      "text/plain": [
       "Predicting: 4317it [00:00, ?it/s]"
      ]
     },
     "metadata": {},
     "output_type": "display_data"
    },
    {
     "data": {
      "application/vnd.jupyter.widget-view+json": {
       "model_id": "79a07f524d17421997a9ae12b6778c1c",
       "version_major": 2,
       "version_minor": 0
      },
      "text/plain": [
       "Predicting: 4317it [00:00, ?it/s]"
      ]
     },
     "metadata": {},
     "output_type": "display_data"
    },
    {
     "data": {
      "application/vnd.jupyter.widget-view+json": {
       "model_id": "496d5e32239e4e29a323cab9a44e2c09",
       "version_major": 2,
       "version_minor": 0
      },
      "text/plain": [
       "Predicting: 4317it [00:00, ?it/s]"
      ]
     },
     "metadata": {},
     "output_type": "display_data"
    },
    {
     "data": {
      "application/vnd.jupyter.widget-view+json": {
       "model_id": "57e6f74cfb754de49d1de77d790fc4ad",
       "version_major": 2,
       "version_minor": 0
      },
      "text/plain": [
       "Predicting: 4317it [00:00, ?it/s]"
      ]
     },
     "metadata": {},
     "output_type": "display_data"
    },
    {
     "data": {
      "application/vnd.jupyter.widget-view+json": {
       "model_id": "abd7162c3d7747ef95d35e1a4db537cc",
       "version_major": 2,
       "version_minor": 0
      },
      "text/plain": [
       "Predicting: 4317it [00:00, ?it/s]"
      ]
     },
     "metadata": {},
     "output_type": "display_data"
    },
    {
     "data": {
      "application/vnd.jupyter.widget-view+json": {
       "model_id": "e818c61a0c5d4b1cadae7d42c940e530",
       "version_major": 2,
       "version_minor": 0
      },
      "text/plain": [
       "Predicting: 4317it [00:00, ?it/s]"
      ]
     },
     "metadata": {},
     "output_type": "display_data"
    },
    {
     "data": {
      "application/vnd.jupyter.widget-view+json": {
       "model_id": "238b1722f9794245bca1376f4746809f",
       "version_major": 2,
       "version_minor": 0
      },
      "text/plain": [
       "Predicting: 4317it [00:00, ?it/s]"
      ]
     },
     "metadata": {},
     "output_type": "display_data"
    },
    {
     "data": {
      "application/vnd.jupyter.widget-view+json": {
       "model_id": "8bbcecbdad0a42888e98e561df9d7a4f",
       "version_major": 2,
       "version_minor": 0
      },
      "text/plain": [
       "Predicting: 4317it [00:00, ?it/s]"
      ]
     },
     "metadata": {},
     "output_type": "display_data"
    },
    {
     "data": {
      "application/vnd.jupyter.widget-view+json": {
       "model_id": "6a15dbb6d30b48a5b4d14b9dcfab5e87",
       "version_major": 2,
       "version_minor": 0
      },
      "text/plain": [
       "Predicting: 4317it [00:00, ?it/s]"
      ]
     },
     "metadata": {},
     "output_type": "display_data"
    },
    {
     "data": {
      "application/vnd.jupyter.widget-view+json": {
       "model_id": "1081331895c14a6990195ba552362380",
       "version_major": 2,
       "version_minor": 0
      },
      "text/plain": [
       "Predicting: 4317it [00:00, ?it/s]"
      ]
     },
     "metadata": {},
     "output_type": "display_data"
    },
    {
     "data": {
      "application/vnd.jupyter.widget-view+json": {
       "model_id": "f933888e591840ef92b20ed382c32396",
       "version_major": 2,
       "version_minor": 0
      },
      "text/plain": [
       "Predicting: 4317it [00:00, ?it/s]"
      ]
     },
     "metadata": {},
     "output_type": "display_data"
    },
    {
     "data": {
      "application/vnd.jupyter.widget-view+json": {
       "model_id": "e5db30dff80b428d8c7ac0d885560598",
       "version_major": 2,
       "version_minor": 0
      },
      "text/plain": [
       "Predicting: 4317it [00:00, ?it/s]"
      ]
     },
     "metadata": {},
     "output_type": "display_data"
    },
    {
     "data": {
      "application/vnd.jupyter.widget-view+json": {
       "model_id": "4582d1c7e0c840aeaa1b724cfffbf048",
       "version_major": 2,
       "version_minor": 0
      },
      "text/plain": [
       "Predicting: 4317it [00:00, ?it/s]"
      ]
     },
     "metadata": {},
     "output_type": "display_data"
    },
    {
     "data": {
      "application/vnd.jupyter.widget-view+json": {
       "model_id": "de455a5d6f214ad38ce705e8376dde69",
       "version_major": 2,
       "version_minor": 0
      },
      "text/plain": [
       "Predicting: 4317it [00:00, ?it/s]"
      ]
     },
     "metadata": {},
     "output_type": "display_data"
    },
    {
     "data": {
      "application/vnd.jupyter.widget-view+json": {
       "model_id": "9a0e5761e6874700ae9d3ab42808c128",
       "version_major": 2,
       "version_minor": 0
      },
      "text/plain": [
       "Predicting: 4317it [00:00, ?it/s]"
      ]
     },
     "metadata": {},
     "output_type": "display_data"
    },
    {
     "data": {
      "application/vnd.jupyter.widget-view+json": {
       "model_id": "d89363bde8364f64ad1f3d4d8007a85d",
       "version_major": 2,
       "version_minor": 0
      },
      "text/plain": [
       "Predicting: 4317it [00:00, ?it/s]"
      ]
     },
     "metadata": {},
     "output_type": "display_data"
    },
    {
     "data": {
      "application/vnd.jupyter.widget-view+json": {
       "model_id": "41789cee30be459aab05c17480584a46",
       "version_major": 2,
       "version_minor": 0
      },
      "text/plain": [
       "Predicting: 4317it [00:00, ?it/s]"
      ]
     },
     "metadata": {},
     "output_type": "display_data"
    },
    {
     "data": {
      "application/vnd.jupyter.widget-view+json": {
       "model_id": "74e08c54afe249ac9aedba3cc7aef6f5",
       "version_major": 2,
       "version_minor": 0
      },
      "text/plain": [
       "Predicting: 4317it [00:00, ?it/s]"
      ]
     },
     "metadata": {},
     "output_type": "display_data"
    },
    {
     "data": {
      "application/vnd.jupyter.widget-view+json": {
       "model_id": "7978446d372e4a958953c327125417cc",
       "version_major": 2,
       "version_minor": 0
      },
      "text/plain": [
       "Predicting: 4317it [00:00, ?it/s]"
      ]
     },
     "metadata": {},
     "output_type": "display_data"
    },
    {
     "data": {
      "application/vnd.jupyter.widget-view+json": {
       "model_id": "ba421cd9010e4ca6a777bcdf3e0bbccc",
       "version_major": 2,
       "version_minor": 0
      },
      "text/plain": [
       "Predicting: 4317it [00:00, ?it/s]"
      ]
     },
     "metadata": {},
     "output_type": "display_data"
    },
    {
     "data": {
      "application/vnd.jupyter.widget-view+json": {
       "model_id": "843f9ad1a74749aa981e8d456e26e63e",
       "version_major": 2,
       "version_minor": 0
      },
      "text/plain": [
       "Predicting: 4317it [00:00, ?it/s]"
      ]
     },
     "metadata": {},
     "output_type": "display_data"
    },
    {
     "data": {
      "application/vnd.jupyter.widget-view+json": {
       "model_id": "50bce176bad64762a8bb2549e23c0f17",
       "version_major": 2,
       "version_minor": 0
      },
      "text/plain": [
       "Predicting: 4317it [00:00, ?it/s]"
      ]
     },
     "metadata": {},
     "output_type": "display_data"
    },
    {
     "data": {
      "application/vnd.jupyter.widget-view+json": {
       "model_id": "b6e0b4916a3946f1b50f8c3cd02df288",
       "version_major": 2,
       "version_minor": 0
      },
      "text/plain": [
       "Predicting: 4317it [00:00, ?it/s]"
      ]
     },
     "metadata": {},
     "output_type": "display_data"
    },
    {
     "data": {
      "application/vnd.jupyter.widget-view+json": {
       "model_id": "a28c95bbb3f648cb93fa9d47bc178495",
       "version_major": 2,
       "version_minor": 0
      },
      "text/plain": [
       "Predicting: 4317it [00:00, ?it/s]"
      ]
     },
     "metadata": {},
     "output_type": "display_data"
    },
    {
     "data": {
      "application/vnd.jupyter.widget-view+json": {
       "model_id": "72bdfde6b09e4c5eb4d8dff3d13796f0",
       "version_major": 2,
       "version_minor": 0
      },
      "text/plain": [
       "Predicting: 4317it [00:00, ?it/s]"
      ]
     },
     "metadata": {},
     "output_type": "display_data"
    },
    {
     "data": {
      "application/vnd.jupyter.widget-view+json": {
       "model_id": "06ce7ea066ba4a29aba085c6a837528b",
       "version_major": 2,
       "version_minor": 0
      },
      "text/plain": [
       "Predicting: 4317it [00:00, ?it/s]"
      ]
     },
     "metadata": {},
     "output_type": "display_data"
    },
    {
     "data": {
      "application/vnd.jupyter.widget-view+json": {
       "model_id": "aa10f374701b4b8d82a2fd3f3cf21a38",
       "version_major": 2,
       "version_minor": 0
      },
      "text/plain": [
       "Predicting: 4317it [00:00, ?it/s]"
      ]
     },
     "metadata": {},
     "output_type": "display_data"
    },
    {
     "data": {
      "application/vnd.jupyter.widget-view+json": {
       "model_id": "349ae7918f744e13a589ded9ef99e3de",
       "version_major": 2,
       "version_minor": 0
      },
      "text/plain": [
       "Predicting: 4317it [00:00, ?it/s]"
      ]
     },
     "metadata": {},
     "output_type": "display_data"
    },
    {
     "data": {
      "application/vnd.jupyter.widget-view+json": {
       "model_id": "ea118b77a9184f59b86b79ca5b1dd2aa",
       "version_major": 2,
       "version_minor": 0
      },
      "text/plain": [
       "Predicting: 4317it [00:00, ?it/s]"
      ]
     },
     "metadata": {},
     "output_type": "display_data"
    },
    {
     "data": {
      "application/vnd.jupyter.widget-view+json": {
       "model_id": "38441c0f72d64ce7a031d052694f848f",
       "version_major": 2,
       "version_minor": 0
      },
      "text/plain": [
       "Predicting: 4317it [00:00, ?it/s]"
      ]
     },
     "metadata": {},
     "output_type": "display_data"
    },
    {
     "data": {
      "application/vnd.jupyter.widget-view+json": {
       "model_id": "5c883e127cd441b298e71d6f2863d585",
       "version_major": 2,
       "version_minor": 0
      },
      "text/plain": [
       "Predicting: 4317it [00:00, ?it/s]"
      ]
     },
     "metadata": {},
     "output_type": "display_data"
    },
    {
     "data": {
      "application/vnd.jupyter.widget-view+json": {
       "model_id": "d1fca38daef741cba9b6fc53e970ebf9",
       "version_major": 2,
       "version_minor": 0
      },
      "text/plain": [
       "Predicting: 4317it [00:00, ?it/s]"
      ]
     },
     "metadata": {},
     "output_type": "display_data"
    },
    {
     "data": {
      "application/vnd.jupyter.widget-view+json": {
       "model_id": "891478ceae554ae1b34dfe13ef4e2857",
       "version_major": 2,
       "version_minor": 0
      },
      "text/plain": [
       "Predicting: 4317it [00:00, ?it/s]"
      ]
     },
     "metadata": {},
     "output_type": "display_data"
    },
    {
     "data": {
      "application/vnd.jupyter.widget-view+json": {
       "model_id": "757d34fb303d444c8bc0ddc68ddbd750",
       "version_major": 2,
       "version_minor": 0
      },
      "text/plain": [
       "Predicting: 4317it [00:00, ?it/s]"
      ]
     },
     "metadata": {},
     "output_type": "display_data"
    },
    {
     "data": {
      "application/vnd.jupyter.widget-view+json": {
       "model_id": "4cdb9f4f27b04799832307ac7327597f",
       "version_major": 2,
       "version_minor": 0
      },
      "text/plain": [
       "Predicting: 4317it [00:00, ?it/s]"
      ]
     },
     "metadata": {},
     "output_type": "display_data"
    },
    {
     "data": {
      "application/vnd.jupyter.widget-view+json": {
       "model_id": "00ae5e68733b4ee9ab397747c6a16d8f",
       "version_major": 2,
       "version_minor": 0
      },
      "text/plain": [
       "Predicting: 4317it [00:00, ?it/s]"
      ]
     },
     "metadata": {},
     "output_type": "display_data"
    },
    {
     "data": {
      "application/vnd.jupyter.widget-view+json": {
       "model_id": "d3bb199612c24c24be3b04eccf403260",
       "version_major": 2,
       "version_minor": 0
      },
      "text/plain": [
       "Predicting: 4317it [00:00, ?it/s]"
      ]
     },
     "metadata": {},
     "output_type": "display_data"
    },
    {
     "data": {
      "application/vnd.jupyter.widget-view+json": {
       "model_id": "5685af2ab0ed47b48f1599711d2c2694",
       "version_major": 2,
       "version_minor": 0
      },
      "text/plain": [
       "Predicting: 4317it [00:00, ?it/s]"
      ]
     },
     "metadata": {},
     "output_type": "display_data"
    },
    {
     "data": {
      "application/vnd.jupyter.widget-view+json": {
       "model_id": "6682db5c6b294acaa1181a74794f48b3",
       "version_major": 2,
       "version_minor": 0
      },
      "text/plain": [
       "Predicting: 4317it [00:00, ?it/s]"
      ]
     },
     "metadata": {},
     "output_type": "display_data"
    },
    {
     "data": {
      "application/vnd.jupyter.widget-view+json": {
       "model_id": "4e6d0369e7374cb5b6c11cf81dcf6366",
       "version_major": 2,
       "version_minor": 0
      },
      "text/plain": [
       "Predicting: 4317it [00:00, ?it/s]"
      ]
     },
     "metadata": {},
     "output_type": "display_data"
    },
    {
     "data": {
      "application/vnd.jupyter.widget-view+json": {
       "model_id": "4440315b5b8148409b8d26bd869490af",
       "version_major": 2,
       "version_minor": 0
      },
      "text/plain": [
       "Predicting: 4317it [00:00, ?it/s]"
      ]
     },
     "metadata": {},
     "output_type": "display_data"
    },
    {
     "data": {
      "application/vnd.jupyter.widget-view+json": {
       "model_id": "39410c3788e24c29a8ba38d75da6e760",
       "version_major": 2,
       "version_minor": 0
      },
      "text/plain": [
       "Predicting: 4317it [00:00, ?it/s]"
      ]
     },
     "metadata": {},
     "output_type": "display_data"
    },
    {
     "data": {
      "application/vnd.jupyter.widget-view+json": {
       "model_id": "2592b98bbed54be18c3b05ac735abf44",
       "version_major": 2,
       "version_minor": 0
      },
      "text/plain": [
       "Predicting: 4317it [00:00, ?it/s]"
      ]
     },
     "metadata": {},
     "output_type": "display_data"
    },
    {
     "data": {
      "application/vnd.jupyter.widget-view+json": {
       "model_id": "ba7fd6d35a554a9f822022c9c9bf4a2c",
       "version_major": 2,
       "version_minor": 0
      },
      "text/plain": [
       "Predicting: 4317it [00:00, ?it/s]"
      ]
     },
     "metadata": {},
     "output_type": "display_data"
    },
    {
     "data": {
      "application/vnd.jupyter.widget-view+json": {
       "model_id": "6b5b14349e6c4afab0b113188216b4c5",
       "version_major": 2,
       "version_minor": 0
      },
      "text/plain": [
       "Predicting: 4317it [00:00, ?it/s]"
      ]
     },
     "metadata": {},
     "output_type": "display_data"
    },
    {
     "data": {
      "application/vnd.jupyter.widget-view+json": {
       "model_id": "6e9a87edfe0e4eeda67c321d2b0263c2",
       "version_major": 2,
       "version_minor": 0
      },
      "text/plain": [
       "Predicting: 4317it [00:00, ?it/s]"
      ]
     },
     "metadata": {},
     "output_type": "display_data"
    },
    {
     "data": {
      "application/vnd.jupyter.widget-view+json": {
       "model_id": "5a29114e84484c5d91f1a95367d13889",
       "version_major": 2,
       "version_minor": 0
      },
      "text/plain": [
       "Predicting: 4317it [00:00, ?it/s]"
      ]
     },
     "metadata": {},
     "output_type": "display_data"
    },
    {
     "data": {
      "application/vnd.jupyter.widget-view+json": {
       "model_id": "db4a5a0082f64e07befbb14014ac2c62",
       "version_major": 2,
       "version_minor": 0
      },
      "text/plain": [
       "Predicting: 4317it [00:00, ?it/s]"
      ]
     },
     "metadata": {},
     "output_type": "display_data"
    },
    {
     "data": {
      "application/vnd.jupyter.widget-view+json": {
       "model_id": "0c2fd80bd20f4b11bff85a340298bf6e",
       "version_major": 2,
       "version_minor": 0
      },
      "text/plain": [
       "Predicting: 4317it [00:00, ?it/s]"
      ]
     },
     "metadata": {},
     "output_type": "display_data"
    },
    {
     "data": {
      "application/vnd.jupyter.widget-view+json": {
       "model_id": "c8bca319d5e34d81a43fd860eeb9e45e",
       "version_major": 2,
       "version_minor": 0
      },
      "text/plain": [
       "Predicting: 4317it [00:00, ?it/s]"
      ]
     },
     "metadata": {},
     "output_type": "display_data"
    },
    {
     "data": {
      "application/vnd.jupyter.widget-view+json": {
       "model_id": "ac6a49c85bf8405a8ffd10f92a2bd7b3",
       "version_major": 2,
       "version_minor": 0
      },
      "text/plain": [
       "Predicting: 4317it [00:00, ?it/s]"
      ]
     },
     "metadata": {},
     "output_type": "display_data"
    },
    {
     "data": {
      "application/vnd.jupyter.widget-view+json": {
       "model_id": "8dc33058704c426dbd0fcfb54b8cc9b0",
       "version_major": 2,
       "version_minor": 0
      },
      "text/plain": [
       "Predicting: 4317it [00:00, ?it/s]"
      ]
     },
     "metadata": {},
     "output_type": "display_data"
    },
    {
     "data": {
      "application/vnd.jupyter.widget-view+json": {
       "model_id": "932979f52b7e40708c95d45d4c4c7a06",
       "version_major": 2,
       "version_minor": 0
      },
      "text/plain": [
       "Predicting: 4317it [00:00, ?it/s]"
      ]
     },
     "metadata": {},
     "output_type": "display_data"
    },
    {
     "data": {
      "application/vnd.jupyter.widget-view+json": {
       "model_id": "54f837d9007b48098c34f8f9d5198522",
       "version_major": 2,
       "version_minor": 0
      },
      "text/plain": [
       "Predicting: 4317it [00:00, ?it/s]"
      ]
     },
     "metadata": {},
     "output_type": "display_data"
    },
    {
     "data": {
      "application/vnd.jupyter.widget-view+json": {
       "model_id": "a579ea3771724ee3ad1f152d82a78ba5",
       "version_major": 2,
       "version_minor": 0
      },
      "text/plain": [
       "Predicting: 4317it [00:00, ?it/s]"
      ]
     },
     "metadata": {},
     "output_type": "display_data"
    },
    {
     "data": {
      "application/vnd.jupyter.widget-view+json": {
       "model_id": "18d17a07c9294e3b8a15d9198f7c7e70",
       "version_major": 2,
       "version_minor": 0
      },
      "text/plain": [
       "Predicting: 4317it [00:00, ?it/s]"
      ]
     },
     "metadata": {},
     "output_type": "display_data"
    },
    {
     "data": {
      "application/vnd.jupyter.widget-view+json": {
       "model_id": "bae108c4b12c4e8d9c28143fb774eb7c",
       "version_major": 2,
       "version_minor": 0
      },
      "text/plain": [
       "Predicting: 4317it [00:00, ?it/s]"
      ]
     },
     "metadata": {},
     "output_type": "display_data"
    },
    {
     "data": {
      "application/vnd.jupyter.widget-view+json": {
       "model_id": "0cc39dafc334461d99a62ab6f1612e0d",
       "version_major": 2,
       "version_minor": 0
      },
      "text/plain": [
       "Predicting: 4317it [00:00, ?it/s]"
      ]
     },
     "metadata": {},
     "output_type": "display_data"
    },
    {
     "data": {
      "application/vnd.jupyter.widget-view+json": {
       "model_id": "cd1416fb35e04169b87f5cea7a6d6f7b",
       "version_major": 2,
       "version_minor": 0
      },
      "text/plain": [
       "Predicting: 4317it [00:00, ?it/s]"
      ]
     },
     "metadata": {},
     "output_type": "display_data"
    },
    {
     "data": {
      "application/vnd.jupyter.widget-view+json": {
       "model_id": "4ef91f0a06114fc0a6bbbb3f9538b1a2",
       "version_major": 2,
       "version_minor": 0
      },
      "text/plain": [
       "Predicting: 4317it [00:00, ?it/s]"
      ]
     },
     "metadata": {},
     "output_type": "display_data"
    },
    {
     "data": {
      "application/vnd.jupyter.widget-view+json": {
       "model_id": "55301b1618e44b0da37f5acd733269ba",
       "version_major": 2,
       "version_minor": 0
      },
      "text/plain": [
       "Predicting: 4317it [00:00, ?it/s]"
      ]
     },
     "metadata": {},
     "output_type": "display_data"
    },
    {
     "data": {
      "application/vnd.jupyter.widget-view+json": {
       "model_id": "b01f079ec93f44018147a842cefbe866",
       "version_major": 2,
       "version_minor": 0
      },
      "text/plain": [
       "Predicting: 4317it [00:00, ?it/s]"
      ]
     },
     "metadata": {},
     "output_type": "display_data"
    },
    {
     "data": {
      "application/vnd.jupyter.widget-view+json": {
       "model_id": "2e500e76934c47448afe86895c89ae3c",
       "version_major": 2,
       "version_minor": 0
      },
      "text/plain": [
       "Predicting: 4317it [00:00, ?it/s]"
      ]
     },
     "metadata": {},
     "output_type": "display_data"
    },
    {
     "data": {
      "application/vnd.jupyter.widget-view+json": {
       "model_id": "56b384d9b93d4078ab227690b8116fd2",
       "version_major": 2,
       "version_minor": 0
      },
      "text/plain": [
       "Predicting: 4317it [00:00, ?it/s]"
      ]
     },
     "metadata": {},
     "output_type": "display_data"
    },
    {
     "data": {
      "application/vnd.jupyter.widget-view+json": {
       "model_id": "34364b394eeb4e2d9f3d80f3811343ac",
       "version_major": 2,
       "version_minor": 0
      },
      "text/plain": [
       "Predicting: 4317it [00:00, ?it/s]"
      ]
     },
     "metadata": {},
     "output_type": "display_data"
    },
    {
     "data": {
      "application/vnd.jupyter.widget-view+json": {
       "model_id": "62f25b04047343d6b1c967b8407f77d6",
       "version_major": 2,
       "version_minor": 0
      },
      "text/plain": [
       "Predicting: 4317it [00:00, ?it/s]"
      ]
     },
     "metadata": {},
     "output_type": "display_data"
    },
    {
     "data": {
      "application/vnd.jupyter.widget-view+json": {
       "model_id": "5630ea8b36284865b0b2d9f1d0d85389",
       "version_major": 2,
       "version_minor": 0
      },
      "text/plain": [
       "Predicting: 4317it [00:00, ?it/s]"
      ]
     },
     "metadata": {},
     "output_type": "display_data"
    },
    {
     "data": {
      "application/vnd.jupyter.widget-view+json": {
       "model_id": "ed31333584d840f1a35beff1f2acc32e",
       "version_major": 2,
       "version_minor": 0
      },
      "text/plain": [
       "Predicting: 4317it [00:00, ?it/s]"
      ]
     },
     "metadata": {},
     "output_type": "display_data"
    },
    {
     "data": {
      "application/vnd.jupyter.widget-view+json": {
       "model_id": "973243a486bf4f8b9dd3fe1ce05f82f7",
       "version_major": 2,
       "version_minor": 0
      },
      "text/plain": [
       "Predicting: 4317it [00:00, ?it/s]"
      ]
     },
     "metadata": {},
     "output_type": "display_data"
    },
    {
     "data": {
      "application/vnd.jupyter.widget-view+json": {
       "model_id": "07db19dae879441ab41fe7dafac907f4",
       "version_major": 2,
       "version_minor": 0
      },
      "text/plain": [
       "Predicting: 4317it [00:00, ?it/s]"
      ]
     },
     "metadata": {},
     "output_type": "display_data"
    },
    {
     "data": {
      "application/vnd.jupyter.widget-view+json": {
       "model_id": "b07c16bbaabd443199bb01182c86c581",
       "version_major": 2,
       "version_minor": 0
      },
      "text/plain": [
       "Predicting: 4317it [00:00, ?it/s]"
      ]
     },
     "metadata": {},
     "output_type": "display_data"
    },
    {
     "data": {
      "application/vnd.jupyter.widget-view+json": {
       "model_id": "962e8f19b1d84d26a9f13e2027bbe621",
       "version_major": 2,
       "version_minor": 0
      },
      "text/plain": [
       "Predicting: 4317it [00:00, ?it/s]"
      ]
     },
     "metadata": {},
     "output_type": "display_data"
    },
    {
     "data": {
      "application/vnd.jupyter.widget-view+json": {
       "model_id": "0c92572c9f464e02aed9bf999b1910e4",
       "version_major": 2,
       "version_minor": 0
      },
      "text/plain": [
       "Predicting: 4317it [00:00, ?it/s]"
      ]
     },
     "metadata": {},
     "output_type": "display_data"
    },
    {
     "data": {
      "application/vnd.jupyter.widget-view+json": {
       "model_id": "fa53fa8b5e044a2fb1772e4121dbd96f",
       "version_major": 2,
       "version_minor": 0
      },
      "text/plain": [
       "Predicting: 4317it [00:00, ?it/s]"
      ]
     },
     "metadata": {},
     "output_type": "display_data"
    },
    {
     "data": {
      "application/vnd.jupyter.widget-view+json": {
       "model_id": "d08239e6285b47aca67720e3d4eedc89",
       "version_major": 2,
       "version_minor": 0
      },
      "text/plain": [
       "Predicting: 4317it [00:00, ?it/s]"
      ]
     },
     "metadata": {},
     "output_type": "display_data"
    },
    {
     "data": {
      "application/vnd.jupyter.widget-view+json": {
       "model_id": "3eac9c92c2b447ddb18496ffb232390f",
       "version_major": 2,
       "version_minor": 0
      },
      "text/plain": [
       "Predicting: 4317it [00:00, ?it/s]"
      ]
     },
     "metadata": {},
     "output_type": "display_data"
    },
    {
     "data": {
      "application/vnd.jupyter.widget-view+json": {
       "model_id": "4a894b2ca4394db9b685e88031e58ce8",
       "version_major": 2,
       "version_minor": 0
      },
      "text/plain": [
       "Predicting: 4317it [00:00, ?it/s]"
      ]
     },
     "metadata": {},
     "output_type": "display_data"
    },
    {
     "data": {
      "application/vnd.jupyter.widget-view+json": {
       "model_id": "c973df007c10471c81242aa1731df6ae",
       "version_major": 2,
       "version_minor": 0
      },
      "text/plain": [
       "Predicting: 4317it [00:00, ?it/s]"
      ]
     },
     "metadata": {},
     "output_type": "display_data"
    },
    {
     "data": {
      "application/vnd.jupyter.widget-view+json": {
       "model_id": "ac9aadc268f942a482f2becac7ebdb7b",
       "version_major": 2,
       "version_minor": 0
      },
      "text/plain": [
       "Predicting: 4317it [00:00, ?it/s]"
      ]
     },
     "metadata": {},
     "output_type": "display_data"
    },
    {
     "data": {
      "application/vnd.jupyter.widget-view+json": {
       "model_id": "5752140e9b7e4375912060ea3c7cc6e1",
       "version_major": 2,
       "version_minor": 0
      },
      "text/plain": [
       "Predicting: 4317it [00:00, ?it/s]"
      ]
     },
     "metadata": {},
     "output_type": "display_data"
    },
    {
     "data": {
      "application/vnd.jupyter.widget-view+json": {
       "model_id": "7f56720832374cc89db9af9005958e38",
       "version_major": 2,
       "version_minor": 0
      },
      "text/plain": [
       "Predicting: 4317it [00:00, ?it/s]"
      ]
     },
     "metadata": {},
     "output_type": "display_data"
    },
    {
     "data": {
      "application/vnd.jupyter.widget-view+json": {
       "model_id": "e5d984509a2942689a47187f8cccbdac",
       "version_major": 2,
       "version_minor": 0
      },
      "text/plain": [
       "Predicting: 4317it [00:00, ?it/s]"
      ]
     },
     "metadata": {},
     "output_type": "display_data"
    },
    {
     "data": {
      "application/vnd.jupyter.widget-view+json": {
       "model_id": "81434b87f67446b4b40b7509cee0db45",
       "version_major": 2,
       "version_minor": 0
      },
      "text/plain": [
       "Predicting: 4317it [00:00, ?it/s]"
      ]
     },
     "metadata": {},
     "output_type": "display_data"
    },
    {
     "data": {
      "application/vnd.jupyter.widget-view+json": {
       "model_id": "ed1f7cdbce01454cbda96d5da44a2fa6",
       "version_major": 2,
       "version_minor": 0
      },
      "text/plain": [
       "Predicting: 4317it [00:00, ?it/s]"
      ]
     },
     "metadata": {},
     "output_type": "display_data"
    },
    {
     "data": {
      "application/vnd.jupyter.widget-view+json": {
       "model_id": "ae29947a3b204296ab62e1f7fc522429",
       "version_major": 2,
       "version_minor": 0
      },
      "text/plain": [
       "Predicting: 4317it [00:00, ?it/s]"
      ]
     },
     "metadata": {},
     "output_type": "display_data"
    },
    {
     "data": {
      "application/vnd.jupyter.widget-view+json": {
       "model_id": "1b41563dcac64dffbfff2e4dde9523c5",
       "version_major": 2,
       "version_minor": 0
      },
      "text/plain": [
       "Predicting: 4317it [00:00, ?it/s]"
      ]
     },
     "metadata": {},
     "output_type": "display_data"
    },
    {
     "data": {
      "application/vnd.jupyter.widget-view+json": {
       "model_id": "d7eb2ce6881c44e2b7177d92976843ba",
       "version_major": 2,
       "version_minor": 0
      },
      "text/plain": [
       "Predicting: 4317it [00:00, ?it/s]"
      ]
     },
     "metadata": {},
     "output_type": "display_data"
    },
    {
     "data": {
      "application/vnd.jupyter.widget-view+json": {
       "model_id": "e0f749acc83e476bbca01e6631f78dcf",
       "version_major": 2,
       "version_minor": 0
      },
      "text/plain": [
       "Predicting: 4317it [00:00, ?it/s]"
      ]
     },
     "metadata": {},
     "output_type": "display_data"
    },
    {
     "data": {
      "application/vnd.jupyter.widget-view+json": {
       "model_id": "0764282ac9344396a73e4b4a3278c6c6",
       "version_major": 2,
       "version_minor": 0
      },
      "text/plain": [
       "Predicting: 4317it [00:00, ?it/s]"
      ]
     },
     "metadata": {},
     "output_type": "display_data"
    },
    {
     "data": {
      "application/vnd.jupyter.widget-view+json": {
       "model_id": "c2fb781204fd4f59baa0cb5a6f1782f6",
       "version_major": 2,
       "version_minor": 0
      },
      "text/plain": [
       "Predicting: 4317it [00:00, ?it/s]"
      ]
     },
     "metadata": {},
     "output_type": "display_data"
    },
    {
     "data": {
      "application/vnd.jupyter.widget-view+json": {
       "model_id": "69819124fd074d5a9984b03ce9998acf",
       "version_major": 2,
       "version_minor": 0
      },
      "text/plain": [
       "Predicting: 4317it [00:00, ?it/s]"
      ]
     },
     "metadata": {},
     "output_type": "display_data"
    },
    {
     "data": {
      "application/vnd.jupyter.widget-view+json": {
       "model_id": "bec199354e8048f9a9f6389113dcb6ff",
       "version_major": 2,
       "version_minor": 0
      },
      "text/plain": [
       "Predicting: 4317it [00:00, ?it/s]"
      ]
     },
     "metadata": {},
     "output_type": "display_data"
    },
    {
     "data": {
      "application/vnd.jupyter.widget-view+json": {
       "model_id": "e978c76eae8649f6897f1a11d395cc9f",
       "version_major": 2,
       "version_minor": 0
      },
      "text/plain": [
       "Predicting: 4317it [00:00, ?it/s]"
      ]
     },
     "metadata": {},
     "output_type": "display_data"
    },
    {
     "data": {
      "application/vnd.jupyter.widget-view+json": {
       "model_id": "999d12031bc347bcb5bf924e1a556cc4",
       "version_major": 2,
       "version_minor": 0
      },
      "text/plain": [
       "Predicting: 4317it [00:00, ?it/s]"
      ]
     },
     "metadata": {},
     "output_type": "display_data"
    },
    {
     "data": {
      "application/vnd.jupyter.widget-view+json": {
       "model_id": "983718de126c40dcaf42892db6e84ea3",
       "version_major": 2,
       "version_minor": 0
      },
      "text/plain": [
       "Predicting: 4317it [00:00, ?it/s]"
      ]
     },
     "metadata": {},
     "output_type": "display_data"
    },
    {
     "data": {
      "application/vnd.jupyter.widget-view+json": {
       "model_id": "7edae5052ac44b288ba8fb7cf2785856",
       "version_major": 2,
       "version_minor": 0
      },
      "text/plain": [
       "Predicting: 4317it [00:00, ?it/s]"
      ]
     },
     "metadata": {},
     "output_type": "display_data"
    },
    {
     "data": {
      "application/vnd.jupyter.widget-view+json": {
       "model_id": "2010b281d5f54835b41cc4cc03ad5498",
       "version_major": 2,
       "version_minor": 0
      },
      "text/plain": [
       "Predicting: 4317it [00:00, ?it/s]"
      ]
     },
     "metadata": {},
     "output_type": "display_data"
    },
    {
     "data": {
      "application/vnd.jupyter.widget-view+json": {
       "model_id": "5666682920e54a61a77d89d87b57c644",
       "version_major": 2,
       "version_minor": 0
      },
      "text/plain": [
       "Predicting: 4317it [00:00, ?it/s]"
      ]
     },
     "metadata": {},
     "output_type": "display_data"
    },
    {
     "data": {
      "application/vnd.jupyter.widget-view+json": {
       "model_id": "ac0ea7812a224ae8a04b8503468a8896",
       "version_major": 2,
       "version_minor": 0
      },
      "text/plain": [
       "Predicting: 4317it [00:00, ?it/s]"
      ]
     },
     "metadata": {},
     "output_type": "display_data"
    },
    {
     "data": {
      "application/vnd.jupyter.widget-view+json": {
       "model_id": "5c30b6c5290749fb8410d2d50128acd8",
       "version_major": 2,
       "version_minor": 0
      },
      "text/plain": [
       "Predicting: 4317it [00:00, ?it/s]"
      ]
     },
     "metadata": {},
     "output_type": "display_data"
    },
    {
     "data": {
      "application/vnd.jupyter.widget-view+json": {
       "model_id": "5cbf01e31b2c48a3866ac336a470816b",
       "version_major": 2,
       "version_minor": 0
      },
      "text/plain": [
       "Predicting: 4317it [00:00, ?it/s]"
      ]
     },
     "metadata": {},
     "output_type": "display_data"
    },
    {
     "data": {
      "application/vnd.jupyter.widget-view+json": {
       "model_id": "0409d259607c4dd2ad7a13254b2ac82e",
       "version_major": 2,
       "version_minor": 0
      },
      "text/plain": [
       "Predicting: 4317it [00:00, ?it/s]"
      ]
     },
     "metadata": {},
     "output_type": "display_data"
    },
    {
     "data": {
      "application/vnd.jupyter.widget-view+json": {
       "model_id": "d166a3099e1a4d3f881510b52f532e97",
       "version_major": 2,
       "version_minor": 0
      },
      "text/plain": [
       "Predicting: 4317it [00:00, ?it/s]"
      ]
     },
     "metadata": {},
     "output_type": "display_data"
    },
    {
     "data": {
      "application/vnd.jupyter.widget-view+json": {
       "model_id": "ec600d453ac74c17a1bd233639299680",
       "version_major": 2,
       "version_minor": 0
      },
      "text/plain": [
       "Predicting: 4317it [00:00, ?it/s]"
      ]
     },
     "metadata": {},
     "output_type": "display_data"
    },
    {
     "data": {
      "application/vnd.jupyter.widget-view+json": {
       "model_id": "6e77903bca2e45d1b71f907b0df9d680",
       "version_major": 2,
       "version_minor": 0
      },
      "text/plain": [
       "Predicting: 4317it [00:00, ?it/s]"
      ]
     },
     "metadata": {},
     "output_type": "display_data"
    },
    {
     "data": {
      "application/vnd.jupyter.widget-view+json": {
       "model_id": "7311a5bee1094aad948557c4d37477e7",
       "version_major": 2,
       "version_minor": 0
      },
      "text/plain": [
       "Predicting: 4317it [00:00, ?it/s]"
      ]
     },
     "metadata": {},
     "output_type": "display_data"
    },
    {
     "data": {
      "application/vnd.jupyter.widget-view+json": {
       "model_id": "306486d0395d46ee84c9b2b203df343b",
       "version_major": 2,
       "version_minor": 0
      },
      "text/plain": [
       "Predicting: 4317it [00:00, ?it/s]"
      ]
     },
     "metadata": {},
     "output_type": "display_data"
    },
    {
     "data": {
      "application/vnd.jupyter.widget-view+json": {
       "model_id": "82c356188cea4ebab52229452b524407",
       "version_major": 2,
       "version_minor": 0
      },
      "text/plain": [
       "Predicting: 4317it [00:00, ?it/s]"
      ]
     },
     "metadata": {},
     "output_type": "display_data"
    },
    {
     "data": {
      "application/vnd.jupyter.widget-view+json": {
       "model_id": "0939515d0fa74714b707181280492849",
       "version_major": 2,
       "version_minor": 0
      },
      "text/plain": [
       "Predicting: 4317it [00:00, ?it/s]"
      ]
     },
     "metadata": {},
     "output_type": "display_data"
    },
    {
     "data": {
      "application/vnd.jupyter.widget-view+json": {
       "model_id": "06a4009ba35849da975db935802c019a",
       "version_major": 2,
       "version_minor": 0
      },
      "text/plain": [
       "Predicting: 4317it [00:00, ?it/s]"
      ]
     },
     "metadata": {},
     "output_type": "display_data"
    },
    {
     "data": {
      "application/vnd.jupyter.widget-view+json": {
       "model_id": "3e1741224c294847b2c948f9aded65cd",
       "version_major": 2,
       "version_minor": 0
      },
      "text/plain": [
       "Predicting: 4317it [00:00, ?it/s]"
      ]
     },
     "metadata": {},
     "output_type": "display_data"
    },
    {
     "data": {
      "application/vnd.jupyter.widget-view+json": {
       "model_id": "660448b513b5490eaa2047789abd9c93",
       "version_major": 2,
       "version_minor": 0
      },
      "text/plain": [
       "Predicting: 4317it [00:00, ?it/s]"
      ]
     },
     "metadata": {},
     "output_type": "display_data"
    },
    {
     "data": {
      "application/vnd.jupyter.widget-view+json": {
       "model_id": "e053047303bf47938328902723bf5c25",
       "version_major": 2,
       "version_minor": 0
      },
      "text/plain": [
       "Predicting: 4317it [00:00, ?it/s]"
      ]
     },
     "metadata": {},
     "output_type": "display_data"
    },
    {
     "data": {
      "application/vnd.jupyter.widget-view+json": {
       "model_id": "ff606094e3ba4950934ec35e983c9760",
       "version_major": 2,
       "version_minor": 0
      },
      "text/plain": [
       "Predicting: 4317it [00:00, ?it/s]"
      ]
     },
     "metadata": {},
     "output_type": "display_data"
    },
    {
     "data": {
      "application/vnd.jupyter.widget-view+json": {
       "model_id": "22989e608ac041a9b08a739576603540",
       "version_major": 2,
       "version_minor": 0
      },
      "text/plain": [
       "Predicting: 4317it [00:00, ?it/s]"
      ]
     },
     "metadata": {},
     "output_type": "display_data"
    },
    {
     "data": {
      "application/vnd.jupyter.widget-view+json": {
       "model_id": "be6f93c903a34a7385e85ff47f12d2dc",
       "version_major": 2,
       "version_minor": 0
      },
      "text/plain": [
       "Predicting: 4317it [00:00, ?it/s]"
      ]
     },
     "metadata": {},
     "output_type": "display_data"
    },
    {
     "data": {
      "application/vnd.jupyter.widget-view+json": {
       "model_id": "2a73595c5438408994a9dcbd45331311",
       "version_major": 2,
       "version_minor": 0
      },
      "text/plain": [
       "Predicting: 4317it [00:00, ?it/s]"
      ]
     },
     "metadata": {},
     "output_type": "display_data"
    },
    {
     "data": {
      "application/vnd.jupyter.widget-view+json": {
       "model_id": "5cb1bfac5f1947eab916c53561e49735",
       "version_major": 2,
       "version_minor": 0
      },
      "text/plain": [
       "Predicting: 4317it [00:00, ?it/s]"
      ]
     },
     "metadata": {},
     "output_type": "display_data"
    },
    {
     "data": {
      "application/vnd.jupyter.widget-view+json": {
       "model_id": "96ba11cad58844db9549bcfab3277e25",
       "version_major": 2,
       "version_minor": 0
      },
      "text/plain": [
       "Predicting: 4317it [00:00, ?it/s]"
      ]
     },
     "metadata": {},
     "output_type": "display_data"
    },
    {
     "data": {
      "application/vnd.jupyter.widget-view+json": {
       "model_id": "77cb76567ffb40f6a38713188e7ba12e",
       "version_major": 2,
       "version_minor": 0
      },
      "text/plain": [
       "Predicting: 4317it [00:00, ?it/s]"
      ]
     },
     "metadata": {},
     "output_type": "display_data"
    },
    {
     "data": {
      "application/vnd.jupyter.widget-view+json": {
       "model_id": "0f3d671ac5604d8089d81ba11fcefd5f",
       "version_major": 2,
       "version_minor": 0
      },
      "text/plain": [
       "Predicting: 4317it [00:00, ?it/s]"
      ]
     },
     "metadata": {},
     "output_type": "display_data"
    },
    {
     "data": {
      "application/vnd.jupyter.widget-view+json": {
       "model_id": "9e4a76c5a96f45d2b56dd07fab9c8409",
       "version_major": 2,
       "version_minor": 0
      },
      "text/plain": [
       "Predicting: 4317it [00:00, ?it/s]"
      ]
     },
     "metadata": {},
     "output_type": "display_data"
    },
    {
     "data": {
      "application/vnd.jupyter.widget-view+json": {
       "model_id": "b26425fe682b4599a9f7030b42171f72",
       "version_major": 2,
       "version_minor": 0
      },
      "text/plain": [
       "Predicting: 4317it [00:00, ?it/s]"
      ]
     },
     "metadata": {},
     "output_type": "display_data"
    },
    {
     "data": {
      "application/vnd.jupyter.widget-view+json": {
       "model_id": "cd66b2b5499f4794b3f3155608b16e44",
       "version_major": 2,
       "version_minor": 0
      },
      "text/plain": [
       "Predicting: 4317it [00:00, ?it/s]"
      ]
     },
     "metadata": {},
     "output_type": "display_data"
    },
    {
     "data": {
      "application/vnd.jupyter.widget-view+json": {
       "model_id": "69a7a7bc9bbe4a719d8e60517f4e9f13",
       "version_major": 2,
       "version_minor": 0
      },
      "text/plain": [
       "Predicting: 4317it [00:00, ?it/s]"
      ]
     },
     "metadata": {},
     "output_type": "display_data"
    },
    {
     "data": {
      "application/vnd.jupyter.widget-view+json": {
       "model_id": "c1b041fe00f24d098819b1117e09fbf3",
       "version_major": 2,
       "version_minor": 0
      },
      "text/plain": [
       "Predicting: 4317it [00:00, ?it/s]"
      ]
     },
     "metadata": {},
     "output_type": "display_data"
    },
    {
     "data": {
      "application/vnd.jupyter.widget-view+json": {
       "model_id": "4d0f613012cd453ea4bbd1036f93da02",
       "version_major": 2,
       "version_minor": 0
      },
      "text/plain": [
       "Predicting: 4317it [00:00, ?it/s]"
      ]
     },
     "metadata": {},
     "output_type": "display_data"
    },
    {
     "data": {
      "application/vnd.jupyter.widget-view+json": {
       "model_id": "3a4ef80eeb0d452a8efb920f03005eb0",
       "version_major": 2,
       "version_minor": 0
      },
      "text/plain": [
       "Predicting: 4317it [00:00, ?it/s]"
      ]
     },
     "metadata": {},
     "output_type": "display_data"
    },
    {
     "data": {
      "application/vnd.jupyter.widget-view+json": {
       "model_id": "fd2bdedf37704cdd860a826eb02210bd",
       "version_major": 2,
       "version_minor": 0
      },
      "text/plain": [
       "Predicting: 4317it [00:00, ?it/s]"
      ]
     },
     "metadata": {},
     "output_type": "display_data"
    },
    {
     "data": {
      "application/vnd.jupyter.widget-view+json": {
       "model_id": "069ecd6c26ea454693a5e5ea03dbcd2b",
       "version_major": 2,
       "version_minor": 0
      },
      "text/plain": [
       "Predicting: 4317it [00:00, ?it/s]"
      ]
     },
     "metadata": {},
     "output_type": "display_data"
    },
    {
     "data": {
      "application/vnd.jupyter.widget-view+json": {
       "model_id": "0a95f8a5e4174696a65cb9ccdbd38e83",
       "version_major": 2,
       "version_minor": 0
      },
      "text/plain": [
       "Predicting: 4317it [00:00, ?it/s]"
      ]
     },
     "metadata": {},
     "output_type": "display_data"
    },
    {
     "data": {
      "application/vnd.jupyter.widget-view+json": {
       "model_id": "55caa396507b44f5afeceb258d7a905e",
       "version_major": 2,
       "version_minor": 0
      },
      "text/plain": [
       "Predicting: 4317it [00:00, ?it/s]"
      ]
     },
     "metadata": {},
     "output_type": "display_data"
    },
    {
     "data": {
      "application/vnd.jupyter.widget-view+json": {
       "model_id": "5d5a756fec944621a033458faaaed826",
       "version_major": 2,
       "version_minor": 0
      },
      "text/plain": [
       "Predicting: 4317it [00:00, ?it/s]"
      ]
     },
     "metadata": {},
     "output_type": "display_data"
    },
    {
     "data": {
      "application/vnd.jupyter.widget-view+json": {
       "model_id": "eb43f912017648f2860c36247aa88615",
       "version_major": 2,
       "version_minor": 0
      },
      "text/plain": [
       "Predicting: 4317it [00:00, ?it/s]"
      ]
     },
     "metadata": {},
     "output_type": "display_data"
    },
    {
     "data": {
      "application/vnd.jupyter.widget-view+json": {
       "model_id": "e41d26b24d5b4a8d9816263883dbb7e3",
       "version_major": 2,
       "version_minor": 0
      },
      "text/plain": [
       "Predicting: 4317it [00:00, ?it/s]"
      ]
     },
     "metadata": {},
     "output_type": "display_data"
    },
    {
     "data": {
      "application/vnd.jupyter.widget-view+json": {
       "model_id": "d05f1f307d424baf9f9d12386d95d6de",
       "version_major": 2,
       "version_minor": 0
      },
      "text/plain": [
       "Predicting: 4317it [00:00, ?it/s]"
      ]
     },
     "metadata": {},
     "output_type": "display_data"
    },
    {
     "data": {
      "application/vnd.jupyter.widget-view+json": {
       "model_id": "de744ed0c29a4afcbf572c4f084c5e31",
       "version_major": 2,
       "version_minor": 0
      },
      "text/plain": [
       "Predicting: 4317it [00:00, ?it/s]"
      ]
     },
     "metadata": {},
     "output_type": "display_data"
    },
    {
     "data": {
      "application/vnd.jupyter.widget-view+json": {
       "model_id": "0883d0feeed54859b8ca24d2b2b8cf51",
       "version_major": 2,
       "version_minor": 0
      },
      "text/plain": [
       "Predicting: 4317it [00:00, ?it/s]"
      ]
     },
     "metadata": {},
     "output_type": "display_data"
    },
    {
     "data": {
      "application/vnd.jupyter.widget-view+json": {
       "model_id": "87087291b1a649a7ba7ea6f473a9f5f2",
       "version_major": 2,
       "version_minor": 0
      },
      "text/plain": [
       "Predicting: 4317it [00:00, ?it/s]"
      ]
     },
     "metadata": {},
     "output_type": "display_data"
    },
    {
     "data": {
      "application/vnd.jupyter.widget-view+json": {
       "model_id": "1a0394c2d10a4d90979b58865e90be86",
       "version_major": 2,
       "version_minor": 0
      },
      "text/plain": [
       "Predicting: 4317it [00:00, ?it/s]"
      ]
     },
     "metadata": {},
     "output_type": "display_data"
    },
    {
     "data": {
      "application/vnd.jupyter.widget-view+json": {
       "model_id": "92e65150c491462fba425f154a41e4db",
       "version_major": 2,
       "version_minor": 0
      },
      "text/plain": [
       "Predicting: 4317it [00:00, ?it/s]"
      ]
     },
     "metadata": {},
     "output_type": "display_data"
    },
    {
     "data": {
      "application/vnd.jupyter.widget-view+json": {
       "model_id": "9d6f3a9e5a7b42b3ba3f86cd8d74540d",
       "version_major": 2,
       "version_minor": 0
      },
      "text/plain": [
       "Predicting: 4317it [00:00, ?it/s]"
      ]
     },
     "metadata": {},
     "output_type": "display_data"
    },
    {
     "data": {
      "application/vnd.jupyter.widget-view+json": {
       "model_id": "29036169656848abaabd4563a15988f6",
       "version_major": 2,
       "version_minor": 0
      },
      "text/plain": [
       "Predicting: 4317it [00:00, ?it/s]"
      ]
     },
     "metadata": {},
     "output_type": "display_data"
    },
    {
     "data": {
      "application/vnd.jupyter.widget-view+json": {
       "model_id": "cb2b6be2b41e4db6991852c815013606",
       "version_major": 2,
       "version_minor": 0
      },
      "text/plain": [
       "Predicting: 4317it [00:00, ?it/s]"
      ]
     },
     "metadata": {},
     "output_type": "display_data"
    },
    {
     "data": {
      "application/vnd.jupyter.widget-view+json": {
       "model_id": "9a891694283a4e22bc0ade13d2076e8f",
       "version_major": 2,
       "version_minor": 0
      },
      "text/plain": [
       "Predicting: 4317it [00:00, ?it/s]"
      ]
     },
     "metadata": {},
     "output_type": "display_data"
    },
    {
     "data": {
      "application/vnd.jupyter.widget-view+json": {
       "model_id": "d385e107731e45c58b4639f013b29008",
       "version_major": 2,
       "version_minor": 0
      },
      "text/plain": [
       "Predicting: 4317it [00:00, ?it/s]"
      ]
     },
     "metadata": {},
     "output_type": "display_data"
    },
    {
     "data": {
      "application/vnd.jupyter.widget-view+json": {
       "model_id": "a479081403684d91acbaa05ee3099e2d",
       "version_major": 2,
       "version_minor": 0
      },
      "text/plain": [
       "Predicting: 4317it [00:00, ?it/s]"
      ]
     },
     "metadata": {},
     "output_type": "display_data"
    },
    {
     "data": {
      "application/vnd.jupyter.widget-view+json": {
       "model_id": "24cf1df789d54344a87f2b106e02e28e",
       "version_major": 2,
       "version_minor": 0
      },
      "text/plain": [
       "Predicting: 4317it [00:00, ?it/s]"
      ]
     },
     "metadata": {},
     "output_type": "display_data"
    },
    {
     "data": {
      "application/vnd.jupyter.widget-view+json": {
       "model_id": "0a722ae45d8c4dbb84994509aca71fe0",
       "version_major": 2,
       "version_minor": 0
      },
      "text/plain": [
       "Predicting: 4317it [00:00, ?it/s]"
      ]
     },
     "metadata": {},
     "output_type": "display_data"
    },
    {
     "data": {
      "application/vnd.jupyter.widget-view+json": {
       "model_id": "ff669f53b74f418e904ad4172fdea280",
       "version_major": 2,
       "version_minor": 0
      },
      "text/plain": [
       "Predicting: 4317it [00:00, ?it/s]"
      ]
     },
     "metadata": {},
     "output_type": "display_data"
    },
    {
     "data": {
      "application/vnd.jupyter.widget-view+json": {
       "model_id": "b7c02a685ebb4d57b2b3c1914066082a",
       "version_major": 2,
       "version_minor": 0
      },
      "text/plain": [
       "Predicting: 4317it [00:00, ?it/s]"
      ]
     },
     "metadata": {},
     "output_type": "display_data"
    },
    {
     "data": {
      "application/vnd.jupyter.widget-view+json": {
       "model_id": "801544649e9d43e48ec9f59fb16f6ff0",
       "version_major": 2,
       "version_minor": 0
      },
      "text/plain": [
       "Predicting: 4317it [00:00, ?it/s]"
      ]
     },
     "metadata": {},
     "output_type": "display_data"
    },
    {
     "data": {
      "application/vnd.jupyter.widget-view+json": {
       "model_id": "b044284f349b416a96e3665089cc2368",
       "version_major": 2,
       "version_minor": 0
      },
      "text/plain": [
       "Predicting: 4317it [00:00, ?it/s]"
      ]
     },
     "metadata": {},
     "output_type": "display_data"
    },
    {
     "data": {
      "application/vnd.jupyter.widget-view+json": {
       "model_id": "6870bd41aa044f188b078a99220ee37f",
       "version_major": 2,
       "version_minor": 0
      },
      "text/plain": [
       "Predicting: 4317it [00:00, ?it/s]"
      ]
     },
     "metadata": {},
     "output_type": "display_data"
    },
    {
     "data": {
      "application/vnd.jupyter.widget-view+json": {
       "model_id": "da7be761ab5e451d9b927a543f7507f0",
       "version_major": 2,
       "version_minor": 0
      },
      "text/plain": [
       "Predicting: 4317it [00:00, ?it/s]"
      ]
     },
     "metadata": {},
     "output_type": "display_data"
    },
    {
     "data": {
      "application/vnd.jupyter.widget-view+json": {
       "model_id": "fda3ba8c19544e09946e6a6c9c77a8cb",
       "version_major": 2,
       "version_minor": 0
      },
      "text/plain": [
       "Predicting: 4317it [00:00, ?it/s]"
      ]
     },
     "metadata": {},
     "output_type": "display_data"
    },
    {
     "data": {
      "application/vnd.jupyter.widget-view+json": {
       "model_id": "3fe8174e27a84cf998dcb84f9a48f4a0",
       "version_major": 2,
       "version_minor": 0
      },
      "text/plain": [
       "Predicting: 4317it [00:00, ?it/s]"
      ]
     },
     "metadata": {},
     "output_type": "display_data"
    },
    {
     "data": {
      "application/vnd.jupyter.widget-view+json": {
       "model_id": "8a340241005e4998a4d68eabff1d86b8",
       "version_major": 2,
       "version_minor": 0
      },
      "text/plain": [
       "Predicting: 4317it [00:00, ?it/s]"
      ]
     },
     "metadata": {},
     "output_type": "display_data"
    },
    {
     "data": {
      "application/vnd.jupyter.widget-view+json": {
       "model_id": "3454d96417054bb19fbfe42aac845eb0",
       "version_major": 2,
       "version_minor": 0
      },
      "text/plain": [
       "Predicting: 4317it [00:00, ?it/s]"
      ]
     },
     "metadata": {},
     "output_type": "display_data"
    },
    {
     "data": {
      "application/vnd.jupyter.widget-view+json": {
       "model_id": "24953e0e519f459d9e6c08d5be29e4ca",
       "version_major": 2,
       "version_minor": 0
      },
      "text/plain": [
       "Predicting: 4317it [00:00, ?it/s]"
      ]
     },
     "metadata": {},
     "output_type": "display_data"
    },
    {
     "data": {
      "application/vnd.jupyter.widget-view+json": {
       "model_id": "d4fdc9dafa0b44388eb20c08f61d870d",
       "version_major": 2,
       "version_minor": 0
      },
      "text/plain": [
       "Predicting: 4317it [00:00, ?it/s]"
      ]
     },
     "metadata": {},
     "output_type": "display_data"
    },
    {
     "data": {
      "application/vnd.jupyter.widget-view+json": {
       "model_id": "458826c04c8a409b810122d3466b346e",
       "version_major": 2,
       "version_minor": 0
      },
      "text/plain": [
       "Predicting: 4317it [00:00, ?it/s]"
      ]
     },
     "metadata": {},
     "output_type": "display_data"
    },
    {
     "data": {
      "application/vnd.jupyter.widget-view+json": {
       "model_id": "cd2baaf752554383a83231e1369e261a",
       "version_major": 2,
       "version_minor": 0
      },
      "text/plain": [
       "Predicting: 4317it [00:00, ?it/s]"
      ]
     },
     "metadata": {},
     "output_type": "display_data"
    },
    {
     "data": {
      "application/vnd.jupyter.widget-view+json": {
       "model_id": "c46751c98bd74403a3b29cda34fb969c",
       "version_major": 2,
       "version_minor": 0
      },
      "text/plain": [
       "Predicting: 4317it [00:00, ?it/s]"
      ]
     },
     "metadata": {},
     "output_type": "display_data"
    },
    {
     "data": {
      "application/vnd.jupyter.widget-view+json": {
       "model_id": "c8c5ab9210154d61a451996851046aaf",
       "version_major": 2,
       "version_minor": 0
      },
      "text/plain": [
       "Predicting: 4317it [00:00, ?it/s]"
      ]
     },
     "metadata": {},
     "output_type": "display_data"
    },
    {
     "data": {
      "application/vnd.jupyter.widget-view+json": {
       "model_id": "3c91c224460a4d75b767d3795b3c232c",
       "version_major": 2,
       "version_minor": 0
      },
      "text/plain": [
       "Predicting: 4317it [00:00, ?it/s]"
      ]
     },
     "metadata": {},
     "output_type": "display_data"
    },
    {
     "data": {
      "application/vnd.jupyter.widget-view+json": {
       "model_id": "4be587e47e4a425e95305813573b86ee",
       "version_major": 2,
       "version_minor": 0
      },
      "text/plain": [
       "Predicting: 4317it [00:00, ?it/s]"
      ]
     },
     "metadata": {},
     "output_type": "display_data"
    },
    {
     "data": {
      "application/vnd.jupyter.widget-view+json": {
       "model_id": "46f8dc423f294364afe66c296292f92e",
       "version_major": 2,
       "version_minor": 0
      },
      "text/plain": [
       "Predicting: 4317it [00:00, ?it/s]"
      ]
     },
     "metadata": {},
     "output_type": "display_data"
    },
    {
     "data": {
      "application/vnd.jupyter.widget-view+json": {
       "model_id": "a5ca9646e3eb4a74a9e563dab96f7b21",
       "version_major": 2,
       "version_minor": 0
      },
      "text/plain": [
       "Predicting: 4317it [00:00, ?it/s]"
      ]
     },
     "metadata": {},
     "output_type": "display_data"
    },
    {
     "data": {
      "application/vnd.jupyter.widget-view+json": {
       "model_id": "5b8d912549f4455bb94154d6449c6dac",
       "version_major": 2,
       "version_minor": 0
      },
      "text/plain": [
       "Predicting: 4317it [00:00, ?it/s]"
      ]
     },
     "metadata": {},
     "output_type": "display_data"
    },
    {
     "data": {
      "application/vnd.jupyter.widget-view+json": {
       "model_id": "9a12ba037bdc42a28e8f98f6228c505c",
       "version_major": 2,
       "version_minor": 0
      },
      "text/plain": [
       "Predicting: 4317it [00:00, ?it/s]"
      ]
     },
     "metadata": {},
     "output_type": "display_data"
    },
    {
     "data": {
      "application/vnd.jupyter.widget-view+json": {
       "model_id": "3444ed249e74473d984d366f1160ea53",
       "version_major": 2,
       "version_minor": 0
      },
      "text/plain": [
       "Predicting: 4317it [00:00, ?it/s]"
      ]
     },
     "metadata": {},
     "output_type": "display_data"
    },
    {
     "data": {
      "application/vnd.jupyter.widget-view+json": {
       "model_id": "9727ce2a222442b7ace3dd6463f389ac",
       "version_major": 2,
       "version_minor": 0
      },
      "text/plain": [
       "Predicting: 4317it [00:00, ?it/s]"
      ]
     },
     "metadata": {},
     "output_type": "display_data"
    },
    {
     "data": {
      "application/vnd.jupyter.widget-view+json": {
       "model_id": "0468426bf6df4ad09f1a21ef78f7f0b4",
       "version_major": 2,
       "version_minor": 0
      },
      "text/plain": [
       "Predicting: 4317it [00:00, ?it/s]"
      ]
     },
     "metadata": {},
     "output_type": "display_data"
    },
    {
     "data": {
      "application/vnd.jupyter.widget-view+json": {
       "model_id": "e5ef25ea42be4f089dd15a81185f77c3",
       "version_major": 2,
       "version_minor": 0
      },
      "text/plain": [
       "Predicting: 4317it [00:00, ?it/s]"
      ]
     },
     "metadata": {},
     "output_type": "display_data"
    },
    {
     "data": {
      "application/vnd.jupyter.widget-view+json": {
       "model_id": "457c8ef2b24d4b1486cfebec56c9d053",
       "version_major": 2,
       "version_minor": 0
      },
      "text/plain": [
       "Predicting: 4317it [00:00, ?it/s]"
      ]
     },
     "metadata": {},
     "output_type": "display_data"
    },
    {
     "data": {
      "application/vnd.jupyter.widget-view+json": {
       "model_id": "f8fe04c0bdea40dc9a9693d15654a423",
       "version_major": 2,
       "version_minor": 0
      },
      "text/plain": [
       "Predicting: 4317it [00:00, ?it/s]"
      ]
     },
     "metadata": {},
     "output_type": "display_data"
    },
    {
     "data": {
      "application/vnd.jupyter.widget-view+json": {
       "model_id": "676161b07e83441d9c0dfc219f245a10",
       "version_major": 2,
       "version_minor": 0
      },
      "text/plain": [
       "Predicting: 4317it [00:00, ?it/s]"
      ]
     },
     "metadata": {},
     "output_type": "display_data"
    },
    {
     "data": {
      "application/vnd.jupyter.widget-view+json": {
       "model_id": "6163a107b9824655980b42e2b302d13e",
       "version_major": 2,
       "version_minor": 0
      },
      "text/plain": [
       "Predicting: 4317it [00:00, ?it/s]"
      ]
     },
     "metadata": {},
     "output_type": "display_data"
    },
    {
     "data": {
      "application/vnd.jupyter.widget-view+json": {
       "model_id": "244c534b5f504ce9bf1a350b33be4a07",
       "version_major": 2,
       "version_minor": 0
      },
      "text/plain": [
       "Predicting: 4317it [00:00, ?it/s]"
      ]
     },
     "metadata": {},
     "output_type": "display_data"
    },
    {
     "data": {
      "application/vnd.jupyter.widget-view+json": {
       "model_id": "472dfba422f346019d8ccb34ee8e8710",
       "version_major": 2,
       "version_minor": 0
      },
      "text/plain": [
       "Predicting: 4317it [00:00, ?it/s]"
      ]
     },
     "metadata": {},
     "output_type": "display_data"
    },
    {
     "data": {
      "application/vnd.jupyter.widget-view+json": {
       "model_id": "7e6912de0b644a9ca1b60e8f3bedb232",
       "version_major": 2,
       "version_minor": 0
      },
      "text/plain": [
       "Predicting: 4317it [00:00, ?it/s]"
      ]
     },
     "metadata": {},
     "output_type": "display_data"
    },
    {
     "data": {
      "application/vnd.jupyter.widget-view+json": {
       "model_id": "a0ae529fcd6c4569968e612e3ce27fce",
       "version_major": 2,
       "version_minor": 0
      },
      "text/plain": [
       "Predicting: 4317it [00:00, ?it/s]"
      ]
     },
     "metadata": {},
     "output_type": "display_data"
    },
    {
     "data": {
      "application/vnd.jupyter.widget-view+json": {
       "model_id": "aa35393978c04a1cac063b20663f3a2f",
       "version_major": 2,
       "version_minor": 0
      },
      "text/plain": [
       "Predicting: 4317it [00:00, ?it/s]"
      ]
     },
     "metadata": {},
     "output_type": "display_data"
    },
    {
     "data": {
      "application/vnd.jupyter.widget-view+json": {
       "model_id": "48a304408bd346deafe36ee928fe2f85",
       "version_major": 2,
       "version_minor": 0
      },
      "text/plain": [
       "Predicting: 4317it [00:00, ?it/s]"
      ]
     },
     "metadata": {},
     "output_type": "display_data"
    },
    {
     "data": {
      "application/vnd.jupyter.widget-view+json": {
       "model_id": "ec900bf578824946a59be750d854025a",
       "version_major": 2,
       "version_minor": 0
      },
      "text/plain": [
       "Predicting: 4317it [00:00, ?it/s]"
      ]
     },
     "metadata": {},
     "output_type": "display_data"
    },
    {
     "data": {
      "application/vnd.jupyter.widget-view+json": {
       "model_id": "076c436c753a48b3b88aefb1684490a4",
       "version_major": 2,
       "version_minor": 0
      },
      "text/plain": [
       "Predicting: 4317it [00:00, ?it/s]"
      ]
     },
     "metadata": {},
     "output_type": "display_data"
    },
    {
     "data": {
      "application/vnd.jupyter.widget-view+json": {
       "model_id": "4d862e65a12a41fcb150b786ff4d4d52",
       "version_major": 2,
       "version_minor": 0
      },
      "text/plain": [
       "Predicting: 4317it [00:00, ?it/s]"
      ]
     },
     "metadata": {},
     "output_type": "display_data"
    },
    {
     "data": {
      "application/vnd.jupyter.widget-view+json": {
       "model_id": "226fce9209e246d6af1dea16d798ed96",
       "version_major": 2,
       "version_minor": 0
      },
      "text/plain": [
       "Predicting: 4317it [00:00, ?it/s]"
      ]
     },
     "metadata": {},
     "output_type": "display_data"
    },
    {
     "data": {
      "application/vnd.jupyter.widget-view+json": {
       "model_id": "1ea190b08c23430ebe569377f7285596",
       "version_major": 2,
       "version_minor": 0
      },
      "text/plain": [
       "Predicting: 4317it [00:00, ?it/s]"
      ]
     },
     "metadata": {},
     "output_type": "display_data"
    },
    {
     "data": {
      "application/vnd.jupyter.widget-view+json": {
       "model_id": "1c3ba9d2c1254a94a881abbf7380a2c8",
       "version_major": 2,
       "version_minor": 0
      },
      "text/plain": [
       "Predicting: 4317it [00:00, ?it/s]"
      ]
     },
     "metadata": {},
     "output_type": "display_data"
    },
    {
     "data": {
      "application/vnd.jupyter.widget-view+json": {
       "model_id": "2ad51bdd57594d489aa8cd992d120877",
       "version_major": 2,
       "version_minor": 0
      },
      "text/plain": [
       "Predicting: 4317it [00:00, ?it/s]"
      ]
     },
     "metadata": {},
     "output_type": "display_data"
    },
    {
     "data": {
      "application/vnd.jupyter.widget-view+json": {
       "model_id": "ee2f0f96b24b48bb8f922d009b9f0c1d",
       "version_major": 2,
       "version_minor": 0
      },
      "text/plain": [
       "Predicting: 4317it [00:00, ?it/s]"
      ]
     },
     "metadata": {},
     "output_type": "display_data"
    },
    {
     "data": {
      "application/vnd.jupyter.widget-view+json": {
       "model_id": "62c545fc76444d69b19c7fdfa2a29cf2",
       "version_major": 2,
       "version_minor": 0
      },
      "text/plain": [
       "Predicting: 4317it [00:00, ?it/s]"
      ]
     },
     "metadata": {},
     "output_type": "display_data"
    },
    {
     "data": {
      "application/vnd.jupyter.widget-view+json": {
       "model_id": "f4004518351042b494148c2946d99bba",
       "version_major": 2,
       "version_minor": 0
      },
      "text/plain": [
       "Predicting: 4317it [00:00, ?it/s]"
      ]
     },
     "metadata": {},
     "output_type": "display_data"
    },
    {
     "data": {
      "application/vnd.jupyter.widget-view+json": {
       "model_id": "4bc2da9d1a6442269e56ec600d9bc647",
       "version_major": 2,
       "version_minor": 0
      },
      "text/plain": [
       "Predicting: 4317it [00:00, ?it/s]"
      ]
     },
     "metadata": {},
     "output_type": "display_data"
    },
    {
     "data": {
      "application/vnd.jupyter.widget-view+json": {
       "model_id": "acf43fc0627f4af180c9ac226846bb41",
       "version_major": 2,
       "version_minor": 0
      },
      "text/plain": [
       "Predicting: 4317it [00:00, ?it/s]"
      ]
     },
     "metadata": {},
     "output_type": "display_data"
    },
    {
     "data": {
      "application/vnd.jupyter.widget-view+json": {
       "model_id": "2b100ec25dca42deb4817ebb8ab287cc",
       "version_major": 2,
       "version_minor": 0
      },
      "text/plain": [
       "Predicting: 4317it [00:00, ?it/s]"
      ]
     },
     "metadata": {},
     "output_type": "display_data"
    },
    {
     "data": {
      "application/vnd.jupyter.widget-view+json": {
       "model_id": "f558d792834e4b1f83a75d07bbe8119f",
       "version_major": 2,
       "version_minor": 0
      },
      "text/plain": [
       "Predicting: 4317it [00:00, ?it/s]"
      ]
     },
     "metadata": {},
     "output_type": "display_data"
    },
    {
     "data": {
      "application/vnd.jupyter.widget-view+json": {
       "model_id": "9886090caf5b4b6aa6e77e7d47df8485",
       "version_major": 2,
       "version_minor": 0
      },
      "text/plain": [
       "Predicting: 4317it [00:00, ?it/s]"
      ]
     },
     "metadata": {},
     "output_type": "display_data"
    },
    {
     "data": {
      "application/vnd.jupyter.widget-view+json": {
       "model_id": "770be98135e54abab740d3abd5c52edb",
       "version_major": 2,
       "version_minor": 0
      },
      "text/plain": [
       "Predicting: 4317it [00:00, ?it/s]"
      ]
     },
     "metadata": {},
     "output_type": "display_data"
    },
    {
     "data": {
      "application/vnd.jupyter.widget-view+json": {
       "model_id": "011142e8ab9c4c58bb3295d39cbd67ce",
       "version_major": 2,
       "version_minor": 0
      },
      "text/plain": [
       "Predicting: 4317it [00:00, ?it/s]"
      ]
     },
     "metadata": {},
     "output_type": "display_data"
    },
    {
     "data": {
      "application/vnd.jupyter.widget-view+json": {
       "model_id": "f90da84ea9364559be817c05527cfdf5",
       "version_major": 2,
       "version_minor": 0
      },
      "text/plain": [
       "Predicting: 4317it [00:00, ?it/s]"
      ]
     },
     "metadata": {},
     "output_type": "display_data"
    },
    {
     "data": {
      "application/vnd.jupyter.widget-view+json": {
       "model_id": "92925ab7708a45dcbfc72df11f9133b0",
       "version_major": 2,
       "version_minor": 0
      },
      "text/plain": [
       "Predicting: 4317it [00:00, ?it/s]"
      ]
     },
     "metadata": {},
     "output_type": "display_data"
    },
    {
     "data": {
      "application/vnd.jupyter.widget-view+json": {
       "model_id": "2ca6e4c1054b4b51815ea07a421cc457",
       "version_major": 2,
       "version_minor": 0
      },
      "text/plain": [
       "Predicting: 4317it [00:00, ?it/s]"
      ]
     },
     "metadata": {},
     "output_type": "display_data"
    },
    {
     "data": {
      "application/vnd.jupyter.widget-view+json": {
       "model_id": "c26e512186054011b6797123e747ec15",
       "version_major": 2,
       "version_minor": 0
      },
      "text/plain": [
       "Predicting: 4317it [00:00, ?it/s]"
      ]
     },
     "metadata": {},
     "output_type": "display_data"
    },
    {
     "data": {
      "application/vnd.jupyter.widget-view+json": {
       "model_id": "e41e7d17ad3f4784999624f94561c304",
       "version_major": 2,
       "version_minor": 0
      },
      "text/plain": [
       "Predicting: 4317it [00:00, ?it/s]"
      ]
     },
     "metadata": {},
     "output_type": "display_data"
    },
    {
     "data": {
      "application/vnd.jupyter.widget-view+json": {
       "model_id": "af52fbec0ff54667901bfbf512a00e49",
       "version_major": 2,
       "version_minor": 0
      },
      "text/plain": [
       "Predicting: 4317it [00:00, ?it/s]"
      ]
     },
     "metadata": {},
     "output_type": "display_data"
    },
    {
     "data": {
      "application/vnd.jupyter.widget-view+json": {
       "model_id": "33829d15d45043e4862d5267611d7fe4",
       "version_major": 2,
       "version_minor": 0
      },
      "text/plain": [
       "Predicting: 4317it [00:00, ?it/s]"
      ]
     },
     "metadata": {},
     "output_type": "display_data"
    },
    {
     "data": {
      "application/vnd.jupyter.widget-view+json": {
       "model_id": "ae78524b930e490d891f948024f5fbeb",
       "version_major": 2,
       "version_minor": 0
      },
      "text/plain": [
       "Predicting: 4317it [00:00, ?it/s]"
      ]
     },
     "metadata": {},
     "output_type": "display_data"
    },
    {
     "data": {
      "application/vnd.jupyter.widget-view+json": {
       "model_id": "f59e366dbb10428d894b1219c4ec8cad",
       "version_major": 2,
       "version_minor": 0
      },
      "text/plain": [
       "Predicting: 4317it [00:00, ?it/s]"
      ]
     },
     "metadata": {},
     "output_type": "display_data"
    },
    {
     "data": {
      "application/vnd.jupyter.widget-view+json": {
       "model_id": "1a9e2d58c80b4779bf9c1985d0a6a221",
       "version_major": 2,
       "version_minor": 0
      },
      "text/plain": [
       "Predicting: 4317it [00:00, ?it/s]"
      ]
     },
     "metadata": {},
     "output_type": "display_data"
    },
    {
     "data": {
      "application/vnd.jupyter.widget-view+json": {
       "model_id": "0bd169db5b8d4d50a8cc9d2ccdef71df",
       "version_major": 2,
       "version_minor": 0
      },
      "text/plain": [
       "Predicting: 4317it [00:00, ?it/s]"
      ]
     },
     "metadata": {},
     "output_type": "display_data"
    },
    {
     "data": {
      "application/vnd.jupyter.widget-view+json": {
       "model_id": "1eb666c6f1414c35aa3c5b037b405df7",
       "version_major": 2,
       "version_minor": 0
      },
      "text/plain": [
       "Predicting: 4317it [00:00, ?it/s]"
      ]
     },
     "metadata": {},
     "output_type": "display_data"
    },
    {
     "data": {
      "application/vnd.jupyter.widget-view+json": {
       "model_id": "02f03ddb6ed74355aa55895fe938f337",
       "version_major": 2,
       "version_minor": 0
      },
      "text/plain": [
       "Predicting: 4317it [00:00, ?it/s]"
      ]
     },
     "metadata": {},
     "output_type": "display_data"
    },
    {
     "data": {
      "application/vnd.jupyter.widget-view+json": {
       "model_id": "69a9655b9d594ebc9cddafd35f3e23b4",
       "version_major": 2,
       "version_minor": 0
      },
      "text/plain": [
       "Predicting: 4317it [00:00, ?it/s]"
      ]
     },
     "metadata": {},
     "output_type": "display_data"
    },
    {
     "data": {
      "application/vnd.jupyter.widget-view+json": {
       "model_id": "45b6e1b6a67d442c8bf11e8839515663",
       "version_major": 2,
       "version_minor": 0
      },
      "text/plain": [
       "Predicting: 4317it [00:00, ?it/s]"
      ]
     },
     "metadata": {},
     "output_type": "display_data"
    },
    {
     "data": {
      "application/vnd.jupyter.widget-view+json": {
       "model_id": "2ea60d638dac47c4b10e4785ece74218",
       "version_major": 2,
       "version_minor": 0
      },
      "text/plain": [
       "Predicting: 4317it [00:00, ?it/s]"
      ]
     },
     "metadata": {},
     "output_type": "display_data"
    },
    {
     "data": {
      "application/vnd.jupyter.widget-view+json": {
       "model_id": "6a21e5a345304f7387de803ad7eda8a9",
       "version_major": 2,
       "version_minor": 0
      },
      "text/plain": [
       "Predicting: 4317it [00:00, ?it/s]"
      ]
     },
     "metadata": {},
     "output_type": "display_data"
    },
    {
     "data": {
      "application/vnd.jupyter.widget-view+json": {
       "model_id": "001d22043ae64db48eac095a162ee988",
       "version_major": 2,
       "version_minor": 0
      },
      "text/plain": [
       "Predicting: 4317it [00:00, ?it/s]"
      ]
     },
     "metadata": {},
     "output_type": "display_data"
    },
    {
     "data": {
      "application/vnd.jupyter.widget-view+json": {
       "model_id": "ac21ce730bcd4138b255576def086854",
       "version_major": 2,
       "version_minor": 0
      },
      "text/plain": [
       "Predicting: 4317it [00:00, ?it/s]"
      ]
     },
     "metadata": {},
     "output_type": "display_data"
    },
    {
     "data": {
      "application/vnd.jupyter.widget-view+json": {
       "model_id": "fbf32eebad59425890d1dc109b90718b",
       "version_major": 2,
       "version_minor": 0
      },
      "text/plain": [
       "Predicting: 4317it [00:00, ?it/s]"
      ]
     },
     "metadata": {},
     "output_type": "display_data"
    },
    {
     "data": {
      "application/vnd.jupyter.widget-view+json": {
       "model_id": "179941bdd08242a5824e82fbd952056d",
       "version_major": 2,
       "version_minor": 0
      },
      "text/plain": [
       "Predicting: 4317it [00:00, ?it/s]"
      ]
     },
     "metadata": {},
     "output_type": "display_data"
    },
    {
     "data": {
      "application/vnd.jupyter.widget-view+json": {
       "model_id": "ed53e0ac86324033b191ca04217af6bb",
       "version_major": 2,
       "version_minor": 0
      },
      "text/plain": [
       "Predicting: 4317it [00:00, ?it/s]"
      ]
     },
     "metadata": {},
     "output_type": "display_data"
    },
    {
     "data": {
      "application/vnd.jupyter.widget-view+json": {
       "model_id": "f47ffbf673ac473ab41e786967a87209",
       "version_major": 2,
       "version_minor": 0
      },
      "text/plain": [
       "Predicting: 4317it [00:00, ?it/s]"
      ]
     },
     "metadata": {},
     "output_type": "display_data"
    },
    {
     "data": {
      "application/vnd.jupyter.widget-view+json": {
       "model_id": "4cecc35747714c528cf77a943517b9c5",
       "version_major": 2,
       "version_minor": 0
      },
      "text/plain": [
       "Predicting: 4317it [00:00, ?it/s]"
      ]
     },
     "metadata": {},
     "output_type": "display_data"
    },
    {
     "data": {
      "application/vnd.jupyter.widget-view+json": {
       "model_id": "bc66c9598f3f4a928e3bd16fc95a8c4c",
       "version_major": 2,
       "version_minor": 0
      },
      "text/plain": [
       "Predicting: 4317it [00:00, ?it/s]"
      ]
     },
     "metadata": {},
     "output_type": "display_data"
    },
    {
     "data": {
      "application/vnd.jupyter.widget-view+json": {
       "model_id": "ffb608432e9a4701a8d880a5b5c5483a",
       "version_major": 2,
       "version_minor": 0
      },
      "text/plain": [
       "Predicting: 4317it [00:00, ?it/s]"
      ]
     },
     "metadata": {},
     "output_type": "display_data"
    },
    {
     "data": {
      "application/vnd.jupyter.widget-view+json": {
       "model_id": "3dfcb077e7554a8d8906622cb6328e37",
       "version_major": 2,
       "version_minor": 0
      },
      "text/plain": [
       "Predicting: 4317it [00:00, ?it/s]"
      ]
     },
     "metadata": {},
     "output_type": "display_data"
    },
    {
     "data": {
      "application/vnd.jupyter.widget-view+json": {
       "model_id": "3acdb1fc7a3e4c5d8cd0539837250001",
       "version_major": 2,
       "version_minor": 0
      },
      "text/plain": [
       "Predicting: 4317it [00:00, ?it/s]"
      ]
     },
     "metadata": {},
     "output_type": "display_data"
    },
    {
     "data": {
      "application/vnd.jupyter.widget-view+json": {
       "model_id": "624681e3dae74fd38f5c59ae15063e48",
       "version_major": 2,
       "version_minor": 0
      },
      "text/plain": [
       "Predicting: 4317it [00:00, ?it/s]"
      ]
     },
     "metadata": {},
     "output_type": "display_data"
    },
    {
     "data": {
      "application/vnd.jupyter.widget-view+json": {
       "model_id": "dfdaa72c8dd14b3fb2a3a4b8637bdf35",
       "version_major": 2,
       "version_minor": 0
      },
      "text/plain": [
       "Predicting: 4317it [00:00, ?it/s]"
      ]
     },
     "metadata": {},
     "output_type": "display_data"
    },
    {
     "data": {
      "application/vnd.jupyter.widget-view+json": {
       "model_id": "250aa507dfe74f329df1c77ea816814a",
       "version_major": 2,
       "version_minor": 0
      },
      "text/plain": [
       "Predicting: 4317it [00:00, ?it/s]"
      ]
     },
     "metadata": {},
     "output_type": "display_data"
    },
    {
     "data": {
      "application/vnd.jupyter.widget-view+json": {
       "model_id": "5b38c72bf2ea412aa690b8a4a1ee614e",
       "version_major": 2,
       "version_minor": 0
      },
      "text/plain": [
       "Predicting: 4317it [00:00, ?it/s]"
      ]
     },
     "metadata": {},
     "output_type": "display_data"
    },
    {
     "data": {
      "application/vnd.jupyter.widget-view+json": {
       "model_id": "0baeaba6443d499a904ac1c162e26653",
       "version_major": 2,
       "version_minor": 0
      },
      "text/plain": [
       "Predicting: 4317it [00:00, ?it/s]"
      ]
     },
     "metadata": {},
     "output_type": "display_data"
    },
    {
     "data": {
      "application/vnd.jupyter.widget-view+json": {
       "model_id": "d20b43d4e1c64cd98014c3e456ac3b89",
       "version_major": 2,
       "version_minor": 0
      },
      "text/plain": [
       "Predicting: 4317it [00:00, ?it/s]"
      ]
     },
     "metadata": {},
     "output_type": "display_data"
    },
    {
     "data": {
      "application/vnd.jupyter.widget-view+json": {
       "model_id": "bdeba08d367546b4be5fd146c0ae2f2a",
       "version_major": 2,
       "version_minor": 0
      },
      "text/plain": [
       "Predicting: 4317it [00:00, ?it/s]"
      ]
     },
     "metadata": {},
     "output_type": "display_data"
    },
    {
     "data": {
      "application/vnd.jupyter.widget-view+json": {
       "model_id": "d588814f5de74e379b252da840f848fd",
       "version_major": 2,
       "version_minor": 0
      },
      "text/plain": [
       "Predicting: 4317it [00:00, ?it/s]"
      ]
     },
     "metadata": {},
     "output_type": "display_data"
    },
    {
     "data": {
      "application/vnd.jupyter.widget-view+json": {
       "model_id": "7d69b1d486ba44be9ed969822d0db5c0",
       "version_major": 2,
       "version_minor": 0
      },
      "text/plain": [
       "Predicting: 4317it [00:00, ?it/s]"
      ]
     },
     "metadata": {},
     "output_type": "display_data"
    },
    {
     "data": {
      "application/vnd.jupyter.widget-view+json": {
       "model_id": "6a689be264b14ec781fb3ca50862a144",
       "version_major": 2,
       "version_minor": 0
      },
      "text/plain": [
       "Predicting: 4317it [00:00, ?it/s]"
      ]
     },
     "metadata": {},
     "output_type": "display_data"
    },
    {
     "data": {
      "application/vnd.jupyter.widget-view+json": {
       "model_id": "b17819e9a38f4e6ab2df809319c0a91f",
       "version_major": 2,
       "version_minor": 0
      },
      "text/plain": [
       "Predicting: 4317it [00:00, ?it/s]"
      ]
     },
     "metadata": {},
     "output_type": "display_data"
    },
    {
     "data": {
      "application/vnd.jupyter.widget-view+json": {
       "model_id": "c06a25632ac44a30a95f3ba65971b659",
       "version_major": 2,
       "version_minor": 0
      },
      "text/plain": [
       "Predicting: 4317it [00:00, ?it/s]"
      ]
     },
     "metadata": {},
     "output_type": "display_data"
    },
    {
     "data": {
      "application/vnd.jupyter.widget-view+json": {
       "model_id": "3ef61ebe3e064a77b2c1f4b98ef176f1",
       "version_major": 2,
       "version_minor": 0
      },
      "text/plain": [
       "Predicting: 4317it [00:00, ?it/s]"
      ]
     },
     "metadata": {},
     "output_type": "display_data"
    },
    {
     "data": {
      "application/vnd.jupyter.widget-view+json": {
       "model_id": "8de82a72bfd64f6ba68a7675892bb6d8",
       "version_major": 2,
       "version_minor": 0
      },
      "text/plain": [
       "Predicting: 4317it [00:00, ?it/s]"
      ]
     },
     "metadata": {},
     "output_type": "display_data"
    },
    {
     "data": {
      "application/vnd.jupyter.widget-view+json": {
       "model_id": "1cf09abb538943749233637c5925009f",
       "version_major": 2,
       "version_minor": 0
      },
      "text/plain": [
       "Predicting: 4317it [00:00, ?it/s]"
      ]
     },
     "metadata": {},
     "output_type": "display_data"
    },
    {
     "data": {
      "application/vnd.jupyter.widget-view+json": {
       "model_id": "e233135da4a34d0a8faf8db97237194b",
       "version_major": 2,
       "version_minor": 0
      },
      "text/plain": [
       "Predicting: 4317it [00:00, ?it/s]"
      ]
     },
     "metadata": {},
     "output_type": "display_data"
    },
    {
     "data": {
      "application/vnd.jupyter.widget-view+json": {
       "model_id": "cc0062293f2a4dae97136b6fa18e3bb7",
       "version_major": 2,
       "version_minor": 0
      },
      "text/plain": [
       "Predicting: 4317it [00:00, ?it/s]"
      ]
     },
     "metadata": {},
     "output_type": "display_data"
    },
    {
     "data": {
      "application/vnd.jupyter.widget-view+json": {
       "model_id": "34f4f20d78924b2c8e4ae5265bef573a",
       "version_major": 2,
       "version_minor": 0
      },
      "text/plain": [
       "Predicting: 4317it [00:00, ?it/s]"
      ]
     },
     "metadata": {},
     "output_type": "display_data"
    },
    {
     "data": {
      "application/vnd.jupyter.widget-view+json": {
       "model_id": "8a92831212b041cfb77c0bc4bca510bd",
       "version_major": 2,
       "version_minor": 0
      },
      "text/plain": [
       "Predicting: 4317it [00:00, ?it/s]"
      ]
     },
     "metadata": {},
     "output_type": "display_data"
    },
    {
     "data": {
      "application/vnd.jupyter.widget-view+json": {
       "model_id": "7cfd30b3095b4dd9b550d932bfa7acfe",
       "version_major": 2,
       "version_minor": 0
      },
      "text/plain": [
       "Predicting: 4317it [00:00, ?it/s]"
      ]
     },
     "metadata": {},
     "output_type": "display_data"
    },
    {
     "data": {
      "application/vnd.jupyter.widget-view+json": {
       "model_id": "4a97d4db32b74c108095e0d185eeadb2",
       "version_major": 2,
       "version_minor": 0
      },
      "text/plain": [
       "Predicting: 4317it [00:00, ?it/s]"
      ]
     },
     "metadata": {},
     "output_type": "display_data"
    },
    {
     "data": {
      "application/vnd.jupyter.widget-view+json": {
       "model_id": "e164b392fcea473c85f1ba7e22f6fd90",
       "version_major": 2,
       "version_minor": 0
      },
      "text/plain": [
       "Predicting: 4317it [00:00, ?it/s]"
      ]
     },
     "metadata": {},
     "output_type": "display_data"
    },
    {
     "data": {
      "application/vnd.jupyter.widget-view+json": {
       "model_id": "604b6607e812470cb8e8325c76a1dd6b",
       "version_major": 2,
       "version_minor": 0
      },
      "text/plain": [
       "Predicting: 4317it [00:00, ?it/s]"
      ]
     },
     "metadata": {},
     "output_type": "display_data"
    },
    {
     "data": {
      "application/vnd.jupyter.widget-view+json": {
       "model_id": "6b70311aebe74fbe9ee5e008084b161d",
       "version_major": 2,
       "version_minor": 0
      },
      "text/plain": [
       "Predicting: 4317it [00:00, ?it/s]"
      ]
     },
     "metadata": {},
     "output_type": "display_data"
    },
    {
     "data": {
      "application/vnd.jupyter.widget-view+json": {
       "model_id": "bfcb9accd2624c998f309cc182c1c4c4",
       "version_major": 2,
       "version_minor": 0
      },
      "text/plain": [
       "Predicting: 4317it [00:00, ?it/s]"
      ]
     },
     "metadata": {},
     "output_type": "display_data"
    },
    {
     "data": {
      "application/vnd.jupyter.widget-view+json": {
       "model_id": "4b33f4063af94ec3b75f0ec8b4e656a5",
       "version_major": 2,
       "version_minor": 0
      },
      "text/plain": [
       "Predicting: 4317it [00:00, ?it/s]"
      ]
     },
     "metadata": {},
     "output_type": "display_data"
    },
    {
     "data": {
      "application/vnd.jupyter.widget-view+json": {
       "model_id": "18905e9e7b9541c2a5a667b177078f53",
       "version_major": 2,
       "version_minor": 0
      },
      "text/plain": [
       "Predicting: 4317it [00:00, ?it/s]"
      ]
     },
     "metadata": {},
     "output_type": "display_data"
    },
    {
     "data": {
      "application/vnd.jupyter.widget-view+json": {
       "model_id": "b7c9a23796db4adb8c0abc27e8961755",
       "version_major": 2,
       "version_minor": 0
      },
      "text/plain": [
       "Predicting: 4317it [00:00, ?it/s]"
      ]
     },
     "metadata": {},
     "output_type": "display_data"
    },
    {
     "data": {
      "application/vnd.jupyter.widget-view+json": {
       "model_id": "76e47231d3ce4c328be6c68295584cae",
       "version_major": 2,
       "version_minor": 0
      },
      "text/plain": [
       "Predicting: 4317it [00:00, ?it/s]"
      ]
     },
     "metadata": {},
     "output_type": "display_data"
    },
    {
     "data": {
      "application/vnd.jupyter.widget-view+json": {
       "model_id": "0373d2893eb84bd6b8d6b1c17f83756b",
       "version_major": 2,
       "version_minor": 0
      },
      "text/plain": [
       "Predicting: 4317it [00:00, ?it/s]"
      ]
     },
     "metadata": {},
     "output_type": "display_data"
    },
    {
     "data": {
      "application/vnd.jupyter.widget-view+json": {
       "model_id": "80bea5589cbd4ecfbfe02d1f0555aedf",
       "version_major": 2,
       "version_minor": 0
      },
      "text/plain": [
       "Predicting: 4317it [00:00, ?it/s]"
      ]
     },
     "metadata": {},
     "output_type": "display_data"
    },
    {
     "data": {
      "application/vnd.jupyter.widget-view+json": {
       "model_id": "811b80223d9c4740851d5cfac53723bc",
       "version_major": 2,
       "version_minor": 0
      },
      "text/plain": [
       "Predicting: 4317it [00:00, ?it/s]"
      ]
     },
     "metadata": {},
     "output_type": "display_data"
    },
    {
     "data": {
      "application/vnd.jupyter.widget-view+json": {
       "model_id": "87ce562f324a49aeb3e2cd9288fbfa36",
       "version_major": 2,
       "version_minor": 0
      },
      "text/plain": [
       "Predicting: 4317it [00:00, ?it/s]"
      ]
     },
     "metadata": {},
     "output_type": "display_data"
    },
    {
     "data": {
      "application/vnd.jupyter.widget-view+json": {
       "model_id": "e21dbadaf6ae4c7491f299abfe1f1820",
       "version_major": 2,
       "version_minor": 0
      },
      "text/plain": [
       "Predicting: 4317it [00:00, ?it/s]"
      ]
     },
     "metadata": {},
     "output_type": "display_data"
    },
    {
     "data": {
      "application/vnd.jupyter.widget-view+json": {
       "model_id": "87e1219809224eaebc4355947c2053d5",
       "version_major": 2,
       "version_minor": 0
      },
      "text/plain": [
       "Predicting: 4317it [00:00, ?it/s]"
      ]
     },
     "metadata": {},
     "output_type": "display_data"
    },
    {
     "data": {
      "application/vnd.jupyter.widget-view+json": {
       "model_id": "9a6f6887236245dcbe206f3a87dc3801",
       "version_major": 2,
       "version_minor": 0
      },
      "text/plain": [
       "Predicting: 4317it [00:00, ?it/s]"
      ]
     },
     "metadata": {},
     "output_type": "display_data"
    },
    {
     "data": {
      "application/vnd.jupyter.widget-view+json": {
       "model_id": "f9767e7062694704a896fa40cd5a5eb4",
       "version_major": 2,
       "version_minor": 0
      },
      "text/plain": [
       "Predicting: 4317it [00:00, ?it/s]"
      ]
     },
     "metadata": {},
     "output_type": "display_data"
    },
    {
     "data": {
      "application/vnd.jupyter.widget-view+json": {
       "model_id": "8571db9ef12b46fea56b082c5c9e3816",
       "version_major": 2,
       "version_minor": 0
      },
      "text/plain": [
       "Predicting: 4317it [00:00, ?it/s]"
      ]
     },
     "metadata": {},
     "output_type": "display_data"
    },
    {
     "data": {
      "application/vnd.jupyter.widget-view+json": {
       "model_id": "67214f52eb0d4592a869d7b4f3517a25",
       "version_major": 2,
       "version_minor": 0
      },
      "text/plain": [
       "Predicting: 4317it [00:00, ?it/s]"
      ]
     },
     "metadata": {},
     "output_type": "display_data"
    },
    {
     "data": {
      "application/vnd.jupyter.widget-view+json": {
       "model_id": "f19284c3581f42ab925bc5000298a183",
       "version_major": 2,
       "version_minor": 0
      },
      "text/plain": [
       "Predicting: 4317it [00:00, ?it/s]"
      ]
     },
     "metadata": {},
     "output_type": "display_data"
    },
    {
     "data": {
      "application/vnd.jupyter.widget-view+json": {
       "model_id": "a82198a971a14069b4c761a342f990a1",
       "version_major": 2,
       "version_minor": 0
      },
      "text/plain": [
       "Predicting: 4317it [00:00, ?it/s]"
      ]
     },
     "metadata": {},
     "output_type": "display_data"
    },
    {
     "data": {
      "application/vnd.jupyter.widget-view+json": {
       "model_id": "5eac6b1e9f844714b7b20434e7df7bc9",
       "version_major": 2,
       "version_minor": 0
      },
      "text/plain": [
       "Predicting: 4317it [00:00, ?it/s]"
      ]
     },
     "metadata": {},
     "output_type": "display_data"
    },
    {
     "data": {
      "application/vnd.jupyter.widget-view+json": {
       "model_id": "5f158b0732d644a4be4125cbeb29bbb2",
       "version_major": 2,
       "version_minor": 0
      },
      "text/plain": [
       "Predicting: 4317it [00:00, ?it/s]"
      ]
     },
     "metadata": {},
     "output_type": "display_data"
    },
    {
     "data": {
      "application/vnd.jupyter.widget-view+json": {
       "model_id": "6417e17f7be2447cb57ff4f4ef1bd9ca",
       "version_major": 2,
       "version_minor": 0
      },
      "text/plain": [
       "Predicting: 4317it [00:00, ?it/s]"
      ]
     },
     "metadata": {},
     "output_type": "display_data"
    },
    {
     "data": {
      "application/vnd.jupyter.widget-view+json": {
       "model_id": "415ce18fe79d4b05a76d6fe6c7433c3e",
       "version_major": 2,
       "version_minor": 0
      },
      "text/plain": [
       "Predicting: 4317it [00:00, ?it/s]"
      ]
     },
     "metadata": {},
     "output_type": "display_data"
    },
    {
     "data": {
      "application/vnd.jupyter.widget-view+json": {
       "model_id": "ca384fada665458689271bf57ce5fe42",
       "version_major": 2,
       "version_minor": 0
      },
      "text/plain": [
       "Predicting: 4317it [00:00, ?it/s]"
      ]
     },
     "metadata": {},
     "output_type": "display_data"
    },
    {
     "data": {
      "application/vnd.jupyter.widget-view+json": {
       "model_id": "cd8f12ba56ea43ca8761d84b84b88f7a",
       "version_major": 2,
       "version_minor": 0
      },
      "text/plain": [
       "Predicting: 4317it [00:00, ?it/s]"
      ]
     },
     "metadata": {},
     "output_type": "display_data"
    },
    {
     "data": {
      "application/vnd.jupyter.widget-view+json": {
       "model_id": "9850b75988c2448aba87d8e117926c0c",
       "version_major": 2,
       "version_minor": 0
      },
      "text/plain": [
       "Predicting: 4317it [00:00, ?it/s]"
      ]
     },
     "metadata": {},
     "output_type": "display_data"
    },
    {
     "data": {
      "application/vnd.jupyter.widget-view+json": {
       "model_id": "17ed5657a9ae4747b947eafd1a1f5a1c",
       "version_major": 2,
       "version_minor": 0
      },
      "text/plain": [
       "Predicting: 4317it [00:00, ?it/s]"
      ]
     },
     "metadata": {},
     "output_type": "display_data"
    },
    {
     "data": {
      "application/vnd.jupyter.widget-view+json": {
       "model_id": "a16e00cb7abb4195846cfc9e6e2ad3d5",
       "version_major": 2,
       "version_minor": 0
      },
      "text/plain": [
       "Predicting: 4317it [00:00, ?it/s]"
      ]
     },
     "metadata": {},
     "output_type": "display_data"
    },
    {
     "data": {
      "application/vnd.jupyter.widget-view+json": {
       "model_id": "32f710bcaba34f1199ebd1f52f2094ec",
       "version_major": 2,
       "version_minor": 0
      },
      "text/plain": [
       "Predicting: 4317it [00:00, ?it/s]"
      ]
     },
     "metadata": {},
     "output_type": "display_data"
    },
    {
     "data": {
      "application/vnd.jupyter.widget-view+json": {
       "model_id": "3c43168114534ea68aa77db894f57d07",
       "version_major": 2,
       "version_minor": 0
      },
      "text/plain": [
       "Predicting: 4317it [00:00, ?it/s]"
      ]
     },
     "metadata": {},
     "output_type": "display_data"
    },
    {
     "data": {
      "application/vnd.jupyter.widget-view+json": {
       "model_id": "54e32d17e57d4b1ab2f2a42b7a075838",
       "version_major": 2,
       "version_minor": 0
      },
      "text/plain": [
       "Predicting: 4317it [00:00, ?it/s]"
      ]
     },
     "metadata": {},
     "output_type": "display_data"
    },
    {
     "data": {
      "application/vnd.jupyter.widget-view+json": {
       "model_id": "39dee75f452444df9b3194ac894ac797",
       "version_major": 2,
       "version_minor": 0
      },
      "text/plain": [
       "Predicting: 4317it [00:00, ?it/s]"
      ]
     },
     "metadata": {},
     "output_type": "display_data"
    },
    {
     "data": {
      "application/vnd.jupyter.widget-view+json": {
       "model_id": "dda8abe56a4049238e62bc9008cf8b95",
       "version_major": 2,
       "version_minor": 0
      },
      "text/plain": [
       "Predicting: 4317it [00:00, ?it/s]"
      ]
     },
     "metadata": {},
     "output_type": "display_data"
    },
    {
     "data": {
      "application/vnd.jupyter.widget-view+json": {
       "model_id": "ed522274c8c947ad9527802c13156fa7",
       "version_major": 2,
       "version_minor": 0
      },
      "text/plain": [
       "Predicting: 4317it [00:00, ?it/s]"
      ]
     },
     "metadata": {},
     "output_type": "display_data"
    },
    {
     "data": {
      "application/vnd.jupyter.widget-view+json": {
       "model_id": "af9d4b3161eb49c0abbd7075242231f8",
       "version_major": 2,
       "version_minor": 0
      },
      "text/plain": [
       "Predicting: 4317it [00:00, ?it/s]"
      ]
     },
     "metadata": {},
     "output_type": "display_data"
    },
    {
     "data": {
      "application/vnd.jupyter.widget-view+json": {
       "model_id": "6cbee9468fe8412ca1c72f23405a7bfb",
       "version_major": 2,
       "version_minor": 0
      },
      "text/plain": [
       "Predicting: 4317it [00:00, ?it/s]"
      ]
     },
     "metadata": {},
     "output_type": "display_data"
    },
    {
     "data": {
      "application/vnd.jupyter.widget-view+json": {
       "model_id": "da4efaa3a3074420bdf2399ef2f9251c",
       "version_major": 2,
       "version_minor": 0
      },
      "text/plain": [
       "Predicting: 4317it [00:00, ?it/s]"
      ]
     },
     "metadata": {},
     "output_type": "display_data"
    },
    {
     "data": {
      "application/vnd.jupyter.widget-view+json": {
       "model_id": "ef9fc66dc9b242abb43c207b3d0adfa9",
       "version_major": 2,
       "version_minor": 0
      },
      "text/plain": [
       "Predicting: 4317it [00:00, ?it/s]"
      ]
     },
     "metadata": {},
     "output_type": "display_data"
    },
    {
     "data": {
      "application/vnd.jupyter.widget-view+json": {
       "model_id": "a0a74cdf94bf47d4bc2c0153a62b8410",
       "version_major": 2,
       "version_minor": 0
      },
      "text/plain": [
       "Predicting: 4317it [00:00, ?it/s]"
      ]
     },
     "metadata": {},
     "output_type": "display_data"
    },
    {
     "data": {
      "application/vnd.jupyter.widget-view+json": {
       "model_id": "b5b0a21bd058406fb55448c23f71f2ad",
       "version_major": 2,
       "version_minor": 0
      },
      "text/plain": [
       "Predicting: 4317it [00:00, ?it/s]"
      ]
     },
     "metadata": {},
     "output_type": "display_data"
    },
    {
     "data": {
      "application/vnd.jupyter.widget-view+json": {
       "model_id": "5f22ce344c704734a34792b7158d9dca",
       "version_major": 2,
       "version_minor": 0
      },
      "text/plain": [
       "Predicting: 4317it [00:00, ?it/s]"
      ]
     },
     "metadata": {},
     "output_type": "display_data"
    },
    {
     "data": {
      "application/vnd.jupyter.widget-view+json": {
       "model_id": "74db653784ef4494bf6a932d12a75237",
       "version_major": 2,
       "version_minor": 0
      },
      "text/plain": [
       "Predicting: 4317it [00:00, ?it/s]"
      ]
     },
     "metadata": {},
     "output_type": "display_data"
    },
    {
     "data": {
      "application/vnd.jupyter.widget-view+json": {
       "model_id": "63027e3d7ad2458b951bab35735a12f2",
       "version_major": 2,
       "version_minor": 0
      },
      "text/plain": [
       "Predicting: 4317it [00:00, ?it/s]"
      ]
     },
     "metadata": {},
     "output_type": "display_data"
    },
    {
     "data": {
      "application/vnd.jupyter.widget-view+json": {
       "model_id": "0bea68377c15484caed5c918d853833d",
       "version_major": 2,
       "version_minor": 0
      },
      "text/plain": [
       "Predicting: 4317it [00:00, ?it/s]"
      ]
     },
     "metadata": {},
     "output_type": "display_data"
    },
    {
     "data": {
      "application/vnd.jupyter.widget-view+json": {
       "model_id": "a62c5e7e205a4a0e840ffe7db5aa5a67",
       "version_major": 2,
       "version_minor": 0
      },
      "text/plain": [
       "Predicting: 4317it [00:00, ?it/s]"
      ]
     },
     "metadata": {},
     "output_type": "display_data"
    },
    {
     "data": {
      "application/vnd.jupyter.widget-view+json": {
       "model_id": "d4e4281b2d874b289acac56c1ba01859",
       "version_major": 2,
       "version_minor": 0
      },
      "text/plain": [
       "Predicting: 4317it [00:00, ?it/s]"
      ]
     },
     "metadata": {},
     "output_type": "display_data"
    },
    {
     "data": {
      "application/vnd.jupyter.widget-view+json": {
       "model_id": "1ba3bb0fb3c1489f94c8dd3c15f61763",
       "version_major": 2,
       "version_minor": 0
      },
      "text/plain": [
       "Predicting: 4317it [00:00, ?it/s]"
      ]
     },
     "metadata": {},
     "output_type": "display_data"
    },
    {
     "data": {
      "application/vnd.jupyter.widget-view+json": {
       "model_id": "5f2cb4516a814afcbdfbd8037d688e56",
       "version_major": 2,
       "version_minor": 0
      },
      "text/plain": [
       "Predicting: 4317it [00:00, ?it/s]"
      ]
     },
     "metadata": {},
     "output_type": "display_data"
    },
    {
     "data": {
      "application/vnd.jupyter.widget-view+json": {
       "model_id": "10d8fc0fb4e84d45a70827613aa4f24c",
       "version_major": 2,
       "version_minor": 0
      },
      "text/plain": [
       "Predicting: 4317it [00:00, ?it/s]"
      ]
     },
     "metadata": {},
     "output_type": "display_data"
    },
    {
     "data": {
      "application/vnd.jupyter.widget-view+json": {
       "model_id": "6109ad115c97450e8294c94cd2cfd950",
       "version_major": 2,
       "version_minor": 0
      },
      "text/plain": [
       "Predicting: 4317it [00:00, ?it/s]"
      ]
     },
     "metadata": {},
     "output_type": "display_data"
    },
    {
     "data": {
      "application/vnd.jupyter.widget-view+json": {
       "model_id": "8c9736f43ee346dfae615124b8664bfc",
       "version_major": 2,
       "version_minor": 0
      },
      "text/plain": [
       "Predicting: 4317it [00:00, ?it/s]"
      ]
     },
     "metadata": {},
     "output_type": "display_data"
    },
    {
     "data": {
      "application/vnd.jupyter.widget-view+json": {
       "model_id": "214e6035fbec40f49b54cc6e36e601b0",
       "version_major": 2,
       "version_minor": 0
      },
      "text/plain": [
       "Predicting: 4317it [00:00, ?it/s]"
      ]
     },
     "metadata": {},
     "output_type": "display_data"
    },
    {
     "data": {
      "application/vnd.jupyter.widget-view+json": {
       "model_id": "2fa6920fb0ad41bdab7e5fff022db69a",
       "version_major": 2,
       "version_minor": 0
      },
      "text/plain": [
       "Predicting: 4317it [00:00, ?it/s]"
      ]
     },
     "metadata": {},
     "output_type": "display_data"
    },
    {
     "data": {
      "application/vnd.jupyter.widget-view+json": {
       "model_id": "0ab1f5a2eead4c05a255eea3a667a714",
       "version_major": 2,
       "version_minor": 0
      },
      "text/plain": [
       "Predicting: 4317it [00:00, ?it/s]"
      ]
     },
     "metadata": {},
     "output_type": "display_data"
    },
    {
     "data": {
      "application/vnd.jupyter.widget-view+json": {
       "model_id": "cf8b17783f7a4144a3cf9c2e76a4b8fa",
       "version_major": 2,
       "version_minor": 0
      },
      "text/plain": [
       "Predicting: 4317it [00:00, ?it/s]"
      ]
     },
     "metadata": {},
     "output_type": "display_data"
    },
    {
     "data": {
      "application/vnd.jupyter.widget-view+json": {
       "model_id": "935763d6255344a687194a451659acb5",
       "version_major": 2,
       "version_minor": 0
      },
      "text/plain": [
       "Predicting: 4317it [00:00, ?it/s]"
      ]
     },
     "metadata": {},
     "output_type": "display_data"
    },
    {
     "data": {
      "application/vnd.jupyter.widget-view+json": {
       "model_id": "46901e848a7d42f8ba4156cba9e941ba",
       "version_major": 2,
       "version_minor": 0
      },
      "text/plain": [
       "Predicting: 4317it [00:00, ?it/s]"
      ]
     },
     "metadata": {},
     "output_type": "display_data"
    },
    {
     "data": {
      "application/vnd.jupyter.widget-view+json": {
       "model_id": "721386f7cc33419fae52d7d954685d83",
       "version_major": 2,
       "version_minor": 0
      },
      "text/plain": [
       "Predicting: 4317it [00:00, ?it/s]"
      ]
     },
     "metadata": {},
     "output_type": "display_data"
    },
    {
     "data": {
      "application/vnd.jupyter.widget-view+json": {
       "model_id": "0eb46ba947514a47bb349d81dc515b5e",
       "version_major": 2,
       "version_minor": 0
      },
      "text/plain": [
       "Predicting: 4317it [00:00, ?it/s]"
      ]
     },
     "metadata": {},
     "output_type": "display_data"
    },
    {
     "data": {
      "application/vnd.jupyter.widget-view+json": {
       "model_id": "d41b4f14b3d94a7387605297c23e043d",
       "version_major": 2,
       "version_minor": 0
      },
      "text/plain": [
       "Predicting: 4317it [00:00, ?it/s]"
      ]
     },
     "metadata": {},
     "output_type": "display_data"
    },
    {
     "data": {
      "application/vnd.jupyter.widget-view+json": {
       "model_id": "d14d9eafbc12407f8ec31184804e2386",
       "version_major": 2,
       "version_minor": 0
      },
      "text/plain": [
       "Predicting: 4317it [00:00, ?it/s]"
      ]
     },
     "metadata": {},
     "output_type": "display_data"
    },
    {
     "data": {
      "application/vnd.jupyter.widget-view+json": {
       "model_id": "8fd4b4b9a31741baa1a1b089ff9bece5",
       "version_major": 2,
       "version_minor": 0
      },
      "text/plain": [
       "Predicting: 4317it [00:00, ?it/s]"
      ]
     },
     "metadata": {},
     "output_type": "display_data"
    },
    {
     "data": {
      "application/vnd.jupyter.widget-view+json": {
       "model_id": "55ea103219394e0fa424e3be94430439",
       "version_major": 2,
       "version_minor": 0
      },
      "text/plain": [
       "Predicting: 4317it [00:00, ?it/s]"
      ]
     },
     "metadata": {},
     "output_type": "display_data"
    },
    {
     "data": {
      "application/vnd.jupyter.widget-view+json": {
       "model_id": "6d375951b3dd4240ba8bc26b0f3dcde6",
       "version_major": 2,
       "version_minor": 0
      },
      "text/plain": [
       "Predicting: 4317it [00:00, ?it/s]"
      ]
     },
     "metadata": {},
     "output_type": "display_data"
    },
    {
     "data": {
      "application/vnd.jupyter.widget-view+json": {
       "model_id": "40e753b379d3409daf5f298b817b1179",
       "version_major": 2,
       "version_minor": 0
      },
      "text/plain": [
       "Predicting: 4317it [00:00, ?it/s]"
      ]
     },
     "metadata": {},
     "output_type": "display_data"
    },
    {
     "data": {
      "application/vnd.jupyter.widget-view+json": {
       "model_id": "27379281d6ce43b4ae9949d2ae106a24",
       "version_major": 2,
       "version_minor": 0
      },
      "text/plain": [
       "Predicting: 4317it [00:00, ?it/s]"
      ]
     },
     "metadata": {},
     "output_type": "display_data"
    },
    {
     "data": {
      "application/vnd.jupyter.widget-view+json": {
       "model_id": "2a1c2e842e0648d6b741c170dc7ee56a",
       "version_major": 2,
       "version_minor": 0
      },
      "text/plain": [
       "Predicting: 4317it [00:00, ?it/s]"
      ]
     },
     "metadata": {},
     "output_type": "display_data"
    },
    {
     "data": {
      "application/vnd.jupyter.widget-view+json": {
       "model_id": "61ebff4c688e4f109aa87e0e07473291",
       "version_major": 2,
       "version_minor": 0
      },
      "text/plain": [
       "Predicting: 4317it [00:00, ?it/s]"
      ]
     },
     "metadata": {},
     "output_type": "display_data"
    },
    {
     "data": {
      "application/vnd.jupyter.widget-view+json": {
       "model_id": "a85f83330c1c4b97a5672f5bb5ac80ee",
       "version_major": 2,
       "version_minor": 0
      },
      "text/plain": [
       "Predicting: 4317it [00:00, ?it/s]"
      ]
     },
     "metadata": {},
     "output_type": "display_data"
    },
    {
     "data": {
      "application/vnd.jupyter.widget-view+json": {
       "model_id": "c82876cb7f4a417faa77be285965c9f2",
       "version_major": 2,
       "version_minor": 0
      },
      "text/plain": [
       "Predicting: 4317it [00:00, ?it/s]"
      ]
     },
     "metadata": {},
     "output_type": "display_data"
    },
    {
     "data": {
      "application/vnd.jupyter.widget-view+json": {
       "model_id": "19cf38f83cf24a34b0ec9bc7af4780da",
       "version_major": 2,
       "version_minor": 0
      },
      "text/plain": [
       "Predicting: 4317it [00:00, ?it/s]"
      ]
     },
     "metadata": {},
     "output_type": "display_data"
    },
    {
     "data": {
      "application/vnd.jupyter.widget-view+json": {
       "model_id": "29a76f50db364519b833acba7dc4914d",
       "version_major": 2,
       "version_minor": 0
      },
      "text/plain": [
       "Predicting: 4317it [00:00, ?it/s]"
      ]
     },
     "metadata": {},
     "output_type": "display_data"
    },
    {
     "data": {
      "application/vnd.jupyter.widget-view+json": {
       "model_id": "d67cfde5562d4cf9a004ff6df92b6477",
       "version_major": 2,
       "version_minor": 0
      },
      "text/plain": [
       "Predicting: 4317it [00:00, ?it/s]"
      ]
     },
     "metadata": {},
     "output_type": "display_data"
    },
    {
     "data": {
      "application/vnd.jupyter.widget-view+json": {
       "model_id": "dcbfde5edd8340f1ae26bc426d2264ab",
       "version_major": 2,
       "version_minor": 0
      },
      "text/plain": [
       "Predicting: 4317it [00:00, ?it/s]"
      ]
     },
     "metadata": {},
     "output_type": "display_data"
    },
    {
     "data": {
      "application/vnd.jupyter.widget-view+json": {
       "model_id": "afdee62ab742453a9c2c8071086b7b3c",
       "version_major": 2,
       "version_minor": 0
      },
      "text/plain": [
       "Predicting: 4317it [00:00, ?it/s]"
      ]
     },
     "metadata": {},
     "output_type": "display_data"
    },
    {
     "data": {
      "application/vnd.jupyter.widget-view+json": {
       "model_id": "7d914947c98e4a0fa6f57390ad8cf0ba",
       "version_major": 2,
       "version_minor": 0
      },
      "text/plain": [
       "Predicting: 4317it [00:00, ?it/s]"
      ]
     },
     "metadata": {},
     "output_type": "display_data"
    },
    {
     "data": {
      "application/vnd.jupyter.widget-view+json": {
       "model_id": "7d6125b298ad41afb3bcc2d1657a1df5",
       "version_major": 2,
       "version_minor": 0
      },
      "text/plain": [
       "Predicting: 4317it [00:00, ?it/s]"
      ]
     },
     "metadata": {},
     "output_type": "display_data"
    },
    {
     "data": {
      "application/vnd.jupyter.widget-view+json": {
       "model_id": "7c85c2636b8f42669cee3abee12b010c",
       "version_major": 2,
       "version_minor": 0
      },
      "text/plain": [
       "Predicting: 4317it [00:00, ?it/s]"
      ]
     },
     "metadata": {},
     "output_type": "display_data"
    },
    {
     "data": {
      "application/vnd.jupyter.widget-view+json": {
       "model_id": "0f96e2dacb5d4cb0b9235918a468a203",
       "version_major": 2,
       "version_minor": 0
      },
      "text/plain": [
       "Predicting: 4317it [00:00, ?it/s]"
      ]
     },
     "metadata": {},
     "output_type": "display_data"
    },
    {
     "data": {
      "application/vnd.jupyter.widget-view+json": {
       "model_id": "240cd971073f4bc5bb172e8a8d56bd03",
       "version_major": 2,
       "version_minor": 0
      },
      "text/plain": [
       "Predicting: 4317it [00:00, ?it/s]"
      ]
     },
     "metadata": {},
     "output_type": "display_data"
    },
    {
     "data": {
      "application/vnd.jupyter.widget-view+json": {
       "model_id": "24350e0305e647b79a5592df5f0f6b14",
       "version_major": 2,
       "version_minor": 0
      },
      "text/plain": [
       "Predicting: 4317it [00:00, ?it/s]"
      ]
     },
     "metadata": {},
     "output_type": "display_data"
    },
    {
     "data": {
      "application/vnd.jupyter.widget-view+json": {
       "model_id": "710342451f3e44439128e3ecfbc49b17",
       "version_major": 2,
       "version_minor": 0
      },
      "text/plain": [
       "Predicting: 4317it [00:00, ?it/s]"
      ]
     },
     "metadata": {},
     "output_type": "display_data"
    },
    {
     "data": {
      "application/vnd.jupyter.widget-view+json": {
       "model_id": "b4d42e67ca6147c6866129625371a605",
       "version_major": 2,
       "version_minor": 0
      },
      "text/plain": [
       "Predicting: 4317it [00:00, ?it/s]"
      ]
     },
     "metadata": {},
     "output_type": "display_data"
    },
    {
     "data": {
      "application/vnd.jupyter.widget-view+json": {
       "model_id": "2ca54dc6be294601b8c1428e8398b7c0",
       "version_major": 2,
       "version_minor": 0
      },
      "text/plain": [
       "Predicting: 4317it [00:00, ?it/s]"
      ]
     },
     "metadata": {},
     "output_type": "display_data"
    },
    {
     "data": {
      "application/vnd.jupyter.widget-view+json": {
       "model_id": "2eca305d39744e0486af3f078b38389a",
       "version_major": 2,
       "version_minor": 0
      },
      "text/plain": [
       "Predicting: 4317it [00:00, ?it/s]"
      ]
     },
     "metadata": {},
     "output_type": "display_data"
    },
    {
     "data": {
      "application/vnd.jupyter.widget-view+json": {
       "model_id": "58f6ebdc957b48d4a21629f2ee4b2b74",
       "version_major": 2,
       "version_minor": 0
      },
      "text/plain": [
       "Predicting: 4317it [00:00, ?it/s]"
      ]
     },
     "metadata": {},
     "output_type": "display_data"
    },
    {
     "data": {
      "application/vnd.jupyter.widget-view+json": {
       "model_id": "fabcfe9b24524e75b724fe4306ebcacf",
       "version_major": 2,
       "version_minor": 0
      },
      "text/plain": [
       "Predicting: 4317it [00:00, ?it/s]"
      ]
     },
     "metadata": {},
     "output_type": "display_data"
    },
    {
     "data": {
      "application/vnd.jupyter.widget-view+json": {
       "model_id": "94e68388e7104e919b2a91d4a2313689",
       "version_major": 2,
       "version_minor": 0
      },
      "text/plain": [
       "Predicting: 4317it [00:00, ?it/s]"
      ]
     },
     "metadata": {},
     "output_type": "display_data"
    },
    {
     "data": {
      "application/vnd.jupyter.widget-view+json": {
       "model_id": "99b3b9a6737c4a4ca25e7428ceb9c1ba",
       "version_major": 2,
       "version_minor": 0
      },
      "text/plain": [
       "Predicting: 4317it [00:00, ?it/s]"
      ]
     },
     "metadata": {},
     "output_type": "display_data"
    },
    {
     "data": {
      "application/vnd.jupyter.widget-view+json": {
       "model_id": "a0780e907efc4488b75f5fa12462fbe8",
       "version_major": 2,
       "version_minor": 0
      },
      "text/plain": [
       "Predicting: 4317it [00:00, ?it/s]"
      ]
     },
     "metadata": {},
     "output_type": "display_data"
    },
    {
     "data": {
      "application/vnd.jupyter.widget-view+json": {
       "model_id": "39b238eb6d3a45ba8908ac7731be27e0",
       "version_major": 2,
       "version_minor": 0
      },
      "text/plain": [
       "Predicting: 4317it [00:00, ?it/s]"
      ]
     },
     "metadata": {},
     "output_type": "display_data"
    },
    {
     "data": {
      "application/vnd.jupyter.widget-view+json": {
       "model_id": "628212d8da1d49aeaf20b193d82a18e4",
       "version_major": 2,
       "version_minor": 0
      },
      "text/plain": [
       "Predicting: 4317it [00:00, ?it/s]"
      ]
     },
     "metadata": {},
     "output_type": "display_data"
    },
    {
     "data": {
      "application/vnd.jupyter.widget-view+json": {
       "model_id": "9a7870cbd8794c0eb0365c374e1f508b",
       "version_major": 2,
       "version_minor": 0
      },
      "text/plain": [
       "Predicting: 4317it [00:00, ?it/s]"
      ]
     },
     "metadata": {},
     "output_type": "display_data"
    },
    {
     "data": {
      "application/vnd.jupyter.widget-view+json": {
       "model_id": "3c48128df44b4722ab2a4828a7d4501f",
       "version_major": 2,
       "version_minor": 0
      },
      "text/plain": [
       "Predicting: 4317it [00:00, ?it/s]"
      ]
     },
     "metadata": {},
     "output_type": "display_data"
    },
    {
     "data": {
      "application/vnd.jupyter.widget-view+json": {
       "model_id": "fa10ecf3116345acba73f1fd230eb111",
       "version_major": 2,
       "version_minor": 0
      },
      "text/plain": [
       "Predicting: 4317it [00:00, ?it/s]"
      ]
     },
     "metadata": {},
     "output_type": "display_data"
    },
    {
     "data": {
      "application/vnd.jupyter.widget-view+json": {
       "model_id": "ff96bdea7ccc4ce68605c5c6ea899869",
       "version_major": 2,
       "version_minor": 0
      },
      "text/plain": [
       "Predicting: 4317it [00:00, ?it/s]"
      ]
     },
     "metadata": {},
     "output_type": "display_data"
    },
    {
     "data": {
      "application/vnd.jupyter.widget-view+json": {
       "model_id": "bd76832fb1444832a8ca2c438f6172bc",
       "version_major": 2,
       "version_minor": 0
      },
      "text/plain": [
       "Predicting: 4317it [00:00, ?it/s]"
      ]
     },
     "metadata": {},
     "output_type": "display_data"
    },
    {
     "data": {
      "application/vnd.jupyter.widget-view+json": {
       "model_id": "5aef189faca24145b77c2e46cf7a048d",
       "version_major": 2,
       "version_minor": 0
      },
      "text/plain": [
       "Predicting: 4317it [00:00, ?it/s]"
      ]
     },
     "metadata": {},
     "output_type": "display_data"
    },
    {
     "data": {
      "application/vnd.jupyter.widget-view+json": {
       "model_id": "e2aeddb97e514137b7faf33630ceda9e",
       "version_major": 2,
       "version_minor": 0
      },
      "text/plain": [
       "Predicting: 4317it [00:00, ?it/s]"
      ]
     },
     "metadata": {},
     "output_type": "display_data"
    },
    {
     "data": {
      "application/vnd.jupyter.widget-view+json": {
       "model_id": "bf583ca4776448098a6a11db276a2907",
       "version_major": 2,
       "version_minor": 0
      },
      "text/plain": [
       "Predicting: 4317it [00:00, ?it/s]"
      ]
     },
     "metadata": {},
     "output_type": "display_data"
    },
    {
     "data": {
      "application/vnd.jupyter.widget-view+json": {
       "model_id": "c14fe5a382724027a2c9e06dcddc0745",
       "version_major": 2,
       "version_minor": 0
      },
      "text/plain": [
       "Predicting: 4317it [00:00, ?it/s]"
      ]
     },
     "metadata": {},
     "output_type": "display_data"
    },
    {
     "data": {
      "application/vnd.jupyter.widget-view+json": {
       "model_id": "12393f77ede242469f15e6c8d37a8bbd",
       "version_major": 2,
       "version_minor": 0
      },
      "text/plain": [
       "Predicting: 4317it [00:00, ?it/s]"
      ]
     },
     "metadata": {},
     "output_type": "display_data"
    },
    {
     "data": {
      "application/vnd.jupyter.widget-view+json": {
       "model_id": "3e8b2ab50640408caf3d4143ebd2e46b",
       "version_major": 2,
       "version_minor": 0
      },
      "text/plain": [
       "Predicting: 4317it [00:00, ?it/s]"
      ]
     },
     "metadata": {},
     "output_type": "display_data"
    },
    {
     "data": {
      "application/vnd.jupyter.widget-view+json": {
       "model_id": "a7a6a2ec91624f079bea52454c1e8959",
       "version_major": 2,
       "version_minor": 0
      },
      "text/plain": [
       "Predicting: 4317it [00:00, ?it/s]"
      ]
     },
     "metadata": {},
     "output_type": "display_data"
    },
    {
     "data": {
      "application/vnd.jupyter.widget-view+json": {
       "model_id": "dec54390578c4bb5a3c9ed9a8df111b2",
       "version_major": 2,
       "version_minor": 0
      },
      "text/plain": [
       "Predicting: 4317it [00:00, ?it/s]"
      ]
     },
     "metadata": {},
     "output_type": "display_data"
    },
    {
     "data": {
      "application/vnd.jupyter.widget-view+json": {
       "model_id": "71f1066794d04bd1b6ca5bc0419988b2",
       "version_major": 2,
       "version_minor": 0
      },
      "text/plain": [
       "Predicting: 4317it [00:00, ?it/s]"
      ]
     },
     "metadata": {},
     "output_type": "display_data"
    },
    {
     "data": {
      "application/vnd.jupyter.widget-view+json": {
       "model_id": "ca47e58ce5dd4ff9908c8642009ed737",
       "version_major": 2,
       "version_minor": 0
      },
      "text/plain": [
       "Predicting: 4317it [00:00, ?it/s]"
      ]
     },
     "metadata": {},
     "output_type": "display_data"
    },
    {
     "data": {
      "application/vnd.jupyter.widget-view+json": {
       "model_id": "9ae7d53ccfdd4a66996f2b5674fea98d",
       "version_major": 2,
       "version_minor": 0
      },
      "text/plain": [
       "Predicting: 4317it [00:00, ?it/s]"
      ]
     },
     "metadata": {},
     "output_type": "display_data"
    },
    {
     "data": {
      "application/vnd.jupyter.widget-view+json": {
       "model_id": "38e0dbd5b306463493b437f21404eda0",
       "version_major": 2,
       "version_minor": 0
      },
      "text/plain": [
       "Predicting: 4317it [00:00, ?it/s]"
      ]
     },
     "metadata": {},
     "output_type": "display_data"
    },
    {
     "data": {
      "application/vnd.jupyter.widget-view+json": {
       "model_id": "ef6e96a5c73d4d9c873f2b9321342988",
       "version_major": 2,
       "version_minor": 0
      },
      "text/plain": [
       "Predicting: 4317it [00:00, ?it/s]"
      ]
     },
     "metadata": {},
     "output_type": "display_data"
    },
    {
     "data": {
      "application/vnd.jupyter.widget-view+json": {
       "model_id": "d55bfdcbb4914af1a15bbbf06213d0f6",
       "version_major": 2,
       "version_minor": 0
      },
      "text/plain": [
       "Predicting: 4317it [00:00, ?it/s]"
      ]
     },
     "metadata": {},
     "output_type": "display_data"
    },
    {
     "data": {
      "application/vnd.jupyter.widget-view+json": {
       "model_id": "1c9015df8b764ce895c6ec277c32c130",
       "version_major": 2,
       "version_minor": 0
      },
      "text/plain": [
       "Predicting: 4317it [00:00, ?it/s]"
      ]
     },
     "metadata": {},
     "output_type": "display_data"
    },
    {
     "data": {
      "application/vnd.jupyter.widget-view+json": {
       "model_id": "3b36e4daa57f4dc8b62cd788a9d30f70",
       "version_major": 2,
       "version_minor": 0
      },
      "text/plain": [
       "Predicting: 4317it [00:00, ?it/s]"
      ]
     },
     "metadata": {},
     "output_type": "display_data"
    },
    {
     "data": {
      "application/vnd.jupyter.widget-view+json": {
       "model_id": "20094e4903704a1badb3a48472981dad",
       "version_major": 2,
       "version_minor": 0
      },
      "text/plain": [
       "Predicting: 4317it [00:00, ?it/s]"
      ]
     },
     "metadata": {},
     "output_type": "display_data"
    },
    {
     "data": {
      "application/vnd.jupyter.widget-view+json": {
       "model_id": "de5e9a55e3614d17a1035f25fb37f6bf",
       "version_major": 2,
       "version_minor": 0
      },
      "text/plain": [
       "Predicting: 4317it [00:00, ?it/s]"
      ]
     },
     "metadata": {},
     "output_type": "display_data"
    },
    {
     "data": {
      "application/vnd.jupyter.widget-view+json": {
       "model_id": "fab5e6d33f7c4d808a22e90956251a7c",
       "version_major": 2,
       "version_minor": 0
      },
      "text/plain": [
       "Predicting: 4317it [00:00, ?it/s]"
      ]
     },
     "metadata": {},
     "output_type": "display_data"
    },
    {
     "data": {
      "application/vnd.jupyter.widget-view+json": {
       "model_id": "cb2feaced78c4889bb5c50f7918f2a92",
       "version_major": 2,
       "version_minor": 0
      },
      "text/plain": [
       "Predicting: 4317it [00:00, ?it/s]"
      ]
     },
     "metadata": {},
     "output_type": "display_data"
    },
    {
     "data": {
      "application/vnd.jupyter.widget-view+json": {
       "model_id": "bb24781972164377a0b22270ab521393",
       "version_major": 2,
       "version_minor": 0
      },
      "text/plain": [
       "Predicting: 4317it [00:00, ?it/s]"
      ]
     },
     "metadata": {},
     "output_type": "display_data"
    },
    {
     "data": {
      "application/vnd.jupyter.widget-view+json": {
       "model_id": "bb5bfa5eef24441f94bf1baf9867a853",
       "version_major": 2,
       "version_minor": 0
      },
      "text/plain": [
       "Predicting: 4317it [00:00, ?it/s]"
      ]
     },
     "metadata": {},
     "output_type": "display_data"
    },
    {
     "data": {
      "application/vnd.jupyter.widget-view+json": {
       "model_id": "016019b895fc4ef5be68d46305956273",
       "version_major": 2,
       "version_minor": 0
      },
      "text/plain": [
       "Predicting: 4317it [00:00, ?it/s]"
      ]
     },
     "metadata": {},
     "output_type": "display_data"
    },
    {
     "data": {
      "application/vnd.jupyter.widget-view+json": {
       "model_id": "c6a8b2ce11eb46a0845674defcba6cc0",
       "version_major": 2,
       "version_minor": 0
      },
      "text/plain": [
       "Predicting: 4317it [00:00, ?it/s]"
      ]
     },
     "metadata": {},
     "output_type": "display_data"
    },
    {
     "data": {
      "application/vnd.jupyter.widget-view+json": {
       "model_id": "12827e8162e048339210ba6702b0215a",
       "version_major": 2,
       "version_minor": 0
      },
      "text/plain": [
       "Predicting: 4317it [00:00, ?it/s]"
      ]
     },
     "metadata": {},
     "output_type": "display_data"
    },
    {
     "data": {
      "application/vnd.jupyter.widget-view+json": {
       "model_id": "94272c8ce8674230baadb9935cc81002",
       "version_major": 2,
       "version_minor": 0
      },
      "text/plain": [
       "Predicting: 4317it [00:00, ?it/s]"
      ]
     },
     "metadata": {},
     "output_type": "display_data"
    },
    {
     "data": {
      "application/vnd.jupyter.widget-view+json": {
       "model_id": "30613989384949dbbdbdf69c8054b425",
       "version_major": 2,
       "version_minor": 0
      },
      "text/plain": [
       "Predicting: 4317it [00:00, ?it/s]"
      ]
     },
     "metadata": {},
     "output_type": "display_data"
    },
    {
     "data": {
      "application/vnd.jupyter.widget-view+json": {
       "model_id": "9e269441765740c5b804592a2a52c6fb",
       "version_major": 2,
       "version_minor": 0
      },
      "text/plain": [
       "Predicting: 4317it [00:00, ?it/s]"
      ]
     },
     "metadata": {},
     "output_type": "display_data"
    },
    {
     "data": {
      "application/vnd.jupyter.widget-view+json": {
       "model_id": "996d278cb0f341d2bb0dbe418479daa5",
       "version_major": 2,
       "version_minor": 0
      },
      "text/plain": [
       "Predicting: 4317it [00:00, ?it/s]"
      ]
     },
     "metadata": {},
     "output_type": "display_data"
    },
    {
     "data": {
      "application/vnd.jupyter.widget-view+json": {
       "model_id": "90da3722e18d427498fa64e5f01ad3ce",
       "version_major": 2,
       "version_minor": 0
      },
      "text/plain": [
       "Predicting: 4317it [00:00, ?it/s]"
      ]
     },
     "metadata": {},
     "output_type": "display_data"
    },
    {
     "data": {
      "application/vnd.jupyter.widget-view+json": {
       "model_id": "35da48222b6b439092f46829d0aefcaa",
       "version_major": 2,
       "version_minor": 0
      },
      "text/plain": [
       "Predicting: 4317it [00:00, ?it/s]"
      ]
     },
     "metadata": {},
     "output_type": "display_data"
    },
    {
     "data": {
      "application/vnd.jupyter.widget-view+json": {
       "model_id": "ebcf003afc0c410e822353ca139c2c17",
       "version_major": 2,
       "version_minor": 0
      },
      "text/plain": [
       "Predicting: 4317it [00:00, ?it/s]"
      ]
     },
     "metadata": {},
     "output_type": "display_data"
    },
    {
     "data": {
      "application/vnd.jupyter.widget-view+json": {
       "model_id": "d77cda1b433e450e8b2707d9f747d14f",
       "version_major": 2,
       "version_minor": 0
      },
      "text/plain": [
       "Predicting: 4317it [00:00, ?it/s]"
      ]
     },
     "metadata": {},
     "output_type": "display_data"
    },
    {
     "data": {
      "application/vnd.jupyter.widget-view+json": {
       "model_id": "b76ee65be6974f36b20ab63e05b3fe48",
       "version_major": 2,
       "version_minor": 0
      },
      "text/plain": [
       "Predicting: 4317it [00:00, ?it/s]"
      ]
     },
     "metadata": {},
     "output_type": "display_data"
    },
    {
     "data": {
      "application/vnd.jupyter.widget-view+json": {
       "model_id": "cbbb014320af4b12bf511679ed4a900d",
       "version_major": 2,
       "version_minor": 0
      },
      "text/plain": [
       "Predicting: 4317it [00:00, ?it/s]"
      ]
     },
     "metadata": {},
     "output_type": "display_data"
    },
    {
     "data": {
      "application/vnd.jupyter.widget-view+json": {
       "model_id": "c079797dfe374d90b7e384686821bc2c",
       "version_major": 2,
       "version_minor": 0
      },
      "text/plain": [
       "Predicting: 4317it [00:00, ?it/s]"
      ]
     },
     "metadata": {},
     "output_type": "display_data"
    },
    {
     "data": {
      "application/vnd.jupyter.widget-view+json": {
       "model_id": "bca1d30dffdf4383945074cf6e671dac",
       "version_major": 2,
       "version_minor": 0
      },
      "text/plain": [
       "Predicting: 4317it [00:00, ?it/s]"
      ]
     },
     "metadata": {},
     "output_type": "display_data"
    },
    {
     "data": {
      "application/vnd.jupyter.widget-view+json": {
       "model_id": "98aac15318ec434f8b89ebcfe8280a42",
       "version_major": 2,
       "version_minor": 0
      },
      "text/plain": [
       "Predicting: 4317it [00:00, ?it/s]"
      ]
     },
     "metadata": {},
     "output_type": "display_data"
    },
    {
     "data": {
      "application/vnd.jupyter.widget-view+json": {
       "model_id": "9979a0d512fd4d2cbebb1509fbcf4157",
       "version_major": 2,
       "version_minor": 0
      },
      "text/plain": [
       "Predicting: 4317it [00:00, ?it/s]"
      ]
     },
     "metadata": {},
     "output_type": "display_data"
    },
    {
     "data": {
      "application/vnd.jupyter.widget-view+json": {
       "model_id": "609a5dacc4e94c2bb54d81803baa5cab",
       "version_major": 2,
       "version_minor": 0
      },
      "text/plain": [
       "Predicting: 4317it [00:00, ?it/s]"
      ]
     },
     "metadata": {},
     "output_type": "display_data"
    },
    {
     "data": {
      "application/vnd.jupyter.widget-view+json": {
       "model_id": "134ff92158eb41b7a6cd5acab6cf8abd",
       "version_major": 2,
       "version_minor": 0
      },
      "text/plain": [
       "Predicting: 4317it [00:00, ?it/s]"
      ]
     },
     "metadata": {},
     "output_type": "display_data"
    },
    {
     "data": {
      "application/vnd.jupyter.widget-view+json": {
       "model_id": "48af0b49495648a981f6e92ddad3fd9d",
       "version_major": 2,
       "version_minor": 0
      },
      "text/plain": [
       "Predicting: 4317it [00:00, ?it/s]"
      ]
     },
     "metadata": {},
     "output_type": "display_data"
    },
    {
     "data": {
      "application/vnd.jupyter.widget-view+json": {
       "model_id": "3f4cbe3d2bfa45ebad1cd50af1505b9e",
       "version_major": 2,
       "version_minor": 0
      },
      "text/plain": [
       "Predicting: 4317it [00:00, ?it/s]"
      ]
     },
     "metadata": {},
     "output_type": "display_data"
    },
    {
     "data": {
      "application/vnd.jupyter.widget-view+json": {
       "model_id": "943d7a8c23bb4c6eba1f1724e4bddec8",
       "version_major": 2,
       "version_minor": 0
      },
      "text/plain": [
       "Predicting: 4317it [00:00, ?it/s]"
      ]
     },
     "metadata": {},
     "output_type": "display_data"
    },
    {
     "data": {
      "application/vnd.jupyter.widget-view+json": {
       "model_id": "53dc55254f2340f8ad6152ea0b972954",
       "version_major": 2,
       "version_minor": 0
      },
      "text/plain": [
       "Predicting: 4317it [00:00, ?it/s]"
      ]
     },
     "metadata": {},
     "output_type": "display_data"
    },
    {
     "data": {
      "application/vnd.jupyter.widget-view+json": {
       "model_id": "d0004df23c4d4ab883aa67a51e15a100",
       "version_major": 2,
       "version_minor": 0
      },
      "text/plain": [
       "Predicting: 4317it [00:00, ?it/s]"
      ]
     },
     "metadata": {},
     "output_type": "display_data"
    },
    {
     "data": {
      "application/vnd.jupyter.widget-view+json": {
       "model_id": "e53c9297f8eb4c2d8338439776602312",
       "version_major": 2,
       "version_minor": 0
      },
      "text/plain": [
       "Predicting: 4317it [00:00, ?it/s]"
      ]
     },
     "metadata": {},
     "output_type": "display_data"
    },
    {
     "data": {
      "application/vnd.jupyter.widget-view+json": {
       "model_id": "7ebc2dcf37a348a199ae35c480f7f375",
       "version_major": 2,
       "version_minor": 0
      },
      "text/plain": [
       "Predicting: 4317it [00:00, ?it/s]"
      ]
     },
     "metadata": {},
     "output_type": "display_data"
    },
    {
     "data": {
      "application/vnd.jupyter.widget-view+json": {
       "model_id": "95c75268ca8644eb9b997f96bec42ccd",
       "version_major": 2,
       "version_minor": 0
      },
      "text/plain": [
       "Predicting: 4317it [00:00, ?it/s]"
      ]
     },
     "metadata": {},
     "output_type": "display_data"
    },
    {
     "data": {
      "application/vnd.jupyter.widget-view+json": {
       "model_id": "af8f18f4cf9b4d7f87de98eaa773c444",
       "version_major": 2,
       "version_minor": 0
      },
      "text/plain": [
       "Predicting: 4317it [00:00, ?it/s]"
      ]
     },
     "metadata": {},
     "output_type": "display_data"
    },
    {
     "data": {
      "application/vnd.jupyter.widget-view+json": {
       "model_id": "ad2d734436234087a83968a6ad0a9734",
       "version_major": 2,
       "version_minor": 0
      },
      "text/plain": [
       "Predicting: 4317it [00:00, ?it/s]"
      ]
     },
     "metadata": {},
     "output_type": "display_data"
    },
    {
     "data": {
      "application/vnd.jupyter.widget-view+json": {
       "model_id": "b6510a9321434690a19b11a304ecb68b",
       "version_major": 2,
       "version_minor": 0
      },
      "text/plain": [
       "Predicting: 4317it [00:00, ?it/s]"
      ]
     },
     "metadata": {},
     "output_type": "display_data"
    },
    {
     "data": {
      "application/vnd.jupyter.widget-view+json": {
       "model_id": "1be0528c3f2d4c22857d093a2883d769",
       "version_major": 2,
       "version_minor": 0
      },
      "text/plain": [
       "Predicting: 4317it [00:00, ?it/s]"
      ]
     },
     "metadata": {},
     "output_type": "display_data"
    },
    {
     "data": {
      "application/vnd.jupyter.widget-view+json": {
       "model_id": "38bebc085af1455aa9dcf31efddac220",
       "version_major": 2,
       "version_minor": 0
      },
      "text/plain": [
       "Predicting: 4317it [00:00, ?it/s]"
      ]
     },
     "metadata": {},
     "output_type": "display_data"
    },
    {
     "data": {
      "application/vnd.jupyter.widget-view+json": {
       "model_id": "73ab8f1cf84047d9947f1ba814a9141a",
       "version_major": 2,
       "version_minor": 0
      },
      "text/plain": [
       "Predicting: 4317it [00:00, ?it/s]"
      ]
     },
     "metadata": {},
     "output_type": "display_data"
    },
    {
     "data": {
      "application/vnd.jupyter.widget-view+json": {
       "model_id": "7aff72b256a248f0870e1015cbb494a4",
       "version_major": 2,
       "version_minor": 0
      },
      "text/plain": [
       "Predicting: 4317it [00:00, ?it/s]"
      ]
     },
     "metadata": {},
     "output_type": "display_data"
    },
    {
     "data": {
      "application/vnd.jupyter.widget-view+json": {
       "model_id": "fd4b4093db1f47f8893b2b0a5072ba3a",
       "version_major": 2,
       "version_minor": 0
      },
      "text/plain": [
       "Predicting: 4317it [00:00, ?it/s]"
      ]
     },
     "metadata": {},
     "output_type": "display_data"
    },
    {
     "data": {
      "application/vnd.jupyter.widget-view+json": {
       "model_id": "f44875913c9b4e57ad2bde9915d78d0b",
       "version_major": 2,
       "version_minor": 0
      },
      "text/plain": [
       "Predicting: 4317it [00:00, ?it/s]"
      ]
     },
     "metadata": {},
     "output_type": "display_data"
    },
    {
     "data": {
      "application/vnd.jupyter.widget-view+json": {
       "model_id": "4cd8a578593a48539144da3976bb55f1",
       "version_major": 2,
       "version_minor": 0
      },
      "text/plain": [
       "Predicting: 4317it [00:00, ?it/s]"
      ]
     },
     "metadata": {},
     "output_type": "display_data"
    },
    {
     "data": {
      "application/vnd.jupyter.widget-view+json": {
       "model_id": "cddc5b8ca8284580a007cd056f94613b",
       "version_major": 2,
       "version_minor": 0
      },
      "text/plain": [
       "Predicting: 4317it [00:00, ?it/s]"
      ]
     },
     "metadata": {},
     "output_type": "display_data"
    },
    {
     "data": {
      "application/vnd.jupyter.widget-view+json": {
       "model_id": "57e4598b648d4548b1bf6f1906576426",
       "version_major": 2,
       "version_minor": 0
      },
      "text/plain": [
       "Predicting: 4317it [00:00, ?it/s]"
      ]
     },
     "metadata": {},
     "output_type": "display_data"
    },
    {
     "data": {
      "application/vnd.jupyter.widget-view+json": {
       "model_id": "d8051db9f720458f8e4ae31191bca435",
       "version_major": 2,
       "version_minor": 0
      },
      "text/plain": [
       "Predicting: 4317it [00:00, ?it/s]"
      ]
     },
     "metadata": {},
     "output_type": "display_data"
    },
    {
     "data": {
      "application/vnd.jupyter.widget-view+json": {
       "model_id": "4c9e45e87d0a419aba750706f5c1bf1b",
       "version_major": 2,
       "version_minor": 0
      },
      "text/plain": [
       "Predicting: 4317it [00:00, ?it/s]"
      ]
     },
     "metadata": {},
     "output_type": "display_data"
    },
    {
     "data": {
      "application/vnd.jupyter.widget-view+json": {
       "model_id": "e1edd0d4543947a2a76c5a19745ae1f0",
       "version_major": 2,
       "version_minor": 0
      },
      "text/plain": [
       "Predicting: 4317it [00:00, ?it/s]"
      ]
     },
     "metadata": {},
     "output_type": "display_data"
    },
    {
     "data": {
      "application/vnd.jupyter.widget-view+json": {
       "model_id": "31ad53a4712d40edb222e37151284646",
       "version_major": 2,
       "version_minor": 0
      },
      "text/plain": [
       "Predicting: 4317it [00:00, ?it/s]"
      ]
     },
     "metadata": {},
     "output_type": "display_data"
    },
    {
     "data": {
      "application/vnd.jupyter.widget-view+json": {
       "model_id": "ffee295cfe944403b37b586a9b601a2e",
       "version_major": 2,
       "version_minor": 0
      },
      "text/plain": [
       "Predicting: 4317it [00:00, ?it/s]"
      ]
     },
     "metadata": {},
     "output_type": "display_data"
    },
    {
     "data": {
      "application/vnd.jupyter.widget-view+json": {
       "model_id": "103eac3aca624f7982c4f554c8c1e918",
       "version_major": 2,
       "version_minor": 0
      },
      "text/plain": [
       "Predicting: 4317it [00:00, ?it/s]"
      ]
     },
     "metadata": {},
     "output_type": "display_data"
    },
    {
     "data": {
      "application/vnd.jupyter.widget-view+json": {
       "model_id": "0d6f93c05227404d81e449f4a03f4b34",
       "version_major": 2,
       "version_minor": 0
      },
      "text/plain": [
       "Predicting: 4317it [00:00, ?it/s]"
      ]
     },
     "metadata": {},
     "output_type": "display_data"
    },
    {
     "data": {
      "application/vnd.jupyter.widget-view+json": {
       "model_id": "8318731cfb784827b18e77a58aba942b",
       "version_major": 2,
       "version_minor": 0
      },
      "text/plain": [
       "Predicting: 4317it [00:00, ?it/s]"
      ]
     },
     "metadata": {},
     "output_type": "display_data"
    },
    {
     "data": {
      "application/vnd.jupyter.widget-view+json": {
       "model_id": "02d1189e5cab4da586cbe79ff364bd1d",
       "version_major": 2,
       "version_minor": 0
      },
      "text/plain": [
       "Predicting: 4317it [00:00, ?it/s]"
      ]
     },
     "metadata": {},
     "output_type": "display_data"
    },
    {
     "data": {
      "application/vnd.jupyter.widget-view+json": {
       "model_id": "62d6d4e6ac2045bdbeed650d09437cd4",
       "version_major": 2,
       "version_minor": 0
      },
      "text/plain": [
       "Predicting: 4317it [00:00, ?it/s]"
      ]
     },
     "metadata": {},
     "output_type": "display_data"
    },
    {
     "data": {
      "application/vnd.jupyter.widget-view+json": {
       "model_id": "cbd590004ed245cdb386398f0b70bd2f",
       "version_major": 2,
       "version_minor": 0
      },
      "text/plain": [
       "Predicting: 4317it [00:00, ?it/s]"
      ]
     },
     "metadata": {},
     "output_type": "display_data"
    },
    {
     "data": {
      "application/vnd.jupyter.widget-view+json": {
       "model_id": "b8a03489d0ca483594a6c593c5f81e2a",
       "version_major": 2,
       "version_minor": 0
      },
      "text/plain": [
       "Predicting: 4317it [00:00, ?it/s]"
      ]
     },
     "metadata": {},
     "output_type": "display_data"
    },
    {
     "data": {
      "application/vnd.jupyter.widget-view+json": {
       "model_id": "0486986c5cde45a08843c153ee071bf4",
       "version_major": 2,
       "version_minor": 0
      },
      "text/plain": [
       "Predicting: 4317it [00:00, ?it/s]"
      ]
     },
     "metadata": {},
     "output_type": "display_data"
    },
    {
     "data": {
      "application/vnd.jupyter.widget-view+json": {
       "model_id": "324530d69fc14945a886238757528b4c",
       "version_major": 2,
       "version_minor": 0
      },
      "text/plain": [
       "Predicting: 4317it [00:00, ?it/s]"
      ]
     },
     "metadata": {},
     "output_type": "display_data"
    },
    {
     "data": {
      "application/vnd.jupyter.widget-view+json": {
       "model_id": "371fff64896e4bd8a267b8cf5eab47fc",
       "version_major": 2,
       "version_minor": 0
      },
      "text/plain": [
       "Predicting: 4317it [00:00, ?it/s]"
      ]
     },
     "metadata": {},
     "output_type": "display_data"
    },
    {
     "data": {
      "application/vnd.jupyter.widget-view+json": {
       "model_id": "6b5c331bf5db4676abcf36e378a9ce50",
       "version_major": 2,
       "version_minor": 0
      },
      "text/plain": [
       "Predicting: 4317it [00:00, ?it/s]"
      ]
     },
     "metadata": {},
     "output_type": "display_data"
    },
    {
     "data": {
      "application/vnd.jupyter.widget-view+json": {
       "model_id": "06d006b45976462e92261e3f5d29088e",
       "version_major": 2,
       "version_minor": 0
      },
      "text/plain": [
       "Predicting: 4317it [00:00, ?it/s]"
      ]
     },
     "metadata": {},
     "output_type": "display_data"
    },
    {
     "data": {
      "application/vnd.jupyter.widget-view+json": {
       "model_id": "0baa7e913d0447ef90f19b135dc084bb",
       "version_major": 2,
       "version_minor": 0
      },
      "text/plain": [
       "Predicting: 4317it [00:00, ?it/s]"
      ]
     },
     "metadata": {},
     "output_type": "display_data"
    },
    {
     "data": {
      "application/vnd.jupyter.widget-view+json": {
       "model_id": "7f8fc44f1ac8436ea7224a1e3f94175b",
       "version_major": 2,
       "version_minor": 0
      },
      "text/plain": [
       "Predicting: 4317it [00:00, ?it/s]"
      ]
     },
     "metadata": {},
     "output_type": "display_data"
    },
    {
     "data": {
      "application/vnd.jupyter.widget-view+json": {
       "model_id": "cfaa6214ec1b4fe9840fa6930e6f8d56",
       "version_major": 2,
       "version_minor": 0
      },
      "text/plain": [
       "Predicting: 4317it [00:00, ?it/s]"
      ]
     },
     "metadata": {},
     "output_type": "display_data"
    },
    {
     "data": {
      "application/vnd.jupyter.widget-view+json": {
       "model_id": "d8bb184b92884e23b0143666b938d806",
       "version_major": 2,
       "version_minor": 0
      },
      "text/plain": [
       "Predicting: 4317it [00:00, ?it/s]"
      ]
     },
     "metadata": {},
     "output_type": "display_data"
    },
    {
     "data": {
      "application/vnd.jupyter.widget-view+json": {
       "model_id": "49a5e5cb7ff0464f8d7e54c909d24763",
       "version_major": 2,
       "version_minor": 0
      },
      "text/plain": [
       "Predicting: 4317it [00:00, ?it/s]"
      ]
     },
     "metadata": {},
     "output_type": "display_data"
    },
    {
     "data": {
      "application/vnd.jupyter.widget-view+json": {
       "model_id": "c425cee3a5904f6191a04d6d6ed26858",
       "version_major": 2,
       "version_minor": 0
      },
      "text/plain": [
       "Predicting: 4317it [00:00, ?it/s]"
      ]
     },
     "metadata": {},
     "output_type": "display_data"
    },
    {
     "data": {
      "application/vnd.jupyter.widget-view+json": {
       "model_id": "847bf867a9544389afbe2db4f49d3e59",
       "version_major": 2,
       "version_minor": 0
      },
      "text/plain": [
       "Predicting: 4317it [00:00, ?it/s]"
      ]
     },
     "metadata": {},
     "output_type": "display_data"
    },
    {
     "data": {
      "application/vnd.jupyter.widget-view+json": {
       "model_id": "c789d39c8e014998a9c7de425e737fc1",
       "version_major": 2,
       "version_minor": 0
      },
      "text/plain": [
       "Predicting: 4317it [00:00, ?it/s]"
      ]
     },
     "metadata": {},
     "output_type": "display_data"
    },
    {
     "data": {
      "application/vnd.jupyter.widget-view+json": {
       "model_id": "eaea5fa85a414ea88bcad066b3e9ddd5",
       "version_major": 2,
       "version_minor": 0
      },
      "text/plain": [
       "Predicting: 4317it [00:00, ?it/s]"
      ]
     },
     "metadata": {},
     "output_type": "display_data"
    },
    {
     "data": {
      "application/vnd.jupyter.widget-view+json": {
       "model_id": "4ec77d693f714a8d859fd5f8aed42ec6",
       "version_major": 2,
       "version_minor": 0
      },
      "text/plain": [
       "Predicting: 4317it [00:00, ?it/s]"
      ]
     },
     "metadata": {},
     "output_type": "display_data"
    },
    {
     "data": {
      "application/vnd.jupyter.widget-view+json": {
       "model_id": "4be7c775e41f4ecbac7e5830437615b0",
       "version_major": 2,
       "version_minor": 0
      },
      "text/plain": [
       "Predicting: 4317it [00:00, ?it/s]"
      ]
     },
     "metadata": {},
     "output_type": "display_data"
    },
    {
     "data": {
      "application/vnd.jupyter.widget-view+json": {
       "model_id": "a1705b1c35de4f7eb66f48dd80eedb48",
       "version_major": 2,
       "version_minor": 0
      },
      "text/plain": [
       "Predicting: 4317it [00:00, ?it/s]"
      ]
     },
     "metadata": {},
     "output_type": "display_data"
    },
    {
     "data": {
      "application/vnd.jupyter.widget-view+json": {
       "model_id": "678fc55fde2a4c2fb5a67481d307d720",
       "version_major": 2,
       "version_minor": 0
      },
      "text/plain": [
       "Predicting: 4317it [00:00, ?it/s]"
      ]
     },
     "metadata": {},
     "output_type": "display_data"
    },
    {
     "data": {
      "application/vnd.jupyter.widget-view+json": {
       "model_id": "b26c6ef08fca48e19f8cd0a466e9af67",
       "version_major": 2,
       "version_minor": 0
      },
      "text/plain": [
       "Predicting: 4317it [00:00, ?it/s]"
      ]
     },
     "metadata": {},
     "output_type": "display_data"
    },
    {
     "data": {
      "application/vnd.jupyter.widget-view+json": {
       "model_id": "7a871ee2f7d84c9dbd94183d2c0a74f3",
       "version_major": 2,
       "version_minor": 0
      },
      "text/plain": [
       "Predicting: 4317it [00:00, ?it/s]"
      ]
     },
     "metadata": {},
     "output_type": "display_data"
    },
    {
     "data": {
      "application/vnd.jupyter.widget-view+json": {
       "model_id": "c1598d300ee644d49c6b4609f5ff11e2",
       "version_major": 2,
       "version_minor": 0
      },
      "text/plain": [
       "Predicting: 4317it [00:00, ?it/s]"
      ]
     },
     "metadata": {},
     "output_type": "display_data"
    },
    {
     "data": {
      "application/vnd.jupyter.widget-view+json": {
       "model_id": "be5de6233442492082d2babd3cf5fb1c",
       "version_major": 2,
       "version_minor": 0
      },
      "text/plain": [
       "Predicting: 4317it [00:00, ?it/s]"
      ]
     },
     "metadata": {},
     "output_type": "display_data"
    },
    {
     "data": {
      "application/vnd.jupyter.widget-view+json": {
       "model_id": "1cf31666e8d64d0ea2c490dc58dec065",
       "version_major": 2,
       "version_minor": 0
      },
      "text/plain": [
       "Predicting: 4317it [00:00, ?it/s]"
      ]
     },
     "metadata": {},
     "output_type": "display_data"
    },
    {
     "data": {
      "application/vnd.jupyter.widget-view+json": {
       "model_id": "1992187cf0284afd845a0107e5255b6f",
       "version_major": 2,
       "version_minor": 0
      },
      "text/plain": [
       "Predicting: 4317it [00:00, ?it/s]"
      ]
     },
     "metadata": {},
     "output_type": "display_data"
    },
    {
     "data": {
      "application/vnd.jupyter.widget-view+json": {
       "model_id": "498ecf3df2a7438088a43e0838e08ec1",
       "version_major": 2,
       "version_minor": 0
      },
      "text/plain": [
       "Predicting: 4317it [00:00, ?it/s]"
      ]
     },
     "metadata": {},
     "output_type": "display_data"
    },
    {
     "data": {
      "application/vnd.jupyter.widget-view+json": {
       "model_id": "0c9669dfed424722b8b3aff487142616",
       "version_major": 2,
       "version_minor": 0
      },
      "text/plain": [
       "Predicting: 4317it [00:00, ?it/s]"
      ]
     },
     "metadata": {},
     "output_type": "display_data"
    },
    {
     "data": {
      "application/vnd.jupyter.widget-view+json": {
       "model_id": "2b7495f75a3f49039acc7a52d99e9859",
       "version_major": 2,
       "version_minor": 0
      },
      "text/plain": [
       "Predicting: 4317it [00:00, ?it/s]"
      ]
     },
     "metadata": {},
     "output_type": "display_data"
    },
    {
     "data": {
      "application/vnd.jupyter.widget-view+json": {
       "model_id": "9b050d5cb66443cdb926597948259401",
       "version_major": 2,
       "version_minor": 0
      },
      "text/plain": [
       "Predicting: 4317it [00:00, ?it/s]"
      ]
     },
     "metadata": {},
     "output_type": "display_data"
    },
    {
     "data": {
      "application/vnd.jupyter.widget-view+json": {
       "model_id": "1826d94516284947be40ec44e81d51ea",
       "version_major": 2,
       "version_minor": 0
      },
      "text/plain": [
       "Predicting: 4317it [00:00, ?it/s]"
      ]
     },
     "metadata": {},
     "output_type": "display_data"
    },
    {
     "data": {
      "application/vnd.jupyter.widget-view+json": {
       "model_id": "478644a02b144aa3980e37825aded688",
       "version_major": 2,
       "version_minor": 0
      },
      "text/plain": [
       "Predicting: 4317it [00:00, ?it/s]"
      ]
     },
     "metadata": {},
     "output_type": "display_data"
    },
    {
     "data": {
      "application/vnd.jupyter.widget-view+json": {
       "model_id": "9d46b9841dfc4e35b1051f9effa9866f",
       "version_major": 2,
       "version_minor": 0
      },
      "text/plain": [
       "Predicting: 4317it [00:00, ?it/s]"
      ]
     },
     "metadata": {},
     "output_type": "display_data"
    },
    {
     "data": {
      "application/vnd.jupyter.widget-view+json": {
       "model_id": "738b4402e16d404bb23508890e3bde97",
       "version_major": 2,
       "version_minor": 0
      },
      "text/plain": [
       "Predicting: 4317it [00:00, ?it/s]"
      ]
     },
     "metadata": {},
     "output_type": "display_data"
    },
    {
     "data": {
      "application/vnd.jupyter.widget-view+json": {
       "model_id": "198a0b9769704632ba78b326f2322f1e",
       "version_major": 2,
       "version_minor": 0
      },
      "text/plain": [
       "Predicting: 4317it [00:00, ?it/s]"
      ]
     },
     "metadata": {},
     "output_type": "display_data"
    },
    {
     "data": {
      "application/vnd.jupyter.widget-view+json": {
       "model_id": "ee54695b8d9941968e67b4b44fb5dd28",
       "version_major": 2,
       "version_minor": 0
      },
      "text/plain": [
       "Predicting: 4317it [00:00, ?it/s]"
      ]
     },
     "metadata": {},
     "output_type": "display_data"
    },
    {
     "data": {
      "application/vnd.jupyter.widget-view+json": {
       "model_id": "521a62cac27549588046667bd5afba29",
       "version_major": 2,
       "version_minor": 0
      },
      "text/plain": [
       "Predicting: 4317it [00:00, ?it/s]"
      ]
     },
     "metadata": {},
     "output_type": "display_data"
    },
    {
     "data": {
      "application/vnd.jupyter.widget-view+json": {
       "model_id": "fd1fff5ce40b40c7b6a0bec465f48435",
       "version_major": 2,
       "version_minor": 0
      },
      "text/plain": [
       "Predicting: 4317it [00:00, ?it/s]"
      ]
     },
     "metadata": {},
     "output_type": "display_data"
    },
    {
     "data": {
      "application/vnd.jupyter.widget-view+json": {
       "model_id": "7c81d9f731104c0eb0d79dfa74dd4ca3",
       "version_major": 2,
       "version_minor": 0
      },
      "text/plain": [
       "Predicting: 4317it [00:00, ?it/s]"
      ]
     },
     "metadata": {},
     "output_type": "display_data"
    }
   ],
   "source": [
    "hist_for = model.historical_forecasts(\n",
    "    series=train_df['Close'],\n",
    "    start=0.95, #just the last 1 percent\n",
    "    forecast_horizon=7,\n",
    "    stride=5,\n",
    "    retrain=False,\n",
    "    verbose=True,\n",
    ")"
   ]
  },
  {
   "cell_type": "code",
   "execution_count": 43,
   "id": "16af0791",
   "metadata": {},
   "outputs": [],
   "source": [
    "# rescale\n",
    "# scale back:\n",
    "hist_for_scaled = scaler_target_tr.inverse_transform(hist_for)"
   ]
  },
  {
   "cell_type": "code",
   "execution_count": 45,
   "id": "9d77fce6",
   "metadata": {},
   "outputs": [
    {
     "data": {
      "text/html": [
       "<div><svg style=\"position: absolute; width: 0; height: 0; overflow: hidden\">\n",
       "<defs>\n",
       "<symbol id=\"icon-database\" viewBox=\"0 0 32 32\">\n",
       "<path d=\"M16 0c-8.837 0-16 2.239-16 5v4c0 2.761 7.163 5 16 5s16-2.239 16-5v-4c0-2.761-7.163-5-16-5z\"></path>\n",
       "<path d=\"M16 17c-8.837 0-16-2.239-16-5v6c0 2.761 7.163 5 16 5s16-2.239 16-5v-6c0 2.761-7.163 5-16 5z\"></path>\n",
       "<path d=\"M16 26c-8.837 0-16-2.239-16-5v6c0 2.761 7.163 5 16 5s16-2.239 16-5v-6c0 2.761-7.163 5-16 5z\"></path>\n",
       "</symbol>\n",
       "<symbol id=\"icon-file-text2\" viewBox=\"0 0 32 32\">\n",
       "<path d=\"M28.681 7.159c-0.694-0.947-1.662-2.053-2.724-3.116s-2.169-2.030-3.116-2.724c-1.612-1.182-2.393-1.319-2.841-1.319h-15.5c-1.378 0-2.5 1.121-2.5 2.5v27c0 1.378 1.122 2.5 2.5 2.5h23c1.378 0 2.5-1.122 2.5-2.5v-19.5c0-0.448-0.137-1.23-1.319-2.841zM24.543 5.457c0.959 0.959 1.712 1.825 2.268 2.543h-4.811v-4.811c0.718 0.556 1.584 1.309 2.543 2.268zM28 29.5c0 0.271-0.229 0.5-0.5 0.5h-23c-0.271 0-0.5-0.229-0.5-0.5v-27c0-0.271 0.229-0.5 0.5-0.5 0 0 15.499-0 15.5 0v7c0 0.552 0.448 1 1 1h7v19.5z\"></path>\n",
       "<path d=\"M23 26h-14c-0.552 0-1-0.448-1-1s0.448-1 1-1h14c0.552 0 1 0.448 1 1s-0.448 1-1 1z\"></path>\n",
       "<path d=\"M23 22h-14c-0.552 0-1-0.448-1-1s0.448-1 1-1h14c0.552 0 1 0.448 1 1s-0.448 1-1 1z\"></path>\n",
       "<path d=\"M23 18h-14c-0.552 0-1-0.448-1-1s0.448-1 1-1h14c0.552 0 1 0.448 1 1s-0.448 1-1 1z\"></path>\n",
       "</symbol>\n",
       "</defs>\n",
       "</svg>\n",
       "<style>/* CSS stylesheet for displaying xarray objects in jupyterlab.\n",
       " *\n",
       " */\n",
       "\n",
       ":root {\n",
       "  --xr-font-color0: var(--jp-content-font-color0, rgba(0, 0, 0, 1));\n",
       "  --xr-font-color2: var(--jp-content-font-color2, rgba(0, 0, 0, 0.54));\n",
       "  --xr-font-color3: var(--jp-content-font-color3, rgba(0, 0, 0, 0.38));\n",
       "  --xr-border-color: var(--jp-border-color2, #e0e0e0);\n",
       "  --xr-disabled-color: var(--jp-layout-color3, #bdbdbd);\n",
       "  --xr-background-color: var(--jp-layout-color0, white);\n",
       "  --xr-background-color-row-even: var(--jp-layout-color1, white);\n",
       "  --xr-background-color-row-odd: var(--jp-layout-color2, #eeeeee);\n",
       "}\n",
       "\n",
       "html[theme=dark],\n",
       "body.vscode-dark {\n",
       "  --xr-font-color0: rgba(255, 255, 255, 1);\n",
       "  --xr-font-color2: rgba(255, 255, 255, 0.54);\n",
       "  --xr-font-color3: rgba(255, 255, 255, 0.38);\n",
       "  --xr-border-color: #1F1F1F;\n",
       "  --xr-disabled-color: #515151;\n",
       "  --xr-background-color: #111111;\n",
       "  --xr-background-color-row-even: #111111;\n",
       "  --xr-background-color-row-odd: #313131;\n",
       "}\n",
       "\n",
       ".xr-wrap {\n",
       "  display: block !important;\n",
       "  min-width: 300px;\n",
       "  max-width: 700px;\n",
       "}\n",
       "\n",
       ".xr-text-repr-fallback {\n",
       "  /* fallback to plain text repr when CSS is not injected (untrusted notebook) */\n",
       "  display: none;\n",
       "}\n",
       "\n",
       ".xr-header {\n",
       "  padding-top: 6px;\n",
       "  padding-bottom: 6px;\n",
       "  margin-bottom: 4px;\n",
       "  border-bottom: solid 1px var(--xr-border-color);\n",
       "}\n",
       "\n",
       ".xr-header > div,\n",
       ".xr-header > ul {\n",
       "  display: inline;\n",
       "  margin-top: 0;\n",
       "  margin-bottom: 0;\n",
       "}\n",
       "\n",
       ".xr-obj-type,\n",
       ".xr-array-name {\n",
       "  margin-left: 2px;\n",
       "  margin-right: 10px;\n",
       "}\n",
       "\n",
       ".xr-obj-type {\n",
       "  color: var(--xr-font-color2);\n",
       "}\n",
       "\n",
       ".xr-sections {\n",
       "  padding-left: 0 !important;\n",
       "  display: grid;\n",
       "  grid-template-columns: 150px auto auto 1fr 20px 20px;\n",
       "}\n",
       "\n",
       ".xr-section-item {\n",
       "  display: contents;\n",
       "}\n",
       "\n",
       ".xr-section-item input {\n",
       "  display: none;\n",
       "}\n",
       "\n",
       ".xr-section-item input + label {\n",
       "  color: var(--xr-disabled-color);\n",
       "}\n",
       "\n",
       ".xr-section-item input:enabled + label {\n",
       "  cursor: pointer;\n",
       "  color: var(--xr-font-color2);\n",
       "}\n",
       "\n",
       ".xr-section-item input:enabled + label:hover {\n",
       "  color: var(--xr-font-color0);\n",
       "}\n",
       "\n",
       ".xr-section-summary {\n",
       "  grid-column: 1;\n",
       "  color: var(--xr-font-color2);\n",
       "  font-weight: 500;\n",
       "}\n",
       "\n",
       ".xr-section-summary > span {\n",
       "  display: inline-block;\n",
       "  padding-left: 0.5em;\n",
       "}\n",
       "\n",
       ".xr-section-summary-in:disabled + label {\n",
       "  color: var(--xr-font-color2);\n",
       "}\n",
       "\n",
       ".xr-section-summary-in + label:before {\n",
       "  display: inline-block;\n",
       "  content: '►';\n",
       "  font-size: 11px;\n",
       "  width: 15px;\n",
       "  text-align: center;\n",
       "}\n",
       "\n",
       ".xr-section-summary-in:disabled + label:before {\n",
       "  color: var(--xr-disabled-color);\n",
       "}\n",
       "\n",
       ".xr-section-summary-in:checked + label:before {\n",
       "  content: '▼';\n",
       "}\n",
       "\n",
       ".xr-section-summary-in:checked + label > span {\n",
       "  display: none;\n",
       "}\n",
       "\n",
       ".xr-section-summary,\n",
       ".xr-section-inline-details {\n",
       "  padding-top: 4px;\n",
       "  padding-bottom: 4px;\n",
       "}\n",
       "\n",
       ".xr-section-inline-details {\n",
       "  grid-column: 2 / -1;\n",
       "}\n",
       "\n",
       ".xr-section-details {\n",
       "  display: none;\n",
       "  grid-column: 1 / -1;\n",
       "  margin-bottom: 5px;\n",
       "}\n",
       "\n",
       ".xr-section-summary-in:checked ~ .xr-section-details {\n",
       "  display: contents;\n",
       "}\n",
       "\n",
       ".xr-array-wrap {\n",
       "  grid-column: 1 / -1;\n",
       "  display: grid;\n",
       "  grid-template-columns: 20px auto;\n",
       "}\n",
       "\n",
       ".xr-array-wrap > label {\n",
       "  grid-column: 1;\n",
       "  vertical-align: top;\n",
       "}\n",
       "\n",
       ".xr-preview {\n",
       "  color: var(--xr-font-color3);\n",
       "}\n",
       "\n",
       ".xr-array-preview,\n",
       ".xr-array-data {\n",
       "  padding: 0 5px !important;\n",
       "  grid-column: 2;\n",
       "}\n",
       "\n",
       ".xr-array-data,\n",
       ".xr-array-in:checked ~ .xr-array-preview {\n",
       "  display: none;\n",
       "}\n",
       "\n",
       ".xr-array-in:checked ~ .xr-array-data,\n",
       ".xr-array-preview {\n",
       "  display: inline-block;\n",
       "}\n",
       "\n",
       ".xr-dim-list {\n",
       "  display: inline-block !important;\n",
       "  list-style: none;\n",
       "  padding: 0 !important;\n",
       "  margin: 0;\n",
       "}\n",
       "\n",
       ".xr-dim-list li {\n",
       "  display: inline-block;\n",
       "  padding: 0;\n",
       "  margin: 0;\n",
       "}\n",
       "\n",
       ".xr-dim-list:before {\n",
       "  content: '(';\n",
       "}\n",
       "\n",
       ".xr-dim-list:after {\n",
       "  content: ')';\n",
       "}\n",
       "\n",
       ".xr-dim-list li:not(:last-child):after {\n",
       "  content: ',';\n",
       "  padding-right: 5px;\n",
       "}\n",
       "\n",
       ".xr-has-index {\n",
       "  font-weight: bold;\n",
       "}\n",
       "\n",
       ".xr-var-list,\n",
       ".xr-var-item {\n",
       "  display: contents;\n",
       "}\n",
       "\n",
       ".xr-var-item > div,\n",
       ".xr-var-item label,\n",
       ".xr-var-item > .xr-var-name span {\n",
       "  background-color: var(--xr-background-color-row-even);\n",
       "  margin-bottom: 0;\n",
       "}\n",
       "\n",
       ".xr-var-item > .xr-var-name:hover span {\n",
       "  padding-right: 5px;\n",
       "}\n",
       "\n",
       ".xr-var-list > li:nth-child(odd) > div,\n",
       ".xr-var-list > li:nth-child(odd) > label,\n",
       ".xr-var-list > li:nth-child(odd) > .xr-var-name span {\n",
       "  background-color: var(--xr-background-color-row-odd);\n",
       "}\n",
       "\n",
       ".xr-var-name {\n",
       "  grid-column: 1;\n",
       "}\n",
       "\n",
       ".xr-var-dims {\n",
       "  grid-column: 2;\n",
       "}\n",
       "\n",
       ".xr-var-dtype {\n",
       "  grid-column: 3;\n",
       "  text-align: right;\n",
       "  color: var(--xr-font-color2);\n",
       "}\n",
       "\n",
       ".xr-var-preview {\n",
       "  grid-column: 4;\n",
       "}\n",
       "\n",
       ".xr-var-name,\n",
       ".xr-var-dims,\n",
       ".xr-var-dtype,\n",
       ".xr-preview,\n",
       ".xr-attrs dt {\n",
       "  white-space: nowrap;\n",
       "  overflow: hidden;\n",
       "  text-overflow: ellipsis;\n",
       "  padding-right: 10px;\n",
       "}\n",
       "\n",
       ".xr-var-name:hover,\n",
       ".xr-var-dims:hover,\n",
       ".xr-var-dtype:hover,\n",
       ".xr-attrs dt:hover {\n",
       "  overflow: visible;\n",
       "  width: auto;\n",
       "  z-index: 1;\n",
       "}\n",
       "\n",
       ".xr-var-attrs,\n",
       ".xr-var-data {\n",
       "  display: none;\n",
       "  background-color: var(--xr-background-color) !important;\n",
       "  padding-bottom: 5px !important;\n",
       "}\n",
       "\n",
       ".xr-var-attrs-in:checked ~ .xr-var-attrs,\n",
       ".xr-var-data-in:checked ~ .xr-var-data {\n",
       "  display: block;\n",
       "}\n",
       "\n",
       ".xr-var-data > table {\n",
       "  float: right;\n",
       "}\n",
       "\n",
       ".xr-var-name span,\n",
       ".xr-var-data,\n",
       ".xr-attrs {\n",
       "  padding-left: 25px !important;\n",
       "}\n",
       "\n",
       ".xr-attrs,\n",
       ".xr-var-attrs,\n",
       ".xr-var-data {\n",
       "  grid-column: 1 / -1;\n",
       "}\n",
       "\n",
       "dl.xr-attrs {\n",
       "  padding: 0;\n",
       "  margin: 0;\n",
       "  display: grid;\n",
       "  grid-template-columns: 125px auto;\n",
       "}\n",
       "\n",
       ".xr-attrs dt,\n",
       ".xr-attrs dd {\n",
       "  padding: 0;\n",
       "  margin: 0;\n",
       "  float: left;\n",
       "  padding-right: 10px;\n",
       "  width: auto;\n",
       "}\n",
       "\n",
       ".xr-attrs dt {\n",
       "  font-weight: normal;\n",
       "  grid-column: 1;\n",
       "}\n",
       "\n",
       ".xr-attrs dt:hover span {\n",
       "  display: inline-block;\n",
       "  background: var(--xr-background-color);\n",
       "  padding-right: 10px;\n",
       "}\n",
       "\n",
       ".xr-attrs dd {\n",
       "  grid-column: 2;\n",
       "  white-space: pre-wrap;\n",
       "  word-break: break-all;\n",
       "}\n",
       "\n",
       ".xr-icon-database,\n",
       ".xr-icon-file-text2 {\n",
       "  display: inline-block;\n",
       "  vertical-align: middle;\n",
       "  width: 1em;\n",
       "  height: 1.5em !important;\n",
       "  stroke-width: 0;\n",
       "  stroke: currentColor;\n",
       "  fill: currentColor;\n",
       "}\n",
       "</style><pre class='xr-text-repr-fallback'>&lt;TimeSeries (DataArray) (time: 1382, component: 1, sample: 1)&gt;\n",
       "array([[[35364976.50997275]],\n",
       "\n",
       "       [[35364393.89486285]],\n",
       "\n",
       "       [[35354385.36436209]],\n",
       "\n",
       "       ...,\n",
       "\n",
       "       [[35295232.78703431]],\n",
       "\n",
       "       [[35291226.72570521]],\n",
       "\n",
       "       [[35293600.50657464]]])\n",
       "Coordinates:\n",
       "  * time       (time) datetime64[ns] 2021-12-31T12:29:00 ... 2021-12-31T14:24:05\n",
       "  * component  (component) object &#x27;0&#x27;\n",
       "Dimensions without coordinates: sample</pre><div class='xr-wrap' style='display:none'><div class='xr-header'><div class='xr-obj-type'>TimeSeries (DataArray)</div><div class='xr-array-name'></div><ul class='xr-dim-list'><li><span class='xr-has-index'>time</span>: 1382</li><li><span class='xr-has-index'>component</span>: 1</li><li><span>sample</span>: 1</li></ul></div><ul class='xr-sections'><li class='xr-section-item'><div class='xr-array-wrap'><input id='section-b62e1441-128e-456f-ac93-27ab8bc6a66f' class='xr-array-in' type='checkbox' checked><label for='section-b62e1441-128e-456f-ac93-27ab8bc6a66f' title='Show/hide data repr'><svg class='icon xr-icon-database'><use xlink:href='#icon-database'></use></svg></label><div class='xr-array-preview xr-preview'><span>3.536e+07 3.536e+07 3.535e+07 ... 3.53e+07 3.529e+07 3.529e+07</span></div><div class='xr-array-data'><pre>array([[[35364976.50997275]],\n",
       "\n",
       "       [[35364393.89486285]],\n",
       "\n",
       "       [[35354385.36436209]],\n",
       "\n",
       "       ...,\n",
       "\n",
       "       [[35295232.78703431]],\n",
       "\n",
       "       [[35291226.72570521]],\n",
       "\n",
       "       [[35293600.50657464]]])</pre></div></div></li><li class='xr-section-item'><input id='section-4e28fda1-b4cf-4ff1-b6fd-319f955a9d97' class='xr-section-summary-in' type='checkbox'  checked><label for='section-4e28fda1-b4cf-4ff1-b6fd-319f955a9d97' class='xr-section-summary' >Coordinates: <span>(2)</span></label><div class='xr-section-inline-details'></div><div class='xr-section-details'><ul class='xr-var-list'><li class='xr-var-item'><div class='xr-var-name'><span class='xr-has-index'>time</span></div><div class='xr-var-dims'>(time)</div><div class='xr-var-dtype'>datetime64[ns]</div><div class='xr-var-preview xr-preview'>2021-12-31T12:29:00 ... 2021-12-...</div><input id='attrs-e9e6b245-f08a-4b8d-80de-0af89ecc281c' class='xr-var-attrs-in' type='checkbox' disabled><label for='attrs-e9e6b245-f08a-4b8d-80de-0af89ecc281c' title='Show/Hide attributes'><svg class='icon xr-icon-file-text2'><use xlink:href='#icon-file-text2'></use></svg></label><input id='data-86f5f968-ef4b-435c-8f5c-b23d82f46809' class='xr-var-data-in' type='checkbox'><label for='data-86f5f968-ef4b-435c-8f5c-b23d82f46809' title='Show/Hide data repr'><svg class='icon xr-icon-database'><use xlink:href='#icon-database'></use></svg></label><div class='xr-var-attrs'><dl class='xr-attrs'></dl></div><div class='xr-var-data'><pre>array([&#x27;2021-12-31T12:29:00.000000000&#x27;, &#x27;2021-12-31T12:29:05.000000000&#x27;,\n",
       "       &#x27;2021-12-31T12:29:10.000000000&#x27;, ..., &#x27;2021-12-31T14:23:55.000000000&#x27;,\n",
       "       &#x27;2021-12-31T14:24:00.000000000&#x27;, &#x27;2021-12-31T14:24:05.000000000&#x27;],\n",
       "      dtype=&#x27;datetime64[ns]&#x27;)</pre></div></li><li class='xr-var-item'><div class='xr-var-name'><span class='xr-has-index'>component</span></div><div class='xr-var-dims'>(component)</div><div class='xr-var-dtype'>object</div><div class='xr-var-preview xr-preview'>&#x27;0&#x27;</div><input id='attrs-e3005e05-9733-4fcf-819b-0b4381f6cbda' class='xr-var-attrs-in' type='checkbox' disabled><label for='attrs-e3005e05-9733-4fcf-819b-0b4381f6cbda' title='Show/Hide attributes'><svg class='icon xr-icon-file-text2'><use xlink:href='#icon-file-text2'></use></svg></label><input id='data-f4a20abd-cafe-4fa7-8421-b6dff5cd648a' class='xr-var-data-in' type='checkbox'><label for='data-f4a20abd-cafe-4fa7-8421-b6dff5cd648a' title='Show/Hide data repr'><svg class='icon xr-icon-database'><use xlink:href='#icon-database'></use></svg></label><div class='xr-var-attrs'><dl class='xr-attrs'></dl></div><div class='xr-var-data'><pre>array([&#x27;0&#x27;], dtype=object)</pre></div></li></ul></div></li><li class='xr-section-item'><input id='section-b4a8f4ec-5f48-492a-b28d-07dd9b08d1ca' class='xr-section-summary-in' type='checkbox' disabled ><label for='section-b4a8f4ec-5f48-492a-b28d-07dd9b08d1ca' class='xr-section-summary'  title='Expand/collapse section'>Attributes: <span>(0)</span></label><div class='xr-section-inline-details'></div><div class='xr-section-details'><dl class='xr-attrs'></dl></div></li></ul></div></div>"
      ],
      "text/plain": [
       "<TimeSeries (DataArray) (time: 1382, component: 1, sample: 1)>\n",
       "array([[[35364976.50997275]],\n",
       "\n",
       "       [[35364393.89486285]],\n",
       "\n",
       "       [[35354385.36436209]],\n",
       "\n",
       "       ...,\n",
       "\n",
       "       [[35295232.78703431]],\n",
       "\n",
       "       [[35291226.72570521]],\n",
       "\n",
       "       [[35293600.50657464]]])\n",
       "Coordinates:\n",
       "  * time       (time) datetime64[ns] 2021-12-31T12:29:00 ... 2021-12-31T14:24:05\n",
       "  * component  (component) object '0'\n",
       "Dimensions without coordinates: sample"
      ]
     },
     "execution_count": 45,
     "metadata": {},
     "output_type": "execute_result"
    }
   ],
   "source": [
    "hist_for_scaled"
   ]
  },
  {
   "cell_type": "code",
   "execution_count": 44,
   "id": "4fff5d57",
   "metadata": {},
   "outputs": [
    {
     "data": {
      "image/png": "[encoded data removed]",
      "text/plain": [
       "<Figure size 720x432 with 1 Axes>"
      ]
     },
     "metadata": {
      "needs_background": "light"
     },
     "output_type": "display_data"
    }
   ],
   "source": [
    "plt.figure(figsize=(10, 6))\n",
    "hist_for_scaled.plot(label=\"hist_forc last 1%\")\n",
    "train_df['Close'][-5060:].plot(label=\"actual\")"
   ]
  },
  {
   "cell_type": "code",
   "execution_count": null,
   "id": "3844dbab",
   "metadata": {},
   "outputs": [],
   "source": []
  }
 ],
 "metadata": {
  "kernelspec": {
   "display_name": "Python 3 (ipykernel)",
   "language": "python",
   "name": "python3"
  },
  "language_info": {
   "codemirror_mode": {
    "name": "ipython",
    "version": 3
   },
   "file_extension": ".py",
   "mimetype": "text/x-python",
   "name": "python",
   "nbconvert_exporter": "python",
   "pygments_lexer": "ipython3",
   "version": "3.8.12"
  }
 },
 "nbformat": 4,
 "nbformat_minor": 5
}
