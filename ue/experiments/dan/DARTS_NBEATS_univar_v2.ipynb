{
 "cells": [
  {
   "cell_type": "markdown",
   "id": "24ec19ae",
   "metadata": {},
   "source": [
    "Univariate on close price series (1m to make training shorter and overfit). Just will run longer than v1"
   ]
  },
  {
   "cell_type": "code",
   "execution_count": 2,
   "id": "e1d66bba",
   "metadata": {},
   "outputs": [],
   "source": [
    "#======Core============\n",
    "import pandas as pd\n",
    "import numpy as np\n",
    "import matplotlib.pyplot as plt\n",
    "import os\n",
    "# import pytorch_lightning as pl\n",
    "# from pytorch_lightning.callbacks import EarlyStopping\n",
    "import torch\n",
    "#======Darts===========\n",
    "from darts import TimeSeries\n",
    "from darts.dataprocessing.transformers import Scaler\n",
    "from darts.models import NBEATSModel\n",
    "from darts.dataprocessing import Pipeline\n",
    "#======UEXP============\n",
    "from ue.uexp.dataprocessing.processor_binance import BinanceProcessor\n",
    "from ue.uexp.dataprocessing.func import *\n",
    "#from ue.uexp.dataprocessing.ta import *\n",
    "#from ue.uexp.models.util import *\n",
    "#======TA==============\n",
    "from ta.momentum import *\n",
    "from ta.trend import *\n",
    "from ta.volatility import *\n",
    "from ta.wrapper import *\n",
    "import ta\n",
    "\n",
    "import warnings\n",
    "warnings.filterwarnings('ignore')"
   ]
  },
  {
   "cell_type": "markdown",
   "id": "de2973c6",
   "metadata": {},
   "source": [
    "# Data Processing"
   ]
  },
  {
   "cell_type": "code",
   "execution_count": 3,
   "id": "b9c1023b",
   "metadata": {},
   "outputs": [],
   "source": [
    "### get data (set config params)\n",
    "ticker_list = [\"BTCUSDT\"]\n",
    "start_date = \"2021-12-30\"\n",
    "end_date = \"2021-12-31\"\n",
    "time_interval = \"1m\"\n",
    "\n",
    "p = BinanceProcessor(\"binance\")\n",
    "df = p.download_data(ticker_list, start_date, end_date, time_interval)"
   ]
  },
  {
   "cell_type": "code",
   "execution_count": 4,
   "id": "a8c38670",
   "metadata": {},
   "outputs": [
    {
     "data": {
      "text/html": [
       "<div>\n",
       "<style scoped>\n",
       "    .dataframe tbody tr th:only-of-type {\n",
       "        vertical-align: middle;\n",
       "    }\n",
       "\n",
       "    .dataframe tbody tr th {\n",
       "        vertical-align: top;\n",
       "    }\n",
       "\n",
       "    .dataframe thead th {\n",
       "        text-align: right;\n",
       "    }\n",
       "</style>\n",
       "<table border=\"1\" class=\"dataframe\">\n",
       "  <thead>\n",
       "    <tr style=\"text-align: right;\">\n",
       "      <th></th>\n",
       "      <th>time</th>\n",
       "      <th>open</th>\n",
       "      <th>high</th>\n",
       "      <th>low</th>\n",
       "      <th>close</th>\n",
       "      <th>volume</th>\n",
       "      <th>adj_close</th>\n",
       "      <th>tic</th>\n",
       "    </tr>\n",
       "  </thead>\n",
       "  <tbody>\n",
       "    <tr>\n",
       "      <th>0</th>\n",
       "      <td>2021-12-30 00:00:00</td>\n",
       "      <td>46761.93</td>\n",
       "      <td>46775.34</td>\n",
       "      <td>46747.15</td>\n",
       "      <td>46768.36</td>\n",
       "      <td>18.86475</td>\n",
       "      <td>46768.36</td>\n",
       "      <td>BTCUSDT</td>\n",
       "    </tr>\n",
       "    <tr>\n",
       "      <th>1</th>\n",
       "      <td>2021-12-30 00:01:00</td>\n",
       "      <td>46768.35</td>\n",
       "      <td>46768.36</td>\n",
       "      <td>46746.09</td>\n",
       "      <td>46756.41</td>\n",
       "      <td>17.64987</td>\n",
       "      <td>46756.41</td>\n",
       "      <td>BTCUSDT</td>\n",
       "    </tr>\n",
       "    <tr>\n",
       "      <th>2</th>\n",
       "      <td>2021-12-30 00:02:00</td>\n",
       "      <td>46756.41</td>\n",
       "      <td>46765.87</td>\n",
       "      <td>46742.36</td>\n",
       "      <td>46752.86</td>\n",
       "      <td>7.44316</td>\n",
       "      <td>46752.86</td>\n",
       "      <td>BTCUSDT</td>\n",
       "    </tr>\n",
       "    <tr>\n",
       "      <th>3</th>\n",
       "      <td>2021-12-30 00:03:00</td>\n",
       "      <td>46752.86</td>\n",
       "      <td>46768.35</td>\n",
       "      <td>46741.94</td>\n",
       "      <td>46762.44</td>\n",
       "      <td>14.16629</td>\n",
       "      <td>46762.44</td>\n",
       "      <td>BTCUSDT</td>\n",
       "    </tr>\n",
       "    <tr>\n",
       "      <th>4</th>\n",
       "      <td>2021-12-30 00:04:00</td>\n",
       "      <td>46762.43</td>\n",
       "      <td>46776.73</td>\n",
       "      <td>46756.16</td>\n",
       "      <td>46776.73</td>\n",
       "      <td>12.20940</td>\n",
       "      <td>46776.73</td>\n",
       "      <td>BTCUSDT</td>\n",
       "    </tr>\n",
       "  </tbody>\n",
       "</table>\n",
       "</div>"
      ],
      "text/plain": [
       "                  time      open      high       low     close    volume  \\\n",
       "0  2021-12-30 00:00:00  46761.93  46775.34  46747.15  46768.36  18.86475   \n",
       "1  2021-12-30 00:01:00  46768.35  46768.36  46746.09  46756.41  17.64987   \n",
       "2  2021-12-30 00:02:00  46756.41  46765.87  46742.36  46752.86   7.44316   \n",
       "3  2021-12-30 00:03:00  46752.86  46768.35  46741.94  46762.44  14.16629   \n",
       "4  2021-12-30 00:04:00  46762.43  46776.73  46756.16  46776.73  12.20940   \n",
       "\n",
       "   adj_close      tic  \n",
       "0   46768.36  BTCUSDT  \n",
       "1   46756.41  BTCUSDT  \n",
       "2   46752.86  BTCUSDT  \n",
       "3   46762.44  BTCUSDT  \n",
       "4   46776.73  BTCUSDT  "
      ]
     },
     "execution_count": 4,
     "metadata": {},
     "output_type": "execute_result"
    }
   ],
   "source": [
    "df.head()"
   ]
  },
  {
   "cell_type": "code",
   "execution_count": 5,
   "id": "5b089154",
   "metadata": {},
   "outputs": [],
   "source": [
    "# for non 1m data\n",
    "# df.drop([\"tic\", \"adj_close\"], axis=1, inplace=True)\n",
    "# df['time'] = pd.to_datetime(df['time'])\n",
    "# df.set_index('time', inplace=True)\n"
   ]
  },
  {
   "cell_type": "code",
   "execution_count": 6,
   "id": "d8136b3e",
   "metadata": {},
   "outputs": [],
   "source": [
    "df = df[['close']]"
   ]
  },
  {
   "cell_type": "code",
   "execution_count": 7,
   "id": "4baee85c",
   "metadata": {},
   "outputs": [
    {
     "data": {
      "text/plain": [
       "(999, 1)"
      ]
     },
     "execution_count": 7,
     "metadata": {},
     "output_type": "execute_result"
    }
   ],
   "source": [
    "df.shape"
   ]
  },
  {
   "cell_type": "code",
   "execution_count": 8,
   "id": "ed1460c9",
   "metadata": {},
   "outputs": [],
   "source": [
    "dfts = TimeSeries.from_dataframe(df)"
   ]
  },
  {
   "cell_type": "code",
   "execution_count": 9,
   "id": "d8068cf2",
   "metadata": {},
   "outputs": [
    {
     "data": {
      "image/png": "[encoded data removed]",
      "text/plain": [
       "<Figure size 432x288 with 1 Axes>"
      ]
     },
     "metadata": {
      "needs_background": "light"
     },
     "output_type": "display_data"
    }
   ],
   "source": [
    "dfts.plot()"
   ]
  },
  {
   "cell_type": "code",
   "execution_count": 10,
   "id": "9d4ec3e4",
   "metadata": {},
   "outputs": [
    {
     "data": {
      "text/plain": [
       "darts.timeseries.TimeSeries"
      ]
     },
     "execution_count": 10,
     "metadata": {},
     "output_type": "execute_result"
    }
   ],
   "source": [
    "type(dfts)"
   ]
  },
  {
   "cell_type": "code",
   "execution_count": 11,
   "id": "ada8ed54",
   "metadata": {},
   "outputs": [],
   "source": [
    "scaler = Scaler()\n",
    "# [0] because singular\n",
    "train_og, val_og = dfts.split_after(0.8)\n",
    "scaled_series = scaler.fit_transform(dfts)\n",
    "train, val = scaled_series.split_after(0.8)"
   ]
  },
  {
   "cell_type": "markdown",
   "id": "5b83cf5b",
   "metadata": {},
   "source": [
    "## Model"
   ]
  },
  {
   "cell_type": "code",
   "execution_count": 12,
   "id": "5fcc8a70",
   "metadata": {},
   "outputs": [],
   "source": [
    "model = NBEATSModel(input_chunk_length=60, output_chunk_length=15, random_state=42)"
   ]
  },
  {
   "cell_type": "code",
   "execution_count": 13,
   "id": "d2524c74",
   "metadata": {},
   "outputs": [
    {
     "name": "stderr",
     "output_type": "stream",
     "text": [
      "[2022-02-22 13:33:15,677] INFO | darts.models.forecasting.torch_forecasting_model | Train dataset contains 725 samples.\n",
      "[2022-02-22 13:33:15,677] INFO | darts.models.forecasting.torch_forecasting_model | Train dataset contains 725 samples.\n",
      "[2022-02-22 13:33:15,677] INFO | darts.models.forecasting.torch_forecasting_model | Train dataset contains 725 samples.\n",
      "[2022-02-22 13:33:15,755] INFO | darts.models.forecasting.torch_forecasting_model | Time series values are 64-bits; casting model to float64.\n",
      "[2022-02-22 13:33:15,755] INFO | darts.models.forecasting.torch_forecasting_model | Time series values are 64-bits; casting model to float64.\n",
      "[2022-02-22 13:33:15,755] INFO | darts.models.forecasting.torch_forecasting_model | Time series values are 64-bits; casting model to float64.\n",
      "[2022-02-22 13:33:15,757] WARNING | darts.models.forecasting.torch_forecasting_model | DeprecationWarning: kwarg `verbose` is deprecated and will be removed in a future Darts version. Instead, control verbosity with PyTorch Lightning Trainer parameters `enable_progress_bar`, `progress_bar_refresh_rate` and `enable_model_summary` in the `pl_trainer_kwargs` dict at model creation.\n",
      "[2022-02-22 13:33:15,757] WARNING | darts.models.forecasting.torch_forecasting_model | DeprecationWarning: kwarg `verbose` is deprecated and will be removed in a future Darts version. Instead, control verbosity with PyTorch Lightning Trainer parameters `enable_progress_bar`, `progress_bar_refresh_rate` and `enable_model_summary` in the `pl_trainer_kwargs` dict at model creation.\n",
      "[2022-02-22 13:33:15,757] WARNING | darts.models.forecasting.torch_forecasting_model | DeprecationWarning: kwarg `verbose` is deprecated and will be removed in a future Darts version. Instead, control verbosity with PyTorch Lightning Trainer parameters `enable_progress_bar`, `progress_bar_refresh_rate` and `enable_model_summary` in the `pl_trainer_kwargs` dict at model creation.\n",
      "GPU available: True, used: False\n",
      "GPU available: True, used: False\n",
      "TPU available: False, using: 0 TPU cores\n",
      "TPU available: False, using: 0 TPU cores\n",
      "IPU available: False, using: 0 IPUs\n",
      "IPU available: False, using: 0 IPUs\n",
      "\n",
      "  | Name      | Type       | Params\n",
      "-----------------------------------------\n",
      "0 | criterion | MSELoss    | 0     \n",
      "1 | stacks    | ModuleList | 6.5 M \n",
      "-----------------------------------------\n",
      "6.5 M     Trainable params\n",
      "1.6 K     Non-trainable params\n",
      "6.5 M     Total params\n",
      "51.843    Total estimated model params size (MB)\n",
      "\n",
      "  | Name      | Type       | Params\n",
      "-----------------------------------------\n",
      "0 | criterion | MSELoss    | 0     \n",
      "1 | stacks    | ModuleList | 6.5 M \n",
      "-----------------------------------------\n",
      "6.5 M     Trainable params\n",
      "1.6 K     Non-trainable params\n",
      "6.5 M     Total params\n",
      "51.843    Total estimated model params size (MB)\n"
     ]
    },
    {
     "data": {
      "application/vnd.jupyter.widget-view+json": {
       "model_id": "5157e30d1e0b4c64908901f8e56f57ec",
       "version_major": 2,
       "version_minor": 0
      },
      "text/plain": [
       "Training: 0it [00:00, ?it/s]"
      ]
     },
     "metadata": {},
     "output_type": "display_data"
    },
    {
     "data": {
      "text/plain": [
       "<darts.models.forecasting.nbeats.NBEATSModel at 0x7f6ee3b04700>"
      ]
     },
     "execution_count": 13,
     "metadata": {},
     "output_type": "execute_result"
    }
   ],
   "source": [
    "#series = \n",
    "model.fit(\n",
    "    series=train, \n",
    "    # val_series=scaled_val_target, \n",
    "    epochs=1000, \n",
    "    verbose=True)"
   ]
  },
  {
   "cell_type": "code",
   "execution_count": 14,
   "id": "550de44b",
   "metadata": {},
   "outputs": [
    {
     "data": {
      "application/vnd.jupyter.widget-view+json": {
       "model_id": "1e798b3155d3488e8957a5c4505e719f",
       "version_major": 2,
       "version_minor": 0
      },
      "text/plain": [
       "Predicting: 23it [00:00, ?it/s]"
      ]
     },
     "metadata": {},
     "output_type": "display_data"
    }
   ],
   "source": [
    "# training was for horizon=15, if predict here horizon>15 then need historic_future_covs\n",
    "pred_train = model.predict(series=train, n=15)"
   ]
  },
  {
   "cell_type": "code",
   "execution_count": 15,
   "id": "512edc3b",
   "metadata": {},
   "outputs": [],
   "source": [
    "# scale back:\n",
    "pred_train_scaled = scaler.inverse_transform(pred_train)"
   ]
  },
  {
   "cell_type": "code",
   "execution_count": 22,
   "id": "eb01c2bb",
   "metadata": {},
   "outputs": [
    {
     "data": {
      "image/png": "[encoded data removed]",
      "text/plain": [
       "<Figure size 720x432 with 1 Axes>"
      ]
     },
     "metadata": {
      "needs_background": "light"
     },
     "output_type": "display_data"
    }
   ],
   "source": [
    "plt.figure(figsize=(10, 6))\n",
    "# prev train\n",
    "train_og[-100:].plot(label=\"past prices\")\n",
    "#actual\n",
    "val_og[:3].plot(label=\"actual prices\")\n",
    "# pred\n",
    "pred_train_scaled[:3].plot(label=\"pred prices\")"
   ]
  },
  {
   "cell_type": "code",
   "execution_count": 20,
   "id": "dc723107",
   "metadata": {},
   "outputs": [],
   "source": [
    "model.save_model(\"small_success.pth.tar\")"
   ]
  },
  {
   "cell_type": "markdown",
   "id": "6ae715df",
   "metadata": {},
   "source": [
    "## Historical Forecast"
   ]
  },
  {
   "cell_type": "code",
   "execution_count": 17,
   "id": "f4afd63c",
   "metadata": {
    "scrolled": true
   },
   "outputs": [
    {
     "data": {
      "application/vnd.jupyter.widget-view+json": {
       "model_id": "a22a673ec2164b72bf4baf8cafa6c127",
       "version_major": 2,
       "version_minor": 0
      },
      "text/plain": [
       "  0%|          | 0/27 [00:00<?, ?it/s]"
      ]
     },
     "metadata": {},
     "output_type": "display_data"
    },
    {
     "data": {
      "application/vnd.jupyter.widget-view+json": {
       "model_id": "7c6df87e00444c7dbaecda73eba1b919",
       "version_major": 2,
       "version_minor": 0
      },
      "text/plain": [
       "Predicting: 23it [00:00, ?it/s]"
      ]
     },
     "metadata": {},
     "output_type": "display_data"
    },
    {
     "data": {
      "application/vnd.jupyter.widget-view+json": {
       "model_id": "ec423b812d5248ae89ad71f6f9c4a7a6",
       "version_major": 2,
       "version_minor": 0
      },
      "text/plain": [
       "Predicting: 23it [00:00, ?it/s]"
      ]
     },
     "metadata": {},
     "output_type": "display_data"
    },
    {
     "data": {
      "application/vnd.jupyter.widget-view+json": {
       "model_id": "f51898f8a1fe41d79dc55933da6e1fec",
       "version_major": 2,
       "version_minor": 0
      },
      "text/plain": [
       "Predicting: 23it [00:00, ?it/s]"
      ]
     },
     "metadata": {},
     "output_type": "display_data"
    },
    {
     "data": {
      "application/vnd.jupyter.widget-view+json": {
       "model_id": "f0a3146c85da47a496c23587d1923d98",
       "version_major": 2,
       "version_minor": 0
      },
      "text/plain": [
       "Predicting: 23it [00:00, ?it/s]"
      ]
     },
     "metadata": {},
     "output_type": "display_data"
    },
    {
     "data": {
      "application/vnd.jupyter.widget-view+json": {
       "model_id": "2c6f6ee013484eacb3a7ad0c3625b42e",
       "version_major": 2,
       "version_minor": 0
      },
      "text/plain": [
       "Predicting: 23it [00:00, ?it/s]"
      ]
     },
     "metadata": {},
     "output_type": "display_data"
    },
    {
     "data": {
      "application/vnd.jupyter.widget-view+json": {
       "model_id": "15d53c56820b4178bf902f2fb3cc2db8",
       "version_major": 2,
       "version_minor": 0
      },
      "text/plain": [
       "Predicting: 23it [00:00, ?it/s]"
      ]
     },
     "metadata": {},
     "output_type": "display_data"
    },
    {
     "data": {
      "application/vnd.jupyter.widget-view+json": {
       "model_id": "273283682e09409e9c7a3d86af2e98f2",
       "version_major": 2,
       "version_minor": 0
      },
      "text/plain": [
       "Predicting: 23it [00:00, ?it/s]"
      ]
     },
     "metadata": {},
     "output_type": "display_data"
    },
    {
     "data": {
      "application/vnd.jupyter.widget-view+json": {
       "model_id": "053061bff7164d02ab712637742c3cc8",
       "version_major": 2,
       "version_minor": 0
      },
      "text/plain": [
       "Predicting: 23it [00:00, ?it/s]"
      ]
     },
     "metadata": {},
     "output_type": "display_data"
    },
    {
     "data": {
      "application/vnd.jupyter.widget-view+json": {
       "model_id": "d7a82fd8495542539f79dc73e517c048",
       "version_major": 2,
       "version_minor": 0
      },
      "text/plain": [
       "Predicting: 23it [00:00, ?it/s]"
      ]
     },
     "metadata": {},
     "output_type": "display_data"
    },
    {
     "data": {
      "application/vnd.jupyter.widget-view+json": {
       "model_id": "fd2dc05900e04e4995e48527d9bcd9f3",
       "version_major": 2,
       "version_minor": 0
      },
      "text/plain": [
       "Predicting: 23it [00:00, ?it/s]"
      ]
     },
     "metadata": {},
     "output_type": "display_data"
    },
    {
     "data": {
      "application/vnd.jupyter.widget-view+json": {
       "model_id": "6a5cfaf587d04a6d845b498c365addac",
       "version_major": 2,
       "version_minor": 0
      },
      "text/plain": [
       "Predicting: 23it [00:00, ?it/s]"
      ]
     },
     "metadata": {},
     "output_type": "display_data"
    },
    {
     "data": {
      "application/vnd.jupyter.widget-view+json": {
       "model_id": "6530462aaa414d0c9462f2b167354b8f",
       "version_major": 2,
       "version_minor": 0
      },
      "text/plain": [
       "Predicting: 23it [00:00, ?it/s]"
      ]
     },
     "metadata": {},
     "output_type": "display_data"
    },
    {
     "data": {
      "application/vnd.jupyter.widget-view+json": {
       "model_id": "7bf523b3d04541d4942b7ba3cbe44e59",
       "version_major": 2,
       "version_minor": 0
      },
      "text/plain": [
       "Predicting: 23it [00:00, ?it/s]"
      ]
     },
     "metadata": {},
     "output_type": "display_data"
    },
    {
     "data": {
      "application/vnd.jupyter.widget-view+json": {
       "model_id": "d55593c6a0e843e79f8ca6424f1d2f07",
       "version_major": 2,
       "version_minor": 0
      },
      "text/plain": [
       "Predicting: 23it [00:00, ?it/s]"
      ]
     },
     "metadata": {},
     "output_type": "display_data"
    },
    {
     "data": {
      "application/vnd.jupyter.widget-view+json": {
       "model_id": "9e632ce728eb4031934b0858768886ef",
       "version_major": 2,
       "version_minor": 0
      },
      "text/plain": [
       "Predicting: 23it [00:00, ?it/s]"
      ]
     },
     "metadata": {},
     "output_type": "display_data"
    },
    {
     "data": {
      "application/vnd.jupyter.widget-view+json": {
       "model_id": "222cab2aae224731927afb0c01d61ee3",
       "version_major": 2,
       "version_minor": 0
      },
      "text/plain": [
       "Predicting: 23it [00:00, ?it/s]"
      ]
     },
     "metadata": {},
     "output_type": "display_data"
    },
    {
     "data": {
      "application/vnd.jupyter.widget-view+json": {
       "model_id": "d94b7752d11f4684baed09fd6b303e3e",
       "version_major": 2,
       "version_minor": 0
      },
      "text/plain": [
       "Predicting: 23it [00:00, ?it/s]"
      ]
     },
     "metadata": {},
     "output_type": "display_data"
    },
    {
     "data": {
      "application/vnd.jupyter.widget-view+json": {
       "model_id": "e503b1174dd249bab283eedd24cf885c",
       "version_major": 2,
       "version_minor": 0
      },
      "text/plain": [
       "Predicting: 23it [00:00, ?it/s]"
      ]
     },
     "metadata": {},
     "output_type": "display_data"
    },
    {
     "data": {
      "application/vnd.jupyter.widget-view+json": {
       "model_id": "777ae344f6814d92b6c62401389b7064",
       "version_major": 2,
       "version_minor": 0
      },
      "text/plain": [
       "Predicting: 23it [00:00, ?it/s]"
      ]
     },
     "metadata": {},
     "output_type": "display_data"
    },
    {
     "data": {
      "application/vnd.jupyter.widget-view+json": {
       "model_id": "aaaabdd27ec042a8be030624a51e4478",
       "version_major": 2,
       "version_minor": 0
      },
      "text/plain": [
       "Predicting: 23it [00:00, ?it/s]"
      ]
     },
     "metadata": {},
     "output_type": "display_data"
    },
    {
     "data": {
      "application/vnd.jupyter.widget-view+json": {
       "model_id": "b28d414d34b84db6aa5fb409fd2b060f",
       "version_major": 2,
       "version_minor": 0
      },
      "text/plain": [
       "Predicting: 23it [00:00, ?it/s]"
      ]
     },
     "metadata": {},
     "output_type": "display_data"
    },
    {
     "data": {
      "application/vnd.jupyter.widget-view+json": {
       "model_id": "da85804d31ba4c27932ef84dcd6fddac",
       "version_major": 2,
       "version_minor": 0
      },
      "text/plain": [
       "Predicting: 23it [00:00, ?it/s]"
      ]
     },
     "metadata": {},
     "output_type": "display_data"
    },
    {
     "data": {
      "application/vnd.jupyter.widget-view+json": {
       "model_id": "53a5b26b8c16423d8251a7c76cc38aaf",
       "version_major": 2,
       "version_minor": 0
      },
      "text/plain": [
       "Predicting: 23it [00:00, ?it/s]"
      ]
     },
     "metadata": {},
     "output_type": "display_data"
    },
    {
     "data": {
      "application/vnd.jupyter.widget-view+json": {
       "model_id": "31efc35358e246e09f1889ea77c5e02f",
       "version_major": 2,
       "version_minor": 0
      },
      "text/plain": [
       "Predicting: 23it [00:00, ?it/s]"
      ]
     },
     "metadata": {},
     "output_type": "display_data"
    },
    {
     "data": {
      "application/vnd.jupyter.widget-view+json": {
       "model_id": "c20c27fa0cfc4a269e35e416da0fab1f",
       "version_major": 2,
       "version_minor": 0
      },
      "text/plain": [
       "Predicting: 23it [00:00, ?it/s]"
      ]
     },
     "metadata": {},
     "output_type": "display_data"
    },
    {
     "data": {
      "application/vnd.jupyter.widget-view+json": {
       "model_id": "93652b7b959e414cbaf20818278dcead",
       "version_major": 2,
       "version_minor": 0
      },
      "text/plain": [
       "Predicting: 23it [00:00, ?it/s]"
      ]
     },
     "metadata": {},
     "output_type": "display_data"
    },
    {
     "data": {
      "application/vnd.jupyter.widget-view+json": {
       "model_id": "44ab0a0a7b234fbab3f11655d339013b",
       "version_major": 2,
       "version_minor": 0
      },
      "text/plain": [
       "Predicting: 23it [00:00, ?it/s]"
      ]
     },
     "metadata": {},
     "output_type": "display_data"
    }
   ],
   "source": [
    "hist_for = model.historical_forecasts(\n",
    "    series=train,\n",
    "    start=0.95, #just the last 5 percent\n",
    "    forecast_horizon=15,\n",
    "    #stride=5,\n",
    "    retrain=False,\n",
    "    verbose=True,\n",
    ")"
   ]
  },
  {
   "cell_type": "code",
   "execution_count": 18,
   "id": "16af0791",
   "metadata": {},
   "outputs": [],
   "source": [
    "# rescale\n",
    "# scale back:\n",
    "hist_for = scaler.inverse_transform(hist_for)"
   ]
  },
  {
   "cell_type": "code",
   "execution_count": 19,
   "id": "4fff5d57",
   "metadata": {},
   "outputs": [
    {
     "data": {
      "image/png": "[encoded data removed]",
      "text/plain": [
       "<Figure size 720x432 with 1 Axes>"
      ]
     },
     "metadata": {
      "needs_background": "light"
     },
     "output_type": "display_data"
    }
   ],
   "source": [
    "plt.figure(figsize=(10, 6))\n",
    "hist_for.plot(label=\"hist_forc last 1%\")\n",
    "train_og[-30:].plot(label=\"actual\")"
   ]
  },
  {
   "cell_type": "code",
   "execution_count": null,
   "id": "3844dbab",
   "metadata": {},
   "outputs": [],
   "source": []
  }
 ],
 "metadata": {
  "kernelspec": {
   "display_name": "Python 3 (ipykernel)",
   "language": "python",
   "name": "python3"
  },
  "language_info": {
   "codemirror_mode": {
    "name": "ipython",
    "version": 3
   },
   "file_extension": ".py",
   "mimetype": "text/x-python",
   "name": "python",
   "nbconvert_exporter": "python",
   "pygments_lexer": "ipython3",
   "version": "3.9.7"
  }
 },
 "nbformat": 4,
 "nbformat_minor": 5
}
