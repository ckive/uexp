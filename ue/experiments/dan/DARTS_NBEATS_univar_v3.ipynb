{
 "cells": [
  {
   "cell_type": "markdown",
   "id": "24ec19ae",
   "metadata": {},
   "source": [
    "Univariate on close price series. Single-GPU, 1s bc 1m is FUCKED UP"
   ]
  },
  {
   "cell_type": "code",
   "execution_count": 1,
   "id": "453742d4",
   "metadata": {},
   "outputs": [],
   "source": [
    "EXP_NAME = \"DARTS_NBEATS_univar_v3\""
   ]
  },
  {
   "cell_type": "code",
   "execution_count": 2,
   "id": "e1d66bba",
   "metadata": {},
   "outputs": [
    {
     "name": "stderr",
     "output_type": "stream",
     "text": [
      "Importing plotly failed. Interactive plots will not work.\n"
     ]
    }
   ],
   "source": [
    "#======Core============\n",
    "import pandas as pd\n",
    "import numpy as np\n",
    "import matplotlib.pyplot as plt\n",
    "import os\n",
    "# import pytorch_lightning as pl\n",
    "# from pytorch_lightning.callbacks import EarlyStopping\n",
    "import torch\n",
    "#======PytorchLightning===========\n",
    "import pytorch_lightning as pl\n",
    "from pytorch_lightning.callbacks import EarlyStopping\n",
    "from pytorch_lightning.plugins import DDPPlugin\n",
    "from pytorch_lightning import Trainer\n",
    "from pytorch_lightning.loggers import TensorBoardLogger\n",
    "#======Darts===========\n",
    "from darts.models import NBEATSModel\n",
    "from darts import TimeSeries\n",
    "from darts.dataprocessing.transformers import Scaler\n",
    "from darts.dataprocessing import Pipeline\n",
    "#======UEXP============\n",
    "from ue.uexp.dataprocessing.processor_binance import BinanceProcessor\n",
    "from ue.uexp.dataprocessing.func import *\n",
    "#from ue.uexp.dataprocessing.ta import *\n",
    "#from ue.uexp.models.util import *\n",
    "#======TA==============\n",
    "from ta.momentum import *\n",
    "from ta.trend import *\n",
    "from ta.volatility import *\n",
    "from ta.wrapper import *\n",
    "import ta\n",
    "\n",
    "import warnings\n",
    "warnings.filterwarnings('ignore')"
   ]
  },
  {
   "cell_type": "markdown",
   "id": "de2973c6",
   "metadata": {},
   "source": [
    "# Data Processing"
   ]
  },
  {
   "cell_type": "code",
   "execution_count": 3,
   "id": "b9c1023b",
   "metadata": {},
   "outputs": [
    {
     "name": "stdout",
     "output_type": "stream",
     "text": [
      "Found 1 symbols\n",
      "[1/1] - start download daily BTCUSDT aggTrades \n",
      "\n",
      "file already exists! ./cache/tick_raw/BTCUSDT-aggTrades-2022-02-19.csv\n",
      "\n",
      "file already exists! ./cache/tick_raw/BTCUSDT-aggTrades-2022-02-20.csv\n",
      "\n",
      "file already exists! ./cache/tick_raw/BTCUSDT-aggTrades-2022-02-21.csv\n"
     ]
    }
   ],
   "source": [
    "### get data (set config params)\n",
    "ticker_list = [\"BTCUSDT\"]\n",
    "start_date = \"2022-02-20\"\n",
    "end_date = \"2022-02-21\"\n",
    "time_interval = \"1s\"\n",
    "\n",
    "p = BinanceProcessor(\"binance\")\n",
    "df = p.download_data(ticker_list, start_date, end_date, time_interval)"
   ]
  },
  {
   "cell_type": "code",
   "execution_count": 4,
   "id": "a8c38670",
   "metadata": {},
   "outputs": [
    {
     "data": {
      "text/html": [
       "<div>\n",
       "<style scoped>\n",
       "    .dataframe tbody tr th:only-of-type {\n",
       "        vertical-align: middle;\n",
       "    }\n",
       "\n",
       "    .dataframe tbody tr th {\n",
       "        vertical-align: top;\n",
       "    }\n",
       "\n",
       "    .dataframe thead th {\n",
       "        text-align: right;\n",
       "    }\n",
       "</style>\n",
       "<table border=\"1\" class=\"dataframe\">\n",
       "  <thead>\n",
       "    <tr style=\"text-align: right;\">\n",
       "      <th></th>\n",
       "      <th>open</th>\n",
       "      <th>high</th>\n",
       "      <th>low</th>\n",
       "      <th>close</th>\n",
       "      <th>volume</th>\n",
       "      <th>tic</th>\n",
       "    </tr>\n",
       "  </thead>\n",
       "  <tbody>\n",
       "    <tr>\n",
       "      <th>2022-02-20 00:00:00</th>\n",
       "      <td>40079.17</td>\n",
       "      <td>40082.62</td>\n",
       "      <td>40077.30</td>\n",
       "      <td>40082.62</td>\n",
       "      <td>0.13628</td>\n",
       "      <td>BTCUSDT</td>\n",
       "    </tr>\n",
       "    <tr>\n",
       "      <th>2022-02-20 00:00:01</th>\n",
       "      <td>40082.62</td>\n",
       "      <td>40087.28</td>\n",
       "      <td>40082.62</td>\n",
       "      <td>40087.28</td>\n",
       "      <td>0.10610</td>\n",
       "      <td>BTCUSDT</td>\n",
       "    </tr>\n",
       "    <tr>\n",
       "      <th>2022-02-20 00:00:02</th>\n",
       "      <td>40087.27</td>\n",
       "      <td>40087.28</td>\n",
       "      <td>40087.27</td>\n",
       "      <td>40087.27</td>\n",
       "      <td>0.01677</td>\n",
       "      <td>BTCUSDT</td>\n",
       "    </tr>\n",
       "    <tr>\n",
       "      <th>2022-02-20 00:00:03</th>\n",
       "      <td>40087.28</td>\n",
       "      <td>40087.28</td>\n",
       "      <td>40087.27</td>\n",
       "      <td>40087.28</td>\n",
       "      <td>0.00348</td>\n",
       "      <td>BTCUSDT</td>\n",
       "    </tr>\n",
       "    <tr>\n",
       "      <th>2022-02-20 00:00:04</th>\n",
       "      <td>40087.28</td>\n",
       "      <td>40087.28</td>\n",
       "      <td>40087.27</td>\n",
       "      <td>40087.28</td>\n",
       "      <td>0.01393</td>\n",
       "      <td>BTCUSDT</td>\n",
       "    </tr>\n",
       "  </tbody>\n",
       "</table>\n",
       "</div>"
      ],
      "text/plain": [
       "                         open      high       low     close   volume      tic\n",
       "2022-02-20 00:00:00  40079.17  40082.62  40077.30  40082.62  0.13628  BTCUSDT\n",
       "2022-02-20 00:00:01  40082.62  40087.28  40082.62  40087.28  0.10610  BTCUSDT\n",
       "2022-02-20 00:00:02  40087.27  40087.28  40087.27  40087.27  0.01677  BTCUSDT\n",
       "2022-02-20 00:00:03  40087.28  40087.28  40087.27  40087.28  0.00348  BTCUSDT\n",
       "2022-02-20 00:00:04  40087.28  40087.28  40087.27  40087.28  0.01393  BTCUSDT"
      ]
     },
     "execution_count": 4,
     "metadata": {},
     "output_type": "execute_result"
    }
   ],
   "source": [
    "df.head()"
   ]
  },
  {
   "cell_type": "code",
   "execution_count": 5,
   "id": "5b089154",
   "metadata": {},
   "outputs": [],
   "source": [
    "# for 1s data\n",
    "df = df[['close']]"
   ]
  },
  {
   "cell_type": "code",
   "execution_count": 6,
   "id": "d8136b3e",
   "metadata": {},
   "outputs": [],
   "source": [
    "# # for > 1s data\n",
    "# df = df[['time', 'close']]\n",
    "# df['time'] = pd.to_datetime(df['time'])\n",
    "# df.set_index('time', inplace=True)"
   ]
  },
  {
   "cell_type": "code",
   "execution_count": 7,
   "id": "beff7125",
   "metadata": {},
   "outputs": [],
   "source": [
    "# use 4*1024*10 / 0.8 (we need 40960 for the 80% train, + 20% val) = 51200\n",
    "# 102400 --> 81920 -> 4*1024*[20], 20480 -> 4*1024*[5]\n",
    "# IGNORE ^\n",
    "df = df[:20000]"
   ]
  },
  {
   "cell_type": "code",
   "execution_count": 8,
   "id": "ed1460c9",
   "metadata": {},
   "outputs": [],
   "source": [
    "dfts = TimeSeries.from_dataframe(df)"
   ]
  },
  {
   "cell_type": "code",
   "execution_count": 9,
   "id": "d430108d",
   "metadata": {},
   "outputs": [],
   "source": [
    "# optimize\n",
    "dfts = dfts.astype(np.float32)\n",
    "assert dfts.dtype == np.float32"
   ]
  },
  {
   "cell_type": "code",
   "execution_count": 10,
   "id": "d8068cf2",
   "metadata": {},
   "outputs": [
    {
     "data": {
      "image/png": "[encoded data removed]",
      "text/plain": [
       "<Figure size 432x288 with 1 Axes>"
      ]
     },
     "metadata": {
      "needs_background": "light"
     },
     "output_type": "display_data"
    }
   ],
   "source": [
    "dfts.plot()"
   ]
  },
  {
   "cell_type": "code",
   "execution_count": 11,
   "id": "ada8ed54",
   "metadata": {},
   "outputs": [],
   "source": [
    "scaler = Scaler()\n",
    "# [0] because singular\n",
    "train_og, val_og = dfts.split_after(0.8)\n",
    "scaled_series = scaler.fit_transform(dfts)\n",
    "train, val = scaled_series.split_after(0.8)"
   ]
  },
  {
   "cell_type": "code",
   "execution_count": 12,
   "id": "068d0ea0",
   "metadata": {},
   "outputs": [
    {
     "data": {
      "text/plain": [
       "(16000, 4000)"
      ]
     },
     "execution_count": 12,
     "metadata": {},
     "output_type": "execute_result"
    }
   ],
   "source": [
    "len(train_og), len(val_og)"
   ]
  },
  {
   "cell_type": "markdown",
   "id": "5b83cf5b",
   "metadata": {},
   "source": [
    "## Model"
   ]
  },
  {
   "cell_type": "code",
   "execution_count": 13,
   "id": "01059515",
   "metadata": {},
   "outputs": [],
   "source": [
    "my_stopper = EarlyStopping(\n",
    "    monitor=\"val_loss\",\n",
    "    patience=5,\n",
    "    min_delta=0.05,\n",
    "    mode='min',\n",
    ")"
   ]
  },
  {
   "cell_type": "code",
   "execution_count": 30,
   "id": "5fcc8a70",
   "metadata": {},
   "outputs": [],
   "source": [
    "# for reference: https://github.com/unit8co/darts/issues/802\n",
    "model = NBEATSModel(\n",
    "    input_chunk_length=60,\n",
    "    output_chunk_length=30,\n",
    "    generic_architecture=True,\n",
    "    batch_size=1024,\n",
    "    # From PYTL: something about effective batch_size\n",
    "    # EBatch_Size = batch_size * gpus * num_nodes\n",
    "    work_dir=\"model_data\",\n",
    "    pl_trainer_kwargs={\n",
    "        \"accelerator\": \"gpu\",\n",
    "        \"gpus\": [0],\n",
    "        \"enable_progress_bar\": True,\n",
    "    }\n",
    ")\n",
    "\n",
    "# Dead Notes:\n",
    "# Strategies for interactive: dp, ddp_spawn\n",
    "# Recommended: ddp (but not for interactive)\n",
    "# source: https://pytorch-lightning.readthedocs.io/en/stable/advanced/multi_gpu.html#select-gpu-devices\n",
    "# \"num_nodes\": 4,\n",
    "#\"precision\":16, # need to .astype(np.float16 in our dataset to use precision16)\n",
    "#\"plugins\": DDPPlugin(find_unused_parameters=False), # get rid of warnings: https://github.com/PyTorchLightning/pytorch-lightning/discussions/6761\n"
   ]
  },
  {
   "cell_type": "code",
   "execution_count": 31,
   "id": "d2524c74",
   "metadata": {},
   "outputs": [
    {
     "name": "stderr",
     "output_type": "stream",
     "text": [
      "[2022-03-01 21:39:58,983] INFO | darts.models.forecasting.torch_forecasting_model | Train dataset contains 15911 samples.\n",
      "[2022-03-01 21:39:58,983] INFO | darts.models.forecasting.torch_forecasting_model | Train dataset contains 15911 samples.\n",
      "[2022-03-01 21:39:59,034] INFO | darts.models.forecasting.torch_forecasting_model | Time series values are 32-bits; casting model to float32.\n",
      "[2022-03-01 21:39:59,034] INFO | darts.models.forecasting.torch_forecasting_model | Time series values are 32-bits; casting model to float32.\n",
      "GPU available: True, used: True\n",
      "TPU available: False, using: 0 TPU cores\n",
      "IPU available: False, using: 0 IPUs\n",
      "LOCAL_RANK: 0 - CUDA_VISIBLE_DEVICES: [0,1,2,3]\n",
      "\n",
      "  | Name      | Type       | Params\n",
      "-----------------------------------------\n",
      "0 | criterion | MSELoss    | 0     \n",
      "1 | stacks    | ModuleList | 6.5 M \n",
      "-----------------------------------------\n",
      "6.5 M     Trainable params\n",
      "1.6 K     Non-trainable params\n",
      "6.5 M     Total params\n",
      "25.932    Total estimated model params size (MB)\n"
     ]
    },
    {
     "data": {
      "application/vnd.jupyter.widget-view+json": {
       "model_id": "94347f33a9fb48e5bdebf453ab2e0045",
       "version_major": 2,
       "version_minor": 0
      },
      "text/plain": [
       "Training: 0it [00:00, ?it/s]"
      ]
     },
     "metadata": {},
     "output_type": "display_data"
    },
    {
     "data": {
      "text/plain": [
       "<darts.models.forecasting.nbeats.NBEATSModel at 0x7fece60b0550>"
      ]
     },
     "execution_count": 31,
     "metadata": {},
     "output_type": "execute_result"
    }
   ],
   "source": [
    "model.fit(\n",
    "    series=train,\n",
    "    # val_series=scaled_val_target,\n",
    "    epochs=10,\n",
    ")\n",
    "#trainer=trainer) #lol their default trainer looks pretty good\n",
    "# NOTE: known bug of  module 'distutils' has no attribute 'version' as per https://stackoverflow.com/questions/70520120/attributeerror-module-setuptools-distutils-has-no-attribute-version"
   ]
  },
  {
   "cell_type": "code",
   "execution_count": 32,
   "id": "04ec0fd7",
   "metadata": {},
   "outputs": [
    {
     "name": "stderr",
     "output_type": "stream",
     "text": [
      "LOCAL_RANK: 0 - CUDA_VISIBLE_DEVICES: [0,1,2,3]\n"
     ]
    },
    {
     "data": {
      "application/vnd.jupyter.widget-view+json": {
       "model_id": "1b8e5ad7e5aa4c21be3c9b9df9e337d4",
       "version_major": 2,
       "version_minor": 0
      },
      "text/plain": [
       "Predicting: 16it [00:00, ?it/s]"
      ]
     },
     "metadata": {},
     "output_type": "display_data"
    }
   ],
   "source": [
    "# training was for horizon=30, if predict here horizon>15 then need historic_future_covs but nbeats doesnt support future Covs atm\n",
    "pred_train = model.predict(series=train, n=30)"
   ]
  },
  {
   "cell_type": "code",
   "execution_count": 33,
   "id": "512edc3b",
   "metadata": {},
   "outputs": [],
   "source": [
    "# scale back:\n",
    "pred_train_scaled = scaler.inverse_transform(pred_train)"
   ]
  },
  {
   "cell_type": "code",
   "execution_count": 34,
   "id": "eb01c2bb",
   "metadata": {},
   "outputs": [
    {
     "data": {
      "image/png": "[encoded data removed]",
      "text/plain": [
       "<Figure size 720x432 with 1 Axes>"
      ]
     },
     "metadata": {
      "needs_background": "light"
     },
     "output_type": "display_data"
    }
   ],
   "source": [
    "plt.figure(figsize=(10, 6))\n",
    "# prev train\n",
    "train_og[-100:].plot(label=\"past prices\")\n",
    "#actual\n",
    "val_og[:3].plot(label=\"actual prices\")\n",
    "# pred\n",
    "pred_train_scaled[:3].plot(label=\"pred prices\")"
   ]
  },
  {
   "cell_type": "code",
   "execution_count": null,
   "id": "dc723107",
   "metadata": {},
   "outputs": [],
   "source": [
    "# model.save_model(EXP_NAME+\".pth.tar\")"
   ]
  },
  {
   "cell_type": "markdown",
   "id": "6ae715df",
   "metadata": {},
   "source": [
    "## Historical Forecast"
   ]
  },
  {
   "cell_type": "code",
   "execution_count": null,
   "id": "f4afd63c",
   "metadata": {
    "scrolled": true
   },
   "outputs": [],
   "source": [
    "hist_for = model.historical_forecasts(\n",
    "    series=train,\n",
    "    start=0.95, #just the last 5 percent\n",
    "    forecast_horizon=30,\n",
    "    #stride=5,\n",
    "    retrain=False,\n",
    "    verbose=False, #too many bars...doesnt stop it\n",
    ")"
   ]
  },
  {
   "cell_type": "code",
   "execution_count": 36,
   "id": "16af0791",
   "metadata": {},
   "outputs": [],
   "source": [
    "# rescale\n",
    "# scale back:\n",
    "hist_for = scaler.inverse_transform(hist_for)"
   ]
  },
  {
   "cell_type": "code",
   "execution_count": 39,
   "id": "4fff5d57",
   "metadata": {},
   "outputs": [
    {
     "data": {
      "image/png": "[encoded data removed]",
      "text/plain": [
       "<Figure size 720x432 with 1 Axes>"
      ]
     },
     "metadata": {
      "needs_background": "light"
     },
     "output_type": "display_data"
    }
   ],
   "source": [
    "plt.figure(figsize=(10, 6))\n",
    "hist_for.plot(label=\"hist_forc last 1%\")\n",
    "train_og[-800:].plot(label=\"actual\")"
   ]
  },
  {
   "cell_type": "code",
   "execution_count": null,
   "id": "3844dbab",
   "metadata": {},
   "outputs": [],
   "source": []
  }
 ],
 "metadata": {
  "kernelspec": {
   "display_name": "Python 3 (ipykernel)",
   "language": "python",
   "name": "python3"
  },
  "language_info": {
   "codemirror_mode": {
    "name": "ipython",
    "version": 3
   },
   "file_extension": ".py",
   "mimetype": "text/x-python",
   "name": "python",
   "nbconvert_exporter": "python",
   "pygments_lexer": "ipython3",
   "version": "3.9.7"
  }
 },
 "nbformat": 4,
 "nbformat_minor": 5
}
