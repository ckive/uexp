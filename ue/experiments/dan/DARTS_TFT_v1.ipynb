{
 "cells": [
  {
   "cell_type": "markdown",
   "id": "4bffc16a",
   "metadata": {},
   "source": [
    "# Temporal Fusion Transformer\n",
    "Past-covariates:\n",
    "- open\n",
    "- high\n",
    "- low\n",
    "- volume\n",
    "\n",
    "Future-covariates:\n",
    "- hour\n",
    "- minute"
   ]
  },
  {
   "cell_type": "markdown",
   "id": "e2698836",
   "metadata": {},
   "source": [
    "[Note on vscode jupyter notebook and nbconvert](https://jupyter-format.readthedocs.io/en/latest/nbconvert.html) <br>\n",
    "[omg what a lifesaver...](https://www.pythonfixing.com/2021/12/fixed-notebook-validation-failed-jupyter.html)"
   ]
  },
  {
   "cell_type": "code",
   "execution_count": 1,
   "id": "b6f130d0",
   "metadata": {},
   "outputs": [],
   "source": [
    "EPOCHS = 1\n",
    "# Rule of thumb: 10-20% Forward v Backward\n",
    "LOOKBACK = 3600 # 1hr\n",
    "FORWARD = 600 # 10 mins"
   ]
  },
  {
   "cell_type": "code",
   "execution_count": 22,
   "id": "78f66a5a",
   "metadata": {},
   "outputs": [],
   "source": [
    "import numpy as np\n",
    "import pandas as pd\n",
    "from tqdm import tqdm_notebook as tqdm\n",
    "\n",
    "import matplotlib.pyplot as plt\n",
    "\n",
    "from darts import TimeSeries, concatenate\n",
    "from darts.dataprocessing.transformers import Scaler\n",
    "from darts.models import TFTModel\n",
    "from darts.metrics import mape\n",
    "from darts.utils.statistics import check_seasonality, plot_acf\n",
    "from darts.datasets import AirPassengersDataset, IceCreamHeaterDataset\n",
    "from darts.utils.timeseries_generation import datetime_attribute_timeseries\n",
    "from darts.utils.likelihood_models import QuantileRegression\n",
    "#======UEXP============\n",
    "from ue.uexp.dataprocessing.processor_binance import BinanceProcessor\n",
    "from ue.uexp.dataprocessing.func import *\n",
    "#======PytorchLightning===========\n",
    "import pytorch_lightning as pl\n",
    "from pytorch_lightning.callbacks import EarlyStopping\n",
    "from pytorch_lightning.plugins import DDPPlugin\n",
    "from pytorch_lightning import Trainer\n",
    "from pytorch_lightning.loggers import TensorBoardLogger\n",
    "from pytorch_lightning.callbacks import Callback\n",
    "\n",
    "import warnings\n",
    "warnings.filterwarnings(\"ignore\")\n",
    "import logging\n",
    "logging.disable(logging.CRITICAL)\n",
    "import time\n",
    "from datetime import timedelta\n",
    "startTime = time.time()"
   ]
  },
  {
   "cell_type": "markdown",
   "id": "b48a5196",
   "metadata": {},
   "source": [
    "## Temporal Fusion Transformer (TFT)\n",
    "\n",
    "Darts' `TFTModel` incorporates the following main components from the original Temporal Fusion Transformer (TFT) architecture as outlined in [this paper](https://arxiv.org/pdf/1912.09363.pdf):\n",
    "\n",
    "- gating mechanisms: skip over unused components of the model architecture\n",
    "- variable selection networks: select relevant input variables at each time step.\n",
    "- temporal processing of past and future input with LSTMs (long short-term memory)\n",
    "- multi-head attention: captures long-term temporal dependencies\n",
    "- prediction intervals: per default, produces quantile forecasts instead of deterministic values\n",
    "\n",
    "### Training\n",
    "`TFTModel` can be trained with past and future covariates. It is trained sequentially on fixed-size chunks consisting of an encoder and a decoder part:\n",
    "\n",
    "- encoder: past input with `input_chunk_length`\n",
    "  - **past target**: mandatory\n",
    "  - **past covariates**: optional\n",
    "- decoder: future known input with `output_chunk_length`\n",
    "  - **future covariates**: mandatory (if none are available, consider `TFTModel`'s optional arguments `add_encoders` or `add_relative_index` from [here](https://unit8co.github.io/darts/generated_api/darts.models.forecasting.tft_model.html?highlight=tftmodel#temporal-fusion-transformer-tft))\n",
    "\n",
    "In each iteration, the model produces a quantile prediction of shape `(output_chunk_length, n_quantiles)` on the decoder part.\n",
    "\n",
    "### Forecast\n",
    "#### Probabilistic Forecast\n",
    "Per default, `TFTModel` produces probabilistic quantile forecasts using `QuantileRegression`.\n",
    "This gives the range of likely target values at each prediction step.\n",
    "Most deep learning models in Darts'  - including `TFTModel` -  support `QuantileRegression` and 16 other likelihoods to produce probabilistic forecasts by setting `likelihood=MyLikelihood()` at model creation.\n",
    "\n",
    "To produce meaningful results, set `num_samples >> 1` when predicting. For example:\n",
    "\n",
    "```\n",
    "model.predict(*args, **kwargs, num_samples=200)\n",
    "```\n",
    "\n",
    "Predictions with forecasting horizon `n` are generated auto-regressively using encoder-decoder chunks of the same size as during training.\n",
    "\n",
    "If `n > output_chunk_length`, you have to supply additional future values for the covariates you passed to `model.train()`.\n",
    "\n",
    "#### Deterministic Forecast\n",
    "To produce deterministic rather than probabilistic forecasts, set parameter `likelihood` to `None` and `loss_fn` to a PyTorch loss function at model creation. For example:\n",
    "\n",
    "```\n",
    "model = TFTModel(*args, **kwargs, likelihood=None, loss_fn=torch.nn.MSELoss())\n",
    "...\n",
    "model.predict(*args, **kwargs, num_samples=1)\n",
    "```"
   ]
  },
  {
   "cell_type": "code",
   "execution_count": 3,
   "id": "df3c04e1",
   "metadata": {},
   "outputs": [],
   "source": [
    "# before starting, we define some constants\n",
    "num_samples = 200\n",
    "\n",
    "figsize = (9, 6)\n",
    "lowest_q, low_q, high_q, highest_q = 0.01, 0.1, 0.9, 0.99\n",
    "label_q_outer = f\"{int(lowest_q * 100)}-{int(highest_q * 100)}th percentiles\"\n",
    "label_q_inner = f\"{int(low_q * 100)}-{int(high_q * 100)}th percentiles\""
   ]
  },
  {
   "cell_type": "code",
   "execution_count": 4,
   "id": "c1aa129d",
   "metadata": {},
   "outputs": [
    {
     "name": "stdout",
     "output_type": "stream",
     "text": [
      "Found 1 symbols\n",
      "[1/1] - start download daily BTCUSDT aggTrades \n",
      "\n",
      "file already exists! ./cache/tick_raw/BTCUSDT-aggTrades-2022-02-19.csv\n",
      "\n",
      "file already exists! ./cache/tick_raw/BTCUSDT-aggTrades-2022-02-20.csv\n",
      "\n",
      "file already exists! ./cache/tick_raw/BTCUSDT-aggTrades-2022-02-21.csv\n"
     ]
    }
   ],
   "source": [
    "### get data (set config params)\n",
    "ticker_list = [\"BTCUSDT\"]\n",
    "start_date = \"2022-02-20\"\n",
    "end_date = \"2022-02-21\"\n",
    "time_interval = \"1s\"\n",
    "\n",
    "p = BinanceProcessor(\"binance\")\n",
    "df = p.download_data(ticker_list, start_date, end_date, time_interval)"
   ]
  },
  {
   "cell_type": "code",
   "execution_count": 5,
   "id": "7fb6f2ea",
   "metadata": {},
   "outputs": [],
   "source": [
    "df.drop(['tic'], axis=1, inplace=True)\n",
    "df = df[:20000]"
   ]
  },
  {
   "cell_type": "code",
   "execution_count": 6,
   "id": "2d6f2da7",
   "metadata": {},
   "outputs": [],
   "source": [
    "# past_covariates\n",
    "p_covdf = df[['open','high','low','volume']]\n",
    "# main series\n",
    "df = df[['close']]"
   ]
  },
  {
   "cell_type": "code",
   "execution_count": 7,
   "id": "7bef54e7",
   "metadata": {},
   "outputs": [],
   "source": [
    "# main series\n",
    "dfts = TimeSeries.from_dataframe(df)\n",
    "# optimize\n",
    "dfts = dfts.astype(np.float32)\n",
    "assert dfts.dtype == np.float32\n",
    "\n",
    "# past covariates\n",
    "p_covdfts = TimeSeries.from_dataframe(p_covdf)\n",
    "# optimize\n",
    "p_covdfts = p_covdfts.astype(np.float32)\n",
    "assert p_covdfts.dtype == np.float32"
   ]
  },
  {
   "cell_type": "code",
   "execution_count": 8,
   "id": "7c3d97a5",
   "metadata": {},
   "outputs": [],
   "source": [
    "# Create training and validation sets for series and covs:\n",
    "train, val = dfts.split_after(0.8)\n",
    "p_cov_train, p_cov_val = p_covdfts.split_after(0.8)\n",
    "\n",
    "# Normalize the time series (note: we avoid fitting the transformer on the validation set)\n",
    "transformer = Scaler()\n",
    "train_T, p_covtrain_T = transformer.fit_transform([train, p_cov_train])\n",
    "val_T, p_covval_T = transformer.transform([val, p_cov_val])\n"
   ]
  },
  {
   "cell_type": "markdown",
   "id": "1080de64",
   "metadata": {},
   "source": [
    "## Time index features as future covariates\n",
    "\n",
    "[specifics:](https://unit8co.github.io/darts/userguide/covariates.html?highlight=future_covariates); TLDR: When you train your model with fit() using past and /or future covariates, you have to supply the same types of covariates to predict(). Where p_covs have to cover up to \"cliff\"/\"split\" and f_covs extend at least to forecast horizon + steps"
   ]
  },
  {
   "cell_type": "markdown",
   "id": "bdd6291a",
   "metadata": {},
   "source": [
    "Time span requirements to use the same past and / or covariates series for both ``fit()`` and ``predict()``:\n",
    "\n",
    "- with n <= output_chunk_length:\n",
    "\n",
    "    - past_covariates: at least the same time span as target\n",
    "\n",
    "    - future_covariates: at least the same time span as target plus the next output_chunk_length time steps after the end of target\n",
    "\n",
    "- with n > output_chunk_length:\n",
    "\n",
    "    - past_covariates: at least the same time span as target plus the next n - output_chunk_length time steps after the end of target\n",
    "\n",
    "    - future_covariates: at least the same time span as target plus the next n time steps after the end of target\n",
    "\n"
   ]
  },
  {
   "cell_type": "markdown",
   "id": "17a0f664",
   "metadata": {},
   "source": [
    "**READ:**\n",
    "*In our case, where outputchunk=60, n=60, need p_covs covering [target] and f_covs covering [target + 60]*"
   ]
  },
  {
   "cell_type": "markdown",
   "id": "c7807a72",
   "metadata": {},
   "source": [
    "[In-depth Darts explanation of its train/predict stuff](https://unit8co.github.io/darts/userguide/torch_forecasting_models.html#required-target-time-spans-for-training-validation-and-prediction)"
   ]
  },
  {
   "cell_type": "code",
   "execution_count": 9,
   "id": "e1466ff3",
   "metadata": {},
   "outputs": [],
   "source": [
    "# datetime attrs from whole dfts series, Transform: fit on train split and transform whole thing, use the val portion\n",
    "f_cov = datetime_attribute_timeseries(dfts, attribute=\"minute\", one_hot=False)\n",
    "f_cov = f_cov.stack(\n",
    "    datetime_attribute_timeseries(dfts, attribute=\"hour\", one_hot=False)\n",
    ")\n",
    "f_cov = f_cov.astype(np.float32)\n",
    "\n",
    "# transform covariates (note: we fit the transformer on train split and can then transform the entire covariates series)\n",
    "scaler_f_covs = Scaler()\n",
    "f_cov_train, f_cov_val = f_cov.split_after(0.8)\n",
    "scaler_f_covs.fit(f_cov_train)\n",
    "f_cov_T = scaler_f_covs.transform(f_cov) #pass this into both fit and predict"
   ]
  },
  {
   "cell_type": "markdown",
   "id": "280447f8",
   "metadata": {},
   "source": [
    "### Create a model\n",
    "If you want to produce deterministic forecasts rather than quantile forecasts, you can use a PyTorch loss function (i.e., set `loss_fn=torch.nn.MSELoss()` and `likelihood=None`).\n",
    "\n",
    "The `TFTModel` can only be used if some future input is given. Optional parameters `add_encoders` and `add_relative_index` can be useful, especially if we don't have\n",
    "any future input available.<br>\n",
    "They generate endoded temporal data is used as future covariates.\n",
    "\n",
    "Since we already have future covariates defined in our example they are commented out."
   ]
  },
  {
   "cell_type": "code",
   "execution_count": 13,
   "id": "31142161",
   "metadata": {},
   "outputs": [],
   "source": [
    "# default quantiles for QuantileRegression\n",
    "quantiles = [\n",
    "    0.01,\n",
    "    0.05,\n",
    "    0.1,\n",
    "    0.15,\n",
    "    0.2,\n",
    "    0.25,\n",
    "    0.3,\n",
    "    0.4,\n",
    "    0.5,\n",
    "    0.6,\n",
    "    0.7,\n",
    "    0.75,\n",
    "    0.8,\n",
    "    0.85,\n",
    "    0.9,\n",
    "    0.95,\n",
    "    0.99,\n",
    "]"
   ]
  },
  {
   "cell_type": "code",
   "execution_count": 23,
   "id": "e9f2758d",
   "metadata": {},
   "outputs": [],
   "source": [
    "class LossLogger(Callback):\n",
    "    def __init__(self):\n",
    "        self.train_loss = []\n",
    "        self.val_loss = []\n",
    "\n",
    "    def on_train_epoch_end(self, trainer: \"pl.Trainer\", pl_module: \"pl.LightningModule\") -> None:\n",
    "        self.train_loss.append(float(trainer.callback_metrics[\"train_loss\"]))\n",
    "\n",
    "    def on_validation_epoch_end(self, trainer: \"pl.Trainer\", pl_module: \"pl.LightningModule\") -> None:\n",
    "        self.val_loss.append(float(trainer.callback_metrics[\"val_loss\"]))\n",
    "\n",
    "\n",
    "loss_logger = LossLogger()"
   ]
  },
  {
   "cell_type": "code",
   "execution_count": 14,
   "id": "d0e38730",
   "metadata": {},
   "outputs": [],
   "source": [
    "my_model = TFTModel(\n",
    "    input_chunk_length=LOOKBACK,\n",
    "    output_chunk_length=FORWARD,\n",
    "    hidden_size=64,\n",
    "    lstm_layers=1,\n",
    "    num_attention_heads=4,\n",
    "    dropout=0.1,\n",
    "    batch_size=16,\n",
    "    n_epochs=EPOCHS,\n",
    "    add_relative_index=False,\n",
    "    add_encoders=None,\n",
    "    likelihood=QuantileRegression(\n",
    "        quantiles=quantiles\n",
    "    ),  # QuantileRegression is set per default\n",
    "    # loss_fn=MSELoss(),\n",
    "    random_state=42,\n",
    "    pl_trainer_kwargs={\n",
    "        \"accelerator\": \"gpu\",\n",
    "        \"gpus\": [3],\n",
    "        \"enable_progress_bar\": True,\n",
    "        \"callbacks\": [loss_logger],\n",
    "        # [my_stopper],\n",
    "    }\n",
    ")"
   ]
  },
  {
   "cell_type": "markdown",
   "id": "0837bc85",
   "metadata": {},
   "source": [
    "### Train the TFT\n",
    "\n",
    "In what follows, we can just provide the whole `covariates` series as `future_covariates` argument to the model; the model will slice these covariates and use only what it needs in order to train on forecasting the target `train_transformed`:"
   ]
  },
  {
   "cell_type": "code",
   "execution_count": 17,
   "id": "cf1f5ff1",
   "metadata": {},
   "outputs": [
    {
     "name": "stdout",
     "output_type": "stream",
     "text": [
      "(16000, 4000)\n",
      "(1, 1)\n"
     ]
    }
   ],
   "source": [
    "print((len(train_T), len(val_T)))\n",
    "print((train_T.n_components, val_T.n_components))"
   ]
  },
  {
   "cell_type": "code",
   "execution_count": 18,
   "id": "5ecae5ed",
   "metadata": {},
   "outputs": [
    {
     "data": {
      "application/vnd.jupyter.widget-view+json": {
       "model_id": "a235e52e0abd4e118897fd73c3211222",
       "version_major": 2,
       "version_minor": 0
      },
      "text/plain": [
       "Training: 0it [00:00, ?it/s]"
      ]
     },
     "metadata": {},
     "output_type": "display_data"
    }
   ],
   "source": [
    "# TFT requires future_covariates\n",
    "history = my_model.fit(\n",
    "            train_T, \n",
    "            #val_series=val_T, \n",
    "            past_covariates=p_covtrain_T, #ohlv of just the past\n",
    "            future_covariates=f_cov_T, # hrs, mins of both past and future\n",
    "            verbose=True)"
   ]
  },
  {
   "cell_type": "code",
   "execution_count": 20,
   "id": "680387cb",
   "metadata": {},
   "outputs": [
    {
     "ename": "AttributeError",
     "evalue": "'TFTModel' object has no attribute 'history'",
     "output_type": "error",
     "traceback": [
      "\u001b[0;31m---------------------------------------------------------------------------\u001b[0m",
      "\u001b[0;31mAttributeError\u001b[0m                            Traceback (most recent call last)",
      "\u001b[0;32m/tmp/ipykernel_1176598/453550438.py\u001b[0m in \u001b[0;36m<module>\u001b[0;34m\u001b[0m\n\u001b[0;32m----> 1\u001b[0;31m \u001b[0mhistory\u001b[0m\u001b[0;34m.\u001b[0m\u001b[0mhistory\u001b[0m\u001b[0;34m[\u001b[0m\u001b[0;34m'loss'\u001b[0m\u001b[0;34m]\u001b[0m\u001b[0;34m\u001b[0m\u001b[0;34m\u001b[0m\u001b[0m\n\u001b[0m",
      "\u001b[0;31mAttributeError\u001b[0m: 'TFTModel' object has no attribute 'history'"
     ]
    }
   ],
   "source": [
    "history.history['loss']"
   ]
  },
  {
   "cell_type": "markdown",
   "id": "9397702c",
   "metadata": {},
   "source": [
    "### Look at predictions on the validation set\n",
    "We perform a one-shot prediction of X amount of time using the \"current\" model - i.e., the model at the end of the training procedure:"
   ]
  },
  {
   "cell_type": "code",
   "execution_count": 28,
   "id": "386fd051",
   "metadata": {},
   "outputs": [
    {
     "data": {
      "application/vnd.jupyter.widget-view+json": {
       "model_id": "bb200cbf97524448ab223f482648296d",
       "version_major": 2,
       "version_minor": 0
      },
      "text/plain": [
       "Predicting: 978it [00:00, ?it/s]"
      ]
     },
     "metadata": {},
     "output_type": "display_data"
    }
   ],
   "source": [
    "# TFT requires future_covariates\n",
    "pred_series = my_model.predict(\n",
    "    n=60,\n",
    "    num_samples=num_samples,\n",
    "    past_covariates=p_covtrain_T, #ohlv of just the past\n",
    "    future_covariates=f_cov_T, # hrs, mins of both past and future\n",
    "    verbose=True)"
   ]
  },
  {
   "cell_type": "code",
   "execution_count": 29,
   "id": "19f8b59b",
   "metadata": {},
   "outputs": [],
   "source": [
    "# scale back:\n",
    "pred_series_scaled = transformer.inverse_transform(pred_series)"
   ]
  },
  {
   "cell_type": "code",
   "execution_count": 30,
   "id": "e8328656",
   "metadata": {},
   "outputs": [
    {
     "data": {
      "image/png": "[encoded data removed]",
      "text/plain": [
       "<Figure size 648x432 with 1 Axes>"
      ]
     },
     "metadata": {
      "needs_background": "light"
     },
     "output_type": "display_data"
    }
   ],
   "source": [
    "plt.figure(figsize=figsize)\n",
    "#val set\n",
    "val[:60].plot(label=\"actual\")\n",
    "#preds\n",
    "pred_series_scaled.plot(label=\"predicted_scaled\")"
   ]
  },
  {
   "cell_type": "code",
   "execution_count": null,
   "id": "abec56a2",
   "metadata": {},
   "outputs": [],
   "source": [
    "executionTime = (time.time() - startTime)\n",
    "print('Execution time in seconds: ' + str(executionTime))\n",
    "print('Execution time:', str(timedelta(seconds=executionTime)))"
   ]
  }
 ],
 "metadata": {
  "kernelspec": {
   "display_name": "Python 3 (ipykernel)",
   "language": "python",
   "name": "python3"
  },
  "language_info": {
   "codemirror_mode": {
    "name": "ipython",
    "version": 3
   },
   "file_extension": ".py",
   "mimetype": "text/x-python",
   "name": "python",
   "nbconvert_exporter": "python",
   "pygments_lexer": "ipython3",
   "version": "3.9.7"
  }
 },
 "nbformat": 4,
 "nbformat_minor": 5
}
