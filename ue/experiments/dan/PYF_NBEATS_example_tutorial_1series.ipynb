{
 "cells": [
  {
   "cell_type": "markdown",
   "id": "1f7aa125",
   "metadata": {},
   "source": [
    "Something is very wrong with their implementation of group_id...\n",
    "When using 1 series, altho it's super long, it does not work"
   ]
  },
  {
   "cell_type": "code",
   "execution_count": 1,
   "id": "a2522f27",
   "metadata": {},
   "outputs": [],
   "source": [
    "import warnings\n",
    "\n",
    "warnings.filterwarnings(\"ignore\")"
   ]
  },
  {
   "cell_type": "code",
   "execution_count": 2,
   "id": "8e64183d",
   "metadata": {},
   "outputs": [],
   "source": [
    "import pandas as pd\n",
    "import pytorch_lightning as pl\n",
    "from pytorch_lightning.callbacks import EarlyStopping\n",
    "import torch\n",
    "\n",
    "from pytorch_forecasting import Baseline, NBeats, TimeSeriesDataSet\n",
    "from pytorch_forecasting.data import NaNLabelEncoder\n",
    "from pytorch_forecasting.data.examples import generate_ar_data\n",
    "from pytorch_forecasting.metrics import SMAPE"
   ]
  },
  {
   "cell_type": "code",
   "execution_count": 3,
   "id": "ea082793",
   "metadata": {},
   "outputs": [
    {
     "data": {
      "text/html": [
       "<div>\n",
       "<style scoped>\n",
       "    .dataframe tbody tr th:only-of-type {\n",
       "        vertical-align: middle;\n",
       "    }\n",
       "\n",
       "    .dataframe tbody tr th {\n",
       "        vertical-align: top;\n",
       "    }\n",
       "\n",
       "    .dataframe thead th {\n",
       "        text-align: right;\n",
       "    }\n",
       "</style>\n",
       "<table border=\"1\" class=\"dataframe\">\n",
       "  <thead>\n",
       "    <tr style=\"text-align: right;\">\n",
       "      <th></th>\n",
       "      <th>series</th>\n",
       "      <th>time_idx</th>\n",
       "      <th>value</th>\n",
       "      <th>date</th>\n",
       "    </tr>\n",
       "  </thead>\n",
       "  <tbody>\n",
       "    <tr>\n",
       "      <th>0</th>\n",
       "      <td>0</td>\n",
       "      <td>0</td>\n",
       "      <td>0.000000</td>\n",
       "      <td>2020-01-01</td>\n",
       "    </tr>\n",
       "    <tr>\n",
       "      <th>1</th>\n",
       "      <td>0</td>\n",
       "      <td>1</td>\n",
       "      <td>0.001569</td>\n",
       "      <td>2020-01-02</td>\n",
       "    </tr>\n",
       "    <tr>\n",
       "      <th>2</th>\n",
       "      <td>0</td>\n",
       "      <td>2</td>\n",
       "      <td>0.003720</td>\n",
       "      <td>2020-01-03</td>\n",
       "    </tr>\n",
       "    <tr>\n",
       "      <th>3</th>\n",
       "      <td>0</td>\n",
       "      <td>3</td>\n",
       "      <td>0.005189</td>\n",
       "      <td>2020-01-04</td>\n",
       "    </tr>\n",
       "    <tr>\n",
       "      <th>4</th>\n",
       "      <td>0</td>\n",
       "      <td>4</td>\n",
       "      <td>0.006123</td>\n",
       "      <td>2020-01-05</td>\n",
       "    </tr>\n",
       "  </tbody>\n",
       "</table>\n",
       "</div>"
      ],
      "text/plain": [
       "   series  time_idx     value       date\n",
       "0       0         0  0.000000 2020-01-01\n",
       "1       0         1  0.001569 2020-01-02\n",
       "2       0         2  0.003720 2020-01-03\n",
       "3       0         3  0.005189 2020-01-04\n",
       "4       0         4  0.006123 2020-01-05"
      ]
     },
     "execution_count": 3,
     "metadata": {},
     "output_type": "execute_result"
    }
   ],
   "source": [
    "data = generate_ar_data(seasonality=10.0, timesteps=40000, n_series=1, seed=42)\n",
    "#data[\"static\"] = 2\n",
    "data[\"date\"] = pd.Timestamp(\"2020-01-01\") + pd.to_timedelta(data.time_idx, \"D\")\n",
    "data.head()"
   ]
  },
  {
   "cell_type": "code",
   "execution_count": 4,
   "id": "becc1398",
   "metadata": {},
   "outputs": [
    {
     "data": {
      "text/plain": [
       "array([0])"
      ]
     },
     "execution_count": 4,
     "metadata": {},
     "output_type": "execute_result"
    }
   ],
   "source": [
    "data['series'].unique()"
   ]
  },
  {
   "cell_type": "code",
   "execution_count": 5,
   "id": "1e989425",
   "metadata": {},
   "outputs": [
    {
     "data": {
      "text/plain": [
       "<AxesSubplot:>"
      ]
     },
     "execution_count": 5,
     "metadata": {},
     "output_type": "execute_result"
    },
    {
     "data": {
      "image/png": "[encoded data removed]",
      "text/plain": [
       "<Figure size 432x288 with 1 Axes>"
      ]
     },
     "metadata": {
      "needs_background": "light"
     },
     "output_type": "display_data"
    }
   ],
   "source": [
    "data['value'].hist()"
   ]
  },
  {
   "cell_type": "code",
   "execution_count": 6,
   "id": "7e77c631",
   "metadata": {},
   "outputs": [],
   "source": [
    "# create dataset and dataloaders\n",
    "max_encoder_length = 60\n",
    "max_prediction_length = 20\n",
    "\n",
    "training_cutoff = data[\"time_idx\"].max() - max_prediction_length\n",
    "\n",
    "context_length = max_encoder_length\n",
    "prediction_length = max_prediction_length\n",
    "\n",
    "training = TimeSeriesDataSet(\n",
    "    data[lambda x: x.time_idx <= training_cutoff],\n",
    "    time_idx=\"time_idx\",\n",
    "    target=\"value\",\n",
    "    categorical_encoders={\"series\": NaNLabelEncoder().fit(data.series)},\n",
    "    group_ids=[\"series\"],\n",
    "    # only unknown variable is \"value\" - and N-Beats can also not take any additional variables\n",
    "    time_varying_unknown_reals=[\"value\"],\n",
    "    max_encoder_length=context_length,\n",
    "    max_prediction_length=prediction_length,\n",
    ")\n",
    "\n",
    "validation = TimeSeriesDataSet.from_dataset(training, data, min_prediction_idx=training_cutoff + 1)\n",
    "batch_size = 128\n",
    "train_dataloader = training.to_dataloader(train=True, batch_size=batch_size, num_workers=0)\n",
    "val_dataloader = validation.to_dataloader(train=False, batch_size=batch_size, num_workers=0)"
   ]
  },
  {
   "cell_type": "code",
   "execution_count": 7,
   "id": "8356c136",
   "metadata": {},
   "outputs": [
    {
     "data": {
      "text/plain": [
       "tensor(0.0974)"
      ]
     },
     "execution_count": 7,
     "metadata": {},
     "output_type": "execute_result"
    }
   ],
   "source": [
    "# calculate baseline absolute error\n",
    "actuals = torch.cat([y[0] for x, y in iter(val_dataloader)])\n",
    "baseline_predictions = Baseline().predict(val_dataloader)\n",
    "SMAPE()(baseline_predictions, actuals)"
   ]
  },
  {
   "cell_type": "markdown",
   "id": "aefe9562",
   "metadata": {},
   "source": [
    "# Train Model\n",
    "## Set up pytorch-lightning and params"
   ]
  },
  {
   "cell_type": "code",
   "execution_count": 8,
   "id": "f55181e1",
   "metadata": {},
   "outputs": [
    {
     "name": "stderr",
     "output_type": "stream",
     "text": [
      "Global seed set to 42\n",
      "GPU available: False, used: False\n",
      "TPU available: False, using: 0 TPU cores\n",
      "IPU available: False, using: 0 IPUs\n"
     ]
    }
   ],
   "source": [
    "pl.seed_everything(42)\n",
    "trainer = pl.Trainer(gpus=0, gradient_clip_val=0.01)\n",
    "net = NBeats.from_dataset(training, learning_rate=3e-2, weight_decay=1e-2, widths=[32, 512], backcast_loss_ratio=0.1)"
   ]
  },
  {
   "cell_type": "code",
   "execution_count": 9,
   "id": "ec005349",
   "metadata": {},
   "outputs": [
    {
     "name": "stderr",
     "output_type": "stream",
     "text": [
      "/Users/dan/miniforge3/lib/python3.9/site-packages/pytorch_lightning/trainer/trainer.py:1079: LightningDeprecationWarning: `trainer.tune(train_dataloader)` is deprecated in v1.4 and will be removed in v1.6. Use `trainer.tune(train_dataloaders)` instead. HINT: added 's'\n",
      "  rank_zero_deprecation(\n",
      "Global seed set to 42\n",
      "Finding best initial lr:  99%|████████████████▊| 99/100 [00:04<00:00, 21.25it/s]Restoring states from the checkpoint path at /Users/dan/Desktop/projects/uexp/ue/experiments/dan/lr_find_temp_model_40104e2e-46bb-42fe-8929-45d65a75cee3.ckpt\n",
      "Finding best initial lr: 100%|████████████████| 100/100 [00:04<00:00, 20.98it/s]\n"
     ]
    },
    {
     "name": "stdout",
     "output_type": "stream",
     "text": [
      "suggested learning rate: 6.309573444801933e-05\n"
     ]
    },
    {
     "data": {
      "image/png": "[encoded data removed]",
      "text/plain": [
       "<Figure size 432x288 with 1 Axes>"
      ]
     },
     "metadata": {
      "needs_background": "light"
     },
     "output_type": "display_data"
    }
   ],
   "source": [
    "# find optimal learning rate\n",
    "res = trainer.tuner.lr_find(net, train_dataloader=train_dataloader, val_dataloaders=val_dataloader, min_lr=1e-5)\n",
    "print(f\"suggested learning rate: {res.suggestion()}\")\n",
    "fig = res.plot(show=True, suggest=True)\n",
    "fig.show()\n",
    "net.hparams.learning_rate = res.suggestion()"
   ]
  },
  {
   "cell_type": "markdown",
   "id": "3265d97d",
   "metadata": {},
   "source": [
    "## Fit Model"
   ]
  },
  {
   "cell_type": "code",
   "execution_count": 10,
   "id": "56ca000f",
   "metadata": {},
   "outputs": [],
   "source": [
    "# GENERIC Params\n",
    "params_generic = {\n",
    "    \"stack_types\": [\"generic\"],\n",
    "    \"num_blocks\": [1],\n",
    "    \"num_block_layers\": [4],\n",
    "    \"widths\": [512],\n",
    "    \"sharing\": [False],\n",
    "    \"expansion_coefficient_lengths\": [32],\n",
    "    # handled already in the TSDS class (i think)\n",
    "    # \"prediction_length\": 10,\n",
    "    # \"context_length\": 60,\n",
    "    # ^ Should be between 1-10 times the prediction length (as per pyf.Nbeats docs)\n",
    "    # \"backcast_loss_ratio\": #this the paper doesn't say...so setting as default=0 for now\n",
    "    # \"loss\": \"MASE\",                                    # defaults to MASE(), paper in Generic mode used sMAPE, MAPE as well\n",
    "    \n",
    "    ### Base Model params\n",
    "    #\"logging_metrics\": ['mse','mape','mae'], #for Tsb   # default looks at [SMAPE(), MAE(), RMSE(), MAPE(), MASE()]\n",
    "    \"optimizer\": \"adam\",                                 # NBEATS uses adam\n",
    "    \"weight_decay\": 0,                                   # base model default\n",
    "    \n",
    "}"
   ]
  },
  {
   "cell_type": "code",
   "execution_count": 11,
   "id": "426b8634",
   "metadata": {},
   "outputs": [],
   "source": [
    "# net = NBeats.from_dataset(training, **params_generic)"
   ]
  },
  {
   "cell_type": "code",
   "execution_count": 12,
   "id": "c846cec8",
   "metadata": {},
   "outputs": [
    {
     "name": "stderr",
     "output_type": "stream",
     "text": [
      "GPU available: False, used: False\n",
      "TPU available: False, using: 0 TPU cores\n",
      "IPU available: False, using: 0 IPUs\n",
      "/Users/dan/miniforge3/lib/python3.9/site-packages/pytorch_lightning/trainer/trainer.py:735: LightningDeprecationWarning: `trainer.fit(train_dataloader)` is deprecated in v1.4 and will be removed in v1.6. Use `trainer.fit(train_dataloaders)` instead. HINT: added 's'\n",
      "  rank_zero_deprecation(\n",
      "\n",
      "  | Name            | Type       | Params\n",
      "-----------------------------------------------\n",
      "0 | loss            | MASE       | 0     \n",
      "1 | logging_metrics | ModuleList | 0     \n",
      "2 | net_blocks      | ModuleList | 1.7 M \n",
      "-----------------------------------------------\n",
      "1.7 M     Trainable params\n",
      "0         Non-trainable params\n",
      "1.7 M     Total params\n",
      "6.851     Total estimated model params size (MB)\n"
     ]
    },
    {
     "name": "stdout",
     "output_type": "stream",
     "text": [
      "                                                                                "
     ]
    },
    {
     "name": "stderr",
     "output_type": "stream",
     "text": [
      "Global seed set to 42\n"
     ]
    },
    {
     "name": "stdout",
     "output_type": "stream",
     "text": [
      "Epoch 0:  97%|▉| 30/31 [00:01<00:00, 15.54it/s, loss=1.05, v_num=2, train_loss_s\n",
      "Validating: 0it [00:00, ?it/s]\u001b[A\n",
      "Validating:   0%|                                         | 0/1 [00:00<?, ?it/s]\u001b[A\n",
      "Epoch 0: 100%|█| 31/31 [00:02<00:00, 15.17it/s, loss=1.05, v_num=2, train_loss_s\u001b[A\n",
      "Epoch 1:  97%|▉| 30/31 [00:01<00:00, 16.66it/s, loss=0.878, v_num=2, train_loss_\u001b[A\n",
      "Validating: 0it [00:00, ?it/s]\u001b[A\n",
      "Epoch 1: 100%|█| 31/31 [00:01<00:00, 16.23it/s, loss=0.878, v_num=2, train_loss_\u001b[A\n",
      "Epoch 2:  97%|▉| 30/31 [00:01<00:00, 15.64it/s, loss=0.829, v_num=2, train_loss_\u001b[A\n",
      "Validating: 0it [00:00, ?it/s]\u001b[A\n",
      "Epoch 2: 100%|█| 31/31 [00:02<00:00, 15.29it/s, loss=0.829, v_num=2, train_loss_\u001b[A\n",
      "Epoch 3:  97%|▉| 30/31 [00:01<00:00, 16.33it/s, loss=0.827, v_num=2, train_loss_\u001b[A\n",
      "Validating: 0it [00:00, ?it/s]\u001b[A\n",
      "Epoch 3: 100%|█| 31/31 [00:01<00:00, 15.94it/s, loss=0.827, v_num=2, train_loss_\u001b[A\n",
      "Epoch 4:  97%|▉| 30/31 [00:01<00:00, 16.27it/s, loss=0.792, v_num=2, train_loss_\u001b[A\n",
      "Validating: 0it [00:00, ?it/s]\u001b[A\n",
      "Validating:   0%|                                         | 0/1 [00:00<?, ?it/s]\u001b[A\n",
      "Epoch 4: 100%|█| 31/31 [00:01<00:00, 15.85it/s, loss=0.792, v_num=2, train_loss_\u001b[A\n",
      "Epoch 5:  97%|▉| 30/31 [00:01<00:00, 15.51it/s, loss=0.778, v_num=2, train_loss_\u001b[A\n",
      "Validating: 0it [00:00, ?it/s]\u001b[A\n",
      "Epoch 5: 100%|█| 31/31 [00:02<00:00, 15.18it/s, loss=0.778, v_num=2, train_loss_\u001b[A\n",
      "Epoch 6:  97%|▉| 30/31 [00:01<00:00, 15.93it/s, loss=0.761, v_num=2, train_loss_\u001b[A\n",
      "Validating: 0it [00:00, ?it/s]\u001b[A\n",
      "Validating:   0%|                                         | 0/1 [00:00<?, ?it/s]\u001b[A\n",
      "Epoch 6: 100%|█| 31/31 [00:01<00:00, 15.52it/s, loss=0.761, v_num=2, train_loss_\u001b[A\n",
      "Epoch 7:  97%|▉| 30/31 [00:01<00:00, 16.35it/s, loss=0.75, v_num=2, train_loss_s\u001b[A\n",
      "Validating: 0it [00:00, ?it/s]\u001b[A\n",
      "Validating:   0%|                                         | 0/1 [00:00<?, ?it/s]\u001b[A\n",
      "Epoch 7: 100%|█| 31/31 [00:01<00:00, 15.93it/s, loss=0.75, v_num=2, train_loss_s\u001b[A\n",
      "Epoch 8:  97%|▉| 30/31 [00:01<00:00, 15.29it/s, loss=0.745, v_num=2, train_loss_\u001b[A\n",
      "Validating: 0it [00:00, ?it/s]\u001b[A\n",
      "Validating:   0%|                                         | 0/1 [00:00<?, ?it/s]\u001b[A\n",
      "Epoch 8: 100%|█| 31/31 [00:02<00:00, 14.93it/s, loss=0.745, v_num=2, train_loss_\u001b[A\n",
      "Epoch 9:  97%|▉| 30/31 [00:01<00:00, 16.10it/s, loss=0.746, v_num=2, train_loss_\u001b[A\n",
      "Validating: 0it [00:00, ?it/s]\u001b[A\n",
      "Validating:   0%|                                         | 0/1 [00:00<?, ?it/s]\u001b[A\n",
      "Epoch 9: 100%|█| 31/31 [00:01<00:00, 15.66it/s, loss=0.746, v_num=2, train_loss_\u001b[A\n",
      "Epoch 10:  97%|▉| 30/31 [00:01<00:00, 16.04it/s, loss=0.741, v_num=2, train_loss\u001b[A\n",
      "Validating: 0it [00:00, ?it/s]\u001b[A\n",
      "Validating:   0%|                                         | 0/1 [00:00<?, ?it/s]\u001b[A\n",
      "Epoch 10: 100%|█| 31/31 [00:01<00:00, 15.61it/s, loss=0.741, v_num=2, train_loss\u001b[A\n",
      "Epoch 11:  97%|▉| 30/31 [00:01<00:00, 16.27it/s, loss=0.738, v_num=2, train_loss\u001b[A\n",
      "Validating: 0it [00:00, ?it/s]\u001b[A\n",
      "Validating:   0%|                                         | 0/1 [00:00<?, ?it/s]\u001b[A\n",
      "Epoch 11: 100%|█| 31/31 [00:01<00:00, 15.85it/s, loss=0.738, v_num=2, train_loss\u001b[A\n",
      "Epoch 12:  97%|▉| 30/31 [00:02<00:00, 14.67it/s, loss=0.736, v_num=2, train_loss\u001b[A\n",
      "Validating: 0it [00:00, ?it/s]\u001b[A\n",
      "Validating:   0%|                                         | 0/1 [00:00<?, ?it/s]\u001b[A\n",
      "Epoch 12: 100%|█| 31/31 [00:02<00:00, 14.32it/s, loss=0.736, v_num=2, train_loss\u001b[A\n",
      "Epoch 13:  97%|▉| 30/31 [00:01<00:00, 16.24it/s, loss=0.736, v_num=2, train_loss\u001b[A\n",
      "Validating: 0it [00:00, ?it/s]\u001b[A\n",
      "Validating:   0%|                                         | 0/1 [00:00<?, ?it/s]\u001b[A\n",
      "Epoch 13: 100%|█| 31/31 [00:01<00:00, 15.79it/s, loss=0.736, v_num=2, train_loss\u001b[A\n",
      "Epoch 14:  97%|▉| 30/31 [00:01<00:00, 16.24it/s, loss=0.737, v_num=2, train_loss\u001b[A\n",
      "Validating: 0it [00:00, ?it/s]\u001b[A\n",
      "Validating:   0%|                                         | 0/1 [00:00<?, ?it/s]\u001b[A\n",
      "Epoch 14: 100%|█| 31/31 [00:01<00:00, 15.83it/s, loss=0.737, v_num=2, train_loss\u001b[A\n",
      "Epoch 15:  97%|▉| 30/31 [00:01<00:00, 15.87it/s, loss=0.733, v_num=2, train_loss\u001b[A\n",
      "Validating: 0it [00:00, ?it/s]\u001b[A\n",
      "Validating:   0%|                                         | 0/1 [00:00<?, ?it/s]\u001b[A\n",
      "Epoch 15: 100%|█| 31/31 [00:02<00:00, 15.46it/s, loss=0.733, v_num=2, train_loss\u001b[A\n",
      "Epoch 16:  97%|▉| 30/31 [00:01<00:00, 16.07it/s, loss=0.734, v_num=2, train_loss\u001b[A\n",
      "Validating: 0it [00:00, ?it/s]\u001b[A\n",
      "Validating:   0%|                                         | 0/1 [00:00<?, ?it/s]\u001b[A\n",
      "Epoch 16: 100%|█| 31/31 [00:01<00:00, 15.67it/s, loss=0.734, v_num=2, train_loss\u001b[A\n",
      "Epoch 17:  97%|▉| 30/31 [00:02<00:00, 14.21it/s, loss=0.729, v_num=2, train_loss\u001b[A\n",
      "Validating: 0it [00:00, ?it/s]\u001b[A\n",
      "Epoch 17: 100%|█| 31/31 [00:02<00:00, 13.97it/s, loss=0.729, v_num=2, train_loss\u001b[A\n",
      "Epoch 18:  97%|▉| 30/31 [00:01<00:00, 16.27it/s, loss=0.73, v_num=2, train_loss_\u001b[A\n",
      "Validating: 0it [00:00, ?it/s]\u001b[A\n",
      "Validating:   0%|                                         | 0/1 [00:00<?, ?it/s]\u001b[A\n",
      "Epoch 18: 100%|█| 31/31 [00:01<00:00, 15.84it/s, loss=0.73, v_num=2, train_loss_\u001b[A\n",
      "Epoch 19:  97%|▉| 30/31 [00:01<00:00, 16.28it/s, loss=0.731, v_num=2, train_loss\u001b[A\n",
      "Validating: 0it [00:00, ?it/s]\u001b[A\n",
      "Epoch 19: 100%|█| 31/31 [00:01<00:00, 15.88it/s, loss=0.731, v_num=2, train_loss\u001b[A\n",
      "Epoch 20:  97%|▉| 30/31 [00:01<00:00, 16.18it/s, loss=0.725, v_num=2, train_loss\u001b[A\n",
      "Validating: 0it [00:00, ?it/s]\u001b[A\n",
      "Epoch 20: 100%|█| 31/31 [00:01<00:00, 15.79it/s, loss=0.725, v_num=2, train_loss\u001b[A\n",
      "Epoch 21:  97%|▉| 30/31 [00:01<00:00, 16.27it/s, loss=0.728, v_num=2, train_loss\u001b[A\n",
      "Validating: 0it [00:00, ?it/s]\u001b[A\n",
      "Epoch 21: 100%|█| 31/31 [00:01<00:00, 15.87it/s, loss=0.728, v_num=2, train_loss\u001b[A\n",
      "Epoch 22:  97%|▉| 30/31 [00:01<00:00, 16.27it/s, loss=0.727, v_num=2, train_loss\u001b[A\n",
      "Validating: 0it [00:00, ?it/s]\u001b[A\n",
      "Epoch 22: 100%|█| 31/31 [00:01<00:00, 15.89it/s, loss=0.727, v_num=2, train_loss\u001b[A\n",
      "Epoch 22: 100%|█| 31/31 [00:01<00:00, 15.66it/s, loss=0.727, v_num=2, train_loss\u001b[A\n"
     ]
    }
   ],
   "source": [
    "early_stop_callback = EarlyStopping(monitor=\"val_loss\", min_delta=1e-4, patience=10, verbose=False, mode=\"min\")\n",
    "trainer = pl.Trainer(\n",
    "    max_epochs=100,\n",
    "    gpus=0,\n",
    "    weights_summary=\"top\",\n",
    "    gradient_clip_val=0.01,\n",
    "    callbacks=[early_stop_callback],\n",
    "    limit_train_batches=30,\n",
    ")\n",
    "\n",
    "\n",
    "net = NBeats.from_dataset(\n",
    "    training,\n",
    "    learning_rate=4e-3,\n",
    "    log_interval=10,\n",
    "    log_val_interval=1,\n",
    "    weight_decay=1e-2,\n",
    "    widths=[32, 512],\n",
    "    backcast_loss_ratio=1.0,\n",
    ")\n",
    "\n",
    "trainer.fit(\n",
    "    net,\n",
    "    train_dataloader=train_dataloader,\n",
    "    val_dataloaders=val_dataloader,\n",
    ")\n"
   ]
  },
  {
   "cell_type": "markdown",
   "id": "a0668f82",
   "metadata": {},
   "source": [
    "# Evaluate Results"
   ]
  },
  {
   "cell_type": "code",
   "execution_count": 13,
   "id": "833d3437",
   "metadata": {},
   "outputs": [],
   "source": [
    "best_model_path = trainer.checkpoint_callback.best_model_path\n",
    "best_model = NBeats.load_from_checkpoint(best_model_path)\n"
   ]
  },
  {
   "cell_type": "code",
   "execution_count": 14,
   "id": "3a522637",
   "metadata": {},
   "outputs": [
    {
     "data": {
      "text/plain": [
       "tensor(0.1342)"
      ]
     },
     "execution_count": 14,
     "metadata": {},
     "output_type": "execute_result"
    }
   ],
   "source": [
    "actuals = torch.cat([y[0] for x, y in iter(val_dataloader)])\n",
    "predictions = best_model.predict(val_dataloader)\n",
    "(actuals - predictions).abs().mean()"
   ]
  },
  {
   "cell_type": "code",
   "execution_count": 15,
   "id": "3df89f17",
   "metadata": {},
   "outputs": [],
   "source": [
    "raw_predictions, x = best_model.predict(val_dataloader, mode=\"raw\", return_x=True)"
   ]
  },
  {
   "cell_type": "code",
   "execution_count": 16,
   "id": "8ea53736",
   "metadata": {},
   "outputs": [
    {
     "ename": "IndexError",
     "evalue": "index 1 is out of bounds for dimension 0 with size 1",
     "output_type": "error",
     "traceback": [
      "\u001b[0;31m---------------------------------------------------------------------------\u001b[0m",
      "\u001b[0;31mIndexError\u001b[0m                                Traceback (most recent call last)",
      "\u001b[0;32m/var/folders/nw/q8c9lcfd38qg_8hw2py9hw840000gn/T/ipykernel_40603/3648239446.py\u001b[0m in \u001b[0;36m<module>\u001b[0;34m\u001b[0m\n\u001b[1;32m      1\u001b[0m \u001b[0;32mfor\u001b[0m \u001b[0midx\u001b[0m \u001b[0;32min\u001b[0m \u001b[0mrange\u001b[0m\u001b[0;34m(\u001b[0m\u001b[0;36m10\u001b[0m\u001b[0;34m)\u001b[0m\u001b[0;34m:\u001b[0m  \u001b[0;31m# plot 10 examples\u001b[0m\u001b[0;34m\u001b[0m\u001b[0;34m\u001b[0m\u001b[0m\n\u001b[0;32m----> 2\u001b[0;31m     \u001b[0mbest_model\u001b[0m\u001b[0;34m.\u001b[0m\u001b[0mplot_prediction\u001b[0m\u001b[0;34m(\u001b[0m\u001b[0mx\u001b[0m\u001b[0;34m,\u001b[0m \u001b[0mraw_predictions\u001b[0m\u001b[0;34m,\u001b[0m \u001b[0midx\u001b[0m\u001b[0;34m=\u001b[0m\u001b[0midx\u001b[0m\u001b[0;34m,\u001b[0m \u001b[0madd_loss_to_title\u001b[0m\u001b[0;34m=\u001b[0m\u001b[0;32mTrue\u001b[0m\u001b[0;34m)\u001b[0m\u001b[0;34m;\u001b[0m\u001b[0;34m\u001b[0m\u001b[0;34m\u001b[0m\u001b[0m\n\u001b[0m",
      "\u001b[0;32m~/miniforge3/lib/python3.9/site-packages/pytorch_forecasting/models/base_model.py\u001b[0m in \u001b[0;36mplot_prediction\u001b[0;34m(self, x, out, idx, add_loss_to_title, show_future_observed, ax, quantiles_kwargs, prediction_kwargs)\u001b[0m\n\u001b[1;32m    759\u001b[0m         ):\n\u001b[1;32m    760\u001b[0m \u001b[0;34m\u001b[0m\u001b[0m\n\u001b[0;32m--> 761\u001b[0;31m             \u001b[0my_all\u001b[0m \u001b[0;34m=\u001b[0m \u001b[0mtorch\u001b[0m\u001b[0;34m.\u001b[0m\u001b[0mcat\u001b[0m\u001b[0;34m(\u001b[0m\u001b[0;34m[\u001b[0m\u001b[0mencoder_target\u001b[0m\u001b[0;34m[\u001b[0m\u001b[0midx\u001b[0m\u001b[0;34m]\u001b[0m\u001b[0;34m,\u001b[0m \u001b[0mdecoder_target\u001b[0m\u001b[0;34m[\u001b[0m\u001b[0midx\u001b[0m\u001b[0;34m]\u001b[0m\u001b[0;34m]\u001b[0m\u001b[0;34m)\u001b[0m\u001b[0;34m\u001b[0m\u001b[0;34m\u001b[0m\u001b[0m\n\u001b[0m\u001b[1;32m    762\u001b[0m             \u001b[0mmax_encoder_length\u001b[0m \u001b[0;34m=\u001b[0m \u001b[0mx\u001b[0m\u001b[0;34m[\u001b[0m\u001b[0;34m\"encoder_lengths\"\u001b[0m\u001b[0;34m]\u001b[0m\u001b[0;34m.\u001b[0m\u001b[0mmax\u001b[0m\u001b[0;34m(\u001b[0m\u001b[0;34m)\u001b[0m\u001b[0;34m\u001b[0m\u001b[0;34m\u001b[0m\u001b[0m\n\u001b[1;32m    763\u001b[0m             y = torch.cat(\n",
      "\u001b[0;31mIndexError\u001b[0m: index 1 is out of bounds for dimension 0 with size 1"
     ]
    },
    {
     "data": {
      "image/png": "[encoded data removed]",
      "text/plain": [
       "<Figure size 432x288 with 1 Axes>"
      ]
     },
     "metadata": {
      "needs_background": "light"
     },
     "output_type": "display_data"
    }
   ],
   "source": [
    "for idx in range(10):  # plot 10 examples\n",
    "    best_model.plot_prediction(x, raw_predictions, idx=idx, add_loss_to_title=True);"
   ]
  },
  {
   "cell_type": "code",
   "execution_count": null,
   "id": "f2a5d29e",
   "metadata": {},
   "outputs": [],
   "source": []
  }
 ],
 "metadata": {
  "kernelspec": {
   "display_name": "Python 3 (ipykernel)",
   "language": "python",
   "name": "python3"
  },
  "language_info": {
   "codemirror_mode": {
    "name": "ipython",
    "version": 3
   },
   "file_extension": ".py",
   "mimetype": "text/x-python",
   "name": "python",
   "nbconvert_exporter": "python",
   "pygments_lexer": "ipython3",
   "version": "3.9.7"
  }
 },
 "nbformat": 4,
 "nbformat_minor": 5
}
