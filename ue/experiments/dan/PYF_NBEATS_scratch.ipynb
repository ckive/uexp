{
 "cells": [
  {
   "cell_type": "code",
   "execution_count": 16,
   "id": "d636902a",
   "metadata": {},
   "outputs": [],
   "source": [
    "#======Core============\n",
    "import pandas as pd\n",
    "import numpy as np\n",
    "import os\n",
    "import pytorch_lightning as pl\n",
    "from pytorch_lightning.callbacks import EarlyStopping\n",
    "import torch\n",
    "#======PyForecast======\n",
    "from pytorch_forecasting import Baseline, NBeats, TimeSeriesDataSet\n",
    "from pytorch_forecasting.data import NaNLabelEncoder\n",
    "from pytorch_forecasting.data.examples import generate_ar_data\n",
    "from pytorch_forecasting.metrics import SMAPE\n",
    "#======UEXP============\n",
    "from ue.uexp.dataprocessing.processor_binance import BinanceProcessor\n",
    "from ue.uexp.dataprocessing.func import *\n",
    "from ue.uexp.dataprocessing.ta import *\n",
    "from ue.uexp.models.util import *\n",
    "#======TA==============\n",
    "from ta.momentum import *\n",
    "from ta.trend import *\n",
    "from ta.volatility import *\n",
    "from ta.wrapper import *\n",
    "import ta\n",
    "#========================="
   ]
  },
  {
   "cell_type": "markdown",
   "id": "45e6e47c",
   "metadata": {},
   "source": [
    "# Get Data and format into long form (WRONG, NBEATS CANT WORK WITH THIS)"
   ]
  },
  {
   "cell_type": "code",
   "execution_count": 17,
   "id": "23a104f3",
   "metadata": {},
   "outputs": [
    {
     "name": "stdout",
     "output_type": "stream",
     "text": [
      "Found 1 symbols\n",
      "[1/1] - start download daily BTCUSDT aggTrades \n",
      "\n",
      "file already exists! ./cache/tick_raw/BTCUSDT-aggTrades-2021-12-29.csv\n",
      "\n",
      "file already exists! ./cache/tick_raw/BTCUSDT-aggTrades-2021-12-30.csv\n",
      "\n",
      "file already exists! ./cache/tick_raw/BTCUSDT-aggTrades-2021-12-31.csv\n"
     ]
    },
    {
     "name": "stderr",
     "output_type": "stream",
     "text": [
      "/Users/dan/Desktop/projects/uexp/ue/uexp/dataprocessing/processor_binance.py:225: FutureWarning: The frame.append method is deprecated and will be removed from pandas in a future version. Use pandas.concat instead.\n",
      "  security = security.append(dailyfinal)\n",
      "/Users/dan/Desktop/projects/uexp/ue/uexp/dataprocessing/processor_binance.py:225: FutureWarning: The frame.append method is deprecated and will be removed from pandas in a future version. Use pandas.concat instead.\n",
      "  security = security.append(dailyfinal)\n",
      "/Users/dan/Desktop/projects/uexp/ue/uexp/dataprocessing/processor_binance.py:229: FutureWarning: The frame.append method is deprecated and will be removed from pandas in a future version. Use pandas.concat instead.\n",
      "  final_df = final_df.append(security)\n"
     ]
    }
   ],
   "source": [
    "### get data (set config params)\n",
    "ticker_list = [\"BTCUSDT\"]\n",
    "start_date = \"2021-12-30\"\n",
    "end_date = \"2021-12-31\"\n",
    "time_interval = \"1s\"\n",
    "\n",
    "p = BinanceProcessor(\"binance\")\n",
    "df = p.download_data(ticker_list, start_date, end_date, time_interval)"
   ]
  },
  {
   "cell_type": "code",
   "execution_count": 19,
   "id": "20c86b3c",
   "metadata": {},
   "outputs": [],
   "source": [
    "def py_fc_prep_data(start_date, end_date, interval='1s', tickers=[\"BTCUSDT\"], version=\"full\"):\n",
    "    \"\"\"\n",
    "    using the processor gets data and saves to cache/{fname}.csv, used for python-forecasting models\n",
    "    \n",
    "    args:\n",
    "        - start_date: str\n",
    "        - end_date: str\n",
    "    \n",
    "    returns:\n",
    "        - dict: {\n",
    "        time_idx:\n",
    "        target\n",
    "        categorical_encoders\n",
    "        group_ids:\n",
    "        time_varying_unknown_reals\n",
    "        }\n",
    "    \"\"\"\n",
    "    data_path = \"{start}-{end}-of-{tics}-{version}-{interval}.csv\".format(\n",
    "        start=start_date,\n",
    "        end=end_date,\n",
    "        tics=\"_\".join(tickers),\n",
    "        version=version,\n",
    "        interval=interval,\n",
    "    )\n",
    "    #check if saved\n",
    "    if os.path.exists(os.path.join(\"cache\",data_path)):\n",
    "        return pd.read_csv(data_path)\n",
    "    \n",
    "    p = BinanceProcessor(\"binance\")\n",
    "    df = p.download_data(tickers, start_date, end_date, interval)\n",
    "    df.columns = [\"Open\",\"High\",\"Low\",\"Close\",\"Volume\", \"Tic\"]\n",
    "    \n",
    "    if version == \"full\":\n",
    "        # see doc for details of full\n",
    "        # https://docs.google.com/document/d/1oo-EgHCVQyvjKiC8cAocfwpZzRHSXDr3YCZJ-agoFv4/edit?usp=sharing\n",
    "        \n",
    "        # Relative Strength Index (RSI)\n",
    "        df[\"momentum_rsi\"] = RSIIndicator(\n",
    "            close=df[\"Close\"], window=14, fillna=True\n",
    "        ).rsi()/100 #scale 0-1\n",
    "        \n",
    "        # Stoch RSIs (StochRSI)\n",
    "        indicator_srsi = StochRSIIndicator(\n",
    "            close=df[\"Close\"], window=14, smooth1=3, smooth2=3, fillna=True\n",
    "        )\n",
    "        df[\"momentum_stoch_rsi\"] = indicator_srsi.stochrsi()\n",
    "        df[\"momentum_stoch_rsi_k\"] = indicator_srsi.stochrsi_k()\n",
    "        df[\"momentum_stoch_rsi_d\"] = indicator_srsi.stochrsi_d()\n",
    "        \n",
    "        # TSI Indicator\n",
    "        df[\"momentum_tsi\"] = TSIIndicator(\n",
    "            close=df[\"Close\"], window_slow=25, window_fast=13, fillna=True\n",
    "        ).tsi()/100 #scale 0-1\n",
    "\n",
    "        # Chaikin Money Flow\n",
    "        df[\"volume_cmf\"] = ChaikinMoneyFlowIndicator(\n",
    "            high=df[\"High\"], low=df[\"Low\"], close=df[\"Close\"], volume=df[\"Volume\"], fillna=True\n",
    "        ).chaikin_money_flow()\n",
    "\n",
    "        # Money Flow Index\n",
    "        df[\"volume_mfi\"] = MFIIndicator(\n",
    "                    high=df[\"High\"], low=df[\"Low\"], close=df[\"Close\"], volume=df[\"Volume\"], fillna=True\n",
    "                ).money_flow_index()/100 #norm to 0-1\n",
    "\n",
    "        # Force Index\n",
    "        df[\"volume_fi\"] = ForceIndexIndicator(\n",
    "            close=df[\"Close\"], volume=df[\"Volume\"], window=13, fillna=True\n",
    "        ).force_index()\n",
    "\n",
    "        # Volume Weighted Average Price\n",
    "        df[\"volume_vwap\"] = VolumeWeightedAveragePrice(\n",
    "            high=df[\"High\"], low=df[\"Low\"], close=df[\"Close\"], volume=df[\"Volume\"], fillna=True,\n",
    "            window=14,\n",
    "        ).volume_weighted_average_price()\n",
    "        \n",
    "        # MACD\n",
    "        indicator_macd = MACD(\n",
    "            close=df[\"Close\"], window_slow=26, window_fast=12, window_sign=9, fillna=True\n",
    "        )\n",
    "        df[\"trend_macd\"] = indicator_macd.macd()\n",
    "        df[\"trend_macd_signal\"] = indicator_macd.macd_signal()\n",
    "        df[\"trend_macd_diff\"] = indicator_macd.macd_diff()\n",
    "\n",
    "        # SMAs\n",
    "        df[\"trend_sma_fast\"] = SMAIndicator(\n",
    "            close=df[\"Close\"], window=12, fillna=True\n",
    "        ).sma_indicator()\n",
    "        df[\"trend_sma_slow\"] = SMAIndicator(\n",
    "            close=df[\"Close\"], window=26, fillna=True\n",
    "        ).sma_indicator()\n",
    "\n",
    "        # EMAs\n",
    "        df[\"trend_ema_fast\"] = EMAIndicator(\n",
    "            close=df[\"Close\"], window=12, fillna=True\n",
    "        ).ema_indicator()\n",
    "        df[\"trend_ema_slow\"] = EMAIndicator(\n",
    "            close=df[\"Close\"], window=26, fillna=True\n",
    "        ).ema_indicator()\n",
    "        \n",
    "        def stationize(series):\n",
    "            return np.log(series / series.shift(1))\n",
    "        \n",
    "        #Turn price into logrets \n",
    "        df['log_ret'] = stationize(df['Close'])\n",
    "        df['log_volume_vwap_ret'] = stationize(df['volume_vwap'])\n",
    "        df['log_trend_sma_slow_ret'] = stationize(df['trend_sma_slow'])\n",
    "        df['log_trend_sma_fast_ret'] = stationize(df['trend_sma_fast'])\n",
    "        df['log_trend_ema_slow_ret'] = stationize(df['trend_ema_slow'])\n",
    "        df['log_trend_ema_fast_ret'] = stationize(df['trend_ema_fast'])\n",
    "        \n",
    "        #Build time_idx, series for all series\n",
    "        df.reset_index(inplace=True)\n",
    "        df.rename(columns={'index':'time'}, inplace=True)\n",
    "        df['time_idx'] = df.index\n",
    "        \n",
    "        #df['series'] = np.NaN #... is this the best way to handle this...?\n",
    "        \n",
    "        #Save to csv\n",
    "        #df.to_csv(os.path.join(\"cache\",data_path))\n",
    "        return df\n",
    "    else:\n",
    "        #default to OHLCV\n",
    "        pass"
   ]
  },
  {
   "cell_type": "code",
   "execution_count": 20,
   "id": "b437f7b3",
   "metadata": {},
   "outputs": [
    {
     "name": "stdout",
     "output_type": "stream",
     "text": [
      "Found 1 symbols\n",
      "[1/1] - start download daily BTCUSDT aggTrades \n",
      "\n",
      "file already exists! ./cache/tick_raw/BTCUSDT-aggTrades-2021-12-29.csv\n",
      "\n",
      "file already exists! ./cache/tick_raw/BTCUSDT-aggTrades-2021-12-30.csv\n",
      "\n",
      "file already exists! ./cache/tick_raw/BTCUSDT-aggTrades-2021-12-31.csv\n"
     ]
    },
    {
     "name": "stderr",
     "output_type": "stream",
     "text": [
      "/Users/dan/Desktop/projects/uexp/ue/uexp/dataprocessing/processor_binance.py:225: FutureWarning: The frame.append method is deprecated and will be removed from pandas in a future version. Use pandas.concat instead.\n",
      "  security = security.append(dailyfinal)\n",
      "/Users/dan/Desktop/projects/uexp/ue/uexp/dataprocessing/processor_binance.py:225: FutureWarning: The frame.append method is deprecated and will be removed from pandas in a future version. Use pandas.concat instead.\n",
      "  security = security.append(dailyfinal)\n",
      "/Users/dan/Desktop/projects/uexp/ue/uexp/dataprocessing/processor_binance.py:229: FutureWarning: The frame.append method is deprecated and will be removed from pandas in a future version. Use pandas.concat instead.\n",
      "  final_df = final_df.append(security)\n"
     ]
    }
   ],
   "source": [
    "df = py_fc_prep_data(\"2021-12-30\", \"2021-12-31\")"
   ]
  },
  {
   "cell_type": "code",
   "execution_count": 21,
   "id": "23576ebb",
   "metadata": {},
   "outputs": [
    {
     "data": {
      "text/html": [
       "<div>\n",
       "<style scoped>\n",
       "    .dataframe tbody tr th:only-of-type {\n",
       "        vertical-align: middle;\n",
       "    }\n",
       "\n",
       "    .dataframe tbody tr th {\n",
       "        vertical-align: top;\n",
       "    }\n",
       "\n",
       "    .dataframe thead th {\n",
       "        text-align: right;\n",
       "    }\n",
       "</style>\n",
       "<table border=\"1\" class=\"dataframe\">\n",
       "  <thead>\n",
       "    <tr style=\"text-align: right;\">\n",
       "      <th></th>\n",
       "      <th>time</th>\n",
       "      <th>Open</th>\n",
       "      <th>High</th>\n",
       "      <th>Low</th>\n",
       "      <th>Close</th>\n",
       "      <th>Volume</th>\n",
       "      <th>Tic</th>\n",
       "      <th>momentum_rsi</th>\n",
       "      <th>momentum_stoch_rsi</th>\n",
       "      <th>momentum_stoch_rsi_k</th>\n",
       "      <th>...</th>\n",
       "      <th>trend_sma_slow</th>\n",
       "      <th>trend_ema_fast</th>\n",
       "      <th>trend_ema_slow</th>\n",
       "      <th>log_ret</th>\n",
       "      <th>log_volume_vwap_ret</th>\n",
       "      <th>log_trend_sma_slow_ret</th>\n",
       "      <th>log_trend_sma_fast_ret</th>\n",
       "      <th>log_trend_ema_slow_ret</th>\n",
       "      <th>log_trend_ema_fast_ret</th>\n",
       "      <th>time_idx</th>\n",
       "    </tr>\n",
       "  </thead>\n",
       "  <tbody>\n",
       "    <tr>\n",
       "      <th>0</th>\n",
       "      <td>2021-12-30 00:00:00</td>\n",
       "      <td>46464.66</td>\n",
       "      <td>46467.73</td>\n",
       "      <td>46464.65</td>\n",
       "      <td>46467.73</td>\n",
       "      <td>0.39143</td>\n",
       "      <td>BTCUSDT</td>\n",
       "      <td>1.0</td>\n",
       "      <td>0.0</td>\n",
       "      <td>0.0</td>\n",
       "      <td>...</td>\n",
       "      <td>46467.730000</td>\n",
       "      <td>46467.730000</td>\n",
       "      <td>46467.730000</td>\n",
       "      <td>NaN</td>\n",
       "      <td>NaN</td>\n",
       "      <td>NaN</td>\n",
       "      <td>NaN</td>\n",
       "      <td>NaN</td>\n",
       "      <td>NaN</td>\n",
       "      <td>0</td>\n",
       "    </tr>\n",
       "    <tr>\n",
       "      <th>1</th>\n",
       "      <td>2021-12-30 00:00:01</td>\n",
       "      <td>46467.73</td>\n",
       "      <td>46471.83</td>\n",
       "      <td>46460.24</td>\n",
       "      <td>46464.33</td>\n",
       "      <td>4.92520</td>\n",
       "      <td>BTCUSDT</td>\n",
       "      <td>0.0</td>\n",
       "      <td>0.0</td>\n",
       "      <td>0.0</td>\n",
       "      <td>...</td>\n",
       "      <td>46466.030000</td>\n",
       "      <td>46467.206923</td>\n",
       "      <td>46467.478148</td>\n",
       "      <td>-7.317173e-05</td>\n",
       "      <td>-2.465492e-05</td>\n",
       "      <td>-0.000037</td>\n",
       "      <td>-0.000037</td>\n",
       "      <td>-0.000005</td>\n",
       "      <td>-0.000011</td>\n",
       "      <td>1</td>\n",
       "    </tr>\n",
       "    <tr>\n",
       "      <th>2</th>\n",
       "      <td>2021-12-30 00:00:02</td>\n",
       "      <td>46461.29</td>\n",
       "      <td>46461.29</td>\n",
       "      <td>46456.02</td>\n",
       "      <td>46456.03</td>\n",
       "      <td>1.05925</td>\n",
       "      <td>BTCUSDT</td>\n",
       "      <td>0.0</td>\n",
       "      <td>0.0</td>\n",
       "      <td>0.0</td>\n",
       "      <td>...</td>\n",
       "      <td>46462.696667</td>\n",
       "      <td>46465.487396</td>\n",
       "      <td>46466.630137</td>\n",
       "      <td>-1.786476e-04</td>\n",
       "      <td>-2.780899e-05</td>\n",
       "      <td>-0.000072</td>\n",
       "      <td>-0.000072</td>\n",
       "      <td>-0.000018</td>\n",
       "      <td>-0.000037</td>\n",
       "      <td>2</td>\n",
       "    </tr>\n",
       "    <tr>\n",
       "      <th>3</th>\n",
       "      <td>2021-12-30 00:00:03</td>\n",
       "      <td>46456.02</td>\n",
       "      <td>46456.03</td>\n",
       "      <td>46456.02</td>\n",
       "      <td>46456.03</td>\n",
       "      <td>0.03054</td>\n",
       "      <td>BTCUSDT</td>\n",
       "      <td>0.0</td>\n",
       "      <td>0.0</td>\n",
       "      <td>0.0</td>\n",
       "      <td>...</td>\n",
       "      <td>46461.030000</td>\n",
       "      <td>46464.032412</td>\n",
       "      <td>46465.844942</td>\n",
       "      <td>0.000000e+00</td>\n",
       "      <td>-8.452871e-07</td>\n",
       "      <td>-0.000036</td>\n",
       "      <td>-0.000036</td>\n",
       "      <td>-0.000017</td>\n",
       "      <td>-0.000031</td>\n",
       "      <td>3</td>\n",
       "    </tr>\n",
       "    <tr>\n",
       "      <th>4</th>\n",
       "      <td>2021-12-30 00:00:04</td>\n",
       "      <td>46456.02</td>\n",
       "      <td>46456.03</td>\n",
       "      <td>46456.02</td>\n",
       "      <td>46456.02</td>\n",
       "      <td>0.50262</td>\n",
       "      <td>BTCUSDT</td>\n",
       "      <td>0.0</td>\n",
       "      <td>0.0</td>\n",
       "      <td>0.0</td>\n",
       "      <td>...</td>\n",
       "      <td>46460.028000</td>\n",
       "      <td>46462.799734</td>\n",
       "      <td>46465.117168</td>\n",
       "      <td>-2.152573e-07</td>\n",
       "      <td>-1.284331e-05</td>\n",
       "      <td>-0.000022</td>\n",
       "      <td>-0.000022</td>\n",
       "      <td>-0.000016</td>\n",
       "      <td>-0.000027</td>\n",
       "      <td>4</td>\n",
       "    </tr>\n",
       "  </tbody>\n",
       "</table>\n",
       "<p>5 rows × 30 columns</p>\n",
       "</div>"
      ],
      "text/plain": [
       "                 time      Open      High       Low     Close   Volume  \\\n",
       "0 2021-12-30 00:00:00  46464.66  46467.73  46464.65  46467.73  0.39143   \n",
       "1 2021-12-30 00:00:01  46467.73  46471.83  46460.24  46464.33  4.92520   \n",
       "2 2021-12-30 00:00:02  46461.29  46461.29  46456.02  46456.03  1.05925   \n",
       "3 2021-12-30 00:00:03  46456.02  46456.03  46456.02  46456.03  0.03054   \n",
       "4 2021-12-30 00:00:04  46456.02  46456.03  46456.02  46456.02  0.50262   \n",
       "\n",
       "       Tic  momentum_rsi  momentum_stoch_rsi  momentum_stoch_rsi_k  ...  \\\n",
       "0  BTCUSDT           1.0                 0.0                   0.0  ...   \n",
       "1  BTCUSDT           0.0                 0.0                   0.0  ...   \n",
       "2  BTCUSDT           0.0                 0.0                   0.0  ...   \n",
       "3  BTCUSDT           0.0                 0.0                   0.0  ...   \n",
       "4  BTCUSDT           0.0                 0.0                   0.0  ...   \n",
       "\n",
       "   trend_sma_slow  trend_ema_fast  trend_ema_slow       log_ret  \\\n",
       "0    46467.730000    46467.730000    46467.730000           NaN   \n",
       "1    46466.030000    46467.206923    46467.478148 -7.317173e-05   \n",
       "2    46462.696667    46465.487396    46466.630137 -1.786476e-04   \n",
       "3    46461.030000    46464.032412    46465.844942  0.000000e+00   \n",
       "4    46460.028000    46462.799734    46465.117168 -2.152573e-07   \n",
       "\n",
       "   log_volume_vwap_ret  log_trend_sma_slow_ret  log_trend_sma_fast_ret  \\\n",
       "0                  NaN                     NaN                     NaN   \n",
       "1        -2.465492e-05               -0.000037               -0.000037   \n",
       "2        -2.780899e-05               -0.000072               -0.000072   \n",
       "3        -8.452871e-07               -0.000036               -0.000036   \n",
       "4        -1.284331e-05               -0.000022               -0.000022   \n",
       "\n",
       "   log_trend_ema_slow_ret  log_trend_ema_fast_ret  time_idx  \n",
       "0                     NaN                     NaN         0  \n",
       "1               -0.000005               -0.000011         1  \n",
       "2               -0.000018               -0.000037         2  \n",
       "3               -0.000017               -0.000031         3  \n",
       "4               -0.000016               -0.000027         4  \n",
       "\n",
       "[5 rows x 30 columns]"
      ]
     },
     "execution_count": 21,
     "metadata": {},
     "output_type": "execute_result"
    }
   ],
   "source": [
    "df.head()"
   ]
  },
  {
   "cell_type": "code",
   "execution_count": 22,
   "id": "ffcd1886",
   "metadata": {},
   "outputs": [
    {
     "data": {
      "text/plain": [
       "Index(['time', 'Open', 'High', 'Low', 'Close', 'Volume', 'Tic', 'momentum_rsi',\n",
       "       'momentum_stoch_rsi', 'momentum_stoch_rsi_k', 'momentum_stoch_rsi_d',\n",
       "       'momentum_tsi', 'volume_cmf', 'volume_mfi', 'volume_fi', 'volume_vwap',\n",
       "       'trend_macd', 'trend_macd_signal', 'trend_macd_diff', 'trend_sma_fast',\n",
       "       'trend_sma_slow', 'trend_ema_fast', 'trend_ema_slow', 'log_ret',\n",
       "       'log_volume_vwap_ret', 'log_trend_sma_slow_ret',\n",
       "       'log_trend_sma_fast_ret', 'log_trend_ema_slow_ret',\n",
       "       'log_trend_ema_fast_ret', 'time_idx'],\n",
       "      dtype='object')"
      ]
     },
     "execution_count": 22,
     "metadata": {},
     "output_type": "execute_result"
    }
   ],
   "source": [
    "df.columns"
   ]
  },
  {
   "cell_type": "code",
   "execution_count": 23,
   "id": "cfd5b7d9",
   "metadata": {},
   "outputs": [
    {
     "data": {
      "text/plain": [
       "['Open',\n",
       " 'High',\n",
       " 'Low',\n",
       " 'Close',\n",
       " 'Volume',\n",
       " 'momentum_rsi',\n",
       " 'momentum_stoch_rsi',\n",
       " 'momentum_stoch_rsi_k',\n",
       " 'momentum_stoch_rsi_d',\n",
       " 'momentum_tsi',\n",
       " 'volume_cmf',\n",
       " 'volume_mfi',\n",
       " 'volume_fi',\n",
       " 'volume_vwap',\n",
       " 'trend_macd',\n",
       " 'trend_macd_signal',\n",
       " 'trend_macd_diff',\n",
       " 'trend_sma_fast',\n",
       " 'trend_sma_slow',\n",
       " 'trend_ema_fast',\n",
       " 'trend_ema_slow',\n",
       " 'log_ret',\n",
       " 'log_volume_vwap_ret',\n",
       " 'log_trend_sma_slow_ret',\n",
       " 'log_trend_sma_fast_ret',\n",
       " 'log_trend_ema_slow_ret',\n",
       " 'log_trend_ema_fast_ret']"
      ]
     },
     "execution_count": 23,
     "metadata": {},
     "output_type": "execute_result"
    }
   ],
   "source": [
    "non_indicators = [\"time_idx\",\"time\",\"Tic\"]\n",
    "indicators = [A for A in df.columns if A not in non_indicators]\n",
    "indicators"
   ]
  },
  {
   "cell_type": "markdown",
   "id": "444ce02f",
   "metadata": {},
   "source": [
    "# TSDS"
   ]
  },
  {
   "cell_type": "code",
   "execution_count": 25,
   "id": "e9ed4183",
   "metadata": {},
   "outputs": [
    {
     "data": {
      "text/plain": [
       "389"
      ]
     },
     "execution_count": 25,
     "metadata": {},
     "output_type": "execute_result"
    }
   ],
   "source": [
    "# define dataset: lookback 30 intervals, predict 10 into future\n",
    "history_window = 30\n",
    "future_window = 10\n",
    "training_cutoff = data[\"time_idx\"].max() - future_window\n",
    "training_cutoff"
   ]
  },
  {
   "cell_type": "code",
   "execution_count": 26,
   "id": "831dcd44",
   "metadata": {},
   "outputs": [],
   "source": [
    "# drop beginning NAs\n",
    "df.dropna(inplace=True)"
   ]
  },
  {
   "cell_type": "code",
   "execution_count": 27,
   "id": "183218ea",
   "metadata": {
    "scrolled": true
   },
   "outputs": [],
   "source": [
    "assert df.isnull().sum().sum() == 0"
   ]
  },
  {
   "cell_type": "code",
   "execution_count": 28,
   "id": "466d4153",
   "metadata": {},
   "outputs": [
    {
     "name": "stderr",
     "output_type": "stream",
     "text": [
      "/Users/dan/miniforge3/lib/python3.9/site-packages/pytorch_forecasting/data/timeseries.py:1238: UserWarning: Min encoder length and/or min_prediction_idx and/or min prediction length and/or lags are too large for 389 series/groups which therefore are not present in the dataset index. This means no predictions can be made for those series. First 10 removed groups: [{'__group_id__Open': 46300.0, '__group_id__High': 46300.0, '__group_id__Low': 46299.99, '__group_id__Close': 46300.0, '__group_id__Volume': 0.43244000000000005, '__group_id__momentum_rsi': 0.09994748688977992, '__group_id__momentum_stoch_rsi': 0.0, '__group_id__momentum_stoch_rsi_k': 0.0015019997350556294, '__group_id__momentum_stoch_rsi_d': 0.020434391832070607, '__group_id__momentum_tsi': -0.6980230453767006, '__group_id__volume_cmf': -0.6748525542555924, '__group_id__volume_mfi': 0.016948297440821988, '__group_id__volume_fi': -4.760428240949781, '__group_id__volume_vwap': 46329.268603603035, '__group_id__trend_macd': -23.039647040510317, '__group_id__trend_macd_signal': -19.396882678442477, '__group_id__trend_macd_diff': -3.6427643620678403, '__group_id__trend_sma_fast': 46331.350000000006, '__group_id__trend_sma_slow': 46356.596153846156, '__group_id__trend_ema_fast': 46327.91351545521, '__group_id__trend_ema_slow': 46350.95316249572, '__group_id__log_ret': 0.0, '__group_id__log_volume_vwap_ret': -8.73117679731341e-05, '__group_id__log_trend_sma_slow_ret': -8.181224421399932e-05, '__group_id__log_trend_sma_fast_ret': -9.440605974133031e-05, '__group_id__log_trend_ema_slow_ret': -8.793937325139817e-05, '__group_id__log_trend_ema_fast_ret': -0.0001095431732682633}, {'__group_id__Open': 46315.0, '__group_id__High': 46315.0, '__group_id__Low': 46298.59, '__group_id__Close': 46300.0, '__group_id__Volume': 1.21345, '__group_id__momentum_rsi': 0.09994748688977992, '__group_id__momentum_stoch_rsi': 0.0, '__group_id__momentum_stoch_rsi_k': 0.011192812418387557, '__group_id__momentum_stoch_rsi_d': 0.05359056229542159, '__group_id__momentum_tsi': -0.6768267334353348, '__group_id__volume_cmf': -0.7497191170141889, '__group_id__volume_mfi': 0.07900481548496557, '__group_id__volume_fi': -5.553832947774744, '__group_id__volume_vwap': 46333.31387055085, '__group_id__trend_macd': -22.040715411945712, '__group_id__trend_macd_signal': -18.486191587925514, '__group_id__trend_macd_diff': -3.5545238240201975, '__group_id__trend_sma_fast': 46335.724166666674, '__group_id__trend_sma_slow': 46360.388846153844, '__group_id__trend_ema_fast': 46332.988700083435, '__group_id__trend_ema_slow': 46355.02941549538, '__group_id__log_ret': -0.0003336376413074572, '__group_id__log_volume_vwap_ret': -0.0001428627244381579, '__group_id__log_trend_sma_slow_ret': -8.651740054773358e-05, '__group_id__log_trend_sma_fast_ret': -0.00011020406772405194, '__group_id__log_trend_ema_slow_ret': -9.496583783610354e-05, '__group_id__log_trend_ema_fast_ret': -0.00012944464506600418}, {'__group_id__Open': 46317.55, '__group_id__High': 46319.06, '__group_id__Low': 46315.45, '__group_id__Close': 46315.45, '__group_id__Volume': 0.06999, '__group_id__momentum_rsi': 0.12556949614962407, '__group_id__momentum_stoch_rsi': 0.004505999205166999, '__group_id__momentum_stoch_rsi_k': 0.0486083633427693, '__group_id__momentum_stoch_rsi_d': 0.11688698268234236, '__group_id__momentum_tsi': -0.6487977798127287, '__group_id__volume_cmf': -0.739105809972389, '__group_id__volume_mfi': 0.0948059403433848, '__group_id__volume_fi': -3.3548380224044574, '__group_id__volume_vwap': 46339.93364685103, '__group_id__trend_macd': -20.445123181860254, '__group_id__trend_macd_signal': -17.597560631920462, '__group_id__trend_macd_diff': -2.8475625499397914, '__group_id__trend_sma_fast': 46340.83083333333, '__group_id__trend_sma_slow': 46364.399999999994, '__group_id__trend_ema_fast': 46338.98664555315, '__group_id__trend_ema_slow': 46359.43176873501, '__group_id__log_ret': -4.512431263112837e-05, '__group_id__log_volume_vwap_ret': -0.00010463081597025478, '__group_id__log_trend_sma_slow_ret': -7.932661784275747e-05, '__group_id__log_trend_sma_fast_ret': -9.560945374211913e-05, '__group_id__log_trend_ema_slow_ret': -7.58941136239086e-05, '__group_id__log_trend_ema_fast_ret': -9.234540550783503e-05}, {'__group_id__Open': 46324.18, '__group_id__High': 46324.18, '__group_id__Low': 46315.9, '__group_id__Close': 46317.54, '__group_id__Volume': 0.9059999999999999, '__group_id__momentum_rsi': 0.12974754559520676, '__group_id__momentum_stoch_rsi': 0.029072438049995784, '__group_id__momentum_stoch_rsi_k': 0.10097051112510859, '__group_id__momentum_stoch_rsi_d': 0.20593079451449256, '__group_id__momentum_tsi': -0.6288742257743638, '__group_id__volume_cmf': -0.7377226540765408, '__group_id__volume_mfi': 0.07712682913382153, '__group_id__volume_fi': -3.8895978428051556, '__group_id__volume_vwap': 46344.78248558506, '__group_id__trend_macd': -19.68427458008955, '__group_id__trend_macd_signal': -16.885669994435514, '__group_id__trend_macd_diff': -2.7986045856540365, '__group_id__trend_sma_fast': 46345.261666666665, '__group_id__trend_sma_slow': 46368.07807692308, '__group_id__trend_ema_fast': 46343.26603565372, '__group_id__trend_ema_slow': 46362.95031023381, '__group_id__log_ret': -0.00014356381322807435, '__group_id__log_volume_vwap_ret': -0.00016037153502545303, '__group_id__log_trend_sma_slow_ret': -7.885585181326629e-05, '__group_id__log_trend_sma_fast_ret': -6.836135831038287e-05, '__group_id__log_trend_ema_slow_ret': -7.835313487709956e-05, '__group_id__log_trend_ema_fast_ret': -0.00010092566610185691}, {'__group_id__Open': 46327.81, '__group_id__High': 46327.82, '__group_id__Low': 46324.18, '__group_id__Close': 46324.19, '__group_id__Volume': 0.21153, '__group_id__momentum_rsi': 0.14389310343962264, '__group_id__momentum_stoch_rsi': 0.11224665277314523, '__group_id__momentum_stoch_rsi_k': 0.20108207357914987, '__group_id__momentum_stoch_rsi_d': 0.32466149050112253, '__group_id__momentum_tsi': -0.6055632827750613, '__group_id__volume_cmf': -0.754055436919206, '__group_id__volume_mfi': 0.07632810798423818, '__group_id__volume_fi': -3.5337141499391285, '__group_id__volume_vwap': 46352.21546549597, '__group_id__trend_macd': -18.639638370848843, '__group_id__trend_macd_signal': -16.186018848022005, '__group_id__trend_macd_diff': -2.4536195228268376, '__group_id__trend_sma_fast': 46348.43, '__group_id__trend_sma_slow': 46371.73461538461, '__group_id__trend_ema_fast': 46347.94349668167, '__group_id__trend_ema_slow': 46366.58313505252, '__group_id__log_ret': -7.814186421959826e-05, '__group_id__log_volume_vwap_ret': -5.996371968462791e-05, '__group_id__log_trend_sma_slow_ret': -7.529999980872499e-05, '__group_id__log_trend_sma_fast_ret': -6.375417256236411e-05, '__group_id__log_trend_ema_slow_ret': -7.314161510972846e-05, '__group_id__log_trend_ema_fast_ret': -9.317816597763881e-05}, {'__group_id__Open': 46338.37, '__group_id__High': 46338.37, '__group_id__Low': 46327.81, '__group_id__Close': 46327.81, '__group_id__Volume': 1.53248, '__group_id__momentum_rsi': 0.15228541259482425, '__group_id__momentum_stoch_rsi': 0.16159244255218488, '__group_id__momentum_stoch_rsi_k': 0.3157397988392199, '__group_id__momentum_stoch_rsi_d': 0.4437442913657219, '__group_id__momentum_tsi': -0.5836257919233961, '__group_id__volume_cmf': -0.7519557898786149, '__group_id__volume_mfi': 0.07386511825547672, '__group_id__volume_fi': -3.9950434082624806, '__group_id__volume_vwap': 46354.995000085684, '__group_id__trend_macd': -17.712271596567007, '__group_id__trend_macd_signal': -15.572613967315293, '__group_id__trend_macd_diff': -2.1396576292517135, '__group_id__trend_sma_fast': 46351.385, '__group_id__trend_sma_slow': 46375.22653846153, '__group_id__trend_ema_fast': 46352.26231426015, '__group_id__trend_ema_slow': 46369.97458585672, '__group_id__log_ret': -0.00022769906311193553, '__group_id__log_volume_vwap_ret': -0.00015445955766963193, '__group_id__log_trend_sma_slow_ret': -7.072491623930831e-05, '__group_id__log_trend_sma_fast_ret': -7.771849776146631e-05, '__group_id__log_trend_ema_slow_ret': -7.274198907210368e-05, '__group_id__log_trend_ema_fast_ret': -9.591035903579917e-05}, {'__group_id__Open': 46344.81, '__group_id__High': 46344.82, '__group_id__Low': 46338.36, '__group_id__Close': 46338.36, '__group_id__Volume': 0.5156, '__group_id__momentum_rsi': 0.1808258961021103, '__group_id__momentum_stoch_rsi': 0.32940712541211964, '__group_id__momentum_stoch_rsi_k': 0.4571625990849985, '__group_id__momentum_stoch_rsi_d': 0.5441550270454346, '__group_id__momentum_tsi': -0.5598944345953871, '__group_id__volume_cmf': -0.7046002839876365, '__group_id__volume_mfi': 0.09130307130212714, '__group_id__volume_fi': -1.9662733096388174, '__group_id__volume_vwap': 46362.1555251007, '__group_id__trend_macd': -16.639563145086868, '__group_id__trend_macd_signal': -15.037699560002363, '__group_id__trend_macd_diff': -1.601863585084505, '__group_id__trend_sma_fast': 46354.987499999996, '__group_id__trend_sma_slow': 46378.50653846154, '__group_id__trend_ema_fast': 46356.708189580175, '__group_id__trend_ema_slow': 46373.34775272526, '__group_id__log_ret': -0.00013939961944465197, '__group_id__log_volume_vwap_ret': -4.802605943987557e-05, '__group_id__log_trend_sma_slow_ret': -6.581081375387086e-05, '__group_id__log_trend_sma_fast_ret': -8.17749834961529e-05, '__group_id__log_trend_ema_slow_ret': -6.035656006937562e-05, '__group_id__log_trend_ema_fast_ret': -7.196184904478923e-05}, {'__group_id__Open': 46350.56, '__group_id__High': 46350.56, '__group_id__Low': 46344.81, '__group_id__Close': 46344.82, '__group_id__Volume': 0.68083, '__group_id__momentum_rsi': 0.2023931141836033, '__group_id__momentum_stoch_rsi': 0.45621982855335524, '__group_id__momentum_stoch_rsi_k': 0.5583304761729481, '__group_id__momentum_stoch_rsi_d': 0.6025674486854503, '__group_id__momentum_tsi': -0.5444195181392594, '__group_id__volume_cmf': -0.7219202720633966, '__group_id__volume_mfi': 0.09973893129826678, '__group_id__volume_fi': -1.7388561945786956, '__group_id__volume_vwap': 46364.382170205776, '__group_id__trend_macd': -16.102548893992207, '__group_id__trend_macd_signal': -14.637233663731237, '__group_id__trend_macd_diff': -1.4653152302609698, '__group_id__trend_sma_fast': 46358.77833333333, '__group_id__trend_sma_slow': 46381.55884615385, '__group_id__trend_ema_fast': 46360.04422404929, '__group_id__trend_ema_slow': 46376.146772943284, '__group_id__log_ret': -0.00012363077049698133, '__group_id__log_volume_vwap_ret': -5.761540627831763e-05, '__group_id__log_trend_sma_slow_ret': -4.9297224131318207e-05, '__group_id__log_trend_sma_fast_ret': -7.664561684127461e-05, '__group_id__log_trend_ema_slow_ret': -5.40379979152454e-05, '__group_id__log_trend_ema_fast_ret': -5.970568297541285e-05}, {'__group_id__Open': 46352.49, '__group_id__High': 46352.5, '__group_id__Low': 46350.55, '__group_id__Close': 46350.55, '__group_id__Volume': 0.38202, '__group_id__momentum_rsi': 0.22444134726958154, '__group_id__momentum_stoch_rsi': 0.5858608432895208, '__group_id__momentum_stoch_rsi_k': 0.6169720058783579, '__group_id__momentum_stoch_rsi_d': 0.6271720958509959, '__group_id__momentum_tsi': -0.53445665126938, '__group_id__volume_cmf': -0.694093384634383, '__group_id__volume_mfi': 0.1139830470804398, '__group_id__volume_fi': -1.378472910341448, '__group_id__volume_vwap': 46367.05354987693, '__group_id__trend_macd': -15.840649993231636, '__group_id__trend_macd_signal': -14.270904856165993, '__group_id__trend_macd_diff': -1.5697451370656434, '__group_id__trend_sma_fast': 46362.331666666665, '__group_id__trend_sma_slow': 46383.845384615386, '__group_id__trend_ema_fast': 46362.81226478552, '__group_id__trend_ema_slow': 46378.65291477875, '__group_id__log_ret': -4.206981324310995e-05, '__group_id__log_volume_vwap_ret': -3.339004080660623e-05, '__group_id__log_trend_sma_slow_ret': -5.404587119320213e-05, '__group_id__log_trend_sma_fast_ret': -7.333270812104608e-05, '__group_id__log_trend_ema_slow_ret': -4.847442843927832e-05, '__group_id__log_trend_ema_fast_ret': -4.808701143729487e-05}, {'__group_id__Open': 46352.49, '__group_id__High': 46352.5, '__group_id__Low': 46352.49, '__group_id__Close': 46352.49, '__group_id__Volume': 0.0152, '__group_id__momentum_rsi': 0.23231286106527832, '__group_id__momentum_stoch_rsi': 0.6321444176695845, '__group_id__momentum_stoch_rsi_k': 0.6321444176695845, '__group_id__momentum_stoch_rsi_d': 0.6660003396653047, '__group_id__momentum_tsi': -0.5288754066436311, '__group_id__volume_cmf': -0.649884879104464, '__group_id__volume_mfi': 0.09905835374801228, '__group_id__volume_fi': -1.7315955779650032, '__group_id__volume_vwap': 46369.15644683809, '__group_id__trend_macd': -15.851150965274428, '__group_id__trend_macd_signal': -13.38324059305997, '__group_id__trend_macd_diff': -2.467910372214458, '__group_id__trend_sma_fast': 46368.996666666666, '__group_id__trend_sma_slow': 46388.78384615384, '__group_id__trend_ema_fast': 46367.32208883266, '__group_id__trend_ema_slow': 46383.173239797936, '__group_id__log_ret': 0.0, '__group_id__log_volume_vwap_ret': -1.870596588559589e-05, '__group_id__log_trend_sma_slow_ret': -5.543295113625808e-05, '__group_id__log_trend_sma_fast_ret': -7.046486045120273e-05, '__group_id__log_trend_ema_slow_ret': -5.291992899073832e-05, '__group_id__log_trend_ema_fast_ret': -5.815873946997184e-05}]\n",
      "  warnings.warn(\n"
     ]
    },
    {
     "ename": "AssertionError",
     "evalue": "filters should not remove entries all entries - check encoder/decoder lengths and lags",
     "output_type": "error",
     "traceback": [
      "\u001b[0;31m---------------------------------------------------------------------------\u001b[0m",
      "\u001b[0;31mAssertionError\u001b[0m                            Traceback (most recent call last)",
      "\u001b[0;32m/var/folders/nw/q8c9lcfd38qg_8hw2py9hw840000gn/T/ipykernel_64930/4177918021.py\u001b[0m in \u001b[0;36m<module>\u001b[0;34m\u001b[0m\n\u001b[0;32m----> 1\u001b[0;31m training = TimeSeriesDataSet(\n\u001b[0m\u001b[1;32m      2\u001b[0m     \u001b[0mdf\u001b[0m\u001b[0;34m[\u001b[0m\u001b[0;32mlambda\u001b[0m \u001b[0mx\u001b[0m\u001b[0;34m:\u001b[0m \u001b[0mx\u001b[0m\u001b[0;34m.\u001b[0m\u001b[0mtime_idx\u001b[0m \u001b[0;34m<=\u001b[0m \u001b[0mtraining_cutoff\u001b[0m\u001b[0;34m]\u001b[0m\u001b[0;34m,\u001b[0m\u001b[0;34m\u001b[0m\u001b[0;34m\u001b[0m\u001b[0m\n\u001b[1;32m      3\u001b[0m     \u001b[0mtime_idx\u001b[0m\u001b[0;34m=\u001b[0m\u001b[0;34m\"time_idx\"\u001b[0m\u001b[0;34m,\u001b[0m\u001b[0;34m\u001b[0m\u001b[0;34m\u001b[0m\u001b[0m\n\u001b[1;32m      4\u001b[0m     \u001b[0mtarget\u001b[0m\u001b[0;34m=\u001b[0m\u001b[0;34m\"Close\"\u001b[0m\u001b[0;34m,\u001b[0m\u001b[0;34m\u001b[0m\u001b[0;34m\u001b[0m\u001b[0m\n\u001b[1;32m      5\u001b[0m     \u001b[0;31m#categorical_encoders={\"series\": NaNLabelEncoder().fit(df.series)},\u001b[0m\u001b[0;34m\u001b[0m\u001b[0;34m\u001b[0m\u001b[0m\n",
      "\u001b[0;32m~/miniforge3/lib/python3.9/site-packages/pytorch_forecasting/data/timeseries.py\u001b[0m in \u001b[0;36m__init__\u001b[0;34m(self, data, time_idx, target, group_ids, weight, max_encoder_length, min_encoder_length, min_prediction_idx, min_prediction_length, max_prediction_length, static_categoricals, static_reals, time_varying_known_categoricals, time_varying_known_reals, time_varying_unknown_categoricals, time_varying_unknown_reals, variable_groups, constant_fill_strategy, allow_missing_timesteps, lags, add_relative_time_idx, add_target_scales, add_encoder_length, target_normalizer, categorical_encoders, scalers, randomize_length, predict_mode)\u001b[0m\n\u001b[1;32m    437\u001b[0m \u001b[0;34m\u001b[0m\u001b[0m\n\u001b[1;32m    438\u001b[0m         \u001b[0;31m# create index\u001b[0m\u001b[0;34m\u001b[0m\u001b[0;34m\u001b[0m\u001b[0m\n\u001b[0;32m--> 439\u001b[0;31m         \u001b[0mself\u001b[0m\u001b[0;34m.\u001b[0m\u001b[0mindex\u001b[0m \u001b[0;34m=\u001b[0m \u001b[0mself\u001b[0m\u001b[0;34m.\u001b[0m\u001b[0m_construct_index\u001b[0m\u001b[0;34m(\u001b[0m\u001b[0mdata\u001b[0m\u001b[0;34m,\u001b[0m \u001b[0mpredict_mode\u001b[0m\u001b[0;34m=\u001b[0m\u001b[0mpredict_mode\u001b[0m\u001b[0;34m)\u001b[0m\u001b[0;34m\u001b[0m\u001b[0;34m\u001b[0m\u001b[0m\n\u001b[0m\u001b[1;32m    440\u001b[0m \u001b[0;34m\u001b[0m\u001b[0m\n\u001b[1;32m    441\u001b[0m         \u001b[0;31m# convert to torch tensor for high performance data loading later\u001b[0m\u001b[0;34m\u001b[0m\u001b[0;34m\u001b[0m\u001b[0m\n",
      "\u001b[0;32m~/miniforge3/lib/python3.9/site-packages/pytorch_forecasting/data/timeseries.py\u001b[0m in \u001b[0;36m_construct_index\u001b[0;34m(self, data, predict_mode)\u001b[0m\n\u001b[1;32m   1244\u001b[0m                 \u001b[0mUserWarning\u001b[0m\u001b[0;34m,\u001b[0m\u001b[0;34m\u001b[0m\u001b[0;34m\u001b[0m\u001b[0m\n\u001b[1;32m   1245\u001b[0m             )\n\u001b[0;32m-> 1246\u001b[0;31m         assert (\n\u001b[0m\u001b[1;32m   1247\u001b[0m             \u001b[0mlen\u001b[0m\u001b[0;34m(\u001b[0m\u001b[0mdf_index\u001b[0m\u001b[0;34m)\u001b[0m \u001b[0;34m>\u001b[0m \u001b[0;36m0\u001b[0m\u001b[0;34m\u001b[0m\u001b[0;34m\u001b[0m\u001b[0m\n\u001b[1;32m   1248\u001b[0m         ), \"filters should not remove entries all entries - check encoder/decoder lengths and lags\"\n",
      "\u001b[0;31mAssertionError\u001b[0m: filters should not remove entries all entries - check encoder/decoder lengths and lags"
     ]
    }
   ],
   "source": [
    "training = TimeSeriesDataSet(\n",
    "    df[lambda x: x.time_idx <= training_cutoff],\n",
    "    time_idx=\"time_idx\",\n",
    "    target=\"Close\",\n",
    "    #categorical_encoders={\"series\": NaNLabelEncoder().fit(df.series)},\n",
    "    group_ids=indicators,\n",
    "    # only unknown variable is \"close\" - and N-Beats can also not take any additional variables\n",
    "    time_varying_unknown_reals=['Close'],\n",
    "    max_encoder_length=history_window,\n",
    "    max_prediction_length=future_window,\n",
    "    allow_missing_timesteps=True,\n",
    ")"
   ]
  },
  {
   "cell_type": "code",
   "execution_count": null,
   "id": "defaad78",
   "metadata": {},
   "outputs": [],
   "source": [
    "validation = TimeSeriesDataSet.from_dataset(training, df, min_prediction_idx=training_cutoff + 1)\n",
    "batch_size = 128\n",
    "train_dataloader = training.to_dataloader(train=True, batch_size=batch_size, num_workers=0)\n",
    "val_dataloader = validation.to_dataloader(train=False, batch_size=batch_size, num_workers=0)"
   ]
  },
  {
   "cell_type": "code",
   "execution_count": null,
   "id": "c410a98a",
   "metadata": {},
   "outputs": [],
   "source": []
  },
  {
   "cell_type": "code",
   "execution_count": null,
   "id": "475e7daa",
   "metadata": {},
   "outputs": [],
   "source": []
  },
  {
   "cell_type": "code",
   "execution_count": null,
   "id": "4be2d308",
   "metadata": {},
   "outputs": [],
   "source": []
  },
  {
   "cell_type": "code",
   "execution_count": 3,
   "id": "e85f9efd",
   "metadata": {},
   "outputs": [
    {
     "data": {
      "text/html": [
       "<div>\n",
       "<style scoped>\n",
       "    .dataframe tbody tr th:only-of-type {\n",
       "        vertical-align: middle;\n",
       "    }\n",
       "\n",
       "    .dataframe tbody tr th {\n",
       "        vertical-align: top;\n",
       "    }\n",
       "\n",
       "    .dataframe thead th {\n",
       "        text-align: right;\n",
       "    }\n",
       "</style>\n",
       "<table border=\"1\" class=\"dataframe\">\n",
       "  <thead>\n",
       "    <tr style=\"text-align: right;\">\n",
       "      <th></th>\n",
       "      <th>series</th>\n",
       "      <th>time_idx</th>\n",
       "      <th>value</th>\n",
       "      <th>static</th>\n",
       "      <th>date</th>\n",
       "    </tr>\n",
       "  </thead>\n",
       "  <tbody>\n",
       "    <tr>\n",
       "      <th>0</th>\n",
       "      <td>0</td>\n",
       "      <td>0</td>\n",
       "      <td>-0.000000</td>\n",
       "      <td>2</td>\n",
       "      <td>2020-01-01</td>\n",
       "    </tr>\n",
       "    <tr>\n",
       "      <th>1</th>\n",
       "      <td>0</td>\n",
       "      <td>1</td>\n",
       "      <td>-0.046501</td>\n",
       "      <td>2</td>\n",
       "      <td>2020-01-02</td>\n",
       "    </tr>\n",
       "    <tr>\n",
       "      <th>2</th>\n",
       "      <td>0</td>\n",
       "      <td>2</td>\n",
       "      <td>-0.097796</td>\n",
       "      <td>2</td>\n",
       "      <td>2020-01-03</td>\n",
       "    </tr>\n",
       "    <tr>\n",
       "      <th>3</th>\n",
       "      <td>0</td>\n",
       "      <td>3</td>\n",
       "      <td>-0.144397</td>\n",
       "      <td>2</td>\n",
       "      <td>2020-01-04</td>\n",
       "    </tr>\n",
       "    <tr>\n",
       "      <th>4</th>\n",
       "      <td>0</td>\n",
       "      <td>4</td>\n",
       "      <td>-0.177954</td>\n",
       "      <td>2</td>\n",
       "      <td>2020-01-05</td>\n",
       "    </tr>\n",
       "  </tbody>\n",
       "</table>\n",
       "</div>"
      ],
      "text/plain": [
       "   series  time_idx     value  static       date\n",
       "0       0         0 -0.000000       2 2020-01-01\n",
       "1       0         1 -0.046501       2 2020-01-02\n",
       "2       0         2 -0.097796       2 2020-01-03\n",
       "3       0         3 -0.144397       2 2020-01-04\n",
       "4       0         4 -0.177954       2 2020-01-05"
      ]
     },
     "execution_count": 3,
     "metadata": {},
     "output_type": "execute_result"
    }
   ],
   "source": [
    "data = generate_ar_data(seasonality=10.0, timesteps=400, n_series=100, seed=42)\n",
    "data[\"static\"] = 2\n",
    "data[\"date\"] = pd.Timestamp(\"2020-01-01\") + pd.to_timedelta(data.time_idx, \"D\")\n",
    "data.head()"
   ]
  },
  {
   "cell_type": "code",
   "execution_count": null,
   "id": "a48d3c6e",
   "metadata": {},
   "outputs": [],
   "source": []
  },
  {
   "cell_type": "code",
   "execution_count": null,
   "id": "72fe7507",
   "metadata": {},
   "outputs": [],
   "source": []
  },
  {
   "cell_type": "code",
   "execution_count": null,
   "id": "ac7cad25",
   "metadata": {},
   "outputs": [],
   "source": []
  },
  {
   "cell_type": "code",
   "execution_count": null,
   "id": "6a4dbcfd",
   "metadata": {},
   "outputs": [],
   "source": []
  },
  {
   "cell_type": "code",
   "execution_count": null,
   "id": "0e30eb41",
   "metadata": {},
   "outputs": [],
   "source": []
  },
  {
   "cell_type": "code",
   "execution_count": null,
   "id": "41bbe41d",
   "metadata": {},
   "outputs": [],
   "source": []
  },
  {
   "cell_type": "code",
   "execution_count": 94,
   "id": "dcdef488",
   "metadata": {},
   "outputs": [
    {
     "data": {
      "text/html": [
       "<div>\n",
       "<style scoped>\n",
       "    .dataframe tbody tr th:only-of-type {\n",
       "        vertical-align: middle;\n",
       "    }\n",
       "\n",
       "    .dataframe tbody tr th {\n",
       "        vertical-align: top;\n",
       "    }\n",
       "\n",
       "    .dataframe thead th {\n",
       "        text-align: right;\n",
       "    }\n",
       "</style>\n",
       "<table border=\"1\" class=\"dataframe\">\n",
       "  <thead>\n",
       "    <tr style=\"text-align: right;\">\n",
       "      <th></th>\n",
       "      <th>time_idx</th>\n",
       "      <th>series</th>\n",
       "      <th>variable</th>\n",
       "      <th>value</th>\n",
       "    </tr>\n",
       "  </thead>\n",
       "  <tbody>\n",
       "    <tr>\n",
       "      <th>0</th>\n",
       "      <td>0</td>\n",
       "      <td>NaN</td>\n",
       "      <td>Open</td>\n",
       "      <td>46464.66</td>\n",
       "    </tr>\n",
       "    <tr>\n",
       "      <th>1</th>\n",
       "      <td>1</td>\n",
       "      <td>NaN</td>\n",
       "      <td>Open</td>\n",
       "      <td>46467.73</td>\n",
       "    </tr>\n",
       "    <tr>\n",
       "      <th>2</th>\n",
       "      <td>2</td>\n",
       "      <td>NaN</td>\n",
       "      <td>Open</td>\n",
       "      <td>46461.29</td>\n",
       "    </tr>\n",
       "    <tr>\n",
       "      <th>3</th>\n",
       "      <td>3</td>\n",
       "      <td>NaN</td>\n",
       "      <td>Open</td>\n",
       "      <td>46456.02</td>\n",
       "    </tr>\n",
       "    <tr>\n",
       "      <th>4</th>\n",
       "      <td>4</td>\n",
       "      <td>NaN</td>\n",
       "      <td>Open</td>\n",
       "      <td>46456.02</td>\n",
       "    </tr>\n",
       "  </tbody>\n",
       "</table>\n",
       "</div>"
      ],
      "text/plain": [
       "   time_idx  series variable     value\n",
       "0         0     NaN     Open  46464.66\n",
       "1         1     NaN     Open  46467.73\n",
       "2         2     NaN     Open  46461.29\n",
       "3         3     NaN     Open  46456.02\n",
       "4         4     NaN     Open  46456.02"
      ]
     },
     "execution_count": 94,
     "metadata": {},
     "output_type": "execute_result"
    }
   ],
   "source": [
    "dff = pd.melt(df, id_vars=[\"time_idx\", \"series\"], value_vars=indicators)\n",
    "dff.head()"
   ]
  },
  {
   "cell_type": "code",
   "execution_count": 95,
   "id": "9bee1278",
   "metadata": {},
   "outputs": [],
   "source": [
    "for i, ind in enumerate(indicators):\n",
    "    dff.loc[dff['variable'] == ind, 'series'] = i"
   ]
  },
  {
   "cell_type": "code",
   "execution_count": 96,
   "id": "c7b29b1c",
   "metadata": {},
   "outputs": [
    {
     "data": {
      "text/html": [
       "<div>\n",
       "<style scoped>\n",
       "    .dataframe tbody tr th:only-of-type {\n",
       "        vertical-align: middle;\n",
       "    }\n",
       "\n",
       "    .dataframe tbody tr th {\n",
       "        vertical-align: top;\n",
       "    }\n",
       "\n",
       "    .dataframe thead th {\n",
       "        text-align: right;\n",
       "    }\n",
       "</style>\n",
       "<table border=\"1\" class=\"dataframe\">\n",
       "  <thead>\n",
       "    <tr style=\"text-align: right;\">\n",
       "      <th></th>\n",
       "      <th>time_idx</th>\n",
       "      <th>series</th>\n",
       "      <th>variable</th>\n",
       "      <th>value</th>\n",
       "    </tr>\n",
       "  </thead>\n",
       "  <tbody>\n",
       "    <tr>\n",
       "      <th>4665595</th>\n",
       "      <td>172795</td>\n",
       "      <td>26.0</td>\n",
       "      <td>log_trend_ema_fast_ret</td>\n",
       "      <td>-0.000011</td>\n",
       "    </tr>\n",
       "    <tr>\n",
       "      <th>4665596</th>\n",
       "      <td>172796</td>\n",
       "      <td>26.0</td>\n",
       "      <td>log_trend_ema_fast_ret</td>\n",
       "      <td>-0.000009</td>\n",
       "    </tr>\n",
       "    <tr>\n",
       "      <th>4665597</th>\n",
       "      <td>172797</td>\n",
       "      <td>26.0</td>\n",
       "      <td>log_trend_ema_fast_ret</td>\n",
       "      <td>-0.000064</td>\n",
       "    </tr>\n",
       "    <tr>\n",
       "      <th>4665598</th>\n",
       "      <td>172798</td>\n",
       "      <td>26.0</td>\n",
       "      <td>log_trend_ema_fast_ret</td>\n",
       "      <td>-0.000054</td>\n",
       "    </tr>\n",
       "    <tr>\n",
       "      <th>4665599</th>\n",
       "      <td>172799</td>\n",
       "      <td>26.0</td>\n",
       "      <td>log_trend_ema_fast_ret</td>\n",
       "      <td>0.000010</td>\n",
       "    </tr>\n",
       "  </tbody>\n",
       "</table>\n",
       "</div>"
      ],
      "text/plain": [
       "         time_idx  series                variable     value\n",
       "4665595    172795    26.0  log_trend_ema_fast_ret -0.000011\n",
       "4665596    172796    26.0  log_trend_ema_fast_ret -0.000009\n",
       "4665597    172797    26.0  log_trend_ema_fast_ret -0.000064\n",
       "4665598    172798    26.0  log_trend_ema_fast_ret -0.000054\n",
       "4665599    172799    26.0  log_trend_ema_fast_ret  0.000010"
      ]
     },
     "execution_count": 96,
     "metadata": {},
     "output_type": "execute_result"
    }
   ],
   "source": [
    "dff.tail()"
   ]
  },
  {
   "cell_type": "code",
   "execution_count": 97,
   "id": "58f4730a",
   "metadata": {},
   "outputs": [
    {
     "data": {
      "text/plain": [
       "array([ 0.,  1.,  2.,  3.,  4.,  5.,  6.,  7.,  8.,  9., 10., 11., 12.,\n",
       "       13., 14., 15., 16., 17., 18., 19., 20., 21., 22., 23., 24., 25.,\n",
       "       26.])"
      ]
     },
     "execution_count": 97,
     "metadata": {},
     "output_type": "execute_result"
    }
   ],
   "source": [
    "dff['series'].unique()"
   ]
  },
  {
   "cell_type": "code",
   "execution_count": 98,
   "id": "4cf40170",
   "metadata": {},
   "outputs": [
    {
     "data": {
      "text/plain": [
       "time_idx    0\n",
       "series      0\n",
       "variable    0\n",
       "value       6\n",
       "dtype: int64"
      ]
     },
     "execution_count": 98,
     "metadata": {},
     "output_type": "execute_result"
    }
   ],
   "source": [
    "dff.isnull().sum()"
   ]
  },
  {
   "cell_type": "code",
   "execution_count": null,
   "id": "cc8dec34",
   "metadata": {},
   "outputs": [],
   "source": []
  },
  {
   "cell_type": "code",
   "execution_count": null,
   "id": "4f4ac9a3",
   "metadata": {},
   "outputs": [],
   "source": []
  },
  {
   "cell_type": "code",
   "execution_count": null,
   "id": "1a1255e4",
   "metadata": {},
   "outputs": [],
   "source": []
  },
  {
   "cell_type": "code",
   "execution_count": null,
   "id": "530f443f",
   "metadata": {},
   "outputs": [],
   "source": []
  },
  {
   "cell_type": "code",
   "execution_count": null,
   "id": "650041d1",
   "metadata": {},
   "outputs": [],
   "source": []
  },
  {
   "cell_type": "code",
   "execution_count": null,
   "id": "f0c4622a",
   "metadata": {},
   "outputs": [],
   "source": []
  },
  {
   "cell_type": "code",
   "execution_count": null,
   "id": "fbdb1726",
   "metadata": {},
   "outputs": [],
   "source": []
  },
  {
   "cell_type": "code",
   "execution_count": null,
   "id": "1b6d6335",
   "metadata": {},
   "outputs": [],
   "source": []
  },
  {
   "cell_type": "code",
   "execution_count": null,
   "id": "6628bc7a",
   "metadata": {},
   "outputs": [],
   "source": []
  },
  {
   "cell_type": "code",
   "execution_count": null,
   "id": "6732c009",
   "metadata": {},
   "outputs": [],
   "source": []
  },
  {
   "cell_type": "code",
   "execution_count": null,
   "id": "6467b57d",
   "metadata": {},
   "outputs": [],
   "source": []
  },
  {
   "cell_type": "code",
   "execution_count": null,
   "id": "ad193e5f",
   "metadata": {},
   "outputs": [],
   "source": []
  },
  {
   "cell_type": "code",
   "execution_count": null,
   "id": "695174de",
   "metadata": {},
   "outputs": [],
   "source": []
  },
  {
   "cell_type": "code",
   "execution_count": null,
   "id": "549eaa34",
   "metadata": {},
   "outputs": [],
   "source": []
  },
  {
   "cell_type": "code",
   "execution_count": null,
   "id": "b8a07fd8",
   "metadata": {},
   "outputs": [],
   "source": []
  },
  {
   "cell_type": "code",
   "execution_count": null,
   "id": "21e15be3",
   "metadata": {},
   "outputs": [],
   "source": []
  },
  {
   "cell_type": "code",
   "execution_count": null,
   "id": "2865053f",
   "metadata": {},
   "outputs": [],
   "source": []
  },
  {
   "cell_type": "code",
   "execution_count": null,
   "id": "e221ca4b",
   "metadata": {},
   "outputs": [],
   "source": []
  },
  {
   "cell_type": "code",
   "execution_count": null,
   "id": "5e8451db",
   "metadata": {},
   "outputs": [],
   "source": []
  },
  {
   "cell_type": "code",
   "execution_count": null,
   "id": "a4edfe0a",
   "metadata": {},
   "outputs": [],
   "source": []
  },
  {
   "cell_type": "code",
   "execution_count": null,
   "id": "5fc8b5f1",
   "metadata": {},
   "outputs": [],
   "source": []
  },
  {
   "cell_type": "code",
   "execution_count": null,
   "id": "9d185098",
   "metadata": {},
   "outputs": [],
   "source": []
  },
  {
   "cell_type": "code",
   "execution_count": 99,
   "id": "239d9392",
   "metadata": {},
   "outputs": [],
   "source": [
    "df = pd.read_csv('always.csv')"
   ]
  },
  {
   "cell_type": "code",
   "execution_count": 100,
   "id": "e8a0781a",
   "metadata": {},
   "outputs": [],
   "source": [
    "df.columns = ['time', 'close', 'log_ret']\n",
    "df['time_idx'] = df.index\n",
    "df['series'] = 0\n",
    "df['time'] = pd.to_datetime(df['time'])"
   ]
  },
  {
   "cell_type": "code",
   "execution_count": 101,
   "id": "00b2ce3b",
   "metadata": {},
   "outputs": [
    {
     "data": {
      "text/html": [
       "<div>\n",
       "<style scoped>\n",
       "    .dataframe tbody tr th:only-of-type {\n",
       "        vertical-align: middle;\n",
       "    }\n",
       "\n",
       "    .dataframe tbody tr th {\n",
       "        vertical-align: top;\n",
       "    }\n",
       "\n",
       "    .dataframe thead th {\n",
       "        text-align: right;\n",
       "    }\n",
       "</style>\n",
       "<table border=\"1\" class=\"dataframe\">\n",
       "  <thead>\n",
       "    <tr style=\"text-align: right;\">\n",
       "      <th></th>\n",
       "      <th>time</th>\n",
       "      <th>close</th>\n",
       "      <th>log_ret</th>\n",
       "      <th>time_idx</th>\n",
       "      <th>series</th>\n",
       "    </tr>\n",
       "  </thead>\n",
       "  <tbody>\n",
       "    <tr>\n",
       "      <th>1</th>\n",
       "      <td>2022-02-03 00:00:01</td>\n",
       "      <td>36902.81</td>\n",
       "      <td>-0.000004</td>\n",
       "      <td>1</td>\n",
       "      <td>0</td>\n",
       "    </tr>\n",
       "    <tr>\n",
       "      <th>2</th>\n",
       "      <td>2022-02-03 00:00:02</td>\n",
       "      <td>36899.19</td>\n",
       "      <td>-0.000098</td>\n",
       "      <td>2</td>\n",
       "      <td>0</td>\n",
       "    </tr>\n",
       "    <tr>\n",
       "      <th>3</th>\n",
       "      <td>2022-02-03 00:00:03</td>\n",
       "      <td>36900.54</td>\n",
       "      <td>0.000037</td>\n",
       "      <td>3</td>\n",
       "      <td>0</td>\n",
       "    </tr>\n",
       "    <tr>\n",
       "      <th>4</th>\n",
       "      <td>2022-02-03 00:00:04</td>\n",
       "      <td>36895.62</td>\n",
       "      <td>-0.000133</td>\n",
       "      <td>4</td>\n",
       "      <td>0</td>\n",
       "    </tr>\n",
       "    <tr>\n",
       "      <th>5</th>\n",
       "      <td>2022-02-03 00:00:05</td>\n",
       "      <td>36900.26</td>\n",
       "      <td>0.000126</td>\n",
       "      <td>5</td>\n",
       "      <td>0</td>\n",
       "    </tr>\n",
       "  </tbody>\n",
       "</table>\n",
       "</div>"
      ],
      "text/plain": [
       "                 time     close   log_ret  time_idx  series\n",
       "1 2022-02-03 00:00:01  36902.81 -0.000004         1       0\n",
       "2 2022-02-03 00:00:02  36899.19 -0.000098         2       0\n",
       "3 2022-02-03 00:00:03  36900.54  0.000037         3       0\n",
       "4 2022-02-03 00:00:04  36895.62 -0.000133         4       0\n",
       "5 2022-02-03 00:00:05  36900.26  0.000126         5       0"
      ]
     },
     "execution_count": 101,
     "metadata": {},
     "output_type": "execute_result"
    }
   ],
   "source": [
    "df = df.dropna()\n",
    "df.head()"
   ]
  },
  {
   "cell_type": "code",
   "execution_count": 102,
   "id": "e5a6506c",
   "metadata": {},
   "outputs": [
    {
     "data": {
      "text/html": [
       "<div>\n",
       "<style scoped>\n",
       "    .dataframe tbody tr th:only-of-type {\n",
       "        vertical-align: middle;\n",
       "    }\n",
       "\n",
       "    .dataframe tbody tr th {\n",
       "        vertical-align: top;\n",
       "    }\n",
       "\n",
       "    .dataframe thead th {\n",
       "        text-align: right;\n",
       "    }\n",
       "</style>\n",
       "<table border=\"1\" class=\"dataframe\">\n",
       "  <thead>\n",
       "    <tr style=\"text-align: right;\">\n",
       "      <th></th>\n",
       "      <th>time</th>\n",
       "      <th>close</th>\n",
       "      <th>log_ret</th>\n",
       "      <th>time_idx</th>\n",
       "      <th>series</th>\n",
       "    </tr>\n",
       "  </thead>\n",
       "  <tbody>\n",
       "    <tr>\n",
       "      <th>172795</th>\n",
       "      <td>2022-02-04 23:59:55</td>\n",
       "      <td>41545.77</td>\n",
       "      <td>-0.000261</td>\n",
       "      <td>172795</td>\n",
       "      <td>0</td>\n",
       "    </tr>\n",
       "    <tr>\n",
       "      <th>172796</th>\n",
       "      <td>2022-02-04 23:59:56</td>\n",
       "      <td>41549.21</td>\n",
       "      <td>0.000083</td>\n",
       "      <td>172796</td>\n",
       "      <td>0</td>\n",
       "    </tr>\n",
       "    <tr>\n",
       "      <th>172797</th>\n",
       "      <td>2022-02-04 23:59:57</td>\n",
       "      <td>41545.98</td>\n",
       "      <td>-0.000078</td>\n",
       "      <td>172797</td>\n",
       "      <td>0</td>\n",
       "    </tr>\n",
       "    <tr>\n",
       "      <th>172798</th>\n",
       "      <td>2022-02-04 23:59:58</td>\n",
       "      <td>41552.02</td>\n",
       "      <td>0.000145</td>\n",
       "      <td>172798</td>\n",
       "      <td>0</td>\n",
       "    </tr>\n",
       "    <tr>\n",
       "      <th>172799</th>\n",
       "      <td>2022-02-04 23:59:59</td>\n",
       "      <td>41574.25</td>\n",
       "      <td>0.000535</td>\n",
       "      <td>172799</td>\n",
       "      <td>0</td>\n",
       "    </tr>\n",
       "  </tbody>\n",
       "</table>\n",
       "</div>"
      ],
      "text/plain": [
       "                      time     close   log_ret  time_idx  series\n",
       "172795 2022-02-04 23:59:55  41545.77 -0.000261    172795       0\n",
       "172796 2022-02-04 23:59:56  41549.21  0.000083    172796       0\n",
       "172797 2022-02-04 23:59:57  41545.98 -0.000078    172797       0\n",
       "172798 2022-02-04 23:59:58  41552.02  0.000145    172798       0\n",
       "172799 2022-02-04 23:59:59  41574.25  0.000535    172799       0"
      ]
     },
     "execution_count": 102,
     "metadata": {},
     "output_type": "execute_result"
    }
   ],
   "source": [
    "df.tail()"
   ]
  },
  {
   "cell_type": "code",
   "execution_count": 5,
   "id": "dd307061",
   "metadata": {},
   "outputs": [
    {
     "data": {
      "text/plain": [
       "time        datetime64[ns]\n",
       "close              float64\n",
       "log_ret            float64\n",
       "time_idx             int64\n",
       "series               int64\n",
       "dtype: object"
      ]
     },
     "execution_count": 5,
     "metadata": {},
     "output_type": "execute_result"
    }
   ],
   "source": [
    "df.dtypes"
   ]
  },
  {
   "cell_type": "markdown",
   "id": "dc35a567",
   "metadata": {},
   "source": [
    "## TSDS"
   ]
  },
  {
   "cell_type": "code",
   "execution_count": 14,
   "id": "0946cbce",
   "metadata": {},
   "outputs": [
    {
     "data": {
      "text/plain": [
       "171800"
      ]
     },
     "execution_count": 14,
     "metadata": {},
     "output_type": "execute_result"
    }
   ],
   "source": [
    "# define dataset: lookback 30 intervals, predict 10 into future\n",
    "history_window = 30\n",
    "future_window = 10\n",
    "training_cutoff = df.index[-1000]\n",
    "training_cutoff"
   ]
  },
  {
   "cell_type": "code",
   "execution_count": 15,
   "id": "d6e63362",
   "metadata": {},
   "outputs": [],
   "source": [
    "training = TimeSeriesDataSet(\n",
    "    df[lambda x: x.time_idx <= training_cutoff],\n",
    "    time_idx=\"time_idx\",\n",
    "    target=\"close\",\n",
    "    categorical_encoders={\"series\": NaNLabelEncoder().fit(df.series)},\n",
    "    group_ids=[\"series\"],\n",
    "    # only unknown variable is \"close\" - and N-Beats can also not take any additional variables\n",
    "    time_varying_unknown_reals=[\"close\"],\n",
    "    max_encoder_length=history_window,\n",
    "    max_prediction_length=future_window,\n",
    "    allow_missing_timesteps=True,\n",
    ")\n",
    "\n",
    "validation = TimeSeriesDataSet.from_dataset(training, df, min_prediction_idx=training_cutoff + 1)\n",
    "batch_size = 128\n",
    "train_dataloader = training.to_dataloader(train=True, batch_size=batch_size, num_workers=0)\n",
    "val_dataloader = validation.to_dataloader(train=False, batch_size=batch_size, num_workers=0)"
   ]
  },
  {
   "cell_type": "markdown",
   "id": "6c7b653b",
   "metadata": {},
   "source": [
    "## baseline"
   ]
  },
  {
   "cell_type": "code",
   "execution_count": 125,
   "id": "dad1ab36",
   "metadata": {},
   "outputs": [
    {
     "data": {
      "text/plain": [
       "tensor(9.8925e-05)"
      ]
     },
     "execution_count": 125,
     "metadata": {},
     "output_type": "execute_result"
    }
   ],
   "source": [
    "# calculate baseline absolute error\n",
    "actuals = torch.cat([y[0] for x, y in iter(val_dataloader)])\n",
    "baseline_predictions = Baseline().predict(val_dataloader)\n",
    "SMAPE()(baseline_predictions, actuals)"
   ]
  },
  {
   "cell_type": "markdown",
   "id": "5b3eea82",
   "metadata": {},
   "source": [
    "# NBEATS Model"
   ]
  },
  {
   "cell_type": "code",
   "execution_count": 126,
   "id": "82dff8b0",
   "metadata": {},
   "outputs": [
    {
     "name": "stderr",
     "output_type": "stream",
     "text": [
      "Global seed set to 42\n",
      "GPU available: False, used: False\n",
      "TPU available: False, using: 0 TPU cores\n",
      "IPU available: False, using: 0 IPUs\n"
     ]
    }
   ],
   "source": [
    "pl.seed_everything(42)\n",
    "trainer = pl.Trainer(gpus=0, gradient_clip_val=0.01)\n",
    "net = NBeats.from_dataset(training, learning_rate=3e-2, weight_decay=1e-2, widths=[32, 512], backcast_loss_ratio=0.1)"
   ]
  },
  {
   "cell_type": "code",
   "execution_count": 133,
   "id": "68188929",
   "metadata": {},
   "outputs": [
    {
     "name": "stderr",
     "output_type": "stream",
     "text": [
      "/var/folders/nw/q8c9lcfd38qg_8hw2py9hw840000gn/T/ipykernel_49948/4102843741.py:1: LightningDeprecationWarning: The `LightningModule.summarize` method is deprecated in v1.5 and will be removed in v1.7. Use `pytorch_lightning.utilities.model_summary.summarize` instead.\n",
      "  net.summarize(\"full\")\n",
      "/Users/dan/miniforge3/lib/python3.9/site-packages/pytorch_lightning/utilities/model_summary.py:471: LightningDeprecationWarning: Argument `mode` in `LightningModule.summarize` is deprecated in v1.4 and will be removed in v1.6. Use `max_depth=-1` to replicate `mode=full` behavior.\n",
      "  rank_zero_deprecation(\n"
     ]
    },
    {
     "data": {
      "text/plain": [
       "   | Name                    | Type                | Params\n",
       "-----------------------------------------------------------------\n",
       "0  | loss                    | MASE                | 0     \n",
       "1  | logging_metrics         | ModuleList          | 0     \n",
       "2  | logging_metrics.0       | SMAPE               | 0     \n",
       "3  | logging_metrics.1       | MAE                 | 0     \n",
       "4  | logging_metrics.2       | RMSE                | 0     \n",
       "5  | logging_metrics.3       | MAPE                | 0     \n",
       "6  | logging_metrics.4       | MASE                | 0     \n",
       "7  | net_blocks              | ModuleList          | 1.6 M \n",
       "8  | net_blocks.0            | NBEATSTrendBlock    | 3.2 K \n",
       "9  | net_blocks.0.fc         | Sequential          | 3.1 K \n",
       "10 | net_blocks.0.fc.0       | Linear              | 992   \n",
       "11 | net_blocks.0.fc.1       | ReLU                | 0     \n",
       "12 | net_blocks.0.fc.2       | Sequential          | 1.1 K \n",
       "13 | net_blocks.0.fc.2.0     | Dropout             | 0     \n",
       "14 | net_blocks.0.fc.2.1     | Linear              | 1.1 K \n",
       "15 | net_blocks.0.fc.3       | ReLU                | 0     \n",
       "16 | net_blocks.0.fc.4       | Sequential          | 1.1 K \n",
       "17 | net_blocks.0.fc.4.0     | Dropout             | 0     \n",
       "18 | net_blocks.0.fc.4.1     | Linear              | 1.1 K \n",
       "19 | net_blocks.0.fc.5       | ReLU                | 0     \n",
       "20 | net_blocks.0.theta_f_fc | Linear              | 96    \n",
       "21 | net_blocks.1            | NBEATSTrendBlock    | 3.2 K \n",
       "22 | net_blocks.1.fc         | Sequential          | 3.1 K \n",
       "23 | net_blocks.1.fc.0       | Linear              | 992   \n",
       "24 | net_blocks.1.fc.1       | ReLU                | 0     \n",
       "25 | net_blocks.1.fc.2       | Sequential          | 1.1 K \n",
       "26 | net_blocks.1.fc.2.0     | Dropout             | 0     \n",
       "27 | net_blocks.1.fc.2.1     | Linear              | 1.1 K \n",
       "28 | net_blocks.1.fc.3       | ReLU                | 0     \n",
       "29 | net_blocks.1.fc.4       | Sequential          | 1.1 K \n",
       "30 | net_blocks.1.fc.4.0     | Dropout             | 0     \n",
       "31 | net_blocks.1.fc.4.1     | Linear              | 1.1 K \n",
       "32 | net_blocks.1.fc.5       | ReLU                | 0     \n",
       "33 | net_blocks.1.theta_f_fc | Linear              | 96    \n",
       "34 | net_blocks.2            | NBEATSTrendBlock    | 3.2 K \n",
       "35 | net_blocks.2.fc         | Sequential          | 3.1 K \n",
       "36 | net_blocks.2.fc.0       | Linear              | 992   \n",
       "37 | net_blocks.2.fc.1       | ReLU                | 0     \n",
       "38 | net_blocks.2.fc.2       | Sequential          | 1.1 K \n",
       "39 | net_blocks.2.fc.2.0     | Dropout             | 0     \n",
       "40 | net_blocks.2.fc.2.1     | Linear              | 1.1 K \n",
       "41 | net_blocks.2.fc.3       | ReLU                | 0     \n",
       "42 | net_blocks.2.fc.4       | Sequential          | 1.1 K \n",
       "43 | net_blocks.2.fc.4.0     | Dropout             | 0     \n",
       "44 | net_blocks.2.fc.4.1     | Linear              | 1.1 K \n",
       "45 | net_blocks.2.fc.5       | ReLU                | 0     \n",
       "46 | net_blocks.2.theta_f_fc | Linear              | 96    \n",
       "47 | net_blocks.3            | NBEATSSeasonalBlock | 546 K \n",
       "48 | net_blocks.3.fc         | Sequential          | 541 K \n",
       "49 | net_blocks.3.fc.0       | Linear              | 15.9 K\n",
       "50 | net_blocks.3.fc.1       | ReLU                | 0     \n",
       "51 | net_blocks.3.fc.2       | Sequential          | 262 K \n",
       "52 | net_blocks.3.fc.2.0     | Dropout             | 0     \n",
       "53 | net_blocks.3.fc.2.1     | Linear              | 262 K \n",
       "54 | net_blocks.3.fc.3       | ReLU                | 0     \n",
       "55 | net_blocks.3.fc.4       | Sequential          | 262 K \n",
       "56 | net_blocks.3.fc.4.0     | Dropout             | 0     \n",
       "57 | net_blocks.3.fc.4.1     | Linear              | 262 K \n",
       "58 | net_blocks.3.fc.5       | ReLU                | 0     \n",
       "59 | net_blocks.3.theta_f_fc | Linear              | 5.1 K \n",
       "60 | net_blocks.4            | NBEATSSeasonalBlock | 546 K \n",
       "61 | net_blocks.4.fc         | Sequential          | 541 K \n",
       "62 | net_blocks.4.fc.0       | Linear              | 15.9 K\n",
       "63 | net_blocks.4.fc.1       | ReLU                | 0     \n",
       "64 | net_blocks.4.fc.2       | Sequential          | 262 K \n",
       "65 | net_blocks.4.fc.2.0     | Dropout             | 0     \n",
       "66 | net_blocks.4.fc.2.1     | Linear              | 262 K \n",
       "67 | net_blocks.4.fc.3       | ReLU                | 0     \n",
       "68 | net_blocks.4.fc.4       | Sequential          | 262 K \n",
       "69 | net_blocks.4.fc.4.0     | Dropout             | 0     \n",
       "70 | net_blocks.4.fc.4.1     | Linear              | 262 K \n",
       "71 | net_blocks.4.fc.5       | ReLU                | 0     \n",
       "72 | net_blocks.4.theta_f_fc | Linear              | 5.1 K \n",
       "73 | net_blocks.5            | NBEATSSeasonalBlock | 546 K \n",
       "74 | net_blocks.5.fc         | Sequential          | 541 K \n",
       "75 | net_blocks.5.fc.0       | Linear              | 15.9 K\n",
       "76 | net_blocks.5.fc.1       | ReLU                | 0     \n",
       "77 | net_blocks.5.fc.2       | Sequential          | 262 K \n",
       "78 | net_blocks.5.fc.2.0     | Dropout             | 0     \n",
       "79 | net_blocks.5.fc.2.1     | Linear              | 262 K \n",
       "80 | net_blocks.5.fc.3       | ReLU                | 0     \n",
       "81 | net_blocks.5.fc.4       | Sequential          | 262 K \n",
       "82 | net_blocks.5.fc.4.0     | Dropout             | 0     \n",
       "83 | net_blocks.5.fc.4.1     | Linear              | 262 K \n",
       "84 | net_blocks.5.fc.5       | ReLU                | 0     \n",
       "85 | net_blocks.5.theta_f_fc | Linear              | 5.1 K \n",
       "-----------------------------------------------------------------\n",
       "1.6 M     Trainable params\n",
       "0         Non-trainable params\n",
       "1.6 M     Total params\n",
       "6.594     Total estimated model params size (MB)"
      ]
     },
     "execution_count": 133,
     "metadata": {},
     "output_type": "execute_result"
    }
   ],
   "source": [
    "net.summarize(\"full\")"
   ]
  },
  {
   "cell_type": "code",
   "execution_count": 127,
   "id": "48fb17ca",
   "metadata": {},
   "outputs": [
    {
     "name": "stderr",
     "output_type": "stream",
     "text": [
      "/Users/dan/miniforge3/lib/python3.9/site-packages/pytorch_lightning/trainer/trainer.py:1079: LightningDeprecationWarning: `trainer.tune(train_dataloader)` is deprecated in v1.4 and will be removed in v1.6. Use `trainer.tune(train_dataloaders)` instead. HINT: added 's'\n",
      "  rank_zero_deprecation(\n",
      "/Users/dan/miniforge3/lib/python3.9/site-packages/pytorch_lightning/trainer/data_loading.py:132: UserWarning: The dataloader, val_dataloader 0, does not have many workers which may be a bottleneck. Consider increasing the value of the `num_workers` argument` (try 10 which is the number of cpus on this machine) in the `DataLoader` init to improve performance.\n",
      "  rank_zero_warn(\n",
      "/Users/dan/miniforge3/lib/python3.9/site-packages/pytorch_lightning/utilities/data.py:59: UserWarning: Trying to infer the `batch_size` from an ambiguous collection. The batch size we found is 10. To avoid any miscalculations, use `self.log(..., batch_size=batch_size)`.\n",
      "  warning_cache.warn(\n",
      "Global seed set to 42\n",
      "/Users/dan/miniforge3/lib/python3.9/site-packages/pytorch_lightning/trainer/data_loading.py:132: UserWarning: The dataloader, train_dataloader, does not have many workers which may be a bottleneck. Consider increasing the value of the `num_workers` argument` (try 10 which is the number of cpus on this machine) in the `DataLoader` init to improve performance.\n",
      "  rank_zero_warn(\n",
      "Finding best initial lr:  99%|████████████████▊| 99/100 [00:04<00:00, 21.01it/s]Restoring states from the checkpoint path at /Users/dan/Desktop/projects/uexp/ue/experiments/dan/lr_find_temp_model_509f8649-ea2b-47ad-a387-edbef2820216.ckpt\n",
      "Finding best initial lr: 100%|████████████████| 100/100 [00:04<00:00, 21.11it/s]\n"
     ]
    },
    {
     "name": "stdout",
     "output_type": "stream",
     "text": [
      "suggested learning rate: 0.017782794100389233\n"
     ]
    },
    {
     "data": {
      "image/png": "[encoded data removed]",
      "text/plain": [
       "<Figure size 432x288 with 1 Axes>"
      ]
     },
     "metadata": {
      "needs_background": "light"
     },
     "output_type": "display_data"
    },
    {
     "name": "stderr",
     "output_type": "stream",
     "text": [
      "/var/folders/nw/q8c9lcfd38qg_8hw2py9hw840000gn/T/ipykernel_49948/3011316979.py:5: UserWarning: Matplotlib is currently using module://matplotlib_inline.backend_inline, which is a non-GUI backend, so cannot show the figure.\n",
      "  fig.show()\n"
     ]
    }
   ],
   "source": [
    "# find optimal learning rate\n",
    "res = trainer.tuner.lr_find(net, train_dataloader=train_dataloader, val_dataloaders=val_dataloader, min_lr=1e-5)\n",
    "print(f\"suggested learning rate: {res.suggestion()}\")\n",
    "fig = res.plot(show=True, suggest=True)\n",
    "fig.show()\n",
    "net.hparams.learning_rate = res.suggestion()"
   ]
  },
  {
   "cell_type": "code",
   "execution_count": 128,
   "id": "e762b256",
   "metadata": {},
   "outputs": [
    {
     "name": "stderr",
     "output_type": "stream",
     "text": [
      "GPU available: False, used: False\n",
      "TPU available: False, using: 0 TPU cores\n",
      "IPU available: False, using: 0 IPUs\n",
      "/Users/dan/miniforge3/lib/python3.9/site-packages/pytorch_lightning/trainer/trainer.py:735: LightningDeprecationWarning: `trainer.fit(train_dataloader)` is deprecated in v1.4 and will be removed in v1.6. Use `trainer.fit(train_dataloaders)` instead. HINT: added 's'\n",
      "  rank_zero_deprecation(\n",
      "\n",
      "  | Name            | Type       | Params\n",
      "-----------------------------------------------\n",
      "0 | loss            | MASE       | 0     \n",
      "1 | logging_metrics | ModuleList | 0     \n",
      "2 | net_blocks      | ModuleList | 1.6 M \n",
      "-----------------------------------------------\n",
      "1.6 M     Trainable params\n",
      "0         Non-trainable params\n",
      "1.6 M     Total params\n",
      "6.594     Total estimated model params size (MB)\n"
     ]
    },
    {
     "name": "stdout",
     "output_type": "stream",
     "text": [
      "                                                                                "
     ]
    },
    {
     "name": "stderr",
     "output_type": "stream",
     "text": [
      "Global seed set to 42\n",
      "/Users/dan/miniforge3/lib/python3.9/site-packages/pytorch_lightning/trainer/data_loading.py:132: UserWarning: The dataloader, train_dataloader, does not have many workers which may be a bottleneck. Consider increasing the value of the `num_workers` argument` (try 10 which is the number of cpus on this machine) in the `DataLoader` init to improve performance.\n",
      "  rank_zero_warn(\n",
      "/Users/dan/miniforge3/lib/python3.9/site-packages/pytorch_lightning/trainer/data_loading.py:432: UserWarning: The number of training samples (30) is smaller than the logging interval Trainer(log_every_n_steps=50). Set a lower value for log_every_n_steps if you want to see logs for the training epoch.\n",
      "  rank_zero_warn(\n"
     ]
    },
    {
     "name": "stdout",
     "output_type": "stream",
     "text": [
      "Epoch 0: 100%|█| 31/31 [00:01<00:00, 17.03it/s, loss=4.39, v_num=1, train_loss_s\n",
      "Validating: 0it [00:00, ?it/s]\u001b[A\n",
      "Validating:   0%|                                         | 0/1 [00:00<?, ?it/s]\u001b[A\n",
      "Epoch 0: 100%|█| 31/31 [00:01<00:00, 16.07it/s, loss=4.39, v_num=1, train_loss_s\u001b[A\n",
      "Epoch 1:  97%|▉| 30/31 [00:01<00:00, 16.51it/s, loss=3.58, v_num=1, train_loss_s\u001b[A\n",
      "Validating: 0it [00:00, ?it/s]\u001b[A\n",
      "Epoch 1: 100%|█| 31/31 [00:01<00:00, 16.13it/s, loss=3.58, v_num=1, train_loss_s\u001b[A\n",
      "Epoch 2:  97%|▉| 30/31 [00:01<00:00, 16.35it/s, loss=3.38, v_num=1, train_loss_s\u001b[A\n",
      "Validating: 0it [00:00, ?it/s]\u001b[A\n",
      "Validating:   0%|                                         | 0/1 [00:00<?, ?it/s]\u001b[A\n",
      "Epoch 2: 100%|█| 31/31 [00:02<00:00, 15.05it/s, loss=3.38, v_num=1, train_loss_s\u001b[A\n",
      "Epoch 3:  97%|▉| 30/31 [00:01<00:00, 16.27it/s, loss=3.22, v_num=1, train_loss_s\u001b[A\n",
      "Validating: 0it [00:00, ?it/s]\u001b[A\n",
      "Validating:   0%|                                         | 0/1 [00:00<?, ?it/s]\u001b[A\n",
      "Epoch 3: 100%|█| 31/31 [00:01<00:00, 15.86it/s, loss=3.22, v_num=1, train_loss_s\u001b[A\n",
      "Epoch 4:  97%|▉| 30/31 [00:01<00:00, 16.59it/s, loss=3.15, v_num=1, train_loss_s\u001b[A\n",
      "Validating: 0it [00:00, ?it/s]\u001b[A\n",
      "Epoch 4: 100%|█| 31/31 [00:01<00:00, 16.20it/s, loss=3.15, v_num=1, train_loss_s\u001b[A\n",
      "Epoch 5:  97%|▉| 30/31 [00:01<00:00, 15.25it/s, loss=2.86, v_num=1, train_loss_s\u001b[A\n",
      "Validating: 0it [00:00, ?it/s]\u001b[A\n",
      "Epoch 5: 100%|█| 31/31 [00:02<00:00, 14.95it/s, loss=2.86, v_num=1, train_loss_s\u001b[A\n",
      "Epoch 6:  97%|▉| 30/31 [00:01<00:00, 16.43it/s, loss=2.72, v_num=1, train_loss_s\u001b[A\n",
      "Validating: 0it [00:00, ?it/s]\u001b[A\n",
      "Validating:   0%|                                         | 0/1 [00:00<?, ?it/s]\u001b[A\n",
      "Epoch 6: 100%|█| 31/31 [00:01<00:00, 16.01it/s, loss=2.72, v_num=1, train_loss_s\u001b[A\n",
      "Epoch 7:  97%|▉| 30/31 [00:01<00:00, 16.31it/s, loss=2.8, v_num=1, train_loss_st\u001b[A\n",
      "Validating: 0it [00:00, ?it/s]\u001b[A\n",
      "Epoch 7: 100%|█| 31/31 [00:01<00:00, 15.93it/s, loss=2.8, v_num=1, train_loss_st\u001b[A\n",
      "Epoch 8:  97%|▉| 30/31 [00:01<00:00, 16.36it/s, loss=2.68, v_num=1, train_loss_s\u001b[A\n",
      "Validating: 0it [00:00, ?it/s]\u001b[A\n",
      "Epoch 8: 100%|█| 31/31 [00:01<00:00, 15.97it/s, loss=2.68, v_num=1, train_loss_s\u001b[A\n",
      "Epoch 9:  97%|▉| 30/31 [00:01<00:00, 15.22it/s, loss=2.64, v_num=1, train_loss_s\u001b[A\n",
      "Validating: 0it [00:00, ?it/s]\u001b[A\n",
      "Epoch 9: 100%|█| 31/31 [00:02<00:00, 14.92it/s, loss=2.64, v_num=1, train_loss_s\u001b[A\n",
      "Epoch 10:  97%|▉| 30/31 [00:01<00:00, 16.84it/s, loss=2.62, v_num=1, train_loss_\u001b[A\n",
      "Validating: 0it [00:00, ?it/s]\u001b[A\n",
      "Epoch 10: 100%|█| 31/31 [00:01<00:00, 16.45it/s, loss=2.62, v_num=1, train_loss_\u001b[A\n",
      "Epoch 11:  97%|▉| 30/31 [00:01<00:00, 16.30it/s, loss=2.67, v_num=1, train_loss_\u001b[A\n",
      "Validating: 0it [00:00, ?it/s]\u001b[A\n",
      "Epoch 11: 100%|█| 31/31 [00:01<00:00, 15.91it/s, loss=2.67, v_num=1, train_loss_\u001b[A\n",
      "Epoch 12:  97%|▉| 30/31 [00:01<00:00, 16.29it/s, loss=2.67, v_num=1, train_loss_\u001b[A\n",
      "Validating: 0it [00:00, ?it/s]\u001b[A\n",
      "Epoch 12: 100%|█| 31/31 [00:01<00:00, 15.92it/s, loss=2.67, v_num=1, train_loss_\u001b[A\n",
      "Epoch 13:  97%|▉| 30/31 [00:02<00:00, 14.91it/s, loss=2.65, v_num=1, train_loss_\u001b[A\n",
      "Validating: 0it [00:00, ?it/s]\u001b[A\n",
      "Validating:   0%|                                         | 0/1 [00:00<?, ?it/s]\u001b[A\n",
      "Epoch 13: 100%|█| 31/31 [00:02<00:00, 14.51it/s, loss=2.65, v_num=1, train_loss_\u001b[A\n",
      "Epoch 14:  97%|▉| 30/31 [00:01<00:00, 16.33it/s, loss=2.62, v_num=1, train_loss_\u001b[A\n",
      "Validating: 0it [00:00, ?it/s]\u001b[A\n",
      "Validating:   0%|                                         | 0/1 [00:00<?, ?it/s]\u001b[A\n",
      "Epoch 14: 100%|█| 31/31 [00:01<00:00, 15.90it/s, loss=2.62, v_num=1, train_loss_\u001b[A\n",
      "Epoch 15:  97%|▉| 30/31 [00:01<00:00, 16.44it/s, loss=2.58, v_num=1, train_loss_\u001b[A\n",
      "Validating: 0it [00:00, ?it/s]\u001b[A\n",
      "Validating:   0%|                                         | 0/1 [00:00<?, ?it/s]\u001b[A\n",
      "Epoch 15: 100%|█| 31/31 [00:01<00:00, 16.00it/s, loss=2.58, v_num=1, train_loss_\u001b[A\n",
      "Epoch 16:  97%|▉| 30/31 [00:01<00:00, 16.26it/s, loss=2.67, v_num=1, train_loss_\u001b[A\n",
      "Validating: 0it [00:00, ?it/s]\u001b[A\n",
      "Validating:   0%|                                         | 0/1 [00:00<?, ?it/s]\u001b[A\n",
      "Epoch 16: 100%|█| 31/31 [00:01<00:00, 15.85it/s, loss=2.67, v_num=1, train_loss_\u001b[A\n",
      "Epoch 17:  97%|▉| 30/31 [00:01<00:00, 16.59it/s, loss=2.59, v_num=1, train_loss_\u001b[A\n",
      "Validating: 0it [00:00, ?it/s]\u001b[A\n",
      "Validating:   0%|                                         | 0/1 [00:00<?, ?it/s]\u001b[A\n",
      "Epoch 17: 100%|█| 31/31 [00:01<00:00, 16.14it/s, loss=2.59, v_num=1, train_loss_\u001b[A\n",
      "Epoch 18:  97%|▉| 30/31 [00:02<00:00, 14.40it/s, loss=2.62, v_num=1, train_loss_\u001b[A\n",
      "Validating: 0it [00:00, ?it/s]\u001b[A\n",
      "Epoch 18: 100%|█| 31/31 [00:02<00:00, 14.15it/s, loss=2.62, v_num=1, train_loss_\u001b[A\n",
      "Epoch 19:  97%|▉| 30/31 [00:01<00:00, 16.48it/s, loss=2.62, v_num=1, train_loss_\u001b[A\n",
      "Validating: 0it [00:00, ?it/s]\u001b[A\n",
      "Validating:   0%|                                         | 0/1 [00:00<?, ?it/s]\u001b[A\n",
      "Epoch 19: 100%|█| 31/31 [00:01<00:00, 16.02it/s, loss=2.62, v_num=1, train_loss_\u001b[A\n",
      "Epoch 20:  97%|▉| 30/31 [00:01<00:00, 16.47it/s, loss=2.59, v_num=1, train_loss_\u001b[A\n",
      "Validating: 0it [00:00, ?it/s]\u001b[A\n",
      "Validating:   0%|                                         | 0/1 [00:00<?, ?it/s]\u001b[A\n",
      "Epoch 20: 100%|█| 31/31 [00:01<00:00, 16.04it/s, loss=2.59, v_num=1, train_loss_\u001b[A\n",
      "Epoch 21:  97%|▉| 30/31 [00:01<00:00, 16.58it/s, loss=2.6, v_num=1, train_loss_s\u001b[A\n",
      "Validating: 0it [00:00, ?it/s]\u001b[A\n",
      "Validating:   0%|                                         | 0/1 [00:00<?, ?it/s]\u001b[A\n",
      "Epoch 21: 100%|█| 31/31 [00:01<00:00, 16.13it/s, loss=2.6, v_num=1, train_loss_s\u001b[A\n",
      "Epoch 22:  97%|▉| 30/31 [00:01<00:00, 16.72it/s, loss=2.59, v_num=1, train_loss_\u001b[A\n",
      "Validating: 0it [00:00, ?it/s]\u001b[A\n",
      "Epoch 22: 100%|█| 31/31 [00:01<00:00, 16.30it/s, loss=2.59, v_num=1, train_loss_\u001b[A\n",
      "Epoch 23:  97%|▉| 30/31 [00:01<00:00, 16.65it/s, loss=2.6, v_num=1, train_loss_s\u001b[A\n",
      "Validating: 0it [00:00, ?it/s]\u001b[A\n",
      "Epoch 23: 100%|█| 31/31 [00:01<00:00, 16.26it/s, loss=2.6, v_num=1, train_loss_s\u001b[A\n",
      "Epoch 24:  97%|▉| 30/31 [00:01<00:00, 16.64it/s, loss=2.62, v_num=1, train_loss_\u001b[A\n",
      "Validating: 0it [00:00, ?it/s]\u001b[A\n",
      "Epoch 24: 100%|█| 31/31 [00:01<00:00, 16.25it/s, loss=2.62, v_num=1, train_loss_\u001b[A\n",
      "Epoch 25:  97%|▉| 30/31 [00:02<00:00, 14.36it/s, loss=2.61, v_num=1, train_loss_\u001b[A\n",
      "Validating: 0it [00:00, ?it/s]\u001b[A\n",
      "Validating:   0%|                                         | 0/1 [00:00<?, ?it/s]\u001b[A\n",
      "Epoch 25: 100%|█| 31/31 [00:02<00:00, 14.10it/s, loss=2.61, v_num=1, train_loss_\u001b[A\n",
      "Epoch 26:  97%|▉| 30/31 [00:01<00:00, 16.71it/s, loss=2.6, v_num=1, train_loss_s\u001b[A\n",
      "Validating: 0it [00:00, ?it/s]\u001b[A\n",
      "Epoch 26: 100%|█| 31/31 [00:01<00:00, 16.30it/s, loss=2.6, v_num=1, train_loss_s\u001b[A\n",
      "Epoch 27:  97%|▉| 30/31 [00:01<00:00, 16.57it/s, loss=2.56, v_num=1, train_loss_\u001b[A\n",
      "Validating: 0it [00:00, ?it/s]\u001b[A\n",
      "Epoch 27: 100%|█| 31/31 [00:01<00:00, 16.17it/s, loss=2.56, v_num=1, train_loss_\u001b[A\n",
      "Epoch 28:  97%|▉| 30/31 [00:01<00:00, 16.46it/s, loss=2.53, v_num=1, train_loss_\u001b[A\n",
      "Validating: 0it [00:00, ?it/s]\u001b[A\n",
      "Validating:   0%|                                         | 0/1 [00:00<?, ?it/s]\u001b[A\n",
      "Epoch 28: 100%|█| 31/31 [00:01<00:00, 16.03it/s, loss=2.53, v_num=1, train_loss_\u001b[A\n",
      "Epoch 29:  97%|▉| 30/31 [00:01<00:00, 16.31it/s, loss=2.65, v_num=1, train_loss_\u001b[A\n",
      "Validating: 0it [00:00, ?it/s]\u001b[A\n",
      "Epoch 29: 100%|█| 31/31 [00:01<00:00, 15.92it/s, loss=2.65, v_num=1, train_loss_\u001b[A\n",
      "Epoch 30:  97%|▉| 30/31 [00:01<00:00, 16.50it/s, loss=2.58, v_num=1, train_loss_\u001b[A\n",
      "Validating: 0it [00:00, ?it/s]\u001b[A\n",
      "Epoch 30: 100%|█| 31/31 [00:01<00:00, 16.11it/s, loss=2.58, v_num=1, train_loss_\u001b[A\n",
      "Epoch 31:  97%|▉| 30/31 [00:01<00:00, 16.61it/s, loss=2.58, v_num=1, train_loss_\u001b[A\n",
      "Validating: 0it [00:00, ?it/s]\u001b[A\n",
      "Validating:   0%|                                         | 0/1 [00:00<?, ?it/s]\u001b[A\n",
      "Epoch 31: 100%|█| 31/31 [00:01<00:00, 16.18it/s, loss=2.58, v_num=1, train_loss_\u001b[A\n",
      "Epoch 32:  97%|▉| 30/31 [00:02<00:00, 13.82it/s, loss=2.63, v_num=1, train_loss_\u001b[A\n",
      "Validating: 0it [00:00, ?it/s]\u001b[A\n",
      "Validating:   0%|                                         | 0/1 [00:00<?, ?it/s]\u001b[A\n",
      "Epoch 32: 100%|█| 31/31 [00:02<00:00, 13.59it/s, loss=2.63, v_num=1, train_loss_\u001b[A\n",
      "Epoch 32: 100%|█| 31/31 [00:02<00:00, 13.41it/s, loss=2.63, v_num=1, train_loss_\u001b[A\n"
     ]
    }
   ],
   "source": [
    "early_stop_callback = EarlyStopping(monitor=\"val_loss\", min_delta=1e-4, patience=10, verbose=False, mode=\"min\")\n",
    "trainer = pl.Trainer(\n",
    "    max_epochs=100,\n",
    "    gpus=0,\n",
    "    weights_summary=\"top\",\n",
    "    gradient_clip_val=0.01,\n",
    "    callbacks=[early_stop_callback],\n",
    "    limit_train_batches=30,\n",
    ")\n",
    "\n",
    "\n",
    "net = NBeats.from_dataset(\n",
    "    training,\n",
    "    learning_rate=4e-3,\n",
    "    log_interval=10,\n",
    "    log_val_interval=1,\n",
    "    weight_decay=1e-2,\n",
    "    widths=[32, 512],\n",
    "    backcast_loss_ratio=1.0,\n",
    ")\n",
    "\n",
    "trainer.fit(\n",
    "    net,\n",
    "    train_dataloader=train_dataloader,\n",
    "    val_dataloaders=val_dataloader,\n",
    ")"
   ]
  },
  {
   "cell_type": "markdown",
   "id": "828c0247",
   "metadata": {},
   "source": [
    "# Evaluate Results"
   ]
  },
  {
   "cell_type": "code",
   "execution_count": 129,
   "id": "f0304851",
   "metadata": {},
   "outputs": [],
   "source": [
    "best_model_path = trainer.checkpoint_callback.best_model_path\n",
    "best_model = NBeats.load_from_checkpoint(best_model_path)"
   ]
  },
  {
   "cell_type": "code",
   "execution_count": 130,
   "id": "7e8a7375",
   "metadata": {},
   "outputs": [
    {
     "data": {
      "text/plain": [
       "tensor(4.5043)"
      ]
     },
     "execution_count": 130,
     "metadata": {},
     "output_type": "execute_result"
    }
   ],
   "source": [
    "actuals = torch.cat([y[0] for x, y in iter(val_dataloader)])\n",
    "predictions = best_model.predict(val_dataloader)\n",
    "(actuals - predictions).abs().mean()"
   ]
  },
  {
   "cell_type": "code",
   "execution_count": 131,
   "id": "7bd5ea18",
   "metadata": {},
   "outputs": [],
   "source": [
    "raw_predictions, x = best_model.predict(val_dataloader, mode=\"raw\", return_x=True)"
   ]
  },
  {
   "cell_type": "code",
   "execution_count": 132,
   "id": "5af9377b",
   "metadata": {},
   "outputs": [
    {
     "data": {
      "image/png": "[encoded data removed]",
      "text/plain": [
       "<Figure size 432x288 with 1 Axes>"
      ]
     },
     "metadata": {
      "needs_background": "light"
     },
     "output_type": "display_data"
    },
    {
     "data": {
      "image/png": "[encoded data removed]",
      "text/plain": [
       "<Figure size 432x288 with 1 Axes>"
      ]
     },
     "metadata": {
      "needs_background": "light"
     },
     "output_type": "display_data"
    },
    {
     "data": {
      "image/png": "[encoded data removed]",
      "text/plain": [
       "<Figure size 432x288 with 1 Axes>"
      ]
     },
     "metadata": {
      "needs_background": "light"
     },
     "output_type": "display_data"
    },
    {
     "data": {
      "image/png": "[encoded data removed]",
      "text/plain": [
       "<Figure size 432x288 with 1 Axes>"
      ]
     },
     "metadata": {
      "needs_background": "light"
     },
     "output_type": "display_data"
    },
    {
     "data": {
      "image/png": "[encoded data removed]",
      "text/plain": [
       "<Figure size 432x288 with 1 Axes>"
      ]
     },
     "metadata": {
      "needs_background": "light"
     },
     "output_type": "display_data"
    },
    {
     "data": {
      "image/png": "[encoded data removed]",
      "text/plain": [
       "<Figure size 432x288 with 1 Axes>"
      ]
     },
     "metadata": {
      "needs_background": "light"
     },
     "output_type": "display_data"
    },
    {
     "data": {
      "image/png": "[encoded data removed]",
      "text/plain": [
       "<Figure size 432x288 with 1 Axes>"
      ]
     },
     "metadata": {
      "needs_background": "light"
     },
     "output_type": "display_data"
    },
    {
     "data": {
      "image/png": "[encoded data removed]",
      "text/plain": [
       "<Figure size 432x288 with 1 Axes>"
      ]
     },
     "metadata": {
      "needs_background": "light"
     },
     "output_type": "display_data"
    },
    {
     "data": {
      "image/png": "[encoded data removed]",
      "text/plain": [
       "<Figure size 432x288 with 1 Axes>"
      ]
     },
     "metadata": {
      "needs_background": "light"
     },
     "output_type": "display_data"
    },
    {
     "data": {
      "image/png": "[encoded data removed]",
      "text/plain": [
       "<Figure size 432x288 with 1 Axes>"
      ]
     },
     "metadata": {
      "needs_background": "light"
     },
     "output_type": "display_data"
    }
   ],
   "source": [
    "for idx in range(10):  # plot 10 examples\n",
    "    best_model.plot_prediction(x, raw_predictions, idx=idx, add_loss_to_title=True);"
   ]
  },
  {
   "cell_type": "code",
   "execution_count": null,
   "id": "02dd0830",
   "metadata": {},
   "outputs": [],
   "source": []
  },
  {
   "cell_type": "markdown",
   "id": "12b15192",
   "metadata": {},
   "source": [
    "# Default example data"
   ]
  },
  {
   "cell_type": "code",
   "execution_count": 103,
   "id": "d2668760",
   "metadata": {},
   "outputs": [
    {
     "data": {
      "text/html": [
       "<div>\n",
       "<style scoped>\n",
       "    .dataframe tbody tr th:only-of-type {\n",
       "        vertical-align: middle;\n",
       "    }\n",
       "\n",
       "    .dataframe tbody tr th {\n",
       "        vertical-align: top;\n",
       "    }\n",
       "\n",
       "    .dataframe thead th {\n",
       "        text-align: right;\n",
       "    }\n",
       "</style>\n",
       "<table border=\"1\" class=\"dataframe\">\n",
       "  <thead>\n",
       "    <tr style=\"text-align: right;\">\n",
       "      <th></th>\n",
       "      <th>series</th>\n",
       "      <th>time_idx</th>\n",
       "      <th>value</th>\n",
       "      <th>static</th>\n",
       "      <th>date</th>\n",
       "    </tr>\n",
       "  </thead>\n",
       "  <tbody>\n",
       "    <tr>\n",
       "      <th>0</th>\n",
       "      <td>0</td>\n",
       "      <td>0</td>\n",
       "      <td>-0.000000</td>\n",
       "      <td>2</td>\n",
       "      <td>2020-01-01</td>\n",
       "    </tr>\n",
       "    <tr>\n",
       "      <th>1</th>\n",
       "      <td>0</td>\n",
       "      <td>1</td>\n",
       "      <td>-0.046501</td>\n",
       "      <td>2</td>\n",
       "      <td>2020-01-02</td>\n",
       "    </tr>\n",
       "    <tr>\n",
       "      <th>2</th>\n",
       "      <td>0</td>\n",
       "      <td>2</td>\n",
       "      <td>-0.097796</td>\n",
       "      <td>2</td>\n",
       "      <td>2020-01-03</td>\n",
       "    </tr>\n",
       "    <tr>\n",
       "      <th>3</th>\n",
       "      <td>0</td>\n",
       "      <td>3</td>\n",
       "      <td>-0.144397</td>\n",
       "      <td>2</td>\n",
       "      <td>2020-01-04</td>\n",
       "    </tr>\n",
       "    <tr>\n",
       "      <th>4</th>\n",
       "      <td>0</td>\n",
       "      <td>4</td>\n",
       "      <td>-0.177954</td>\n",
       "      <td>2</td>\n",
       "      <td>2020-01-05</td>\n",
       "    </tr>\n",
       "  </tbody>\n",
       "</table>\n",
       "</div>"
      ],
      "text/plain": [
       "   series  time_idx     value  static       date\n",
       "0       0         0 -0.000000       2 2020-01-01\n",
       "1       0         1 -0.046501       2 2020-01-02\n",
       "2       0         2 -0.097796       2 2020-01-03\n",
       "3       0         3 -0.144397       2 2020-01-04\n",
       "4       0         4 -0.177954       2 2020-01-05"
      ]
     },
     "execution_count": 103,
     "metadata": {},
     "output_type": "execute_result"
    }
   ],
   "source": [
    "data = generate_ar_data(seasonality=10.0, timesteps=400, n_series=100, seed=42)\n",
    "data[\"static\"] = 2\n",
    "data[\"date\"] = pd.Timestamp(\"2020-01-01\") + pd.to_timedelta(data.time_idx, \"D\")\n",
    "data.head()"
   ]
  },
  {
   "cell_type": "code",
   "execution_count": 105,
   "id": "3ecf5a1d",
   "metadata": {},
   "outputs": [
    {
     "data": {
      "text/html": [
       "<div>\n",
       "<style scoped>\n",
       "    .dataframe tbody tr th:only-of-type {\n",
       "        vertical-align: middle;\n",
       "    }\n",
       "\n",
       "    .dataframe tbody tr th {\n",
       "        vertical-align: top;\n",
       "    }\n",
       "\n",
       "    .dataframe thead th {\n",
       "        text-align: right;\n",
       "    }\n",
       "</style>\n",
       "<table border=\"1\" class=\"dataframe\">\n",
       "  <thead>\n",
       "    <tr style=\"text-align: right;\">\n",
       "      <th></th>\n",
       "      <th>series</th>\n",
       "      <th>time_idx</th>\n",
       "      <th>value</th>\n",
       "      <th>static</th>\n",
       "      <th>date</th>\n",
       "    </tr>\n",
       "  </thead>\n",
       "  <tbody>\n",
       "    <tr>\n",
       "      <th>0</th>\n",
       "      <td>0</td>\n",
       "      <td>0</td>\n",
       "      <td>-0.000000</td>\n",
       "      <td>2</td>\n",
       "      <td>2020-01-01</td>\n",
       "    </tr>\n",
       "    <tr>\n",
       "      <th>1</th>\n",
       "      <td>0</td>\n",
       "      <td>1</td>\n",
       "      <td>-0.046501</td>\n",
       "      <td>2</td>\n",
       "      <td>2020-01-02</td>\n",
       "    </tr>\n",
       "    <tr>\n",
       "      <th>2</th>\n",
       "      <td>0</td>\n",
       "      <td>2</td>\n",
       "      <td>-0.097796</td>\n",
       "      <td>2</td>\n",
       "      <td>2020-01-03</td>\n",
       "    </tr>\n",
       "    <tr>\n",
       "      <th>3</th>\n",
       "      <td>0</td>\n",
       "      <td>3</td>\n",
       "      <td>-0.144397</td>\n",
       "      <td>2</td>\n",
       "      <td>2020-01-04</td>\n",
       "    </tr>\n",
       "    <tr>\n",
       "      <th>4</th>\n",
       "      <td>0</td>\n",
       "      <td>4</td>\n",
       "      <td>-0.177954</td>\n",
       "      <td>2</td>\n",
       "      <td>2020-01-05</td>\n",
       "    </tr>\n",
       "    <tr>\n",
       "      <th>...</th>\n",
       "      <td>...</td>\n",
       "      <td>...</td>\n",
       "      <td>...</td>\n",
       "      <td>...</td>\n",
       "      <td>...</td>\n",
       "    </tr>\n",
       "    <tr>\n",
       "      <th>39995</th>\n",
       "      <td>99</td>\n",
       "      <td>395</td>\n",
       "      <td>-5.587069</td>\n",
       "      <td>2</td>\n",
       "      <td>2021-01-30</td>\n",
       "    </tr>\n",
       "    <tr>\n",
       "      <th>39996</th>\n",
       "      <td>99</td>\n",
       "      <td>396</td>\n",
       "      <td>-4.986342</td>\n",
       "      <td>2</td>\n",
       "      <td>2021-01-31</td>\n",
       "    </tr>\n",
       "    <tr>\n",
       "      <th>39997</th>\n",
       "      <td>99</td>\n",
       "      <td>397</td>\n",
       "      <td>-5.630228</td>\n",
       "      <td>2</td>\n",
       "      <td>2021-02-01</td>\n",
       "    </tr>\n",
       "    <tr>\n",
       "      <th>39998</th>\n",
       "      <td>99</td>\n",
       "      <td>398</td>\n",
       "      <td>-5.745145</td>\n",
       "      <td>2</td>\n",
       "      <td>2021-02-02</td>\n",
       "    </tr>\n",
       "    <tr>\n",
       "      <th>39999</th>\n",
       "      <td>99</td>\n",
       "      <td>399</td>\n",
       "      <td>-4.690036</td>\n",
       "      <td>2</td>\n",
       "      <td>2021-02-03</td>\n",
       "    </tr>\n",
       "  </tbody>\n",
       "</table>\n",
       "<p>40000 rows × 5 columns</p>\n",
       "</div>"
      ],
      "text/plain": [
       "       series  time_idx     value  static       date\n",
       "0           0         0 -0.000000       2 2020-01-01\n",
       "1           0         1 -0.046501       2 2020-01-02\n",
       "2           0         2 -0.097796       2 2020-01-03\n",
       "3           0         3 -0.144397       2 2020-01-04\n",
       "4           0         4 -0.177954       2 2020-01-05\n",
       "...       ...       ...       ...     ...        ...\n",
       "39995      99       395 -5.587069       2 2021-01-30\n",
       "39996      99       396 -4.986342       2 2021-01-31\n",
       "39997      99       397 -5.630228       2 2021-02-01\n",
       "39998      99       398 -5.745145       2 2021-02-02\n",
       "39999      99       399 -4.690036       2 2021-02-03\n",
       "\n",
       "[40000 rows x 5 columns]"
      ]
     },
     "execution_count": 105,
     "metadata": {},
     "output_type": "execute_result"
    }
   ],
   "source": [
    "data"
   ]
  },
  {
   "cell_type": "code",
   "execution_count": 104,
   "id": "348fc5da",
   "metadata": {},
   "outputs": [
    {
     "data": {
      "text/plain": [
       "array([ 0,  1,  2,  3,  4,  5,  6,  7,  8,  9, 10, 11, 12, 13, 14, 15, 16,\n",
       "       17, 18, 19, 20, 21, 22, 23, 24, 25, 26, 27, 28, 29, 30, 31, 32, 33,\n",
       "       34, 35, 36, 37, 38, 39, 40, 41, 42, 43, 44, 45, 46, 47, 48, 49, 50,\n",
       "       51, 52, 53, 54, 55, 56, 57, 58, 59, 60, 61, 62, 63, 64, 65, 66, 67,\n",
       "       68, 69, 70, 71, 72, 73, 74, 75, 76, 77, 78, 79, 80, 81, 82, 83, 84,\n",
       "       85, 86, 87, 88, 89, 90, 91, 92, 93, 94, 95, 96, 97, 98, 99])"
      ]
     },
     "execution_count": 104,
     "metadata": {},
     "output_type": "execute_result"
    }
   ],
   "source": [
    "data.series.unique()"
   ]
  },
  {
   "cell_type": "code",
   "execution_count": null,
   "id": "2d8cd985",
   "metadata": {},
   "outputs": [],
   "source": []
  },
  {
   "cell_type": "code",
   "execution_count": null,
   "id": "f0c751b4",
   "metadata": {},
   "outputs": [],
   "source": []
  },
  {
   "cell_type": "code",
   "execution_count": null,
   "id": "355846f6",
   "metadata": {},
   "outputs": [],
   "source": []
  },
  {
   "cell_type": "code",
   "execution_count": null,
   "id": "063e05a1",
   "metadata": {},
   "outputs": [],
   "source": []
  },
  {
   "cell_type": "code",
   "execution_count": null,
   "id": "6c0336fe",
   "metadata": {},
   "outputs": [],
   "source": []
  },
  {
   "cell_type": "code",
   "execution_count": null,
   "id": "5f939ff1",
   "metadata": {},
   "outputs": [],
   "source": []
  }
 ],
 "metadata": {
  "kernelspec": {
   "display_name": "Python 3 (ipykernel)",
   "language": "python",
   "name": "python3"
  },
  "language_info": {
   "codemirror_mode": {
    "name": "ipython",
    "version": 3
   },
   "file_extension": ".py",
   "mimetype": "text/x-python",
   "name": "python",
   "nbconvert_exporter": "python",
   "pygments_lexer": "ipython3",
   "version": "3.9.7"
  }
 },
 "nbformat": 4,
 "nbformat_minor": 5
}
