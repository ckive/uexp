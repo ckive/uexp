{
 "cells": [
  {
   "cell_type": "code",
   "execution_count": 1,
   "metadata": {},
   "outputs": [
    {
     "name": "stderr",
     "output_type": "stream",
     "text": [
      "Exception in thread Thread-8:\n",
      "Traceback (most recent call last):\n",
      "  File \"/Users/dan/miniforge3/lib/python3.9/threading.py\", line 973, in _bootstrap_inner\n",
      "    self.run()\n",
      "  File \"/Users/dan/miniforge3/lib/python3.9/threading.py\", line 910, in run\n",
      "    self._target(*self._args, **self._kwargs)\n",
      "  File \"/Users/dan/miniforge3/lib/python3.9/site-packages/multitasking/__init__.py\", line 104, in _run_via_pool\n",
      "    return callee(*args, **kwargs)\n",
      "  File \"/Users/dan/miniforge3/lib/python3.9/site-packages/yfinance/multi.py\", line 188, in _download_one_threaded\n",
      "    data = _download_one(ticker, start, end, auto_adjust, back_adjust,\n",
      "  File \"/Users/dan/miniforge3/lib/python3.9/site-packages/yfinance/multi.py\", line 202, in _download_one\n",
      "    return Ticker(ticker).history(period=period, interval=interval,\n",
      "  File \"/Users/dan/miniforge3/lib/python3.9/site-packages/yfinance/base.py\", line 295, in history\n",
      "    df.index = df.index.tz_localize(\"UTC\").tz_convert(\n",
      "AttributeError: 'Index' object has no attribute 'tz_localize'\n"
     ]
    },
    {
     "ename": "KeyboardInterrupt",
     "evalue": "",
     "output_type": "error",
     "traceback": [
      "\u001b[0;31m---------------------------------------------------------------------------\u001b[0m",
      "\u001b[0;31mKeyboardInterrupt\u001b[0m                         Traceback (most recent call last)",
      "\u001b[0;32m/var/folders/nw/q8c9lcfd38qg_8hw2py9hw840000gn/T/ipykernel_80953/303164782.py\u001b[0m in \u001b[0;36m<module>\u001b[0;34m\u001b[0m\n\u001b[1;32m      5\u001b[0m \u001b[0mdata\u001b[0m \u001b[0;34m=\u001b[0m \u001b[0mpd\u001b[0m\u001b[0;34m.\u001b[0m\u001b[0mDataFrame\u001b[0m\u001b[0;34m(\u001b[0m\u001b[0;34m)\u001b[0m\u001b[0;34m\u001b[0m\u001b[0;34m\u001b[0m\u001b[0m\n\u001b[1;32m      6\u001b[0m \u001b[0;32mfor\u001b[0m \u001b[0mticker\u001b[0m \u001b[0;32min\u001b[0m \u001b[0mstock_df\u001b[0m\u001b[0;34m.\u001b[0m\u001b[0mSymbols\u001b[0m\u001b[0;34m[\u001b[0m\u001b[0;34m:\u001b[0m\u001b[0;36m20\u001b[0m\u001b[0;34m]\u001b[0m\u001b[0;34m:\u001b[0m\u001b[0;34m\u001b[0m\u001b[0;34m\u001b[0m\u001b[0m\n\u001b[0;32m----> 7\u001b[0;31m     \u001b[0mdata\u001b[0m\u001b[0;34m[\u001b[0m\u001b[0mticker\u001b[0m\u001b[0;34m]\u001b[0m \u001b[0;34m=\u001b[0m \u001b[0myf\u001b[0m\u001b[0;34m.\u001b[0m\u001b[0mdownload\u001b[0m\u001b[0;34m(\u001b[0m\u001b[0mticker\u001b[0m\u001b[0;34m,\u001b[0m\u001b[0;34m'2018-1-1'\u001b[0m\u001b[0;34m,\u001b[0m\u001b[0;34m'2019-12-31'\u001b[0m\u001b[0;34m)\u001b[0m\u001b[0;34m[\u001b[0m\u001b[0;34m'Adj Close'\u001b[0m\u001b[0;34m]\u001b[0m\u001b[0;34m\u001b[0m\u001b[0;34m\u001b[0m\u001b[0m\n\u001b[0m\u001b[1;32m      8\u001b[0m \u001b[0mdata\u001b[0m\u001b[0;34m.\u001b[0m\u001b[0mhead\u001b[0m\u001b[0;34m(\u001b[0m\u001b[0;34m)\u001b[0m\u001b[0;34m\u001b[0m\u001b[0;34m\u001b[0m\u001b[0m\n\u001b[1;32m      9\u001b[0m \u001b[0mdata\u001b[0m\u001b[0;34m.\u001b[0m\u001b[0mto_csv\u001b[0m\u001b[0;34m(\u001b[0m\u001b[0;34m'pca.csv'\u001b[0m\u001b[0;34m)\u001b[0m\u001b[0;34m\u001b[0m\u001b[0;34m\u001b[0m\u001b[0m\n",
      "\u001b[0;32m~/miniforge3/lib/python3.9/site-packages/yfinance/multi.py\u001b[0m in \u001b[0;36mdownload\u001b[0;34m(tickers, start, end, actions, threads, group_by, auto_adjust, back_adjust, progress, period, show_errors, interval, prepost, proxy, rounding, timeout, **kwargs)\u001b[0m\n\u001b[1;32m    110\u001b[0m                                    rounding=rounding, timeout=timeout)\n\u001b[1;32m    111\u001b[0m         \u001b[0;32mwhile\u001b[0m \u001b[0mlen\u001b[0m\u001b[0;34m(\u001b[0m\u001b[0mshared\u001b[0m\u001b[0;34m.\u001b[0m\u001b[0m_DFS\u001b[0m\u001b[0;34m)\u001b[0m \u001b[0;34m<\u001b[0m \u001b[0mlen\u001b[0m\u001b[0;34m(\u001b[0m\u001b[0mtickers\u001b[0m\u001b[0;34m)\u001b[0m\u001b[0;34m:\u001b[0m\u001b[0;34m\u001b[0m\u001b[0;34m\u001b[0m\u001b[0m\n\u001b[0;32m--> 112\u001b[0;31m             \u001b[0m_time\u001b[0m\u001b[0;34m.\u001b[0m\u001b[0msleep\u001b[0m\u001b[0;34m(\u001b[0m\u001b[0;36m0.01\u001b[0m\u001b[0;34m)\u001b[0m\u001b[0;34m\u001b[0m\u001b[0;34m\u001b[0m\u001b[0m\n\u001b[0m\u001b[1;32m    113\u001b[0m \u001b[0;34m\u001b[0m\u001b[0m\n\u001b[1;32m    114\u001b[0m     \u001b[0;31m# download synchronously\u001b[0m\u001b[0;34m\u001b[0m\u001b[0;34m\u001b[0m\u001b[0m\n",
      "\u001b[0;31mKeyboardInterrupt\u001b[0m: "
     ]
    }
   ],
   "source": [
    "import yfinance as yf\n",
    "import pandas as pd\n",
    "stock_df = pd.read_csv('stock_list.csv')\n",
    "stock_df.head()\n",
    "data = pd.DataFrame()\n",
    "for ticker in stock_df.Symbols[:20]:\n",
    "    data[ticker] = yf.download(ticker,'2018-1-1','2019-12-31')['Adj Close']\n",
    "data.head()\n",
    "data.to_csv('pca.csv')"
   ]
  },
  {
   "cell_type": "code",
   "execution_count": null,
   "metadata": {},
   "outputs": [],
   "source": [
    "import pandas as pd\n",
    "df = pd.read_csv(\"pca.csv\",index_col=0)\n",
    "df.head()"
   ]
  },
  {
   "cell_type": "code",
   "execution_count": 26,
   "metadata": {},
   "outputs": [
    {
     "data": {
      "text/html": [
       "<div>\n",
       "<style scoped>\n",
       "    .dataframe tbody tr th:only-of-type {\n",
       "        vertical-align: middle;\n",
       "    }\n",
       "\n",
       "    .dataframe tbody tr th {\n",
       "        vertical-align: top;\n",
       "    }\n",
       "\n",
       "    .dataframe thead th {\n",
       "        text-align: right;\n",
       "    }\n",
       "</style>\n",
       "<table border=\"1\" class=\"dataframe\">\n",
       "  <thead>\n",
       "    <tr style=\"text-align: right;\">\n",
       "      <th></th>\n",
       "      <th>GOOG</th>\n",
       "      <th>GOOGL</th>\n",
       "      <th>AMZN</th>\n",
       "      <th>MA</th>\n",
       "      <th>BA</th>\n",
       "      <th>C</th>\n",
       "      <th>ABT</th>\n",
       "      <th>CRM</th>\n",
       "      <th>COST</th>\n",
       "      <th>ACN</th>\n",
       "      <th>AVGO</th>\n",
       "      <th>MMM</th>\n",
       "      <th>CVS</th>\n",
       "      <th>FIS</th>\n",
       "      <th>SYK</th>\n",
       "      <th>MDLZ</th>\n",
       "      <th>CI</th>\n",
       "      <th>CME</th>\n",
       "      <th>ISRG</th>\n",
       "      <th>COP</th>\n",
       "    </tr>\n",
       "    <tr>\n",
       "      <th>Date</th>\n",
       "      <th></th>\n",
       "      <th></th>\n",
       "      <th></th>\n",
       "      <th></th>\n",
       "      <th></th>\n",
       "      <th></th>\n",
       "      <th></th>\n",
       "      <th></th>\n",
       "      <th></th>\n",
       "      <th></th>\n",
       "      <th></th>\n",
       "      <th></th>\n",
       "      <th></th>\n",
       "      <th></th>\n",
       "      <th></th>\n",
       "      <th></th>\n",
       "      <th></th>\n",
       "      <th></th>\n",
       "      <th></th>\n",
       "      <th></th>\n",
       "    </tr>\n",
       "  </thead>\n",
       "  <tbody>\n",
       "    <tr>\n",
       "      <th>2018-01-03</th>\n",
       "      <td>0.016413</td>\n",
       "      <td>0.017061</td>\n",
       "      <td>0.012775</td>\n",
       "      <td>0.012579</td>\n",
       "      <td>0.003233</td>\n",
       "      <td>0.003110</td>\n",
       "      <td>0.002289</td>\n",
       "      <td>0.008428</td>\n",
       "      <td>0.012029</td>\n",
       "      <td>0.004624</td>\n",
       "      <td>0.010920</td>\n",
       "      <td>-0.000045</td>\n",
       "      <td>-0.004341</td>\n",
       "      <td>0.005900</td>\n",
       "      <td>0.005633</td>\n",
       "      <td>0.003941</td>\n",
       "      <td>0.016793</td>\n",
       "      <td>0.016022</td>\n",
       "      <td>0.022838</td>\n",
       "      <td>0.018435</td>\n",
       "    </tr>\n",
       "    <tr>\n",
       "      <th>2018-01-04</th>\n",
       "      <td>0.003621</td>\n",
       "      <td>0.003884</td>\n",
       "      <td>0.004476</td>\n",
       "      <td>0.012949</td>\n",
       "      <td>-0.003783</td>\n",
       "      <td>0.012260</td>\n",
       "      <td>-0.001757</td>\n",
       "      <td>0.013202</td>\n",
       "      <td>-0.007764</td>\n",
       "      <td>0.011806</td>\n",
       "      <td>0.000357</td>\n",
       "      <td>0.013060</td>\n",
       "      <td>0.026304</td>\n",
       "      <td>0.007386</td>\n",
       "      <td>-0.000322</td>\n",
       "      <td>0.002453</td>\n",
       "      <td>0.005246</td>\n",
       "      <td>0.010680</td>\n",
       "      <td>-0.017977</td>\n",
       "      <td>0.011452</td>\n",
       "    </tr>\n",
       "    <tr>\n",
       "      <th>2018-01-05</th>\n",
       "      <td>0.014571</td>\n",
       "      <td>0.013260</td>\n",
       "      <td>0.016163</td>\n",
       "      <td>0.020764</td>\n",
       "      <td>0.040997</td>\n",
       "      <td>-0.001253</td>\n",
       "      <td>0.002816</td>\n",
       "      <td>0.013311</td>\n",
       "      <td>-0.007177</td>\n",
       "      <td>0.008306</td>\n",
       "      <td>0.005915</td>\n",
       "      <td>0.007779</td>\n",
       "      <td>0.044180</td>\n",
       "      <td>0.005715</td>\n",
       "      <td>0.014621</td>\n",
       "      <td>0.012726</td>\n",
       "      <td>0.016961</td>\n",
       "      <td>0.006525</td>\n",
       "      <td>0.005545</td>\n",
       "      <td>-0.001826</td>\n",
       "    </tr>\n",
       "    <tr>\n",
       "      <th>2018-01-08</th>\n",
       "      <td>0.004273</td>\n",
       "      <td>0.003531</td>\n",
       "      <td>0.014425</td>\n",
       "      <td>0.002988</td>\n",
       "      <td>0.004256</td>\n",
       "      <td>-0.011709</td>\n",
       "      <td>-0.002808</td>\n",
       "      <td>0.007031</td>\n",
       "      <td>0.003913</td>\n",
       "      <td>0.007976</td>\n",
       "      <td>0.002368</td>\n",
       "      <td>-0.003220</td>\n",
       "      <td>-0.008679</td>\n",
       "      <td>0.002466</td>\n",
       "      <td>0.013648</td>\n",
       "      <td>-0.005075</td>\n",
       "      <td>-0.011072</td>\n",
       "      <td>0.013881</td>\n",
       "      <td>0.033904</td>\n",
       "      <td>0.010062</td>\n",
       "    </tr>\n",
       "    <tr>\n",
       "      <th>2018-01-09</th>\n",
       "      <td>-0.000614</td>\n",
       "      <td>-0.001274</td>\n",
       "      <td>0.004676</td>\n",
       "      <td>0.001458</td>\n",
       "      <td>0.026704</td>\n",
       "      <td>0.010437</td>\n",
       "      <td>0.001760</td>\n",
       "      <td>0.002664</td>\n",
       "      <td>-0.011640</td>\n",
       "      <td>0.003308</td>\n",
       "      <td>-0.013820</td>\n",
       "      <td>0.006195</td>\n",
       "      <td>-0.000958</td>\n",
       "      <td>0.003316</td>\n",
       "      <td>-0.015155</td>\n",
       "      <td>-0.000486</td>\n",
       "      <td>-0.001682</td>\n",
       "      <td>0.005977</td>\n",
       "      <td>0.014648</td>\n",
       "      <td>0.008151</td>\n",
       "    </tr>\n",
       "  </tbody>\n",
       "</table>\n",
       "</div>"
      ],
      "text/plain": [
       "                GOOG     GOOGL      AMZN        MA        BA         C  \\\n",
       "Date                                                                     \n",
       "2018-01-03  0.016413  0.017061  0.012775  0.012579  0.003233  0.003110   \n",
       "2018-01-04  0.003621  0.003884  0.004476  0.012949 -0.003783  0.012260   \n",
       "2018-01-05  0.014571  0.013260  0.016163  0.020764  0.040997 -0.001253   \n",
       "2018-01-08  0.004273  0.003531  0.014425  0.002988  0.004256 -0.011709   \n",
       "2018-01-09 -0.000614 -0.001274  0.004676  0.001458  0.026704  0.010437   \n",
       "\n",
       "                 ABT       CRM      COST       ACN      AVGO       MMM  \\\n",
       "Date                                                                     \n",
       "2018-01-03  0.002289  0.008428  0.012029  0.004624  0.010920 -0.000045   \n",
       "2018-01-04 -0.001757  0.013202 -0.007764  0.011806  0.000357  0.013060   \n",
       "2018-01-05  0.002816  0.013311 -0.007177  0.008306  0.005915  0.007779   \n",
       "2018-01-08 -0.002808  0.007031  0.003913  0.007976  0.002368 -0.003220   \n",
       "2018-01-09  0.001760  0.002664 -0.011640  0.003308 -0.013820  0.006195   \n",
       "\n",
       "                 CVS       FIS       SYK      MDLZ        CI       CME  \\\n",
       "Date                                                                     \n",
       "2018-01-03 -0.004341  0.005900  0.005633  0.003941  0.016793  0.016022   \n",
       "2018-01-04  0.026304  0.007386 -0.000322  0.002453  0.005246  0.010680   \n",
       "2018-01-05  0.044180  0.005715  0.014621  0.012726  0.016961  0.006525   \n",
       "2018-01-08 -0.008679  0.002466  0.013648 -0.005075 -0.011072  0.013881   \n",
       "2018-01-09 -0.000958  0.003316 -0.015155 -0.000486 -0.001682  0.005977   \n",
       "\n",
       "                ISRG       COP  \n",
       "Date                            \n",
       "2018-01-03  0.022838  0.018435  \n",
       "2018-01-04 -0.017977  0.011452  \n",
       "2018-01-05  0.005545 -0.001826  \n",
       "2018-01-08  0.033904  0.010062  \n",
       "2018-01-09  0.014648  0.008151  "
      ]
     },
     "execution_count": 26,
     "metadata": {},
     "output_type": "execute_result"
    }
   ],
   "source": [
    "data_daily_returns = df.pct_change()\n",
    "data_daily_returns.dropna(inplace=True)\n",
    "data_daily_returns.head()"
   ]
  },
  {
   "cell_type": "code",
   "execution_count": 27,
   "metadata": {},
   "outputs": [
    {
     "data": {
      "text/plain": [
       "(501, 20)"
      ]
     },
     "execution_count": 27,
     "metadata": {},
     "output_type": "execute_result"
    }
   ],
   "source": [
    "data_daily_returns.shape"
   ]
  },
  {
   "cell_type": "code",
   "execution_count": 32,
   "metadata": {},
   "outputs": [
    {
     "data": {
      "text/plain": [
       "PCA(copy=True, iterated_power='auto', n_components=18, random_state=None,\n",
       "    svd_solver='auto', tol=0.0, whiten=False)"
      ]
     },
     "execution_count": 32,
     "metadata": {},
     "output_type": "execute_result"
    }
   ],
   "source": [
    "from sklearn.decomposition import PCA\n",
    "N_PRIN_COMPONENTS = 18\n",
    "pca = PCA(n_components=N_PRIN_COMPONENTS)\n",
    "pca.fit(data_daily_returns)"
   ]
  },
  {
   "cell_type": "code",
   "execution_count": 33,
   "metadata": {},
   "outputs": [
    {
     "data": {
      "text/plain": [
       "(20, 18)"
      ]
     },
     "execution_count": 33,
     "metadata": {},
     "output_type": "execute_result"
    }
   ],
   "source": [
    "X = pca.components_.T\n",
    "X.shape"
   ]
  },
  {
   "cell_type": "code",
   "execution_count": 34,
   "metadata": {},
   "outputs": [
    {
     "name": "stdout",
     "output_type": "stream",
     "text": [
      "(20, 18)\n"
     ]
    }
   ],
   "source": [
    "from sklearn.cluster import KMeans, DBSCAN\n",
    "from sklearn.decomposition import PCA\n",
    "from sklearn.manifold import TSNE\n",
    "from sklearn import preprocessing\n",
    "\n",
    "from statsmodels.tsa.stattools import coint\n",
    "X = preprocessing.StandardScaler().fit_transform(X)\n",
    "print(X.shape)"
   ]
  },
  {
   "cell_type": "code",
   "execution_count": 54,
   "metadata": {},
   "outputs": [
    {
     "name": "stdout",
     "output_type": "stream",
     "text": [
      "KMeans(algorithm='auto', copy_x=True, init='k-means++', max_iter=30,\n",
      "       n_clusters=4, n_init=10, n_jobs=None, precompute_distances='auto',\n",
      "       random_state=7, tol=0.0001, verbose=0)\n",
      "\n",
      "Clusters discovered: 4\n"
     ]
    }
   ],
   "source": [
    "clf = KMeans(n_clusters=4, init='k-means++', max_iter=30, n_init=10, random_state=7)\n",
    "print(clf)\n",
    "\n",
    "clf.fit(X)\n",
    "labels = clf.labels_\n",
    "n_clusters_ = len(set(labels)) - (1 if -1 in labels else 0)\n",
    "print(\"\\nClusters discovered: %d\" % n_clusters_)\n",
    "\n",
    "clustered = clf.labels_"
   ]
  },
  {
   "cell_type": "code",
   "execution_count": 55,
   "metadata": {},
   "outputs": [],
   "source": [
    "clustered_series = pd.Series(index=data_daily_returns.columns, data=clustered.flatten())\n",
    "clustered_series_all = pd.Series(index=data_daily_returns.columns, data=clustered.flatten())\n",
    "clustered_series = clustered_series[clustered_series != -1]"
   ]
  },
  {
   "cell_type": "code",
   "execution_count": 56,
   "metadata": {},
   "outputs": [],
   "source": [
    "X_tsne = TSNE(learning_rate=1000, perplexity=25, random_state=1337).fit_transform(X)"
   ]
  },
  {
   "cell_type": "code",
   "execution_count": 57,
   "metadata": {},
   "outputs": [
    {
     "data": {
      "image/png": "[encoded data removed]",
      "text/plain": [
       "<Figure size 432x288 with 1 Axes>"
      ]
     },
     "metadata": {},
     "output_type": "display_data"
    }
   ],
   "source": [
    "import matplotlib.pyplot as plt\n",
    "plt.figure(1, facecolor='white')\n",
    "plt.clf()\n",
    "plt.axis('off')\n",
    "\n",
    "plt.scatter(\n",
    "    X_tsne[(labels!=-1), 0],\n",
    "    X_tsne[(labels!=-1), 1],\n",
    "    s=100,\n",
    "    alpha=0.85,\n",
    "    c=labels[labels!=-1]\n",
    ")\n",
    "\n",
    "plt.scatter(\n",
    "    X_tsne[(clustered_series_all==-1).values, 0],\n",
    "    X_tsne[(clustered_series_all==-1).values, 1],\n",
    "    s=100,\n",
    "    alpha=0.05\n",
    ")\n",
    "\n",
    "plt.title('T-SNE of all Stocks with KMeans Clusters Noted');"
   ]
  },
  {
   "cell_type": "code",
   "execution_count": null,
   "metadata": {},
   "outputs": [],
   "source": []
  }
 ],
 "metadata": {
  "kernelspec": {
   "display_name": "Python 3 (ipykernel)",
   "language": "python",
   "name": "python3"
  },
  "language_info": {
   "codemirror_mode": {
    "name": "ipython",
    "version": 3
   },
   "file_extension": ".py",
   "mimetype": "text/x-python",
   "name": "python",
   "nbconvert_exporter": "python",
   "pygments_lexer": "ipython3",
   "version": "3.9.7"
  },
  "toc": {
   "base_numbering": 1,
   "nav_menu": {},
   "number_sections": true,
   "sideBar": true,
   "skip_h1_title": false,
   "title_cell": "Table of Contents",
   "title_sidebar": "Contents",
   "toc_cell": false,
   "toc_position": {},
   "toc_section_display": true,
   "toc_window_display": false
  },
  "varInspector": {
   "cols": {
    "lenName": 16,
    "lenType": 16,
    "lenVar": 40
   },
   "kernels_config": {
    "python": {
     "delete_cmd_postfix": "",
     "delete_cmd_prefix": "del ",
     "library": "var_list.py",
     "varRefreshCmd": "print(var_dic_list())"
    },
    "r": {
     "delete_cmd_postfix": ") ",
     "delete_cmd_prefix": "rm(",
     "library": "var_list.r",
     "varRefreshCmd": "cat(var_dic_list()) "
    }
   },
   "types_to_exclude": [
    "module",
    "function",
    "builtin_function_or_method",
    "instance",
    "_Feature"
   ],
   "window_display": false
  }
 },
 "nbformat": 4,
 "nbformat_minor": 2
}
