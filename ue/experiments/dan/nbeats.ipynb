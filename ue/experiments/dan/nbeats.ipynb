{
 "cells": [
  {
   "cell_type": "code",
   "execution_count": 8,
   "id": "538cb9e1",
   "metadata": {},
   "outputs": [],
   "source": [
    "import os\n",
    "import gc\n",
    "import traceback\n",
    "import numpy as np\n",
    "import pandas as pd\n",
    "import seaborn as sns\n",
    "#import gresearch_crypto\n",
    "import tensorflow as tf\n",
    "from tensorflow import keras\n",
    "import matplotlib.pyplot as plt\n",
    "import pandas as pd, numpy as np\n",
    "from scipy.stats import pearsonr\n",
    "from tensorflow.keras import layers\n",
    "from sklearn.metrics import r2_score\n",
    "import tensorflow_probability as tfp\n",
    "import tensorflow.keras.backend as K\n",
    "from sklearn.model_selection import KFold\n",
    "from sklearn.metrics import mean_squared_error\n",
    "from sklearn.preprocessing import RobustScaler\n",
    "from tensorflow.keras.preprocessing.sequence import TimeseriesGenerator\n",
    "pd.set_option('display.max_columns', None)\n",
    "\n",
    "import warnings\n",
    "warnings.filterwarnings('ignore')"
   ]
  },
  {
   "cell_type": "code",
   "execution_count": 9,
   "id": "58a35f64",
   "metadata": {},
   "outputs": [
    {
     "name": "stdout",
     "output_type": "stream",
     "text": [
      "Num GPUs Available:  1\n"
     ]
    }
   ],
   "source": [
    "DEVICE = \"GPU\"\n",
    "if DEVICE == \"GPU\": print(\"Num GPUs Available: \", len(tf.config.experimental.list_physical_devices('GPU')))"
   ]
  },
  {
   "cell_type": "markdown",
   "id": "f24536c6",
   "metadata": {},
   "source": [
    "## Get data, preprocess data"
   ]
  },
  {
   "cell_type": "code",
   "execution_count": 10,
   "id": "9ea8090a",
   "metadata": {},
   "outputs": [],
   "source": [
    "from ue.uexp.dataprocessing.processor_binance import BinanceProcessor"
   ]
  },
  {
   "cell_type": "code",
   "execution_count": 13,
   "id": "253bf4c6",
   "metadata": {},
   "outputs": [],
   "source": [
    "### get data (set config params)\n",
    "ticker_list = [\"BTCUSDT\"]\n",
    "start_date = \"2021-12-30\"\n",
    "end_date = \"2021-12-31\"\n",
    "time_interval = \"1m\"\n",
    "\n",
    "p = BinanceProcessor(\"binance\")\n",
    "df = p.download_data(ticker_list, start_date, end_date, time_interval)"
   ]
  },
  {
   "cell_type": "code",
   "execution_count": 14,
   "id": "30640e5f",
   "metadata": {},
   "outputs": [],
   "source": [
    "# TRAINING PARAMETERS\n",
    "EPOCHS = 4\n",
    "DEBUG = True\n",
    "N_ASSETS = 14\n",
    "WINDOW_SIZE = 15\n",
    "BATCH_SIZE = 1024\n",
    "PCT_VALIDATION = 10 # last 10% of the data are used as validation set"
   ]
  },
  {
   "cell_type": "code",
   "execution_count": 23,
   "id": "f5af4321",
   "metadata": {},
   "outputs": [
    {
     "data": {
      "text/html": [
       "<div>\n",
       "<style scoped>\n",
       "    .dataframe tbody tr th:only-of-type {\n",
       "        vertical-align: middle;\n",
       "    }\n",
       "\n",
       "    .dataframe tbody tr th {\n",
       "        vertical-align: top;\n",
       "    }\n",
       "\n",
       "    .dataframe thead th {\n",
       "        text-align: right;\n",
       "    }\n",
       "</style>\n",
       "<table border=\"1\" class=\"dataframe\">\n",
       "  <thead>\n",
       "    <tr style=\"text-align: right;\">\n",
       "      <th></th>\n",
       "      <th>timestamp</th>\n",
       "      <th>Open</th>\n",
       "      <th>High</th>\n",
       "      <th>Low</th>\n",
       "      <th>Close</th>\n",
       "      <th>Volume</th>\n",
       "    </tr>\n",
       "  </thead>\n",
       "  <tbody>\n",
       "    <tr>\n",
       "      <th>0</th>\n",
       "      <td>2021-12-30 00:00:00</td>\n",
       "      <td>46761.93</td>\n",
       "      <td>46775.34</td>\n",
       "      <td>46747.15</td>\n",
       "      <td>46768.36</td>\n",
       "      <td>18.86475</td>\n",
       "    </tr>\n",
       "    <tr>\n",
       "      <th>1</th>\n",
       "      <td>2021-12-30 00:01:00</td>\n",
       "      <td>46768.35</td>\n",
       "      <td>46768.36</td>\n",
       "      <td>46746.09</td>\n",
       "      <td>46756.41</td>\n",
       "      <td>17.64987</td>\n",
       "    </tr>\n",
       "    <tr>\n",
       "      <th>2</th>\n",
       "      <td>2021-12-30 00:02:00</td>\n",
       "      <td>46756.41</td>\n",
       "      <td>46765.87</td>\n",
       "      <td>46742.36</td>\n",
       "      <td>46752.86</td>\n",
       "      <td>7.44316</td>\n",
       "    </tr>\n",
       "    <tr>\n",
       "      <th>3</th>\n",
       "      <td>2021-12-30 00:03:00</td>\n",
       "      <td>46752.86</td>\n",
       "      <td>46768.35</td>\n",
       "      <td>46741.94</td>\n",
       "      <td>46762.44</td>\n",
       "      <td>14.16629</td>\n",
       "    </tr>\n",
       "    <tr>\n",
       "      <th>4</th>\n",
       "      <td>2021-12-30 00:04:00</td>\n",
       "      <td>46762.43</td>\n",
       "      <td>46776.73</td>\n",
       "      <td>46756.16</td>\n",
       "      <td>46776.73</td>\n",
       "      <td>12.20940</td>\n",
       "    </tr>\n",
       "  </tbody>\n",
       "</table>\n",
       "</div>"
      ],
      "text/plain": [
       "             timestamp      Open      High       Low     Close    Volume\n",
       "0  2021-12-30 00:00:00  46761.93  46775.34  46747.15  46768.36  18.86475\n",
       "1  2021-12-30 00:01:00  46768.35  46768.36  46746.09  46756.41  17.64987\n",
       "2  2021-12-30 00:02:00  46756.41  46765.87  46742.36  46752.86   7.44316\n",
       "3  2021-12-30 00:03:00  46752.86  46768.35  46741.94  46762.44  14.16629\n",
       "4  2021-12-30 00:04:00  46762.43  46776.73  46756.16  46776.73  12.20940"
      ]
     },
     "execution_count": 23,
     "metadata": {},
     "output_type": "execute_result"
    }
   ],
   "source": [
    "df.drop(['adj_close', 'tic'], axis=1, inplace=True)\n",
    "df.columns = [\"timestamp\",\"Open\",\"High\",\"Low\",\"Close\",\"Volume\"]\n",
    "df.head()"
   ]
  },
  {
   "cell_type": "markdown",
   "id": "1d36335b",
   "metadata": {},
   "source": [
    "# Feature Engineering"
   ]
  },
  {
   "cell_type": "code",
   "execution_count": 21,
   "id": "295722df",
   "metadata": {},
   "outputs": [],
   "source": [
    "def get_features(df, row = False):\n",
    "    df_feat = df\n",
    "    df_feat['spread'] = df_feat['High'] - df_feat['Low']\n",
    "    df_feat['log_price_change'] = np.log(df_feat['Close']/df_feat['Open'])\n",
    "    df_feat['upper_Shadow'] = upper_shadow(df_feat)\n",
    "    df_feat['lower_Shadow'] = lower_shadow(df_feat)\n",
    "    df_feat[\"high_div_low\"] = df_feat[\"High\"] / df_feat[\"Low\"]\n",
    "    df_feat['trade'] = df_feat['Close'] - df_feat['Open']\n",
    "    df_feat['shadow1'] = df_feat['trade'] / df_feat['Volume']\n",
    "    df_feat['shadow3'] = df_feat['upper_Shadow'] / df_feat['Volume']\n",
    "    df_feat['shadow5'] = df_feat['lower_Shadow'] / df_feat['Volume']\n",
    "    df_feat['mean1'] = (df_feat['shadow5'] + df_feat['shadow3']) / 2\n",
    "    df_feat['mean2'] = (df_feat['shadow1'] + df_feat['Volume']) / 2\n",
    "    df_feat['UPS'] = (df_feat['High'] - np.maximum(df_feat['Close'], df_feat['Open']))\n",
    "    df_feat['UPS'] = df_feat['UPS']\n",
    "    df_feat['LOS'] = (np.minimum(df_feat['Close'], df_feat['Open']) - df_feat['Low'])\n",
    "    df_feat['LOS'] = df_feat['LOS']\n",
    "    df_feat['LOGVOL'] = np.log(1. + df_feat['Volume'])\n",
    "    df_feat['LOGVOL'] = df_feat['LOGVOL']\n",
    "    df_feat[\"Close/Open\"] = df_feat[\"Close\"] / df_feat[\"Open\"]\n",
    "    df_feat[\"Close-Open\"] = df_feat[\"Close\"] - df_feat[\"Open\"]\n",
    "    df_feat[\"High-Low\"] = df_feat[\"High\"] - df_feat[\"Low\"]\n",
    "    df_feat[\"High/Low\"] = df_feat[\"High\"] / df_feat[\"Low\"]\n",
    "    if row: df_feat['Mean'] = df_feat[['Open', 'High', 'Low', 'Close']].mean()\n",
    "    else: df_feat['Mean'] = df_feat[['Open', 'High', 'Low', 'Close']].mean(axis = 1)\n",
    "    df_feat[\"High/Mean\"] = df_feat[\"High\"] / df_feat[\"Mean\"]\n",
    "    df_feat[\"Low/Mean\"] = df_feat[\"Low\"] / df_feat[\"Mean\"]\n",
    "    mean_price = df_feat[['Open', 'High', 'Low', 'Close']].mean(axis=1)\n",
    "    median_price = df_feat[['Open', 'High', 'Low', 'Close']].median(axis=1)\n",
    "    df_feat['high2mean'] = df_feat['High'] / mean_price\n",
    "    df_feat['low2mean'] = df_feat['Low'] / mean_price\n",
    "    df_feat['high2median'] = df_feat['High'] / median_price\n",
    "    df_feat['low2median'] = df_feat['Low'] / median_price\n",
    "    return df_feat"
   ]
  },
  {
   "cell_type": "code",
   "execution_count": null,
   "id": "936154db",
   "metadata": {},
   "outputs": [],
   "source": []
  },
  {
   "cell_type": "code",
   "execution_count": null,
   "id": "0e9b9f84",
   "metadata": {},
   "outputs": [],
   "source": []
  },
  {
   "cell_type": "markdown",
   "id": "400b1385",
   "metadata": {},
   "source": [
    "# Building TS Model"
   ]
  },
  {
   "cell_type": "code",
   "execution_count": null,
   "id": "8481bdcc",
   "metadata": {},
   "outputs": [],
   "source": []
  },
  {
   "cell_type": "code",
   "execution_count": null,
   "id": "5d0b19f7",
   "metadata": {},
   "outputs": [],
   "source": []
  }
 ],
 "metadata": {
  "kernelspec": {
   "display_name": "Python 3 (ipykernel)",
   "language": "python",
   "name": "python3"
  },
  "language_info": {
   "codemirror_mode": {
    "name": "ipython",
    "version": 3
   },
   "file_extension": ".py",
   "mimetype": "text/x-python",
   "name": "python",
   "nbconvert_exporter": "python",
   "pygments_lexer": "ipython3",
   "version": "3.9.7"
  }
 },
 "nbformat": 4,
 "nbformat_minor": 5
}
