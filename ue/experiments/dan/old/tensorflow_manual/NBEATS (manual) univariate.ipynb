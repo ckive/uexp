{
 "cells": [
  {
   "cell_type": "code",
   "execution_count": 1,
   "id": "b2269a37",
   "metadata": {},
   "outputs": [],
   "source": [
    "from ue.uexp.dataprocessing.processor_binance import BinanceProcessor\n",
    "from ue.uexp.dataprocessing.func import *\n",
    "from ue.uexp.models.util import *\n",
    "import tensorflow as tf\n",
    "from tensorflow.keras import layers\n",
    "\n",
    "import pandas as pd\n",
    "import matplotlib.pyplot as plt\n",
    "\n",
    "\n",
    "import warnings\n",
    "warnings.filterwarnings('ignore')"
   ]
  },
  {
   "cell_type": "code",
   "execution_count": 2,
   "id": "58f80ee4",
   "metadata": {},
   "outputs": [],
   "source": [
    "### get data (set config params)\n",
    "ticker_list = [\"BTCUSDT\"]\n",
    "start_date = \"2021-12-20\"\n",
    "end_date = \"2021-12-31\"\n",
    "time_interval = \"1m\"\n",
    "\n",
    "p = BinanceProcessor(\"binance\")\n",
    "df = p.download_data(ticker_list, start_date, end_date, time_interval)"
   ]
  },
  {
   "cell_type": "markdown",
   "id": "43a49648",
   "metadata": {},
   "source": [
    "## Preparing data for the N-BEATS algorithm using tf.data"
   ]
  },
  {
   "cell_type": "code",
   "execution_count": 3,
   "id": "0b91a73e",
   "metadata": {},
   "outputs": [],
   "source": [
    "WINDOW_SIZE = 30\n",
    "HORIZON = 1"
   ]
  },
  {
   "cell_type": "code",
   "execution_count": 4,
   "id": "1441731d",
   "metadata": {},
   "outputs": [],
   "source": [
    "# 1 min data\n",
    "df['time'] = pd.to_datetime(df['time'])\n",
    "df.set_index('time', inplace=True)\n",
    "df = df[['close']] #working with univariate model\n"
   ]
  },
  {
   "cell_type": "code",
   "execution_count": 5,
   "id": "4e296de3",
   "metadata": {},
   "outputs": [
    {
     "data": {
      "text/html": [
       "<div>\n",
       "<style scoped>\n",
       "    .dataframe tbody tr th:only-of-type {\n",
       "        vertical-align: middle;\n",
       "    }\n",
       "\n",
       "    .dataframe tbody tr th {\n",
       "        vertical-align: top;\n",
       "    }\n",
       "\n",
       "    .dataframe thead th {\n",
       "        text-align: right;\n",
       "    }\n",
       "</style>\n",
       "<table border=\"1\" class=\"dataframe\">\n",
       "  <thead>\n",
       "    <tr style=\"text-align: right;\">\n",
       "      <th></th>\n",
       "      <th>close</th>\n",
       "    </tr>\n",
       "    <tr>\n",
       "      <th>time</th>\n",
       "      <th></th>\n",
       "    </tr>\n",
       "  </thead>\n",
       "  <tbody>\n",
       "    <tr>\n",
       "      <th>2021-12-20 00:00:00</th>\n",
       "      <td>46377.26</td>\n",
       "    </tr>\n",
       "    <tr>\n",
       "      <th>2021-12-20 00:01:00</th>\n",
       "      <td>46297.05</td>\n",
       "    </tr>\n",
       "    <tr>\n",
       "      <th>2021-12-20 00:02:00</th>\n",
       "      <td>46394.36</td>\n",
       "    </tr>\n",
       "    <tr>\n",
       "      <th>2021-12-20 00:03:00</th>\n",
       "      <td>46485.99</td>\n",
       "    </tr>\n",
       "    <tr>\n",
       "      <th>2021-12-20 00:04:00</th>\n",
       "      <td>46524.78</td>\n",
       "    </tr>\n",
       "  </tbody>\n",
       "</table>\n",
       "</div>"
      ],
      "text/plain": [
       "                        close\n",
       "time                         \n",
       "2021-12-20 00:00:00  46377.26\n",
       "2021-12-20 00:01:00  46297.05\n",
       "2021-12-20 00:02:00  46394.36\n",
       "2021-12-20 00:03:00  46485.99\n",
       "2021-12-20 00:04:00  46524.78"
      ]
     },
     "execution_count": 5,
     "metadata": {},
     "output_type": "execute_result"
    }
   ],
   "source": [
    "df.head()"
   ]
  },
  {
   "cell_type": "code",
   "execution_count": 6,
   "id": "d8a6dc41",
   "metadata": {},
   "outputs": [
    {
     "data": {
      "text/html": [
       "<div>\n",
       "<style scoped>\n",
       "    .dataframe tbody tr th:only-of-type {\n",
       "        vertical-align: middle;\n",
       "    }\n",
       "\n",
       "    .dataframe tbody tr th {\n",
       "        vertical-align: top;\n",
       "    }\n",
       "\n",
       "    .dataframe thead th {\n",
       "        text-align: right;\n",
       "    }\n",
       "</style>\n",
       "<table border=\"1\" class=\"dataframe\">\n",
       "  <thead>\n",
       "    <tr style=\"text-align: right;\">\n",
       "      <th></th>\n",
       "      <th>close</th>\n",
       "      <th>Price+1</th>\n",
       "      <th>Price+2</th>\n",
       "      <th>Price+3</th>\n",
       "      <th>Price+4</th>\n",
       "      <th>Price+5</th>\n",
       "      <th>Price+6</th>\n",
       "      <th>Price+7</th>\n",
       "      <th>Price+8</th>\n",
       "      <th>Price+9</th>\n",
       "      <th>...</th>\n",
       "      <th>Price+21</th>\n",
       "      <th>Price+22</th>\n",
       "      <th>Price+23</th>\n",
       "      <th>Price+24</th>\n",
       "      <th>Price+25</th>\n",
       "      <th>Price+26</th>\n",
       "      <th>Price+27</th>\n",
       "      <th>Price+28</th>\n",
       "      <th>Price+29</th>\n",
       "      <th>Price+30</th>\n",
       "    </tr>\n",
       "    <tr>\n",
       "      <th>time</th>\n",
       "      <th></th>\n",
       "      <th></th>\n",
       "      <th></th>\n",
       "      <th></th>\n",
       "      <th></th>\n",
       "      <th></th>\n",
       "      <th></th>\n",
       "      <th></th>\n",
       "      <th></th>\n",
       "      <th></th>\n",
       "      <th></th>\n",
       "      <th></th>\n",
       "      <th></th>\n",
       "      <th></th>\n",
       "      <th></th>\n",
       "      <th></th>\n",
       "      <th></th>\n",
       "      <th></th>\n",
       "      <th></th>\n",
       "      <th></th>\n",
       "      <th></th>\n",
       "    </tr>\n",
       "  </thead>\n",
       "  <tbody>\n",
       "    <tr>\n",
       "      <th>2021-12-20 00:30:00</th>\n",
       "      <td>46391.50</td>\n",
       "      <td>46388.68</td>\n",
       "      <td>46444.44</td>\n",
       "      <td>46487.01</td>\n",
       "      <td>46492.83</td>\n",
       "      <td>46511.57</td>\n",
       "      <td>46524.26</td>\n",
       "      <td>46586.24</td>\n",
       "      <td>46528.19</td>\n",
       "      <td>46550.00</td>\n",
       "      <td>...</td>\n",
       "      <td>46562.48</td>\n",
       "      <td>46565.28</td>\n",
       "      <td>46648.32</td>\n",
       "      <td>46541.70</td>\n",
       "      <td>46500.87</td>\n",
       "      <td>46524.78</td>\n",
       "      <td>46485.99</td>\n",
       "      <td>46394.36</td>\n",
       "      <td>46297.05</td>\n",
       "      <td>46377.26</td>\n",
       "    </tr>\n",
       "    <tr>\n",
       "      <th>2021-12-20 00:31:00</th>\n",
       "      <td>46396.01</td>\n",
       "      <td>46391.50</td>\n",
       "      <td>46388.68</td>\n",
       "      <td>46444.44</td>\n",
       "      <td>46487.01</td>\n",
       "      <td>46492.83</td>\n",
       "      <td>46511.57</td>\n",
       "      <td>46524.26</td>\n",
       "      <td>46586.24</td>\n",
       "      <td>46528.19</td>\n",
       "      <td>...</td>\n",
       "      <td>46547.50</td>\n",
       "      <td>46562.48</td>\n",
       "      <td>46565.28</td>\n",
       "      <td>46648.32</td>\n",
       "      <td>46541.70</td>\n",
       "      <td>46500.87</td>\n",
       "      <td>46524.78</td>\n",
       "      <td>46485.99</td>\n",
       "      <td>46394.36</td>\n",
       "      <td>46297.05</td>\n",
       "    </tr>\n",
       "    <tr>\n",
       "      <th>2021-12-20 00:32:00</th>\n",
       "      <td>46384.80</td>\n",
       "      <td>46396.01</td>\n",
       "      <td>46391.50</td>\n",
       "      <td>46388.68</td>\n",
       "      <td>46444.44</td>\n",
       "      <td>46487.01</td>\n",
       "      <td>46492.83</td>\n",
       "      <td>46511.57</td>\n",
       "      <td>46524.26</td>\n",
       "      <td>46586.24</td>\n",
       "      <td>...</td>\n",
       "      <td>46523.48</td>\n",
       "      <td>46547.50</td>\n",
       "      <td>46562.48</td>\n",
       "      <td>46565.28</td>\n",
       "      <td>46648.32</td>\n",
       "      <td>46541.70</td>\n",
       "      <td>46500.87</td>\n",
       "      <td>46524.78</td>\n",
       "      <td>46485.99</td>\n",
       "      <td>46394.36</td>\n",
       "    </tr>\n",
       "    <tr>\n",
       "      <th>2021-12-20 00:33:00</th>\n",
       "      <td>46426.47</td>\n",
       "      <td>46384.80</td>\n",
       "      <td>46396.01</td>\n",
       "      <td>46391.50</td>\n",
       "      <td>46388.68</td>\n",
       "      <td>46444.44</td>\n",
       "      <td>46487.01</td>\n",
       "      <td>46492.83</td>\n",
       "      <td>46511.57</td>\n",
       "      <td>46524.26</td>\n",
       "      <td>...</td>\n",
       "      <td>46540.44</td>\n",
       "      <td>46523.48</td>\n",
       "      <td>46547.50</td>\n",
       "      <td>46562.48</td>\n",
       "      <td>46565.28</td>\n",
       "      <td>46648.32</td>\n",
       "      <td>46541.70</td>\n",
       "      <td>46500.87</td>\n",
       "      <td>46524.78</td>\n",
       "      <td>46485.99</td>\n",
       "    </tr>\n",
       "    <tr>\n",
       "      <th>2021-12-20 00:34:00</th>\n",
       "      <td>46351.12</td>\n",
       "      <td>46426.47</td>\n",
       "      <td>46384.80</td>\n",
       "      <td>46396.01</td>\n",
       "      <td>46391.50</td>\n",
       "      <td>46388.68</td>\n",
       "      <td>46444.44</td>\n",
       "      <td>46487.01</td>\n",
       "      <td>46492.83</td>\n",
       "      <td>46511.57</td>\n",
       "      <td>...</td>\n",
       "      <td>46500.01</td>\n",
       "      <td>46540.44</td>\n",
       "      <td>46523.48</td>\n",
       "      <td>46547.50</td>\n",
       "      <td>46562.48</td>\n",
       "      <td>46565.28</td>\n",
       "      <td>46648.32</td>\n",
       "      <td>46541.70</td>\n",
       "      <td>46500.87</td>\n",
       "      <td>46524.78</td>\n",
       "    </tr>\n",
       "  </tbody>\n",
       "</table>\n",
       "<p>5 rows × 31 columns</p>\n",
       "</div>"
      ],
      "text/plain": [
       "                        close   Price+1   Price+2   Price+3   Price+4  \\\n",
       "time                                                                    \n",
       "2021-12-20 00:30:00  46391.50  46388.68  46444.44  46487.01  46492.83   \n",
       "2021-12-20 00:31:00  46396.01  46391.50  46388.68  46444.44  46487.01   \n",
       "2021-12-20 00:32:00  46384.80  46396.01  46391.50  46388.68  46444.44   \n",
       "2021-12-20 00:33:00  46426.47  46384.80  46396.01  46391.50  46388.68   \n",
       "2021-12-20 00:34:00  46351.12  46426.47  46384.80  46396.01  46391.50   \n",
       "\n",
       "                      Price+5   Price+6   Price+7   Price+8   Price+9  ...  \\\n",
       "time                                                                   ...   \n",
       "2021-12-20 00:30:00  46511.57  46524.26  46586.24  46528.19  46550.00  ...   \n",
       "2021-12-20 00:31:00  46492.83  46511.57  46524.26  46586.24  46528.19  ...   \n",
       "2021-12-20 00:32:00  46487.01  46492.83  46511.57  46524.26  46586.24  ...   \n",
       "2021-12-20 00:33:00  46444.44  46487.01  46492.83  46511.57  46524.26  ...   \n",
       "2021-12-20 00:34:00  46388.68  46444.44  46487.01  46492.83  46511.57  ...   \n",
       "\n",
       "                     Price+21  Price+22  Price+23  Price+24  Price+25  \\\n",
       "time                                                                    \n",
       "2021-12-20 00:30:00  46562.48  46565.28  46648.32  46541.70  46500.87   \n",
       "2021-12-20 00:31:00  46547.50  46562.48  46565.28  46648.32  46541.70   \n",
       "2021-12-20 00:32:00  46523.48  46547.50  46562.48  46565.28  46648.32   \n",
       "2021-12-20 00:33:00  46540.44  46523.48  46547.50  46562.48  46565.28   \n",
       "2021-12-20 00:34:00  46500.01  46540.44  46523.48  46547.50  46562.48   \n",
       "\n",
       "                     Price+26  Price+27  Price+28  Price+29  Price+30  \n",
       "time                                                                   \n",
       "2021-12-20 00:30:00  46524.78  46485.99  46394.36  46297.05  46377.26  \n",
       "2021-12-20 00:31:00  46500.87  46524.78  46485.99  46394.36  46297.05  \n",
       "2021-12-20 00:32:00  46541.70  46500.87  46524.78  46485.99  46394.36  \n",
       "2021-12-20 00:33:00  46648.32  46541.70  46500.87  46524.78  46485.99  \n",
       "2021-12-20 00:34:00  46565.28  46648.32  46541.70  46500.87  46524.78  \n",
       "\n",
       "[5 rows x 31 columns]"
      ]
     },
     "execution_count": 6,
     "metadata": {},
     "output_type": "execute_result"
    }
   ],
   "source": [
    "# Add windowed columns\n",
    "df_windowed = df.copy()\n",
    "for i in range(WINDOW_SIZE):\n",
    "  df_windowed[f\"Price+{i+1}\"] = df_windowed[\"close\"].shift(periods=i+1)\n",
    "df_windowed.dropna().head()"
   ]
  },
  {
   "cell_type": "code",
   "execution_count": 7,
   "id": "128aaeee",
   "metadata": {},
   "outputs": [
    {
     "data": {
      "text/plain": [
       "(6375, 6375, 1594, 1594)"
      ]
     },
     "execution_count": 7,
     "metadata": {},
     "output_type": "execute_result"
    }
   ],
   "source": [
    "# Make features and labels\n",
    "X = df_windowed.dropna().drop(\"close\", axis=1)\n",
    "y = df_windowed.dropna()[\"close\"]\n",
    "\n",
    "# Make train and test sets\n",
    "split_size = int(len(X) * 0.8)\n",
    "X_train, y_train = X[:split_size], y[:split_size]\n",
    "X_test, y_test = X[split_size:], y[split_size:]\n",
    "len(X_train), len(y_train), len(X_test), len(y_test)"
   ]
  },
  {
   "cell_type": "markdown",
   "id": "43d74fdc",
   "metadata": {},
   "source": [
    "### Now let's convert them into TensorFlow tf.data.Dataset's to ensure they run as fast as possible whilst training."
   ]
  },
  {
   "cell_type": "code",
   "execution_count": 8,
   "id": "e36c9f84",
   "metadata": {},
   "outputs": [
    {
     "name": "stderr",
     "output_type": "stream",
     "text": [
      "2022-02-03 16:58:36.194944: I tensorflow/stream_executor/cuda/cuda_gpu_executor.cc:939] successful NUMA node read from SysFS had negative value (-1), but there must be at least one NUMA node, so returning NUMA node zero\n",
      "2022-02-03 16:58:36.222140: W tensorflow/stream_executor/platform/default/dso_loader.cc:64] Could not load dynamic library 'libcusolver.so.11'; dlerror: libcusolver.so.11: cannot open shared object file: No such file or directory; LD_LIBRARY_PATH: :/usr/lib/nvidia:/home/m73/.mujoco/mujoco210/bin\n",
      "2022-02-03 16:58:36.226307: W tensorflow/core/common_runtime/gpu/gpu_device.cc:1850] Cannot dlopen some GPU libraries. Please make sure the missing libraries mentioned above are installed properly if you would like to use GPU. Follow the guide at https://www.tensorflow.org/install/gpu for how to download and setup the required libraries for your platform.\n",
      "Skipping registering GPU devices...\n",
      "2022-02-03 16:58:36.227310: I tensorflow/core/platform/cpu_feature_guard.cc:151] This TensorFlow binary is optimized with oneAPI Deep Neural Network Library (oneDNN) to use the following CPU instructions in performance-critical operations:  AVX2 FMA\n",
      "To enable them in other operations, rebuild TensorFlow with the appropriate compiler flags.\n"
     ]
    },
    {
     "data": {
      "text/plain": [
       "(<PrefetchDataset shapes: ((None, 30), (None,)), types: (tf.float64, tf.float64)>,\n",
       " <PrefetchDataset shapes: ((None, 30), (None,)), types: (tf.float64, tf.float64)>)"
      ]
     },
     "execution_count": 8,
     "metadata": {},
     "output_type": "execute_result"
    }
   ],
   "source": [
    "# 1. Turn train and test arrays into tensor Datasets\n",
    "train_features_dataset = tf.data.Dataset.from_tensor_slices(X_train)\n",
    "train_labels_dataset = tf.data.Dataset.from_tensor_slices(y_train)\n",
    "\n",
    "test_features_dataset = tf.data.Dataset.from_tensor_slices(X_test)\n",
    "test_labels_dataset = tf.data.Dataset.from_tensor_slices(y_test)\n",
    "\n",
    "# 2. Combine features & labels\n",
    "train_dataset = tf.data.Dataset.zip((train_features_dataset, train_labels_dataset))\n",
    "test_dataset = tf.data.Dataset.zip((test_features_dataset, test_labels_dataset))\n",
    "\n",
    "# 3. Batch and prefetch for optimal performance\n",
    "BATCH_SIZE = 1024 # taken from Appendix D in N-BEATS paper\n",
    "train_dataset = train_dataset.batch(BATCH_SIZE).prefetch(tf.data.AUTOTUNE)\n",
    "test_dataset = test_dataset.batch(BATCH_SIZE).prefetch(tf.data.AUTOTUNE)\n",
    "\n",
    "train_dataset, test_dataset"
   ]
  },
  {
   "cell_type": "markdown",
   "id": "a6d3ac98",
   "metadata": {},
   "source": [
    "## Setting up hyperparameters for N-BEATS algorithm\n",
    "*using Figure 1 and Table 18/Appendix D of the N-BEATS paper.*"
   ]
  },
  {
   "cell_type": "code",
   "execution_count": 16,
   "id": "1545fce5",
   "metadata": {},
   "outputs": [
    {
     "data": {
      "text/plain": [
       "(30, 31)"
      ]
     },
     "execution_count": 16,
     "metadata": {},
     "output_type": "execute_result"
    }
   ],
   "source": [
    "# Values from N-BEATS paper Figure 1 and Table 18/Appendix D\n",
    "N_EPOCHS = 100 # called \"Iterations\" in Table 18\n",
    "N_NEURONS = 512 # called \"Width\" in Table 18\n",
    "N_LAYERS = 4\n",
    "N_STACKS = 30\n",
    "\n",
    "INPUT_SIZE = WINDOW_SIZE * HORIZON # called \"Lookback\" in Table 18\n",
    "THETA_SIZE = INPUT_SIZE + HORIZON\n",
    "\n",
    "INPUT_SIZE, THETA_SIZE"
   ]
  },
  {
   "cell_type": "markdown",
   "id": "6af8c6ec",
   "metadata": {},
   "source": [
    "## Notes: Building, compiling and fitting the N-BEATS algorithm\n",
    "Okay, we've finally got all of the pieces of the puzzle ready for building and training the N-BEATS algorithm.\n",
    "\n",
    "We'll do so by going through the following:\n",
    "\n",
    "1. Setup an instance of the N-BEATS block layer using NBeatsBlock (this'll be the initial block used for the network, the rest will be created as part of stacks)\n",
    "2. Create an input layer for the N-BEATS stack (we'll be using the Keras Functional API for this)\n",
    "3. Make the initial backcast and forecasts for the model with the layer created in (1)\n",
    "4. Use a for loop to create stacks of block layers\n",
    "5. Use the NBeatsBlock class within the for loop created in (4) to create blocks which return backcasts and block-level forecasts\n",
    "6. Create the double residual stacking using subtract and add layers\n",
    "7. Put the model inputs and outputs together using tf.keras.Model()\n",
    "8. Compile the model with MAE loss (the paper uses multiple losses but we'll use MAE to keep it inline with our other models) and Adam optimizer with default settings as per section 5.2 of N-BEATS paper)\n",
    "9. Fit the N-BEATS model for 5000 epochs and since it's fitting for so many epochs, we'll use a couple of callbacks:\n",
    "- tf.keras.callbacks.EarlyStopping() - stop the model from training if it doesn't improve validation loss for 200 epochs and restore the best performing weights using restore_best_weights=True (this'll prevent the model from training for loooongggggg period of time without improvement)\n",
    "- tf.keras.callbacks.ReduceLROnPlateau() - if the model's validation loss doesn't improve for 100 epochs, reduce the learning rate by 10x to try and help it make incremental improvements (the smaller the learning rate, the smaller updates a model tries to make)"
   ]
  },
  {
   "cell_type": "code",
   "execution_count": 10,
   "id": "f27be690",
   "metadata": {},
   "outputs": [],
   "source": [
    "# 0. Defining the model\n",
    "\n",
    "# Create NBeatsBlock custom layer \n",
    "class NBeatsBlock(tf.keras.layers.Layer):\n",
    "  def __init__(self, # the constructor takes all the hyperparameters for the layer\n",
    "               input_size: int,\n",
    "               theta_size: int,\n",
    "               horizon: int,\n",
    "               n_neurons: int,\n",
    "               n_layers: int,\n",
    "               **kwargs): # the **kwargs argument takes care of all of the arguments for the parent class (input_shape, trainable, name)\n",
    "    super().__init__(**kwargs)\n",
    "    self.input_size = input_size\n",
    "    self.theta_size = theta_size\n",
    "    self.horizon = horizon\n",
    "    self.n_neurons = n_neurons\n",
    "    self.n_layers = n_layers\n",
    "\n",
    "    # Block contains stack of 4 fully connected layers each has ReLU activation\n",
    "    self.hidden = [tf.keras.layers.Dense(n_neurons, activation=\"relu\") for _ in range(n_layers)]\n",
    "    # Output of block is a theta layer with linear activation\n",
    "    self.theta_layer = tf.keras.layers.Dense(theta_size, activation=\"linear\", name=\"theta\")\n",
    "\n",
    "  def call(self, inputs): # the call method is what runs when the layer is called \n",
    "    x = inputs \n",
    "    for layer in self.hidden: # pass inputs through each hidden layer \n",
    "      x = layer(x)\n",
    "    theta = self.theta_layer(x) \n",
    "    # Output the backcast and forecast from theta\n",
    "    backcast, forecast = theta[:, :self.input_size], theta[:, -self.horizon:]\n",
    "    return backcast, forecast"
   ]
  },
  {
   "cell_type": "code",
   "execution_count": 11,
   "id": "b3755272",
   "metadata": {},
   "outputs": [],
   "source": [
    "# 1. Setup N-BEATS Block layer\n",
    "nbeats_block_layer = NBeatsBlock(input_size=INPUT_SIZE,\n",
    "                                 theta_size=THETA_SIZE,\n",
    "                                 horizon=HORIZON,\n",
    "                                 n_neurons=N_NEURONS,\n",
    "                                 n_layers=N_LAYERS,\n",
    "                                 name=\"InitialBlock\")\n"
   ]
  },
  {
   "cell_type": "code",
   "execution_count": 12,
   "id": "a3b80c48",
   "metadata": {},
   "outputs": [],
   "source": [
    "# 2. Create input to stacks\n",
    "stack_input = layers.Input(shape=(INPUT_SIZE), name=\"stack_input\")"
   ]
  },
  {
   "cell_type": "code",
   "execution_count": 13,
   "id": "f2522b2b",
   "metadata": {},
   "outputs": [],
   "source": [
    "# 3. Create initial backcast and forecast input (backwards predictions are referred to as residuals in the paper)\n",
    "backcast, forecast = nbeats_block_layer(stack_input)\n",
    "# Add in subtraction residual link, thank you to: https://github.com/mrdbourke/tensorflow-deep-learning/discussions/174 \n",
    "residuals = layers.subtract([stack_input, backcast], name=f\"subtract_00\") "
   ]
  },
  {
   "cell_type": "code",
   "execution_count": 15,
   "id": "592adf78",
   "metadata": {},
   "outputs": [],
   "source": [
    "# 4. Create stacks of blocks\n",
    "for i, _ in enumerate(range(N_STACKS-1)): # first stack is already creted in (3)\n",
    "\n",
    "  # 5. Use the NBeatsBlock to calculate the backcast as well as block forecast\n",
    "  backcast, block_forecast = NBeatsBlock(\n",
    "      input_size=INPUT_SIZE,\n",
    "      theta_size=THETA_SIZE,\n",
    "      horizon=HORIZON,\n",
    "      n_neurons=N_NEURONS,\n",
    "      n_layers=N_LAYERS,\n",
    "      name=f\"NBeatsBlock_{i}\"\n",
    "  )(residuals) # pass it in residuals (the backcast)\n",
    "\n",
    "  # 6. Create the double residual stacking\n",
    "  residuals = layers.subtract([residuals, backcast], name=f\"subtract_{i}\") \n",
    "  forecast = layers.add([forecast, block_forecast], name=f\"add_{i}\")\n"
   ]
  },
  {
   "cell_type": "code",
   "execution_count": null,
   "id": "f9e2e0cc",
   "metadata": {},
   "outputs": [],
   "source": [
    "# 7. Put the stack model together\n",
    "model_7 = tf.keras.Model(inputs=stack_input, \n",
    "                         outputs=forecast, \n",
    "                         name=\"model_7_N-BEATS\")\n",
    "\n",
    "# 8. Compile with MAE loss and Adam optimizer\n",
    "model_7.compile(loss=\"mae\",\n",
    "                optimizer=tf.keras.optimizers.Adam(0.001),\n",
    "                metrics=[\"mae\", \"mse\"])\n",
    "\n",
    "# 9. Fit the model with EarlyStopping and ReduceLROnPlateau callbacks\n",
    "model_7.fit(train_dataset,\n",
    "            epochs=N_EPOCHS,\n",
    "            validation_data=test_dataset,\n",
    "            verbose=0, # prevent large amounts of training outputs\n",
    "            # callbacks=[create_model_checkpoint(model_name=stack_model.name)] # saving model every epoch consumes far too much time\n",
    "            callbacks=[tf.keras.callbacks.EarlyStopping(monitor=\"val_loss\", patience=200, restore_best_weights=True),\n",
    "                      tf.keras.callbacks.ReduceLROnPlateau(monitor=\"val_loss\", patience=100, verbose=1)])"
   ]
  },
  {
   "cell_type": "code",
   "execution_count": null,
   "id": "326e6832",
   "metadata": {},
   "outputs": [],
   "source": []
  },
  {
   "cell_type": "code",
   "execution_count": null,
   "id": "f3504818",
   "metadata": {},
   "outputs": [],
   "source": []
  },
  {
   "cell_type": "code",
   "execution_count": null,
   "id": "670fa297",
   "metadata": {},
   "outputs": [],
   "source": []
  },
  {
   "cell_type": "code",
   "execution_count": null,
   "id": "4eed716d",
   "metadata": {},
   "outputs": [],
   "source": []
  },
  {
   "cell_type": "code",
   "execution_count": null,
   "id": "0f313b41",
   "metadata": {},
   "outputs": [],
   "source": []
  },
  {
   "cell_type": "code",
   "execution_count": null,
   "id": "71ad93e3",
   "metadata": {},
   "outputs": [],
   "source": []
  },
  {
   "cell_type": "code",
   "execution_count": null,
   "id": "c443c92d",
   "metadata": {},
   "outputs": [],
   "source": []
  },
  {
   "cell_type": "code",
   "execution_count": null,
   "id": "37688bd3",
   "metadata": {},
   "outputs": [],
   "source": []
  },
  {
   "cell_type": "code",
   "execution_count": null,
   "id": "5a09d59c",
   "metadata": {},
   "outputs": [],
   "source": []
  },
  {
   "cell_type": "code",
   "execution_count": null,
   "id": "071e1eb0",
   "metadata": {},
   "outputs": [],
   "source": []
  },
  {
   "cell_type": "code",
   "execution_count": null,
   "id": "86f24110",
   "metadata": {},
   "outputs": [],
   "source": []
  },
  {
   "cell_type": "code",
   "execution_count": null,
   "id": "fc02645b",
   "metadata": {},
   "outputs": [],
   "source": []
  },
  {
   "cell_type": "code",
   "execution_count": null,
   "id": "2fe9f354",
   "metadata": {},
   "outputs": [],
   "source": []
  },
  {
   "cell_type": "code",
   "execution_count": null,
   "id": "bdf56ae0",
   "metadata": {},
   "outputs": [],
   "source": []
  },
  {
   "cell_type": "code",
   "execution_count": null,
   "id": "0e4ceecf",
   "metadata": {},
   "outputs": [],
   "source": []
  },
  {
   "cell_type": "code",
   "execution_count": null,
   "id": "c9e1ff1a",
   "metadata": {},
   "outputs": [],
   "source": []
  },
  {
   "cell_type": "code",
   "execution_count": null,
   "id": "f00a0507",
   "metadata": {},
   "outputs": [],
   "source": []
  },
  {
   "cell_type": "code",
   "execution_count": null,
   "id": "410c3353",
   "metadata": {},
   "outputs": [],
   "source": []
  },
  {
   "cell_type": "code",
   "execution_count": null,
   "id": "dbc8b422",
   "metadata": {},
   "outputs": [],
   "source": []
  }
 ],
 "metadata": {
  "kernelspec": {
   "display_name": "Python 3 (ipykernel)",
   "language": "python",
   "name": "python3"
  },
  "language_info": {
   "codemirror_mode": {
    "name": "ipython",
    "version": 3
   },
   "file_extension": ".py",
   "mimetype": "text/x-python",
   "name": "python",
   "nbconvert_exporter": "python",
   "pygments_lexer": "ipython3",
   "version": "3.9.7"
  }
 },
 "nbformat": 4,
 "nbformat_minor": 5
}
