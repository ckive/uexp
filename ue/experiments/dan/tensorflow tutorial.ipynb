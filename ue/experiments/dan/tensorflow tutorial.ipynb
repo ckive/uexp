{
 "cells": [
  {
   "cell_type": "code",
   "execution_count": 37,
   "id": "fa0f4c34",
   "metadata": {},
   "outputs": [],
   "source": [
    "import tensorflow as tf\n",
    "import pandas as pd\n",
    "import numpy as np\n",
    "import matplotlib.pyplot as plt"
   ]
  },
  {
   "cell_type": "code",
   "execution_count": 15,
   "id": "7b14cdec",
   "metadata": {
    "scrolled": true
   },
   "outputs": [],
   "source": [
    "# from ue.uexp.dataprocessing.processor_binance import BinanceProcessor\n",
    "# ### get data (set config params)\n",
    "# ticker_list = [\"BTCUSDT\"]\n",
    "# start_date = \"2022-02-03\"\n",
    "# end_date = \"2022-02-04\"\n",
    "# time_interval = \"1s\"\n",
    "\n",
    "# p = BinanceProcessor(\"binance\")\n",
    "# df = p.download_data(ticker_list, start_date, end_date, time_interval)"
   ]
  },
  {
   "cell_type": "code",
   "execution_count": 16,
   "id": "df2d54e1",
   "metadata": {},
   "outputs": [],
   "source": [
    "def stationize(series):\n",
    "    return np.log(series / series.shift(1))"
   ]
  },
  {
   "cell_type": "code",
   "execution_count": 17,
   "id": "da109d6c",
   "metadata": {},
   "outputs": [],
   "source": [
    "# df.drop('tic', axis=1, inplace=True)\n",
    "# df['log_ret'] = stationize(df['close'])\n",
    "# df.drop([\"open\",\"high\",\"low\", \"volume\"], axis=1, inplace=True)\n",
    "# df.head()"
   ]
  },
  {
   "cell_type": "code",
   "execution_count": 18,
   "id": "f4c62c93",
   "metadata": {},
   "outputs": [],
   "source": [
    "# df.to_csv('always.csv')"
   ]
  },
  {
   "cell_type": "markdown",
   "id": "e081b980",
   "metadata": {},
   "source": [
    "### NOW WE JUST READ IN FROM CSV BRUH"
   ]
  },
  {
   "cell_type": "code",
   "execution_count": 19,
   "id": "44cd1163",
   "metadata": {},
   "outputs": [],
   "source": [
    "df = pd.read_csv('always.csv', index_col=0)"
   ]
  },
  {
   "cell_type": "code",
   "execution_count": 20,
   "id": "feb9d05b",
   "metadata": {},
   "outputs": [
    {
     "data": {
      "text/html": [
       "<div>\n",
       "<style scoped>\n",
       "    .dataframe tbody tr th:only-of-type {\n",
       "        vertical-align: middle;\n",
       "    }\n",
       "\n",
       "    .dataframe tbody tr th {\n",
       "        vertical-align: top;\n",
       "    }\n",
       "\n",
       "    .dataframe thead th {\n",
       "        text-align: right;\n",
       "    }\n",
       "</style>\n",
       "<table border=\"1\" class=\"dataframe\">\n",
       "  <thead>\n",
       "    <tr style=\"text-align: right;\">\n",
       "      <th></th>\n",
       "      <th>close</th>\n",
       "      <th>log_ret</th>\n",
       "    </tr>\n",
       "  </thead>\n",
       "  <tbody>\n",
       "    <tr>\n",
       "      <th>2022-02-03 00:00:00</th>\n",
       "      <td>36902.96</td>\n",
       "      <td>NaN</td>\n",
       "    </tr>\n",
       "    <tr>\n",
       "      <th>2022-02-03 00:00:01</th>\n",
       "      <td>36902.81</td>\n",
       "      <td>-0.000004</td>\n",
       "    </tr>\n",
       "    <tr>\n",
       "      <th>2022-02-03 00:00:02</th>\n",
       "      <td>36899.19</td>\n",
       "      <td>-0.000098</td>\n",
       "    </tr>\n",
       "    <tr>\n",
       "      <th>2022-02-03 00:00:03</th>\n",
       "      <td>36900.54</td>\n",
       "      <td>0.000037</td>\n",
       "    </tr>\n",
       "    <tr>\n",
       "      <th>2022-02-03 00:00:04</th>\n",
       "      <td>36895.62</td>\n",
       "      <td>-0.000133</td>\n",
       "    </tr>\n",
       "    <tr>\n",
       "      <th>...</th>\n",
       "      <td>...</td>\n",
       "      <td>...</td>\n",
       "    </tr>\n",
       "    <tr>\n",
       "      <th>2022-02-04 23:59:55</th>\n",
       "      <td>41545.77</td>\n",
       "      <td>-0.000261</td>\n",
       "    </tr>\n",
       "    <tr>\n",
       "      <th>2022-02-04 23:59:56</th>\n",
       "      <td>41549.21</td>\n",
       "      <td>0.000083</td>\n",
       "    </tr>\n",
       "    <tr>\n",
       "      <th>2022-02-04 23:59:57</th>\n",
       "      <td>41545.98</td>\n",
       "      <td>-0.000078</td>\n",
       "    </tr>\n",
       "    <tr>\n",
       "      <th>2022-02-04 23:59:58</th>\n",
       "      <td>41552.02</td>\n",
       "      <td>0.000145</td>\n",
       "    </tr>\n",
       "    <tr>\n",
       "      <th>2022-02-04 23:59:59</th>\n",
       "      <td>41574.25</td>\n",
       "      <td>0.000535</td>\n",
       "    </tr>\n",
       "  </tbody>\n",
       "</table>\n",
       "<p>172800 rows × 2 columns</p>\n",
       "</div>"
      ],
      "text/plain": [
       "                        close   log_ret\n",
       "2022-02-03 00:00:00  36902.96       NaN\n",
       "2022-02-03 00:00:01  36902.81 -0.000004\n",
       "2022-02-03 00:00:02  36899.19 -0.000098\n",
       "2022-02-03 00:00:03  36900.54  0.000037\n",
       "2022-02-03 00:00:04  36895.62 -0.000133\n",
       "...                       ...       ...\n",
       "2022-02-04 23:59:55  41545.77 -0.000261\n",
       "2022-02-04 23:59:56  41549.21  0.000083\n",
       "2022-02-04 23:59:57  41545.98 -0.000078\n",
       "2022-02-04 23:59:58  41552.02  0.000145\n",
       "2022-02-04 23:59:59  41574.25  0.000535\n",
       "\n",
       "[172800 rows x 2 columns]"
      ]
     },
     "execution_count": 20,
     "metadata": {},
     "output_type": "execute_result"
    }
   ],
   "source": [
    "df"
   ]
  },
  {
   "cell_type": "code",
   "execution_count": 21,
   "id": "0f44f021",
   "metadata": {},
   "outputs": [],
   "source": [
    "from ue.uexp.models.util import WindowGenerator"
   ]
  },
  {
   "cell_type": "code",
   "execution_count": 22,
   "id": "bd5a7f78",
   "metadata": {},
   "outputs": [],
   "source": [
    "a = WindowGenerator(df)"
   ]
  },
  {
   "cell_type": "code",
   "execution_count": 23,
   "id": "4e938f08",
   "metadata": {},
   "outputs": [
    {
     "data": {
      "text/plain": [
       "Total window size: 2\n",
       "Input indices: [0]\n",
       "Label indices: [1]"
      ]
     },
     "execution_count": 23,
     "metadata": {},
     "output_type": "execute_result"
    }
   ],
   "source": [
    "single_step_window = WindowGenerator(df,\n",
    "    back_window=1, forward_window=1, forward_horizon=1,\n",
    "    label_columns=['log_ret'])\n",
    "single_step_window"
   ]
  },
  {
   "cell_type": "code",
   "execution_count": 24,
   "id": "19e30b6a",
   "metadata": {},
   "outputs": [
    {
     "name": "stdout",
     "output_type": "stream",
     "text": [
      "Inputs shape (batch, time, features): (32, 1, 2)\n",
      "Labels shape (batch, time, features): (32, 1, 1)\n"
     ]
    }
   ],
   "source": [
    "for example_inputs, example_labels in single_step_window.train_ds.take(1):\n",
    "  print(f'Inputs shape (batch, time, features): {example_inputs.shape}')\n",
    "  print(f'Labels shape (batch, time, features): {example_labels.shape}')"
   ]
  },
  {
   "cell_type": "code",
   "execution_count": 25,
   "id": "4bb050e9",
   "metadata": {},
   "outputs": [
    {
     "ename": "TypeError",
     "evalue": "plot_preds() missing 1 required positional argument: 'model'",
     "output_type": "error",
     "traceback": [
      "\u001b[0;31m---------------------------------------------------------------------------\u001b[0m",
      "\u001b[0;31mTypeError\u001b[0m                                 Traceback (most recent call last)",
      "\u001b[0;32m/var/folders/nw/q8c9lcfd38qg_8hw2py9hw840000gn/T/ipykernel_2102/36145987.py\u001b[0m in \u001b[0;36m<module>\u001b[0;34m\u001b[0m\n\u001b[0;32m----> 1\u001b[0;31m \u001b[0msingle_step_window\u001b[0m\u001b[0;34m.\u001b[0m\u001b[0mplot_preds\u001b[0m\u001b[0;34m(\u001b[0m\u001b[0;34m)\u001b[0m\u001b[0;34m\u001b[0m\u001b[0;34m\u001b[0m\u001b[0m\n\u001b[0m",
      "\u001b[0;31mTypeError\u001b[0m: plot_preds() missing 1 required positional argument: 'model'"
     ]
    }
   ],
   "source": [
    "single_step_window.plot_preds()"
   ]
  },
  {
   "cell_type": "markdown",
   "id": "0b2e37c7",
   "metadata": {},
   "source": [
    "## MLP"
   ]
  },
  {
   "cell_type": "code",
   "execution_count": 26,
   "id": "80ecdd38",
   "metadata": {},
   "outputs": [
    {
     "data": {
      "text/plain": [
       "Total window size: 31\n",
       "Input indices: [ 0  1  2  3  4  5  6  7  8  9 10 11 12 13 14 15 16 17 18 19 20 21 22 23\n",
       " 24 25 26 27 28 29]\n",
       "Label indices: [ 2  3  4  5  6  7  8  9 10 11 12 13 14 15 16 17 18 19 20 21 22 23 24 25\n",
       " 26 27 28 29 30]"
      ]
     },
     "execution_count": 26,
     "metadata": {},
     "output_type": "execute_result"
    }
   ],
   "source": [
    "PAST_VIEW_WINDOW = 30\n",
    "conv_window = WindowGenerator(df, \n",
    "    back_window=PAST_VIEW_WINDOW,\n",
    "    forward_window=60,\n",
    "    forward_horizon=1,\n",
    "    label_columns=['log_ret'])\n",
    "\n",
    "conv_window"
   ]
  },
  {
   "cell_type": "code",
   "execution_count": 27,
   "id": "c7e52d7c",
   "metadata": {},
   "outputs": [],
   "source": [
    "multi_step_dense = tf.keras.Sequential([\n",
    "    # Shape: (time, features) => (time*features)\n",
    "    tf.keras.layers.Flatten(),\n",
    "    tf.keras.layers.Dense(units=32, activation='relu'),\n",
    "    tf.keras.layers.Dense(units=32, activation='relu'),\n",
    "    tf.keras.layers.Dense(units=1),\n",
    "    # Add back the time dimension.\n",
    "    # Shape: (outputs) => (1, outputs)\n",
    "    tf.keras.layers.Reshape([1, -1]),\n",
    "])"
   ]
  },
  {
   "cell_type": "code",
   "execution_count": 45,
   "id": "a8b6f041",
   "metadata": {},
   "outputs": [
    {
     "name": "stdout",
     "output_type": "stream",
     "text": [
      "Epoch 1/5\n",
      "  16/3780 [..............................] - ETA: 26s - loss: 18498.3125 - mse: 684446400.0000 - mape: 5296774.5000 - mae: 18498.3125 "
     ]
    },
    {
     "name": "stderr",
     "output_type": "stream",
     "text": [
      "2022-02-10 12:59:37.494409: I tensorflow/core/grappler/optimizers/custom_graph_optimizer_registry.cc:112] Plugin optimizer for device_type GPU is enabled.\n"
     ]
    },
    {
     "name": "stdout",
     "output_type": "stream",
     "text": [
      "3780/3780 [==============================] - ETA: 0s - loss: 18502.9004 - mse: 684798912.0000 - mape: 4794059.0000 - mae: 18502.9004"
     ]
    },
    {
     "name": "stderr",
     "output_type": "stream",
     "text": [
      "2022-02-10 13:00:01.011814: I tensorflow/core/grappler/optimizers/custom_graph_optimizer_registry.cc:112] Plugin optimizer for device_type GPU is enabled.\n"
     ]
    },
    {
     "name": "stdout",
     "output_type": "stream",
     "text": [
      "3780/3780 [==============================] - 27s 7ms/step - loss: 18502.9004 - mse: 684798912.0000 - mape: 4794059.0000 - mae: 18502.9004 - val_loss: 19398.7559 - val_mse: 753273920.0000 - val_mape: 3758710.2500 - val_mae: 19398.7559\n",
      "Epoch 2/5\n",
      "3780/3780 [==============================] - 27s 7ms/step - loss: 18502.9277 - mse: 684800000.0000 - mape: 4794059.0000 - mae: 18502.9277 - val_loss: 19398.7598 - val_mse: 753273216.0000 - val_mape: 3758714.5000 - val_mae: 19398.7598\n",
      "Epoch 3/5\n",
      "3780/3780 [==============================] - 27s 7ms/step - loss: 18502.9336 - mse: 684799232.0000 - mape: 4794059.0000 - mae: 18502.9336 - val_loss: 19398.7637 - val_mse: 753273856.0000 - val_mape: 3758716.0000 - val_mae: 19398.7637\n"
     ]
    }
   ],
   "source": [
    "#compile and fit\n",
    "MAX_EPOCHS = 5\n",
    "early_stopping = tf.keras.callbacks.EarlyStopping(monitor='val_loss',\n",
    "                                                    patience=2,\n",
    "                                                    mode='min')\n",
    "\n",
    "multi_step_dense.compile(loss=\"mae\",\n",
    "            optimizer=tf.optimizers.Adam(),\n",
    "            metrics=['mse','mape','mae'])\n",
    "\n",
    "history = multi_step_dense.fit(a.train_ds, epochs=MAX_EPOCHS,\n",
    "                      validation_data=a.val_ds,\n",
    "                      callbacks=[early_stopping])"
   ]
  },
  {
   "cell_type": "code",
   "execution_count": 46,
   "id": "c94275ac",
   "metadata": {},
   "outputs": [
    {
     "name": "stderr",
     "output_type": "stream",
     "text": [
      "2022-02-10 13:01:53.643470: I tensorflow/core/grappler/optimizers/custom_graph_optimizer_registry.cc:112] Plugin optimizer for device_type GPU is enabled.\n"
     ]
    }
   ],
   "source": [
    "preds = multi_step_dense.predict(a.test_ds)"
   ]
  },
  {
   "cell_type": "code",
   "execution_count": 63,
   "id": "de4d206a",
   "metadata": {
    "scrolled": false
   },
   "outputs": [
    {
     "data": {
      "text/plain": [
       "<AxesSubplot:>"
      ]
     },
     "execution_count": 63,
     "metadata": {},
     "output_type": "execute_result"
    },
    {
     "data": {
      "image/png": "[encoded data removed]",
      "text/plain": [
       "<Figure size 432x288 with 1 Axes>"
      ]
     },
     "metadata": {
      "needs_background": "light"
     },
     "output_type": "display_data"
    }
   ],
   "source": [
    "a.test_df['log_ret'].hist()"
   ]
  },
  {
   "cell_type": "code",
   "execution_count": 49,
   "id": "066a78b4",
   "metadata": {},
   "outputs": [
    {
     "data": {
      "text/plain": [
       "array([[[0.02937706]],\n",
       "\n",
       "       [[0.02937706]],\n",
       "\n",
       "       [[0.02937706]],\n",
       "\n",
       "       ...,\n",
       "\n",
       "       [[0.02937706]],\n",
       "\n",
       "       [[0.02937706]],\n",
       "\n",
       "       [[0.02937706]]], dtype=float32)"
      ]
     },
     "execution_count": 49,
     "metadata": {},
     "output_type": "execute_result"
    }
   ],
   "source": [
    "preds"
   ]
  },
  {
   "cell_type": "code",
   "execution_count": 47,
   "id": "dfe90b89",
   "metadata": {},
   "outputs": [
    {
     "data": {
      "text/plain": [
       "(17250, 1, 1)"
      ]
     },
     "execution_count": 47,
     "metadata": {},
     "output_type": "execute_result"
    }
   ],
   "source": [
    "preds.shape"
   ]
  },
  {
   "cell_type": "code",
   "execution_count": 35,
   "id": "5a9fb325",
   "metadata": {},
   "outputs": [
    {
     "data": {
      "text/plain": [
       "540"
      ]
     },
     "execution_count": 35,
     "metadata": {},
     "output_type": "execute_result"
    }
   ],
   "source": [
    "len(a.test_ds)"
   ]
  },
  {
   "cell_type": "code",
   "execution_count": 48,
   "id": "24285ef5",
   "metadata": {},
   "outputs": [
    {
     "data": {
      "text/plain": [
       "[<matplotlib.lines.Line2D at 0x2a8b67eb0>]"
      ]
     },
     "execution_count": 48,
     "metadata": {},
     "output_type": "execute_result"
    },
    {
     "data": {
      "image/png": "[encoded data removed]",
      "text/plain": [
       "<Figure size 432x288 with 1 Axes>"
      ]
     },
     "metadata": {
      "needs_background": "light"
     },
     "output_type": "display_data"
    }
   ],
   "source": [
    "plt.plot(np.ravel(preds))"
   ]
  },
  {
   "cell_type": "code",
   "execution_count": null,
   "id": "a6b8ab7f",
   "metadata": {},
   "outputs": [],
   "source": []
  },
  {
   "cell_type": "code",
   "execution_count": null,
   "id": "f00ec758",
   "metadata": {},
   "outputs": [],
   "source": []
  },
  {
   "cell_type": "code",
   "execution_count": null,
   "id": "d11b3faf",
   "metadata": {},
   "outputs": [],
   "source": []
  },
  {
   "cell_type": "code",
   "execution_count": null,
   "id": "4c95fdf6",
   "metadata": {},
   "outputs": [],
   "source": []
  },
  {
   "cell_type": "code",
   "execution_count": null,
   "id": "275d95ed",
   "metadata": {},
   "outputs": [],
   "source": []
  },
  {
   "cell_type": "code",
   "execution_count": 13,
   "id": "90630737",
   "metadata": {},
   "outputs": [
    {
     "ename": "AttributeError",
     "evalue": "'WindowGenerator' object has no attribute 'plot'",
     "output_type": "error",
     "traceback": [
      "\u001b[0;31m---------------------------------------------------------------------------\u001b[0m",
      "\u001b[0;31mAttributeError\u001b[0m                            Traceback (most recent call last)",
      "\u001b[0;32m/var/folders/nw/q8c9lcfd38qg_8hw2py9hw840000gn/T/ipykernel_22838/743436654.py\u001b[0m in \u001b[0;36m<module>\u001b[0;34m\u001b[0m\n\u001b[0;32m----> 1\u001b[0;31m \u001b[0mconv_window\u001b[0m\u001b[0;34m.\u001b[0m\u001b[0mplot\u001b[0m\u001b[0;34m(\u001b[0m\u001b[0;34m)\u001b[0m\u001b[0;34m\u001b[0m\u001b[0;34m\u001b[0m\u001b[0m\n\u001b[0m",
      "\u001b[0;31mAttributeError\u001b[0m: 'WindowGenerator' object has no attribute 'plot'"
     ]
    }
   ],
   "source": [
    "PAST_VIEW_WINDOW = 30\n",
    "prof_window = WindowGenerator(df, \n",
    "    back_window=PAST_VIEW_WINDOW,\n",
    "    forward_window=60,\n",
    "    forward_horizon=1,\n",
    "    label_columns=['log_ret'])\n",
    "\n",
    "conv_window"
   ]
  },
  {
   "cell_type": "code",
   "execution_count": null,
   "id": "181f3ba3",
   "metadata": {},
   "outputs": [],
   "source": []
  },
  {
   "cell_type": "code",
   "execution_count": null,
   "id": "0df0676f",
   "metadata": {},
   "outputs": [],
   "source": []
  },
  {
   "cell_type": "code",
   "execution_count": null,
   "id": "e1106564",
   "metadata": {},
   "outputs": [],
   "source": [
    "class Baseline(tf.keras.Model):\n",
    "  def __init__(self, label_index=None):\n",
    "    super().__init__()\n",
    "    self.label_index = label_index\n",
    "\n",
    "  def call(self, inputs):\n",
    "    if self.label_index is None:\n",
    "      return inputs\n",
    "    result = inputs[:, :, self.label_index]\n",
    "    return result[:, :, tf.newaxis]"
   ]
  },
  {
   "cell_type": "code",
   "execution_count": null,
   "id": "efed064a",
   "metadata": {},
   "outputs": [],
   "source": [
    "baseline = Baseline(label_index=df['log_ret'])\n",
    "\n",
    "baseline.compile(loss=tf.losses.MeanSquaredError(),\n",
    "                 metrics=[tf.metrics.MeanAbsoluteError()])\n",
    "\n",
    "val_performance = {}\n",
    "performance = {}\n",
    "val_performance['Baseline'] = baseline.evaluate(single_step_window.val_ds)\n",
    "performance['Baseline'] = baseline.evaluate(single_step_window.test_ds, verbose=0)"
   ]
  },
  {
   "cell_type": "markdown",
   "id": "58a5efca",
   "metadata": {},
   "source": [
    "The WindowGenerator has a plot method, but the plots won't be very interesting with only a single sample.\n",
    "\n",
    "So, create **a wider WindowGenerator that generates windows 24 hours of consecutive inputs and labels at a time**. The new wide_window variable doesn't change the way the model operates. The model still makes predictions one hour into the future based on a single input time step. Here, the time axis acts like the batch axis: each prediction is made independently with no interaction between time steps:"
   ]
  },
  {
   "cell_type": "code",
   "execution_count": null,
   "id": "b0fdb3b3",
   "metadata": {},
   "outputs": [],
   "source": [
    "wide_window = WindowGenerator(df,\n",
    "    back_window=24, forward_window=24, forward_horizon=1,\n",
    "    label_columns=['log_ret'])\n",
    "\n",
    "wide_window"
   ]
  },
  {
   "cell_type": "code",
   "execution_count": null,
   "id": "399d586d",
   "metadata": {},
   "outputs": [],
   "source": [
    "wide_window.plot(baseline)"
   ]
  },
  {
   "cell_type": "code",
   "execution_count": null,
   "id": "0d7512e8",
   "metadata": {},
   "outputs": [],
   "source": []
  }
 ],
 "metadata": {
  "kernelspec": {
   "display_name": "Python 3 (ipykernel)",
   "language": "python",
   "name": "python3"
  },
  "language_info": {
   "codemirror_mode": {
    "name": "ipython",
    "version": 3
   },
   "file_extension": ".py",
   "mimetype": "text/x-python",
   "name": "python",
   "nbconvert_exporter": "python",
   "pygments_lexer": "ipython3",
   "version": "3.9.7"
  }
 },
 "nbformat": 4,
 "nbformat_minor": 5
}
